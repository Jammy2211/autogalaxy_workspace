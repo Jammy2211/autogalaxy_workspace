{
 "cells": [
  {
   "cell_type": "markdown",
   "metadata": {},
   "source": [
    "PyAutoGalaxy\n",
    "============\n",
    "\n",
    "This notebook is the starting point for all new **PyAutoGalaxy** users!\n",
    "\n",
    "**PyAutoGalaxy** is software for analysing the morphologies and structures of galaxies:\n",
    "\n",
    "![HST Image](https://raw.githubusercontent.com/Jammy2211/PyAutoGalaxy/main/paper/hstcombined.png)\n",
    "\n",
    "**PyAutoGalaxy** has three core aims:\n",
    "\n",
    "- **Model Complexity**: Fitting complex galaxy morphology models (e.g. Multi Gaussian Expansion, Shapelets, Ellipse Fitting, Irregular Meshes) that go beyond just simple Sersic fitting (which is supported too!).\n",
    "\n",
    "- **Data Variety**: Support for many data types (e.g. CCD imaging, interferometry, multi-band imaging) which can be fitted independently or simultaneously.\n",
    "\n",
    "- **Big Data**: Scaling automated analysis to extremely large datasets, using tools like an SQL database to build a scalable scientific workflow.\n",
    "\n",
    "This notebook gives an overview of **PyAutoGalaxy**'s API, core features and details of the autogalaxy_workspace.\n",
    "\n",
    "__Imports__\n",
    "\n",
    "Lets first import autogalaxy, its plotting module and the other libraries we'll need.\n",
    "\n",
    "You'll see these imports in the majority of workspace examples."
   ]
  },
  {
   "cell_type": "code",
   "execution_count": 1,
   "metadata": {
    "pycharm": {
     "is_executing": true
    }
   },
   "outputs": [
    {
     "name": "stdout",
     "output_type": "stream",
     "text": [
      "The history saving thread hit an unexpected error (DatabaseError('database disk image is malformed')).History will not be written to the database.\n"
     ]
    },
    {
     "name": "stderr",
     "output_type": "stream",
     "text": [
      "/home/jammy/venvs/PyAuto/lib/python3.10/site-packages/numpy/core/getlimits.py:542: UserWarning: Signature b'\\x00\\xd0\\xcc\\xcc\\xcc\\xcc\\xcc\\xcc\\xfb\\xbf\\x00\\x00\\x00\\x00\\x00\\x00' for <class 'numpy.longdouble'> does not match any known type: falling back to type probe function.\n",
      "This warnings indicates broken support for the dtype!\n",
      "  machar = _get_machar(dtype)\n"
     ]
    }
   ],
   "source": [
    "%matplotlib inline\n",
    "\n",
    "import autogalaxy as ag\n",
    "import autogalaxy.plot as aplt\n",
    "\n",
    "import matplotlib.pyplot as plt\n",
    "from os import path"
   ]
  },
  {
   "cell_type": "markdown",
   "metadata": {},
   "source": [
    "Lets illustrate a simple galaxy structure calculations creating an an image of a galaxy using a light profile.\n",
    "\n",
    "__Grid__\n",
    "\n",
    "The emission of light from a galaxy is described using the `Grid2D` data structure, which is two-dimensional\n",
    "Cartesian grids of (y,x) coordinates where the light profile of the galaxy is evaluated on the grid.\n",
    "\n",
    "We make and plot a uniform Cartesian grid:"
   ]
  },
  {
   "cell_type": "code",
   "execution_count": 2,
   "metadata": {},
   "outputs": [],
   "source": [
    "grid = ag.Grid2D.uniform(\n",
    "    shape_native=(150, 150),  # The [pixels x pixels] shape of the grid in 2D.\n",
    "    pixel_scales=0.05,  # The pixel-scale describes the conversion from pixel units to arc-seconds.\n",
    ")\n",
    "\n",
    "grid_plotter = aplt.Grid2DPlotter(grid=grid)\n",
    "grid_plotter.figure_2d()"
   ]
  },
  {
   "cell_type": "markdown",
   "metadata": {},
   "source": [
    "__Light Profiles__\n",
    "\n",
    "Our aim is to create an image of the morphological structures that make up a galaxy.\n",
    "\n",
    "This uses analytic functions representing a galaxy's light, referred to as `LightProfile` objects. \n",
    "\n",
    "The most common light profile in Astronomy is the elliptical Sersic, which we create an instance of below:"
   ]
  },
  {
   "cell_type": "code",
   "execution_count": 3,
   "metadata": {},
   "outputs": [],
   "source": [
    "sersic_light_profile = ag.lp.Sersic(\n",
    "    centre=(0.0, 0.0),  # The light profile centre [units of arc-seconds].\n",
    "    ell_comps=(\n",
    "        0.2,\n",
    "        0.1,\n",
    "    ),  # The light profile elliptical components [can be converted to axis-ratio and position angle].\n",
    "    intensity=0.005,  # The overall intensity normalisation [units arbitrary and are matched to the data].\n",
    "    effective_radius=2.0,  # The effective radius containing half the profile's total luminosity [units of arc-seconds].\n",
    "    sersic_index=4.0,  # Describes the profile's shape [higher value -> more concentrated profile].\n",
    ")"
   ]
  },
  {
   "cell_type": "markdown",
   "metadata": {},
   "source": [
    "By passing the light profile the `grid`, we evaluate the light emitted at every (y,x) coordinate and therefore create \n",
    "an image of the Sersic light profile."
   ]
  },
  {
   "cell_type": "code",
   "execution_count": null,
   "metadata": {},
   "outputs": [],
   "source": [
    "image = sersic_light_profile.image_2d_from(grid=grid)\n",
    "\n",
    "plt.imshow(image.native)  # Dont worry about the use of .native for now."
   ]
  },
  {
   "cell_type": "markdown",
   "metadata": {},
   "source": [
    "__Plotting__\n",
    "\n",
    "The **PyAutoGalaxy** in-built plot module provides methods for plotting objects and their properties, like the image of\n",
    "a light profile we just created.\n",
    "\n",
    "By using a `LightProfilePlotter` to plot the light profile's image, the figured is improved. \n",
    "\n",
    "Its axis units are scaled to arc-seconds, a color-bar is added, its given a descriptive labels, etc.\n",
    "\n",
    "The plot module is highly customizable and designed to make it straight forward to create clean and informative figures\n",
    "for fits to large datasets."
   ]
  },
  {
   "cell_type": "code",
   "execution_count": null,
   "metadata": {},
   "outputs": [],
   "source": [
    "light_profile_plotter = aplt.LightProfilePlotter(\n",
    "    light_profile=sersic_light_profile, grid=grid\n",
    ")\n",
    "light_profile_plotter.figures_2d(image=True)"
   ]
  },
  {
   "cell_type": "markdown",
   "metadata": {},
   "source": [
    "__Galaxy__\n",
    "\n",
    "A `Galaxy` object is a collection of light profiles at a specific redshift.\n",
    "\n",
    "This object is highly extensible and is what ultimately allows us to fit complex models to galaxy images.\n",
    "\n",
    "Below, we combine the Sersic light profile above with an Exponential light profile to create a galaxy containing both\n",
    "a bulge and disk component."
   ]
  },
  {
   "cell_type": "code",
   "execution_count": null,
   "metadata": {},
   "outputs": [],
   "source": [
    "exponential_light_profile = ag.lp.Exponential(\n",
    "    centre=(0.0, 0.0), ell_comps=(0.1, 0.0), intensity=0.1, effective_radius=0.5\n",
    ")\n",
    "\n",
    "galaxy = ag.Galaxy(\n",
    "    redshift=0.5, bulge=sersic_light_profile, disk=exponential_light_profile\n",
    ")"
   ]
  },
  {
   "cell_type": "markdown",
   "metadata": {},
   "source": [
    "The `GalaxyPlotter` object plots the image of the galaxy, which is the sum of its bulge and disk light profiles."
   ]
  },
  {
   "cell_type": "code",
   "execution_count": null,
   "metadata": {},
   "outputs": [],
   "source": [
    "galaxy_plotter = aplt.GalaxyPlotter(galaxy=galaxy, grid=grid)\n",
    "galaxy_plotter.figures_2d(image=True)"
   ]
  },
  {
   "cell_type": "markdown",
   "metadata": {},
   "source": [
    "One example of the plotter's customizability is the ability to plot the individual light profiles of the galaxy\n",
    "on a subplot."
   ]
  },
  {
   "cell_type": "code",
   "execution_count": null,
   "metadata": {},
   "outputs": [],
   "source": [
    "galaxy_plotter.subplot_of_light_profiles(image=True)"
   ]
  },
  {
   "cell_type": "markdown",
   "metadata": {},
   "source": [
    "__Galaxies__\n",
    "\n",
    "The `Galaxies` object is a collection of galaxies at the same redshift.\n",
    "\n",
    "In a moment, we will see it is integral to the model-fitting API. \n",
    "\n",
    "For now, lets use it to create an image of a pair of merging galaxies, noting that a more concise API for creating\n",
    "the galaxy is used below where the `Sersic` is passed directly to the `Galaxy` object."
   ]
  },
  {
   "cell_type": "code",
   "execution_count": null,
   "metadata": {},
   "outputs": [],
   "source": [
    "galaxy_1 = ag.Galaxy(\n",
    "    redshift=0.5,\n",
    "    bulge=ag.lp.Sersic(\n",
    "        centre=(0.5, 0.2), intensity=1.0, effective_radius=1.0, sersic_index=2.0\n",
    "    ),\n",
    ")\n",
    "\n",
    "galaxies = ag.Galaxies(\n",
    "    galaxies=[galaxy, galaxy_1],\n",
    ")\n",
    "\n",
    "galaxies_plotter = aplt.GalaxiesPlotter(galaxies=galaxies, grid=grid)\n",
    "galaxies_plotter.figures_2d(image=True)"
   ]
  },
  {
   "cell_type": "markdown",
   "metadata": {},
   "source": [
    "__Extensibility__\n",
    "\n",
    "All of the objects we've introduced so far are highly extensible, for example a galaxy can be made up of any number of\n",
    "light profiles and many galaxy objects can be combined into a galaxies object.\n",
    "\n",
    "To further illustrate this, we create a merging galaxy system with 4 star forming clumps of light, using a \n",
    "`SersicSph` profile to make each spherical."
   ]
  },
  {
   "cell_type": "code",
   "execution_count": null,
   "metadata": {},
   "outputs": [],
   "source": [
    "galaxy_0 = ag.Galaxy(\n",
    "    redshift=0.5,\n",
    "    bulge=ag.lp.Sersic(\n",
    "        centre=(0.0, 0.0),\n",
    "        ell_comps=ag.convert.ell_comps_from(axis_ratio=0.9, angle=45.0),\n",
    "        intensity=0.2,\n",
    "        effective_radius=0.8,\n",
    "        sersic_index=4.0,\n",
    "    ),\n",
    "    disk=ag.lp.Exponential(\n",
    "        centre=(0.0, 0.0),\n",
    "        ell_comps=ag.convert.ell_comps_from(axis_ratio=0.7, angle=30.0),\n",
    "        intensity=0.1,\n",
    "        effective_radius=1.6,\n",
    "    ),\n",
    "    extra_galaxy_0=ag.lp.SersicSph(centre=(1.0, 1.0), intensity=0.5, effective_radius=0.2),\n",
    "    extra_galaxy_1=ag.lp.SersicSph(centre=(0.5, 0.8), intensity=0.5, effective_radius=0.2),\n",
    "    extra_galaxy_2=ag.lp.SersicSph(centre=(-1.0, -0.7), intensity=0.5, effective_radius=0.2),\n",
    "    extra_galaxy_3=ag.lp.SersicSph(centre=(-1.0, 0.4), intensity=0.5, effective_radius=0.2),\n",
    ")\n",
    "\n",
    "galaxy_1 = ag.Galaxy(\n",
    "    redshift=0.5,\n",
    "    bulge=ag.lp.Sersic(\n",
    "        centre=(0.0, 1.0),\n",
    "        ell_comps=(0.0, 0.1),\n",
    "        intensity=0.1,\n",
    "        effective_radius=0.6,\n",
    "        sersic_index=3.0,\n",
    "    ),\n",
    ")\n",
    "\n",
    "galaxies = ag.Galaxies(galaxies=[galaxy_0, galaxy_1])\n",
    "\n",
    "galaxies_plotter = aplt.GalaxiesPlotter(galaxies=galaxies, grid=grid)\n",
    "galaxies_plotter.figures_2d(image=True)"
   ]
  },
  {
   "cell_type": "markdown",
   "metadata": {},
   "source": [
    "__Simulating Data__\n",
    "\n",
    "The galaxy images above are **not** what we would observe if we looked at the sky through a telescope.\n",
    "\n",
    "In reality, images of galaxies are observed using a telescope and detector, for example a CCD Imaging device attached\n",
    "to the Hubble Space Telescope.\n",
    "\n",
    "To make images that look like realistic Astronomy data, we must account for the effects like how the length of the\n",
    "exposure time change the signal-to-noise, how the optics of the telescope blur the galaxy's light and that\n",
    "there is a background sky which also contributes light to the image and adds noise.\n",
    "\n",
    "The `SimulatorImaging` object simulates this process, creating realistic CCD images of galaxies using the `Imaging`\n",
    "object."
   ]
  },
  {
   "cell_type": "code",
   "execution_count": null,
   "metadata": {},
   "outputs": [],
   "source": [
    "simulator = ag.SimulatorImaging(\n",
    "    exposure_time=300.0,\n",
    "    background_sky_level=1.0,\n",
    "    psf=ag.Kernel2D.from_gaussian(shape_native=(11, 11), sigma=0.1, pixel_scales=0.05),\n",
    "    add_poisson_noise=True,\n",
    ")"
   ]
  },
  {
   "cell_type": "markdown",
   "metadata": {},
   "source": [
    "Once we have a simulator, we can use it to create an imaging dataset which consists of an image, noise-map and \n",
    "Point Spread Function (PSF) by passing it a galaxies and grid.\n",
    "\n",
    "This uses the galaxies above to create the image of the galaxy and then add the effects that occur during data\n",
    "acquisition.\n",
    "\n",
    "This data is used below to illustrate model-fitting, so lets simulate a very simple image of a galaxy using\n",
    "just a single Sersic light profile."
   ]
  },
  {
   "cell_type": "code",
   "execution_count": null,
   "metadata": {},
   "outputs": [],
   "source": [
    "galaxies = ag.Galaxies(\n",
    "    galaxies=[\n",
    "        ag.Galaxy(\n",
    "            redshift=0.5,\n",
    "            bulge=ag.lp.Sersic(\n",
    "                centre=(0.0, 0.0),\n",
    "                ell_comps=(0.1, 0.2),\n",
    "                intensity=1.0,\n",
    "                effective_radius=0.8,\n",
    "                sersic_index=2.0,\n",
    "            ),\n",
    "        )\n",
    "    ]\n",
    ")\n",
    "\n",
    "dataset = simulator.via_galaxies_from(galaxies=galaxies, grid=grid)"
   ]
  },
  {
   "cell_type": "markdown",
   "metadata": {},
   "source": [
    "__Observed Dataset__\n",
    "\n",
    "We now have an `Imaging` object, which is a realistic representation of the data we observe with a telescope.\n",
    "\n",
    "We use the `ImagingPlotter` to plot the dataset, showing that it contains the observed image, but also other\n",
    "import dataset attributes like the noise-map and PSF."
   ]
  },
  {
   "cell_type": "code",
   "execution_count": null,
   "metadata": {},
   "outputs": [],
   "source": [
    "dataset_plotter = aplt.ImagingPlotter(dataset=dataset)\n",
    "dataset_plotter.figures_2d(data=True)"
   ]
  },
  {
   "cell_type": "markdown",
   "metadata": {},
   "source": [
    "If you have come to **PyAutoGalaxy** to perform interferometry, the API above is easily adapted to use \n",
    "a `SimulatorInterferometer` object to simulate an `Interferometer` dataset instead.\n",
    "\n",
    "However, you should finish reading this notebook before moving on to the interferometry examples, to get a full\n",
    "overview of the core **PyAutoGalaxy** API.\n",
    "\n",
    "__Masking__\n",
    "\n",
    "We are about to fit the data with a model, but first must define a mask, which defines the regions of the image that \n",
    "are used to fit the data and which regions are not.\n",
    "\n",
    "We create a `Mask2D` object which is a 3.0\" circle, whereby all pixels within this 3.0\" circle are used in the \n",
    "model-fit and all pixels outside are omitted. \n",
    "\n",
    "Inspection of the dataset above shows that no signal from the galaxy is observed outside of this radius, so this is a \n",
    "sensible mask."
   ]
  },
  {
   "cell_type": "code",
   "execution_count": null,
   "metadata": {},
   "outputs": [],
   "source": [
    "mask = ag.Mask2D.circular(\n",
    "    shape_native=dataset.shape_native,  # The mask's shape must match the dataset's to be applied to it.\n",
    "    pixel_scales=dataset.pixel_scales,  # It must also have the same pixel scales.\n",
    "    radius=3.0,  # The mask's circular radius [units of arc-seconds].\n",
    ")"
   ]
  },
  {
   "cell_type": "markdown",
   "metadata": {},
   "source": [
    "Combine the imaging dataset with the mask."
   ]
  },
  {
   "cell_type": "code",
   "execution_count": null,
   "metadata": {},
   "outputs": [],
   "source": [
    "dataset = dataset.apply_mask(mask=mask)"
   ]
  },
  {
   "cell_type": "markdown",
   "metadata": {},
   "source": [
    "When we plot a masked dataset, the removed regions of the image (e.g. outside the 3.0\") are automatically set to zero\n",
    "and the plot axis automatically zooms in around the mask."
   ]
  },
  {
   "cell_type": "code",
   "execution_count": null,
   "metadata": {},
   "outputs": [],
   "source": [
    "dataset_plotter = aplt.ImagingPlotter(dataset=dataset)\n",
    "dataset_plotter.figures_2d(data=True)"
   ]
  },
  {
   "cell_type": "markdown",
   "metadata": {},
   "source": [
    "__Fitting__\n",
    "\n",
    "We are now at the point a scientist would be after observing a galaxy - we have an image of it, have used to a mask to \n",
    "determine where we observe signal from the galaxy, but cannot make any quantitative statements about its morphology.\n",
    "\n",
    "We therefore must now fit a model to the data. This model is a representation of the galaxy's light, and we seek a way\n",
    "to determine whether a given model provides a good fit to the data.\n",
    "\n",
    "A fit is performing using a `FitImaging` object, which takes a dataset and galaxies object as input and determine if \n",
    "the galaxies are a good fit to the data."
   ]
  },
  {
   "cell_type": "code",
   "execution_count": null,
   "metadata": {},
   "outputs": [],
   "source": [
    "fit = ag.FitImaging(dataset=dataset, galaxies=galaxies)"
   ]
  },
  {
   "cell_type": "markdown",
   "metadata": {},
   "source": [
    "The fit creates `model_data`, which is the image of the galaxy including effects which change its appearance\n",
    "during data acquisition.\n",
    "\n",
    "For example, by plotting the fit's `model_data` and comparing it to the image of the galaxies obtained via\n",
    "the `GalaxiesPlotter`, we can see the model data has been blurred by the dataset's PSF."
   ]
  },
  {
   "cell_type": "code",
   "execution_count": null,
   "metadata": {},
   "outputs": [],
   "source": [
    "galaxies_plotter = aplt.GalaxiesPlotter(galaxies=fit.galaxies, grid=grid)\n",
    "galaxies_plotter.figures_2d(image=True)\n",
    "\n",
    "fit_plotter = aplt.FitImagingPlotter(fit=fit)\n",
    "fit_plotter.figures_2d(model_image=True)"
   ]
  },
  {
   "cell_type": "markdown",
   "metadata": {},
   "source": [
    "The fit also creates the following:\n",
    "\n",
    " - The `residual_map`: The `model_image` subtracted from the observed dataset`s `image`.\n",
    " - The `normalized_residual_map`: The `residual_map `divided by the observed dataset's `noise_map`.\n",
    " - The `chi_squared_map`: The `normalized_residual_map` squared.\n",
    " \n",
    "We can plot all 3 of these on a subplot that also includes the data, signal-to-noise map and model data.\n",
    "\n",
    "In this example, the galaxies used to simulate the data are used to fit it, thus the fit is good and residuals are minimized."
   ]
  },
  {
   "cell_type": "code",
   "execution_count": null,
   "metadata": {},
   "outputs": [],
   "source": [
    "fit_plotter.subplot_fit()"
   ]
  },
  {
   "cell_type": "markdown",
   "metadata": {},
   "source": [
    "The overall quality of the fit is quantified with the `log_likelihood`."
   ]
  },
  {
   "cell_type": "code",
   "execution_count": null,
   "metadata": {},
   "outputs": [],
   "source": [
    "print(fit.log_likelihood)"
   ]
  },
  {
   "cell_type": "markdown",
   "metadata": {},
   "source": [
    "If you are familiar with statistical analysis, this quick run-through of the fitting tools will make sense and you\n",
    "will be familiar with concepts like model data, residuals and a likelihood. \n",
    "\n",
    "If you are less familiar with these concepts, I recommend you finish this notebook and then go to the fitting API\n",
    "guide, which explains the concepts in more detail and provides a more thorough overview of the fitting tools.\n",
    "\n",
    "The take home point is that **PyAutoGalaxy**'s API has extensive tools for fitting models to data and visualizing the\n",
    "results, which is what makes it a powerful tool for studying the morphologies of galaxies.\n",
    "\n",
    "__Modeling__\n",
    "\n",
    "The fitting tools above are used to fit a model to the data given an input set of galaxies. Above, we used the true\n",
    "galaxies used to simulate the data to fit the data, but we do not know what this \"truth\" is in the real world and \n",
    "is therefore not something a real scientist can do.\n",
    "\n",
    "Modeling is the processing of taking a dataset and inferring the model that best fits the data, for example\n",
    "the galaxy light profile(s) that best fits the light observed in the data or equivalently the combination\n",
    "of Sersic profile parameters that maximize the likelihood of the fit.\n",
    "\n",
    "Galaxy modeling uses the probabilistic programming language **PyAutoFit**, an open-source project that allows complex \n",
    "model fitting techniques to be straightforwardly integrated into scientific modeling software. Check it out if you \n",
    "are interested in developing your own software to perform advanced model-fitting:\n",
    "\n",
    "https://github.com/rhayes777/PyAutoFit\n",
    "\n",
    "We import **PyAutoFit** separately to **PyAutoGalaxy**:"
   ]
  },
  {
   "cell_type": "code",
   "execution_count": null,
   "metadata": {},
   "outputs": [],
   "source": [
    "import autofit as af"
   ]
  },
  {
   "cell_type": "markdown",
   "metadata": {},
   "source": [
    "We now compose the galaxy model using `af.Model` objects. \n",
    "\n",
    "These behave analogously to the `Galaxy`, `Galaxies` and `LightProfile` objects above, however when using a `Model` \n",
    "their parameter values are not specified and are instead determined by a fitting procedure.\n",
    "\n",
    "We will fit our galaxy data with a model which has one galaxy where:\n",
    "\n",
    " - The galaxy's bulge is a `Sersic` light profile. \n",
    " - The galaxy's disk is a `Exponential` light profile.\n",
    " - The redshift of the galaxy is fixed to 0.5.\n",
    " \n",
    "The light profiles below are linear light profiles, input via the `lp_linear` module. These solve for the intensity of\n",
    "the light profiles via linear algebra, making the modeling more efficient and accurate. They are explained in more\n",
    "detail in other workspace examples, but are a key reason why modeling with **PyAutoGalaxy** performs well and\n",
    "can scale to complex models."
   ]
  },
  {
   "cell_type": "code",
   "execution_count": null,
   "metadata": {},
   "outputs": [],
   "source": [
    "galaxy_model = af.Model(\n",
    "    ag.Galaxy,\n",
    "    redshift=0.5,\n",
    "    bulge=ag.lp_linear.Sersic,  # Note the use of `lp_linear` instead of `lp`.\n",
    "    disk=ag.lp_linear.Exponential,  # This uses linear light profiles explained in the modeling `start_here` example.\n",
    ")"
   ]
  },
  {
   "cell_type": "markdown",
   "metadata": {},
   "source": [
    "By printing the `Model`'s we see that each parameters has a prior associated with it, which is used by the\n",
    "model-fitting procedure to fit the model."
   ]
  },
  {
   "cell_type": "code",
   "execution_count": null,
   "metadata": {},
   "outputs": [],
   "source": [
    "print(galaxy_model)"
   ]
  },
  {
   "cell_type": "markdown",
   "metadata": {},
   "source": [
    "We input the galaxy model above into a `Collection`, which is the model we will fit. \n",
    "\n",
    "Note how we could easily extend this object to compose more complex models containing many galaxies."
   ]
  },
  {
   "cell_type": "code",
   "execution_count": null,
   "metadata": {},
   "outputs": [],
   "source": [
    "model = af.Collection(galaxies=af.Collection(galaxy=galaxy_model))"
   ]
  },
  {
   "cell_type": "markdown",
   "metadata": {},
   "source": [
    "The `info` attribute shows the model information in a more readable format:"
   ]
  },
  {
   "cell_type": "code",
   "execution_count": null,
   "metadata": {},
   "outputs": [],
   "source": [
    "print(model.info)"
   ]
  },
  {
   "cell_type": "markdown",
   "metadata": {},
   "source": [
    "We now choose the 'non-linear search', which is the fitting method used to determine the light profile parameters that \n",
    "best-fit the data.\n",
    "\n",
    "In this example we use [nautilus](https://nautilus-sampler.readthedocs.io/en/stable/), a nested sampling algorithm \n",
    "that in our experience has proven very effective at galaxy modeling."
   ]
  },
  {
   "cell_type": "code",
   "execution_count": null,
   "metadata": {},
   "outputs": [],
   "source": [
    "search = af.Nautilus(name=\"start_here\")"
   ]
  },
  {
   "cell_type": "markdown",
   "metadata": {},
   "source": [
    "To perform the model-fit, we create an `AnalysisImaging` object which contains the `log_likelihood_function` that the\n",
    "non-linear search calls to fit the galaxy model to the data.\n",
    "\n",
    "The `AnalysisImaging` object is expanded on in the modeling `start_here` example, but in brief performs many useful\n",
    "associated with modeling, including outputting results to hard-disk and visualizing the results of the fit."
   ]
  },
  {
   "cell_type": "code",
   "execution_count": null,
   "metadata": {},
   "outputs": [],
   "source": [
    "analysis = ag.AnalysisImaging(dataset=dataset)"
   ]
  },
  {
   "cell_type": "markdown",
   "metadata": {},
   "source": [
    "To perform the model-fit we pass the model and analysis to the search's fit method. This will output results (e.g.,\n",
    "Nautilus samples, model parameters, visualization) to your computer's storage device.\n",
    "\n",
    "However, the galaxy modeling of this system takes a minute or so. Therefore, to save time, we have commented out \n",
    "the `fit` function below so you can skip through to the next section of the notebook. Feel free to uncomment the code \n",
    "and run the galaxy modeling yourself!\n",
    "\n",
    "Once a model-fit is running, **PyAutoGalaxy** outputs the results of the search to storage device on-the-fly. This\n",
    "includes galaxy model parameter estimates with errors non-linear samples and the visualization of the best-fit galaxy\n",
    "model inferred by the search so far."
   ]
  },
  {
   "cell_type": "code",
   "execution_count": null,
   "metadata": {},
   "outputs": [],
   "source": [
    "# result = search.fit(model=model, analysis=analysis)"
   ]
  },
  {
   "cell_type": "markdown",
   "metadata": {},
   "source": [
    "The animation below shows a slide-show of the galaxy modeling procedure. Many galaxy models are fitted to the data over\n",
    "and over, gradually improving the quality of the fit to the data and looking more and more like the observed image.\n",
    "\n",
    "NOTE, the animation of a non-linear search shown below is for a strong gravitational lens using **PyAutoGalaxy**'s \n",
    "child project **PyAutoLens**. Updating the animation to show a galaxy model-fit is on the **PyAutoGalaxy** to-do list!\n",
    "\n",
    "We can see that initial models give a poor fit to the data but gradually improve (increasing the likelihood) as more\n",
    "iterations are performed.\n",
    "\n",
    ".. image:: https://github.com/Jammy2211/auto_files/blob/main/lensmodel.gif?raw=true\n",
    "  :width: 600\n",
    "\n",
    "![Lens Modeling Animation](https://github.com/Jammy2211/auto_files/blob/main/lensmodel.gif?raw=true \"model\")\n",
    "\n",
    "**Credit: Amy Etherington**\n",
    "\n",
    "__Results__\n",
    "\n",
    "The fit returns a `Result` object, which contains the best-fit galaxies and the full posterior information of the \n",
    "non-linear search, including all parameter samples, log likelihood values and tools to compute the errors on the \n",
    "galaxy model.\n",
    "\n",
    "Using results is explained in full in the `guides/results` section of the workspace, but for a quick illustration\n",
    "the commented out code below shows how easy it is to plot the fit and posterior of the model."
   ]
  },
  {
   "cell_type": "code",
   "execution_count": null,
   "metadata": {},
   "outputs": [],
   "source": [
    "# fit_plotter = aplt.FitImagingPlotter(fit=result.max_log_likelihood_fit)\n",
    "# fit_plotter.subplot_fit()\n",
    "\n",
    "# plotter = aplt.NestPlotter(samples=result.samples)\n",
    "# plotter.corner_cornerpy()"
   ]
  },
  {
   "cell_type": "markdown",
   "metadata": {},
   "source": [
    "We have now completed the API overview of **PyAutoGalaxy**. This notebook has given a brief introduction to the core\n",
    "API for creating galaxies, simulating data, fitting data and performing galaxy modeling.\n",
    "\n",
    "__New User Guide__\n",
    "\n",
    "Now you have a basic understanding of the PyAutoGalaxy API, you should read the new user guide on the readthedocs\n",
    "to begin navigating the different examples in the workspace and learning how to use **PyAutoGalaxy**:\n",
    "\n",
    "https://pyautogalaxy.readthedocs.io/en/latest/overview/overview_2_new_user_guide.html\n",
    "\n",
    "__HowToGalaxy Lectures__\n",
    "\n",
    "For experienced scientists, the run through above will have been a breeze. Concepts surrounding galaxy structure and \n",
    "morphology were already familiar and the statistical techniques used for fitting and modeling already understood.\n",
    "\n",
    "For those less familiar with these concepts (e.g. undergraduate students, new PhD students or interested members of the \n",
    "public), things may have been less clear and a slower more detailed explanation of each concept would be beneficial.\n",
    "\n",
    "The **HowToGalaxy** Jupyter Notebook lectures are provide exactly this They are a 3+ chapter guide which thoroughly \n",
    "take you through the core concepts of galaxy light profiles, teach you the principles ofthe  statistical techniques \n",
    "used in modeling and ultimately will allow you to undertake scientific research like a professional astronomer.\n",
    "\n",
    "If this sounds like it suits you, checkout the `autogalaxy_workspace/notebooks/howtogalaxy` package now, its it\n",
    "recommended you go here before anywhere else!\n",
    "\n",
    "__Features__\n",
    "\n",
    "Here is a brief overview of the advanced features of **PyAutoGalaxy**. \n",
    "\n",
    "Firstly, brief one sentence descriptions of each feature are given, with more detailed descriptions below including \n",
    "links to the relevant workspace examples.\n",
    "\n",
    "**Interferometry**: Modeling of interferometer data (e.g. ALMA, LOFAR) directly in the uv-plane.\n",
    "**Multi-Wavelength**: Simultaneous analysis of imaging and / or interferometer datasets observed at different wavelengths.\n",
    "**Ellipse Fitting**: Fitting ellipses to determine a galaxy's ellipticity, position angle and centre.\n",
    "**Multi Gaussian Expansion (MGE)**: Decomposing a galaxy into hundreds of Gaussians, capturing more complex structures than simple light profiles.\n",
    "**Shapelets**: Decomposing a galaxy into a set of shapelet orthogonal basis functions, capturing more complex structures than simple light profiles.\n",
    "**Sky Background**: Including the background sky in the model to ensure robust fits to the outskirts of galaxies.\n",
    "**Operated Light Profiles**: Assuming a light profile has already been convolved with the PSF, for when the PSF is a significant effect.\n",
    "**Pixelizations**: Reconstructing a galaxy's on a mesh of pixels, to capture extremely irregular structures like spiral arms.\n",
    "\n",
    "\n",
    "__Interferometry__\n",
    "\n",
    "Modeling interferometer data from submillimeter (e.g. ALMA) and radio (e.g. LOFAR) observatories:\n",
    "\n",
    "![ALMA Image](https://raw.githubusercontent.com/Jammy2211/PyAutoGalaxy/main/paper/almacombined.png)\n",
    "\n",
    "Visibilities data is fitted directly in the uv-plane, circumventing issues that arise when fitting a dirty image\n",
    "such as correlated noise. This uses the non-uniform fast fourier transform algorithm\n",
    "[PyNUFFT](https://github.com/jyhmiinlin/pynufft) to efficiently map the galaxy model images to the uv-plane.\n",
    "\n",
    "Checkout the`autogalaxy_workspace/*/interferometer` package to get started.\n",
    "\n",
    "\n",
    "__Multi-Wavelength__\n",
    "\n",
    "Modeling imaging datasets observed at different wavelengths (e.g. HST F814W and F150W) simultaneously or simultaneously\n",
    "analysing imaging and interferometer data:\n",
    "\n",
    "![g-band](https://raw.githubusercontent.com/Jammy2211/PyAutoGalaxy/main/docs/overview/images/overview_3/g_image.png)\n",
    "\n",
    "![r-band](https://raw.githubusercontent.com/Jammy2211/PyAutoGalaxy/main/docs/overview/images/overview_3/r_image.png)\n",
    "\n",
    "The appearance of the galaxy changes as a function of wavelength, therefore multi-wavelength analysis means we can learn\n",
    "more about the different components in a galaxy (e.g a redder bulge and bluer disk) or when imaging and interferometer\n",
    "data are combined, we can compare the emission from stars and dust.\n",
    "\n",
    "Checkout the `autogalaxy_workspace/*/multi` package to get started, however combining datasets is a more advanced\n",
    "feature and it is recommended you first get to grips with the core API.\n",
    "\n",
    "\n",
    "__Ellipse Fitting__\n",
    "\n",
    "Ellipse fitting is a technique which fits many ellipses to a galaxy's emission to determine its ellipticity, position\n",
    "angle and centre, without assuming a parametric form for its light (e.g. a Sersic profile):\n",
    "\n",
    "![ellipse](https://raw.githubusercontent.com/Jammy2211/PyAutoGalaxy/main/docs/overview/images/overview_3/ellipse.png)\n",
    "\n",
    "This provides complementary information to parametric light profile fitting, for example giving insights on whether\n",
    "the ellipticity and position angle are constant with radius or if the galaxy's emission is lopsided. \n",
    "\n",
    "There are also multipole moment extensions to ellipse fitting, which determine higher order deviations from elliptical \n",
    "symmetry providing even more information on the galaxy's structure.\n",
    "\n",
    "The following paper describes the technique in detail: https://arxiv.org/html/2407.12983v1\n",
    "\n",
    "Checkout `autogalaxy_workspace/notebooks/features/ellipse_fitting.ipynb` to learn how to use ellipse fitting.\n",
    "\n",
    "\n",
    "__Multi Gaussian Expansion (MGE)__\n",
    "\n",
    "An MGE decomposes the light of a galaxy into tens or hundreds of two dimensional Gaussians:\n",
    "\n",
    "![MGE](https://raw.githubusercontent.com/Jammy2211/PyAutoGalaxy/main/docs/overview/images/overview_3/mge.png)\n",
    "\n",
    "In the image above, 30 Gaussians are shown, where their sizes go from below the pixel scale (in order to resolve\n",
    "point emission) to beyond the size of the galaxy (to capture its extended emission).\n",
    "\n",
    "Scientific Applications include capturing departures from elliptical symmetry in the light of galaxies, providing a \n",
    "flexible model to deblend the emission of point sources (e.g. quasars) from the emission of their host galaxy and \n",
    "deprojecting the light of a galaxy from 2D to 3D.\n",
    "\n",
    "Checkout `autogalaxy_workspace/notebooks/features/multi_gaussian_expansion.ipynb` to learn how to use an MGE.\n",
    "\n",
    "\n",
    "__Shapelets__\n",
    "\n",
    "Shapelets are a set of orthogonal basis functions that can be combined the represent galaxy structures:\n",
    "\n",
    "Scientific Applications include capturing symmetric structures in a galaxy which are more complex than a Sersic profile,\n",
    "irregular and asymmetric structures in a galaxy like spiral arms and providing a flexible model to deblend the emission \n",
    "of point sources (e.g. quasars) from the emission of their host galaxy.\n",
    "\n",
    "Checkout `autogalaxy_workspace/notebooks/features/shapelets.ipynb` to learn how to use shapelets.\n",
    "\n",
    "\n",
    "__Sky Background__\n",
    "\n",
    "When an image of a galaxy is observed, the background sky contributes light to the image and adds noise:\n",
    "\n",
    "For detailed studies of the outskirts of galaxies (e.g. stellar halos, faint extended disks), the sky background must be\n",
    "accounted for in the model to ensure robust and accurate fits.\n",
    "\n",
    "Checkout `autogalaxy_workspace/notebooks/features/sky_background.ipynb` to learn how to use include the sky\n",
    "background in your model.\n",
    "\n",
    "\n",
    "__Operated Light Profiles__\n",
    "\n",
    "An operated light profile is one where it is assumed to already be convolved with the PSF of the data, with the \n",
    "`Moffat` and `Gaussian` profiles common choices:\n",
    "\n",
    "They are used for certain scientific applications where the PSF convolution is known to be a significant effect and\n",
    "the knowledge of the PSF allows for detailed modeling abd deblending of the galaxy's light.\n",
    "\n",
    "Checkout `autogalaxy_workspace/notebooks/features/operated_light_profiles.ipynb` to learn how to use operated profiles.\n",
    "\n",
    "\n",
    "__Pixelizations__\n",
    "\n",
    "A pixelization reconstructs a galaxy's light on a mesh of pixels, for example a rectangular mesh, Delaunay \n",
    "triangulation or Voronoi grid. \n",
    "\n",
    "These models are highly flexible and can capture complex structures in a galaxy's light that parametric models\n",
    "like a Sersic profile cannot, for example spiral arms or asymmetric merging features.\n",
    "\n",
    "The image below shows a non parametric of a galaxy observed in the Hubble Ultra Deep Field. Its bulge and disk are\n",
    "fitted accurately using light profiles, whereas its asymmetric and irregular spiral arm features are accurately\n",
    "captured using a rectangular mesh:\n",
    "\n",
    "![HST Image](https://raw.githubusercontent.com/Jammy2211/PyAutoGalaxy/main/paper/hstcombined.png)\n",
    "\n",
    "Checkout `autogalaxy_workspace/notebooks/features/pixelizations.ipynb` to learn how to use a pixelization, however\n",
    "this is a more advanced feature and it is recommended you first get to grips with the core API.\n",
    "\n",
    "\n",
    "__Other:__\n",
    "\n",
    "- Automated pipelines / database tools.\n",
    "- Graphical models."
   ]
  },
  {
   "cell_type": "code",
   "execution_count": null,
   "metadata": {},
   "outputs": [],
   "source": []
  }
 ],
 "metadata": {
  "anaconda-cloud": {},
  "kernelspec": {
   "display_name": "Python 3 (ipykernel)",
   "language": "python",
   "name": "python3"
  },
  "language_info": {
   "codemirror_mode": {
    "name": "ipython",
    "version": 3
   },
   "file_extension": ".py",
   "mimetype": "text/x-python",
   "name": "python",
   "nbconvert_exporter": "python",
   "pygments_lexer": "ipython3",
   "version": "3.10.13"
  }
 },
 "nbformat": 4,
 "nbformat_minor": 4
}
