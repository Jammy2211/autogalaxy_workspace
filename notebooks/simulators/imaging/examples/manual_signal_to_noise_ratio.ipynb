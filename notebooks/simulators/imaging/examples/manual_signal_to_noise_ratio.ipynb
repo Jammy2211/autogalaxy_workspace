{
  "cells": [
    {
      "cell_type": "markdown",
      "metadata": {},
      "source": [
        "Simulator: Manual Signal to Noise Ratio\n",
        "=======================================\n",
        "\n",
        "When simulating `Imaging` of a galaxy, one is often not concerned with the actual units of the light (e.g.\n",
        "electrons per second, counts, etc.) but instead simple wants the data to correspond to a certain signal to noise\n",
        "value.\n",
        "\n",
        "This can be difficult to achieve when specifying the `intensity` of the input light profiles.\n",
        "\n",
        "This script illustrates the `lp_snr` light profiles, which when used to simulate a dataset via galaxies, set the\n",
        "signal to noise of each light profile to an input value. This uses the `exposure_time` and `background_sky_level`\n",
        "of the `SimulatorImaging` object to choose the `intensity` of each light profile such that the input signal to\n",
        "noise is used.\n",
        "\n",
        "For normal light profiles, the `intensity` is defined in units of electrons per second, meaning that the\n",
        "`exposure_time` and `background_sky_level` are used to convert this to counts when adding noise. When the `lp_snr`\n",
        "profiles are used, the `exposure_time` and `background_sky_level` are instead used to set its S/N, meaning their input\n",
        "values do not set the S/N.\n",
        "\n",
        "However, the ratio of `exposure_time` and `background_sky_level` does set how much noise is due to Poisson count\n",
        "statistics in the CCD imaging detector relative to the background sky. If one doubles the `exposure_time`, the\n",
        "Poisson count component will contribute more compared to the background sky component. For detailed scientific\n",
        "analysis, one should therefore make sure their values are chosen to produce images with realistic noise properties.\n",
        "\n",
        "The use of the `light_snr` profiles changes the meaning of `exposure_time` and `background_sky_level`.\n",
        "\n",
        "This script simulates `Imaging` of a galaxy where:\n",
        "\n",
        " - The first galaxy's bulge is an `Sersic` with a S/N of 20.\n",
        " - The second galaxy's bulge is an `Sersic` with a S/N of 10.\n",
        "\n",
        "__Start Here Notebook__\n",
        "\n",
        "If any code in this script is unclear, refer to the `simulators/start_here.ipynb` notebook."
      ]
    },
    {
      "cell_type": "code",
      "metadata": {},
      "source": [
        "\n",
        "%matplotlib inline\n",
        "from pyprojroot import here\n",
        "workspace_path = str(here())\n",
        "%cd $workspace_path\n",
        "print(f\"Working Directory has been set to `{workspace_path}`\")\n",
        "\n",
        "from os import path\n",
        "import autogalaxy as ag\n",
        "import autogalaxy.plot as aplt"
      ],
      "outputs": [],
      "execution_count": null
    },
    {
      "cell_type": "markdown",
      "metadata": {},
      "source": [
        "__Dataset Paths__\n",
        "\n",
        "The path where the dataset will be output."
      ]
    },
    {
      "cell_type": "code",
      "metadata": {},
      "source": [
        "dataset_type = \"imaging\"\n",
        "dataset_label = \"misc\"\n",
        "dataset_name = \"manual_signal_to_noise_ratio\"\n",
        "dataset_path = path.join(\"dataset\", dataset_type, dataset_label, dataset_name)"
      ],
      "outputs": [],
      "execution_count": null
    },
    {
      "cell_type": "markdown",
      "metadata": {},
      "source": [
        "__Grid__\n",
        "\n",
        "Simulate the image using a `Grid2D` with the adaptive over sampling scheme."
      ]
    },
    {
      "cell_type": "code",
      "metadata": {},
      "source": [
        "grid = ag.Grid2D.uniform(\n",
        "    shape_native=(100, 100),\n",
        "    pixel_scales=0.1,\n",
        ")\n",
        "\n",
        "over_sample_size = ag.util.over_sample.over_sample_size_via_radial_bins_from(\n",
        "    grid=grid,\n",
        "    sub_size_list=[32, 8, 2],\n",
        "    radial_list=[0.3, 0.6],\n",
        "    centre_list=[(0.0, 0.0)],\n",
        ")\n",
        "\n",
        "grid = grid.apply_over_sampling(over_sample_size=over_sample_size)"
      ],
      "outputs": [],
      "execution_count": null
    },
    {
      "cell_type": "markdown",
      "metadata": {},
      "source": [
        "Simulate a simple Gaussian PSF for the image."
      ]
    },
    {
      "cell_type": "code",
      "metadata": {},
      "source": [
        "psf = ag.Kernel2D.from_gaussian(\n",
        "    shape_native=(11, 11), sigma=0.1, pixel_scales=grid.pixel_scales\n",
        ")"
      ],
      "outputs": [],
      "execution_count": null
    },
    {
      "cell_type": "markdown",
      "metadata": {},
      "source": [
        "Create the simulator for the imaging data, which defines the exposure time, background sky, noise levels and psf."
      ]
    },
    {
      "cell_type": "code",
      "metadata": {},
      "source": [
        "simulator = ag.SimulatorImaging(\n",
        "    exposure_time=300.0,\n",
        "    psf=psf,\n",
        "    background_sky_level=0.1,\n",
        "    add_poisson_noise_to_data=True,\n",
        ")"
      ],
      "outputs": [],
      "execution_count": null
    },
    {
      "cell_type": "markdown",
      "metadata": {},
      "source": [
        "__Galaxies__\n",
        "\n",
        "Setup the galaxy's light (elliptical Sersic + Exponential), mass (SIE+Shear) and galaxy light\n",
        "(elliptical Sersic) for this simulation."
      ]
    },
    {
      "cell_type": "code",
      "metadata": {},
      "source": [
        "galaxy_0 = ag.Galaxy(\n",
        "    redshift=0.5,\n",
        "    bulge=ag.lp_snr.Sersic(\n",
        "        signal_to_noise_ratio=20.0,\n",
        "        centre=(0.0, -1.0),\n",
        "        ell_comps=(0.25, 0.1),\n",
        "        effective_radius=0.8,\n",
        "        sersic_index=2.5,\n",
        "    ),\n",
        ")\n",
        "\n",
        "galaxy_1 = ag.Galaxy(\n",
        "    redshift=0.5,\n",
        "    bulge=ag.lp_snr.Sersic(\n",
        "        signal_to_noise_ratio=10.0,\n",
        "        centre=(0.0, 1.0),\n",
        "        ell_comps=(0.0, 0.1),\n",
        "        effective_radius=0.6,\n",
        "        sersic_index=3.0,\n",
        "    ),\n",
        ")"
      ],
      "outputs": [],
      "execution_count": null
    },
    {
      "cell_type": "markdown",
      "metadata": {},
      "source": [
        "Use these galaxies to generate the image for the simulated `Imaging` dataset."
      ]
    },
    {
      "cell_type": "code",
      "metadata": {},
      "source": [
        "galaxies = ag.Galaxies(galaxies=[galaxy_0, galaxy_1])"
      ],
      "outputs": [],
      "execution_count": null
    },
    {
      "cell_type": "markdown",
      "metadata": {},
      "source": [
        "Lets look at the galaxies image, this is the image we'll be simulating."
      ]
    },
    {
      "cell_type": "code",
      "metadata": {},
      "source": [
        "galaxies_plotter = aplt.GalaxiesPlotter(galaxies=galaxies, grid=grid)\n",
        "galaxies_plotter.figures_2d(image=True)"
      ],
      "outputs": [],
      "execution_count": null
    },
    {
      "cell_type": "markdown",
      "metadata": {},
      "source": [
        "We can now pass this simulator galaxies, which creates the image plotted above and simulates it as an\n",
        "imaging dataset."
      ]
    },
    {
      "cell_type": "code",
      "metadata": {},
      "source": [
        "dataset = simulator.via_galaxies_from(galaxies=galaxies, grid=grid)"
      ],
      "outputs": [],
      "execution_count": null
    },
    {
      "cell_type": "markdown",
      "metadata": {},
      "source": [
        "Plot the simulated `Imaging` dataset before outputting it to fits."
      ]
    },
    {
      "cell_type": "code",
      "metadata": {},
      "source": [
        "dataset_plotter = aplt.ImagingPlotter(dataset=dataset)\n",
        "dataset_plotter.subplot_dataset()"
      ],
      "outputs": [],
      "execution_count": null
    },
    {
      "cell_type": "markdown",
      "metadata": {},
      "source": [
        "__Output__\n",
        "\n",
        "Output the simulated dataset to the dataset path as .fits files."
      ]
    },
    {
      "cell_type": "code",
      "metadata": {},
      "source": [
        "dataset.output_to_fits(\n",
        "    data_path=path.join(dataset_path, \"data.fits\"),\n",
        "    psf_path=path.join(dataset_path, \"psf.fits\"),\n",
        "    noise_map_path=path.join(dataset_path, \"noise_map.fits\"),\n",
        "    overwrite=True,\n",
        ")"
      ],
      "outputs": [],
      "execution_count": null
    },
    {
      "cell_type": "markdown",
      "metadata": {},
      "source": [
        "__Visualize__\n",
        "\n",
        "Output a subplot of the simulated dataset, the image and the galaxies quantities to the dataset path as .png files."
      ]
    },
    {
      "cell_type": "code",
      "metadata": {},
      "source": [
        "mat_plot = aplt.MatPlot2D(output=aplt.Output(path=dataset_path, format=\"png\"))\n",
        "\n",
        "dataset_plotter = aplt.ImagingPlotter(dataset=dataset, mat_plot_2d=mat_plot)\n",
        "dataset_plotter.subplot_dataset()\n",
        "dataset_plotter.figures_2d(data=True)\n",
        "\n",
        "galaxies_plotter = aplt.GalaxiesPlotter(\n",
        "    galaxies=galaxies, grid=grid, mat_plot_2d=mat_plot\n",
        ")\n",
        "galaxies_plotter.subplot()"
      ],
      "outputs": [],
      "execution_count": null
    },
    {
      "cell_type": "markdown",
      "metadata": {},
      "source": [
        "__Plane Output__\n",
        "\n",
        "Save the `Galaxies` in the dataset folder as a .json file, ensuring the true light profiles and galaxies\n",
        "are safely stored and available to check how the dataset was simulated in the future. \n",
        "\n",
        "This can be loaded via the method `galaxies = ag.from_json()`."
      ]
    },
    {
      "cell_type": "code",
      "metadata": {},
      "source": [
        "ag.output_to_json(\n",
        "    obj=galaxies,\n",
        "    file_path=path.join(dataset_path, \"galaxies.json\"),\n",
        ")"
      ],
      "outputs": [],
      "execution_count": null
    },
    {
      "cell_type": "markdown",
      "metadata": {},
      "source": [
        "The dataset can be viewed in the folder `autogalaxy_workspace/imaging/misc/manual_signal_to_noise_ratio`."
      ]
    },
    {
      "cell_type": "code",
      "metadata": {},
      "source": [],
      "outputs": [],
      "execution_count": null
    }
  ],
  "metadata": {
    "anaconda-cloud": {},
    "kernelspec": {
      "display_name": "Python 3",
      "language": "python",
      "name": "python3"
    },
    "language_info": {
      "codemirror_mode": {
        "name": "ipython",
        "version": 3
      },
      "file_extension": ".py",
      "mimetype": "text/x-python",
      "name": "python",
      "nbconvert_exporter": "python",
      "pygments_lexer": "ipython3",
      "version": "3.6.1"
    }
  },
  "nbformat": 4,
  "nbformat_minor": 4
}