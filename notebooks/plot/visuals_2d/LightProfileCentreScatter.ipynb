{
  "cells": [
    {
      "cell_type": "markdown",
      "metadata": {},
      "source": [
        "Plots: LightProfileCentreScatter\n",
        "================================\n",
        "\n",
        "This example illustrates how to customize the light profile centres plotted over data."
      ]
    },
    {
      "cell_type": "code",
      "metadata": {},
      "source": [
        "%matplotlib inline\n",
        "from pyprojroot import here\n",
        "workspace_path = str(here())\n",
        "%cd $workspace_path\n",
        "print(f\"Working Directory has been set to `{workspace_path}`\")\n",
        "\n",
        "from os import path\n",
        "import autogalaxy as ag\n",
        "import autogalaxy.plot as aplt"
      ],
      "outputs": [],
      "execution_count": null
    },
    {
      "cell_type": "markdown",
      "metadata": {},
      "source": [
        "This means the centre of every `LightProfile` of every `Galaxy` in a plot are plotted on the figure. \n",
        "A `Plane` object is a good example of an object with many `LightProfiles`, so lets make one with three.\n",
        "\n",
        "We will show the plots in the image-plane, however it is the centre's of the source galaxy `LightProfile`'s in the \n",
        "source-plane that are plotted."
      ]
    },
    {
      "cell_type": "code",
      "metadata": {},
      "source": [
        "galaxy = ag.Galaxy(\n",
        "    redshift=1.0,\n",
        "    bulge_0=ag.lp.SersicSph(\n",
        "        centre=(0.1, 0.1), intensity=0.3, effective_radius=1.0, sersic_index=2.5\n",
        "    ),\n",
        "    bulge_1=ag.lp.SersicSph(\n",
        "        centre=(0.4, 0.3), intensity=0.3, effective_radius=1.0, sersic_index=2.5\n",
        "    ),\n",
        ")\n",
        "\n",
        "plane = ag.Plane(galaxies=[galaxy])"
      ],
      "outputs": [],
      "execution_count": null
    },
    {
      "cell_type": "markdown",
      "metadata": {},
      "source": [
        "We also need the `Grid2D` that we can use to make plots of the `Plane`'s properties."
      ]
    },
    {
      "cell_type": "code",
      "metadata": {},
      "source": [
        "grid = ag.Grid2D.uniform(shape_native=(100, 100), pixel_scales=0.05)"
      ],
      "outputs": [],
      "execution_count": null
    },
    {
      "cell_type": "markdown",
      "metadata": {},
      "source": [
        "The light profile centres are an internal property of the `Plane`, so we can plot them via an `Include2D` object."
      ]
    },
    {
      "cell_type": "code",
      "metadata": {},
      "source": [
        "include = aplt.Include2D(light_profile_centres=True)\n",
        "plane_plotter = aplt.PlanePlotter(plane=plane, grid=grid, include_2d=include)\n",
        "plane_plotter.figures_2d(image=True)\n"
      ],
      "outputs": [],
      "execution_count": null
    },
    {
      "cell_type": "markdown",
      "metadata": {},
      "source": [
        "The appearance of the light profile centres are customized using a `LightProfileCentresScatter` object.\n",
        "\n",
        "To plot the light profile centres this object wraps the following matplotlib method:\n",
        "\n",
        " https://matplotlib.org/3.2.2/api/_as_gen/matplotlib.pyplot.scatter.html"
      ]
    },
    {
      "cell_type": "code",
      "metadata": {},
      "source": [
        "light_profile_centres_scatter = aplt.LightProfileCentresScatter(\n",
        "    marker=\"o\", c=\"r\", s=150\n",
        ")\n",
        "mat_plot = aplt.MatPlot2D(light_profile_centres_scatter=light_profile_centres_scatter)\n",
        "plane_plotter = aplt.PlanePlotter(\n",
        "    plane=plane, grid=grid, include_2d=include, mat_plot_2d=mat_plot\n",
        ")\n",
        "plane_plotter.figures_2d(image=True)"
      ],
      "outputs": [],
      "execution_count": null
    },
    {
      "cell_type": "markdown",
      "metadata": {},
      "source": [
        "By specifying two colors to the `LightProfileCentresScatter` object the light profile centres of each plane\n",
        "are plotted in different colors."
      ]
    },
    {
      "cell_type": "code",
      "metadata": {},
      "source": [
        "light_profile_centres_scatter = aplt.LightProfileCentresScatter(c=[\"r\", \"w\"], s=150)\n",
        "mat_plot = aplt.MatPlot2D(light_profile_centres_scatter=light_profile_centres_scatter)\n",
        "plane_plotter = aplt.PlanePlotter(\n",
        "    plane=plane, grid=grid, include_2d=include, mat_plot_2d=mat_plot\n",
        ")\n",
        "plane_plotter.figures_2d(image=True)\n"
      ],
      "outputs": [],
      "execution_count": null
    },
    {
      "cell_type": "markdown",
      "metadata": {},
      "source": [
        "To plot the light profile centres manually, we can pass them into a` Visuals2D` object. This is useful for plotting \n",
        "the centres on figures where they are not an internal property, like an `Array2D`."
      ]
    },
    {
      "cell_type": "code",
      "metadata": {},
      "source": [
        "light_profile_centres = plane.extract_attribute(cls=ag.LightProfile, attr_name=\"centre\")\n",
        "\n",
        "visuals = aplt.Visuals2D(light_profile_centres=light_profile_centres)\n",
        "image = plane.image_2d_from(grid=grid)\n",
        "\n",
        "array_plotter = aplt.Array2DPlotter(\n",
        "    array=image, mat_plot_2d=mat_plot, visuals_2d=visuals\n",
        ")\n",
        "array_plotter.figure_2d()"
      ],
      "outputs": [],
      "execution_count": null
    },
    {
      "cell_type": "markdown",
      "metadata": {},
      "source": [
        "Finish."
      ]
    },
    {
      "cell_type": "code",
      "metadata": {},
      "source": [],
      "outputs": [],
      "execution_count": null
    }
  ],
  "metadata": {
    "anaconda-cloud": {},
    "kernelspec": {
      "display_name": "Python 3",
      "language": "python",
      "name": "python3"
    },
    "language_info": {
      "codemirror_mode": {
        "name": "ipython",
        "version": 3
      },
      "file_extension": ".py",
      "mimetype": "text/x-python",
      "name": "python",
      "nbconvert_exporter": "python",
      "pygments_lexer": "ipython3",
      "version": "3.6.1"
    }
  },
  "nbformat": 4,
  "nbformat_minor": 4
}