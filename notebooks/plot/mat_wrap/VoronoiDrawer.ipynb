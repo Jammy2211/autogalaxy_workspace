{
  "cells": [
    {
      "cell_type": "markdown",
      "metadata": {},
      "source": [
        "Plots: VoronoiDrawer\n",
        "====================\n",
        "\n",
        "This example illustrates how to customize the appearance of the Voronoi mesh of a Voronoi mesh using the\n",
        "`VoronoiDrawer` object."
      ]
    },
    {
      "cell_type": "code",
      "metadata": {},
      "source": [
        "%matplotlib inline\n",
        "from pyprojroot import here\n",
        "workspace_path = str(here())\n",
        "%cd $workspace_path\n",
        "print(f\"Working Directory has been set to `{workspace_path}`\")\n",
        "\n",
        "from os import path\n",
        "import autogalaxy as ag\n",
        "import autogalaxy.plot as aplt"
      ],
      "outputs": [],
      "execution_count": null
    },
    {
      "cell_type": "markdown",
      "metadata": {},
      "source": [
        "__Dataset__\n",
        "\n",
        "First, lets load example imaging of of a galaxy as an `Imaging` object."
      ]
    },
    {
      "cell_type": "code",
      "metadata": {},
      "source": [
        "dataset_name = \"simple__sersic\"\n",
        "dataset_path = path.join(\"dataset\", \"imaging\", dataset_name)\n",
        "\n",
        "dataset = ag.Imaging.from_fits(\n",
        "    data_path=path.join(dataset_path, \"data.fits\"),\n",
        "    psf_path=path.join(dataset_path, \"psf.fits\"),\n",
        "    noise_map_path=path.join(dataset_path, \"noise_map.fits\"),\n",
        "    pixel_scales=0.1,\n",
        ")"
      ],
      "outputs": [],
      "execution_count": null
    },
    {
      "cell_type": "markdown",
      "metadata": {},
      "source": [
        "We now mask the `Imaging` data so we can fit it with an `Inversion`."
      ]
    },
    {
      "cell_type": "code",
      "metadata": {},
      "source": [
        "mask = ag.Mask2D.circular(\n",
        "    shape_native=dataset.shape_native, pixel_scales=dataset.pixel_scales, radius=3.0\n",
        ")\n",
        "dataset = dataset.apply_mask(mask=mask)"
      ],
      "outputs": [],
      "execution_count": null
    },
    {
      "cell_type": "markdown",
      "metadata": {},
      "source": [
        "__Plane__\n",
        "\n",
        "The `Inversion` maps pixels from the image-plane of our `Imaging` data to its source plane, via a model.\n",
        "\n",
        "Lets create a `Plane` which we will use to create the `Inversion`."
      ]
    },
    {
      "cell_type": "code",
      "metadata": {},
      "source": [
        "pixelization = ag.Pixelization(\n",
        "    mesh=ag.mesh.VoronoiMagnification(shape=(25, 25)),\n",
        "    regularization=ag.reg.Constant(coefficient=1.0),\n",
        ")\n",
        "\n",
        "galaxy = ag.Galaxy(redshift=1.0, pixelization=pixelization)\n",
        "\n",
        "plane = ag.Plane(galaxies=[galaxy])"
      ],
      "outputs": [],
      "execution_count": null
    },
    {
      "cell_type": "markdown",
      "metadata": {},
      "source": [
        "Converting a `Plane` to an `Inversion` performs a number of steps, which are handled by the `PlaneToInversion` class. \n",
        "\n",
        "This class is where the data and plane's galaxies are combined to fit the data via the inversion."
      ]
    },
    {
      "cell_type": "code",
      "metadata": {},
      "source": [
        "plane_to_inversion = ag.PlaneToInversion(\n",
        "    plane=plane,\n",
        "    dataset=dataset,\n",
        "    data=dataset.data,\n",
        "    noise_map=dataset.noise_map,\n",
        "    w_tilde=dataset.w_tilde,\n",
        ")\n",
        "\n",
        "inversion = plane_to_inversion.inversion"
      ],
      "outputs": [],
      "execution_count": null
    },
    {
      "cell_type": "markdown",
      "metadata": {},
      "source": [
        "We can customize the filling of Voronoi cells using the `VoronoiDrawer` object which wraps the \n",
        "method `matplotlib.fill()`:\n",
        "\n",
        "https://matplotlib.org/stable/api/_as_gen/matplotlib.pyplot.fill.html"
      ]
    },
    {
      "cell_type": "code",
      "metadata": {},
      "source": [
        "voronoi_drawer = aplt.VoronoiDrawer(edgecolor=\"b\", linewidth=1.0, linestyle=\"--\")\n",
        "\n",
        "mat_plot = aplt.MatPlot2D(voronoi_drawer=voronoi_drawer)"
      ],
      "outputs": [],
      "execution_count": null
    },
    {
      "cell_type": "markdown",
      "metadata": {},
      "source": [
        "We now pass the inversion to a `InversionPlotter` which we will use to illustrate customization with \n",
        "the `VoronoiDrawer` object."
      ]
    },
    {
      "cell_type": "code",
      "metadata": {},
      "source": [
        "inversion_plotter = aplt.InversionPlotter(inversion=inversion, mat_plot_2d=mat_plot)\n",
        "\n",
        "inversion_plotter.figures_2d_of_pixelization(pixelization_index=0, reconstruction=True)\n",
        "inversion_plotter.subplot_of_mapper(mapper_index=0)\n"
      ],
      "outputs": [],
      "execution_count": null
    }
  ],
  "metadata": {
    "anaconda-cloud": {},
    "kernelspec": {
      "display_name": "Python 3",
      "language": "python",
      "name": "python3"
    },
    "language_info": {
      "codemirror_mode": {
        "name": "ipython",
        "version": 3
      },
      "file_extension": ".py",
      "mimetype": "text/x-python",
      "name": "python",
      "nbconvert_exporter": "python",
      "pygments_lexer": "ipython3",
      "version": "3.6.1"
    }
  },
  "nbformat": 4,
  "nbformat_minor": 4
}