{
  "cells": [
    {
      "cell_type": "markdown",
      "metadata": {},
      "source": [
        "Plots: FitInterferometerPlotter\n",
        "===============================\n",
        "\n",
        "This example illustrates how to plot an `FitInterferometer` object using an `FitInterferometerPlotter`.\n",
        "\n",
        "__Start Here Notebook__\n",
        "\n",
        "If any code in this script is unclear, refer to the `plot/start_here.ipynb` notebook."
      ]
    },
    {
      "cell_type": "code",
      "metadata": {},
      "source": [
        "%matplotlib inline\n",
        "from pyprojroot import here\n",
        "workspace_path = str(here())\n",
        "%cd $workspace_path\n",
        "print(f\"Working Directory has been set to `{workspace_path}`\")\n",
        "\n",
        "from os import path\n",
        "import numpy as np\n",
        "import autogalaxy as ag\n",
        "import autogalaxy.plot as aplt"
      ],
      "outputs": [],
      "execution_count": null
    },
    {
      "cell_type": "markdown",
      "metadata": {},
      "source": [
        "__Dataset__\n",
        "\n",
        "First, lets load example interferometer of of a galaxy as an `Interferometer` object."
      ]
    },
    {
      "cell_type": "code",
      "metadata": {},
      "source": [
        "dataset_name = \"simple__sersic\"\n",
        "dataset_path = path.join(\"dataset\", \"interferometer\", dataset_name)\n",
        "\n",
        "real_space_mask = ag.Mask2D.circular(\n",
        "    shape_native=(200, 200), pixel_scales=0.05, radius=3.0\n",
        ")\n",
        "\n",
        "dataset = ag.Interferometer.from_fits(\n",
        "    data_path=path.join(dataset_path, \"data.fits\"),\n",
        "    noise_map_path=path.join(dataset_path, \"noise_map.fits\"),\n",
        "    uv_wavelengths_path=path.join(dataset_path, \"uv_wavelengths.fits\"),\n",
        "    real_space_mask=real_space_mask,\n",
        "    transformer_class=ag.TransformerNUFFT,\n",
        ")"
      ],
      "outputs": [],
      "execution_count": null
    },
    {
      "cell_type": "markdown",
      "metadata": {},
      "source": [
        "__Fit__\n",
        "\n",
        "We now mask the data and fit it with a `Plane` to create a `FitInterferometer` object."
      ]
    },
    {
      "cell_type": "code",
      "metadata": {},
      "source": [
        "galaxy = ag.Galaxy(\n",
        "    redshift=1.0,\n",
        "    bulge=ag.lp.Sersic(\n",
        "        centre=(0.1, 0.1),\n",
        "        ell_comps=ag.convert.ell_comps_from(axis_ratio=0.8, angle=60.0),\n",
        "        intensity=0.3,\n",
        "        effective_radius=1.0,\n",
        "        sersic_index=2.5,\n",
        "    ),\n",
        ")\n",
        "\n",
        "galaxies = ag.Galaxies(galaxies=[galaxy])\n",
        "\n",
        "fit = ag.FitInterferometer(dataset=dataset, galaxies=galaxies)"
      ],
      "outputs": [],
      "execution_count": null
    },
    {
      "cell_type": "markdown",
      "metadata": {},
      "source": [
        "__Figures__\n",
        "\n",
        "We now pass the FitInterferometer to an `FitInterferometerPlotter` and call various `figure_*` methods \n",
        "to plot different attributes."
      ]
    },
    {
      "cell_type": "code",
      "metadata": {},
      "source": [
        "fit_plotter = aplt.FitInterferometerPlotter(fit=fit)\n",
        "fit_plotter.figures_2d(\n",
        "    data=True,\n",
        "    noise_map=True,\n",
        "    signal_to_noise_map=True,\n",
        "    model_data=True,\n",
        "    residual_map_real=True,\n",
        "    residual_map_imag=True,\n",
        "    normalized_residual_map_real=True,\n",
        "    normalized_residual_map_imag=True,\n",
        "    chi_squared_map_real=True,\n",
        "    chi_squared_map_imag=True,\n",
        ")"
      ],
      "outputs": [],
      "execution_count": null
    },
    {
      "cell_type": "markdown",
      "metadata": {},
      "source": [
        "The dirty images of the interferometer fit can also be plotted, which use the transformer of the interferometer \n",
        "to map the visibilities, noise-map, residual-map or other quantitiy to a real-space image.\n",
        "\n",
        "Bare in mind the fit itself uses the visibilities and not the dirty images, so these images do not provide a direct\n",
        "visualization of the fit itself. However, they are easier to inspect than the fits plotted above which are in Fourier\n",
        "space and make it more straight forward to determine if an unphysical model is being fitted."
      ]
    },
    {
      "cell_type": "code",
      "metadata": {},
      "source": [
        "fit_plotter.figures_2d(\n",
        "    dirty_image=True,\n",
        "    dirty_noise_map=True,\n",
        "    dirty_signal_to_noise_map=True,\n",
        "    dirty_model_image=True,\n",
        "    dirty_residual_map=True,\n",
        "    dirty_normalized_residual_map=True,\n",
        "    dirty_chi_squared_map=True,\n",
        ")"
      ],
      "outputs": [],
      "execution_count": null
    },
    {
      "cell_type": "markdown",
      "metadata": {},
      "source": [
        "__Subplots__\n",
        "\n",
        "The `FitInterferometerPlotter` may also plot a subplot of these attributes."
      ]
    },
    {
      "cell_type": "code",
      "metadata": {},
      "source": [
        "fit_plotter.subplot_fit()\n",
        "fit_plotter.subplot_fit_dirty_images()"
      ],
      "outputs": [],
      "execution_count": null
    },
    {
      "cell_type": "markdown",
      "metadata": {},
      "source": [
        "The images can be combined to plot the appearance of the galaxy in real-space."
      ]
    },
    {
      "cell_type": "code",
      "metadata": {},
      "source": [
        "fit_plotter.subplot_fit_real_space()"
      ],
      "outputs": [],
      "execution_count": null
    },
    {
      "cell_type": "markdown",
      "metadata": {},
      "source": [
        "__Symmetric Residual Maps__\n",
        "\n",
        "By default, the `ditry_residual_map` and `dirty_normalized_residual_map` use a symmetric colormap. \n",
        "\n",
        "This means the maximum normalization (`vmax`) an minimum normalziation (`vmin`) are the same absolute value.\n",
        "\n",
        "This can be disabled via the `residuals_symmetric_cmap` input."
      ]
    },
    {
      "cell_type": "code",
      "metadata": {},
      "source": [
        "fit_plotter = aplt.FitInterferometerPlotter(fit=fit, residuals_symmetric_cmap=False)\n",
        "fit_plotter.figures_2d(\n",
        "    dirty_residual_map=True,\n",
        "    dirty_normalized_residual_map=True,\n",
        ")\n"
      ],
      "outputs": [],
      "execution_count": null
    },
    {
      "cell_type": "markdown",
      "metadata": {},
      "source": [
        "Finish."
      ]
    },
    {
      "cell_type": "code",
      "metadata": {},
      "source": [],
      "outputs": [],
      "execution_count": null
    }
  ],
  "metadata": {
    "anaconda-cloud": {},
    "kernelspec": {
      "display_name": "Python 3",
      "language": "python",
      "name": "python3"
    },
    "language_info": {
      "codemirror_mode": {
        "name": "ipython",
        "version": 3
      },
      "file_extension": ".py",
      "mimetype": "text/x-python",
      "name": "python",
      "nbconvert_exporter": "python",
      "pygments_lexer": "ipython3",
      "version": "3.6.1"
    }
  },
  "nbformat": 4,
  "nbformat_minor": 4
}