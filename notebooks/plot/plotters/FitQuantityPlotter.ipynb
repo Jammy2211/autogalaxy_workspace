{
  "cells": [
    {
      "cell_type": "markdown",
      "metadata": {},
      "source": [
        "Plots: FitQuantityPlotter\n",
        "========================\n",
        "\n",
        "This example illustrates how to plot a `FitQuantity` object using a `FitQuantityPlotter`.\n",
        "\n",
        "__Start Here Notebook__\n",
        "\n",
        "If any code in this script is unclear, refer to the `plot/start_here.ipynb` notebook."
      ]
    },
    {
      "cell_type": "code",
      "metadata": {},
      "source": [
        "\n",
        "%matplotlib inline\n",
        "from pyprojroot import here\n",
        "workspace_path = str(here())\n",
        "%cd $workspace_path\n",
        "print(f\"Working Directory has been set to `{workspace_path}`\")\n",
        "\n",
        "from os import path\n",
        "import autogalaxy as ag\n",
        "import autogalaxy.plot as aplt"
      ],
      "outputs": [],
      "execution_count": null
    },
    {
      "cell_type": "markdown",
      "metadata": {},
      "source": [
        "__Grid__\n",
        "\n",
        "Define the 2D grid the quantity (in this example, the image) is evaluated using."
      ]
    },
    {
      "cell_type": "code",
      "metadata": {},
      "source": [
        "grid = ag.Grid2D.uniform(shape_native=(100, 100), pixel_scales=0.1)"
      ],
      "outputs": [],
      "execution_count": null
    },
    {
      "cell_type": "markdown",
      "metadata": {},
      "source": [
        "__Galaxies__\n",
        "\n",
        "Create galaxies which we will use to create our `DatasetQuantity`."
      ]
    },
    {
      "cell_type": "code",
      "metadata": {},
      "source": [
        "galaxy = ag.Galaxy(\n",
        "    redshift=0.5,\n",
        "    bulge=ag.lp.Sersic(\n",
        "        centre=(0.0, 0.0),\n",
        "        ell_comps=ag.convert.ell_comps_from(axis_ratio=0.9, angle=45.0),\n",
        "        intensity=1.0,\n",
        "        effective_radius=0.8,\n",
        "        sersic_index=4.0,\n",
        "    ),\n",
        ")\n",
        "\n",
        "galaxies = ag.Galaxies(galaxies=[galaxy])"
      ],
      "outputs": [],
      "execution_count": null
    },
    {
      "cell_type": "markdown",
      "metadata": {},
      "source": [
        "__Dataset__\n",
        "\n",
        "Use this `Plane`'s 2D image to create the `DatasetQuantity`.\n",
        "\n",
        "We assume a noise-map where all values are arbritrarily 0.01."
      ]
    },
    {
      "cell_type": "code",
      "metadata": {},
      "source": [
        "image = galaxies.image_2d_from(grid=grid)\n",
        "\n",
        "dataset = ag.DatasetQuantity(\n",
        "    data=image,\n",
        "    noise_map=ag.Array2D.full(\n",
        "        fill_value=0.01,\n",
        "        shape_native=image.shape_native,\n",
        "        pixel_scales=image.pixel_scales,\n",
        "    ),\n",
        ")"
      ],
      "outputs": [],
      "execution_count": null
    },
    {
      "cell_type": "markdown",
      "metadata": {},
      "source": [
        "__Mask__\n",
        "\n",
        "The model-fit requires a `Mask2D` defining the regions of the image we fit, which we define and apply to the \n",
        "`DatasetQuantity` object."
      ]
    },
    {
      "cell_type": "code",
      "metadata": {},
      "source": [
        "mask = ag.Mask2D.circular(\n",
        "    shape_native=dataset.shape_native, pixel_scales=dataset.pixel_scales, radius=3.0\n",
        ")\n",
        "\n",
        "dataset = dataset.apply_mask(mask=mask)"
      ],
      "outputs": [],
      "execution_count": null
    },
    {
      "cell_type": "markdown",
      "metadata": {},
      "source": [
        "__Fit__\n",
        "\n",
        "We now fit the `DatasetQuantity` with a `Plane`'s to create a `FitQuantity` object.\n",
        "\n",
        "This `Plane` has a slightly different galaxy and therefore image map, creating residuals in the plot."
      ]
    },
    {
      "cell_type": "code",
      "metadata": {},
      "source": [
        "galaxy = ag.Galaxy(\n",
        "    redshift=0.5,\n",
        "    bulge=ag.lp.Sersic(\n",
        "        centre=(0.05, 0.05),\n",
        "        ell_comps=ag.convert.ell_comps_from(axis_ratio=0.9, angle=45.0),\n",
        "        intensity=1.0,\n",
        "        effective_radius=0.8,\n",
        "        sersic_index=4.0,\n",
        "    ),\n",
        ")\n",
        "\n",
        "galaxies_fit = ag.Galaxies(galaxies=[galaxy])\n",
        "\n",
        "fit = ag.FitQuantity(\n",
        "    dataset=dataset, light_mass_obj=galaxies_fit, func_str=\"image_2d_from\"\n",
        ")"
      ],
      "outputs": [],
      "execution_count": null
    },
    {
      "cell_type": "markdown",
      "metadata": {},
      "source": [
        "__Figures__\n",
        "\n",
        "We now pass the FitQuantity to an `FitQuantityPlotter` and call various `figure_*` methods to plot different attributes."
      ]
    },
    {
      "cell_type": "code",
      "metadata": {},
      "source": [
        "fit_dataset_plotter = aplt.FitQuantityPlotter(fit=fit)\n",
        "fit_dataset_plotter.figures_2d(\n",
        "    image=True,\n",
        "    noise_map=True,\n",
        "    signal_to_noise_map=True,\n",
        "    model_image=True,\n",
        "    residual_map=True,\n",
        "    normalized_residual_map=True,\n",
        "    chi_squared_map=True,\n",
        ")"
      ],
      "outputs": [],
      "execution_count": null
    },
    {
      "cell_type": "markdown",
      "metadata": {},
      "source": [
        "__Subplots__\n",
        "\n",
        "The `FitQuantityPlotter` may also plot a subplot of these attributes."
      ]
    },
    {
      "cell_type": "code",
      "metadata": {},
      "source": [
        "fit_dataset_plotter.subplot_fit()"
      ],
      "outputs": [],
      "execution_count": null
    },
    {
      "cell_type": "markdown",
      "metadata": {},
      "source": [
        "__Include__\n",
        "\n",
        "`FitQuantity` contains the following attributes which can be plotted automatically via the `Include2D` object."
      ]
    },
    {
      "cell_type": "code",
      "metadata": {},
      "source": [
        "include = aplt.Include2D(origin=True, mask=True, light_profile_centres=True)\n",
        "\n",
        "fit_plotter = aplt.FitQuantityPlotter(fit=fit, include_2d=include)\n",
        "fit_plotter.subplot_fit()\n"
      ],
      "outputs": [],
      "execution_count": null
    }
  ],
  "metadata": {
    "anaconda-cloud": {},
    "kernelspec": {
      "display_name": "Python 3",
      "language": "python",
      "name": "python3"
    },
    "language_info": {
      "codemirror_mode": {
        "name": "ipython",
        "version": 3
      },
      "file_extension": ".py",
      "mimetype": "text/x-python",
      "name": "python",
      "nbconvert_exporter": "python",
      "pygments_lexer": "ipython3",
      "version": "3.6.1"
    }
  },
  "nbformat": 4,
  "nbformat_minor": 4
}