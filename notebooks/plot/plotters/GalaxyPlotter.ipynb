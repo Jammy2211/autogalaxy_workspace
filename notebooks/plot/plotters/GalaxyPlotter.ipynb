{
  "cells": [
    {
      "cell_type": "markdown",
      "metadata": {},
      "source": [
        "Plots: GalaxyPlotter\n",
        "====================\n",
        "\n",
        "This example illustrates how to plot a `Galaxy` using a `GalaxyPlotter`."
      ]
    },
    {
      "cell_type": "code",
      "metadata": {},
      "source": [
        "%matplotlib inline\n",
        "from pyprojroot import here\n",
        "workspace_path = str(here())\n",
        "%cd $workspace_path\n",
        "print(f\"Working Directory has been set to `{workspace_path}`\")\n",
        "\n",
        "import autogalaxy as ag\n",
        "import autogalaxy.plot as aplt"
      ],
      "outputs": [],
      "execution_count": null
    },
    {
      "cell_type": "markdown",
      "metadata": {},
      "source": [
        "__Galaxy__\n",
        "\n",
        "First, lets create a `Galaxy` with multiple `LightProfile`'s and a `MassProfile`."
      ]
    },
    {
      "cell_type": "code",
      "metadata": {},
      "source": [
        "bulge = ag.lp.Sersic(\n",
        "    centre=(0.0, -0.05),\n",
        "    ell_comps=ag.convert.ell_comps_from(axis_ratio=0.9, angle=45.0),\n",
        "    intensity=4.0,\n",
        "    effective_radius=0.6,\n",
        "    sersic_index=3.0,\n",
        ")\n",
        "\n",
        "disk = ag.lp.Exponential(\n",
        "    centre=(0.0, 0.05),\n",
        "    ell_comps=ag.convert.ell_comps_from(axis_ratio=0.7, angle=30.0),\n",
        "    intensity=2.0,\n",
        "    effective_radius=1.6,\n",
        ")\n",
        "\n",
        "galaxy = ag.Galaxy(redshift=0.5, bulge=bulge, disk=disk)"
      ],
      "outputs": [],
      "execution_count": null
    },
    {
      "cell_type": "markdown",
      "metadata": {},
      "source": [
        "__Grid__\n",
        "\n",
        "We also need the 2D grid the `Galaxy`'s `Profile`'s are evaluated on."
      ]
    },
    {
      "cell_type": "code",
      "metadata": {},
      "source": [
        "grid = ag.Grid2D.uniform(shape_native=(100, 100), pixel_scales=0.05)"
      ],
      "outputs": [],
      "execution_count": null
    },
    {
      "cell_type": "markdown",
      "metadata": {},
      "source": [
        "__Figures__\n",
        "\n",
        "We now pass the galaxy and grid to a `GalaxyPlotter` and call various `figure_*` methods to plot different attributes."
      ]
    },
    {
      "cell_type": "code",
      "metadata": {},
      "source": [
        "galaxy_plotter = aplt.GalaxyPlotter(galaxy=galaxy, grid=grid)\n",
        "galaxy_plotter.figures_2d(image=True)\n",
        "galaxy_plotter.figures_1d(image=True)"
      ],
      "outputs": [],
      "execution_count": null
    },
    {
      "cell_type": "markdown",
      "metadata": {},
      "source": [
        "We can plot decomposed 1D profiles, which display a property of the galaxy in addition to those of its individual light \n",
        "and mass profiles. \n",
        "\n",
        "For the 1D plot of each profile, the 1D grid of (x) coordinates is centred on the profile and aligned with the \n",
        "major-axis. This means that if the galaxy consists of multiple profiles with different centres or angles the 1D plots \n",
        "are defined in a common way and appear aligned on the figure."
      ]
    },
    {
      "cell_type": "code",
      "metadata": {},
      "source": [
        "galaxy_plotter.figures_1d_decomposed(image=True)"
      ],
      "outputs": [],
      "execution_count": null
    },
    {
      "cell_type": "markdown",
      "metadata": {},
      "source": [
        "__Subplots__\n",
        "\n",
        "The `GalaxyPlotter` also has subplot method that plot each individual `Profile` in 2D as well as a 1D plot showing all\n",
        "`Profiles` together."
      ]
    },
    {
      "cell_type": "code",
      "metadata": {},
      "source": [
        "galaxy_plotter.subplot_of_light_profiles(image=True)"
      ],
      "outputs": [],
      "execution_count": null
    },
    {
      "cell_type": "markdown",
      "metadata": {},
      "source": [
        "__Include__\n",
        "\n",
        "A `Galaxy` and its `Grid2D` contains the following attributes which can be plotted automatically via \n",
        "the `Include2D` object.\n",
        "\n",
        "(By default, a `Grid2D` does not contain a `Mask2D`, we therefore manually created a `Grid2D` with a mask to illustrate\n",
        "plotting its mask and border below)."
      ]
    },
    {
      "cell_type": "code",
      "metadata": {},
      "source": [
        "include = aplt.Include2D(origin=True, mask=True, light_profile_centres=True)\n",
        "\n",
        "mask = ag.Mask2D.circular(\n",
        "    shape_native=grid.shape_native, pixel_scales=grid.pixel_scales, radius=2.0\n",
        ")\n",
        "masked_grid = ag.Grid2D.from_mask(mask=mask)\n",
        "\n",
        "galaxy_plotter = aplt.GalaxyPlotter(galaxy=galaxy, grid=masked_grid, include_2d=include)\n",
        "galaxy_plotter.figures_2d(image=True)\n"
      ],
      "outputs": [],
      "execution_count": null
    },
    {
      "cell_type": "markdown",
      "metadata": {},
      "source": [
        "__Errors__\n",
        "\n",
        "Using a `GalaxyPDFPlotter`, we can make 1D plots that show the errors of the light and mass models estimated via a \n",
        "model-fit. \n",
        "\n",
        "Here, the `galaxy_pdf_list` is a list of `Galaxy` objects that are drawn randomly from the PDF of a model-fit (the \n",
        "database tutorials show how these can be easily computed after a model fit). \n",
        "\n",
        "These are used to estimate the errors at an input `sigma` value of: \n",
        "\n",
        " - The 1D light or mass profile, which is plotted as a shaded region on the figure. \n",
        " - The median `half_light_radius` and `einstein_radius1 with errors, which are plotted as vertical lines.\n",
        "\n",
        "Below, we manually input two `Galaxy` objects with ligth and mass profiles that clearly show these errors on the figure."
      ]
    },
    {
      "cell_type": "code",
      "metadata": {},
      "source": [
        "bulge_0 = ag.lp.Sersic(intensity=4.0, effective_radius=0.4, sersic_index=3.0)\n",
        "\n",
        "disk_0 = ag.lp.Exponential(intensity=2.0, effective_radius=1.4)\n",
        "\n",
        "galaxy_0 = ag.Galaxy(redshift=0.5, bulge=bulge_0, disk=disk_0)\n",
        "\n",
        "bulge_1 = ag.lp.Sersic(intensity=4.0, effective_radius=0.8, sersic_index=3.0)\n",
        "\n",
        "disk_1 = ag.lp.Exponential(intensity=2.0, effective_radius=1.8)\n",
        "\n",
        "galaxy_1 = ag.Galaxy(redshift=0.5, bulge=bulge_1, disk=disk_1)\n",
        "\n",
        "galaxy_pdf_plotter = aplt.GalaxyPDFPlotter(\n",
        "    galaxy_pdf_list=[galaxy_0, galaxy_1], grid=grid, sigma=3.0\n",
        ")\n",
        "galaxy_pdf_plotter.figures_1d(image=True)"
      ],
      "outputs": [],
      "execution_count": null
    },
    {
      "cell_type": "markdown",
      "metadata": {},
      "source": [
        "A decomposed plot of the individual light profiles of the galaxy, with errors, can also be created."
      ]
    },
    {
      "cell_type": "code",
      "metadata": {},
      "source": [
        "galaxy_pdf_plotter.figures_1d_decomposed(image=True)"
      ],
      "outputs": [],
      "execution_count": null
    },
    {
      "cell_type": "markdown",
      "metadata": {},
      "source": [
        "Finish."
      ]
    },
    {
      "cell_type": "code",
      "metadata": {},
      "source": [],
      "outputs": [],
      "execution_count": null
    }
  ],
  "metadata": {
    "anaconda-cloud": {},
    "kernelspec": {
      "display_name": "Python 3",
      "language": "python",
      "name": "python3"
    },
    "language_info": {
      "codemirror_mode": {
        "name": "ipython",
        "version": 3
      },
      "file_extension": ".py",
      "mimetype": "text/x-python",
      "name": "python",
      "nbconvert_exporter": "python",
      "pygments_lexer": "ipython3",
      "version": "3.6.1"
    }
  },
  "nbformat": 4,
  "nbformat_minor": 4
}