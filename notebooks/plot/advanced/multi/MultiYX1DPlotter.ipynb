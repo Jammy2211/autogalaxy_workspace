{
  "cells": [
    {
      "cell_type": "markdown",
      "metadata": {},
      "source": [
        "Plots: MultiYX1DPlotter\n",
        "=========================\n",
        "\n",
        "This example illustrates how to plot multi 1D figure lines on the same plot.\n",
        "\n",
        "It uses the specific example of plotting a `LightProfile`'s 1D image using multiple `LightProfilePlotter`'s.\n",
        "\n",
        "__Start Here Notebook__\n",
        "\n",
        "If any code in this script is unclear, refer to the `plot/start_here.ipynb` notebook."
      ]
    },
    {
      "cell_type": "code",
      "metadata": {},
      "source": [
        "\n",
        "%matplotlib inline\n",
        "from pyprojroot import here\n",
        "workspace_path = str(here())\n",
        "%cd $workspace_path\n",
        "print(f\"Working Directory has been set to `{workspace_path}`\")\n",
        "\n",
        "import autogalaxy as ag\n",
        "import autogalaxy.plot as aplt"
      ],
      "outputs": [],
      "execution_count": null
    },
    {
      "cell_type": "markdown",
      "metadata": {},
      "source": [
        "First, lets create two simple `LightProfile`'s which we'll plot the 1D images of on the same figure."
      ]
    },
    {
      "cell_type": "code",
      "metadata": {},
      "source": [
        "light_0 = ag.lp.Sersic(\n",
        "    centre=(0.0, 0.0),\n",
        "    intensity=1.0,\n",
        "    ell_comps=ag.convert.ell_comps_from(axis_ratio=0.7, angle=45.0),\n",
        "    effective_radius=1.0,\n",
        "    sersic_index=2.0,\n",
        ")\n",
        "\n",
        "light_1 = ag.lp.Sersic(\n",
        "    centre=(0.0, 0.0),\n",
        "    intensity=1.0,\n",
        "    ell_comps=ag.convert.ell_comps_from(axis_ratio=0.7, angle=45.0),\n",
        "    effective_radius=2.0,\n",
        "    sersic_index=2.0,\n",
        ")"
      ],
      "outputs": [],
      "execution_count": null
    },
    {
      "cell_type": "markdown",
      "metadata": {},
      "source": [
        "We also need the 2D grid the `LightProfile`'s are evaluated on."
      ]
    },
    {
      "cell_type": "code",
      "metadata": {},
      "source": [
        "grid = ag.Grid2D.uniform(shape_native=(100, 100), pixel_scales=0.05)"
      ],
      "outputs": [],
      "execution_count": null
    },
    {
      "cell_type": "markdown",
      "metadata": {},
      "source": [
        "We now pass the light profiles and grid to a `LightProfilePlotter` and create a `MultiYX1DPlotter` which will be\n",
        "used to plot both of their images in 1D on the same figure."
      ]
    },
    {
      "cell_type": "code",
      "metadata": {},
      "source": [
        "mat_plot = aplt.MatPlot1D(yx_plot=aplt.YXPlot(plot_axis_type=\"semilogy\"))\n",
        "\n",
        "light_profile_plotter_0 = aplt.LightProfilePlotter(\n",
        "    light_profile=light_0, grid=grid, mat_plot_1d=mat_plot\n",
        ")\n",
        "light_profile_plotter_1 = aplt.LightProfilePlotter(\n",
        "    light_profile=light_1, grid=grid, mat_plot_1d=mat_plot\n",
        ")"
      ],
      "outputs": [],
      "execution_count": null
    },
    {
      "cell_type": "markdown",
      "metadata": {},
      "source": [
        "We use these plotters to create a `MultiYX1DPlotter` which plot both of their images in 1D on the same figure."
      ]
    },
    {
      "cell_type": "code",
      "metadata": {},
      "source": [
        "multi_plotter = aplt.MultiYX1DPlotter(\n",
        "    plotter_list=[light_profile_plotter_0, light_profile_plotter_1]\n",
        ")"
      ],
      "outputs": [],
      "execution_count": null
    },
    {
      "cell_type": "markdown",
      "metadata": {},
      "source": [
        "We now use the multi plotter to plot the images, where:\n",
        "\n",
        " - `func_name`: he name of the `LightProfilePlotter` function we call, in this case `figures_1d`.\n",
        " - `figure_name`: the name of the function's boolean input we set to True such that it plots, in this case `image`.\n",
        " \n",
        "The input therefore corresponds to us writing `light_profile_plotter.figures_1d(image=True)` for each plotter."
      ]
    },
    {
      "cell_type": "code",
      "metadata": {},
      "source": [
        "multi_plotter.figure_1d(func_name=\"figures_1d\", figure_name=\"image\")\n"
      ],
      "outputs": [],
      "execution_count": null
    }
  ],
  "metadata": {
    "anaconda-cloud": {},
    "kernelspec": {
      "display_name": "Python 3",
      "language": "python",
      "name": "python3"
    },
    "language_info": {
      "codemirror_mode": {
        "name": "ipython",
        "version": 3
      },
      "file_extension": ".py",
      "mimetype": "text/x-python",
      "name": "python",
      "nbconvert_exporter": "python",
      "pygments_lexer": "ipython3",
      "version": "3.6.1"
    }
  },
  "nbformat": 4,
  "nbformat_minor": 4
}