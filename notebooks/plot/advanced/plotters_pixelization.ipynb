{
  "cells": [
    {
      "cell_type": "markdown",
      "metadata": {},
      "source": [
        "Plots: Plotters Pixelization\n",
        "============================\n",
        "\n",
        "This example illustrates the API for plotting using `Plotter` objects for pixelized source reconstructions.\n",
        "\n",
        "__Start Here Notebook__\n",
        "\n",
        "You should refer to the `plots/start_here.ipynb` notebook first for a description of how plotters work and the default\n",
        "behaviour of plotting visuals.\n",
        "\n",
        "__Contents__\n",
        "\n",
        "**Setup:** Set up all objects (e.g. grid, tracer, data) used to illustrate plotting.\n",
        "**Fit Imaging:** Plot the fit of a tracer to an imaging dataset for a source reconstruction using a pixelization.\n",
        "**Inversion:** Plot the inversion object which performs the linear algebra and other calculations which reconstruct the source galaxy.\n",
        "**Mapper:** Plot the mapper object which maps pixels from the image-plane of the data to its source plane pixelization via a lens model.\n",
        "**Fit Interferometer:** Plot the fit of a tracer to an interferometer dataset for a source reconstruction using a pixelization.\n",
        "\n",
        "__Setup__\n",
        "\n",
        "To illustrate plotting, we require standard objects like a grid, tracer and dataset."
      ]
    },
    {
      "cell_type": "code",
      "metadata": {},
      "source": [
        "\n",
        "%matplotlib inline\n",
        "from pyprojroot import here\n",
        "workspace_path = str(here())\n",
        "%cd $workspace_path\n",
        "print(f\"Working Directory has been set to `{workspace_path}`\")\n",
        "\n",
        "from pathlib import Path\n",
        "import autogalaxy as ag\n",
        "import autogalaxy.plot as aplt\n",
        "\n",
        "grid = ag.Grid2D.uniform(shape_native=(100, 100), pixel_scales=0.05)\n",
        "\n",
        "dataset_name = \"sersic_x2\"\n",
        "dataset_path = Path(\"dataset\") / \"imaging\" / dataset_name\n",
        "\n",
        "dataset = ag.Imaging.from_fits(\n",
        "    data_path=dataset_path / \"data.fits\",\n",
        "    psf_path=dataset_path / \"psf.fits\",\n",
        "    noise_map_path=dataset_path / \"noise_map.fits\",\n",
        "    pixel_scales=0.1,\n",
        ")\n",
        "\n",
        "mask = ag.Mask2D.circular(\n",
        "    shape_native=dataset.shape_native, pixel_scales=dataset.pixel_scales, radius=3.0\n",
        ")\n",
        "\n",
        "dataset = dataset.apply_mask(mask=mask)\n",
        "\n",
        "pixelization = ag.Pixelization(\n",
        "    mesh=ag.mesh.Rectangular(shape=(25, 25)),\n",
        "    regularization=ag.reg.Constant(coefficient=1.0),\n",
        ")\n",
        "\n",
        "galaxy = ag.Galaxy(redshift=1.0, pixelization=pixelization)\n",
        "galaxies = ag.Galaxies(galaxies=[galaxy])\n",
        "\n",
        "fit = ag.FitImaging(dataset=dataset, galaxies=galaxies)"
      ],
      "outputs": [],
      "execution_count": null
    },
    {
      "cell_type": "markdown",
      "metadata": {},
      "source": [
        "__Pixelization__\n",
        "\n",
        "We can also plot a `FitImaging` which uses a `Pixelization`."
      ]
    },
    {
      "cell_type": "code",
      "metadata": {},
      "source": [
        "galaxies = ag.Galaxies(galaxies=[galaxy])\n",
        "\n",
        "fit = ag.FitImaging(dataset=dataset, galaxies=galaxies)"
      ],
      "outputs": [],
      "execution_count": null
    },
    {
      "cell_type": "markdown",
      "metadata": {},
      "source": [
        "__Fit Imaging__\n",
        "\n",
        "The `FitImaging` object is a base object which represents the fit of a model to an imaging dataset, including the\n",
        "residuals, chi-squared and model image.\n",
        "\n",
        "We plot the plane, which being pixelized, is represented by a `Pixelization` object and plotted as a \n",
        "delunay mesh of triangles.\n",
        "\n",
        "The plot below zooms into the brightest pixel of the source-plane, which is useful for visualizing the key regions\n",
        "of the source that fit the data."
      ]
    },
    {
      "cell_type": "code",
      "metadata": {},
      "source": [
        "fit_plotter = aplt.FitImagingPlotter(\n",
        "    fit=fit,\n",
        ")\n",
        "fit_plotter.subplot_fit()"
      ],
      "outputs": [],
      "execution_count": null
    },
    {
      "cell_type": "markdown",
      "metadata": {},
      "source": [
        "__Inversion Plotter__\n",
        "\n",
        "We can even extract an `InversionPlotter` from the `FitImagingPlotter` and use it to plot all of its usual methods,\n",
        "which will now include the caustic and border."
      ]
    },
    {
      "cell_type": "code",
      "metadata": {},
      "source": [
        "inversion_plotter = fit_plotter.inversion_plotter\n",
        "inversion_plotter.figures_2d_of_pixelization(\n",
        "    pixelization_index=0, reconstruction=True, regularization_weights=True\n",
        ")"
      ],
      "outputs": [],
      "execution_count": null
    },
    {
      "cell_type": "markdown",
      "metadata": {},
      "source": [
        "__Inversion__\n",
        "\n",
        "The fit above has a property called an `inversion`, which contains all of the linear algebra, mesh calculations\n",
        "and other key quantities used to reconstruct a source galaxy using a pixelization.\n",
        "\n",
        "This has its own dedicated plotter, the `InversionPlotter`, which can be used to plot the inversion's attributes\n",
        "and properties in a similar way to the `FitImagingPlotter`."
      ]
    },
    {
      "cell_type": "code",
      "metadata": {},
      "source": [
        "inversion = fit.inversion\n",
        "\n",
        "inversion_plotter = aplt.InversionPlotter(inversion=inversion)\n",
        "inversion_plotter.figures_2d(reconstructed_image=True)"
      ],
      "outputs": [],
      "execution_count": null
    },
    {
      "cell_type": "markdown",
      "metadata": {},
      "source": [
        "Converting a `Galaxies` to an `Inversion` performs a number of steps, which are handled by the `GalaxiesToInversion` \n",
        "class. \n",
        "\n",
        "This class is where the data and galaxies are combined to fit the data via the inversion."
      ]
    },
    {
      "cell_type": "code",
      "metadata": {},
      "source": [
        "galaxies_to_inversion = ag.GalaxiesToInversion(\n",
        "    galaxies=galaxies,\n",
        "    dataset=dataset,\n",
        ")\n",
        "\n",
        "inversion = galaxies_to_inversion.inversion"
      ],
      "outputs": [],
      "execution_count": null
    },
    {
      "cell_type": "markdown",
      "metadata": {},
      "source": [
        "We now pass the inversion to a `InversionPlotter` and call various `figure_*` methods to plot different attributes."
      ]
    },
    {
      "cell_type": "code",
      "metadata": {},
      "source": [
        "inversion_plotter = aplt.InversionPlotter(inversion=inversion)\n",
        "inversion_plotter.figures_2d(reconstructed_image=True)"
      ],
      "outputs": [],
      "execution_count": null
    },
    {
      "cell_type": "markdown",
      "metadata": {},
      "source": [
        "An `Inversion` can have multiple mappers, which reconstruct multiple source galaxies at different redshifts and\n",
        "planes (e.g. double Einstein ring systems).\n",
        "\n",
        "To plot an individual source we must therefore specify the mapper index of the source we plot."
      ]
    },
    {
      "cell_type": "code",
      "metadata": {},
      "source": [
        "inversion_plotter.figures_2d_of_pixelization(\n",
        "    pixelization_index=0,\n",
        "    reconstructed_image=True,\n",
        "    reconstruction=True,\n",
        "    reconstruction_noise_map=True,\n",
        "    regularization_weights=True,\n",
        ")"
      ],
      "outputs": [],
      "execution_count": null
    },
    {
      "cell_type": "markdown",
      "metadata": {},
      "source": [
        "The `Inversion` attributes can also be plotted as a subplot."
      ]
    },
    {
      "cell_type": "code",
      "metadata": {},
      "source": [
        "inversion_plotter = aplt.InversionPlotter(inversion=inversion)\n",
        "inversion_plotter.subplot_of_mapper(mapper_index=0)"
      ],
      "outputs": [],
      "execution_count": null
    },
    {
      "cell_type": "markdown",
      "metadata": {},
      "source": [
        "__Mesh Grids__\n",
        "\n",
        "The image plane mesh grid, showing the centre of every pixel in the image-plane can be computed and plotted."
      ]
    },
    {
      "cell_type": "code",
      "metadata": {},
      "source": [
        "mapper = fit.inversion.cls_list_from(cls=ag.AbstractMapper)[0]\n",
        "\n",
        "image_plane_mesh_grid = mapper.image_plane_mesh_grid\n",
        "visuals_2d = aplt.Visuals2D(mesh_grid=image_plane_mesh_grid)\n",
        "fit_plotter = aplt.FitImagingPlotter(fit=fit, visuals=visuals_2d)\n",
        "fit_plotter.figures_2d_of_planes(plane_index=0, plane_image=True)"
      ],
      "outputs": [],
      "execution_count": null
    },
    {
      "cell_type": "markdown",
      "metadata": {},
      "source": [
        "__Mapper__\n",
        "\n",
        "The `Mapper` is a property of an inversion and maps pixels from the image-plane of the data to its source plane via \n",
        "a lens model.\n",
        "\n",
        "We can extract a dictionary where every mapper in the plane is a key, paired with values that are each corresponding \n",
        "galaxy containing that mapper. "
      ]
    },
    {
      "cell_type": "code",
      "metadata": {},
      "source": [
        "mapper_galaxy_dict = galaxies_to_inversion.mapper_galaxy_dict"
      ],
      "outputs": [],
      "execution_count": null
    },
    {
      "cell_type": "markdown",
      "metadata": {},
      "source": [
        "We only need the `Mapper`, which we can extract from this dictionary."
      ]
    },
    {
      "cell_type": "code",
      "metadata": {},
      "source": [
        "mapper = list(mapper_galaxy_dict)[0]"
      ],
      "outputs": [],
      "execution_count": null
    },
    {
      "cell_type": "markdown",
      "metadata": {},
      "source": [
        "__Figures__\n",
        "\n",
        "We now pass the mapper to a `MapperPlotter` and call various `figure_*` methods to plot different attributes."
      ]
    },
    {
      "cell_type": "code",
      "metadata": {},
      "source": [
        "mapper_plotter = aplt.MapperPlotter(mapper=mapper)\n",
        "mapper_plotter.figure_2d()"
      ],
      "outputs": [],
      "execution_count": null
    },
    {
      "cell_type": "markdown",
      "metadata": {},
      "source": [
        "__Subplots__\n",
        "\n",
        "The `Mapper` can also be plotted with a subplot of its original image."
      ]
    },
    {
      "cell_type": "code",
      "metadata": {},
      "source": [
        "mapper_plotter = aplt.MapperPlotter(mapper=mapper)\n",
        "mapper_plotter.subplot_image_and_mapper(image=dataset.data)"
      ],
      "outputs": [],
      "execution_count": null
    },
    {
      "cell_type": "markdown",
      "metadata": {},
      "source": [
        "The Indexes of `Mapper` plots can be highlighted to show how certain image pixels map to the source plane."
      ]
    },
    {
      "cell_type": "code",
      "metadata": {},
      "source": [
        "visuals = aplt.Visuals2D(\n",
        "    image_plane_data_indexes=[0, 1, 2, 3, 4],\n",
        "    source_plane_mesh_indexes=[[10, 11], [12, 13, 14]],\n",
        ")\n",
        "\n",
        "mapper_plotter = aplt.MapperPlotter(mapper=mapper, visuals_2d=visuals)\n",
        "mapper_plotter.subplot_image_and_mapper(image=dataset.data)"
      ],
      "outputs": [],
      "execution_count": null
    },
    {
      "cell_type": "markdown",
      "metadata": {},
      "source": [
        "__Mesh Grids__\n",
        "\n",
        "The image and source plane mesh grids, showing the centre of every source pixel in the image-plane and source-plane, \n",
        "can be computed and plotted."
      ]
    },
    {
      "cell_type": "code",
      "metadata": {},
      "source": [
        "image_plane_mesh_grid = mapper.image_plane_mesh_grid\n",
        "\n",
        "visuals_2d = aplt.Visuals2D(mesh_grid=image_plane_mesh_grid)\n",
        "\n",
        "mapper_plotter = aplt.MapperPlotter(mapper=mapper, visuals=visuals_2d)\n",
        "mapper_plotter.subplot_image_and_mapper(image=dataset.data)"
      ],
      "outputs": [],
      "execution_count": null
    },
    {
      "cell_type": "markdown",
      "metadata": {},
      "source": [
        "__DelaunayDrawer / VoronoiDrawer__\n",
        "\n",
        "We can customize the filling of Voronoi cells using the `VoronoiDrawer` object which wraps the \n",
        "method `matplotlib.fill()`:\n",
        "\n",
        "https://matplotlib.org/stable/api/_as_gen/matplotlib.pyplot.fill.html"
      ]
    },
    {
      "cell_type": "code",
      "metadata": {},
      "source": [
        "delaunay_drawer = aplt.DelaunayDrawer(edgecolor=\"b\", linewidth=1.0, linestyle=\"--\")\n",
        "# voronoi_drawer = aplt.VoronoiDrawer(edgecolor=\"b\", linewidth=1.0, linestyle=\"--\")\n",
        "\n",
        "mat_plot = aplt.MatPlot2D(delaunay_drawer=delaunay_drawer)"
      ],
      "outputs": [],
      "execution_count": null
    },
    {
      "cell_type": "markdown",
      "metadata": {},
      "source": [
        "We now pass the inversion to a `InversionPlotter` which we will use to illustrate customization with \n",
        "the `VoronoiDrawer` object."
      ]
    },
    {
      "cell_type": "code",
      "metadata": {},
      "source": [
        "inversion_plotter = aplt.InversionPlotter(inversion=inversion, mat_plot_2d=mat_plot)\n",
        "\n",
        "try:\n",
        "    inversion_plotter.figures_2d_of_pixelization(\n",
        "        pixelization_index=0, reconstruction=True\n",
        "    )\n",
        "    inversion_plotter.subplot_of_mapper(mapper_index=0)\n",
        "except ImportError:\n",
        "    print(\n",
        "        \"You have not installed the Voronoi natural neighbor interpolation package, see instructions at top of notebook.\"\n",
        "    )"
      ],
      "outputs": [],
      "execution_count": null
    },
    {
      "cell_type": "markdown",
      "metadata": {},
      "source": [
        "Finish."
      ]
    },
    {
      "cell_type": "code",
      "metadata": {},
      "source": [],
      "outputs": [],
      "execution_count": null
    }
  ],
  "metadata": {
    "anaconda-cloud": {},
    "kernelspec": {
      "display_name": "Python 3",
      "language": "python",
      "name": "python3"
    },
    "language_info": {
      "codemirror_mode": {
        "name": "ipython",
        "version": 3
      },
      "file_extension": ".py",
      "mimetype": "text/x-python",
      "name": "python",
      "nbconvert_exporter": "python",
      "pygments_lexer": "ipython3",
      "version": "3.6.1"
    }
  },
  "nbformat": 4,
  "nbformat_minor": 4
}