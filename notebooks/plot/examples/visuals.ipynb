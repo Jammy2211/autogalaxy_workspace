{
  "cells": [
    {
      "cell_type": "markdown",
      "metadata": {},
      "source": [
        "Plots: Visuals\n",
        "==============\n",
        "\n",
        "This example illustrates the API for adding visuals to plots and customizing their appearance.\n",
        "\n",
        "__Start Here Notebook__\n",
        "\n",
        "You should refer to the `plots/start_here.ipynb` notebook first for a description of how visuals work and the default\n",
        "behaviour of plotting visuals.\n",
        "\n",
        "__Contents__\n",
        "\n",
        "__Setup__\n",
        "\n",
        "To illustrate plotting, we require standard objects like a grid, galaxies and dataset."
      ]
    },
    {
      "cell_type": "code",
      "metadata": {},
      "source": [
        "\n",
        "%matplotlib inline\n",
        "from pyprojroot import here\n",
        "workspace_path = str(here())\n",
        "%cd $workspace_path\n",
        "print(f\"Working Directory has been set to `{workspace_path}`\")\n",
        "\n",
        "from pathlib import Path\n",
        "import autogalaxy as ag\n",
        "import autogalaxy.plot as aplt\n",
        "\n",
        "grid = ag.Grid2D.uniform(shape_native=(100, 100), pixel_scales=0.05)\n",
        "\n",
        "galaxy = ag.Galaxy(\n",
        "    redshift=1.0,\n",
        "    bulge_0=ag.lp.SersicSph(\n",
        "        centre=(0.1, 0.1), intensity=0.3, effective_radius=1.0, sersic_index=2.5\n",
        "    ),\n",
        "    bulge_1=ag.lp.SersicSph(\n",
        "        centre=(0.4, 0.3), intensity=0.3, effective_radius=1.0, sersic_index=2.5\n",
        "    ),\n",
        ")\n",
        "\n",
        "galaxies = ag.Galaxies(galaxies=[galaxy])\n",
        "\n",
        "dataset_path = Path(\"dataset\") / \"imaging\" / \"complex\"\n",
        "data_path = dataset_path / \"data.fits\"\n",
        "data = ag.Array2D.from_fits(file_path=data_path, hdu=0, pixel_scales=0.1)"
      ],
      "outputs": [],
      "execution_count": null
    },
    {
      "cell_type": "markdown",
      "metadata": {},
      "source": [
        "__Light Profile Centres__\n",
        "\n",
        "The centres of all light profiles in the galaxies (or other object, like a galaxy) can be extracted and plotted."
      ]
    },
    {
      "cell_type": "code",
      "metadata": {},
      "source": [
        "light_profile_centres = galaxies.extract_attribute(\n",
        "    cls=ag.LightProfile, attr_name=\"centre\"\n",
        ")\n",
        "\n",
        "visuals = aplt.Visuals2D(light_profile_centres=light_profile_centres)\n",
        "image = galaxies.image_2d_from(grid=grid)\n",
        "\n",
        "galaxies_plotter = aplt.GalaxiesPlotter(\n",
        "    galaxies=galaxies, grid=grid, visuals_2d=visuals\n",
        ")\n",
        "galaxies_plotter.figures_2d(image=True)"
      ],
      "outputs": [],
      "execution_count": null
    },
    {
      "cell_type": "markdown",
      "metadata": {},
      "source": [
        "The appearance of the light profile centres are customized using a `LightProfileCentresScatter` object.\n",
        "\n",
        "To plot the light profile centres this object wraps the following matplotlib method:\n",
        "\n",
        " https://matplotlib.org/3.2.2/api/_as_gen/matplotlib.pyplot.scatter.html"
      ]
    },
    {
      "cell_type": "code",
      "metadata": {},
      "source": [
        "light_profile_centres = galaxies.extract_attribute(\n",
        "    cls=ag.LightProfile, attr_name=\"centre\"\n",
        ")\n",
        "\n",
        "visuals = aplt.Visuals2D(light_profile_centres=light_profile_centres)\n",
        "image = galaxies.image_2d_from(grid=grid)\n",
        "\n",
        "galaxies_plotter = aplt.GalaxiesPlotter(\n",
        "    galaxies=galaxies, grid=grid, visuals_2d=visuals\n",
        ")\n",
        "galaxies_plotter.figures_2d(image=True)\n"
      ],
      "outputs": [],
      "execution_count": null
    },
    {
      "cell_type": "markdown",
      "metadata": {},
      "source": [
        "By specifying two colors to the `LightProfileCentresScatter` object the light profile centres of each plane\n",
        "are plotted in different colors.\n",
        "\n",
        "The plot below uses the `tracer_x2` object which consists of multiple galaxies with multiple light profiles."
      ]
    },
    {
      "cell_type": "code",
      "metadata": {},
      "source": [
        "light_profile_centres_scatter = aplt.LightProfileCentresScatter(c=[\"r\", \"w\"], s=150)\n",
        "\n",
        "mat_plot = aplt.MatPlot2D(light_profile_centres_scatter=light_profile_centres_scatter)\n",
        "\n",
        "galaxies_plotter = aplt.GalaxiesPlotter(\n",
        "    galaxies=galaxies, grid=grid, mat_plot_2d=mat_plot, visuals_2d=visuals\n",
        ")\n",
        "galaxies_plotter.figures_2d(image=True)\n"
      ],
      "outputs": [],
      "execution_count": null
    },
    {
      "cell_type": "markdown",
      "metadata": {},
      "source": [
        "__Mask__\n",
        "\n",
        "The mask is plotted over all images by default as black points.\n",
        "\n",
        "We now show how to manually pass in a mask to plot and customize its appearance."
      ]
    },
    {
      "cell_type": "code",
      "metadata": {},
      "source": [
        "mask = ag.Mask2D.circular_annular(\n",
        "    shape_native=data.shape_native,\n",
        "    pixel_scales=data.pixel_scales,\n",
        "    inner_radius=0.3,\n",
        "    outer_radius=3.0,\n",
        ")\n",
        "masked_image_2d = ag.Array2D(values=data.native, mask=mask)\n",
        "\n",
        "visuals = aplt.Visuals2D(mask=mask)\n",
        "\n",
        "array_plotter = aplt.Array2DPlotter(array=data, visuals_2d=visuals)\n",
        "array_plotter.figure_2d()"
      ],
      "outputs": [],
      "execution_count": null
    },
    {
      "cell_type": "markdown",
      "metadata": {},
      "source": [
        "The appearance of the mask is customized using a `Scatter` object.\n",
        "\n",
        "To plot the mask this object wraps the following matplotlib method:\n",
        "\n",
        " https://matplotlib.org/3.2.2/api/_as_gen/matplotlib.pyplot.scatter.html"
      ]
    },
    {
      "cell_type": "code",
      "metadata": {},
      "source": [
        "mask_scatter = aplt.MaskScatter(marker=\"o\", c=\"r\", s=50)\n",
        "\n",
        "mat_plot = aplt.MatPlot2D(mask_scatter=mask_scatter)\n",
        "\n",
        "array_plotter = aplt.Array2DPlotter(\n",
        "    array=masked_image_2d, mat_plot_2d=mat_plot, visuals_2d=visuals\n",
        ")\n",
        "array_plotter.figure_2d()"
      ],
      "outputs": [],
      "execution_count": null
    },
    {
      "cell_type": "markdown",
      "metadata": {},
      "source": [
        "__Origin__\n",
        "\n",
        "We can plot the (y,x) origin on the data to show where the grid is defined from.\n",
        "\n",
        "By default the origin of (0.0\", 0.0\") is at the centre of the image."
      ]
    },
    {
      "cell_type": "code",
      "metadata": {},
      "source": [
        "visuals = aplt.Visuals2D(origin=ag.Grid2DIrregular(values=[(1.0, 1.0)]))\n",
        "\n",
        "array_plotter = aplt.Array2DPlotter(array=data, visuals_2d=visuals)\n",
        "array_plotter.figure_2d()"
      ],
      "outputs": [],
      "execution_count": null
    },
    {
      "cell_type": "markdown",
      "metadata": {},
      "source": [
        "The appearance of the (y,x) origin coordinates is customized using a `Scatter` object.\n",
        "\n",
        "To plot these (y,x) grids of coordinates these objects wrap the following matplotlib method:\n",
        "\n",
        " https://matplotlib.org/3.2.2/api/_as_gen/matplotlib.pyplot.scatter.html\n",
        "\n",
        "The example script `plot/mat_wrap/Scatter.py` gives a more detailed description on how to customize its appearance."
      ]
    },
    {
      "cell_type": "code",
      "metadata": {},
      "source": [
        "origin_scatter = aplt.OriginScatter(marker=\"o\", s=50)\n",
        "\n",
        "mat_plot = aplt.MatPlot2D(origin_scatter=origin_scatter)\n",
        "\n",
        "array_plotter = aplt.Array2DPlotter(\n",
        "    array=data, mat_plot_2d=mat_plot, visuals_2d=visuals\n",
        ")\n",
        "array_plotter.figure_2d()"
      ],
      "outputs": [],
      "execution_count": null
    },
    {
      "cell_type": "markdown",
      "metadata": {},
      "source": [
        "__Grid__\n",
        "\n",
        "We can plot a grid of (y,x) coordinates over an image.\n",
        "\n",
        "We'll use a uniform grid at a coarser resolution than our dataset."
      ]
    },
    {
      "cell_type": "code",
      "metadata": {},
      "source": [
        "grid = ag.Grid2D.uniform(shape_native=(30, 30), pixel_scales=0.1)\n",
        "\n",
        "visuals = aplt.Visuals2D(grid=grid)\n",
        "\n",
        "array_plotter = aplt.Array2DPlotter(array=data, visuals_2d=visuals)\n",
        "array_plotter.figure_2d()"
      ],
      "outputs": [],
      "execution_count": null
    },
    {
      "cell_type": "markdown",
      "metadata": {},
      "source": [
        "We customize the grid's appearance using the `GridScatter` `matplotlib wrapper object which wraps the following method(s): \n",
        "\n",
        " https://matplotlib.org/3.3.2/api/_as_gen/matplotlib.pyplot.scatter.html"
      ]
    },
    {
      "cell_type": "code",
      "metadata": {},
      "source": [
        "grid_scatter = aplt.GridScatter(c=\"r\", marker=\".\", s=1)\n",
        "\n",
        "mat_plot = aplt.MatPlot2D(grid_scatter=grid_scatter)\n",
        "\n",
        "array_plotter = aplt.Array2DPlotter(\n",
        "    array=data, mat_plot_2d=mat_plot, visuals_2d=visuals\n",
        ")\n",
        "array_plotter.figure_2d()"
      ],
      "outputs": [],
      "execution_count": null
    },
    {
      "cell_type": "markdown",
      "metadata": {},
      "source": [
        "__Border__\n",
        "\n",
        "A border is the `Grid2D` of (y,x) coordinates at the centre of every pixel at the border of a mask. \n",
        "\n",
        "A border is defined as a pixel that is on an exterior edge of a mask (e.g. it does not include the inner pixels of \n",
        "an annular mask).\n",
        "\n",
        "Borders are rarely plotted, but are important when it comes to defining the edge of the source-plane for pixelized\n",
        "source reconstructions, with examples on this topic sometimes plotting the border."
      ]
    },
    {
      "cell_type": "code",
      "metadata": {},
      "source": [
        "mask = ag.Mask2D.circular_annular(\n",
        "    shape_native=data.shape_native,\n",
        "    pixel_scales=data.pixel_scales,\n",
        "    inner_radius=0.3,\n",
        "    outer_radius=3.0,\n",
        ")\n",
        "masked_image_2d = ag.Array2D(values=data.native, mask=mask)\n",
        "\n",
        "visuals = aplt.Visuals2D(border=mask.derive_grid.border)\n",
        "\n",
        "array_plotter = aplt.Array2DPlotter(array=data, visuals_2d=visuals)\n",
        "array_plotter.figure_2d()"
      ],
      "outputs": [],
      "execution_count": null
    },
    {
      "cell_type": "markdown",
      "metadata": {},
      "source": [
        "The appearance of the border is customized using a `BorderScatter` object.\n",
        "\n",
        "To plot the border this object wraps the following matplotlib method:\n",
        "\n",
        " https://matplotlib.org/3.2.2/api/_as_gen/matplotlib.pyplot.scatter.html"
      ]
    },
    {
      "cell_type": "code",
      "metadata": {},
      "source": [
        "border_scatter = aplt.BorderScatter(marker=\"o\", c=\"r\", s=50)\n",
        "\n",
        "mat_plot = aplt.MatPlot2D(border_scatter=border_scatter)\n",
        "\n",
        "array_plotter = aplt.Array2DPlotter(\n",
        "    array=masked_image_2d, mat_plot_2d=mat_plot, visuals_2d=visuals\n",
        ")\n",
        "array_plotter.figure_2d()"
      ],
      "outputs": [],
      "execution_count": null
    },
    {
      "cell_type": "markdown",
      "metadata": {},
      "source": [
        "__Array Overlay__\n",
        "\n",
        "We can overlay a 2D array over an image."
      ]
    },
    {
      "cell_type": "code",
      "metadata": {},
      "source": [
        "arr = ag.Array2D.no_mask(\n",
        "    values=[[1.0, 2.0, 3.0], [4.0, 5.0, 6.0], [7.0, 8.0, 9.0]], pixel_scales=0.5\n",
        ")\n",
        "\n",
        "array_plotter = aplt.Array2DPlotter(array=data, visuals_2d=visuals)\n",
        "array_plotter.figure_2d()"
      ],
      "outputs": [],
      "execution_count": null
    },
    {
      "cell_type": "markdown",
      "metadata": {},
      "source": [
        "We customize the overlaid array using the `ArrayOverlay` matplotlib wrapper object which wraps the following method(s):\n",
        "\n",
        "To overlay the array this objects wrap the following matplotlib method:\n",
        "\n",
        " https://matplotlib.org/3.3.2/api/_as_gen/matplotlib.pyplot.imshow.html"
      ]
    },
    {
      "cell_type": "code",
      "metadata": {},
      "source": [
        "array_overlay = aplt.ArrayOverlay(alpha=0.5)\n",
        "\n",
        "mat_plot = aplt.MatPlot2D(array_overlay=array_overlay)\n",
        "\n",
        "array_plotter = aplt.Array2DPlotter(\n",
        "    array=data, mat_plot_2d=mat_plot, visuals_2d=visuals\n",
        ")\n",
        "array_plotter.figure_2d()"
      ],
      "outputs": [],
      "execution_count": null
    },
    {
      "cell_type": "markdown",
      "metadata": {},
      "source": [
        "__Patch Overlay__\n",
        "\n",
        "The matplotlib patch API can be used to plot shapes over an image.\n",
        "\n",
        "This is used in certain weak lensing plots to visualize galaxy shapes and ellipticities.\n",
        "\n",
        "To plot a patch on an image, we use the `matplotlib.patches` module. \n",
        "\n",
        "In this example, we will use the `Ellipse` patch."
      ]
    },
    {
      "cell_type": "code",
      "metadata": {},
      "source": [
        "from matplotlib.patches import Ellipse\n",
        "\n",
        "patch_0 = Ellipse(xy=(1.0, 2.0), height=1.0, width=2.0, angle=1.0)\n",
        "patch_1 = Ellipse(xy=(-2.0, -3.0), height=1.0, width=2.0, angle=1.0)\n",
        "\n",
        "visuals = aplt.Visuals2D(patches=[patch_0, patch_1])\n",
        "\n",
        "array_plotter = aplt.Array2DPlotter(array=data)  # , visuals_2d=visuals)\n",
        "array_plotter.figure_2d()"
      ],
      "outputs": [],
      "execution_count": null
    },
    {
      "cell_type": "markdown",
      "metadata": {},
      "source": [
        "We can customize the patches using the `Patcher` matplotlib wrapper object which wraps the following method(s):\n",
        "\n",
        " https://matplotlib.org/3.3.2/api/collections_api.html"
      ]
    },
    {
      "cell_type": "code",
      "metadata": {},
      "source": [
        "patch_overlay = aplt.PatchOverlay(\n",
        "    facecolor=[\"r\", \"g\"], edgecolor=\"none\", linewidth=10, offsets=3.0\n",
        ")\n",
        "\n",
        "mat_plot = aplt.MatPlot2D(patch_overlay=patch_overlay)\n",
        "\n",
        "array_plotter = aplt.Array2DPlotter(\n",
        "    array=data, mat_plot_2d=mat_plot, visuals_2d=visuals\n",
        ")\n",
        "array_plotter.figure_2d()"
      ],
      "outputs": [],
      "execution_count": null
    },
    {
      "cell_type": "markdown",
      "metadata": {},
      "source": [
        "__Vector Field__\n",
        "\n",
        "A quiver plot showing vectors (e.g. 2D (y,x) directions at (y,x) coordinates) can be plotted using the `matplotlib`\n",
        "`quiver` function.\n",
        "\n",
        "This is often used for weak lensing plots, showing the direction and magnitude of weak lensing infrred at each\n",
        "galaxy's location."
      ]
    },
    {
      "cell_type": "code",
      "metadata": {},
      "source": [
        "vectors = ag.VectorYX2DIrregular(\n",
        "    values=[(1.0, 2.0), (2.0, 1.0)], grid=[(-1.0, 0.0), (-2.0, 0.0)]\n",
        ")\n",
        "visuals = aplt.Visuals2D(vectors=vectors)\n",
        "\n",
        "array_plotter = aplt.Array2DPlotter(array=data, visuals_2d=visuals)\n",
        "array_plotter.figure_2d()"
      ],
      "outputs": [],
      "execution_count": null
    },
    {
      "cell_type": "markdown",
      "metadata": {},
      "source": [
        "We can customize the appearance of the vectors using the `VectorYXQuiver` matplotlib wrapper object which wraps \n",
        "the following method(s):\n",
        "\n",
        " https://matplotlib.org/3.3.2/api/_as_gen/matplotlib.pyplot.quiver.html"
      ]
    },
    {
      "cell_type": "code",
      "metadata": {},
      "source": [
        "quiver = aplt.VectorYXQuiver(\n",
        "    headlength=1,\n",
        "    pivot=\"tail\",\n",
        "    color=\"w\",\n",
        "    linewidth=10,\n",
        "    units=\"width\",\n",
        "    angles=\"uv\",\n",
        "    scale=None,\n",
        "    width=0.5,\n",
        "    headwidth=3,\n",
        "    alpha=0.5,\n",
        ")\n",
        "\n",
        "mat_plot = aplt.MatPlot2D(vector_yx_quiver=quiver)\n",
        "\n",
        "array_plotter = aplt.Array2DPlotter(\n",
        "    array=data, mat_plot_2d=mat_plot, visuals_2d=visuals\n",
        ")\n",
        "array_plotter.figure_2d()"
      ],
      "outputs": [],
      "execution_count": null
    },
    {
      "cell_type": "markdown",
      "metadata": {},
      "source": [
        "__Half Light Radius__\n",
        "\n",
        "For 1D plots of a light profile (e.g. radius vs intensity) a 1D line of its half light radius can be plotted."
      ]
    },
    {
      "cell_type": "code",
      "metadata": {},
      "source": [
        "visuals = aplt.Visuals1D(half_light_radius=galaxies.bulge_0.half_light_radius)\n",
        "\n",
        "light_profile_plotter = aplt.LightProfilePlotter(\n",
        "    light_profile=galaxies.bulge_0, grid=grid, visuals_1d=visuals\n",
        ")\n",
        "light_profile_plotter.figures_1d(image=True)"
      ],
      "outputs": [],
      "execution_count": null
    },
    {
      "cell_type": "markdown",
      "metadata": {},
      "source": [
        "The appearance of the half-light radius is customized using a `HalfLightRadiusAXVLine` object.\n",
        "\n",
        "To plot the half-light radius as a vertical line this wraps the following matplotlib method:\n",
        "\n",
        " plt.axvline: https://matplotlib.org/3.3.2/api/_as_gen/matplotlib.pyplot.axvline.html"
      ]
    },
    {
      "cell_type": "code",
      "metadata": {},
      "source": [
        "half_light_radius_axvline = aplt.HalfLightRadiusAXVLine(\n",
        "    linestyle=\"-.\", c=\"r\", linewidth=20\n",
        ")\n",
        "\n",
        "mat_plot = aplt.MatPlot1D(half_light_radius_axvline=half_light_radius_axvline)\n",
        "\n",
        "light_profile_plotter = aplt.LightProfilePlotter(\n",
        "    light_profile=galaxies.bulge_0, grid=grid, mat_plot_1d=mat_plot, visuals_1d=visuals\n",
        ")\n",
        "light_profile_plotter.figures_1d(image=True)\n"
      ],
      "outputs": [],
      "execution_count": null
    },
    {
      "cell_type": "markdown",
      "metadata": {},
      "source": [
        "Finish."
      ]
    },
    {
      "cell_type": "code",
      "metadata": {},
      "source": [],
      "outputs": [],
      "execution_count": null
    }
  ],
  "metadata": {
    "anaconda-cloud": {},
    "kernelspec": {
      "display_name": "Python 3",
      "language": "python",
      "name": "python3"
    },
    "language_info": {
      "codemirror_mode": {
        "name": "ipython",
        "version": 3
      },
      "file_extension": ".py",
      "mimetype": "text/x-python",
      "name": "python",
      "nbconvert_exporter": "python",
      "pygments_lexer": "ipython3",
      "version": "3.6.1"
    }
  },
  "nbformat": 4,
  "nbformat_minor": 4
}