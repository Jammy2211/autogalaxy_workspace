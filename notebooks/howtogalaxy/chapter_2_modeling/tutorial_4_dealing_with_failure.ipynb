{
  "cells": [
    {
      "cell_type": "markdown",
      "metadata": {},
      "source": [
        "Tutorial 4: Dealing With Failure\n",
        "================================\n",
        "\n",
        "In the previous tutorial we intentionally made our non-linear search infer a local maxima solution and therefore return\n",
        "a physically incorrect model. In this tutorial, we will pretend that we have modeled our galaxy and inferred a local\n",
        "maxima. We introduce three approaches one can take that changes how we fit the model, all of which have the aim of\n",
        "ensuring we infer the global maxima:\n",
        "\n",
        " 1) Prior Tuning: Tell the non-linear search where to search parameter space.\n",
        " 2) Reduce Complexity: Fit a model with fewer parameters and therefore a simpler parameter space.\n",
        " 3) Look Harder: Brute force a global maxima by telling the non-linear search to sample parameter space more thoroughly.\n",
        "\n",
        "Each approach has its benefits and disadvantages and we will discuss them in detail.\n",
        "\n",
        "In the previous tutorial, when we inferred a local maxima we knew that we had done so. For modeling a real galaxy,\n",
        "we do not know the true model and it may be unclear if the solution we inferred is a global or local maxima. The\n",
        "methods we learn in this tutorial are therefore equally important for verifying that a solution that looks like a\n",
        "global maxima solution is in indeed the global maxima."
      ]
    },
    {
      "cell_type": "code",
      "metadata": {},
      "source": [
        "%matplotlib inline\n",
        "from pyprojroot import here\n",
        "workspace_path = str(here())\n",
        "%cd $workspace_path\n",
        "print(f\"Working Directory has been set to `{workspace_path}`\")\n",
        "\n",
        "import numpy as np\n",
        "from os import path\n",
        "import autogalaxy as ag\n",
        "import autogalaxy.plot as aplt\n",
        "import autofit as af"
      ],
      "outputs": [],
      "execution_count": null
    },
    {
      "cell_type": "markdown",
      "metadata": {},
      "source": [
        "__Initial Setup__\n",
        "\n",
        "we'll use the same galaxy data as the previous tutorial, where:\n",
        "\n",
        " - The galaxy's bulge is an `Sersic`.\n",
        " - The galaxy's disk is an `Exponential`."
      ]
    },
    {
      "cell_type": "code",
      "metadata": {},
      "source": [
        "dataset_name = \"simple\"\n",
        "dataset_path = path.join(\"dataset\", \"imaging\", dataset_name)\n",
        "\n",
        "dataset = ag.Imaging.from_fits(\n",
        "    data_path=path.join(dataset_path, \"data.fits\"),\n",
        "    noise_map_path=path.join(dataset_path, \"noise_map.fits\"),\n",
        "    psf_path=path.join(dataset_path, \"psf.fits\"),\n",
        "    pixel_scales=0.1,\n",
        ")"
      ],
      "outputs": [],
      "execution_count": null
    },
    {
      "cell_type": "markdown",
      "metadata": {},
      "source": [
        "__Mask__\n",
        "\n",
        "we'll create and use a smaller 2.5\" `Mask2D` again."
      ]
    },
    {
      "cell_type": "code",
      "metadata": {},
      "source": [
        "mask = ag.Mask2D.circular(\n",
        "    shape_native=dataset.shape_native, pixel_scales=dataset.pixel_scales, radius=2.5\n",
        ")\n",
        "\n",
        "dataset = dataset.apply_mask(mask=mask)"
      ],
      "outputs": [],
      "execution_count": null
    },
    {
      "cell_type": "markdown",
      "metadata": {},
      "source": [
        "When plotted, the galaxy's bulge and disk are clearly visible in the centre of the image."
      ]
    },
    {
      "cell_type": "code",
      "metadata": {},
      "source": [
        "dataset_plotter = aplt.ImagingPlotter(\n",
        "    dataset=dataset, visuals_2d=aplt.Visuals2D(mask=mask)\n",
        ")\n",
        "dataset_plotter.subplot_dataset()"
      ],
      "outputs": [],
      "execution_count": null
    },
    {
      "cell_type": "markdown",
      "metadata": {},
      "source": [
        "__Approach 1: Prior Tuning__\n",
        "\n",
        "First, we are going to try giving our non-linear search a helping hand. Our priors tell the non-linear search where \n",
        "to look in parameter space. If we tell it to look in the right place (that is, 'tune' our priors), this might mean \n",
        "the search finds the global solution when it previously found a local maxima.\n",
        "\n",
        "We saw in a previous tutorial that we can fully customize priors in **PyAutoGalaxy**, so lets give it a go. I've set up \n",
        "a custom search below and specified priors that give the non-linear search a better chance of inferring the global \n",
        "maxima solution, alongside discussing how I have changed each prior from the default values specified by the \n",
        "`config/priors/default` config files.\n",
        "\n",
        "In a previous tutorial, we customized the priors of a model by creating a `Galaxy` as a `Model` and customizing each\n",
        "prior:"
      ]
    },
    {
      "cell_type": "code",
      "metadata": {},
      "source": [
        "galaxy = af.Model(ag.Galaxy, redshift=0.5, bulge=ag.lp.Sersic, disk=ag.lp.Exponential)\n",
        "\n",
        "galaxy.bulge.centre_0 = af.UniformPrior(lower_limit=-0.1, upper_limit=0.1)\n",
        "galaxy.bulge.centre_1 = af.UniformPrior(lower_limit=-0.1, upper_limit=0.1)\n",
        "galaxy.disk.centre_0 = af.UniformPrior(lower_limit=-0.1, upper_limit=0.1)\n",
        "galaxy.disk.centre_1 = af.UniformPrior(lower_limit=-0.1, upper_limit=0.1)"
      ],
      "outputs": [],
      "execution_count": null
    },
    {
      "cell_type": "markdown",
      "metadata": {},
      "source": [
        "We can alternatively create the light and bulge profiles as a `Model` and customize their parameters, and then pass them\n",
        "to the model galaxy and overall model. These two approaches are equivalent, but in this example the style below \n",
        "provides more concise and readable code. We will therefore switch to this code style in this tutorial, but may swap \n",
        "back and forth between the two styles throughout **HowToGalaxy** depending on what is more readable."
      ]
    },
    {
      "cell_type": "code",
      "metadata": {},
      "source": [
        "bulge = af.Model(ag.lp.Sersic)\n",
        "disk = af.Model(ag.lp.Exponential)"
      ],
      "outputs": [],
      "execution_count": null
    },
    {
      "cell_type": "markdown",
      "metadata": {},
      "source": [
        "By default, the prior on the $(y,x)$ coordinates of a `LightProfile` is a GaussianPrior with \n",
        "`mean=0.0` and `sigma=0.3`. However, visual inspection of our galaxy image tells us that its centre (based on the\n",
        "galaxy's luminous emission) is at x = 0.0\" and y = 0.0\", so lets reduce the `sigma` value on this prior so the\n",
        "non-linear search looks over a very narrow range of `centre` values in parameter space."
      ]
    },
    {
      "cell_type": "code",
      "metadata": {},
      "source": [
        "bulge.centre_0 = af.UniformPrior(lower_limit=-0.05, upper_limit=0.05)\n",
        "bulge.centre_1 = af.UniformPrior(lower_limit=-0.05, upper_limit=0.05)\n",
        "disk.centre_0 = af.UniformPrior(lower_limit=-0.05, upper_limit=0.05)\n",
        "disk.centre_1 = af.UniformPrior(lower_limit=-0.05, upper_limit=0.05)"
      ],
      "outputs": [],
      "execution_count": null
    },
    {
      "cell_type": "markdown",
      "metadata": {},
      "source": [
        "By default, the elliptical components of the of our galaxy's elliptical `LightProfile` are `GaussianPrior`'s \n",
        "with `mean=0.0` and `sigma=0.5`. Note that the solution `ell_comps=(0.0, 0.0)` corresponds to a spherical system\n",
        "and that all physical solutions (e.g. with axis-ratios running from 0.0 -> 1.0 and position angles 0.0 -> 180.0 degrees) \n",
        "are encapsulated for solutions where each component runs from -1.0 -> 1.0). \n",
        "\n",
        "However, through visual inspection of the image we can often determine the position angle of the galaxy's light, which \n",
        "for this data is clearly 45.0 degrees counter-clockwise from the x-axis. We can update the priors on our elliptical \n",
        "components to reflect this. The `lower_limit` and `upper_limit` on a `GaussianPrior` ensure the solutions cannot go\n",
        "outside the physically plausible range -1.0 -> 1.0."
      ]
    },
    {
      "cell_type": "code",
      "metadata": {},
      "source": [
        "bulge.ell_comps.ell_comps_0 = af.GaussianPrior(\n",
        "    mean=0.333333, sigma=0.1, lower_limit=-1.0, upper_limit=1.0\n",
        ")\n",
        "bulge.ell_comps.ell_comps_1 = af.GaussianPrior(\n",
        "    mean=0.0, sigma=0.1, lower_limit=-1.0, upper_limit=1.0\n",
        ")\n",
        "\n",
        "disk.ell_comps.ell_comps_0 = af.GaussianPrior(\n",
        "    mean=0.333333, sigma=0.1, lower_limit=-1.0, upper_limit=1.0\n",
        ")\n",
        "disk.ell_comps.ell_comps_1 = af.GaussianPrior(\n",
        "    mean=0.0, sigma=0.1, lower_limit=-1.0, upper_limit=1.0\n",
        ")"
      ],
      "outputs": [],
      "execution_count": null
    },
    {
      "cell_type": "markdown",
      "metadata": {},
      "source": [
        "The `effective_radius` of light profile is its 'half-light' radius, the radius at which 50% of its total luminosity \n",
        "is internal to a circle defined within that radius. **PyAutoGalaxy** assumes a `UniformPrior` on this quantity between \n",
        "0.0\" and 30.0\". This large range of values is required to cover the size of all possible galaxies that can be \n",
        "observed in the Universe.\n",
        "\n",
        "However, inspection of this image shows the galaxy's light does not extend anywhere near 30.0\", so lets reduce its\n",
        "value for both bulge and disk components."
      ]
    },
    {
      "cell_type": "code",
      "metadata": {},
      "source": [
        "bulge.effective_radius = af.GaussianPrior(\n",
        "    mean=1.0, sigma=0.8, lower_limit=0.0, upper_limit=np.inf\n",
        ")\n",
        "disk.effective_radius = af.GaussianPrior(\n",
        "    mean=1.0, sigma=0.8, lower_limit=0.0, upper_limit=np.inf\n",
        ")"
      ],
      "outputs": [],
      "execution_count": null
    },
    {
      "cell_type": "markdown",
      "metadata": {},
      "source": [
        "The `sersic_index` defines how concentrated the light profile is. In galaxy structure studies, values of Sersic index\n",
        "around 1.0 indicate a disk galaxy (which is the value the `Exponential` uses). \n",
        "\n",
        "Higher values of 3 or 4 indicate an elliptical galaxy. **PyAutoGalaxy** assumes a `UniformPrior` between 0.8 and 8.0 \n",
        "by default on this parameter, as a user could model galaxies\n",
        "where the galaxy is of any morphology.\n",
        "\n",
        "We are assuming the `bulge` component is a bulge, thus we can change its prior on the `sersic_index` to a value near 3."
      ]
    },
    {
      "cell_type": "code",
      "metadata": {},
      "source": [
        "bulge.sersic_index = af.GaussianPrior(\n",
        "    mean=3.0, sigma=1.0, lower_limit=0.0, upper_limit=np.inf\n",
        ")"
      ],
      "outputs": [],
      "execution_count": null
    },
    {
      "cell_type": "markdown",
      "metadata": {},
      "source": [
        "We now compose the overall model, where the galaxy model uses the `Model` components above which had their\n",
        "priors customizes.\n",
        "\n",
        "In this exercise, I'm not going to change any priors on the galaxy. Whilst modeling experts can look at a \n",
        "galaxy and often tell you roughly where the galaxy is located, it is something of art \n",
        "form. Furthermore, the source's morphology can be pretty complex, making it difficult to come up with a good source \n",
        "prior!"
      ]
    },
    {
      "cell_type": "code",
      "metadata": {},
      "source": [
        "galaxy = af.Model(ag.Galaxy, redshift=0.5, bulge=bulge, disk=disk)\n",
        "\n",
        "model = af.Collection(galaxies=af.Collection(galaxy=galaxy))"
      ],
      "outputs": [],
      "execution_count": null
    },
    {
      "cell_type": "markdown",
      "metadata": {},
      "source": [
        "The `info` attribute shows the model, including the priors specified above."
      ]
    },
    {
      "cell_type": "code",
      "metadata": {},
      "source": [
        "print(model.info)"
      ],
      "outputs": [],
      "execution_count": null
    },
    {
      "cell_type": "markdown",
      "metadata": {},
      "source": [
        "We can now create this custom search and run it. Our non-linear search will now start by sampling higher likelihood \n",
        "regions of parameter space, given our improved and more informed priors."
      ]
    },
    {
      "cell_type": "code",
      "metadata": {},
      "source": [
        "search = af.Nautilus(\n",
        "    path_prefix=path.join(\"howtogalaxy\", \"chapter_2\"),\n",
        "    name=\"tutorial_4_custom_priors\",\n",
        "    unique_tag=dataset_name,\n",
        "    n_live=100,\n",
        "    number_of_cores=1,\n",
        ")\n",
        "\n",
        "analysis = ag.AnalysisImaging(dataset=dataset)\n",
        "\n",
        "print(\n",
        "    \"The non-linear search has begun running - checkout the workspace/output/howtogalaxy/chapter_2/tutorial_4_custom_priors\"\n",
        "    \" folder for live output of the results, images and model.\"\n",
        "    \" This Jupyter notebook cell with progress once search has completed - this could take some time!\"\n",
        ")\n",
        "\n",
        "result_custom_priors = search.fit(model=model, analysis=analysis)\n",
        "\n",
        "print(\"Search has finished run - you may now continue the notebook.\")\n",
        "\n",
        "print(result_custom_priors.info)"
      ],
      "outputs": [],
      "execution_count": null
    },
    {
      "cell_type": "markdown",
      "metadata": {},
      "source": [
        "__Result__\n",
        "\n",
        "Bam! We get a good model, which corresponds to the global maxima. By giving our non-linear search a helping hand and \n",
        "informing it of where to sample parameter space, we can increase the odds that we find the global maxima solution."
      ]
    },
    {
      "cell_type": "code",
      "metadata": {},
      "source": [
        "fit_plotter = aplt.FitImagingPlotter(fit=result_custom_priors.max_log_likelihood_fit)\n",
        "fit_plotter.subplot_fit()"
      ],
      "outputs": [],
      "execution_count": null
    },
    {
      "cell_type": "markdown",
      "metadata": {},
      "source": [
        "__Discussion__\n",
        "\n",
        "By tuning our priors to the galaxy we fit we increase the chance of inferring the global maxima model. The search\n",
        "may also fit the model a lot faster, given it spends less time searches regions of parameter space that do not\n",
        "correspond to good solutions. \n",
        "\n",
        "Before moving onto the next approach, lets think about the advantages and disadvantages of prior tuning:\n",
        "\n",
        "Advantages: \n",
        "\n",
        " - We have a higher chance of finding the globally maximum log likelihood solutions in parameter space.\n",
        " - The search took less time to run because the non-linear search explored less of parameter space.\n",
        "\n",
        "Disadvantages: \n",
        "\n",
        " - If we specified a prior incorrectly the non-linear search will infer an incorrect solution.\n",
        " - The priors for the search were tailored to the specific galaxy we fitted. If we are fitting multiple galaxies, \n",
        " we would have customize the priors for every single fit, for large samples of galaxies this would take a lot of time!\n",
        "\n",
        "__Approach 2: Reducing Complexity__\n",
        "\n",
        "The non-linear search may fail because the model is too complex, making its parameter space too difficult to \n",
        "sample accurately. Can we can make the model less complex, whilst keeping it realistic enough to perform our \n",
        "scientific study? What assumptions can we make to reduce the number of model parameters and therefore \n",
        "dimensionality of non-linear parameter space?"
      ]
    },
    {
      "cell_type": "code",
      "metadata": {},
      "source": [
        "bulge = af.Model(ag.lp.Sersic)\n",
        "disk = af.Model(ag.lp.Exponential)"
      ],
      "outputs": [],
      "execution_count": null
    },
    {
      "cell_type": "markdown",
      "metadata": {},
      "source": [
        "First, we create a model that assumes that the bulge and disk are geometrically aligned. That  is, the bulge and\n",
        "disk centres and elliptical components are perfectly aligned with one another. This may, or may \n",
        "not, be a reasonable assumption, but it`ll remove 4 parameters from the model (the centre and elliptical \n",
        "components of the bulge profile), so it is worth trying!\n",
        "\n",
        "To apply our assumption that the bulge and disk are geometrically aligned, we `pair` the `centre` and `ell_comps` \n",
        "parameters by setting them equal to one another. This removes the parameter on the left-hand side of the pairing from \n",
        "the galaxy model such that when a model is created it has the same value as the parameter on the right-hand side."
      ]
    },
    {
      "cell_type": "code",
      "metadata": {},
      "source": [
        "bulge.centre = disk.centre\n",
        "bulge.ell_comps = disk.ell_comps"
      ],
      "outputs": [],
      "execution_count": null
    },
    {
      "cell_type": "markdown",
      "metadata": {},
      "source": [
        "We now compose the model, which will have a non-linear parameter space with 4 less dimensions than the fit performed\n",
        "previously. "
      ]
    },
    {
      "cell_type": "code",
      "metadata": {},
      "source": [
        "galaxy = af.Model(ag.Galaxy, redshift=0.5, bulge=bulge, disk=disk)\n",
        "\n",
        "model = af.Collection(galaxies=af.Collection(galaxy=galaxy))"
      ],
      "outputs": [],
      "execution_count": null
    },
    {
      "cell_type": "markdown",
      "metadata": {},
      "source": [
        "The `info` attribute shows the model, including the parameter linking specified above."
      ]
    },
    {
      "cell_type": "code",
      "metadata": {},
      "source": [
        "print(model.info)"
      ],
      "outputs": [],
      "execution_count": null
    },
    {
      "cell_type": "markdown",
      "metadata": {},
      "source": [
        "We now create this search and run it."
      ]
    },
    {
      "cell_type": "code",
      "metadata": {},
      "source": [
        "search = af.Nautilus(\n",
        "    path_prefix=path.join(\"howtogalaxy\", \"chapter_2\"),\n",
        "    name=\"tutorial_4_reducing_complexity\",\n",
        "    unique_tag=dataset_name,\n",
        "    n_live=100,\n",
        "    number_of_cores=1,\n",
        ")\n",
        "\n",
        "print(\n",
        "    \"The non-linear search has begun running - checkout the workspace/output/howtogalaxy/chapter_2/tutorial_4_reducing_complexity\"\n",
        "    \" folder for live output of the results, images and model.\"\n",
        "    \" This Jupyter notebook cell with progress once search has completed - this could take some time!\"\n",
        ")\n",
        "\n",
        "result_bulge_disk_align = search.fit(model=model, analysis=analysis)\n",
        "\n",
        "print(\"Search has finished run - you may now continue the notebook.\")\n",
        "\n",
        "print(result_bulge_disk_align.info)\n",
        "\n",
        "fit_plotter = aplt.FitImagingPlotter(fit=result_bulge_disk_align.max_log_likelihood_fit)\n",
        "fit_plotter.subplot_fit()"
      ],
      "outputs": [],
      "execution_count": null
    },
    {
      "cell_type": "markdown",
      "metadata": {},
      "source": [
        "__Result__\n",
        "\n",
        "The results look pretty good. Our galaxy fits the data pretty well and we've clearly inferred a model that looks \n",
        "similar to the one above. However, inspection of the residuals shows that the fit was not quite as good as the \n",
        "first search.\n",
        "\n",
        "It turns out that for this simulation, the bulge and disk had different elliptical components. The quality of the fit \n",
        "suffered and the highest value of log likelihood for the search inferred was lower as a result.\n",
        "\n",
        "Herein lies the pitfalls of making assumptions, they may make your model less realistic and your fits worse! \n",
        "\n",
        "__Discussion__\n",
        "\n",
        "Again, lets consider the advantages and disadvantages of this approach:\n",
        "\n",
        "Advantages:\n",
        "\n",
        " - By reducing parameter space`s complexity we again had a higher chance of inferring the global maximum log \n",
        " likelihood and the time required by the search to do this is reducing.\n",
        " - Unlike tuned priors, the search was not specific to one galaxy and we could run it on many galaxy images.\n",
        "    \n",
        "Disadvantages:\n",
        "\n",
        " - Our model was less realistic and our fit suffered as a result.\n",
        "\n",
        "__Approach 3: Look Harder__\n",
        "\n",
        "In approaches 1 and 2 we extended our non-linear search an olive branch and helped it find the highest log likelihood \n",
        "regions of parameter space. In approach 3 ,we're going to tell it to just `look harder`.\n",
        "\n",
        "Every non-linear search has settings which govern how thoroughly it searches parameter space, with the number of live\n",
        "points that was passed to `Nautilus` an example of such a setting. The more thoroughly the search looks, the more likely \n",
        "it is that it`ll find the global maximum model. However, the search will also take longer!\n",
        "\n",
        "Below, we create a more thorough `nautilus` search, that uses `n_live=200`. What these settings\n",
        "are actually changing is discussed in the optional tutorial `HowToGalaxy/chapter_optional/tutorial_searches.ipynb`.\n",
        "\n",
        "Due to the long run times of this search, we comment it output below so it does not run. Feel free to undo these\n",
        "comments so the script runs faster."
      ]
    },
    {
      "cell_type": "code",
      "metadata": {},
      "source": [
        "galaxy = af.Model(ag.Galaxy, redshift=0.5, bulge=ag.lp.Sersic, disk=ag.lp.Exponential)\n",
        "\n",
        "model = af.Collection(galaxies=af.Collection(galaxy=galaxy))\n",
        "\n",
        "search = af.Nautilus(\n",
        "    path_prefix=path.join(\"howtogalaxy\", \"chapter_2\"),\n",
        "    name=\"tutorial_4_look_harder\",\n",
        "    unique_tag=dataset_name,\n",
        "    n_live=200,\n",
        "    number_of_cores=1,\n",
        ")\n",
        "\n",
        "print(\n",
        "    \"The non-linear search has begun running - checkout the workspace/output/howtogalaxy/chapter_2/tutorial_4_look_harder\"\n",
        "    \" folder for live output of the results, images and model.\"\n",
        "    \" This Jupyter notebook cell with progress once search has completed - this could take some time!\"\n",
        ")\n",
        "\n",
        "# result_look_harder = search.fit(model=model, analysis=analysis)\n",
        "\n",
        "print(\"Search has finished run - you may now continue the notebook.\")\n",
        "\n",
        "# print(result_look_harder.info)\n",
        "\n",
        "# fit_plotter = aplt.FitImagingPlotter(\n",
        "#     fit=result_look_harder.max_log_likelihood_fit\n",
        "# )\n",
        "# fit_plotter.subplot_fit()"
      ],
      "outputs": [],
      "execution_count": null
    },
    {
      "cell_type": "markdown",
      "metadata": {},
      "source": [
        "lets list the advantages and disadvantages of simply adjusting the non-linear search:\n",
        "\n",
        "Advantages:\n",
        "\n",
        " - Its easy to setup, we simply change settings of the non-linear search.\n",
        "    \n",
        " - It generalizes to any galaxy.\n",
        " \n",
        " - We can make our model as complex as we want.\n",
        "\n",
        "Disadvantage:\n",
        " \n",
        " - Its potentially expensive. Very expensive. For very complex models, the run times can hours, days, weeks or, dare \n",
        " I say it, months!\n",
        "\n",
        "So, we can now fit galaxies. And when it fails, we know how to get it to work. \n",
        "\n",
        "In chapter 3 of **HowToGalaxy**, we will introduce a technique called 'non-linear search chaining', which performs a \n",
        "model fit by chaining together multiple searches back-to-back . This allows us to combine the 3 different approaches \n",
        "discussed and exploit the advantages of each, whilst not being hindered by their disadvantages.\n",
        "\n",
        "With search chaining, we can:\n",
        "\n",
        " - Fit simpler models with lower dimensionality parameter spaces in the earlier searches and gradually increase the\n",
        "  model complexity search-by-search, guiding the model-fit to a sufficiently realistic model. \n",
        "  \n",
        " - In these earlier searches (with easier to sample parameter spaces), use fast non-linear search settings to compute \n",
        " the results quickly and switch to slower settings in later searches when we fit more complex models.\n",
        "\n",
        " - Use 'prior passing' to setup the priors of each parameter in the later searches, based on the models inferred \n",
        " by the earlier searches. We can therefore guide each search on how to sample a complex model's parameter space \n",
        " in a way that can be fully generalized to any galaxy.\n",
        " \n",
        "To wrap up chapter 2, we have a few more tutorials, where we will discuss masking in more detail, the `Result` object\n",
        "and how to make **PyAutoGalaxy** run faster."
      ]
    },
    {
      "cell_type": "code",
      "metadata": {},
      "source": [],
      "outputs": [],
      "execution_count": null
    }
  ],
  "metadata": {
    "anaconda-cloud": {},
    "kernelspec": {
      "display_name": "Python 3",
      "language": "python",
      "name": "python3"
    },
    "language_info": {
      "codemirror_mode": {
        "name": "ipython",
        "version": 3
      },
      "file_extension": ".py",
      "mimetype": "text/x-python",
      "name": "python",
      "nbconvert_exporter": "python",
      "pygments_lexer": "ipython3",
      "version": "3.6.1"
    }
  },
  "nbformat": 4,
  "nbformat_minor": 4
}