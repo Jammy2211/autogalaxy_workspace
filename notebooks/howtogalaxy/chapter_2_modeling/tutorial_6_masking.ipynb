{
  "cells": [
    {
      "cell_type": "markdown",
      "metadata": {},
      "source": [
        "Tutorial 6: Masking\n",
        "===================\n",
        "\n",
        "We have learnt everything we need to know about non-linear searches to model a galaxy and infer a good lens\n",
        "model solution. Now, lets consider masking in more detail, something we have not given much consideration previously.\n",
        "We'll also learn a neat trick to improve the speed and accuracy of a non-linear search."
      ]
    },
    {
      "cell_type": "code",
      "metadata": {},
      "source": [
        "%matplotlib inline\n",
        "from pyprojroot import here\n",
        "workspace_path = str(here())\n",
        "%cd $workspace_path\n",
        "print(f\"Working Directory has been set to `{workspace_path}`\")\n",
        "\n",
        "from os import path\n",
        "import autogalaxy as ag\n",
        "import autogalaxy.plot as aplt\n",
        "import autofit as af"
      ],
      "outputs": [],
      "execution_count": null
    },
    {
      "cell_type": "markdown",
      "metadata": {},
      "source": [
        "__Initial Setup__\n",
        "\n",
        "we'll use the same galaxy data as tutorials 1 & 2, where:\n",
        "\n",
        " - The galaxy's `LightProfile` is an `Sersic`."
      ]
    },
    {
      "cell_type": "code",
      "metadata": {},
      "source": [
        "dataset_name = \"simple__sersic\"\n",
        "dataset_path = path.join(\"dataset\", \"imaging\", dataset_name)\n",
        "\n",
        "dataset = ag.Imaging.from_fits(\n",
        "    data_path=path.join(dataset_path, \"data.fits\"),\n",
        "    noise_map_path=path.join(dataset_path, \"noise_map.fits\"),\n",
        "    psf_path=path.join(dataset_path, \"psf.fits\"),\n",
        "    pixel_scales=0.1,\n",
        ")"
      ],
      "outputs": [],
      "execution_count": null
    },
    {
      "cell_type": "markdown",
      "metadata": {},
      "source": [
        "__Mask__\n",
        "\n",
        "In tutorials 1 and 2 we used a 3.0\" circular mask. \n",
        "\n",
        "However, there is very faint flux emitted at the outskirts of the galaxy, which the model will benefit from fitting\n",
        "by using a larger mask."
      ]
    },
    {
      "cell_type": "code",
      "metadata": {},
      "source": [
        "mask = ag.Mask2D.circular(\n",
        "    shape_native=dataset.shape_native, pixel_scales=dataset.pixel_scales, radius=6.0\n",
        ")\n",
        "\n",
        "dataset = dataset.apply_mask(mask=mask)\n",
        "\n",
        "dataset_plotter = aplt.ImagingPlotter(\n",
        "    dataset=dataset, visuals_2d=aplt.Visuals2D(mask=mask)\n",
        ")\n",
        "dataset_plotter.subplot_dataset()"
      ],
      "outputs": [],
      "execution_count": null
    },
    {
      "cell_type": "markdown",
      "metadata": {},
      "source": [
        "__Over Sampling__\n",
        "\n",
        "Apply adaptive over sampling to ensure the calculation is accurate, you can read up on over-sampling in more detail via \n",
        "the `autogalaxy_workspace/*/guides/over_sampling.ipynb` notebook."
      ]
    },
    {
      "cell_type": "code",
      "metadata": {},
      "source": [
        "over_sample_size = ag.util.over_sample.over_sample_size_via_radial_bins_from(\n",
        "    grid=dataset.grid,\n",
        "    sub_size_list=[8, 4, 1],\n",
        "    radial_list=[0.3, 0.6],\n",
        "    centre_list=[(0.0, 0.0)],\n",
        ")\n",
        "\n",
        "dataset = dataset.apply_over_sampling(over_sample_size_lp=over_sample_size)"
      ],
      "outputs": [],
      "execution_count": null
    },
    {
      "cell_type": "markdown",
      "metadata": {},
      "source": [
        "__Model + Search + Analysis__\n",
        "\n",
        "Lets fit the data using this mask, by creating the search as per usuag. Note that the `imaging` data with this mask\n",
        "applied is passed into the `AnalysisImaging` object, ensuring that this is the mask the model-fit uses. "
      ]
    },
    {
      "cell_type": "code",
      "metadata": {},
      "source": [
        "galaxy = af.Model(ag.Galaxy, redshift=1.0, bulge=ag.lp.Sersic)\n",
        "model = af.Collection(galaxies=af.Collection(galaxy=galaxy))\n",
        "\n",
        "search = af.Nautilus(\n",
        "    path_prefix=path.join(\"howtogalaxy\", \"chapter_2\"),\n",
        "    name=\"tutorial_5_with_custom_mask\",\n",
        "    unique_tag=dataset_name,\n",
        "    n_live=80,\n",
        "    number_of_cores=1,\n",
        ")\n",
        "\n",
        "analysis = ag.AnalysisImaging(dataset=dataset)\n",
        "\n",
        "search.fit(model=model, analysis=analysis)"
      ],
      "outputs": [],
      "execution_count": null
    },
    {
      "cell_type": "markdown",
      "metadata": {},
      "source": [
        "__Discussion__\n",
        "\n",
        "So, we can choose the mask we use in a model-fit. We know that we want the mask remove as little of the galaxy's light, \n",
        "but is this the 'right' mask? What is the 'right' mask? Maybe we want a bigger mask? a smaller mask?\n",
        "\n",
        "When it comes to choosing a mask, we are essentially balancing two things: computational run-time and accuracy. When we\n",
        "use a bigger mask the model-fit will take longer to perform. Why? Because a bigger mask includes more image-pixels \n",
        "in the analysis, and for every additional image-pixel we have to compute its light, blur it with the PSF, compare\n",
        "it to the data, etc.\n",
        " \n",
        "If run-time was not a consideration we would always choose a bigger mask, for two reasons:\n",
        "\n",
        " 1) The galaxy may have very faint emission that when you choose the mask you simply do not notice. Overly aggressive \n",
        " masking runs the risk of us inadvertantly masking out some of the galaxy's light, which would otherwise better \n",
        " constrain the model!\n",
        "    \n",
        " 2) When the data is fitted with a model image, the fit is performed only within the masked region. For certain galaxies\n",
        " it is possible that it may produce extraneous emission outside of the masked region that is not actually observed in \n",
        " the data itself. If this region had not been masked-out, the model would create residuals in these locations and \n",
        " reduce the value of likelihood appropriately, whereas if it is masked out this reduction in likelihood is \n",
        " not fed through to the analysis. \n",
        "\n",
        "As you use **PyAutoGalaxy** more you will get a feel for how fast a model-fit will run given the quality of data,\n",
        "model complexity, non-linear search settings, etc. As you develop this intuition, I recommend that you always aim to \n",
        "use as large of a mask as possible (whilst still achieving reasonable run-times). Aggressive masking will make \n",
        "**PyAutoGalaxy** run very fast, but could lead you to infer an incorrect model! \n",
        "\n",
        "In chapter 3, where we introduce 'non-linear search chaining' we will see how we can use tighter masks in earlier \n",
        "searches to achieve faster run times.\n",
        "\n",
        "If your data includes the light of additional galaxies nearby you may  much have no choice but to use a smaller \n",
        "circular mask, because it is important these objects do not interfere with the fit. \n",
        "\n",
        "In fact, you can drawcustom masks that remove their light entirely. You may now wish to checkout \n",
        "the `autogalaxy_workspace/*/imaging/preprocess` package. This includes tools for  creating custom masks and \n",
        "marking the positions on a galaxy (via a GUI) so you can use them in a model-fit.\n",
        "\n",
        "__Wrap Up__\n",
        "\n",
        "There are is one thing you should bare in mind in terms of masking:\n",
        "\n",
        " 1) Customizing the mask for the analysis of one galaxy gets the analysis running fast and can provide accurate \n",
        " non-linear sampling. However, for a large sample of galaxies, this high level of customization may take a lot of time. "
      ]
    },
    {
      "cell_type": "code",
      "metadata": {},
      "source": [],
      "outputs": [],
      "execution_count": null
    }
  ],
  "metadata": {
    "anaconda-cloud": {},
    "kernelspec": {
      "display_name": "Python 3",
      "language": "python",
      "name": "python3"
    },
    "language_info": {
      "codemirror_mode": {
        "name": "ipython",
        "version": 3
      },
      "file_extension": ".py",
      "mimetype": "text/x-python",
      "name": "python",
      "nbconvert_exporter": "python",
      "pygments_lexer": "ipython3",
      "version": "3.6.1"
    }
  },
  "nbformat": 4,
  "nbformat_minor": 4
}