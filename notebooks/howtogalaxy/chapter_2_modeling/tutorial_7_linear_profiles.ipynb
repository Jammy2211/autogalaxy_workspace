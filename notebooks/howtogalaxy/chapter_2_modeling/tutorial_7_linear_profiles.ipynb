{
  "cells": [
    {
      "cell_type": "markdown",
      "metadata": {},
      "source": [
        "Tutorial 5: Linear Profiles\n",
        "===========================\n",
        "\n",
        "In the previous tutorial we learned how to balance model complexity with our non-linear search in order to infer \n",
        "accurate model solutions and avoid failure. We saw how in order to fit a model accurately one may have to\n",
        "parameterize and fit a simpler model with fewer non-linear parameters, at the expense of fitting the data less \n",
        "accurately.\n",
        "\n",
        "It would be desirable if we could make our model have more flexibility enabling it to fit more complex galaxy\n",
        "structures, but in a way that does not increase (or perhaps even decreases) the number of non-linear parameters.\n",
        "This would keep the `nautilus` model-fit efficient and accurate.\n",
        "\n",
        "This is possible using linear light profiles, which solve for their `intensity` parameter via efficient linear \n",
        "algebra, using a process called an inversion. The inversion always computes `intensity` values that give the best \n",
        "fit to the data (e.g. they minimize the chi-squared and therefore maximize the likelihood). \n",
        "\n",
        "This tutorial will first fit a model using two linear light profiles. Because their `intensity` values are solved for \n",
        "implicitly, this means they are not a dimension of the non-linear parameter space fitted by `nautilus`, therefore \n",
        "reducing the complexity of parameter space and making the fit faster and more accurate.\n",
        "\n",
        "This tutorial will then show how many linear light profiles can be combined into a `Basis`, which comes from the term\n",
        "'basis function'. By combining many linear light profiles models can be composed which are able to fit complex galaxy \n",
        "structures (e.g. asymmetries, twists) with just N=6-8 non-linear parameters."
      ]
    },
    {
      "cell_type": "code",
      "metadata": {},
      "source": [
        "%matplotlib inline\n",
        "from pyprojroot import here\n",
        "workspace_path = str(here())\n",
        "%cd $workspace_path\n",
        "print(f\"Working Directory has been set to `{workspace_path}`\")\n",
        "\n",
        "import numpy as np\n",
        "from os import path\n",
        "import autogalaxy as ag\n",
        "import autogalaxy.plot as aplt\n",
        "import autofit as af"
      ],
      "outputs": [],
      "execution_count": null
    },
    {
      "cell_type": "markdown",
      "metadata": {},
      "source": [
        "__Initial Setup__\n",
        "\n",
        "we'll use the same galaxy data as the previous tutorial, where:\n",
        "\n",
        " - The galaxy's bulge is an `Sersic`.\n",
        " - The galaxy's disk is an `Exponential`."
      ]
    },
    {
      "cell_type": "code",
      "metadata": {},
      "source": [
        "dataset_name = \"simple\"\n",
        "dataset_path = path.join(\"dataset\", \"imaging\", dataset_name)\n",
        "\n",
        "dataset = ag.Imaging.from_fits(\n",
        "    data_path=path.join(dataset_path, \"data.fits\"),\n",
        "    noise_map_path=path.join(dataset_path, \"noise_map.fits\"),\n",
        "    psf_path=path.join(dataset_path, \"psf.fits\"),\n",
        "    pixel_scales=0.1,\n",
        ")"
      ],
      "outputs": [],
      "execution_count": null
    },
    {
      "cell_type": "markdown",
      "metadata": {},
      "source": [
        "__Mask__\n",
        "\n",
        "we'll create and use a smaller 2.5\" `Mask2D` again."
      ]
    },
    {
      "cell_type": "code",
      "metadata": {},
      "source": [
        "mask = ag.Mask2D.circular(\n",
        "    shape_native=dataset.shape_native, pixel_scales=dataset.pixel_scales, radius=2.5\n",
        ")\n",
        "\n",
        "dataset = dataset.apply_mask(mask=mask)"
      ],
      "outputs": [],
      "execution_count": null
    },
    {
      "cell_type": "markdown",
      "metadata": {},
      "source": [
        "When plotted, the galaxy's bulge and disk are clearly visible in the centre of the image."
      ]
    },
    {
      "cell_type": "code",
      "metadata": {},
      "source": [
        "dataset_plotter = aplt.ImagingPlotter(\n",
        "    dataset=dataset, visuals_2d=aplt.Visuals2D(mask=mask)\n",
        ")\n",
        "dataset_plotter.subplot_dataset()"
      ],
      "outputs": [],
      "execution_count": null
    },
    {
      "cell_type": "markdown",
      "metadata": {},
      "source": [
        "__Linear Light Profiles__\n",
        "\n",
        "First, we use a variant of a light profile discussed called a \"linear light profile\", which is accessed via the\n",
        "command `ag.lp_linear`. \n",
        " \n",
        "The `intensity` values of linear light profiles are solved for via linear algebra. We use the `Sersic` \n",
        "and `Exponential` linear light profiles, which are identical to the ordinary `Sersic` and `Exponential` \n",
        "profiles fitted in previous tutorials, except for their `intensity` parameter now being solved for implicitly.\n",
        "\n",
        "Because the `intensity` parameter of each light profile is not a free parameter in the model-fit, the dimensionality of \n",
        "non-linear parameter space is reduced by 1 for each light profile (in this example, 2). This also removes the \n",
        "degeneracies between the `intensity` and other light profile parameters (e.g. `effective_radius`, `sersic_index`), \n",
        "making the model-fit more robust.\n",
        "\n",
        "This is a rare example where we are able to reduce the complexity of parameter space without making the model itself \n",
        "any simpler. There is really no downside to using linear light profiles, so I would recommend you adopt them as \n",
        "standard for your own model-fits from here on!"
      ]
    },
    {
      "cell_type": "code",
      "metadata": {},
      "source": [
        "bulge = af.Model(ag.lp_linear.Sersic)\n",
        "disk = af.Model(ag.lp_linear.Exponential)\n",
        "\n",
        "bulge.centre = disk.centre\n",
        "\n",
        "galaxy = af.Model(ag.Galaxy, redshift=0.5, bulge=bulge, disk=disk)\n",
        "\n",
        "model = af.Collection(galaxies=af.Collection(galaxy=galaxy))"
      ],
      "outputs": [],
      "execution_count": null
    },
    {
      "cell_type": "markdown",
      "metadata": {},
      "source": [
        "The `info` attribute shows the model, including the linear light profiles.\n",
        "\n",
        "Note how the `intensity` is no longer listed and does not have a prior associated with it."
      ]
    },
    {
      "cell_type": "code",
      "metadata": {},
      "source": [
        "print(model.info)"
      ],
      "outputs": [],
      "execution_count": null
    },
    {
      "cell_type": "markdown",
      "metadata": {},
      "source": [
        "We now create this search and run it."
      ]
    },
    {
      "cell_type": "code",
      "metadata": {},
      "source": [
        "search = af.Nautilus(\n",
        "    path_prefix=path.join(\"howtogalaxy\", \"chapter_2\"),\n",
        "    name=\"tutorial_5_linear_light_profile\",\n",
        "    unique_tag=dataset_name,\n",
        "    n_live=100,\n",
        "    number_of_cores=1,\n",
        ")\n",
        "\n",
        "analysis = ag.AnalysisImaging(dataset=dataset)"
      ],
      "outputs": [],
      "execution_count": null
    },
    {
      "cell_type": "markdown",
      "metadata": {},
      "source": [
        "__Run Time__\n",
        "\n",
        "For standard light profiles, the log likelihood evaluation time is of order ~0.01 seconds for this dataset.\n",
        "\n",
        "For linear light profiles, the log likelihood evaluation increases to around ~0.05 seconds per likelihood evaluation.\n",
        "This is still fast, but it does mean that the fit may take around five times longer to run.\n",
        "\n",
        "However, because two free parameters have been removed from the model (the `intensity` of the lens bulge and \n",
        "source bulge), the total number of likelihood evaluations will reduce. Furthermore, the simpler parameter space\n",
        "likely means that the fit will take less than 10000 per free parameter to converge. This is aided further\n",
        "by the reduction in `n_live` to 100.\n",
        "\n",
        "Fits using standard light profiles and linear light profiles therefore take roughly the same time to run. However,\n",
        "the simpler parameter space of linear light profiles means that the model-fit is more reliable, less susceptible to\n",
        "converging to an incorrect solution and scales better if even more light profiles are included in the model."
      ]
    },
    {
      "cell_type": "code",
      "metadata": {},
      "source": [
        "run_time_dict, info_dict = analysis.profile_log_likelihood_function(\n",
        "    instance=model.random_instance()\n",
        ")\n",
        "\n",
        "print(f\"Log Likelihood Evaluation Time (second) = {run_time_dict['fit_time']}\")\n",
        "print(\n",
        "    \"Estimated Run Time Upper Limit (seconds) = \",\n",
        "    (run_time_dict[\"fit_time\"] * model.total_free_parameters * 10000)\n",
        "    / search.number_of_cores,\n",
        ")"
      ],
      "outputs": [],
      "execution_count": null
    },
    {
      "cell_type": "markdown",
      "metadata": {},
      "source": [
        "Run the non-linear search."
      ]
    },
    {
      "cell_type": "code",
      "metadata": {},
      "source": [
        "print(\n",
        "    \"The non-linear search has begun running - checkout the workspace/output/howtogalaxy/chapter_2/tutorial_5_linear_light_profile\"\n",
        "    \" folder for live output of the results, images and model.\"\n",
        "    \" This Jupyter notebook cell with progress once search has completed - this could take some time!\"\n",
        ")\n",
        "\n",
        "result_linear_light_profile = search.fit(model=model, analysis=analysis)"
      ],
      "outputs": [],
      "execution_count": null
    },
    {
      "cell_type": "markdown",
      "metadata": {},
      "source": [
        "__Result__\n",
        "\n",
        "The `info` attribute shows the resulting model, which does not display the `intensity` values for each light profile."
      ]
    },
    {
      "cell_type": "code",
      "metadata": {},
      "source": [
        "print(result_linear_light_profile.info)"
      ],
      "outputs": [],
      "execution_count": null
    },
    {
      "cell_type": "markdown",
      "metadata": {},
      "source": [
        "__Intensities__\n",
        "\n",
        "The intensities of linear light profiles are not a part of the model parameterization and therefore are not displayed\n",
        "in the `model.results` file.\n",
        "\n",
        "To extract the `intensity` values of a specific component in the model, we use the `max_log_likelihood_galaxies`,\n",
        "which has already performed the inversion and therefore the galaxy light profiles have their solved for\n",
        "`intensity`'s associated with them."
      ]
    },
    {
      "cell_type": "code",
      "metadata": {},
      "source": [
        "galaxies = result_linear_light_profile.max_log_likelihood_galaxies\n",
        "\n",
        "print(galaxies[0].bulge.intensity)"
      ],
      "outputs": [],
      "execution_count": null
    },
    {
      "cell_type": "markdown",
      "metadata": {},
      "source": [
        "The `Galaxies` contained in the `max_log_likelihood_fit` also has the solved for `intensity` values:"
      ]
    },
    {
      "cell_type": "code",
      "metadata": {},
      "source": [
        "fit = result_linear_light_profile.max_log_likelihood_fit\n",
        "\n",
        "galaxies = fit.galaxies\n",
        "\n",
        "print(galaxies[0].bulge.intensity)"
      ],
      "outputs": [],
      "execution_count": null
    },
    {
      "cell_type": "markdown",
      "metadata": {},
      "source": [
        "__Visualization__\n",
        "\n",
        "Linear light profiles and objects containing them (e.g. galaxies) cannot be plotted because they do not \n",
        "have an `intensity` value.\n",
        "\n",
        "Therefore, the objects created above which replaces all linear light profiles with ordinary light profiles must be\n",
        "used for visualization:"
      ]
    },
    {
      "cell_type": "code",
      "metadata": {},
      "source": [
        "galaxies = result_linear_light_profile.max_log_likelihood_galaxies\n",
        "\n",
        "galaxies_plotter = aplt.GalaxiesPlotter(galaxies=galaxies, grid=dataset.grid)\n",
        "galaxies_plotter.figures_2d(image=True)\n",
        "\n",
        "galaxy_plotter = aplt.GalaxyPlotter(galaxy=galaxies[0], grid=dataset.grid)\n",
        "galaxy_plotter.figures_2d(image=True)"
      ],
      "outputs": [],
      "execution_count": null
    },
    {
      "cell_type": "markdown",
      "metadata": {},
      "source": [
        "__Basis__\n",
        "\n",
        "We can use many linear light profiles to build a `Basis`. \n",
        "\n",
        "For example, below, we make a `Basis` out of 30 elliptical Gaussian linear light profiles which: \n",
        "\n",
        " - All share the same centre and elliptical components.\n",
        " - The `sigma` size of the Gaussians increases in log10 increments.\n",
        " \n",
        "Because `log10(1.0) = 0.0` the first Gaussian `sigma` value is therefore 0.0001, whereas because `log10(10) = 1.0`\n",
        "the size of the final Gaussian is 1.0. \n",
        "\n",
        "The equation below has therefore been chosen to provide intuition on the scale of the Gaussians."
      ]
    },
    {
      "cell_type": "code",
      "metadata": {},
      "source": [
        "total_gaussians = 30\n",
        "\n",
        "# The sigma values of the Gaussians will be fixed to values spanning 0.01 to the mask radius, 3.0\".\n",
        "mask_radius = 3.0\n",
        "log10_sigma_list = np.linspace(-2, np.log10(mask_radius), total_gaussians)\n",
        "\n",
        "# By defining the centre here, it creates two free parameters that are assigned below to all Gaussians.\n",
        "\n",
        "centre_0 = af.UniformPrior(lower_limit=-0.1, upper_limit=0.1)\n",
        "centre_1 = af.UniformPrior(lower_limit=-0.1, upper_limit=0.1)\n",
        "\n",
        "bulge_gaussian_list = []\n",
        "\n",
        "# A list of Gaussian model components whose parameters are customized belows.\n",
        "\n",
        "gaussian_list = af.Collection(\n",
        "    af.Model(ag.lp_linear.Gaussian) for _ in range(total_gaussians)\n",
        ")\n",
        "\n",
        "# Iterate over every Gaussian and customize its parameters.\n",
        "\n",
        "for i, gaussian in enumerate(gaussian_list):\n",
        "    gaussian.centre.centre_0 = centre_0  # All Gaussians have same y centre.\n",
        "    gaussian.centre.centre_1 = centre_1  # All Gaussians have same x centre.\n",
        "    gaussian.ell_comps = gaussian_list[\n",
        "        0\n",
        "    ].ell_comps  # All Gaussians have same elliptical components.\n",
        "    gaussian.sigma = (\n",
        "        10 ** log10_sigma_list[i]\n",
        "    )  # All Gaussian sigmas are fixed to values above.\n",
        "\n",
        "bulge_gaussian_list += gaussian_list\n",
        "\n",
        "# The Basis object groups many light profiles together into a single model component.\n",
        "\n",
        "bulge = af.Model(\n",
        "    ag.lp_basis.Basis,\n",
        "    light_profile_list=bulge_gaussian_list,\n",
        ")"
      ],
      "outputs": [],
      "execution_count": null
    },
    {
      "cell_type": "markdown",
      "metadata": {},
      "source": [
        "One we have a `Basis`, we can treat it like any other light profile in order to create a `Galaxy` and `Galaxies` and \n",
        "use it to fit data."
      ]
    },
    {
      "cell_type": "code",
      "metadata": {},
      "source": [
        "galaxy = ag.Galaxy(redshift=0.5, bulge=bulge)\n",
        "\n",
        "galaxies = ag.Galaxies(galaxies=[galaxy])\n",
        "\n",
        "fit = ag.FitImaging(dataset=dataset, galaxies=galaxies)"
      ],
      "outputs": [],
      "execution_count": null
    },
    {
      "cell_type": "markdown",
      "metadata": {},
      "source": [
        "By plotting the fit, we see that the `Basis` does a reasonable job at capturing the appearance of the lens galaxy.\n",
        "\n",
        "There are imperfections, but this is because we did not fit the model via a non-linear search in order to determine\n",
        "the optimal values of the Gaussians in the basis. In particular, the Gaussians above were all spherical, when the\n",
        "lens galaxy is elliptical. \n",
        "\n",
        "We rectify this below, where we use a non-linear search to determine the optimal values of the Gaussians!"
      ]
    },
    {
      "cell_type": "code",
      "metadata": {},
      "source": [
        "fit_plotter = aplt.FitImagingPlotter(\n",
        "    fit=fit,\n",
        ")\n",
        "fit_plotter.subplot_fit()"
      ],
      "outputs": [],
      "execution_count": null
    },
    {
      "cell_type": "markdown",
      "metadata": {},
      "source": [
        "__Model Fit__\n",
        "\n",
        "To fit a model using `Basis` functions, the API is very similar to that shown throughout this chapter, using both\n",
        "the `af.Model()` and `af.Collection()` objects.\n",
        "\n",
        "In this example we fit a `Basis` model for the bulge where:\n",
        "\n",
        " - The bulge is a superposition of 30 parametric linear `Gaussian` profiles [4 parameters]. \n",
        " - The centres and elliptical components of each family of Gaussians are all linked together.\n",
        " - The `sigma` size of the Gaussians increases in log10 increments.\n",
        "\n",
        "The number of free parameters and therefore the dimensionality of the MGe is just N=4."
      ]
    },
    {
      "cell_type": "code",
      "metadata": {},
      "source": [
        "total_gaussians = 30\n",
        "\n",
        "# The sigma values of the Gaussians will be fixed to values spanning 0.01 to the mask radius, 3.0\".\n",
        "mask_radius = 3.0\n",
        "log10_sigma_list = np.linspace(-2, np.log10(mask_radius), total_gaussians)\n",
        "\n",
        "# By defining the centre here, it creates two free parameters that are assigned below to all Gaussians.\n",
        "\n",
        "centre_0 = af.UniformPrior(lower_limit=-0.1, upper_limit=0.1)\n",
        "centre_1 = af.UniformPrior(lower_limit=-0.1, upper_limit=0.1)\n",
        "\n",
        "bulge_gaussian_list = []\n",
        "\n",
        "# A list of Gaussian model components whose parameters are customized belows.\n",
        "\n",
        "gaussian_list = af.Collection(\n",
        "    af.Model(ag.lp_linear.Gaussian) for _ in range(total_gaussians)\n",
        ")\n",
        "\n",
        "# Iterate over every Gaussian and customize its parameters.\n",
        "\n",
        "for i, gaussian in enumerate(gaussian_list):\n",
        "    gaussian.centre.centre_0 = centre_0  # All Gaussians have same y centre.\n",
        "    gaussian.centre.centre_1 = centre_1  # All Gaussians have same x centre.\n",
        "    gaussian.ell_comps = gaussian_list[\n",
        "        0\n",
        "    ].ell_comps  # All Gaussians have same elliptical components.\n",
        "    gaussian.sigma = (\n",
        "        10 ** log10_sigma_list[i]\n",
        "    )  # All Gaussian sigmas are fixed to values above.\n",
        "\n",
        "bulge_gaussian_list += gaussian_list\n",
        "\n",
        "# The Basis object groups many light profiles together into a single model component.\n",
        "\n",
        "bulge = af.Model(\n",
        "    ag.lp_basis.Basis,\n",
        "    light_profile_list=bulge_gaussian_list,\n",
        ")"
      ],
      "outputs": [],
      "execution_count": null
    },
    {
      "cell_type": "markdown",
      "metadata": {},
      "source": [
        "__Disk MGE__\n",
        "\n",
        "The residuals of the fit above showed us that the galaxy in the data is composed of multiple structures (e.g. a bulge\n",
        "and disk) which have distinct elliptical coordinates.\n",
        "\n",
        "We therefore compose a second `Basis` of 10 Gaussians to represent the `disk`. This is parameterized the same as\n",
        "the `bulge` (e.g. all Gaussians share the same `centre` and `ell_comps`) but is treated as a completely\n",
        "independent set of parameters."
      ]
    },
    {
      "cell_type": "code",
      "metadata": {},
      "source": [
        "total_gaussians = 10\n",
        "\n",
        "# The sigma values of the Gaussians will be fixed to values spanning 0.01 to the mask radius, 3.0\".\n",
        "mask_radius = 3.0\n",
        "log10_sigma_list = np.linspace(-2, np.log10(mask_radius), total_gaussians)\n",
        "\n",
        "disk_gaussian_list = []\n",
        "\n",
        "# A list of Gaussian model components whose parameters are customized belows.\n",
        "\n",
        "gaussian_list = af.Collection(\n",
        "    af.Model(ag.lp_linear.Gaussian) for _ in range(total_gaussians)\n",
        ")\n",
        "\n",
        "# Iterate over every Gaussian and customize its parameters.\n",
        "\n",
        "for i, gaussian in enumerate(gaussian_list):\n",
        "    gaussian.centre.centre_0 = bulge_gaussian_list[\n",
        "        0\n",
        "    ].centre_0  # All Gaussians have same y centre as bulge.\n",
        "    gaussian.centre.centre_1 = bulge_gaussian_list[\n",
        "        0\n",
        "    ].centre_1  # All Gaussians have same x centre as bulge.\n",
        "    gaussian.ell_comps = gaussian_list[\n",
        "        0\n",
        "    ].ell_comps  # All Gaussians have same elliptical components.\n",
        "    gaussian.sigma = (\n",
        "        10 ** log10_sigma_list[i]\n",
        "    )  # All Gaussian sigmas are fixed to values above.\n",
        "\n",
        "disk_gaussian_list += gaussian_list\n",
        "\n",
        "# The Basis object groups many light profiles together into a single model component.\n",
        "\n",
        "disk = af.Model(\n",
        "    ag.lp_basis.Basis,\n",
        "    light_profile_list=disk_gaussian_list,\n",
        ")"
      ],
      "outputs": [],
      "execution_count": null
    },
    {
      "cell_type": "markdown",
      "metadata": {},
      "source": [
        "We now compose the overall model which uses both sets of Gaussians to represent separately the bulge and disk.\n",
        "\n",
        "The overall dimensionality of non-linear parameter space is just N=6, which is fairly remarkable if you\n",
        "think about just how complex the structures are that these two `Basis` of Gaussians can capture!"
      ]
    },
    {
      "cell_type": "code",
      "metadata": {},
      "source": [
        "galaxy = af.Model(ag.Galaxy, redshift=0.5, bulge=bulge, disk=disk)\n",
        "\n",
        "model = af.Collection(galaxies=af.Collection(galaxy=galaxy))\n"
      ],
      "outputs": [],
      "execution_count": null
    },
    {
      "cell_type": "markdown",
      "metadata": {},
      "source": [
        "The `info` attribute shows the model, which is a lot longer than we have seen previously, given that is \n",
        "composed of many Gaussians!"
      ]
    },
    {
      "cell_type": "code",
      "metadata": {},
      "source": [
        "print(model.info)"
      ],
      "outputs": [],
      "execution_count": null
    },
    {
      "cell_type": "markdown",
      "metadata": {},
      "source": [
        "We now fit the model, with just `n_live=50` given the simiplicity of parameter space."
      ]
    },
    {
      "cell_type": "code",
      "metadata": {},
      "source": [
        "search = af.Nautilus(\n",
        "    path_prefix=path.join(\"howtogalaxy\", \"chapter_2\"),\n",
        "    name=\"tutorial_5_basis\",\n",
        "    unique_tag=dataset_name,\n",
        "    n_live=50,\n",
        "    number_of_cores=1,\n",
        ")\n",
        "\n",
        "print(\n",
        "    \"The non-linear search has begun running - checkout the workspace/output/howtogalaxy/chapter_2/tutorial_5_basis\"\n",
        "    \" folder for live output of the results, images and model.\"\n",
        "    \" This Jupyter notebook cell with progress once search has completed - this could take some time!\"\n",
        ")\n",
        "\n",
        "result_basis = search.fit(model=model, analysis=analysis)"
      ],
      "outputs": [],
      "execution_count": null
    },
    {
      "cell_type": "markdown",
      "metadata": {},
      "source": [
        "__Result__\n",
        "\n",
        "The result `info` attribute shows the result, which is again longer than usual given the large number of Gaussians\n",
        "used in the fit."
      ]
    },
    {
      "cell_type": "code",
      "metadata": {},
      "source": [
        "print(result_basis.info)"
      ],
      "outputs": [],
      "execution_count": null
    },
    {
      "cell_type": "markdown",
      "metadata": {},
      "source": [
        "Visualizing the fit shows that we successfully fit the data to the noise level.\n",
        "\n",
        "Note that the result objects `max_log_likelihood_galaxies` and `max_log_likelihood_fit` automatically convert\n",
        "all linear light profiles to ordinary light profiles, including every single one of the 20 Gaussians fitted\n",
        "above. \n",
        "\n",
        "This means we can use them directly to perform the visualization below."
      ]
    },
    {
      "cell_type": "code",
      "metadata": {},
      "source": [
        "print(result_basis.max_log_likelihood_instance)\n",
        "\n",
        "galaxies_plotter = aplt.GalaxiesPlotter(\n",
        "    galaxies=result_basis.max_log_likelihood_galaxies, grid=result_basis.grid\n",
        ")\n",
        "galaxies_plotter.subplot()\n",
        "\n",
        "fit_plotter = aplt.FitImagingPlotter(fit=result_basis.max_log_likelihood_fit)\n",
        "fit_plotter.subplot_fit()"
      ],
      "outputs": [],
      "execution_count": null
    },
    {
      "cell_type": "markdown",
      "metadata": {},
      "source": [
        "__Multi Gaussian Expansion Benefits__\n",
        "\n",
        "Symmetric light profiles (e.g. elliptical Sersics) may leave significant residuals, because they fail to capture\n",
        "irregular and asymmetric morphological of galaxies (e.g. isophotal twists, an ellipticity which varies radially).\n",
        "An MGE fully captures these features and can therefore much better represent the emission of complex galaxies.\n",
        "\n",
        "The MGE model can be composed in a way that has fewer non-linear parameters than an elliptical Sersic. In this example,\n",
        "a groups of Gaussians is used to represent the `bulge` of the galaxy, which in total correspond to just N=4 non-linear \n",
        "parameters (a `bulge` and `disk` comprising two linear Sersics has N=10 parameters).\n",
        "\n",
        "The MGE model parameterization is also composed such that neither the `intensity` parameters or any of the\n",
        "parameters controlling the size of the Gaussians (their `sigma` values) are non-linear parameters sampled by Nautilus.\n",
        "This removes the most significant degeneracies in parameter space, making the model much more reliable and efficient\n",
        "to fit.\n",
        "\n",
        "Therefore, not only does an MGE fit more complex galaxy morphologies, it does so using fewer non-linear parameters\n",
        "in a much simpler non-linear parameter space which has far less significant parameter degeneracies!\n",
        "\n",
        "__Positive Only Solver__\n",
        "\n",
        "Many codes which use linear algebra typically rely on a linear algabra solver which allows for positive and negative\n",
        "values of the solution (e.g. `np.linalg.solve`), because they are computationally fast. \n",
        "\n",
        "This is problematic, as it means that negative surface brightnesses values can be computed to represent a galaxy's \n",
        "light, which is clearly unphysical. For an MGE, this produces a positive-negative \"ringing\", where the\n",
        "Gaussians alternate between large positive and negative values. This is clearly undesirable and unphysical.\n",
        "\n",
        "**PyAutoGalaxy** (and therefore all examples above) uses a positive only linear algebra solver which has been \n",
        "extensively optimized to ensure it is as fast as positive-negative solvers. This ensures that all light profile \n",
        "intensities are positive and therefore physical. \n",
        "\n",
        "__Other Basis Functions__\n",
        "\n",
        "In addition to the Gaussians used in this example, there is another basis function implemented in PyAutoGalaxy \n",
        "that is commonly used to represent the light of galaxies, called a `Shapelet`. \n",
        "\n",
        "Shapelets are basis functions with analytic properties that are appropriate for capturing the  exponential / disk-like \n",
        "features of a galaxy. They do so over a wide range of scales, and can often represent features in source galaxies \n",
        "that a single Sersic function or MGE cannot.\n",
        "\n",
        "An example using shapelets is given at `autogalaxy_workspace/scripts/imaging/modeling/features/shapelets.py`.\n",
        " \n",
        "Feel free to experiment with using shapelets as the galaxy by yourself. However they incur higher computational \n",
        "overheads than the MGE and include a free parameter which governs the size of the basis functions and therefore source,\n",
        "slowing down convergence of the non-linear search. We have found that MGEs perform better than shapelets in most \n",
        "lens modeling problems. \n",
        "\n",
        "If you have a desire to fit sources with even more complex morphologies we recommend you look at how to reconstruct \n",
        "sources using pixelizations in the `modeling/features` section or chapter 4 of **HowToGalaxy**.\n",
        "\n",
        "__Wrap Up__\n",
        "\n",
        "In this tutorial we described how linearizing light profiles allows us to fit more complex light profiles to\n",
        "galaxies using fewer non-linear parameters, keeping the fit performed by the non-linear search fast, accurate\n",
        "and robust.\n",
        "\n",
        "Perhaps the biggest downside to basis functions is that they are only as good as the features they can capture\n",
        "in the data. For example, a baiss of Gaussians still assumes that they have a well defined centre, but there are\n",
        "galaxies which may have multiple components with multiple centres (e.g. many star forming knots) which such a \n",
        "basis cannot catprue.\n",
        "\n",
        "In chapter 4 of **HowToGalaxy** we introduce non-parametric pixelizations, which reconstruct the data in way\n",
        "that does not make assumptions like a centre and can thus reconstruct even more complex, asymmetric and irregular\n",
        "galaxy morphologies."
      ]
    },
    {
      "cell_type": "code",
      "metadata": {},
      "source": [
        "\n",
        "basis = ag.lp_basis.Basis(\n",
        "    profile_list=gaussian_list, regularization=ag.reg.Constant(coefficient=1.0)\n",
        ")\n"
      ],
      "outputs": [],
      "execution_count": null
    }
  ],
  "metadata": {
    "anaconda-cloud": {},
    "kernelspec": {
      "display_name": "Python 3",
      "language": "python",
      "name": "python3"
    },
    "language_info": {
      "codemirror_mode": {
        "name": "ipython",
        "version": 3
      },
      "file_extension": ".py",
      "mimetype": "text/x-python",
      "name": "python",
      "nbconvert_exporter": "python",
      "pygments_lexer": "ipython3",
      "version": "3.6.1"
    }
  },
  "nbformat": 4,
  "nbformat_minor": 4
}