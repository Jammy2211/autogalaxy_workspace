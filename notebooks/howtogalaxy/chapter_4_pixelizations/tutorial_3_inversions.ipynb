{
 "cells": [
  {
   "cell_type": "markdown",
   "metadata": {},
   "source": [
    "Tutorial 3: Inversions\n",
    "======================\n",
    "\n",
    "In the previous two tutorials, we introduced:\n",
    "\n",
    " - `Pixelization`'s: which place a pixel-grid over the image data.\n",
    " - `Mappers`'s: which describe how each pixelization pixel maps to one or more image pixels.\n",
    "\n",
    "However, non of this has actually helped us fit galaxy data or reconstruct the galaxy. This is the subject\n",
    "of this tutorial, where the process of reconstructing the galaxy's light on the pixelization is called an `Inversion`."
   ]
  },
  {
   "cell_type": "code",
   "metadata": {},
   "source": [
    "\n",
    "%matplotlib inline\n",
    "from pyprojroot import here\n",
    "workspace_path = str(here())\n",
    "%cd $workspace_path\n",
    "print(f\"Working Directory has been set to `{workspace_path}`\")\n",
    "\n",
    "from pathlib import Path\n",
    "import autogalaxy as ag\n",
    "import autogalaxy.plot as aplt"
   ],
   "outputs": [],
   "execution_count": null
  },
  {
   "cell_type": "markdown",
   "metadata": {},
   "source": [
    "__Initial Setup__\n",
    "\n",
    "we'll use the same complex galaxy data as the previous tutorial, where:\n",
    "\n",
    " - The galaxy's bulge is an `Sersic`.\n",
    " - The galaxy's disk is an `Exponential`.\n",
    " - The galaxy's has four star forming clumps which are `Sersic` profiles."
   ]
  },
  {
   "cell_type": "code",
   "metadata": {},
   "source": [
    "dataset_name = \"complex\"\n",
    "dataset_path = Path(\"dataset\") / \"imaging\" / dataset_name\n",
    "\n",
    "dataset = ag.Imaging.from_fits(\n",
    "    data_path=dataset_path / \"data.fits\",\n",
    "    noise_map_path=dataset_path / \"noise_map.fits\",\n",
    "    psf_path=dataset_path / \"psf.fits\",\n",
    "    pixel_scales=0.1,\n",
    ")"
   ],
   "outputs": [],
   "execution_count": null
  },
  {
   "cell_type": "markdown",
   "metadata": {},
   "source": [
    "Lets create a circular mask which contains the galaxy's emission:"
   ]
  },
  {
   "cell_type": "code",
   "metadata": {},
   "source": [
    "mask = ag.Mask2D.circular(\n",
    "    shape_native=dataset.shape_native, pixel_scales=dataset.pixel_scales, radius=2.0\n",
    ")\n",
    "\n",
    "visuals = aplt.Visuals2D(mask=mask)\n",
    "\n",
    "dataset_plotter = aplt.ImagingPlotter(dataset=dataset, visuals_2d=visuals)\n",
    "dataset_plotter.figures_2d(data=True)"
   ],
   "outputs": [],
   "execution_count": null
  },
  {
   "cell_type": "markdown",
   "metadata": {},
   "source": [
    "We now create the masked imaging, as we did in the previous tutorial."
   ]
  },
  {
   "cell_type": "code",
   "metadata": {},
   "source": [
    "dataset = dataset.apply_mask(mask=mask)"
   ],
   "outputs": [],
   "execution_count": null
  },
  {
   "cell_type": "markdown",
   "metadata": {},
   "source": [
    "we again use the rectangular pixelization to create the mapper.\n",
    "\n",
    "(Ignore the regularization input below for now, we will cover this in the next tutorial)."
   ]
  },
  {
   "cell_type": "code",
   "metadata": {},
   "source": [
    "mesh = ag.mesh.Rectangular(shape=dataset.shape_native)\n",
    "\n",
    "pixelization = ag.Pixelization(mesh=mesh)\n",
    "\n",
    "mapper_grids = pixelization.mapper_grids_from(\n",
    "    mask=mask,\n",
    "    source_plane_data_grid=dataset.grids.pixelization,\n",
    ")\n",
    "mapper = ag.Mapper(\n",
    "    mapper_grids=mapper_grids,\n",
    "    regularization=ag.reg.Constant(coefficient=1.0),\n",
    ")\n",
    "\n",
    "mapper_plotter = aplt.MapperPlotter(mapper=mapper)\n",
    "mapper_plotter.subplot_image_and_mapper(image=dataset.data)"
   ],
   "outputs": [],
   "execution_count": null
  },
  {
   "cell_type": "markdown",
   "metadata": {},
   "source": [
    "__Pixelization__\n",
    "\n",
    "Finally, we can now use the `Mapper` to reconstruct the galaxy via an `Inversion`. I'll explain how this works in a \n",
    "second, but lets just go ahead and create the inversion first. "
   ]
  },
  {
   "cell_type": "code",
   "metadata": {},
   "source": [
    "inversion = ag.Inversion(dataset=dataset, linear_obj_list=[mapper])"
   ],
   "outputs": [],
   "execution_count": null
  },
  {
   "cell_type": "markdown",
   "metadata": {},
   "source": [
    "The inversion has reconstructed the galaxy's light on the rectangular pixel grid, which is called the \n",
    "`reconstruction`. \n",
    "\n",
    "This reconstruction can be mapped back to the same resolution as the image to produce the `mapped_reconstructed_image`."
   ]
  },
  {
   "cell_type": "code",
   "metadata": {},
   "source": [
    "print(inversion.reconstruction)\n",
    "print(inversion.mapped_reconstructed_image)"
   ],
   "outputs": [],
   "execution_count": null
  },
  {
   "cell_type": "markdown",
   "metadata": {},
   "source": [
    "Both of these can be plotted using an `InversionPlotter`.\n",
    "\n",
    "It is possible for an inversion to have multiple `Mapper`'s, therefore for certain figures we specify the index \n",
    "of the mapper we wish to plot. In this case, because we only have one mapper we specify the index 0."
   ]
  },
  {
   "cell_type": "code",
   "metadata": {},
   "source": [
    "inversion_plotter = aplt.InversionPlotter(inversion=inversion)\n",
    "inversion_plotter.figures_2d(reconstructed_image=True)\n",
    "inversion_plotter.figures_2d_of_pixelization(pixelization_index=0, reconstruction=True)"
   ],
   "outputs": [],
   "execution_count": null
  },
  {
   "cell_type": "markdown",
   "metadata": {},
   "source": [
    "There we have it, we have successfully reconstructed the galaxy using a rectangular pixel-grid. This has reconstructed\n",
    "the complex blobs of light of the galaxy.\n",
    "\n",
    "Pretty great, huh? If you ran the complex source pipeline in chapter 3, you'll remember that getting a model image \n",
    "that looked this good simply *was not possible*. With an inversion, we can do this with ease and without having to \n",
    "perform model-fitting with 20+ parameters for the galaxy's light!\n",
    "\n",
    "We will now briefly discuss how an inversion actually works, however the explanation I give in this tutorial will be \n",
    "overly-simplified. To be good at modeling you do not need to understand the details of how an inversion works, you \n",
    "simply need to be able to use an inversion to model a galaxy. \n",
    "\n",
    "To begin, lets consider some random mappings between our mapper`s pixelization pixels and the image."
   ]
  },
  {
   "cell_type": "code",
   "metadata": {},
   "source": [
    "visuals = aplt.Visuals2D(source_plane_mesh_indexes=[[445], [285], [313], [132], [11]])\n",
    "\n",
    "mapper_plotter = aplt.MapperPlotter(\n",
    "    mapper=mapper,\n",
    "    visuals_2d=visuals,\n",
    ")\n",
    "mapper_plotter.subplot_image_and_mapper(image=dataset.data)"
   ],
   "outputs": [],
   "execution_count": null
  },
  {
   "cell_type": "markdown",
   "metadata": {},
   "source": [
    "These mappings are known before the inversion reconstructs the galaxy, which means before this inversion is performed \n",
    "we know two key pieces of information:\n",
    "\n",
    " 1) The mappings between every pixelization pixel and a set of image-pixels.\n",
    " 2) The flux values in every observed image-pixel, which are the values we want to fit successfully.\n",
    "\n",
    "It turns out that with these two pieces of information we can linearly solve for the set of pixelization pixel fluxes \n",
    "that best-fit (e.g. maximize the log likelihood) our observed image. Essentially, we set up the mappings between\n",
    "pixelization and image pixels as a large matrix and solve for the pixelization pixel fluxes in an analogous fashion to \n",
    "how you would solve a set of simultaneous linear equations. This process is called a `linear inversion`.\n",
    "\n",
    "There are three more things about a linear inversion that are worth knowing:\n",
    "\n",
    " 1) When performing fits using light profiles, we discussed how a `model_image` was generated by convolving the light\n",
    " profile images with the data's PSF. A similar blurring operation is incorporated into the inversion, such that it \n",
    " reconstructs a galaxy (and therefore image) which fully accounts for the telescope optics and effect of the PSF.\n",
    "\n",
    " 2) You may be familiar with image sub-gridding, which splits each image-pixel into a sub-pixel (if you are not \n",
    " familiar then feel free to checkout the optional **HowToGalaxy** tutorial on sub-gridding. If a sub-grid is used, it is \n",
    " the mapping between every sub-pixel -pixel that is computed and used to perform the inversion. This prevents \n",
    " aliasing effects degrading the image reconstruction. By default **PyAutoGalaxy** uses sub-gridding of degree 4x4.\n",
    "\n",
    " 3) The inversion`s solution is regularized. But wait, that`s what we'll cover in the next tutorial!\n",
    "\n",
    "Finally, let me show you how easy it is to fit an image with an `Inversion` using a `FitImaging` object. Instead of \n",
    "giving the galaxy a light profile, we simply pass it a `Pixelization` and regularization, and pass it to a \n",
    "galaxies."
   ]
  },
  {
   "cell_type": "code",
   "metadata": {},
   "source": [
    "pixelization = ag.Pixelization(\n",
    "    mesh=ag.mesh.Rectangular(shape=(25, 25)),\n",
    "    regularization=ag.reg.Constant(coefficient=1.0),\n",
    ")\n",
    "\n",
    "galaxy = ag.Galaxy(redshift=1.0, pixelization=pixelization)\n",
    "\n",
    "galaxies = ag.Galaxies(galaxies=[galaxy])"
   ],
   "outputs": [],
   "execution_count": null
  },
  {
   "cell_type": "markdown",
   "metadata": {},
   "source": [
    "Then, like before, we pass the imaging and galaxies `FitImaging` object. \n",
    "\n",
    "We see some pretty good looking residuals, albeit there is faint flux leftover. We will consider how we can address \n",
    "this in the next tutorial. \n",
    "\n",
    "We can use the `subplot_of_galaxies` method to specifically visualize the inversion and plot the reconstruction."
   ]
  },
  {
   "cell_type": "code",
   "metadata": {},
   "source": [
    "fit = ag.FitImaging(dataset=dataset, galaxies=galaxies)\n",
    "\n",
    "fit_plotter = aplt.FitImagingPlotter(fit=fit)\n",
    "fit_plotter.subplot_fit()\n",
    "fit_plotter.subplot_of_galaxies(galaxy_index=0)"
   ],
   "outputs": [],
   "execution_count": null
  },
  {
   "cell_type": "markdown",
   "metadata": {},
   "source": [
    "__Positive Only Solver__\n",
    "\n",
    "All pixelized source reconstructions use a positive-only solver, meaning that every source-pixel is only allowed\n",
    "to reconstruct positive flux values. This ensures that the source reconstruction is physical and that we don't\n",
    "reconstruct negative flux values that don't exist in the real source galaxy (a common systematic solution in lens\n",
    "analysis).\n",
    "\n",
    "It may be surprising to hear that this is a feature worth pointing out, but it turns out setting up the linear algebra\n",
    "to enforce positive reconstructions is difficult to make efficient. A lot of development time went into making this\n",
    "possible, where a bespoke fast non-negative linear solver was developed to achieve this.\n",
    "\n",
    "Other methods in the literature often do not use a positive only solver, and therefore suffer from these \n",
    "unphysical solutions, which can degrade the results of lens model in general.\n",
    "\n",
    "__Wrap Up__\n",
    "\n",
    "And, we're done, here are a few questions to get you thinking about inversions:\n",
    "\n",
    " 1) The inversion provides the maximum log likelihood solution to the observed image. Is there a problem with seeking \n",
    " the highest likelihood solution? Is there a risk that we're going to fit other things in the image than just the \n",
    " galaxy? What happens if you reduce the `coefficient` of the regularization object above to zero?\n",
    "\n",
    " 2) The exterior pixels in the rectangular pixel-grid have no image-pixels in them. However, they are still given a \n",
    " reconstructed flux. Given these pixels do not map to the data, where is this value coming from?\n",
    " \n",
    "__Detailed Explanation__\n",
    "\n",
    "If you are interested in a more detailed description of how inversions work, then checkout the file\n",
    "`autogalaxy_workspace/*/imaging/log_likelihood_function/inversion.ipynb` which gives a visual step-by-step\n",
    "guide of the process alongside equations and references to literature on the subject."
   ]
  },
  {
   "cell_type": "code",
   "metadata": {},
   "source": [],
   "outputs": [],
   "execution_count": null
  }
 ],
 "metadata": {
  "anaconda-cloud": {},
  "kernelspec": {
   "display_name": "Python 3",
   "language": "python",
   "name": "python3"
  },
  "language_info": {
   "codemirror_mode": {
    "name": "ipython",
    "version": 3
   },
   "file_extension": ".py",
   "mimetype": "text/x-python",
   "name": "python",
   "nbconvert_exporter": "python",
   "pygments_lexer": "ipython3",
   "version": "3.6.1"
  }
 },
 "nbformat": 4,
 "nbformat_minor": 4
}
