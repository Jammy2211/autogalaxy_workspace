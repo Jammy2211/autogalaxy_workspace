{
  "cells": [
    {
      "cell_type": "markdown",
      "metadata": {},
      "source": [
        "Tutorial 2: Mappers\n",
        "===================\n",
        "\n",
        "In the previous tutorial, we used a pixelization to create made a `Mapper`. However, it was not clear what a `Mapper`\n",
        "does, why it was called a mapper and whether it was mapping anything at all!\n",
        "\n",
        "Therefore, in this tutorial, we'll cover mappers in more detail."
      ]
    },
    {
      "cell_type": "code",
      "metadata": {},
      "source": [
        "%matplotlib inline\n",
        "from pyprojroot import here\n",
        "workspace_path = str(here())\n",
        "%cd $workspace_path\n",
        "print(f\"Working Directory has been set to `{workspace_path}`\")\n",
        "\n",
        "from os import path\n",
        "import autogalaxy as ag\n",
        "import autogalaxy.plot as aplt"
      ],
      "outputs": [],
      "execution_count": null
    },
    {
      "cell_type": "markdown",
      "metadata": {},
      "source": [
        "__Initial Setup__\n",
        "\n",
        "we'll use complex galaxy data, where:\n",
        "\n",
        " - The galaxy's bulge is an `Sersic`.\n",
        " - The galaxy's disk is an `Exponential`.\n",
        " - The galaxy's has four star forming clumps which are `Sersic` profiles."
      ]
    },
    {
      "cell_type": "code",
      "metadata": {},
      "source": [
        "dataset_name = \"complex\"\n",
        "dataset_path = path.join(\"dataset\", \"imaging\", dataset_name)\n",
        "\n",
        "dataset = ag.Imaging.from_fits(\n",
        "    data_path=path.join(dataset_path, \"data.fits\"),\n",
        "    noise_map_path=path.join(dataset_path, \"noise_map.fits\"),\n",
        "    psf_path=path.join(dataset_path, \"psf.fits\"),\n",
        "    pixel_scales=0.1,\n",
        ")"
      ],
      "outputs": [],
      "execution_count": null
    },
    {
      "cell_type": "markdown",
      "metadata": {},
      "source": [
        "Now, lets set up our `Grid2D` (using the image above)."
      ]
    },
    {
      "cell_type": "code",
      "metadata": {},
      "source": [
        "grid = ag.Grid2D.uniform(\n",
        "    shape_native=dataset.shape_native, pixel_scales=dataset.pixel_scales\n",
        ")"
      ],
      "outputs": [],
      "execution_count": null
    },
    {
      "cell_type": "markdown",
      "metadata": {},
      "source": [
        "__Mappers__\n",
        "\n",
        "We now setup a `Pixelization` and use it to create a `Mapper` via the plane`s source-plane grid, just like we did in\n",
        "the previous tutorial.\n",
        "\n",
        "We will make its pixelization resolution half that of the grid above."
      ]
    },
    {
      "cell_type": "code",
      "metadata": {},
      "source": [
        "mesh = ag.mesh.Rectangular(\n",
        "    shape=(dataset.shape_native[0] / 2, dataset.shape_native[1] / 2)\n",
        ")\n",
        "\n",
        "pixelization = ag.Pixelization(mesh=mesh)\n",
        "\n",
        "mapper_grids = pixelization.mapper_grids_from(\n",
        "    mask=grid.mask, source_plane_data_grid=grid\n",
        ")\n",
        "\n",
        "mapper = ag.Mapper(\n",
        "    mapper_grids=mapper_grids,\n",
        "    over_sampler=dataset.grids.over_sampler_pixelization,\n",
        "    regularization=None,\n",
        ")"
      ],
      "outputs": [],
      "execution_count": null
    },
    {
      "cell_type": "markdown",
      "metadata": {},
      "source": [
        "We now plot the `Mapper` alongside the image we used to generate the source-plane grid.\n",
        "\n",
        "Using the `Visuals2D` object we are also going to highlight specific grid coordinates certain colors, such that we\n",
        "can see how they map from the image grid to the pixelization grid. "
      ]
    },
    {
      "cell_type": "code",
      "metadata": {},
      "source": [
        "visuals = aplt.Visuals2D(\n",
        "    indexes=[range(250), [150, 250, 350, 450, 550, 650, 750, 850, 950, 1050]]\n",
        ")\n",
        "include = aplt.Include2D(mapper_source_plane_data_grid=False)\n",
        "\n",
        "mapper_plotter = aplt.MapperPlotter(\n",
        "    mapper=mapper, visuals_2d=visuals, include_2d=include\n",
        ")\n",
        "mapper_plotter.subplot_image_and_mapper(image=dataset.data)"
      ],
      "outputs": [],
      "execution_count": null
    },
    {
      "cell_type": "markdown",
      "metadata": {},
      "source": [
        "Using a mapper, we can now make these mappings appear the other way round. That is, we can input a pixelization pixel\n",
        "index (of our rectangular grid) and highlight how all of the image-pixels that it contains map to the image-plane. \n",
        "\n",
        "Lets map source pixel 313, the central source-pixel, to the image. We observe that for a given rectangular pixelization\n",
        "pixel, there are four image pixels."
      ]
    },
    {
      "cell_type": "code",
      "metadata": {},
      "source": [
        "visuals = aplt.Visuals2D(pix_indexes=[[312]])\n",
        "mapper_plotter = aplt.MapperPlotter(\n",
        "    mapper=mapper, visuals_2d=visuals, include_2d=include\n",
        ")\n",
        "\n",
        "mapper_plotter.subplot_image_and_mapper(image=dataset.data)"
      ],
      "outputs": [],
      "execution_count": null
    },
    {
      "cell_type": "markdown",
      "metadata": {},
      "source": [
        "Okay, so I think we can agree, mapper's map things! More specifically, they map pixelization pixels to multiple pixels \n",
        "in the observed image of a galaxy.\n",
        "\n",
        "__Mask__\n",
        "\n",
        "Finally, lets repeat the steps that we performed above, but now using a masked image. By applying a `Mask2D`, the \n",
        "mapper only maps image-pixels that are not removed by the mask. This removes the (many) image pixels at the edge of the \n",
        "image, where the galaxy is not present.\n",
        "\n",
        "Lets just have a quick look at these edges pixels:\n",
        "\n",
        "Lets use an circular `Mask2D`, which will capture the central galaxy light and clumps."
      ]
    },
    {
      "cell_type": "code",
      "metadata": {},
      "source": [
        "mask = ag.Mask2D.circular(\n",
        "    shape_native=dataset.shape_native, pixel_scales=dataset.pixel_scales, radius=2.0\n",
        ")\n",
        "\n",
        "dataset = dataset.apply_mask(mask=mask)\n",
        "dataset_plotter = aplt.ImagingPlotter(dataset=dataset, visuals_2d=visuals)\n",
        "dataset_plotter.figures_2d(data=True)"
      ],
      "outputs": [],
      "execution_count": null
    },
    {
      "cell_type": "markdown",
      "metadata": {},
      "source": [
        "We can now use the masked grid to create a new `Mapper` (using the same rectangular 25 x 25 pixelization \n",
        "as before)."
      ]
    },
    {
      "cell_type": "code",
      "metadata": {},
      "source": [
        "mapper_grids = mesh.mapper_grids_from(mask=mask, source_plane_data_grid=dataset.grid)\n",
        "\n",
        "mapper = ag.Mapper(\n",
        "    mapper_grids=mapper_grids,\n",
        "    over_sampler=dataset.grids.over_sampler_pixelization,\n",
        "    regularization=None,\n",
        ")"
      ],
      "outputs": [],
      "execution_count": null
    },
    {
      "cell_type": "markdown",
      "metadata": {},
      "source": [
        "Lets plot it."
      ]
    },
    {
      "cell_type": "code",
      "metadata": {},
      "source": [
        "include = aplt.Include2D(mask=True, mapper_source_plane_data_grid=False)\n",
        "\n",
        "mapper_plotter = aplt.MapperPlotter(mapper=mapper, include_2d=include)\n",
        "mapper_plotter.subplot_image_and_mapper(image=dataset.data)"
      ],
      "outputs": [],
      "execution_count": null
    },
    {
      "cell_type": "markdown",
      "metadata": {},
      "source": [
        "First, We can see a red circle of dots in both the image and pixelization, showing where the edge of the mask\n",
        "maps too in the pixelization.\n",
        "\n",
        "Now lets show that when we plot pixelization pixel indexes, they still appear in the same place in the image."
      ]
    },
    {
      "cell_type": "code",
      "metadata": {},
      "source": [
        "visuals = aplt.Visuals2D(pix_indexes=[[312], [314], [316], [318]])\n",
        "mapper_plotter = aplt.MapperPlotter(\n",
        "    mapper=mapper, visuals_2d=visuals, include_2d=include\n",
        ")\n",
        "\n",
        "mapper_plotter.subplot_image_and_mapper(image=dataset.data)"
      ],
      "outputs": [],
      "execution_count": null
    },
    {
      "cell_type": "markdown",
      "metadata": {},
      "source": [
        "__Wrap Up__\n",
        "\n",
        "In this tutorial, we learnt about mappers, and we used them to understand how the image and pixelization map to one \n",
        "another. Your exercises are:\n",
        "        \n",
        " 1) Think about how this could help us actually model galaxies. We have said we're going to reconstruct our galaxies \n",
        " on the pixel-grid. So, how does knowing how each pixel maps to the image actually help us? If you`ve not got \n",
        " any bright ideas, then worry not, that exactly what we're going to cover in the next tutorial."
      ]
    },
    {
      "cell_type": "code",
      "metadata": {},
      "source": [],
      "outputs": [],
      "execution_count": null
    }
  ],
  "metadata": {
    "anaconda-cloud": {},
    "kernelspec": {
      "display_name": "Python 3",
      "language": "python",
      "name": "python3"
    },
    "language_info": {
      "codemirror_mode": {
        "name": "ipython",
        "version": 3
      },
      "file_extension": ".py",
      "mimetype": "text/x-python",
      "name": "python",
      "nbconvert_exporter": "python",
      "pygments_lexer": "ipython3",
      "version": "3.6.1"
    }
  },
  "nbformat": 4,
  "nbformat_minor": 4
}