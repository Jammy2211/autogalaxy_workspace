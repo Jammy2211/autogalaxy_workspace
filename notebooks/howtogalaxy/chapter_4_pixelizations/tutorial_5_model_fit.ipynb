{
  "cells": [
    {
      "cell_type": "markdown",
      "metadata": {},
      "source": [
        "Tutorial 5: Model-Fit\n",
        "=====================\n",
        "\n",
        "In the previous tutorials we used an inversion to reconstruct a complex galaxy. However, from the perspective of\n",
        "a scientific analysis, it is not clear how useful this was. When I fit a galaxy with light profiles, I learn about\n",
        "its brightness (`intensity`), size (`effective_radius`), compactness (`sersic_index`), etc.\n",
        "\n",
        "What did I learn about the galaxy I reconstructed? Not a lot, perhaps.\n",
        "\n",
        "Inversions are most useful when combined with light profiles. For the complex galaxy we used throughout this tutorial,\n",
        "we can fit it with light profiles to quantify the properties of its `bulge` and `disk` components, whilst\n",
        "simultaneously fitting the clumps with the inversion so as to ensure they do not impact the fit.\n",
        "\n",
        "To illustrate modeling using an inversion this tutorial therefore revisits the complex galaxy model-fit that we\n",
        "performed in tutorial 4 of chapter 3. This time, as you have probably guessed, we will fit part of the complex galaxy\n",
        "using an inversion.\n",
        "\n",
        "We will use search chaining to do this, first fitting the main galaxy components with light profiles, thereby\n",
        "initializing the bulge and disk components. In the later searches we will switch to an `Inversion`."
      ]
    },
    {
      "cell_type": "code",
      "metadata": {},
      "source": [
        "%matplotlib inline\n",
        "from pyprojroot import here\n",
        "workspace_path = str(here())\n",
        "%cd $workspace_path\n",
        "print(f\"Working Directory has been set to `{workspace_path}`\")\n",
        "\n",
        "from os import path\n",
        "import autofit as af\n",
        "import autogalaxy as ag\n",
        "import autogalaxy.plot as aplt"
      ],
      "outputs": [],
      "execution_count": null
    },
    {
      "cell_type": "markdown",
      "metadata": {},
      "source": [
        "__Initial Setup__\n",
        "\n",
        "we'll use complex galaxy data, where:\n",
        "\n",
        " - The galaxy's bulge is an `Sersic`.\n",
        " - The galaxy's disk is an `Exponential`.\n",
        " - The galaxy's has four star forming clumps which are `Sersic` profiles."
      ]
    },
    {
      "cell_type": "code",
      "metadata": {},
      "source": [
        "dataset_name = \"complex\"\n",
        "dataset_path = path.join(\"dataset\", \"imaging\", dataset_name)\n",
        "\n",
        "dataset = ag.Imaging.from_fits(\n",
        "    data_path=path.join(dataset_path, \"data.fits\"),\n",
        "    noise_map_path=path.join(dataset_path, \"noise_map.fits\"),\n",
        "    psf_path=path.join(dataset_path, \"psf.fits\"),\n",
        "    pixel_scales=0.1,\n",
        ")\n",
        "\n",
        "mask = ag.Mask2D.circular(\n",
        "    shape_native=dataset.shape_native, pixel_scales=dataset.pixel_scales, radius=2.0\n",
        ")\n",
        "\n",
        "\n",
        "dataset = dataset.apply_mask(mask=mask)\n",
        "\n",
        "dataset_plotter = aplt.ImagingPlotter(\n",
        "    dataset=dataset, visuals_2d=aplt.Visuals2D(mask=mask)\n",
        ")\n",
        "dataset_plotter.subplot_dataset()\n"
      ],
      "outputs": [],
      "execution_count": null
    },
    {
      "cell_type": "markdown",
      "metadata": {},
      "source": [
        "__Model + Search + Analysis + Model-Fit (Search 1)__\n",
        "\n",
        "Search 1 we fit a model where:\n",
        "\n",
        " - The galaxy's bulge is an `Sersic` with fixed centre [5 parameters].\n",
        " \n",
        " - The galaxy's disk is an `Exponential` with fixed centre [4 parameters].\n",
        " \n",
        "The number of free parameters and therefore the dimensionality of non-linear parameter space is N=9."
      ]
    },
    {
      "cell_type": "code",
      "metadata": {},
      "source": [
        "bulge = af.Model(ag.lp.Sersic)\n",
        "disk = af.Model(ag.lp.Exponential)\n",
        "\n",
        "bulge.centre_0 = 0.0\n",
        "bulge.centre_1 = 0.0\n",
        "disk.centre_0 = 0.0\n",
        "disk.centre_1 = 0.0\n",
        "\n",
        "galaxy = af.Model(ag.Galaxy, redshift=0.5, bulge=bulge, disk=disk)\n",
        "\n",
        "model_1 = af.Collection(galaxies=af.Collection(galaxy=galaxy))\n",
        "\n",
        "search_1 = af.Nautilus(\n",
        "    path_prefix=path.join(\"howtogalaxy\", \"chapter_4\"),\n",
        "    name=\"search[1]_source[lp]\",\n",
        "    unique_tag=dataset_name,\n",
        "    n_live=100,\n",
        ")\n",
        "\n",
        "analysis_1 = ag.AnalysisImaging(dataset=dataset)\n",
        "\n",
        "result_1 = search_1.fit(model=model_1, analysis=analysis_1)"
      ],
      "outputs": [],
      "execution_count": null
    },
    {
      "cell_type": "markdown",
      "metadata": {},
      "source": [
        "__Model + Search + Analysis + Model-Fit (Search 2)__\n",
        "\n",
        "We use the results of search 1 to create the model fitted in search 2, where:\n",
        "\n",
        " - The galaxy's bulge is an `Sersic` [0 parameters: parameters fixed from search 1].\n",
        " \n",
        " - The galaxy's disk is an `Exponential` [0 parameters: parameters fixed from search 1].\n",
        "\n",
        " - The galaxy's clumps are reconstructed `Rectangular` mesh with resolution 50 x 50 [0 parameters].\n",
        "\n",
        " - This pixelization is regularized using a `Constant` scheme [1 parameter]. \n",
        "\n",
        "The number of free parameters and therefore the dimensionality of non-linear parameter space is N=1.\n",
        "\n",
        "This search allows us to very efficiently set up the resolution of the mesh and regularization coefficient \n",
        "of the regularization scheme, before using these models to refit the galaxy mass model."
      ]
    },
    {
      "cell_type": "code",
      "metadata": {},
      "source": [
        "pixelization = af.Model(\n",
        "    ag.Pixelization, mesh=ag.mesh.Rectangular, regularization=ag.reg.Constant\n",
        ")\n",
        "\n",
        "galaxy = af.Model(\n",
        "    ag.Galaxy,\n",
        "    redshift=0.5,\n",
        "    bulge=result_1.instance.galaxies.galaxy.bulge,\n",
        "    disk=result_1.instance.galaxies.galaxy.disk,\n",
        "    pixelization=pixelization,\n",
        ")\n",
        "\n",
        "model_2 = af.Collection(galaxies=af.Collection(galaxy=galaxy))\n",
        "\n",
        "search_2 = af.Nautilus(\n",
        "    path_prefix=path.join(\"howtogalaxy\", \"chapter_4\"),\n",
        "    name=\"search[2]_source[inversion_initialization]\",\n",
        "    unique_tag=dataset_name,\n",
        "    n_live=50,\n",
        ")\n",
        "\n",
        "analysis_2 = ag.AnalysisImaging(\n",
        "    dataset=dataset, settings_pixelization=ag.SettingsPixelization(use_border=True)\n",
        ")\n",
        "\n",
        "result_2 = search_2.fit(model=model_2, analysis=analysis_2)"
      ],
      "outputs": [],
      "execution_count": null
    },
    {
      "cell_type": "markdown",
      "metadata": {},
      "source": [
        "__Model + Search (Search 3)__\n",
        "\n",
        "We use the results of searches 1 and 2 to create the model fitted in search 3, where:\n",
        "\n",
        " - The galaxy's bulge is an `Sersic` [7 parameters: priors initialized from search 1].\n",
        " \n",
        " - The galaxy's disk is an `Exponential` [6 parameters: priors initialized from search 1].\n",
        "\n",
        " - The galaxy's light uses a `Rectangular` mesh[parameters fixed to results of search 2].\n",
        "\n",
        " - This pixelization is regularized using a `Constant` scheme [parameters fixed to results of search 2]. \n",
        "\n",
        "The number of free parameters and therefore the dimensionality of non-linear parameter space is N=13.\n",
        "\n",
        "This search allows us to refit the bulge and disk components with an inversion that takes care of the clumps."
      ]
    },
    {
      "cell_type": "code",
      "metadata": {},
      "source": [
        "bulge = af.Model(ag.lp.Sersic)\n",
        "bulge.ell_comps = result_1.model.galaxies.galaxy.bulge.ell_comps\n",
        "bulge.intensity = result_1.model.galaxies.galaxy.bulge.intensity\n",
        "bulge.effective_radius = result_1.model.galaxies.galaxy.bulge.effective_radius\n",
        "bulge.sersic_index = result_1.model.galaxies.galaxy.bulge.sersic_index\n",
        "\n",
        "disk = af.Model(ag.lp.Sersic)\n",
        "disk.ell_comps = result_1.model.galaxies.galaxy.disk.ell_comps\n",
        "disk.intensity = result_1.model.galaxies.galaxy.disk.intensity\n",
        "disk.effective_radius = result_1.model.galaxies.galaxy.disk.effective_radius\n",
        "\n",
        "pixelization = af.Model(\n",
        "    ag.Pixelization, mesh=ag.mesh.Rectangular, regularization=ag.reg.Constant\n",
        ")\n",
        "\n",
        "galaxy = af.Model(\n",
        "    ag.Galaxy, redshift=0.5, bulge=bulge, disk=disk, pixelization=pixelization\n",
        ")\n",
        "\n",
        "model_3 = af.Collection(galaxies=af.Collection(galaxy=galaxy))\n",
        "\n",
        "search_3 = af.Nautilus(\n",
        "    path_prefix=path.join(\"howtogalaxy\", \"chapter_4\"),\n",
        "    name=\"search[3]_source[pix]\",\n",
        "    unique_tag=dataset_name,\n",
        "    n_live=100,\n",
        ")\n",
        "\n",
        "analysis_3 = ag.AnalysisImaging(dataset=dataset)\n",
        "\n",
        "result_3 = search_3.fit(model=model_3, analysis=analysis_3)"
      ],
      "outputs": [],
      "execution_count": null
    },
    {
      "cell_type": "markdown",
      "metadata": {},
      "source": [
        "__Wrap Up__\n",
        "\n",
        "And with that, we now have a pipeline to model galaxies using an inversion! "
      ]
    },
    {
      "cell_type": "code",
      "metadata": {},
      "source": [],
      "outputs": [],
      "execution_count": null
    }
  ],
  "metadata": {
    "anaconda-cloud": {},
    "kernelspec": {
      "display_name": "Python 3",
      "language": "python",
      "name": "python3"
    },
    "language_info": {
      "codemirror_mode": {
        "name": "ipython",
        "version": 3
      },
      "file_extension": ".py",
      "mimetype": "text/x-python",
      "name": "python",
      "nbconvert_exporter": "python",
      "pygments_lexer": "ipython3",
      "version": "3.6.1"
    }
  },
  "nbformat": 4,
  "nbformat_minor": 4
}