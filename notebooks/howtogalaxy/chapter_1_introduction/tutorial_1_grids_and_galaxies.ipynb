{
  "cells": [
    {
      "cell_type": "markdown",
      "metadata": {},
      "source": [
        "Tutorial 1: Grids And Galaxies\n",
        "==============================\n",
        "\n",
        "Nearly a century ago, Edwin Hubble famously classified galaxies into three distinct groups:\n",
        "ellipticals, spirals and irregulars. He produced a diagram of these galaxies, called the Hubble Tuning Fork, which\n",
        "is shown below and still discussed by astronomers in the modern day:\n",
        "\n",
        "\n",
        "\n",
        "In this tutorial, we introduce two-dimensional grids of Cartesian $(y,x)$ coordinates, which represent the coordinates\n",
        "of an observed data-set (e.g. imaging). In subsequent tutorials, we will use these grids to evaluate models of a\n",
        "galaxy's luminous emission and structure.\n",
        "\n",
        "Grids are defined in units of 'arc-seconds', if you are not familiar with this term it is the distance unit commonly\n",
        "used by Astronomers. **PyAutoGalaxy** automatically converts all grids from units of pixels to arc-seconds, so you\n",
        "should simply get used to seeing distances displayed in arc seconds."
      ]
    },
    {
      "cell_type": "code",
      "metadata": {},
      "source": [
        "%matplotlib inline\n",
        "from pyprojroot import here\n",
        "workspace_path = str(here())\n",
        "%cd $workspace_path\n",
        "print(f\"Working Directory has been set to `{workspace_path}`\")\n",
        "\n",
        "import autogalaxy as ag\n",
        "import autogalaxy.plot as aplt"
      ],
      "outputs": [],
      "execution_count": null
    },
    {
      "cell_type": "markdown",
      "metadata": {},
      "source": [
        "__Grids__\n",
        "\n",
        "In **PyAutoGalaxy**, a `Grid2D` is a set of two-dimensional $(y,x)$ coordinates (in arc-seconds) that are used to \n",
        "evaluate the luminous emission of a galaxy.\n",
        "\n",
        "The $(y,x)$ coordinates on the `Grid2D` are aligned with the image we analyze, such that each coordinate maps to the \n",
        "centre of each image-pixel. Lets make a `Grid2D` on a grid of 100 x 100 pixels, with a pixel scale (arcsecond-to-pixel \n",
        "conversion factor) of 0.05\", giving us a 5\" x 5\" grid."
      ]
    },
    {
      "cell_type": "code",
      "metadata": {},
      "source": [
        "grid = ag.Grid2D.uniform(shape_native=(100, 100), pixel_scales=0.05)"
      ],
      "outputs": [],
      "execution_count": null
    },
    {
      "cell_type": "markdown",
      "metadata": {},
      "source": [
        "First, lets plot this `Grid2D`, which shows that it is a fairly boring uniform `Grid2D` of dots."
      ]
    },
    {
      "cell_type": "code",
      "metadata": {},
      "source": [
        "mat_plot = aplt.MatPlot2D(\n",
        "    title=aplt.Title(label=\"Fairly Boring Uniform Grid2D Of Dots\")\n",
        ")\n",
        "\n",
        "grid_plotter = aplt.Grid2DPlotter(grid=grid, mat_plot_2d=mat_plot)\n",
        "grid_plotter.figure_2d()"
      ],
      "outputs": [],
      "execution_count": null
    },
    {
      "cell_type": "markdown",
      "metadata": {},
      "source": [
        "We can print each coordinate of this `Grid2D`, revealing that it consists of a set of arc-second coordinates (where the \n",
        "spacing between each coordinate corresponds to the `pixel_scales` of 0.05\" defined above)."
      ]
    },
    {
      "cell_type": "code",
      "metadata": {},
      "source": [
        "print(\"(y,x) pixel 0:\")\n",
        "print(grid.native[0, 0])\n",
        "print(\"(y,x) pixel 1:\")\n",
        "print(grid.native[0, 1])\n",
        "print(\"(y,x) pixel 2:\")\n",
        "print(grid.native[0, 2])\n",
        "print(\"(y,x) pixel 100:\")\n",
        "print(grid.native[1, 0])\n",
        "print(\"etc.\")"
      ],
      "outputs": [],
      "execution_count": null
    },
    {
      "cell_type": "markdown",
      "metadata": {},
      "source": [
        "__Data Structure__\n",
        "\n",
        "Above, you may have noted that we use the `native` attribute of the grid to print its $(y,x)$ coordinates. Every \n",
        "`Grid2D` object is accessible via two attributes, `native` and `slim`, which store the grid as NumPy ndarrays of two \n",
        "different shapes:\n",
        " \n",
        " - `native`: an ndarray of shape [total_y_image_pixels, total_x_image_pixels, 2], which is the native shape of the \n",
        " 2D grid and corresponds to the resolution of the image datasets we pair with a grid.\n",
        " \n",
        " - `slim`: an ndarray of shape [total_y_image_pixels*total_x_image_pixels, 2] which is a slimmed-down representation \n",
        " the grid which collapses the inner two dimensions of the native ndarray to a single dimension."
      ]
    },
    {
      "cell_type": "code",
      "metadata": {},
      "source": [
        "print(\"(y,x) pixel 0 (accessed via native):\")\n",
        "print(grid.native[0, 0])\n",
        "print(\"(y,x) pixel 0 (accessed via slim 1D):\")\n",
        "print(grid.slim[0])"
      ],
      "outputs": [],
      "execution_count": null
    },
    {
      "cell_type": "markdown",
      "metadata": {},
      "source": [
        "Currently, it is unclear why there is a need for a `slim` representation of the grid (as the native representation \n",
        "contains all the information about the grid in a structure that is more representative of the grid itself). This will \n",
        "become apparent throughout the **HowToGalaxy** lectures, so for now don't worry about it! \n",
        "\n",
        "The shapes of the `Grid2D` in its `native` and `slim` formats are also available, confirming that this grid has a \n",
        "`native` resolution of (100 x 100) and a `slim` resolution of 10000 coordinates."
      ]
    },
    {
      "cell_type": "code",
      "metadata": {},
      "source": [
        "print(grid.shape_native)\n",
        "print(grid.shape_slim)"
      ],
      "outputs": [],
      "execution_count": null
    },
    {
      "cell_type": "markdown",
      "metadata": {},
      "source": [
        "Note that neither of the shapes above include the third index of the `Grid2D` which has dimensions 2 (corresponding to \n",
        "the y and x coordinates). This is accessible by using the standard numpy `shape` method on each grid.\n",
        "\n",
        "This is worth noting, as we will introduce addition data structures throughout the tutorials which use the same\n",
        "`native` and `slim` notation but may not include this final dimension of size 2. This means that the `shape_native`\n",
        "and `shape_slim` attributes can be used to compare the shapes of different data structures in a common format."
      ]
    },
    {
      "cell_type": "code",
      "metadata": {},
      "source": [
        "print(grid.native.shape)\n",
        "print(grid.slim.shape)"
      ],
      "outputs": [],
      "execution_count": null
    },
    {
      "cell_type": "markdown",
      "metadata": {},
      "source": [
        "We can print the entire `Grid2D` in its `slim` or `native` form. "
      ]
    },
    {
      "cell_type": "code",
      "metadata": {},
      "source": [
        "print(grid.native)\n",
        "print(grid.slim)"
      ],
      "outputs": [],
      "execution_count": null
    },
    {
      "cell_type": "markdown",
      "metadata": {},
      "source": [
        "__Wrap Up__\n",
        "\n",
        "Congratulations, you`ve completed your first **PyAutoGalaxy** tutorial! Before moving on to the next one, experiment \n",
        "with  **PyAutoGalaxy** by doing the following:\n",
        "\n",
        "1) Change the pixel-scale of the `Grid2D`'s: what happens to the arc-second's grid of coordinates?\n",
        "2) Change the resolution of the `Grid2D`'s: what happens to the arc-second's grid of coordinates?"
      ]
    },
    {
      "cell_type": "code",
      "metadata": {},
      "source": [
        "\n",
        "# %%\n",
        "'''\n",
        "Tutorial 2: Light Profiles\n",
        "==========================\n",
        "\n",
        "This tutorial introduces `LightProfile` objects, which represent analytic forms for the light distribution of galaxies.\n",
        "\n",
        "By passing these objects 2D grids of $(y,x)$ coordinates we can create images from a light profile, which is therefore\n",
        "a model of a galaxy's luminous emission.\n",
        "'''"
      ],
      "outputs": [],
      "execution_count": null
    },
    {
      "cell_type": "code",
      "metadata": {},
      "source": [
        "%matplotlib inline\n",
        "from pyprojroot import here\n",
        "workspace_path = str(here())\n",
        "%cd $workspace_path\n",
        "print(f\"Working Directory has been set to `{workspace_path}`\")\n",
        "\n",
        "import autogalaxy as ag\n",
        "import autogalaxy.plot as aplt"
      ],
      "outputs": [],
      "execution_count": null
    },
    {
      "cell_type": "markdown",
      "metadata": {},
      "source": [
        "__Initial Setup__\n",
        "\n",
        "We first setup a `Grid2D`, which uses the same resolution and arc-second to pixel conversion as the previous tutorial."
      ]
    },
    {
      "cell_type": "code",
      "metadata": {},
      "source": [
        "grid = ag.Grid2D.uniform(shape_native=(100, 100), pixel_scales=0.05)"
      ],
      "outputs": [],
      "execution_count": null
    },
    {
      "cell_type": "markdown",
      "metadata": {},
      "source": [
        "__Light Profiles__\n",
        "\n",
        "We now create a `LightProfile` using the `light_profile` module, which is access via `lp` for  conciseness. \n",
        "\n",
        "wWe'll use  the elliptical Sersic light profile (using the `Sersic` object), which is an analytic function used \n",
        "throughout studies of galaxy morphology to represent their light. \n",
        "\n",
        "You'll note that we use `Ell` to concisely describe that this profile is ellipticag. If you are unsure what \n",
        "the `ell_comps` are, I'll give a description of them at the end of the tutorial."
      ]
    },
    {
      "cell_type": "code",
      "metadata": {},
      "source": [
        "sersic_light_profile = ag.lp.Sersic(\n",
        "    centre=(0.0, 0.0),\n",
        "    ell_comps=(0.0, 0.111111),\n",
        "    intensity=1.0,\n",
        "    effective_radius=1.0,\n",
        "    sersic_index=2.5,\n",
        ")"
      ],
      "outputs": [],
      "execution_count": null
    },
    {
      "cell_type": "markdown",
      "metadata": {},
      "source": [
        "By printing a `LightProfile` we can display its parameters."
      ]
    },
    {
      "cell_type": "code",
      "metadata": {},
      "source": [
        "print(sersic_light_profile)"
      ],
      "outputs": [],
      "execution_count": null
    },
    {
      "cell_type": "markdown",
      "metadata": {},
      "source": [
        "__Images__\n",
        "\n",
        "We next pass the `Grid2D` to the `sersic_light_profile`, to compute the intensity of the Sersic at every (y,x) \n",
        "coordinate on our two dimension grid. This uses the `image_2d_from` method, and you'll see throughout this tutorial \n",
        "that **PyAutoGalaxy** has numerous `_from` methods for computing quantities from a grid."
      ]
    },
    {
      "cell_type": "code",
      "metadata": {},
      "source": [
        "image = sersic_light_profile.image_2d_from(grid=grid)"
      ],
      "outputs": [],
      "execution_count": null
    },
    {
      "cell_type": "markdown",
      "metadata": {},
      "source": [
        "Much like the `Grid2D` objects discussed in the previous tutorial, this returns an `Array2D` object:"
      ]
    },
    {
      "cell_type": "code",
      "metadata": {},
      "source": [
        "print(type(image))"
      ],
      "outputs": [],
      "execution_count": null
    },
    {
      "cell_type": "markdown",
      "metadata": {},
      "source": [
        "Just like a grid, the `Array2D` object has both `native` and `slim` attributes:"
      ]
    },
    {
      "cell_type": "code",
      "metadata": {},
      "source": [
        "print(\"Intensity of pixel 0:\")\n",
        "print(image.native[0, 0])\n",
        "print(\"Intensity of pixel 1:\")\n",
        "print(image.slim[1])"
      ],
      "outputs": [],
      "execution_count": null
    },
    {
      "cell_type": "markdown",
      "metadata": {},
      "source": [
        "For an `Array2D`, the dimensions of these attributes are as follows:\n",
        "\n",
        " - `native`: an ndarray of shape [total_y_image_pixels, total_x_image_pixels].\n",
        "\n",
        " - `slim`: an ndarray of shape [total_y_image_pixels*total_x_image_pixels].\n",
        "\n",
        "The `native` and `slim` dimensions are therefore analogous to those of the `Grid2D` object, but without the final \n",
        "dimension of 2."
      ]
    },
    {
      "cell_type": "code",
      "metadata": {},
      "source": [
        "print(image.shape_native)\n",
        "print(image.shape_slim)"
      ],
      "outputs": [],
      "execution_count": null
    },
    {
      "cell_type": "markdown",
      "metadata": {},
      "source": [
        "We can use a `LightProfilePlotter` to plot the image of a light profile. We pass this plotter the light profile and\n",
        "a grid, which are used to create the image that is plotted."
      ]
    },
    {
      "cell_type": "code",
      "metadata": {},
      "source": [
        "light_profile_plotter = aplt.LightProfilePlotter(\n",
        "    light_profile=sersic_light_profile, grid=grid\n",
        ")\n",
        "light_profile_plotter.figures_2d(image=True)"
      ],
      "outputs": [],
      "execution_count": null
    },
    {
      "cell_type": "markdown",
      "metadata": {},
      "source": [
        "__Over Sampling__\n",
        "\n",
        "Over sampling is a numerical technique where the images of light profiles and galaxies are evaluated \n",
        "on a higher resolution grid than the image data to ensure the calculation is accurate. \n",
        "\n",
        "For a new user, the details of over-sampling are not important, therefore just be aware that all calculations use an\n",
        "adaptive over sampling scheme which high accuracy across all use cases.\n",
        "\n",
        "Once you are more experienced, you should read up on over-sampling in more detail via \n",
        "the `autogalaxy_workspace/*/guides/over_sampling.ipynb` notebook.\n",
        "\n",
        "__Log10__\n",
        "\n",
        "The light distributions of galaxies are closer to a log10 distribution than a linear one. \n",
        "\n",
        "This means that when we plot an image of a light profile, its appearance is better highlighted when we take the\n",
        "logarithm of its values and plot it in log10 space.\n",
        "\n",
        "The `MatPlot2D` object has an input `use_log10`, which will do this automatically when we call the `figures_2d` method.\n",
        "Below, we can see that the image plotted now appears more clearly, with the outskirts of the light profile more visible."
      ]
    },
    {
      "cell_type": "code",
      "metadata": {},
      "source": [
        "mat_plot = aplt.MatPlot2D(use_log10=True)\n",
        "\n",
        "light_profile_plotter = aplt.LightProfilePlotter(\n",
        "    light_profile=sersic_light_profile, grid=grid, mat_plot_2d=mat_plot\n",
        ")\n",
        "light_profile_plotter.figures_2d(image=True)"
      ],
      "outputs": [],
      "execution_count": null
    },
    {
      "cell_type": "markdown",
      "metadata": {},
      "source": [
        "__Wrap Up__\n",
        "\n",
        "Congratulations, you`ve completed your second **PyAutoGalaxy** tutorial! \n",
        "\n",
        "Before moving on to the next one, experiment with  **PyAutoGalaxy** by doing the following:\n",
        "\n",
        "1) Change the `LightProfile`'s effective radius and Sersic index - how does the image's appearance change?\n",
        "2) Experiment with different `LightProfile`'s and `MassProfile`'s in the `light_profile` module. \n",
        "\n",
        "__Elliptical Components___\n",
        "\n",
        "The `ell_comps` describe the ellipticity of light distribution. \n",
        "\n",
        "We can define a coordinate system where an ellipse is defined in terms of:\n",
        "\n",
        " - axis_ratio = semi-major axis / semi-minor axis = b/a\n",
        " - position angle, where angle is in degrees.\n",
        "\n",
        "See https://en.wikipedia.org/wiki/Ellipse for a full description of elliptical coordinates.\n",
        "\n",
        "The elliptical components are related to the axis-ratio and position angle as follows:\n",
        "\n",
        "    fac = (1 - axis_ratio) / (1 + axis_ratio)\n",
        "\n",
        "    elliptical_comp[0] = elliptical_comp_y = fac * np.sin(2 * angle)\n",
        "    elliptical_comp[1] = elliptical_comp_x = fac * np.cos(2 * angle)\n",
        "\n",
        "We can use the `convert` module to determine the elliptical components from an `axis_ratio` and `angle`,\n",
        "noting that the position angle is defined counter-clockwise from the positive x-axis."
      ]
    },
    {
      "cell_type": "code",
      "metadata": {},
      "source": [
        "ell_comps = ag.convert.ell_comps_from(axis_ratio=0.5, angle=45.0)\n",
        "\n",
        "print(ell_comps)"
      ],
      "outputs": [],
      "execution_count": null
    },
    {
      "cell_type": "markdown",
      "metadata": {},
      "source": [
        "The reason light profiles use the elliptical components instead of an axis-ratio and position angle is because it \n",
        "improves the modeling process. What is modeling? You'll find out in chapter 2!"
      ]
    },
    {
      "cell_type": "code",
      "metadata": {},
      "source": [
        "\n",
        "# %%\n",
        "'''\n",
        "Tutorial 3: galaxies\n",
        "====================\n",
        "\n",
        "This tutorial introduces `Galaxy` objects, which:\n",
        "\n",
        " - Are composed from collections of the light profiles introduced in the previous tutorial.\n",
        "\n",
        " - Combine these profiles such that their properties (e.g. an image) are correctly calculated as the combination of\n",
        " these profiles.\n",
        "\n",
        " - Also have a redshift, which defines how far a galaxy is from Earth.\n",
        "'''"
      ],
      "outputs": [],
      "execution_count": null
    },
    {
      "cell_type": "code",
      "metadata": {},
      "source": [
        "%matplotlib inline\n",
        "from pyprojroot import here\n",
        "workspace_path = str(here())\n",
        "%cd $workspace_path\n",
        "print(f\"Working Directory has been set to `{workspace_path}`\")\n",
        "\n",
        "import autogalaxy as ag\n",
        "import autogalaxy.plot as aplt"
      ],
      "outputs": [],
      "execution_count": null
    },
    {
      "cell_type": "markdown",
      "metadata": {},
      "source": [
        "__Initial Setup__\n",
        "\n",
        "Lets use the same `Grid2D` as the previous tutorial."
      ]
    },
    {
      "cell_type": "code",
      "metadata": {},
      "source": [
        "grid = ag.Grid2D.uniform(shape_native=(100, 100), pixel_scales=0.05)"
      ],
      "outputs": [],
      "execution_count": null
    },
    {
      "cell_type": "markdown",
      "metadata": {},
      "source": [
        "__Galaxies__\n",
        "\n",
        "Lets make a galaxy with an elliptical Sersic `LightProfile`, by simply passing this profile to a `Galaxy` object."
      ]
    },
    {
      "cell_type": "code",
      "metadata": {},
      "source": [
        "sersic_light_profile = ag.lp.Sersic(\n",
        "    centre=(0.0, 0.0),\n",
        "    ell_comps=(0.0, 0.111111),\n",
        "    intensity=1.0,\n",
        "    effective_radius=1.0,\n",
        "    sersic_index=2.5,\n",
        ")\n",
        "\n",
        "galaxy_with_light_profile = ag.Galaxy(redshift=0.5, light=sersic_light_profile)\n",
        "\n",
        "print(galaxy_with_light_profile)"
      ],
      "outputs": [],
      "execution_count": null
    },
    {
      "cell_type": "markdown",
      "metadata": {},
      "source": [
        "We have seen that we can pass a 2D grid to a light profile to compute its image via its `image_2d_from` method. We \n",
        "can do the exact same with a galaxy:"
      ]
    },
    {
      "cell_type": "code",
      "metadata": {},
      "source": [
        "galaxy_image_2d = galaxy_with_light_profile.image_2d_from(grid=grid)\n",
        "\n",
        "print(\"intensity of `Grid2D` pixel 0:\")\n",
        "print(galaxy_image_2d.native[0, 0])\n",
        "print(\"intensity of `Grid2D` pixel 1:\")\n",
        "print(galaxy_image_2d.native[0, 1])\n",
        "print(\"intensity of `Grid2D` pixel 2:\")\n",
        "print(galaxy_image_2d.native[0, 2])\n",
        "print(\"etc.\")"
      ],
      "outputs": [],
      "execution_count": null
    },
    {
      "cell_type": "markdown",
      "metadata": {},
      "source": [
        "A `GalaxyPlotter` allows us to the plot the image, just like the `LightProfilePlotter` did for a light profile."
      ]
    },
    {
      "cell_type": "code",
      "metadata": {},
      "source": [
        "galaxy_plotter = aplt.GalaxyPlotter(galaxy=galaxy_with_light_profile, grid=grid)\n",
        "galaxy_plotter.figures_2d(image=True)"
      ],
      "outputs": [],
      "execution_count": null
    },
    {
      "cell_type": "markdown",
      "metadata": {},
      "source": [
        "__Multiple Profiles__\n",
        "\n",
        "We can pass galaxies as many light profiles as we like to a `Galaxy`, so lets create a galaxy with three light profiles."
      ]
    },
    {
      "cell_type": "code",
      "metadata": {},
      "source": [
        "light_profile_1 = ag.lp.SersicSph(\n",
        "    centre=(0.0, 0.0), intensity=1.0, effective_radius=1.0, sersic_index=2.5\n",
        ")\n",
        "\n",
        "light_profile_2 = ag.lp.SersicSph(\n",
        "    centre=(1.0, 1.0), intensity=1.0, effective_radius=2.0, sersic_index=3.0\n",
        ")\n",
        "\n",
        "light_profile_3 = ag.lp.SersicSph(\n",
        "    centre=(1.0, -1.0), intensity=1.0, effective_radius=2.0, sersic_index=2.0\n",
        ")\n",
        "\n",
        "galaxy_with_3_light_profiles = ag.Galaxy(\n",
        "    redshift=0.5,\n",
        "    light_1=light_profile_1,\n",
        "    light_2=light_profile_2,\n",
        "    light_3=light_profile_3,\n",
        ")\n",
        "\n",
        "print(galaxy_with_3_light_profiles)"
      ],
      "outputs": [],
      "execution_count": null
    },
    {
      "cell_type": "markdown",
      "metadata": {},
      "source": [
        "If we plot the galaxy, we see 3 blobs of light!\n",
        "\n",
        "(The image of multiple light profiles is simply the sum of the image of each individual light profile)."
      ]
    },
    {
      "cell_type": "code",
      "metadata": {},
      "source": [
        "galaxy_plotter = aplt.GalaxyPlotter(galaxy=galaxy_with_3_light_profiles, grid=grid)\n",
        "galaxy_plotter.figures_2d(image=True)"
      ],
      "outputs": [],
      "execution_count": null
    },
    {
      "cell_type": "markdown",
      "metadata": {},
      "source": [
        "We can also plot each individual `LightProfile` using the plotter's `subplot_of_light_profiles` method."
      ]
    },
    {
      "cell_type": "code",
      "metadata": {},
      "source": [
        "galaxy_plotter.subplot_of_light_profiles(image=True)"
      ],
      "outputs": [],
      "execution_count": null
    },
    {
      "cell_type": "markdown",
      "metadata": {},
      "source": [
        "We can plot all light profiles in 1D, showing their decomposition of how they make up the overall galaxy.\n",
        "\n",
        "Remember that 1D plots use grids aligned with each individual light profile centre, thus the 1D plot does not\n",
        "show how these 3 galaxies are misaligned in 2D."
      ]
    },
    {
      "cell_type": "code",
      "metadata": {},
      "source": [
        "galaxy_plotter.figures_1d_decomposed(image=True)"
      ],
      "outputs": [],
      "execution_count": null
    },
    {
      "cell_type": "markdown",
      "metadata": {},
      "source": [
        "__Multiple Galaxies__\n",
        "\n",
        "We can also group galaxies into a `Galaxies` object, which is constructed from a list of galaxies."
      ]
    },
    {
      "cell_type": "code",
      "metadata": {},
      "source": [
        "galaxies = ag.Galaxies(\n",
        "    galaxies=[galaxy_with_light_profile, galaxy_with_3_light_profiles]\n",
        ")"
      ],
      "outputs": [],
      "execution_count": null
    },
    {
      "cell_type": "markdown",
      "metadata": {},
      "source": [
        "The galaxies has the same methods we've seen for light profiles and individual galaxies.\n",
        "\n",
        "For example, the `image_2d_from` method sums up the individual images of every galaxy."
      ]
    },
    {
      "cell_type": "code",
      "metadata": {},
      "source": [
        "image = galaxies.image_2d_from(grid=grid)"
      ],
      "outputs": [],
      "execution_count": null
    },
    {
      "cell_type": "markdown",
      "metadata": {},
      "source": [
        "The `GalaxiesPlotter` shares the same API as the `LightProfilePlotter` and `GalaxyPlotter`."
      ]
    },
    {
      "cell_type": "code",
      "metadata": {},
      "source": [
        "galaxies_plotter = aplt.GalaxiesPlotter(galaxies=galaxies, grid=grid)\n",
        "galaxies_plotter.figures_2d(image=True)"
      ],
      "outputs": [],
      "execution_count": null
    },
    {
      "cell_type": "markdown",
      "metadata": {},
      "source": [
        "A subplot can be made of each individual galaxy image."
      ]
    },
    {
      "cell_type": "code",
      "metadata": {},
      "source": [
        "galaxies_plotter.subplot_galaxy_images()"
      ],
      "outputs": [],
      "execution_count": null
    },
    {
      "cell_type": "markdown",
      "metadata": {},
      "source": [
        "__Log10__\n",
        "\n",
        "The previous tutorial discussed how the light distributions of galaxies are closer to a log10 distribution than a \n",
        "linear one and showed a convenience method to plot the image in log10 space.\n",
        "\n",
        "When plotting multiple galaxies, plotting in log10 space makes it easier to see by how much the galaxy images\n",
        "overlap and blend with one another. "
      ]
    },
    {
      "cell_type": "code",
      "metadata": {},
      "source": [
        "mat_plot = aplt.MatPlot2D(use_log10=True)\n",
        "\n",
        "galaxies_plotter = aplt.GalaxiesPlotter(\n",
        "    galaxies=galaxies, grid=grid, mat_plot_2d=mat_plot\n",
        ")\n",
        "galaxies_plotter.figures_2d(image=True)"
      ],
      "outputs": [],
      "execution_count": null
    },
    {
      "cell_type": "markdown",
      "metadata": {},
      "source": [
        "__Wrap Up__\n",
        "\n",
        "Tutorial 3 complete! \n",
        "\n",
        "We've learnt that by grouping light profiles into a galaxy and galaxies together we can sum the contribution of \n",
        "each profile to  compute the galaxy's image (and other properties)."
      ]
    },
    {
      "cell_type": "code",
      "metadata": {},
      "source": [],
      "outputs": [],
      "execution_count": null
    }
  ],
  "metadata": {
    "anaconda-cloud": {},
    "kernelspec": {
      "display_name": "Python 3",
      "language": "python",
      "name": "python3"
    },
    "language_info": {
      "codemirror_mode": {
        "name": "ipython",
        "version": 3
      },
      "file_extension": ".py",
      "mimetype": "text/x-python",
      "name": "python",
      "nbconvert_exporter": "python",
      "pygments_lexer": "ipython3",
      "version": "3.6.1"
    }
  },
  "nbformat": 4,
  "nbformat_minor": 4
}