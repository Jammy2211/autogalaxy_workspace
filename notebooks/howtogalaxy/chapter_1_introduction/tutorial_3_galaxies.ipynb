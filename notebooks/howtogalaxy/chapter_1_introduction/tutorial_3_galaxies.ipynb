{
  "cells": [
    {
      "cell_type": "markdown",
      "metadata": {},
      "source": [
        "Tutorial 3: galaxies\n",
        "====================\n",
        "\n",
        "This tutorial introduces `Galaxy` objects, which:\n",
        "\n",
        " - Are composed from collections of the light profiles introduced in the previous tutorial.\n",
        " - Combine these profiles such that their properties (e.g. an image) are correctly calculated\n",
        " as the combination of these profiles.\n",
        " - Also have a redshift, which defines how far a galaxy is from Earth."
      ]
    },
    {
      "cell_type": "code",
      "metadata": {},
      "source": [
        "%matplotlib inline\n",
        "from pyprojroot import here\n",
        "workspace_path = str(here())\n",
        "%cd $workspace_path\n",
        "print(f\"Working Directory has been set to `{workspace_path}`\")\n",
        "\n",
        "import autogalaxy as ag\n",
        "import autogalaxy.plot as aplt"
      ],
      "outputs": [],
      "execution_count": null
    },
    {
      "cell_type": "markdown",
      "metadata": {},
      "source": [
        "__Initial Setup__\n",
        "\n",
        "Lets use the same `Grid2D` as the previous tutorial."
      ]
    },
    {
      "cell_type": "code",
      "metadata": {},
      "source": [
        "grid = ag.Grid2D.uniform(shape_native=(100, 100), pixel_scales=0.05)"
      ],
      "outputs": [],
      "execution_count": null
    },
    {
      "cell_type": "markdown",
      "metadata": {},
      "source": [
        "__Galaxies__\n",
        "\n",
        "Lets make a galaxy with an elliptical Sersic `LightProfile`, by simply passing this profile to a `Galaxy` object."
      ]
    },
    {
      "cell_type": "code",
      "metadata": {},
      "source": [
        "sersic_light_profile = ag.lp.Sersic(\n",
        "    centre=(0.0, 0.0),\n",
        "    ell_comps=(0.0, 0.111111),\n",
        "    intensity=1.0,\n",
        "    effective_radius=1.0,\n",
        "    sersic_index=2.5,\n",
        ")\n",
        "\n",
        "galaxy_with_light_profile = ag.Galaxy(redshift=0.5, light=sersic_light_profile)\n",
        "\n",
        "print(galaxy_with_light_profile)"
      ],
      "outputs": [],
      "execution_count": null
    },
    {
      "cell_type": "markdown",
      "metadata": {},
      "source": [
        "We have seen that we can pass a 2D grid to a light profile to compute its image via its `image_2d_from` method. We \n",
        "can do the exact same with a galaxy:"
      ]
    },
    {
      "cell_type": "code",
      "metadata": {},
      "source": [
        "galaxy_image_2d = galaxy_with_light_profile.image_2d_from(grid=grid)\n",
        "\n",
        "print(\"intensity of `Grid2D` pixel 0:\")\n",
        "print(galaxy_image_2d.native[0, 0])\n",
        "print(\"intensity of `Grid2D` pixel 1:\")\n",
        "print(galaxy_image_2d.native[0, 1])\n",
        "print(\"intensity of `Grid2D` pixel 2:\")\n",
        "print(galaxy_image_2d.native[0, 2])\n",
        "print(\"etc.\")"
      ],
      "outputs": [],
      "execution_count": null
    },
    {
      "cell_type": "markdown",
      "metadata": {},
      "source": [
        "A `GalaxyPlotter` allows us to the plot the image, just like the `LightProfilePlotter` did for a light profile."
      ]
    },
    {
      "cell_type": "code",
      "metadata": {},
      "source": [
        "galaxy_plotter = aplt.GalaxyPlotter(galaxy=galaxy_with_light_profile, grid=grid)\n",
        "galaxy_plotter.figures_2d(image=True)"
      ],
      "outputs": [],
      "execution_count": null
    },
    {
      "cell_type": "markdown",
      "metadata": {},
      "source": [
        "__Multiple Profiles__\n",
        "\n",
        "We can pass galaxies as many light profiles as we like to a `Galaxy`, so lets create a galaxy with three light profiles."
      ]
    },
    {
      "cell_type": "code",
      "metadata": {},
      "source": [
        "light_profile_1 = ag.lp.SersicSph(\n",
        "    centre=(0.0, 0.0), intensity=1.0, effective_radius=1.0, sersic_index=2.5\n",
        ")\n",
        "\n",
        "light_profile_2 = ag.lp.SersicSph(\n",
        "    centre=(1.0, 1.0), intensity=1.0, effective_radius=2.0, sersic_index=3.0\n",
        ")\n",
        "\n",
        "light_profile_3 = ag.lp.SersicSph(\n",
        "    centre=(1.0, -1.0), intensity=1.0, effective_radius=2.0, sersic_index=2.0\n",
        ")\n",
        "\n",
        "galaxy_with_3_light_profiles = ag.Galaxy(\n",
        "    redshift=0.5,\n",
        "    light_1=light_profile_1,\n",
        "    light_2=light_profile_2,\n",
        "    light_3=light_profile_3,\n",
        ")\n",
        "\n",
        "print(galaxy_with_3_light_profiles)"
      ],
      "outputs": [],
      "execution_count": null
    },
    {
      "cell_type": "markdown",
      "metadata": {},
      "source": [
        "If we plot the galaxy, we see 3 blobs of light!\n",
        "\n",
        "(The image of multiple light profiles is simply the sum of the image of each individual light profile)."
      ]
    },
    {
      "cell_type": "code",
      "metadata": {},
      "source": [
        "galaxy_plotter = aplt.GalaxyPlotter(galaxy=galaxy_with_3_light_profiles, grid=grid)\n",
        "galaxy_plotter.figures_2d(image=True)"
      ],
      "outputs": [],
      "execution_count": null
    },
    {
      "cell_type": "markdown",
      "metadata": {},
      "source": [
        "We can also plot each individual `LightProfile` using the plotter's `subplot_of_light_profiles` method."
      ]
    },
    {
      "cell_type": "code",
      "metadata": {},
      "source": [
        "galaxy_plotter.subplot_of_light_profiles(image=True)"
      ],
      "outputs": [],
      "execution_count": null
    },
    {
      "cell_type": "markdown",
      "metadata": {},
      "source": [
        "We can plot all light profiles in 1D, showing their decomposition of how they make up the overall galaxy.\n",
        "\n",
        "Remember that 1D plots use grids aligned with each individual light profile centre, thus the 1D plot does not\n",
        "show how these 3 galaxies are misaligned in 2D."
      ]
    },
    {
      "cell_type": "code",
      "metadata": {},
      "source": [
        "galaxy_plotter.figures_1d_decomposed(image=True)"
      ],
      "outputs": [],
      "execution_count": null
    },
    {
      "cell_type": "markdown",
      "metadata": {},
      "source": [
        "__Planes__\n",
        "\n",
        "We can also group galaxies into a `Plane` object, which is constructed from a list of galaxies."
      ]
    },
    {
      "cell_type": "code",
      "metadata": {},
      "source": [
        "plane = ag.Plane(galaxies=[galaxy_with_light_profile, galaxy_with_3_light_profiles])"
      ],
      "outputs": [],
      "execution_count": null
    },
    {
      "cell_type": "markdown",
      "metadata": {},
      "source": [
        "The plane has agl the same methods we've seen for light profiles and galaxies.\n",
        "\n",
        "For example, the `image_2d_from` method sums up the individual images of every galaxy in the plane."
      ]
    },
    {
      "cell_type": "code",
      "metadata": {},
      "source": [
        "plane_image_2d = plane.image_2d_from(grid=grid)"
      ],
      "outputs": [],
      "execution_count": null
    },
    {
      "cell_type": "markdown",
      "metadata": {},
      "source": [
        "The `PlanePlotter` also allows similar plots to be made as the `GalaxyPlotter`."
      ]
    },
    {
      "cell_type": "code",
      "metadata": {},
      "source": [
        "plane_plotter = aplt.PlanePlotter(plane=plane, grid=grid)\n",
        "plane_plotter.subplot_galaxy_images()"
      ],
      "outputs": [],
      "execution_count": null
    },
    {
      "cell_type": "markdown",
      "metadata": {},
      "source": [
        "The `Plane` object may seem a bit redundant, in this tutorial is pretty much acts as a list galaxies! \n",
        "\n",
        "For the first two chapters of the **HowToGalaxy** tutorials the plane object will indeed pretty much only be\n",
        "used in this way. However, it has dedicated functionality for advanced **PyAutoGalaxy** features and theefore\n",
        "has a purpose, which hopefully you'll be clear on in the future!\n",
        "\n",
        "__Wrap Up__\n",
        "\n",
        "Tutorial 3 complete! \n",
        "\n",
        "We've learnt that by grouping light profiles into a galaxy and galaxies into a plane we can sum the contribution of \n",
        "each profile to  compute the galaxy's image (and other properties)."
      ]
    },
    {
      "cell_type": "code",
      "metadata": {},
      "source": [],
      "outputs": [],
      "execution_count": null
    }
  ],
  "metadata": {
    "anaconda-cloud": {},
    "kernelspec": {
      "display_name": "Python 3",
      "language": "python",
      "name": "python3"
    },
    "language_info": {
      "codemirror_mode": {
        "name": "ipython",
        "version": 3
      },
      "file_extension": ".py",
      "mimetype": "text/x-python",
      "name": "python",
      "nbconvert_exporter": "python",
      "pygments_lexer": "ipython3",
      "version": "3.6.1"
    }
  },
  "nbformat": 4,
  "nbformat_minor": 4
}