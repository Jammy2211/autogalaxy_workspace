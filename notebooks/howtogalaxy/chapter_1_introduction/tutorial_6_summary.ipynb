{
  "cells": [
    {
      "cell_type": "markdown",
      "metadata": {},
      "source": [
        "Tutorial 9: Summary\n",
        "===================\n",
        "\n",
        "In this chapter, we have learnt that:\n",
        "\n",
        " 1) **PyAutoGalaxy** uses Cartesian `Grid2D`'s of $(y,x)$ coordinates to evaluate galaxy luminous emission.\n",
        " 2) These grids are combined with light profiles to compute images and other quantities.\n",
        " 3) Profiles are grouped together to make galaxies.\n",
        " 4) Collections of galaxies (at the same redshift) form a plane.\n",
        " 5) The Universe's cosmology can be input into this `Plane` to convert its units to kiloparsecs.\n",
        " 6) The plane's image can be used to simulate galaxy `Imaging` like it was observed with a real telescope.\n",
        " 7) This data can be fitted, so to as quantify how well a model galaxy system represents the observed image.\n",
        "\n",
        "In this summary, we'll go over all the different Python objects introduced throughout this chapter and consider how\n",
        "they come together as one."
      ]
    },
    {
      "cell_type": "code",
      "metadata": {},
      "source": [
        "%matplotlib inline\n",
        "from pyprojroot import here\n",
        "workspace_path = str(here())\n",
        "%cd $workspace_path\n",
        "print(f\"Working Directory has been set to `{workspace_path}`\")\n",
        "\n",
        "from os import path\n",
        "import autogalaxy as ag\n",
        "import autogalaxy.plot as aplt"
      ],
      "outputs": [],
      "execution_count": null
    },
    {
      "cell_type": "markdown",
      "metadata": {},
      "source": [
        "__Initial Setup__\n",
        "\n",
        "The `dataset_path` specifies where we load the dataset from, which is the directory \n",
        "`autogalaxy_workspace/dataset/imaging/howtogalaxy/`."
      ]
    },
    {
      "cell_type": "code",
      "metadata": {},
      "source": [
        "dataset_path = path.join(\"dataset\", \"imaging\", \"howtogalaxy\")"
      ],
      "outputs": [],
      "execution_count": null
    },
    {
      "cell_type": "markdown",
      "metadata": {},
      "source": [
        "Below, we do all the steps we have learned this chapter, making profiles, galaxies, a plane, fitting data, etc. \n",
        "\n",
        "Note that we create a plane with two galaxies, the first of which has a bulge and disk."
      ]
    },
    {
      "cell_type": "code",
      "metadata": {},
      "source": [
        "dataset = ag.Imaging.from_fits(\n",
        "    data_path=path.join(dataset_path, \"data.fits\"),\n",
        "    noise_map_path=path.join(dataset_path, \"noise_map.fits\"),\n",
        "    psf_path=path.join(dataset_path, \"psf.fits\"),\n",
        "    pixel_scales=0.1,\n",
        ")\n",
        "\n",
        "mask = ag.Mask2D.circular(\n",
        "    shape_native=dataset.shape_native, pixel_scales=dataset.pixel_scales, radius=3.0\n",
        ")\n",
        "\n",
        "dataset = dataset.apply_mask(mask=mask)\n",
        "\n",
        "galaxy_0 = ag.Galaxy(\n",
        "    redshift=0.5,\n",
        "    bulge=ag.lp.Sersic(\n",
        "        centre=(0.0, 0.0),\n",
        "        ell_comps=(0.0, 0.111111),\n",
        "        intensity=1.0,\n",
        "        effective_radius=1.0,\n",
        "        sersic_index=2.5,\n",
        "    ),\n",
        "    disk=ag.lp.Exponential(\n",
        "        centre=(0.0, 0.0),\n",
        "        ell_comps=(0.0, 0.111111),\n",
        "        intensity=1.0,\n",
        "        effective_radius=1.0,\n",
        "    ),\n",
        ")\n",
        "\n",
        "galaxy_1 = ag.Galaxy(\n",
        "    redshift=0.5,\n",
        "    bulge=ag.lp.Sersic(\n",
        "        centre=(1.0, 1.0),\n",
        "        ell_comps=(0.0, 0.111111),\n",
        "        intensity=1.0,\n",
        "        effective_radius=1.0,\n",
        "        sersic_index=2.5,\n",
        "    ),\n",
        ")\n",
        "\n",
        "plane = ag.Plane(galaxies=[galaxy_0, galaxy_1])\n",
        "\n",
        "fit = ag.FitImaging(dataset=dataset, plane=plane)"
      ],
      "outputs": [],
      "execution_count": null
    },
    {
      "cell_type": "markdown",
      "metadata": {},
      "source": [
        "__Object Composition__\n",
        "\n",
        "Lets now consider how all of the objects we've covered throughout this chapter (`LightProfile`'s, `MassProfile`'s,\n",
        "`Galaxy`'s, `Plane`'s, `Plane`'s) come together in a `FitImaging` object.\n",
        "\n",
        "The fit contains the `Plane`, which contains the `Planes`, which contains the `Galaxy`'s which contains \n",
        "the `Profile`'s:"
      ]
    },
    {
      "cell_type": "code",
      "metadata": {},
      "source": [
        "print(fit)\n",
        "print()\n",
        "print(fit.plane)\n",
        "print()\n",
        "print(fit.plane.galaxies[0])\n",
        "print()\n",
        "print(fit.plane.galaxies[0])\n",
        "print()\n",
        "print(fit.plane.galaxies[0].bulge)\n",
        "print()\n",
        "print(fit.plane.galaxies[0].disk)\n",
        "print()\n",
        "print(fit.plane.galaxies[1].bulge)\n",
        "print()"
      ],
      "outputs": [],
      "execution_count": null
    },
    {
      "cell_type": "markdown",
      "metadata": {},
      "source": [
        "Once we have a `FitImaging` object, we can therefore use any of the `Plotter` objects throughout this chapter to plot\n",
        "any specific aspect of the fit, whether it be a profile, galaxy or plane. \n",
        "\n",
        "For example, if we want to plot the image of the first galaxy's bulge and disk, we can do this in a variety of \n",
        "different ways."
      ]
    },
    {
      "cell_type": "code",
      "metadata": {},
      "source": [
        "plane_plotter = aplt.PlanePlotter(plane=fit.plane, grid=dataset.grid)\n",
        "plane_plotter.figures_2d(image=True)\n",
        "\n",
        "galaxy_plotter = aplt.GalaxyPlotter(galaxy=fit.plane.galaxies[0], grid=dataset.grid)\n",
        "galaxy_plotter.figures_2d(image=True)"
      ],
      "outputs": [],
      "execution_count": null
    },
    {
      "cell_type": "markdown",
      "metadata": {},
      "source": [
        "Understanding how these objects decompose into the different components of a galaxy is important for general \n",
        "**PyAutoGalaxy** use.\n",
        "\n",
        "As the galaxy systems that we analyse become more complex, it is useful to know how to decompose their light \n",
        "profiles, galaxies and planes to extract different pieces of information about the galaxy. \n",
        "\n",
        "For example, we made our galaxy above with two light profiles, a `bulge` and `disk`. We can plot the image of \n",
        "each component individually, now that we know how to break-up the different components of the fit and plane."
      ]
    },
    {
      "cell_type": "code",
      "metadata": {},
      "source": [
        "light_profile_plotter = aplt.LightProfilePlotter(\n",
        "    light_profile=fit.plane.galaxies[0].bulge, grid=dataset.grid\n",
        ")\n",
        "light_profile_plotter.set_title(\"Bulge Image\")\n",
        "light_profile_plotter.figures_2d(image=True)\n",
        "\n",
        "light_profile_plotter = aplt.LightProfilePlotter(\n",
        "    light_profile=fit.plane.galaxies[0].disk, grid=dataset.grid\n",
        ")\n",
        "light_profile_plotter.set_title(\"Disk Image\")\n",
        "light_profile_plotter.figures_2d(image=True)"
      ],
      "outputs": [],
      "execution_count": null
    },
    {
      "cell_type": "markdown",
      "metadata": {},
      "source": [
        "__Visualization__\n",
        "\n",
        "Furthermore, using the `MatPLot2D`, `Visuals2D` and `Include2D` objects visualize any aspect of a fit we're interested \n",
        "in and fully customize the figure. \n",
        "\n",
        "Before beginning chapter 2 of **HowToGalaxy**, you should checkout the package `autogalaxy_workspace/plot`. \n",
        "This provides a full API reference of every plotting option in **PyAutoGalaxy**, allowing you to create your own \n",
        "fully customized figures of galaxies with minimal effort!"
      ]
    },
    {
      "cell_type": "code",
      "metadata": {},
      "source": [
        "mat_plot = aplt.MatPlot2D(\n",
        "    title=aplt.Title(label=\"This is the title\", color=\"r\", fontsize=20),\n",
        "    ylabel=aplt.YLabel(ylabel=\"Label of Y\", color=\"b\", fontsize=5, position=(0.2, 0.5)),\n",
        "    xlabel=aplt.XLabel(xlabel=\"Label of X\", color=\"g\", fontsize=10),\n",
        "    cmap=aplt.Cmap(cmap=\"cool\", norm=\"linear\"),\n",
        ")\n",
        "\n",
        "include = aplt.Include2D(\n",
        "    origin=True, mask=True, border=True, light_profile_centres=True\n",
        ")\n",
        "\n",
        "visuals = aplt.Visuals2D()\n",
        "\n",
        "light_profile_plotter = aplt.LightProfilePlotter(\n",
        "    light_profile=fit.plane.galaxies[0].bulge,\n",
        "    grid=dataset.grid,\n",
        "    mat_plot_2d=mat_plot,\n",
        "    include_2d=include,\n",
        "    visuals_2d=visuals,\n",
        ")\n",
        "light_profile_plotter.set_title(\"Bulge Image\")\n",
        "light_profile_plotter.figures_2d(image=True)"
      ],
      "outputs": [],
      "execution_count": null
    },
    {
      "cell_type": "markdown",
      "metadata": {},
      "source": [
        "And, we're done, not just with the tutorial, but the chapter!\n",
        "\n",
        "__Code Design__\n",
        "\n",
        "To end, I want to quickly talk about the **PyAutoGalaxy** code-design and structure, which was really the main topic of\n",
        "this tutorial.\n",
        "\n",
        "Throughout this chapter, we never talk about anything like it was code. We didn`t refer to  'variables', 'parameters`' \n",
        "'functions' or 'dictionaries', did we? Instead, we talked about 'galaxies', 'planes' a 'Plane', etc. We discussed \n",
        "the objects that we, as scientists, think about when we consider a galaxy system.\n",
        "\n",
        "Software that abstracts the underlying code in this way follows an `object-oriented design`, and it is our hope \n",
        "with **PyAutoGalaxy** that we've made its interface (often called the API for short) very intuitive, whether you were\n",
        "previous familiar with galaxy morphology or a complete newcomer!\n",
        "\n",
        "__Source Code__\n",
        "\n",
        "If you do enjoy code, variables, functions, and parameters, you may want to dig deeper into the **PyAutoGalaxy** source \n",
        "code at some point in the future. Firstly, you should note that all of the code we discuss throughout the **HowToGalaxy** \n",
        "lectures is not contained in just one project (e.g. the **PyAutoGalaxy** GitHub repository) but in fact three repositories:\n",
        "\n",
        "**PyAutoFit** - Everything required for modeling (the topic of chapter 2): https://github.com/rhayes777/PyAutoFit\n",
        "\n",
        "**PyAutoArray** - Handles all data structures and Astronomy dataset objects: https://github.com/Jammy2211/PyAutoArray\n",
        "\n",
        "**PyAutoGalaxy** - Contains the light profiles and galaxies: https://github.com/Jammy2211/PyAutoGalaxy\n",
        "\n",
        "Instructions on how to build these projects from source are provided here:\n",
        "\n",
        "https://pyautogalaxy.readthedocs.io/en/latest/installation/source.html\n",
        "\n",
        "We take a lot of pride in our source code, so I can promise you its well written, well documented and thoroughly \n",
        "tested (check out the `test` directory if you're curious how to test code well!).\n",
        "\n",
        "__Likelihood Function__\n",
        "\n",
        "When performing a fit we compute a value of `log_likelihood`, which is computed by calling the **PyAutoGalax**\n",
        "likelihood function -- a term used in statistics to describe how one fits a model to data.\n",
        "\n",
        "This tutorial has likely given you a clear idea of how the likelihood is evaluated, however a more detailed \n",
        "step-by-step visual guide is provided at `autogalaxy_workspace/*/imaging/log_likelihood_function/parametric.ipynb`.\n",
        "\n",
        "I recommend you give this notebook a read through, in order to further clarify how a galaxy model is fitted to data.\n",
        "\n",
        "__Wrap Up__\n",
        "\n",
        "You`ve learn a lot in this chapter, but what you have not learnt is how to 'model' a real galaxy.\n",
        "\n",
        "In the real world, we have no idea what the 'correct' combination of light profiles are that will give a good fit to \n",
        "a galaxy. Modeling is the process of finding the model which provides a good fit and it is the topic of chapter 2 \n",
        "of **HowToGalaxy**.\n",
        "\n",
        "Finally, if you enjoyed doing the **HowToGalaxy** tutorials please git us a star on the **PyAutoGalaxy** GitHub\n",
        "repository: \n",
        "\n",
        " https://github.com/Jammy2211/PyAutoGalaxy\n",
        "\n",
        "Even the smallest bit of exposure via a GitHub star can help our project grow!"
      ]
    },
    {
      "cell_type": "code",
      "metadata": {},
      "source": [],
      "outputs": [],
      "execution_count": null
    }
  ],
  "metadata": {
    "anaconda-cloud": {},
    "kernelspec": {
      "display_name": "Python 3",
      "language": "python",
      "name": "python3"
    },
    "language_info": {
      "codemirror_mode": {
        "name": "ipython",
        "version": 3
      },
      "file_extension": ".py",
      "mimetype": "text/x-python",
      "name": "python",
      "nbconvert_exporter": "python",
      "pygments_lexer": "ipython3",
      "version": "3.6.1"
    }
  },
  "nbformat": 4,
  "nbformat_minor": 4
}