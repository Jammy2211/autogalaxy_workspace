{
  "cells": [
    {
      "cell_type": "markdown",
      "metadata": {},
      "source": [
        "Tutorial 2: Light Profiles\n",
        "==========================\n",
        "\n",
        "This tutorial introduces `LightProfile` objects, which represent analytic forms for the light distribution of galaxies.\n",
        "\n",
        "By passing these objects 2D grids of $(y,x)$ coordinates we can create images from a light profile, which is therefore\n",
        "a model of a galaxy's luminous emission."
      ]
    },
    {
      "cell_type": "code",
      "metadata": {},
      "source": [
        "%matplotlib inline\n",
        "from pyprojroot import here\n",
        "workspace_path = str(here())\n",
        "%cd $workspace_path\n",
        "print(f\"Working Directory has been set to `{workspace_path}`\")\n",
        "\n",
        "import autogalaxy as ag\n",
        "import autogalaxy.plot as aplt"
      ],
      "outputs": [],
      "execution_count": null
    },
    {
      "cell_type": "markdown",
      "metadata": {},
      "source": [
        "__Initial Setup__\n",
        "\n",
        "We first setup a `Grid2D`, which uses the same resolution and arc-second to pixel conversion as the previous tutorial."
      ]
    },
    {
      "cell_type": "code",
      "metadata": {},
      "source": [
        "grid = ag.Grid2D.uniform(shape_native=(100, 100), pixel_scales=0.05)"
      ],
      "outputs": [],
      "execution_count": null
    },
    {
      "cell_type": "markdown",
      "metadata": {},
      "source": [
        "__Light Profiles__\n",
        "\n",
        "We now create a `LightProfile` using the `light_profile` module, which is access via `lp` for  conciseness. \n",
        "\n",
        "wWe'll use  the elliptical Sersic light profile (using the `Sersic` object), which is an analytic function used \n",
        "throughout studies of galaxy morphology to represent their light. \n",
        "\n",
        "You'll note that we use `Ell` to concisely describe that this profile is ellipticag. If you are unsure what \n",
        "the `ell_comps` are, I'll give a description of them at the end of the tutorial."
      ]
    },
    {
      "cell_type": "code",
      "metadata": {},
      "source": [
        "sersic_light_profile = ag.lp.Sersic(\n",
        "    centre=(0.0, 0.0),\n",
        "    ell_comps=(0.0, 0.111111),\n",
        "    intensity=1.0,\n",
        "    effective_radius=1.0,\n",
        "    sersic_index=2.5,\n",
        ")"
      ],
      "outputs": [],
      "execution_count": null
    },
    {
      "cell_type": "markdown",
      "metadata": {},
      "source": [
        "By printing a `LightProfile` we can display its parameters."
      ]
    },
    {
      "cell_type": "code",
      "metadata": {},
      "source": [
        "print(sersic_light_profile)"
      ],
      "outputs": [],
      "execution_count": null
    },
    {
      "cell_type": "markdown",
      "metadata": {},
      "source": [
        "__Images__\n",
        "\n",
        "We next pass the `Grid2D` to the `sersic_light_profile`, to compute the intensity of the Sersic at every (y,x) \n",
        "coordinate on our two dimension grid. This uses the `image_2d_from` method, and you'll see throughout this tutorial \n",
        "that **PyAutoGalaxy** has numerous `_from` methods for computing quantities from a grid."
      ]
    },
    {
      "cell_type": "code",
      "metadata": {},
      "source": [
        "image = sersic_light_profile.image_2d_from(grid=grid)"
      ],
      "outputs": [],
      "execution_count": null
    },
    {
      "cell_type": "markdown",
      "metadata": {},
      "source": [
        "Much like the `Grid2D` objects discussed in the previous tutorial, this returns an `Array2D` object:"
      ]
    },
    {
      "cell_type": "code",
      "metadata": {},
      "source": [
        "print(type(image))"
      ],
      "outputs": [],
      "execution_count": null
    },
    {
      "cell_type": "markdown",
      "metadata": {},
      "source": [
        "Just like a grid, the `Array2D` object has both `native` and `slim` attributes:"
      ]
    },
    {
      "cell_type": "code",
      "metadata": {},
      "source": [
        "print(\"Intensity of pixel 0:\")\n",
        "print(image.native[0, 0])\n",
        "print(\"Intensity of pixel 1:\")\n",
        "print(image.slim[1])"
      ],
      "outputs": [],
      "execution_count": null
    },
    {
      "cell_type": "markdown",
      "metadata": {},
      "source": [
        "For an `Array2D`, the dimensions of these attributes are as follows:\n",
        "\n",
        " - `native`: an ndarray of shape [total_y_image_pixels, total_x_image_pixels].\n",
        "\n",
        " - `slim`: an ndarray of shape [total_y_image_pixels*total_x_image_pixels].\n",
        "\n",
        "The `native` and `slim` dimensions are therefore analogous to those of the `Grid2D` object, but without the final \n",
        "dimension of 2."
      ]
    },
    {
      "cell_type": "code",
      "metadata": {},
      "source": [
        "print(image.shape_native)\n",
        "print(image.shape_slim)"
      ],
      "outputs": [],
      "execution_count": null
    },
    {
      "cell_type": "markdown",
      "metadata": {},
      "source": [
        "We can use a `LightProfilePlotter` to plot the image of a light profile. We pass this plotter the light profile and\n",
        "a grid, which are used to create the image that is plotted."
      ]
    },
    {
      "cell_type": "code",
      "metadata": {},
      "source": [
        "light_profile_plotter = aplt.LightProfilePlotter(\n",
        "    light_profile=sersic_light_profile, grid=grid\n",
        ")\n",
        "light_profile_plotter.figures_2d(image=True)\n"
      ],
      "outputs": [],
      "execution_count": null
    },
    {
      "cell_type": "markdown",
      "metadata": {},
      "source": [
        "__Wrap Up__\n",
        "\n",
        "Congratulations, you`ve completed your second **PyAutoGalaxy** tutorial! \n",
        "\n",
        "Before moving on to the next one, experiment with  **PyAutoGalaxy** by doing the following:\n",
        "\n",
        "1) Change the `LightProfile`'s effective radius and Sersic index - how does the image's appearance change?\n",
        "2) Experiment with different `LightProfile`'s and `MassProfile`'s in the `light_profile` module. \n",
        "\n",
        "___Elliptical Components___\n",
        "\n",
        "The `ell_comps` describe the ellipticity of light distribution. \n",
        "\n",
        "We can define a coordinate system where an ellipse is defined in terms of:\n",
        "\n",
        " - axis_ratio = semi-major axis / semi-minor axis = b/a\n",
        " - position angle, where angle is in degrees.\n",
        "\n",
        "See https://en.wikipedia.org/wiki/Ellipse for a full description of elliptical coordinates.\n",
        "\n",
        "The elliptical components are related to the axis-ratio and position angle as follows:\n",
        "\n",
        "    fac = (1 - axis_ratio) / (1 + axis_ratio)\n",
        "    \n",
        "    elliptical_comp[0] = elliptical_comp_y = fac * np.sin(2 * angle)\n",
        "    elliptical_comp[1] = elliptical_comp_x = fac * np.cos(2 * angle)\n",
        "\n",
        "We can use the **PyAutoGalaxy** `convert` module to determine the elliptical components from an `axis_ratio` and `angle`,\n",
        "noting that the position angle is defined counter-clockwise from the positive x-axis."
      ]
    },
    {
      "cell_type": "code",
      "metadata": {},
      "source": [
        "ell_comps = ag.convert.ell_comps_from(axis_ratio=0.5, angle=45.0)\n",
        "\n",
        "print(ell_comps)"
      ],
      "outputs": [],
      "execution_count": null
    },
    {
      "cell_type": "markdown",
      "metadata": {},
      "source": [
        "The reason light profiles use the elliptical components instead of an axis-ratio and position angle is because it \n",
        "improves the modeling process. What is modeling? You'll find out in chapter 2!"
      ]
    },
    {
      "cell_type": "code",
      "metadata": {},
      "source": [],
      "outputs": [],
      "execution_count": null
    }
  ],
  "metadata": {
    "anaconda-cloud": {},
    "kernelspec": {
      "display_name": "Python 3",
      "language": "python",
      "name": "python3"
    },
    "language_info": {
      "codemirror_mode": {
        "name": "ipython",
        "version": 3
      },
      "file_extension": ".py",
      "mimetype": "text/x-python",
      "name": "python",
      "nbconvert_exporter": "python",
      "pygments_lexer": "ipython3",
      "version": "3.6.1"
    }
  },
  "nbformat": 4,
  "nbformat_minor": 4
}