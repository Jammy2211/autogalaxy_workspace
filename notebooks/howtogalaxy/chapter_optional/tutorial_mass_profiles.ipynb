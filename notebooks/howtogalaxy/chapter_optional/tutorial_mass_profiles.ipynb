{
  "cells": [
    {
      "cell_type": "markdown",
      "metadata": {},
      "source": [
        "Tutorial 2: Mass Profiles\n",
        "=========================\n",
        "\n",
        "**PyAutoGalaxy** is a spin off of the project **PyAutoGalaxy**, software which models strong gravitational lens\n",
        "systems.\n",
        "\n",
        "It therefore has numerous mass profiles, which are used to perform lensing calculations. Currently, there is no\n",
        "obvious use for these objects in **PyAutoGalaxy**, but if you are interested in performing stellar dynamics\n",
        "they may be a good starting point to implementing this functionality (contact us directly on GitHub if you are\n",
        "interested in this!\n",
        "\n",
        "This tutorial introduces `LightProfile` objects, which represent analytic forms for the light distribution of galaxies.\n",
        "\n",
        "By passing these objects 2D grids of $(y,x)$ coordinates we can create images from a light profile, which is therefore\n",
        "a model of a galaxy's luminous emission."
      ]
    },
    {
      "cell_type": "code",
      "metadata": {},
      "source": [
        "\n",
        "%matplotlib inline\n",
        "from pyprojroot import here\n",
        "workspace_path = str(here())\n",
        "%cd $workspace_path\n",
        "print(f\"Working Directory has been set to `{workspace_path}`\")\n",
        "\n",
        "import autogalaxy as ag\n",
        "import autogalaxy.plot as aplt"
      ],
      "outputs": [],
      "execution_count": null
    },
    {
      "cell_type": "markdown",
      "metadata": {},
      "source": [
        "__Initial Setup__\n",
        "\n",
        "We first setup a `Grid2D`, which uses the same resolution and arc-second to pixel conversion as the previous tutorial."
      ]
    },
    {
      "cell_type": "code",
      "metadata": {},
      "source": [
        "grid = ag.Grid2D.uniform(shape_native=(100, 100), pixel_scales=0.05)"
      ],
      "outputs": [],
      "execution_count": null
    },
    {
      "cell_type": "markdown",
      "metadata": {},
      "source": [
        "__Mass Profiles__\n",
        "\n",
        "To perform ray-tracing, we require `MassProfile`'s, which are created via the `mass_profile_list` module and which is \n",
        "accessed via `mp` for conciseness. \n",
        "\n",
        "A `MassProfile` is an analytic function that describes the distribution of mass in a galaxy, and therefore \n",
        "can be used to derive its surface-density, gravitational potential and, most importantly, its deflection angles. In\n",
        "gravitational lensing, the deflection angles describe how light is deflected by the `MassProfile` due to the curvature \n",
        "of space-time.\n",
        "\n",
        "You'll note that we use `Sph` to concisely describe that this profile is sphericag."
      ]
    },
    {
      "cell_type": "code",
      "metadata": {},
      "source": [
        "sis_mass_profile = ag.mp.IsothermalSph(centre=(0.0, 0.0), einstein_radius=1.6)\n",
        "\n",
        "print(sis_mass_profile)"
      ],
      "outputs": [],
      "execution_count": null
    },
    {
      "cell_type": "markdown",
      "metadata": {},
      "source": [
        "__Deflection Angles__\n",
        "\n",
        "We can again use a `from_grid_` method to compute the deflection angles of a mass profile from a grid. \n",
        "\n",
        "The deflection angles are returned as the arc-second deflections of the grid's $(y,x)$ Cartesian components. This again \n",
        "uses the `Grid2D``s object meaning that we can access the deflection angles via the `native` and `slim` attributes. \n",
        "\n",
        "(If you are still unclear what exactly a deflection angle means or how it will help us with gravitational lensing,\n",
        "things should become a lot clearer in tutorial 4 of this chapter. For now, just look at the pretty pictures they make!)."
      ]
    },
    {
      "cell_type": "code",
      "metadata": {},
      "source": [
        "mass_profile_deflections_yx_2d = sis_mass_profile.deflections_yx_2d_from(grid=grid)\n",
        "\n",
        "print(\"deflection-angles of `Grid2D` pixel 0:\")\n",
        "print(mass_profile_deflections_yx_2d.native[0, 0])\n",
        "print(\"deflection-angles of `Grid2D` pixel 1:\")\n",
        "print(mass_profile_deflections_yx_2d.slim[1])\n",
        "print()"
      ],
      "outputs": [],
      "execution_count": null
    },
    {
      "cell_type": "markdown",
      "metadata": {},
      "source": [
        "A `MassProfilePlotter` can plot the deflection angles.\n",
        "\n",
        "(The black and white lines are called the `critical curve` and `caustic`. we'll cover what these are in a later tutorial.)"
      ]
    },
    {
      "cell_type": "code",
      "metadata": {},
      "source": [
        "mass_profile_plotter = aplt.MassProfilePlotter(mass_profile=sis_mass_profile, grid=grid)\n",
        "mass_profile_plotter.figures_2d(deflections_y=True, deflections_x=True)"
      ],
      "outputs": [],
      "execution_count": null
    },
    {
      "cell_type": "markdown",
      "metadata": {},
      "source": [
        "__Other Properties__\n",
        "\n",
        "`MassProfile`'s have a range of other properties that are used for lensing calculations, a couple of which we've plotted \n",
        "images of below:\n",
        "\n",
        " - `convergence`: The surface mass density of the mass profile in dimensionless units.\n",
        " - `potential`: The gravitational of the mass profile again in convenient dimensionless units.\n",
        " - `agnification`: Describes how much brighter each image-pixel appears due to focusing of light rays.\n",
        "\n",
        "Extracting `Array2D`'s of these quantities from **PyAutoGalaxy** is exactly the same as for the image and deflection \n",
        "angles above."
      ]
    },
    {
      "cell_type": "code",
      "metadata": {},
      "source": [
        "mass_profile_convergence = sis_mass_profile.convergence_2d_from(grid=grid)\n",
        "\n",
        "mass_profile_potential = sis_mass_profile.potential_2d_from(grid=grid)\n",
        "\n",
        "mass_profile_magnification = sis_mass_profile.magnification_2d_from(grid=grid)"
      ],
      "outputs": [],
      "execution_count": null
    },
    {
      "cell_type": "markdown",
      "metadata": {},
      "source": [
        "Plotting them is equally straight forward."
      ]
    },
    {
      "cell_type": "code",
      "metadata": {},
      "source": [
        "mass_profile_plotter.figures_2d(convergence=True, potential=True, magnification=True)\n"
      ],
      "outputs": [],
      "execution_count": null
    }
  ],
  "metadata": {
    "anaconda-cloud": {},
    "kernelspec": {
      "display_name": "Python 3",
      "language": "python",
      "name": "python3"
    },
    "language_info": {
      "codemirror_mode": {
        "name": "ipython",
        "version": 3
      },
      "file_extension": ".py",
      "mimetype": "text/x-python",
      "name": "python",
      "nbconvert_exporter": "python",
      "pygments_lexer": "ipython3",
      "version": "3.6.1"
    }
  },
  "nbformat": 4,
  "nbformat_minor": 4
}