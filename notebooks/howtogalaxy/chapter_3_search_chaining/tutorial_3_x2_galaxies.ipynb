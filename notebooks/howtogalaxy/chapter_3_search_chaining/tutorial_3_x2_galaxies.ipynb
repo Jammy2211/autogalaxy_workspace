{
  "cells": [
    {
      "cell_type": "markdown",
      "metadata": {},
      "source": [
        "Tutorial 3: Two Galaxies\n",
        "========================\n",
        "\n",
        "Up to now, all the images we've fitted had one galaxy. However, we saw in chapter 1 that our galaxies object can\n",
        "consist of multiple galaxies which each contribute to the overall emission. Multi-galaxy systems are challenging to\n",
        "model, because they add an extra 5-10 parameters to the non-linear search per galaxy and, more problematically, the\n",
        "degeneracies between the parameters of the light profiles of the galaxies can be severe.\n",
        "\n",
        "However, we can still break their analysis down using multiple searches and give ourselves a shot at getting a good\n",
        "model. Here, we're going to fit a double galaxy system, fitting as much about each individual galaxy before\n",
        "fitting them simultaneously.\n",
        "\n",
        "Up to now, I've put a focus on an analysis being generag. The script we write in this example is going to be the\n",
        "opposite, specific to the image we're modeling. Fitting multiple galaxies is really difficult and writing a\n",
        "pipeline that we can generalize to many galaxies isn't currently possible."
      ]
    },
    {
      "cell_type": "code",
      "metadata": {},
      "source": [
        "%matplotlib inline\n",
        "from pyprojroot import here\n",
        "workspace_path = str(here())\n",
        "%cd $workspace_path\n",
        "print(f\"Working Directory has been set to `{workspace_path}`\")\n",
        "\n",
        "from os import path\n",
        "import autofit as af\n",
        "import autogalaxy as ag\n",
        "import autogalaxy.plot as aplt"
      ],
      "outputs": [],
      "execution_count": null
    },
    {
      "cell_type": "markdown",
      "metadata": {},
      "source": [
        "__Initial Setup__\n",
        "\n",
        "we'll use new galaxying data, where:\n",
        "\n",
        " - There are two galaxy's whose `LightProfile`'s are both `Sersic`'s."
      ]
    },
    {
      "cell_type": "code",
      "metadata": {},
      "source": [
        "dataset_name = \"sersic_x2\"\n",
        "dataset_path = path.join(\"dataset\", \"imaging\", dataset_name)\n",
        "\n",
        "dataset = ag.Imaging.from_fits(\n",
        "    data_path=path.join(dataset_path, \"data.fits\"),\n",
        "    noise_map_path=path.join(dataset_path, \"noise_map.fits\"),\n",
        "    psf_path=path.join(dataset_path, \"psf.fits\"),\n",
        "    pixel_scales=0.05,\n",
        ")"
      ],
      "outputs": [],
      "execution_count": null
    },
    {
      "cell_type": "markdown",
      "metadata": {},
      "source": [
        "__Mask__\n",
        "\n",
        "We need to choose our mask for the analysis. Given the light of both galaxies is present in the image we'll need to \n",
        "include all their light in the image, so lets use a large circular mask. \n",
        "\n",
        "We'll use this mask in all three searches, however you could imagine customizing it on a per-search basis to speed up\n",
        "the analysis."
      ]
    },
    {
      "cell_type": "code",
      "metadata": {},
      "source": [
        "mask = ag.Mask2D.circular(\n",
        "    shape_native=dataset.shape_native, pixel_scales=dataset.pixel_scales, radius=6.0\n",
        ")\n",
        "\n",
        "dataset = dataset.apply_mask(mask=mask)\n",
        "\n",
        "over_sample_size = ag.util.over_sample.over_sample_size_via_radial_bins_from(\n",
        "    grid=dataset.grid,\n",
        "    sub_size_list=[8, 4, 1],\n",
        "    radial_list=[0.3, 0.6],\n",
        "    centre_list=[(0.0, -1.0), (0.0, 1.0)],\n",
        ")\n",
        "\n",
        "dataset = dataset.apply_over_sampling(over_sample_size_lp=over_sample_size)\n",
        "\n",
        "dataset_plotter = aplt.ImagingPlotter(\n",
        "    dataset=dataset, visuals_2d=aplt.Visuals2D(mask=mask)\n",
        ")\n",
        "dataset_plotter.subplot_dataset()\n"
      ],
      "outputs": [],
      "execution_count": null
    },
    {
      "cell_type": "markdown",
      "metadata": {},
      "source": [
        "__Paths__\n",
        "\n",
        "All four searches will use the same `path_prefix`, so we write it here to avoid repetition."
      ]
    },
    {
      "cell_type": "code",
      "metadata": {},
      "source": [
        "path_prefix = path.join(\"howtogalaxy\", \"chapter_3\", \"tutorial_3_x2_galaxies\")"
      ],
      "outputs": [],
      "execution_count": null
    },
    {
      "cell_type": "markdown",
      "metadata": {},
      "source": [
        "__Search Chaining Approach__\n",
        "\n",
        "Looking at the image, there are two blobs of light corresponding to the two galaxies. \n",
        "\n",
        "So, how can we break the modeling up? As follows:\n",
        "\n",
        " 1) Fit and subtract the light of the left galaxy individually.\n",
        " 2) Fit and subtract the light of the right galaxy individually.\n",
        " 3) Use these results to initialize a fit which fits both galaxy's simultaneously.\n",
        "\n",
        "So, with this in mind, we'll perform an analysis using 3 searches:\n",
        "\n",
        " 1) Fit the light of the galaxy on the left of the image, at coordinates (0.0\", -1.0\").\n",
        " 2) Fit the light of the galaxy on the right of the image, at coordinates (0.0\", 1.0\").\n",
        " 4) Fit all relevant parameters simultaneously, using priors from searches 1, and 2.\n",
        "\n",
        "__Model + Search + Analysis + Model-Fit (Search 1)__\n",
        "\n",
        "Search 1 we fit a model where:\n",
        "\n",
        " - The left galaxy's light is a parametric linear `DevVaucouleurs` bulge with fixed centre [3 parameters].\n",
        "\n",
        " - the right galaxy's light is omitted.\n",
        "\n",
        "The number of free parameters and therefore the dimensionality of non-linear parameter space is N=3.\n",
        "\n",
        "__Notes__\n",
        "\n",
        "The `DevVaucouleurs` is an `Sersic` profile with `sersic_index=4`.\n",
        "\n",
        "We fix the centre of its light to (0.0, -1.0), the pixel we know the left galaxy's light centre peaks.\n",
        "\n",
        "We use linear light profiles througout this script, given that the model is quite complex and this helps\n",
        "simplify it."
      ]
    },
    {
      "cell_type": "code",
      "metadata": {},
      "source": [
        "left_galaxy = af.Model(ag.Galaxy, redshift=0.5, bulge=ag.lp_linear.DevVaucouleurs)\n",
        "left_galaxy.bulge.centre_0 = 0.0\n",
        "left_galaxy.bulge.centre_1 = -1.0\n",
        "\n",
        "model_1 = af.Collection(galaxies=af.Collection(left_galaxy=left_galaxy))"
      ],
      "outputs": [],
      "execution_count": null
    },
    {
      "cell_type": "markdown",
      "metadata": {},
      "source": [
        "The `info` attribute shows the model in a readable format."
      ]
    },
    {
      "cell_type": "code",
      "metadata": {},
      "source": [
        "print(model_1.info)"
      ],
      "outputs": [],
      "execution_count": null
    },
    {
      "cell_type": "markdown",
      "metadata": {},
      "source": [
        "__Search + Analysis + Model-Fit (Search 1)__"
      ]
    },
    {
      "cell_type": "code",
      "metadata": {},
      "source": [
        "analysis_1 = ag.AnalysisImaging(dataset=dataset)\n",
        "\n",
        "search_1 = af.Nautilus(\n",
        "    path_prefix=path_prefix,\n",
        "    name=\"search[1]__left_galaxy_light[bulge_linear]\",\n",
        "    unique_tag=dataset_name,\n",
        "    n_live=75,\n",
        ")\n",
        "\n",
        "result_1 = search_1.fit(model=model_1, analysis=analysis_1)"
      ],
      "outputs": [],
      "execution_count": null
    },
    {
      "cell_type": "markdown",
      "metadata": {},
      "source": [
        "__Result (Search 1)__\n",
        "\n",
        "The results which are used for prior passing are summarized in the `info` attribute."
      ]
    },
    {
      "cell_type": "code",
      "metadata": {},
      "source": [
        "print(result_1.info)"
      ],
      "outputs": [],
      "execution_count": null
    },
    {
      "cell_type": "markdown",
      "metadata": {},
      "source": [
        "__Model (Search 2)__\n",
        "\n",
        "Search 2 we fit a model where:\n",
        "\n",
        " - The left galaxy's light is a parametric linear `DevVaucouleurs` bulge [0 parameters: fixed from search 1].\n",
        "\n",
        " - The right galaxy's light is a parametric linear `DevVaucouleurs` bulge with a fixed centre [3 parameters].\n",
        "\n",
        " - The galaxy's mass  galaxy are omitted.\n",
        "\n",
        "The number of free parameters and therefore the dimensionality of non-linear parameter space is N=3.\n",
        "\n",
        "We fix the centre of the right lens's light to (0.0, 1.0), the pixel we know the right galaxy's light centre peaks.\n",
        "\n",
        "We also pass the result of the `left_galaxy` from search ` as an `instance`, which should improve the fitting of the\n",
        "right lens."
      ]
    },
    {
      "cell_type": "code",
      "metadata": {},
      "source": [
        "right_galaxy = af.Model(ag.Galaxy, redshift=0.5, bulge=ag.lp_linear.DevVaucouleurs)\n",
        "right_galaxy.bulge.centre_0 = 0.0\n",
        "right_galaxy.bulge.centre_1 = 1.0\n",
        "\n",
        "model_2 = af.Collection(\n",
        "    galaxies=af.Collection(\n",
        "        left_galaxy=result_1.instance.galaxies.left_galaxy, right_galaxy=right_galaxy\n",
        "    )\n",
        ")"
      ],
      "outputs": [],
      "execution_count": null
    },
    {
      "cell_type": "markdown",
      "metadata": {},
      "source": [
        "The `info` attribute shows the model, including how all priors are updated via prior passing."
      ]
    },
    {
      "cell_type": "code",
      "metadata": {},
      "source": [
        "print(model_2.info)"
      ],
      "outputs": [],
      "execution_count": null
    },
    {
      "cell_type": "markdown",
      "metadata": {},
      "source": [
        "__Search + Analysis + Model-Fit (Search 2)__"
      ]
    },
    {
      "cell_type": "code",
      "metadata": {},
      "source": [
        "analysis_2 = ag.AnalysisImaging(dataset=dataset)\n",
        "\n",
        "search_2 = af.Nautilus(\n",
        "    path_prefix=path_prefix,\n",
        "    name=\"search[2]__right_galaxy_light[bulge_linear]\",\n",
        "    unique_tag=dataset_name,\n",
        "    n_live=75,\n",
        ")\n",
        "\n",
        "result_2 = search_2.fit(model=model_2, analysis=analysis_2)"
      ],
      "outputs": [],
      "execution_count": null
    },
    {
      "cell_type": "markdown",
      "metadata": {},
      "source": [
        "__Result (Search 2)__\n",
        "The results which are used for prior passing are summarized in the `info` attribute."
      ]
    },
    {
      "cell_type": "code",
      "metadata": {},
      "source": [
        "print(result_2.info)"
      ],
      "outputs": [],
      "execution_count": null
    },
    {
      "cell_type": "markdown",
      "metadata": {},
      "source": [
        "__Model + Search + Analysis + Model-Fit (Search 4)__\n",
        "\n",
        "Search 4 we fit a model where:\n",
        "\n",
        " - The left galaxy's light is a parametric linear `Sersic` bulge with centre fixed [4 parameters: priors initialized \n",
        " from search 1].\n",
        "\n",
        " - The right galaxy's light is a parametric linear `Sersic` bulge with centre fixed [4 parameters: priors initialized \n",
        " from search 2].\n",
        "\n",
        "The number of free parameters and therefore the dimensionality of non-linear parameter space is N=8.\n",
        "\n",
        "We can use a special prior passing method to do this, called `take_attributes`. This scans the `DevVaucouleurs`\n",
        "passed to the `take_attributes` method for all parameters which have the same name as the `Sersic` model,\n",
        "and if their names are the same it passes their prior as a `model` (like we did above). Thus, it will locate all 6\n",
        "parameters in common between the two profiles (centre, ell_comps, intensity, effective_radius) and pass those,\n",
        "leaving the `sersic_index`'s priors as the default values.\n",
        "\n",
        "The `take_attributes` method is used in many examples of prior passing, when we pass a simpler parameterization of a\n",
        "model to a more complex model. Another good example would be passing the result of a `IsothermalSph` to an\n",
        "`Isothermal`."
      ]
    },
    {
      "cell_type": "code",
      "metadata": {},
      "source": [
        "left_galaxy = af.Model(ag.Galaxy, redshift=0.5, bulge=ag.lp_linear.Sersic)\n",
        "left_galaxy.bulge.take_attributes(result_1.model.galaxies.left_galaxy.bulge)\n",
        "\n",
        "right_galaxy = af.Model(ag.Galaxy, redshift=0.5, bulge=ag.lp_linear.Sersic)\n",
        "right_galaxy.bulge.take_attributes(result_2.model.galaxies.right_galaxy.bulge)\n",
        "\n",
        "model_3 = af.Collection(\n",
        "    galaxies=af.Collection(left_galaxy=left_galaxy, right_galaxy=right_galaxy)\n",
        ")\n",
        "\n",
        "analysis_3 = ag.AnalysisImaging(dataset=dataset)\n",
        "\n",
        "search_3 = af.Nautilus(\n",
        "    path_prefix=path_prefix,\n",
        "    name=\"search[3]_light_x2[bulge_linear]\",\n",
        "    unique_tag=dataset_name,\n",
        "    n_live=100,\n",
        ")\n",
        "\n",
        "result_3 = search_3.fit(model=model_3, analysis=analysis_3)"
      ],
      "outputs": [],
      "execution_count": null
    },
    {
      "cell_type": "markdown",
      "metadata": {},
      "source": [
        "__Result (Search 3)__\n",
        "\n",
        "The final results are summarized in the `info` attribute."
      ]
    },
    {
      "cell_type": "code",
      "metadata": {},
      "source": [
        "print(result_3.info)"
      ],
      "outputs": [],
      "execution_count": null
    },
    {
      "cell_type": "markdown",
      "metadata": {},
      "source": [
        "__Wrap Up__\n",
        "\n",
        "We have successfully fitted multiple galaxies, but fitting each one-by-one."
      ]
    },
    {
      "cell_type": "code",
      "metadata": {},
      "source": [],
      "outputs": [],
      "execution_count": null
    }
  ],
  "metadata": {
    "anaconda-cloud": {},
    "kernelspec": {
      "display_name": "Python 3",
      "language": "python",
      "name": "python3"
    },
    "language_info": {
      "codemirror_mode": {
        "name": "ipython",
        "version": 3
      },
      "file_extension": ".py",
      "mimetype": "text/x-python",
      "name": "python",
      "nbconvert_exporter": "python",
      "pygments_lexer": "ipython3",
      "version": "3.6.1"
    }
  },
  "nbformat": 4,
  "nbformat_minor": 4
}