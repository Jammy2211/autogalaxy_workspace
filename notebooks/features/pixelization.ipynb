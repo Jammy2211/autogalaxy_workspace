{
  "cells": [
    {
      "cell_type": "markdown",
      "metadata": {},
      "source": [
        "Modeling: Light Inversion\n",
        "=========================\n",
        "\n",
        "This script fits an `Imaging` dataset of a galaxy with a model where:\n",
        "\n",
        " - The galaxy's light is modeled using an `Inversion` with a rectangular pixelization and constant regularization\n",
        " scheme.\n",
        "\n",
        "An `Inversion` reconstructs the source's light using a pixel-grid, which is regularized using a prior that forces\n",
        "this reconstruction to be smooth. Due to the simplicity of this example the inversion effectively just find a model\n",
        "galaxy image that is denoised and deconvolved.\n",
        "\n",
        "More complicated and useful inversion fits are given elsewhere in the workspace (e.g. the `chaining` package), where\n",
        "they are combined with light profiles to fit irregular galaxies in a efficient way.\n",
        "\n",
        "Inversions are covered in detail in chapter 4 of the **HowToGalaxy** lectures.\n",
        "\n",
        "__Positive Only Solver__\n",
        "\n",
        "All pixelized source reconstructions use a positive-only solver, meaning that every source-pixel is only allowed\n",
        "to reconstruct positive flux values. This ensures that the source reconstruction is physical and that we don't\n",
        "reconstruct negative flux values that don't exist in the real source galaxy (a common systematic solution in lens\n",
        "analysis).\n",
        "\n",
        "It may be surprising to hear that this is a feature worth pointing out, but it turns out setting up the linear algebra\n",
        "to enforce positive reconstructions is difficult to make efficient. A lot of development time went into making this\n",
        "possible, where a bespoke fast non-negative linear solver was developed to achieve this.\n",
        "\n",
        "Other methods in the literature often do not use a positive only solver, and therefore suffer from these\n",
        "unphysical solutions, which can degrade the results of lens model in generag.\n",
        "\n",
        "__Start Here Notebook__\n",
        "\n",
        "If any code in this script is unclear, refer to the `modeling/start_here.ipynb` notebook."
      ]
    },
    {
      "cell_type": "code",
      "metadata": {},
      "source": [
        "%matplotlib inline\n",
        "from pyprojroot import here\n",
        "workspace_path = str(here())\n",
        "%cd $workspace_path\n",
        "print(f\"Working Directory has been set to `{workspace_path}`\")\n",
        "\n",
        "from os import path\n",
        "import autofit as af\n",
        "import autogalaxy as ag\n",
        "import autogalaxy.plot as aplt"
      ],
      "outputs": [],
      "execution_count": null
    },
    {
      "cell_type": "markdown",
      "metadata": {},
      "source": [
        "__Dataset__\n",
        "\n",
        "Load and plot the galaxy dataset `complex` via .fits files, where:\n",
        " \n",
        "  -The galaxy's bulge is an `Sersic`.\n",
        " - The galaxy's disk is an `Exponential`.\n",
        " - The galaxy's has four star forming clumps which are `Sersic` profiles."
      ]
    },
    {
      "cell_type": "code",
      "metadata": {},
      "source": [
        "dataset_name = \"simple__sersic\"\n",
        "dataset_path = path.join(\"dataset\", \"imaging\", dataset_name)\n",
        "\n",
        "dataset = ag.Imaging.from_fits(\n",
        "    data_path=path.join(dataset_path, \"data.fits\"),\n",
        "    psf_path=path.join(dataset_path, \"psf.fits\"),\n",
        "    noise_map_path=path.join(dataset_path, \"noise_map.fits\"),\n",
        "    pixel_scales=0.1,\n",
        ")\n",
        "\n",
        "dataset_plotter = aplt.ImagingPlotter(dataset=dataset)\n",
        "dataset_plotter.subplot_dataset()"
      ],
      "outputs": [],
      "execution_count": null
    },
    {
      "cell_type": "markdown",
      "metadata": {},
      "source": [
        "__Mask__\n",
        "\n",
        "Define a 3.0\" circular mask, which includes the emission of the galaxy."
      ]
    },
    {
      "cell_type": "code",
      "metadata": {},
      "source": [
        "mask = ag.Mask2D.circular(\n",
        "    shape_native=dataset.shape_native, pixel_scales=dataset.pixel_scales, radius=2.0\n",
        ")\n",
        "\n",
        "dataset = dataset.apply_mask(mask=mask)\n",
        "\n",
        "dataset_plotter = aplt.ImagingPlotter(dataset=dataset)\n",
        "dataset_plotter.subplot_dataset()"
      ],
      "outputs": [],
      "execution_count": null
    },
    {
      "cell_type": "markdown",
      "metadata": {},
      "source": [
        "__Model__\n",
        "\n",
        "We compose our model using `Model` objects, which represent the galaxies we fit to our data.  In this \n",
        "example we fit a model where:\n",
        "\n",
        " - The galaxy's light uses a `Rectangular` meshwhose resolution is free to vary (2 parameters). \n",
        " - This pixelization is regularized using a `Constant` scheme which smooths every source pixel equally [1 parameter]. \n",
        "\n",
        "The number of free parameters and therefore the dimensionality of non-linear parameter space is N=3. \n",
        " \n",
        "It is worth noting the `Pixelization`  use significantly fewer parameters (3 parameters) than \n",
        "fitting this complex galaxy using parametric light profiles would (20+ parameters). "
      ]
    },
    {
      "cell_type": "code",
      "metadata": {},
      "source": [
        "pixelization = af.Model(\n",
        "    ag.Pixelization, mesh=ag.mesh.Rectangular, regularization=ag.reg.Constant\n",
        ")\n",
        "\n",
        "galaxy = af.Model(ag.Galaxy, redshift=0.5, pixelization=pixelization)\n",
        "\n",
        "model = af.Collection(galaxies=af.Collection(galaxy=galaxy))"
      ],
      "outputs": [],
      "execution_count": null
    },
    {
      "cell_type": "markdown",
      "metadata": {},
      "source": [
        "The `info` attribute shows the model in a readable format."
      ]
    },
    {
      "cell_type": "code",
      "metadata": {},
      "source": [
        "print(model.info)"
      ],
      "outputs": [],
      "execution_count": null
    },
    {
      "cell_type": "markdown",
      "metadata": {},
      "source": [
        "__Search__\n",
        "\n",
        "The model is fitted to the data using a non-linear search. In this example, we use the nested sampling algorithm \n",
        "Nautilus (https://nautilus.readthedocs.io/en/latest/).\n",
        "\n",
        "A full description of the settings below is given in the beginner modeling scripts, if anything is unclear."
      ]
    },
    {
      "cell_type": "code",
      "metadata": {},
      "source": [
        "search = af.Nautilus(\n",
        "    path_prefix=path.join(\"imaging\", \"modeling\"),\n",
        "    name=\"light[pixelization]\",\n",
        "    unique_tag=dataset_name,\n",
        "    n_live=100,\n",
        "    number_of_cores=1,\n",
        ")"
      ],
      "outputs": [],
      "execution_count": null
    },
    {
      "cell_type": "markdown",
      "metadata": {},
      "source": [
        "__Analysis__\n",
        "\n",
        "Create the `AnalysisImaging` object defining how the model is fitted to the data. "
      ]
    },
    {
      "cell_type": "code",
      "metadata": {},
      "source": [
        "analysis = ag.AnalysisImaging(dataset=dataset)"
      ],
      "outputs": [],
      "execution_count": null
    },
    {
      "cell_type": "markdown",
      "metadata": {},
      "source": [
        "__Model-Fit__\n",
        "\n",
        "We begin the model-fit by passing the model and analysis object to the non-linear search (checkout the output folder\n",
        "for on-the-fly visualization and results)."
      ]
    },
    {
      "cell_type": "code",
      "metadata": {},
      "source": [
        "result = search.fit(model=model, analysis=analysis)"
      ],
      "outputs": [],
      "execution_count": null
    },
    {
      "cell_type": "markdown",
      "metadata": {},
      "source": [
        "__Result__\n",
        "\n",
        "The search returns a result object, which whose `info` attribute shows the result in a readable format:"
      ]
    },
    {
      "cell_type": "code",
      "metadata": {},
      "source": [
        "print(result.info)"
      ],
      "outputs": [],
      "execution_count": null
    },
    {
      "cell_type": "markdown",
      "metadata": {},
      "source": [
        "We plot the maximum likelihood fit, galaxy images and posteriors inferred via Nautilus.\n",
        "\n",
        "The galaxy bulge and disk appear similar to those in the data, confirming that the `intensity` values inferred by\n",
        "the inversion process are accurate."
      ]
    },
    {
      "cell_type": "code",
      "metadata": {},
      "source": [
        "print(result.max_log_likelihood_instance)\n",
        "\n",
        "galaxies_plotter = aplt.GalaxiesPlotter(\n",
        "    galaxies=result.max_log_likelihood_galaxies, grid=result.grids.uniform\n",
        ")\n",
        "galaxies_plotter.subplot()\n",
        "\n",
        "fit_plotter = aplt.FitImagingPlotter(fit=result.max_log_likelihood_fit)\n",
        "fit_plotter.subplot_fit()\n",
        "\n",
        "plotter = aplt.NestPlotter(samples=result.samples)\n",
        "plotter.corner_cornerpy()"
      ],
      "outputs": [],
      "execution_count": null
    },
    {
      "cell_type": "markdown",
      "metadata": {},
      "source": [
        "__Result (Advanced)__\n",
        "\n",
        "The code belows shows all additional results that can be computed from a `Result` object following a fit with a\n",
        "pixelization.\n",
        "\n",
        "__Max Likelihood Inversion__\n",
        "\n",
        "As seen elsewhere in the workspace, the result contains a `max_log_likelihood_fit`, which contains the\n",
        "`Inversion` object we need."
      ]
    },
    {
      "cell_type": "code",
      "metadata": {},
      "source": [
        "inversion = result.max_log_likelihood_fit.inversion"
      ],
      "outputs": [],
      "execution_count": null
    },
    {
      "cell_type": "markdown",
      "metadata": {},
      "source": [
        "This `Inversion` can be used to plot the reconstructed image of specifically all linear light profiles and the\n",
        "reconstruction of the `Pixelization`."
      ]
    },
    {
      "cell_type": "code",
      "metadata": {},
      "source": [
        "inversion_plotter = aplt.InversionPlotter(inversion=inversion)\n",
        "inversion_plotter.figures_2d(reconstructed_image=True)\n",
        "inversion_plotter.figures_2d_of_pixelization(pixelization_index=0, reconstruction=True)"
      ],
      "outputs": [],
      "execution_count": null
    },
    {
      "cell_type": "markdown",
      "metadata": {},
      "source": [
        "__Linear Objects__\n",
        "\n",
        "An `Inversion` contains all of the linear objects used to reconstruct the data in its `linear_obj_list`. \n",
        "\n",
        "This list may include the following objects:\n",
        "\n",
        " - `LightProfileLinearObjFuncList`: This object contains lists of linear light profiles and the functionality used\n",
        " by them to reconstruct data in an inversion. For example it may only contain a list with a single light profile\n",
        " (e.g. `lp_linear.Sersic`) or many light profiles combined in a `Basis` (e.g. `lp_basis.Basis`).\n",
        " \n",
        "- `Mapper`: The linear objected used by a `Pixelization` to reconstruct data via an `Inversion`, where the `Mapper` \n",
        "is specific to the `Pixelization`'s `Mesh` (e.g. a `RectnagularMapper` is used for a `Rectangular` mesh).\n",
        "\n",
        "In this example, the only linear object used to fit the data was a `Pixelization`, thus the `linear_obj_list`\n",
        "contains just one entry corresponding to a `Mapper`:"
      ]
    },
    {
      "cell_type": "code",
      "metadata": {},
      "source": [
        "print(inversion.linear_obj_list)"
      ],
      "outputs": [],
      "execution_count": null
    },
    {
      "cell_type": "markdown",
      "metadata": {},
      "source": [
        "To extract results from an inversion many quantities will come in lists or require that we specific the linear object\n",
        "we with to use. \n",
        "\n",
        "Thus, knowing what linear objects are contained in the `linear_obj_list` and what indexes they correspond to\n",
        "is important."
      ]
    },
    {
      "cell_type": "code",
      "metadata": {},
      "source": [
        "print(f\"Rectangular Mapper = {inversion.linear_obj_list[0]}\")"
      ],
      "outputs": [],
      "execution_count": null
    },
    {
      "cell_type": "markdown",
      "metadata": {},
      "source": [
        "__Pixelization / Mapper Calculations__\n",
        "\n",
        "The pixelized galaxy reconstruction output by an `Inversion` is often on an irregular grid (e.g. a \n",
        "Voronoi triangulation or Voronoi mesh), making it difficult to manipulate and inspect after the lens modeling has \n",
        "completed.\n",
        "\n",
        "Internally, the inversion stores a `Mapper` object to perform these calculations, which effectively maps pixels\n",
        "between the image-plane and source-plane. \n",
        "\n",
        "After an inversion is complete, it has computed values which can be paired with the `Mapper` to perform calculations,\n",
        "most notably the `reconstruction`, which is the reconstructed source pixel values.\n",
        "\n",
        "By inputting the inversions's mapper and a set of values (e.g. the `reconstruction`) into a `MapperValued` object, we\n",
        "are provided with all the functionality we need to perform calculations on the reconstruction.\n",
        "\n",
        "We set up the `MapperValued` object below, and illustrate how we can use it to interpolate the source reconstruction\n",
        "to a uniform grid of values, perform magnification calculations and other tasks."
      ]
    },
    {
      "cell_type": "code",
      "metadata": {},
      "source": [
        "inversion = result.max_log_likelihood_fit.inversion\n",
        "mapper = inversion.cls_list_from(cls=ag.AbstractMapper)[\n",
        "    0\n",
        "]  # Only one source-plane so only one mapper, would be a list if multiple source planes\n",
        "\n",
        "mapper_valued = ag.MapperValued(\n",
        "    mapper=mapper, values=inversion.reconstruction_dict[mapper]\n",
        ")"
      ],
      "outputs": [],
      "execution_count": null
    },
    {
      "cell_type": "markdown",
      "metadata": {},
      "source": [
        "__Interpolated Source__\n",
        "\n",
        "A simple way to inspect the reconstruction is to interpolate its values from the irregular\n",
        "pixelization o a uniform 2D grid of pixels.\n",
        "\n",
        "(if you do not know what the `slim` and `native` properties below refer too, it \n",
        "is described in the `results/examples/data_structures.py` example.)\n",
        "\n",
        "We interpolate the Voronoi triangulation this source is reconstructed on to a 2D grid of 401 x 401 square pixels. "
      ]
    },
    {
      "cell_type": "code",
      "metadata": {},
      "source": [
        "interpolated_reconstruction = mapper_valued.interpolated_array_from(\n",
        "    shape_native=(401, 401)\n",
        ")"
      ],
      "outputs": [],
      "execution_count": null
    },
    {
      "cell_type": "markdown",
      "metadata": {},
      "source": [
        "If you are unclear on what `slim` means, refer to the section `Data Structure` at the top of this example."
      ]
    },
    {
      "cell_type": "code",
      "metadata": {},
      "source": [
        "print(interpolated_reconstruction.slim)\n",
        "\n",
        "plotter = aplt.Array2DPlotter(\n",
        "    array=interpolated_reconstruction,\n",
        ")\n",
        "plotter.figure_2d()"
      ],
      "outputs": [],
      "execution_count": null
    },
    {
      "cell_type": "markdown",
      "metadata": {},
      "source": [
        "By inputting the arc-second `extent` of the reconstruction, the interpolated array will zoom in on only these regions \n",
        "of the reconstruction. The extent is input via the notation (xmin, xmax, ymin, ymax), therefore  unlike the standard \n",
        "API it does not follow the (y,x) convention. \n",
        "\n",
        "Note that the output interpolated array will likely therefore be rectangular, with rectangular pixels, unless \n",
        "symmetric y and x arc-second extents are input."
      ]
    },
    {
      "cell_type": "code",
      "metadata": {},
      "source": [
        "interpolated_reconstruction = mapper_valued.interpolated_array_from(\n",
        "    shape_native=(401, 401), extent=(-1.0, 1.0, -1.0, 1.0)\n",
        ")\n",
        "\n",
        "print(interpolated_reconstruction.slim)"
      ],
      "outputs": [],
      "execution_count": null
    },
    {
      "cell_type": "markdown",
      "metadata": {},
      "source": [
        "The interpolated errors on the reconstruction can also be computed, in case you are planning to perform \n",
        "model-fitting of the reconstruction."
      ]
    },
    {
      "cell_type": "code",
      "metadata": {},
      "source": [
        "mapper_valued_errors = ag.MapperValued(\n",
        "    mapper=mapper, values=inversion.errors_dict[mapper]\n",
        ")\n",
        "\n",
        "interpolated_errors = mapper_valued_errors.interpolated_array_from(\n",
        "    shape_native=(401, 401), extent=(-1.0, 1.0, -1.0, 1.0)\n",
        ")\n",
        "\n",
        "print(interpolated_errors.slim)"
      ],
      "outputs": [],
      "execution_count": null
    },
    {
      "cell_type": "markdown",
      "metadata": {},
      "source": [
        "__Reconstruction__\n",
        "\n",
        "The reconstruction is also available as a 1D numpy array of values representative of the pixelization\n",
        "itself (in this example, the reconstructed source values at each rectangular pixel)."
      ]
    },
    {
      "cell_type": "code",
      "metadata": {},
      "source": [
        "print(inversion.reconstruction)"
      ],
      "outputs": [],
      "execution_count": null
    },
    {
      "cell_type": "markdown",
      "metadata": {},
      "source": [
        "The (y,x) grid of coordinates associated with these values is given by the `Inversion`'s `Mapper` (which are \n",
        "described in chapter 4 of **HowToGalaxy**).\n",
        "\n",
        "Note above how we showed that the first entry of the `linear_obj_list` contains the inversion's `Mapper`."
      ]
    },
    {
      "cell_type": "code",
      "metadata": {},
      "source": [
        "mapper = inversion.linear_obj_list[0]\n",
        "print(mapper.source_plane_mesh_grid)"
      ],
      "outputs": [],
      "execution_count": null
    },
    {
      "cell_type": "markdown",
      "metadata": {},
      "source": [
        "The mapper also contains the (y,x) grid of coordinates that correspond to the imaging data's grid"
      ]
    },
    {
      "cell_type": "code",
      "metadata": {},
      "source": [
        "print(mapper.source_plane_data_grid)"
      ],
      "outputs": [],
      "execution_count": null
    },
    {
      "cell_type": "markdown",
      "metadata": {},
      "source": [
        "__Mapped Reconstructed Images__\n",
        "\n",
        "The reconstruction(s) are mapped to the image grid in order to fit the model.\n",
        "\n",
        "These mapped reconstructed images are also accessible via the `Inversion`. \n",
        "\n",
        "Note that any parametric light profiles in the model (e.g. the `bulge` and `disk` of a galaxy) are not \n",
        "included in this image -- it only contains the source."
      ]
    },
    {
      "cell_type": "code",
      "metadata": {},
      "source": [
        "print(inversion.mapped_reconstructed_image.native)"
      ],
      "outputs": [],
      "execution_count": null
    },
    {
      "cell_type": "markdown",
      "metadata": {},
      "source": [
        "__Linear Algebra Matrices (Advanced)__\n",
        "\n",
        "To perform an `Inversion` a number of matrices are constructed which use linear algebra to perform the reconstruction.\n",
        "\n",
        "These are accessible in the inversion object."
      ]
    },
    {
      "cell_type": "code",
      "metadata": {},
      "source": [
        "print(inversion.curvature_matrix)\n",
        "print(inversion.regularization_matrix)\n",
        "print(inversion.curvature_reg_matrix)"
      ],
      "outputs": [],
      "execution_count": null
    },
    {
      "cell_type": "markdown",
      "metadata": {},
      "source": [
        "__Evidence Terms (Advanced)__\n",
        "\n",
        "In **HowToGalaxy** and the papers below, we cover how an `Inversion` uses a Bayesian evidence to quantify the goodness\n",
        "of fit:\n",
        "\n",
        "https://arxiv.org/abs/1708.07377\n",
        "https://arxiv.org/abs/astro-ph/0601493\n",
        "\n",
        "This evidence balances solutions which fit the data accurately, without using an overly complex regularization source.\n",
        "\n",
        "The individual terms of the evidence and accessed via the following properties:"
      ]
    },
    {
      "cell_type": "code",
      "metadata": {},
      "source": [
        "print(inversion.regularization_term)\n",
        "print(inversion.log_det_regularization_matrix_term)\n",
        "print(inversion.log_det_curvature_reg_matrix_term)"
      ],
      "outputs": [],
      "execution_count": null
    },
    {
      "cell_type": "markdown",
      "metadata": {},
      "source": [
        "__Future Ideas / Contributions__\n",
        "\n",
        "Here are a list of things I would like to add to this tutorial but haven't found the time. If you are interested\n",
        "in having a go at adding them contact me on SLACK! :)\n",
        "\n",
        "- More \n",
        "- Source gradient calculations."
      ]
    },
    {
      "cell_type": "code",
      "metadata": {},
      "source": [],
      "outputs": [],
      "execution_count": null
    }
  ],
  "metadata": {
    "anaconda-cloud": {},
    "kernelspec": {
      "display_name": "Python 3",
      "language": "python",
      "name": "python3"
    },
    "language_info": {
      "codemirror_mode": {
        "name": "ipython",
        "version": 3
      },
      "file_extension": ".py",
      "mimetype": "text/x-python",
      "name": "python",
      "nbconvert_exporter": "python",
      "pygments_lexer": "ipython3",
      "version": "3.6.1"
    }
  },
  "nbformat": 4,
  "nbformat_minor": 4
}