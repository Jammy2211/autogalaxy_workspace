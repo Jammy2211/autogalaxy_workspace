{
  "cells": [
    {
      "cell_type": "markdown",
      "metadata": {},
      "source": [
        "Modeling: Customize\n",
        "===================\n",
        "\n",
        "This script gives a run through of all the different ways the analysis can be customized for modeling, with\n",
        "reasons explaining why each customization is useful.\n",
        "\n",
        "__Contents__\n",
        "\n",
        "**Dataset**: Load a dataset which is used to illustrate the customizations.\n",
        "**Mask:** Apply a custom mask to the dataset, which can be used to remove regions of the image that contain no emission.\n",
        "**Over Sampling:** Change the over sampling used to compute the surface brightness of every image-pixel.\n",
        "\n",
        "__Start Here Notebook__\n",
        "\n",
        "If any code in this script is unclear, refer to the `modeling/start_here.ipynb` notebook."
      ]
    },
    {
      "cell_type": "code",
      "metadata": {},
      "source": [
        "\n",
        "%matplotlib inline\n",
        "from pyprojroot import here\n",
        "workspace_path = str(here())\n",
        "%cd $workspace_path\n",
        "print(f\"Working Directory has been set to `{workspace_path}`\")\n",
        "\n",
        "from pathlib import Path\n",
        "import autogalaxy as ag\n",
        "import autogalaxy.plot as aplt"
      ],
      "outputs": [],
      "execution_count": null
    },
    {
      "cell_type": "markdown",
      "metadata": {},
      "source": [
        "__Dataset__\n",
        "\n",
        "All customizations in this script are applied to the strong dataset `simple`, which is a\n",
        "simple strong with no light emission.\n",
        "\n",
        "We therefore load and plot the strong dataset `simple` via .fits files."
      ]
    },
    {
      "cell_type": "code",
      "metadata": {},
      "source": [
        "dataset_name = \"simple__sersic\"\n",
        "dataset_path = Path(\"dataset\") / \"imaging\" / dataset_name\n",
        "\n",
        "dataset = ag.Imaging.from_fits(\n",
        "    data_path=dataset_path / \"data.fits\",\n",
        "    psf_path=dataset_path / \"psf.fits\",\n",
        "    noise_map_path=dataset_path / \"noise_map.fits\",\n",
        "    pixel_scales=0.1,\n",
        ")"
      ],
      "outputs": [],
      "execution_count": null
    },
    {
      "cell_type": "markdown",
      "metadata": {},
      "source": [
        "__Mask__\n",
        "\n",
        "All example default scritps use a circular mask to model a lens, which contains the and source emission.\n",
        "However, the mask can be customized to better suit the and source emission, for example by using an annular\n",
        "mask to only contain the emission of the Einstein ring itelf.\n",
        "\n",
        "Advantages: Galaxies with complex and difficult-to-subtract foreground galaxies can leave residuals that\n",
        "bias the galaxy model, which this custom mask can remove from the model-fit. The custom mask can also provide\n",
        "faster run times, as the removal of large large regions of the image (which contain no signal) no longer need to be\n",
        "processed and fitted.\n",
        "\n",
        "Disadvantages: Pixels containing no galaxy emission may still constrain the model, if a model incorrectly\n",
        "predicts that flux will appear in these image pixels. By using a custom mask, the model-fit will not be penalized for\n",
        "incorrectly predicting flux in these image-pixels (As the mask has removed them from the fit).\n",
        "\n",
        "We first show an example using an annular masks, which removes the central pixels and thus only fit the outer regions."
      ]
    },
    {
      "cell_type": "code",
      "metadata": {},
      "source": [
        "mask = ag.Mask2D.annular(\n",
        "    shape_native=dataset.shape_native,\n",
        "    pixel_scales=dataset.pixel_scales,\n",
        "    inner_radius=0.5,\n",
        "    outer_radius=2.5,\n",
        ")\n",
        "\n",
        "dataset = dataset.apply_mask(mask=mask)  # <----- The custom mask is used here!\n",
        "\n",
        "visuals = aplt.Visuals2D(mask=mask)\n",
        "\n",
        "dataset_plotter = aplt.ImagingPlotter(dataset=dataset, visuals_2d=visuals)\n",
        "dataset_plotter.subplot_dataset()"
      ],
      "outputs": [],
      "execution_count": null
    },
    {
      "cell_type": "markdown",
      "metadata": {},
      "source": [
        "We can also load the mask from a .fits file, which could have been produced in a way which is even more customized\n",
        "to the source emission than the annular masks above.\n",
        "\n",
        "To create the .fits file of a mask, we use a GUI tool which is described in the following script:\n",
        "\n",
        " `autolens_workspace/*/data_preparation/imaging/gui/mask.py`"
      ]
    },
    {
      "cell_type": "code",
      "metadata": {},
      "source": [
        "mask = ag.Mask2D.from_fits(\n",
        "    file_path=Path(dataset_path, \"mask_gui.fits\"),\n",
        "    hdu=0,\n",
        "    pixel_scales=dataset.pixel_scales,\n",
        ")\n",
        "\n",
        "dataset = dataset.apply_mask(mask=mask)  # <----- The custom mask is used here!\n",
        "\n",
        "visuals = aplt.Visuals2D(mask=mask)\n",
        "\n",
        "dataset_plotter = aplt.ImagingPlotter(dataset=dataset, visuals_2d=visuals)\n",
        "dataset_plotter.subplot_dataset()"
      ],
      "outputs": [],
      "execution_count": null
    },
    {
      "cell_type": "markdown",
      "metadata": {},
      "source": [
        "__Over Sampling__\n",
        "\n",
        "Over sampling is a numerical technique where the images of light profiles and galaxies are evaluated\n",
        "on a higher resolution grid than the image data to ensure the calculation is accurate.\n",
        "\n",
        "f the light profile has a very steep gradient in intensity from one edge of the pixel to the other, like a Sersic\n",
        "profile does towards its centre, over sampling is necessary to evaluate to total emission observed in that pixel\n",
        "correctly.\n",
        "\n",
        "This example demonstrates how to change the over sampling used to compute the surface brightness of every image-pixel,\n",
        "whereby a higher sub-grid resolution better oversamples the image of the light profile so as to provide a more accurate\n",
        "model of its image.\n",
        "\n",
        "**Benefit**: Higher level of over sampling provide a more accurate estimate of the surface brightness in every image-pixel.\n",
        "**Downside**: Higher levels of over sampling require longer calculations and higher memory usage.\n",
        "\n",
        "Prequisites: You should read `autogalaxy_workspace/*/guides/advanced/over_sampling.ipynb` before running this script, which\n",
        "introduces the concept of over sampling in PyAutoand explains why the and source galaxy are evaluated\n",
        "on different grids.\n",
        "\n",
        "\n",
        "\n",
        "The over sampling used to fit the data is customized using the `apply_over_sampling` method, which you may have\n",
        "seen in example `modeling` scripts.\n",
        "\n",
        "To apply uniform over sampling of degree 4x4, we simply input the integer 4.\n",
        "\n",
        "The grid this is applied to is called `lp`, to indicate that it is the grid used to evaluate the emission of light\n",
        "profiles for which this over sampling scheme is applied."
      ]
    },
    {
      "cell_type": "code",
      "metadata": {},
      "source": [
        "dataset = dataset.apply_over_sampling(over_sample_size_lp=4)"
      ],
      "outputs": [],
      "execution_count": null
    },
    {
      "cell_type": "markdown",
      "metadata": {},
      "source": [
        "Above, the `over_sample_size` input has been an integer, however it can also be an `ndarray` of values corresponding\n",
        "to each pixel. \n",
        "\n",
        "Below, we create an `ndarray` of values which are high in the centre, but reduce to 2 at the outskirts, therefore \n",
        "providing high levels of over sampling where we need it whilst using lower values which are computationally fast to \n",
        "evaluate at the outskirts.\n",
        "\n",
        "Specifically, we define a 24 x 24 sub-grid within the central 0.3\" of pixels, uses a 8 x 8 grid between\n",
        "0.3\" and 0.6\" and a 2 x 2 grid beyond that. \n",
        "\n",
        "This will provide high levels of over sampling for the galaxy, whose emission peaks at the centre of the\n",
        "image near (0.0\", 0.0\"), but will not produce high levels of over sampling for the lensed source."
      ]
    },
    {
      "cell_type": "code",
      "metadata": {},
      "source": [
        "over_sample_size = ag.util.over_sample.over_sample_size_via_radial_bins_from(\n",
        "    grid=dataset.grid,\n",
        "    sub_size_list=[24, 8, 2],\n",
        "    radial_list=[0.3, 0.6],\n",
        "    centre_list=[(0.0, 0.0)],\n",
        ")\n",
        "\n",
        "dataset = dataset.apply_over_sampling(over_sample_size_lp=over_sample_size)"
      ],
      "outputs": [],
      "execution_count": null
    },
    {
      "cell_type": "markdown",
      "metadata": {},
      "source": [
        "Finish."
      ]
    },
    {
      "cell_type": "code",
      "metadata": {},
      "source": [],
      "outputs": [],
      "execution_count": null
    }
  ],
  "metadata": {
    "anaconda-cloud": {},
    "kernelspec": {
      "display_name": "Python 3",
      "language": "python",
      "name": "python3"
    },
    "language_info": {
      "codemirror_mode": {
        "name": "ipython",
        "version": 3
      },
      "file_extension": ".py",
      "mimetype": "text/x-python",
      "name": "python",
      "nbconvert_exporter": "python",
      "pygments_lexer": "ipython3",
      "version": "3.6.1"
    }
  },
  "nbformat": 4,
  "nbformat_minor": 4
}