{
  "cells": [
    {
      "cell_type": "markdown",
      "metadata": {},
      "source": [
        "Model Cookbook\n",
        "==============\n",
        "\n",
        "The model cookbook provides a concise reference to model composition tools, specifically the `Model` and\n",
        "`Collection` objects.\n",
        "\n",
        "Examples using different PyAutoGalaxy API\u2019s for model composition are provided, which produce more concise and\n",
        "readable code for different use-cases.\n",
        "\n",
        "__Start Here Notebook__\n",
        "\n",
        "If any code in this script is unclear, refer to the `modeling/start_here.ipynb` notebook."
      ]
    },
    {
      "cell_type": "code",
      "metadata": {},
      "source": [
        "\n",
        "%matplotlib inline\n",
        "from pyprojroot import here\n",
        "workspace_path = str(here())\n",
        "%cd $workspace_path\n",
        "print(f\"Working Directory has been set to `{workspace_path}`\")\n",
        "\n",
        "from pathlib import Path\n",
        "import autofit as af\n",
        "import autogalaxy as ag"
      ],
      "outputs": [],
      "execution_count": null
    },
    {
      "cell_type": "markdown",
      "metadata": {},
      "source": [
        "__Simple Model__\n",
        "\n",
        "A simple model we can compose has a galaxy with a Sersic light profile:"
      ]
    },
    {
      "cell_type": "code",
      "metadata": {},
      "source": [
        "\n",
        "bulge = af.Model(ag.lp_linear.Sersic)\n",
        "\n",
        "galaxy = af.Model(ag.Galaxy, redshift=0.5, bulge=bulge)\n",
        "\n",
        "model = af.Collection(galaxies=af.Collection(galaxy=galaxy))\n",
        "\n",
        "print(model.info)"
      ],
      "outputs": [],
      "execution_count": null
    },
    {
      "cell_type": "markdown",
      "metadata": {},
      "source": [
        "The model `total_free_parameters` tells us the total number of free parameters (which are fitted for via a \n",
        "non-linear search), which in this case is 7."
      ]
    },
    {
      "cell_type": "code",
      "metadata": {},
      "source": [
        "print(f\"Model Total Free Parameters = {model.total_free_parameters}\")"
      ],
      "outputs": [],
      "execution_count": null
    },
    {
      "cell_type": "markdown",
      "metadata": {},
      "source": [
        "If we print the `info` attribute of the model we get information on all of the parameters and their priors."
      ]
    },
    {
      "cell_type": "code",
      "metadata": {},
      "source": [
        "print(model.info)"
      ],
      "outputs": [],
      "execution_count": null
    },
    {
      "cell_type": "markdown",
      "metadata": {},
      "source": [
        "__More Complex Models__\n",
        "\n",
        "The API above can be easily extended to compose models where each galaxy has multiple light or mass profiles:"
      ]
    },
    {
      "cell_type": "code",
      "metadata": {},
      "source": [
        "bulge = af.Model(ag.lp_linear.Sersic)\n",
        "disk = af.Model(ag.lp_linear.Exponential)\n",
        "bar = af.Model(ag.lp_linear.Sersic)\n",
        "\n",
        "galaxy = af.Model(ag.Galaxy, redshift=0.5, bulge=bulge, disk=disk, bar=bar)\n",
        "\n",
        "model = af.Collection(galaxies=af.Collection(galaxy=galaxy))\n",
        "\n",
        "print(model.info)"
      ],
      "outputs": [],
      "execution_count": null
    },
    {
      "cell_type": "markdown",
      "metadata": {},
      "source": [
        "The use of the words `bulge`, `disk` and `bar` above are arbitrary. They can be replaced with any name you\n",
        "like, e.g. `bulge_0`, `bulge_1`, `star_clump`, and the model will still behave in the same way.\n",
        "\n",
        "The API can also be extended to compose models where there are multiple galaxies:"
      ]
    },
    {
      "cell_type": "code",
      "metadata": {},
      "source": [
        "bulge = af.Model(ag.lp_linear.Sersic)\n",
        "\n",
        "galaxy_0 = af.Model(\n",
        "    ag.Galaxy,\n",
        "    redshift=0.5,\n",
        "    bulge=bulge,\n",
        ")\n",
        "\n",
        "bulge = af.Model(ag.lp_linear.Sersic)\n",
        "\n",
        "galaxy_1 = af.Model(\n",
        "    ag.Galaxy,\n",
        "    redshift=0.5,\n",
        "    bulge=bulge,\n",
        ")\n",
        "\n",
        "model = af.Collection(\n",
        "    galaxies=af.Collection(\n",
        "        galaxy_0=galaxy_0,\n",
        "        galaxy_1=galaxy_1,\n",
        "    )\n",
        ")\n",
        "\n",
        "print(model.info)"
      ],
      "outputs": [],
      "execution_count": null
    },
    {
      "cell_type": "markdown",
      "metadata": {},
      "source": [
        "__Concise API__\n",
        "\n",
        "If a light profile is passed directly to the `af.Model` of a galaxy, it is automatically assigned to be a `af.Model` \n",
        "component of the galaxy.\n",
        "\n",
        "This means we can write the model above comprising multiple light profiles more concisely as follows:"
      ]
    },
    {
      "cell_type": "code",
      "metadata": {},
      "source": [
        "galaxy = af.Model(\n",
        "    ag.Galaxy,\n",
        "    redshift=0.5,\n",
        "    bulge=ag.lp_linear.Sersic,\n",
        "    disk=ag.lp_linear.Exponential,\n",
        "    bar=ag.lp_linear.Sersic,\n",
        ")\n",
        "\n",
        "model = af.Collection(galaxies=af.Collection(galaxy=galaxy))\n",
        "\n",
        "print(model.info)"
      ],
      "outputs": [],
      "execution_count": null
    },
    {
      "cell_type": "markdown",
      "metadata": {},
      "source": [
        "__Prior Customization__\n",
        "\n",
        "We can customize the priors of the model component individual parameters as follows:"
      ]
    },
    {
      "cell_type": "code",
      "metadata": {},
      "source": [
        "bulge = af.Model(ag.lp_linear.Sersic)\n",
        "bulge.centre.centre_0 = af.UniformPrior(lower_limit=-0.1, upper_limit=0.1)\n",
        "bulge.centre.centre_1 = af.UniformPrior(lower_limit=-0.1, upper_limit=0.1)\n",
        "bulge.sersic_index = af.TruncatedGaussianPrior(\n",
        "    mean=4.0, sigma=1.0, lower_limit=1.0, upper_limit=8.0\n",
        ")\n",
        "\n",
        "galaxy = af.Model(\n",
        "    ag.Galaxy,\n",
        "    redshift=0.5,\n",
        "    bulge=bulge,\n",
        ")\n",
        "\n",
        "model = af.Collection(galaxies=af.Collection(galaxy=galaxy))\n",
        "\n",
        "print(model.info)"
      ],
      "outputs": [],
      "execution_count": null
    },
    {
      "cell_type": "markdown",
      "metadata": {},
      "source": [
        "__Model Customization__\n",
        "\n",
        "We can customize the model parameters in a number of different ways, as shown below:"
      ]
    },
    {
      "cell_type": "code",
      "metadata": {},
      "source": [
        "bulge = af.Model(ag.lp_linear.Sersic)\n",
        "disk = af.Model(ag.lp_linear.Exponential)\n",
        "\n",
        "# Parameter Pairing: Pair the centre of the bulge and disk together, reducing\n",
        "# the complexity of non-linear parameter space by N = 2\n",
        "\n",
        "bulge.centre = disk.centre\n",
        "\n",
        "# Parameter Fixing: Fix the sersic_index of the bulge to a value of 4, reducing\n",
        "# the complexity of non-linear parameter space by N = 1\n",
        "\n",
        "bulge.sersic_index = 4.0\n",
        "\n",
        "# Parameter Offsets: Make the bulge effective_radius parameters the same value as\n",
        "# the disk but with an offset.\n",
        "\n",
        "bulge.effective_radius = disk.effective_radius + 0.1\n",
        "\n",
        "galaxy = af.Model(\n",
        "    ag.Galaxy,\n",
        "    redshift=0.5,\n",
        "    bulge=bulge,\n",
        "    disk=disk,\n",
        ")\n",
        "\n",
        "model = af.Collection(galaxies=af.Collection(galaxy=galaxy))\n",
        "\n",
        "# Assert that the effective radius of the bulge is larger than that of the disk.\n",
        "# (Assertions can only be added at the end of model composition, after all components\n",
        "# have been bright together in a `Collection`.\n",
        "model.add_assertion(\n",
        "    model.galaxies.galaxy.bulge.effective_radius\n",
        "    > model.galaxies.galaxy.disk.effective_radius\n",
        ")\n",
        "\n",
        "# Assert that the bulge effetive radius is below 3.0\":\n",
        "model.add_assertion(model.galaxies.galaxy.bulge.effective_radius < 3.0)\n",
        "\n",
        "print(model.info)"
      ],
      "outputs": [],
      "execution_count": null
    },
    {
      "cell_type": "markdown",
      "metadata": {},
      "source": [
        "__Available Model Components__\n",
        "\n",
        "The light profiles, mass profiles and other components that can be used for galaxy modeling are given at the following\n",
        "API documentation pages:\n",
        "\n",
        " - https://pyautogalaxy.readthedocs.io/en/latest/api/light.html\n",
        " - https://pyautogalaxy.readthedocs.io/en/latest/api/mass.html\n",
        " - https://pyautogalaxy.readthedocs.io/en/latest/api/pixelization.html\n",
        " \n",
        " __JSon Outputs__\n",
        " \n",
        " After a model is composed, it can easily be output to a .json file on hard-disk in a readable structure:"
      ]
    },
    {
      "cell_type": "code",
      "metadata": {},
      "source": [
        "import os\n",
        "import json\n",
        "\n",
        "model_path = Path(\"path\", \"to\", \"model\", \"json\")\n",
        "\n",
        "os.makedirs(model_path, exist_ok=True)\n",
        "\n",
        "model_file = Path(model_path, \"model.json\")\n",
        "\n",
        "with open(model_file, \"w+\") as f:\n",
        "    json.dump(model.dict(), f, indent=4)"
      ],
      "outputs": [],
      "execution_count": null
    },
    {
      "cell_type": "markdown",
      "metadata": {},
      "source": [
        "We can load the model from its `.json` file."
      ]
    },
    {
      "cell_type": "code",
      "metadata": {},
      "source": [
        "model = af.Model.from_json(file=model_file)\n",
        "\n",
        "print(model.info)"
      ],
      "outputs": [],
      "execution_count": null
    },
    {
      "cell_type": "markdown",
      "metadata": {},
      "source": [
        "This means in **PyAutoGalaxy** one can write a model in a script, save it to hard disk and load it elsewhere, as well\n",
        "as manually customize it in the .json file directory.\n",
        "\n",
        "__Many Profile Models (Advanced)__\n",
        "\n",
        "Features such as the Multi Gaussian Expansion (MGE) and shapelets compose models consisting of 50 - 500+ light\n",
        "profiles.\n",
        "\n",
        "The following example notebooks show how to compose and fit these models:\n",
        "\n",
        "https://github.com/Jammy2211/autogalaxy_workspace/blob/release/notebooks/modeling/imaging/features/multi_gaussian_expansion.ipynb\n",
        "https://github.com/Jammy2211/autogalaxy_workspace/blob/release/notebooks/modeling/imaging/features/shapelets.ipynb\n",
        "\n",
        "__Model Linking (Advanced)__\n",
        "\n",
        "When performing non-linear search chaining, the inferred model of one phase can be linked to the model.\n",
        "\n",
        "The following example notebooks show how to compose and fit these models:\n",
        "\n",
        "https://github.com/Jammy2211/autogalaxy_workspace/blob/release/notebooks/imaging/advanced/chaining/start_here.ipynb\n",
        "\n",
        "__Across Datasets (Advanced)__\n",
        "\n",
        "When fitting multiple datasets, model can be composed where the same model component are used across the datasets\n",
        "but certain parameters are free to vary across the datasets.\n",
        "\n",
        "The following example notebooks show how to compose and fit these models:\n",
        "\n",
        "https://github.com/Jammy2211/autogalaxy_workspace/blob/release/notebooks/multi/modeling/start_here.ipynb\n",
        "\n",
        "__Relations (Advanced)__\n",
        "\n",
        "We can compose models where the free parameter(s) vary according to a user-specified function \n",
        "(e.g. y = mx +c -> effective_radius = (m * wavelength) + c across the datasets.\n",
        "\n",
        "The following example notebooks show how to compose and fit these models:\n",
        "\n",
        "https://github.com/Jammy2211/autogalaxy_workspace/blob/release/notebooks/multi/modeling/features/wavelength_dependence.ipynb\n",
        "\n",
        "__PyAutoFit API__\n",
        "\n",
        "**PyAutoFit** is a general model composition library which offers even more ways to compose models not\n",
        "detailed in this cookbook.\n",
        "\n",
        "The **PyAutoFit** model composition cookbooks detail this API in more detail:\n",
        "\n",
        "https://pyautofit.readthedocs.io/en/latest/cookbooks/model.html\n",
        "https://pyautofit.readthedocs.io/en/latest/cookbooks/multi_level_model.html\n",
        "\n",
        "__Wrap Up__\n",
        "\n",
        "This cookbook shows how to compose simple models using the `af.Model()` and `af.Collection()` objects."
      ]
    },
    {
      "cell_type": "code",
      "metadata": {},
      "source": [],
      "outputs": [],
      "execution_count": null
    }
  ],
  "metadata": {
    "anaconda-cloud": {},
    "kernelspec": {
      "display_name": "Python 3",
      "language": "python",
      "name": "python3"
    },
    "language_info": {
      "codemirror_mode": {
        "name": "ipython",
        "version": 3
      },
      "file_extension": ".py",
      "mimetype": "text/x-python",
      "name": "python",
      "nbconvert_exporter": "python",
      "pygments_lexer": "ipython3",
      "version": "3.6.1"
    }
  },
  "nbformat": 4,
  "nbformat_minor": 4
}