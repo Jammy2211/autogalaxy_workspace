{
  "cells": [
    {
      "cell_type": "markdown",
      "metadata": {},
      "source": [
        "Settings: Over Sampling\n",
        "=======================\n",
        "\n",
        "Over sampling is a numerical technique where the images of light profiles and galaxies are evaluated\n",
        "on a higher resolution grid than the image data to ensure the calculation is accurate.\n",
        "\n",
        "f the light profile has a very steep gradient in intensity from one edge of the pixel to the other, like a Sersic\n",
        "profile does towards its centre, over sampling is necessary to evaluate to total emission observed in that pixel\n",
        "correctly.\n",
        "\n",
        "This example demonstrates how to change the over sampling used to compute the surface brightness of every image-pixel,\n",
        "whereby a higher sub-grid resolution better oversamples the image of the light profile so as to provide a more accurate\n",
        "model of its image.\n",
        "\n",
        "**Benefit**: Higher level of over sampling provide a more accurate estimate of the surface brightness in every image-pixel.\n",
        "**Downside**: Higher levels of over sampling require longer calculations and higher memory usage.\n",
        "\n",
        "Over sampling is applied separately to the light profiles which compute the surface brightness of the lens galaxy,\n",
        "which are on a `uniform` grid, and the light profiles which compute the surface brightness of the source galaxy,\n",
        "which are on a `non-uniform` grid.\n",
        "\n",
        "__Prequisites__\n",
        "\n",
        "You should read up on over-sampling in more detail via  the `autogalaxy_workspace/*/guides/over_sampling.ipynb`\n",
        "notebook before using this example to customize the over sampling of your model-fits.\n",
        "\n",
        "__Start Here Notebook__\n",
        "\n",
        "If any code in this script is unclear, refer to the `modeling/start_here.ipynb` notebook."
      ]
    },
    {
      "cell_type": "code",
      "metadata": {},
      "source": [
        "\n",
        "%matplotlib inline\n",
        "from pyprojroot import here\n",
        "workspace_path = str(here())\n",
        "%cd $workspace_path\n",
        "print(f\"Working Directory has been set to `{workspace_path}`\")\n",
        "\n",
        "from os import path\n",
        "import autofit as af\n",
        "import autogalaxy as ag\n",
        "import autogalaxy.plot as aplt"
      ],
      "outputs": [],
      "execution_count": null
    },
    {
      "cell_type": "markdown",
      "metadata": {},
      "source": [
        "__Dataset__ \n",
        "\n",
        "We load the example dataset which will be used for customizing over sampling."
      ]
    },
    {
      "cell_type": "code",
      "metadata": {},
      "source": [
        "dataset_name = \"simple__sersic\"\n",
        "dataset_path = path.join(\"dataset\", \"imaging\", dataset_name)\n",
        "\n",
        "dataset = ag.Imaging.from_fits(\n",
        "    data_path=path.join(dataset_path, \"data.fits\"),\n",
        "    psf_path=path.join(dataset_path, \"psf.fits\"),\n",
        "    noise_map_path=path.join(dataset_path, \"noise_map.fits\"),\n",
        "    pixel_scales=0.1,\n",
        ")"
      ],
      "outputs": [],
      "execution_count": null
    },
    {
      "cell_type": "markdown",
      "metadata": {},
      "source": [
        "__Mask__\n",
        "\n",
        "Define a 3.0\" circular mask, which includes the emission of the galaxy."
      ]
    },
    {
      "cell_type": "code",
      "metadata": {},
      "source": [
        "mask = ag.Mask2D.circular(\n",
        "    shape_native=dataset.shape_native, pixel_scales=dataset.pixel_scales, radius=3.0\n",
        ")\n",
        "\n",
        "dataset = dataset.apply_mask(mask=mask)"
      ],
      "outputs": [],
      "execution_count": null
    },
    {
      "cell_type": "markdown",
      "metadata": {},
      "source": [
        "__Over Sampling Uniform__\n",
        "\n",
        "The over sampling used to fit the data is customized using the `apply_over_sampling` method, which you may have\n",
        "seen in example `modeling` scripts.\n",
        "\n",
        "To apply uniform over sampling of degree 4x4, we simply input the integer 4.\n",
        "\n",
        "This is applied to the input called `over_sample_size_lp`, to indicate that it is the grid used to evaluate the \n",
        "emission of light profiles for which this over sampling scheme is applied."
      ]
    },
    {
      "cell_type": "code",
      "metadata": {},
      "source": [
        "dataset = dataset.apply_over_sampling(over_sample_size_lp=4)"
      ],
      "outputs": [],
      "execution_count": null
    },
    {
      "cell_type": "markdown",
      "metadata": {},
      "source": [
        "__Over Sampling Adaptive__\n",
        "\n",
        "Above, the `over_sample_size` input has been an integer, however it can also be an `ndarray` of values corresponding\n",
        "to each pixel. \n",
        "\n",
        "Below, we create an `ndarray` of values which are high in the centre, but reduce to 2 at the outskirts, therefore \n",
        "providing high levels of over sampling where we need it whilst using lower values which are computationally fast to \n",
        "evaluate at the outskirts.\n",
        "\n",
        "Specifically, we define a 24 x 24 sub-grid within the central 0.3\" of pixels, uses a 8 x 8 grid between\n",
        "0.3\" and 0.6\" and a 2 x 2 grid beyond that. "
      ]
    },
    {
      "cell_type": "code",
      "metadata": {},
      "source": [
        "over_sample_size = ag.util.over_sample.over_sample_size_via_radial_bins_from(\n",
        "    grid=dataset.grid,\n",
        "    sub_size_list=[24, 8, 2],\n",
        "    radial_list=[0.3, 0.6],\n",
        "    centre_list=[(0.0, 0.0)],\n",
        ")\n",
        "\n",
        "dataset = dataset.apply_over_sampling(over_sample_size_lp=over_sample_size)"
      ],
      "outputs": [],
      "execution_count": null
    },
    {
      "cell_type": "markdown",
      "metadata": {},
      "source": [
        "__Model + Search + Analysis__ \n",
        "\n",
        "The code below performs the normal steps to set up a model-fit. We omit comments of this code as you should be \n",
        "familiar with it and it is not specific to this example!"
      ]
    },
    {
      "cell_type": "code",
      "metadata": {},
      "source": [
        "bulge = af.Model(ag.lp_linear.Sersic)\n",
        "disk = af.Model(ag.lp_linear.Exponential)\n",
        "bulge.centre = disk.centre\n",
        "\n",
        "galaxy = af.Model(ag.Galaxy, redshift=0.5, bulge=bulge, disk=disk)\n",
        "\n",
        "model = af.Collection(galaxies=af.Collection(galaxy=galaxy))\n",
        "\n",
        "search = af.Nautilus(\n",
        "    path_prefix=path.join(\"imaging\", \"settings\"),\n",
        "    name=\"over_sampling\",\n",
        "    unique_tag=dataset_name,\n",
        ")\n",
        "\n",
        "analysis = ag.AnalysisImaging(dataset=dataset)"
      ],
      "outputs": [],
      "execution_count": null
    },
    {
      "cell_type": "markdown",
      "metadata": {},
      "source": [
        "__Model-Fit__\n",
        "\n",
        "We can now begin the model-fit by passing the model and analysis object to the search, which performs a non-linear\n",
        "search to find which models fit the data with the highest likelihood.\n",
        "\n",
        "The `AnalysisImaging` uses adaptive over sampling to fit each light profile to the data."
      ]
    },
    {
      "cell_type": "code",
      "metadata": {},
      "source": [
        "result = search.fit(model=model, analysis=analysis)"
      ],
      "outputs": [],
      "execution_count": null
    },
    {
      "cell_type": "markdown",
      "metadata": {},
      "source": [
        "__Result__\n",
        "\n",
        "We can confirm that the `Result`'s grid used an over sampling iterate object."
      ]
    },
    {
      "cell_type": "code",
      "metadata": {},
      "source": [
        "print(result.grids.lp.over_sampled)\n",
        "\n",
        "fit_plotter = aplt.FitImagingPlotter(fit=result.max_log_likelihood_fit)\n",
        "fit_plotter.subplot_fit()"
      ],
      "outputs": [],
      "execution_count": null
    },
    {
      "cell_type": "markdown",
      "metadata": {},
      "source": [
        "Finish."
      ]
    },
    {
      "cell_type": "code",
      "metadata": {},
      "source": [],
      "outputs": [],
      "execution_count": null
    }
  ],
  "metadata": {
    "anaconda-cloud": {},
    "kernelspec": {
      "display_name": "Python 3",
      "language": "python",
      "name": "python3"
    },
    "language_info": {
      "codemirror_mode": {
        "name": "ipython",
        "version": 3
      },
      "file_extension": ".py",
      "mimetype": "text/x-python",
      "name": "python",
      "nbconvert_exporter": "python",
      "pygments_lexer": "ipython3",
      "version": "3.6.1"
    }
  },
  "nbformat": 4,
  "nbformat_minor": 4
}