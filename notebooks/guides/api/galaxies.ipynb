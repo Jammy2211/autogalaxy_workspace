{
  "cells": [
    {
      "cell_type": "markdown",
      "metadata": {},
      "source": [
        "Galaxies\n",
        "========\n",
        "\n",
        "This tutorial shows how to use galaxies, including visualizing and extracting their individual light profiles.\n",
        "\n",
        "__Plot Module__\n",
        "\n",
        "This example uses the plot module to plot the results, including `Plotter` objects that make\n",
        "the figures and `MatPlot` objects that wrap matplotlib to customize the figures.\n",
        "\n",
        "The visualization API is straightforward but is explained in the `autogalaxy_workspace/*/plot` package in full.\n",
        "This includes detailed guides on how to customize every aspect of the figures, which can easily be combined with the\n",
        "code outlined in this tutorial.\n",
        "\n",
        "__Units__\n",
        "\n",
        "In this example, all quantities are **PyAutoGalaxy**'s internal unit coordinates, with spatial coordinates in\n",
        "arc seconds, luminosities in electrons per second and mass quantities (e.g. convergence) are dimensionless.\n",
        "\n",
        "The guide `guides/units_and_cosmology.ipynb` illustrates how to convert these quantities to physical units like\n",
        "kiloparsecs, magnitudes and solar masses.\n",
        "\n",
        "__Data Structures__\n",
        "\n",
        "Quantities inspected in this example script use **PyAutoGalaxy** bespoke data structures for storing arrays, grids,\n",
        "vectors and other 1D and 2D quantities. These use the `slim` and `native` API to toggle between representing the\n",
        "data in 1D numpy arrays or high dimension numpy arrays.\n",
        "\n",
        "This tutorial will only use the `slim` properties which show results in 1D numpy arrays of\n",
        "shape [total_unmasked_pixels]. This is a slimmed-down representation of the data in 1D that contains only the\n",
        "unmasked data points\n",
        "\n",
        "These are documented fully in the `autogalaxy_workspace/*/guides/data_structures.ipynb` guide."
      ]
    },
    {
      "cell_type": "code",
      "metadata": {},
      "source": [
        "\n",
        "%matplotlib inline\n",
        "from pyprojroot import here\n",
        "workspace_path = str(here())\n",
        "%cd $workspace_path\n",
        "print(f\"Working Directory has been set to `{workspace_path}`\")\n",
        "\n",
        "from pathlib import Path\n",
        "import autofit as af\n",
        "import autogalaxy as ag\n",
        "import autogalaxy.plot as aplt\n"
      ],
      "outputs": [],
      "execution_count": null
    },
    {
      "cell_type": "markdown",
      "metadata": {},
      "source": [
        "__Grids__\n",
        "\n",
        "To describe the luminous emission of galaxies, **PyAutoGalaxy** uses `Grid2D` data structures, which are \n",
        "two-dimensional Cartesian grids of (y,x) coordinates. \n",
        "\n",
        "Below, we make and plot a uniform Cartesian grid:"
      ]
    },
    {
      "cell_type": "code",
      "metadata": {},
      "source": [
        "grid = ag.Grid2D.uniform(\n",
        "    shape_native=(100, 100),\n",
        "    pixel_scales=0.1,  # The pixel-scale describes the conversion from pixel units to arc-seconds.\n",
        ")\n",
        "\n",
        "grid_plotter = aplt.Grid2DPlotter(grid=grid)\n",
        "grid_plotter.figure_2d()"
      ],
      "outputs": [],
      "execution_count": null
    },
    {
      "cell_type": "markdown",
      "metadata": {},
      "source": [
        "__Light Profiles__\n",
        "\n",
        "We will use this `Grid2D`'s coordinates to evaluate the galaxy's morphology. We therefore need analytic \n",
        "functions representing a galaxy's light distribution(s). \n",
        "\n",
        "For this,  **PyAutoGalaxy** uses `LightProfile` objects, for example the `Sersic` `LightProfile` object which\n",
        "represents a light distribution:"
      ]
    },
    {
      "cell_type": "code",
      "metadata": {},
      "source": [
        "sersic_light_profile = ag.lp.Sersic(\n",
        "    centre=(0.0, 0.0),\n",
        "    ell_comps=(0.2, 0.1),\n",
        "    intensity=0.005,\n",
        "    effective_radius=2.0,\n",
        "    sersic_index=4.0,\n",
        ")"
      ],
      "outputs": [],
      "execution_count": null
    },
    {
      "cell_type": "markdown",
      "metadata": {},
      "source": [
        "By passing this profile a `Grid2D`, we evaluate the light at every (y,x) coordinate on the `Grid2D` and create an \n",
        "image of the `LightProfile`."
      ]
    },
    {
      "cell_type": "code",
      "metadata": {},
      "source": [
        "image = sersic_light_profile.image_2d_from(grid=grid)"
      ],
      "outputs": [],
      "execution_count": null
    },
    {
      "cell_type": "markdown",
      "metadata": {},
      "source": [
        "The PyAutoGalaxy plot module provides methods for plotting objects and their properties, like \n",
        "the `LightProfile`'s image."
      ]
    },
    {
      "cell_type": "code",
      "metadata": {},
      "source": [
        "light_profile_plotter = aplt.LightProfilePlotter(\n",
        "    light_profile=sersic_light_profile, grid=grid\n",
        ")\n",
        "light_profile_plotter.figures_2d(image=True)"
      ],
      "outputs": [],
      "execution_count": null
    },
    {
      "cell_type": "markdown",
      "metadata": {},
      "source": [
        "__Galaxies__\n",
        "\n",
        "A `Galaxy` object is a collection of `LightProfile` objects at a given redshift. \n",
        "\n",
        "The code below creates a galaxy which is made of two components, a bulge and disk."
      ]
    },
    {
      "cell_type": "code",
      "metadata": {},
      "source": [
        "bulge = ag.lp.Sersic(\n",
        "    centre=(0.0, 0.0),\n",
        "    ell_comps=ag.convert.ell_comps_from(axis_ratio=0.9, angle=45.0),\n",
        "    intensity=1.0,\n",
        "    effective_radius=0.6,\n",
        "    sersic_index=3.0,\n",
        ")\n",
        "\n",
        "disk = ag.lp.Exponential(\n",
        "    centre=(0.0, 0.0),\n",
        "    ell_comps=ag.convert.ell_comps_from(axis_ratio=0.7, angle=30.0),\n",
        "    intensity=0.5,\n",
        "    effective_radius=1.6,\n",
        ")\n",
        "\n",
        "galaxy = ag.Galaxy(redshift=0.5, bulge=bulge, disk=disk)"
      ],
      "outputs": [],
      "execution_count": null
    },
    {
      "cell_type": "markdown",
      "metadata": {},
      "source": [
        "We can create an image the galaxy by passing it the 2D grid above."
      ]
    },
    {
      "cell_type": "code",
      "metadata": {},
      "source": [
        "image = galaxy.image_2d_from(grid=grid)"
      ],
      "outputs": [],
      "execution_count": null
    },
    {
      "cell_type": "markdown",
      "metadata": {},
      "source": [
        "The **PyAutoGalaxy** plot module provides methods for plotting galaxies.\n",
        "\n",
        "Below, we plot its image, which is the sum of the bulge and disk components."
      ]
    },
    {
      "cell_type": "code",
      "metadata": {},
      "source": [
        "galaxy_plotter = aplt.GalaxyPlotter(galaxy=galaxy, grid=grid)\n",
        "galaxy_plotter.figures_2d(image=True)"
      ],
      "outputs": [],
      "execution_count": null
    },
    {
      "cell_type": "markdown",
      "metadata": {},
      "source": [
        "__Galaxies__\n",
        "\n",
        "If our observation contains multiple galaxies, we can create a `Galaxies` object to represent all galaxies.\n",
        "\n",
        "By passing `Galaxy` objects to a `Galaxies`, **PyAutoGalaxy** groups them to indicate they are at the same redshift."
      ]
    },
    {
      "cell_type": "code",
      "metadata": {},
      "source": [
        "galaxy_0 = ag.Galaxy(\n",
        "    redshift=0.5,\n",
        "    bulge=ag.lp.Sersic(\n",
        "        centre=(0.0, -1.0),\n",
        "        ell_comps=(0.25, 0.1),\n",
        "        intensity=0.1,\n",
        "        effective_radius=0.8,\n",
        "        sersic_index=2.5,\n",
        "    ),\n",
        ")\n",
        "\n",
        "galaxy_1 = ag.Galaxy(\n",
        "    redshift=0.5,\n",
        "    bulge=ag.lp.Sersic(\n",
        "        centre=(0.0, 1.0),\n",
        "        ell_comps=(0.0, 0.1),\n",
        "        intensity=0.1,\n",
        "        effective_radius=0.6,\n",
        "        sersic_index=3.0,\n",
        "    ),\n",
        ")\n",
        "\n",
        "galaxies = ag.Galaxies(galaxies=[galaxy_0, galaxy_1])"
      ],
      "outputs": [],
      "execution_count": null
    },
    {
      "cell_type": "markdown",
      "metadata": {},
      "source": [
        "The image of all galaxies summed can easily be computed from this object.\n",
        "\n",
        "**PyAutoGalaxy** plot tools allow us to plot this image or a subplot containing images of each individual galaxy."
      ]
    },
    {
      "cell_type": "code",
      "metadata": {},
      "source": [
        "image = galaxies.image_2d_from(grid=grid)\n",
        "\n",
        "galaxies_plotter = aplt.GalaxiesPlotter(galaxies=galaxies, grid=grid)\n",
        "galaxies_plotter.figures_2d(image=True)\n",
        "galaxies_plotter.subplot_galaxy_images()"
      ],
      "outputs": [],
      "execution_count": null
    },
    {
      "cell_type": "markdown",
      "metadata": {},
      "source": [
        "__Log10__\n",
        "\n",
        "The light distributions of galaxies are closer to a log10 distribution than a linear one. \n",
        "\n",
        "This means that when we plot an image of a light profile, its appearance is better highlighted when we take the\n",
        "logarithm of its values and plot it in log10 space.\n",
        "\n",
        "The `MatPlot2D` object has an input `use_log10`, which will do this automatically when we call the `figures_2d` method.\n",
        "Below, we can see that the image plotted now appears more clearly, with the outskirts of the light profile more visible."
      ]
    },
    {
      "cell_type": "code",
      "metadata": {},
      "source": [
        "galaxies_plotter = aplt.GalaxiesPlotter(\n",
        "    galaxies=galaxies,\n",
        "    grid=grid,\n",
        "    mat_plot_2d=aplt.MatPlot2D(use_log10=True),\n",
        ")\n",
        "galaxies_plotter.figures_2d(image=True)"
      ],
      "outputs": [],
      "execution_count": null
    },
    {
      "cell_type": "markdown",
      "metadata": {},
      "source": [
        "__Extending Objects__\n",
        "\n",
        "The PyAutoGalaxy API is designed such that all of the objects introduced above are extensible. `Galaxy` objects \n",
        "can take many `LightProfile`'s and `Galaxies`'s many `Galaxy`'s. \n",
        "\n",
        "To finish, lets create 2 merging galaxies, where the second galaxy has multiple star forming clumps."
      ]
    },
    {
      "cell_type": "code",
      "metadata": {},
      "source": [
        "galaxy_0 = ag.Galaxy(\n",
        "    redshift=0.5,\n",
        "    bulge=ag.lmp.Sersic(\n",
        "        centre=(0.0, 0.0),\n",
        "        ell_comps=(0.0, 0.05),\n",
        "        intensity=0.5,\n",
        "        effective_radius=0.3,\n",
        "        sersic_index=3.5,\n",
        "        mass_to_light_ratio=0.6,\n",
        "    ),\n",
        "    disk=ag.lmp.Exponential(\n",
        "        centre=(0.0, 0.0),\n",
        "        ell_comps=(0.0, 0.1),\n",
        "        intensity=1.0,\n",
        "        effective_radius=2.0,\n",
        "        mass_to_light_ratio=0.2,\n",
        "    ),\n",
        ")\n",
        "\n",
        "galaxy_1 = ag.Galaxy(\n",
        "    redshift=1.0,\n",
        "    bulge=ag.lp.Exponential(\n",
        "        centre=(0.00, 0.00),\n",
        "        ell_comps=(0.05, 0.05),\n",
        "        intensity=1.2,\n",
        "        effective_radius=0.1,\n",
        "    ),\n",
        "    extra_galaxy_0=ag.lp.Sersic(centre=(1.0, 1.0), intensity=0.5, effective_radius=0.2),\n",
        "    extra_galaxy_1=ag.lp.Sersic(centre=(0.5, 0.8), intensity=0.5, effective_radius=0.2),\n",
        "    extra_galaxy_2=ag.lp.Sersic(\n",
        "        centre=(-1.0, -0.7), intensity=0.5, effective_radius=0.2\n",
        "    ),\n",
        ")\n",
        "\n",
        "galaxies = ag.Galaxies(galaxies=[galaxy_0, galaxy_1])"
      ],
      "outputs": [],
      "execution_count": null
    },
    {
      "cell_type": "markdown",
      "metadata": {},
      "source": [
        "This is what the merging galaxies look like:"
      ]
    },
    {
      "cell_type": "code",
      "metadata": {},
      "source": [
        "galaxies_plotter = aplt.GalaxiesPlotter(galaxies=galaxies, grid=grid)\n",
        "galaxies_plotter.figures_2d(image=True)"
      ],
      "outputs": [],
      "execution_count": null
    },
    {
      "cell_type": "markdown",
      "metadata": {},
      "source": [
        "__Data Structures Slim / Native__\n",
        "\n",
        "The images above are returned as a 1D numpy array. \n",
        "\n",
        "**PyAutoLens** includes dedicated functionality for manipulating this array, for example mapping it to 2D or\n",
        "performing the calculation on a high resolution sub-grid which is then binned up. \n",
        "\n",
        "This uses the data structure API, which is described in the `guides/data_structures.py` example. This \n",
        "tutorial will avoid using this API, but if you need to manipulate results in more detail you should check it out."
      ]
    },
    {
      "cell_type": "code",
      "metadata": {},
      "source": [
        "print(image.slim)"
      ],
      "outputs": [],
      "execution_count": null
    },
    {
      "cell_type": "markdown",
      "metadata": {},
      "source": [
        "__Individual Galaxy Components__\n",
        "\n",
        "We are able to create an image of each galaxy as follows, which includes the emission of only one galaxy at a\n",
        "time."
      ]
    },
    {
      "cell_type": "code",
      "metadata": {},
      "source": [
        "image = galaxies[0].image_2d_from(grid=grid)\n",
        "image = galaxies[1].image_2d_from(grid=grid)"
      ],
      "outputs": [],
      "execution_count": null
    },
    {
      "cell_type": "markdown",
      "metadata": {},
      "source": [
        "In order to create images of each light profile (e.g. the `bulge`), we can extract each individual component from \n",
        "each galaxy.\n",
        "\n",
        "The list of galaxies is in order of how we specify them in the `collection` above."
      ]
    },
    {
      "cell_type": "code",
      "metadata": {},
      "source": [
        "bulge_0 = galaxies[0].bulge\n",
        "bulge_1 = galaxies[1].bulge"
      ],
      "outputs": [],
      "execution_count": null
    },
    {
      "cell_type": "markdown",
      "metadata": {},
      "source": [
        "You could easily extract the `disk`  of `galaxy_0`:\n",
        "\n",
        " disk_0 = galaxies[0].disk\n",
        "\n",
        "Finally, we can use the extracted bulge components to make images of the bulge."
      ]
    },
    {
      "cell_type": "code",
      "metadata": {},
      "source": [
        "bulge_0_image_2d = bulge_0.image_2d_from(grid=grid)\n",
        "bulge_1_image_2d = bulge_1.image_2d_from(grid=grid)\n",
        "\n",
        "print(bulge_0_image_2d.slim[0])\n",
        "print(bulge_1_image_2d.slim[0])"
      ],
      "outputs": [],
      "execution_count": null
    },
    {
      "cell_type": "markdown",
      "metadata": {},
      "source": [
        "It is more concise to extract these quantities in one line of Python:"
      ]
    },
    {
      "cell_type": "code",
      "metadata": {},
      "source": [
        "bulge_0_image_2d = galaxies[0].bulge.image_2d_from(grid=grid)"
      ],
      "outputs": [],
      "execution_count": null
    },
    {
      "cell_type": "markdown",
      "metadata": {},
      "source": [
        "The `LightProfilePlotter` makes it straight forward to extract and plot an individual light profile component."
      ]
    },
    {
      "cell_type": "code",
      "metadata": {},
      "source": [
        "bulge_plotter = aplt.LightProfilePlotter(light_profile=galaxies[0].bulge, grid=grid)\n",
        "bulge_plotter.figures_2d(image=True)"
      ],
      "outputs": [],
      "execution_count": null
    },
    {
      "cell_type": "markdown",
      "metadata": {},
      "source": [
        "__Galaxies__\n",
        "\n",
        "We extracted the `bulge` light profiles of each galaxy. \n",
        "\n",
        "We can just as easily extract each `Galaxy` and use it to perform the calculations above."
      ]
    },
    {
      "cell_type": "code",
      "metadata": {},
      "source": [
        "galaxy_0 = galaxies[0]\n",
        "\n",
        "galaxy_0_image_2d = galaxy_0.image_2d_from(grid=grid)"
      ],
      "outputs": [],
      "execution_count": null
    },
    {
      "cell_type": "markdown",
      "metadata": {},
      "source": [
        "We can also use the `GalaxyPlotter` to plot the galaxy, for example a subplot of each individual light profile \n",
        "image (which because this galxy is only a single bulge, is a single image)."
      ]
    },
    {
      "cell_type": "code",
      "metadata": {},
      "source": [
        "galaxy_plotter = aplt.GalaxyPlotter(galaxy=galaxy_0, grid=grid)\n",
        "galaxy_plotter.subplot_of_light_profiles(image=True)"
      ],
      "outputs": [],
      "execution_count": null
    },
    {
      "cell_type": "markdown",
      "metadata": {},
      "source": [
        "__Galaxies Composition__\n",
        "\n",
        "Lets quickly summarise what we've learnt by printing every object:"
      ]
    },
    {
      "cell_type": "code",
      "metadata": {},
      "source": [
        "print(galaxies)\n",
        "print(galaxies[0])\n",
        "print(galaxies[0])\n",
        "print(galaxies[0].bulge)\n",
        "print(galaxies[1].bulge)\n",
        "print()"
      ],
      "outputs": [],
      "execution_count": null
    },
    {
      "cell_type": "markdown",
      "metadata": {},
      "source": [
        "__One Dimensional Quantities__\n",
        "\n",
        "We have made two dimensional plots of galaxy images.\n",
        "\n",
        "We can also compute all these quantities in 1D, for inspection and visualization.\n",
        "\n",
        "For example, from a light profile or galaxy we can compute its `image_1d`, which provides us with its image values\n",
        "(e.g. luminosity) as a function of radius."
      ]
    },
    {
      "cell_type": "code",
      "metadata": {},
      "source": [
        "galaxy_0 = galaxies[0]\n",
        "image_1d = galaxy_0.image_1d_from(grid=grid)\n",
        "print(image_1d)\n",
        "\n",
        "galaxy_1 = galaxies[1]\n",
        "image_1d = galaxy_1.image_1d_from(grid=grid)\n",
        "print(image_1d)"
      ],
      "outputs": [],
      "execution_count": null
    },
    {
      "cell_type": "markdown",
      "metadata": {},
      "source": [
        "How are these 1D quantities from an input 2D grid? \n",
        "\n",
        "From the 2D grid a 1D grid is compute where:\n",
        "\n",
        " - The 1D grid of (x,) coordinates are centred on the galaxy or light profile and aligned with the major-axis. \n",
        " - The 1D grid extends from this centre to the edge of the 2D grid.\n",
        " - The pixel-scale of the 2D grid defines the radial steps between each coordinate.\n",
        "\n",
        "If we input a larger 2D grid, with a smaller pixel scale, the 1D plot adjusts accordingly."
      ]
    },
    {
      "cell_type": "code",
      "metadata": {},
      "source": [
        "grid = ag.Grid2D.uniform(shape_native=(100, 100), pixel_scales=0.04)\n",
        "image_1d = galaxy_0.image_1d_from(grid=grid)\n",
        "print(image_1d.shape)\n",
        "print(image_1d)\n",
        "\n",
        "grid = ag.Grid2D.uniform(shape_native=(200, 200), pixel_scales=0.02)\n",
        "image_1d = galaxy_0.image_1d_from(grid=grid)\n",
        "print(image_1d.shape)\n",
        "print(image_1d)"
      ],
      "outputs": [],
      "execution_count": null
    },
    {
      "cell_type": "markdown",
      "metadata": {},
      "source": [
        "We can alternatively input a `Grid1D` where we define the (x,) coordinates we wish to evaluate the function on."
      ]
    },
    {
      "cell_type": "code",
      "metadata": {},
      "source": [
        "grid_1d = ag.Grid1D.uniform_from_zero(shape_native=(10000,), pixel_scales=0.01)\n",
        "\n",
        "galaxy_plotter = aplt.GalaxyPlotter(galaxy=galaxy_0, grid=grid)\n",
        "\n",
        "galaxy_plotter.figures_1d(image=True)"
      ],
      "outputs": [],
      "execution_count": null
    },
    {
      "cell_type": "markdown",
      "metadata": {},
      "source": [
        "__Decomposed 1D Plot__\n",
        "\n",
        "We can make a plot containing every individual light profile of a galaxy in 1D, for example showing a  \n",
        "decomposition of its `bulge` and `disk`.\n",
        "\n",
        "Every profile on a decomposed plot is computed using a radial grid centred on its profile centre and aligned with\n",
        "its major-axis. Therefore 2D offsets between the components are not portray in such a figure."
      ]
    },
    {
      "cell_type": "code",
      "metadata": {},
      "source": [
        "galaxy_plotter = aplt.GalaxyPlotter(galaxy=galaxy_0, grid=grid)\n",
        "galaxy_plotter.figures_1d_decomposed(image=True)\n"
      ],
      "outputs": [],
      "execution_count": null
    },
    {
      "cell_type": "markdown",
      "metadata": {},
      "source": [
        "__Modeling Results__\n",
        "\n",
        "Modeling uses a non-linear search to fit a model of galaxies to a dataset.\n",
        "\n",
        "It is illustrated in the `modeling` packages of `autogalaxy_workspace`.\n",
        "\n",
        "Modeling results have some specific functionality and use cases, which are described in the `results` packages of\n",
        "`autogalaxy_workspace`,  in particular the `galaxies_fit.py` example script which describes: \n",
        "\n",
        " - `Max Likelihood`: Extract and plot the galaxy models which maximize the likelihood of the fit.\n",
        " - `Samples`, Extract the samples of the non-linear search and inspect specific parameter values.\n",
        " - `Errors`: Makes plots that quantify the errors on the inferred galaxy properties.\n",
        " - `Refitting` Refit specific models from the modeling process to the dataset. \n",
        "\n",
        "__Wrap Up__\n",
        "\n",
        "This tutorial explained how to compute the results of an inferred model from a galaxies. \n",
        "\n",
        "We have learnt how to extract individual galaxies and light profiles from the results of \n",
        "a model-fit and use these objects to compute specific quantities of each component."
      ]
    },
    {
      "cell_type": "code",
      "metadata": {},
      "source": [],
      "outputs": [],
      "execution_count": null
    }
  ],
  "metadata": {
    "anaconda-cloud": {},
    "kernelspec": {
      "display_name": "Python 3",
      "language": "python",
      "name": "python3"
    },
    "language_info": {
      "codemirror_mode": {
        "name": "ipython",
        "version": 3
      },
      "file_extension": ".py",
      "mimetype": "text/x-python",
      "name": "python",
      "nbconvert_exporter": "python",
      "pygments_lexer": "ipython3",
      "version": "3.6.1"
    }
  },
  "nbformat": 4,
  "nbformat_minor": 4
}