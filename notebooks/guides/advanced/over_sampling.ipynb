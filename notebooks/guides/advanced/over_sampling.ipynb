{
  "cells": [
    {
      "cell_type": "markdown",
      "metadata": {},
      "source": [
        "Over Sampling\n",
        "=============\n",
        "\n",
        "Throughout the workspace, we have created 2D grids of (y,x) coordinates and input them into light profiles to\n",
        "compute their image.\n",
        "\n",
        "This calculates how much of the light profile's emission is observed with every 2D pixel defined on the grid.\n",
        "\n",
        "However, there is a problem. If we only input the (y,x) coordinates at the centre of every pixel, we are not\n",
        "evaluating how the entire light profile is observed within that pixel. If the light profile has a very steep gradient\n",
        "in intensity from one edge of the pixel to the other, only evaluating the intensity at the centre of the pixel will\n",
        "not give an accurate estimate of the total amount of light that falls within that pixel.\n",
        "\n",
        "Over-sampling addresses this problem. Instead of evaluating the light profile at the centre of every pixel, we\n",
        "evaluate it using a sub-grid of coordinates within every pixel and take the average of the intensity values.\n",
        "Provided the sub-grid is high enough resolution that it \"over-samples\" the light profile within the pixel enough, this\n",
        "will give an accurate estimate of the total intensity within the pixel.\n",
        "\n",
        "__Default Over-Sampling__\n",
        "\n",
        "Examples throughout the workspace use a default over-sampling set up that should ensure accurate results for any\n",
        "analysis you have done.\n",
        "\n",
        "- When evaluating the image of a galaxy, an adaptive over sampling grid is used which uses sub grids of size 8 x 8\n",
        "in the central regions of the image, 4x4 further out and 1x1 beyond that.\n",
        "\n",
        "This guide will explain why these choices were made for the default over-sampling behaviour.\n",
        "\n",
        "__Plot Module__\n",
        "\n",
        "This example uses the plot module to plot the results, including `Plotter` objects that make\n",
        "the figures and `MatPlot` objects that wrap matplotlib to customize the figures.\n",
        "\n",
        "The visualization API is straightforward but is explained in the `autogalaxy_workspace/*/plot` package in full.\n",
        "This includes detailed guides on how to customize every aspect of the figures, which can easily be combined with the\n",
        "code outlined in this tutoriag."
      ]
    },
    {
      "cell_type": "code",
      "metadata": {},
      "source": [
        "\n",
        "%matplotlib inline\n",
        "from pyprojroot import here\n",
        "workspace_path = str(here())\n",
        "%cd $workspace_path\n",
        "print(f\"Working Directory has been set to `{workspace_path}`\")\n",
        "\n",
        "from os import path\n",
        "import autogalaxy as ag\n",
        "import autogalaxy.plot as aplt"
      ],
      "outputs": [],
      "execution_count": null
    },
    {
      "cell_type": "markdown",
      "metadata": {},
      "source": [
        "__Illustration__\n",
        "\n",
        "To illustrate over sampling, lets first create a uniform grid which does not over sample the pixels, using \n",
        "the `over_sample_size` input.\n",
        "\n",
        "The input below uses `over_sample_size=1`, therefore each pixel is split into a sub-grid of \n",
        "size  `over_sample_size x over_sample_size` = `1 x 1`. This means the light profile is evaluated once at the centre of each pixel, \n",
        "which is equivalent to not over-sampling the grid at all.  "
      ]
    },
    {
      "cell_type": "code",
      "metadata": {},
      "source": [
        "grid_sub_1 = ag.Grid2D.uniform(\n",
        "    shape_native=(40, 40),\n",
        "    pixel_scales=0.1,\n",
        "    over_sample_size=1,\n",
        ")"
      ],
      "outputs": [],
      "execution_count": null
    },
    {
      "cell_type": "markdown",
      "metadata": {},
      "source": [
        "We now plot the grid, over laying a uniform grid of pixels to illustrate the area of each pixel within which we\n",
        "want light profile intensities to be computed."
      ]
    },
    {
      "cell_type": "code",
      "metadata": {},
      "source": [
        "mat_plot = aplt.MatPlot2D(title=aplt.Title(label=\"Grid Without Over-Sampling\"))\n",
        "\n",
        "grid_plotter = aplt.Grid2DPlotter(grid=grid_sub_1, mat_plot_2d=mat_plot)\n",
        "grid_plotter.figure_2d(plot_grid_lines=True)"
      ],
      "outputs": [],
      "execution_count": null
    },
    {
      "cell_type": "markdown",
      "metadata": {},
      "source": [
        "We now create and plot a uniform grid which does over-sample the pixels, by inputting `over_sample_size=2`."
      ]
    },
    {
      "cell_type": "code",
      "metadata": {},
      "source": [
        "grid_sub_2 = ag.Grid2D.uniform(\n",
        "    shape_native=(40, 40),\n",
        "    pixel_scales=0.1,\n",
        "    over_sample_size=2,\n",
        ")"
      ],
      "outputs": [],
      "execution_count": null
    },
    {
      "cell_type": "markdown",
      "metadata": {},
      "source": [
        "If we print `grid_sub_2` and its shape, we will find it is actually identical to `grid_sub_1`, despite the change\n",
        "in `over_sample_size`:"
      ]
    },
    {
      "cell_type": "code",
      "metadata": {},
      "source": [
        "print(grid_sub_1)\n",
        "print(grid_sub_2)\n",
        "print(grid_sub_1.shape)\n",
        "print(grid_sub_2.shape)"
      ],
      "outputs": [],
      "execution_count": null
    },
    {
      "cell_type": "markdown",
      "metadata": {},
      "source": [
        "This is because the over sampled version of the grid is stored in a separate attribute, called `over_sampled`,\n",
        "which we print below.\n",
        "\n",
        "We see that for `grid_sub_1` and `grid_sub_2` the `over_sampled` grids are different, with the over sampled grid for\n",
        "`grid_sub_2` containing four times as many entries corresponding to each pixel being sub-gridded in a 2 x 2 shape."
      ]
    },
    {
      "cell_type": "code",
      "metadata": {},
      "source": [
        "print(grid_sub_1.over_sampled)\n",
        "print(grid_sub_2.over_sampled)\n",
        "print(grid_sub_1.over_sampled.shape)\n",
        "print(grid_sub_2.over_sampled.shape)"
      ],
      "outputs": [],
      "execution_count": null
    },
    {
      "cell_type": "markdown",
      "metadata": {},
      "source": [
        "We now plot the over sampled grid over the image, showing that each pixel is now split into a 2x2 sub-grid of \n",
        "coordinates. \n",
        "\n",
        "These are used to compute the intensity of the light profile and therefore more accurately estimate the total \n",
        "intensity within each pixel if there is a significant gradient in intensity within the pixel.\n",
        "\n",
        "In the code below, it is the input `plot_over_sampled_grid=True` which ensures we plot the over sampled grid."
      ]
    },
    {
      "cell_type": "code",
      "metadata": {},
      "source": [
        "mat_plot = aplt.MatPlot2D(title=aplt.Title(label=\"Grid With 2x2 Over-Sampling\"))\n",
        "\n",
        "grid_plotter = aplt.Grid2DPlotter(grid=grid_sub_2, mat_plot_2d=mat_plot)\n",
        "grid_plotter.figure_2d(plot_grid_lines=True, plot_over_sampled_grid=True)"
      ],
      "outputs": [],
      "execution_count": null
    },
    {
      "cell_type": "markdown",
      "metadata": {},
      "source": [
        "__Numerics__\n",
        "\n",
        "Lets quickly check how the sub-grid is defined and stored numerically.\n",
        "\n",
        "The first four pixels of this sub-grid correspond to the first four sub-pixels in the first pixel of the grid. \n",
        "\n",
        "The top-left pixel image above shows how the sub-pixels are spaced within the pixel. "
      ]
    },
    {
      "cell_type": "code",
      "metadata": {},
      "source": [
        "print(\"(y,x) pixel 0 of grid_sub_1:\")\n",
        "print(grid_sub_1.over_sampled[0])\n",
        "print(\"(y,x) pixel 0 of grid_sub_2:\")\n",
        "print(grid_sub_2.over_sampled[0])"
      ],
      "outputs": [],
      "execution_count": null
    },
    {
      "cell_type": "markdown",
      "metadata": {},
      "source": [
        "We now confirm that the first four sub-pixels of the over-sampled grid correspond are contained within the \n",
        "first pixel of the grid."
      ]
    },
    {
      "cell_type": "code",
      "metadata": {},
      "source": [
        "print(\"(y,x) pixel 0 (of original grid):\")\n",
        "print(grid_sub_2[0])\n",
        "print(\"(y,x) sub-pixel 0 (of pixel 0):\")\n",
        "print(grid_sub_2.over_sampled[0])\n",
        "print(\"(y,x) sub-pixel 1 (of pixel 0):\")\n",
        "print(grid_sub_2.over_sampled[1])\n",
        "print(\"(y,x) sub-pixel 2 (of pixel 0):\")\n",
        "print(grid_sub_2.over_sampled[2])\n",
        "print(\"(y,x) sub-pixel 3 (of pixel 0):\")\n",
        "print(grid_sub_2.over_sampled[3])"
      ],
      "outputs": [],
      "execution_count": null
    },
    {
      "cell_type": "markdown",
      "metadata": {},
      "source": [
        "Numerically, the over-sampled grid contains the sub-pixel coordinates of every pixel in the grid, going from the \n",
        "first top-left pixel right and downwards to the bottom-right pixel. \n",
        "\n",
        "So the pixel to the right of the first pixel is the next 4 sub-pixels in the over-sampled grid, and so on.\n",
        "\n",
        "__Images__\n",
        "\n",
        "We now use over-sampling to compute the image of a Sersic light profile, which has a steep intensity gradient\n",
        "at its centre which a lack of over-sampling does not accurately capture.\n",
        "\n",
        "We create the light profile, input the two grids (with `over_sample_size=1` and `over_sample_size=2`) and compute \n",
        "the image of the light profile using each grid. We then plot the residuals between the two images in order to show the \n",
        "difference between the two images and thus why over-sampling is important.\n",
        "\n",
        "Over sampling occurs automatically when a grid is input into a function like `image_2d_from`, therefore internally \n",
        "the line of code, `image_sub_2 = light.image_2d_from(grid=grid_sub_2)`, is evaluating the light profile using the\n",
        "2 x 2 oversampled grid and internally binning it up in to fully perform over sampling."
      ]
    },
    {
      "cell_type": "code",
      "metadata": {},
      "source": [
        "light = ag.lp.Sersic(\n",
        "    centre=(0.0, 0.0),\n",
        "    ell_comps=(0.0, 0.0),\n",
        "    intensity=1.0,\n",
        "    effective_radius=0.2,\n",
        "    sersic_index=3.0,\n",
        ")\n",
        "\n",
        "image_sub_1 = light.image_2d_from(grid=grid_sub_1)\n",
        "image_sub_2 = light.image_2d_from(grid=grid_sub_2)\n",
        "\n",
        "plotter = aplt.Array2DPlotter(\n",
        "    array=image_sub_1,\n",
        ")\n",
        "plotter.set_title(\"Image of Sersic Profile\")\n",
        "plotter.figure_2d()\n",
        "\n",
        "residual_map = image_sub_2 - image_sub_1\n",
        "\n",
        "plotter = aplt.Array2DPlotter(\n",
        "    array=residual_map,\n",
        ")\n",
        "plotter.set_title(\"Over-Sampling Residuals\")\n",
        "plotter.figure_2d()\n"
      ],
      "outputs": [],
      "execution_count": null
    },
    {
      "cell_type": "markdown",
      "metadata": {},
      "source": [
        "In the central 4 pixels of the image, the residuals are large due to the steep intensity gradient of the Sersic\n",
        "profile at its centre. \n",
        "\n",
        "The gradient in these pixels is so steep that evaluating the intensity at the centre of the pixel, without over \n",
        "sampling, does not accurately capture the total intensity within the pixel.\n",
        "\n",
        "At the edges of the image, the residuals are very small, as the intensity gradient of the Sersic profile is very \n",
        "shallow and it is an accurate approximation to evaluate the intensity at the centre of the pixel.\n",
        "\n",
        "The absolute value of the central residuals are 0.74, however it is difficult to assess whether this is a large or\n",
        "small value. We can quantify this by dividing by the evaluated value of the Sersic image in each pixel in order\n",
        "to compute the fractional residuals."
      ]
    },
    {
      "cell_type": "code",
      "metadata": {},
      "source": [
        "fractional_residual_map = residual_map / image_sub_2\n",
        "\n",
        "plotter = aplt.Array2DPlotter(\n",
        "    array=fractional_residual_map,\n",
        ")\n",
        "plotter.set_title(\"Fractional Residuals\")\n",
        "\n",
        "plotter.figure_2d()"
      ],
      "outputs": [],
      "execution_count": null
    },
    {
      "cell_type": "markdown",
      "metadata": {},
      "source": [
        "The fractional residuals in the centre exceed 0.1, or 10%, which is a significant error in the image and\n",
        "demonstrates why over-sampling is important.\n",
        "\n",
        "Lets confirm sub-griding can converge to central residuals that are very small.\n",
        "\n",
        "The fractional residuals with high levels of over-sampling are below 0.01, or 1%, which is sufficiently accurate\n",
        "for most scientific purposes (albeit you should think carefully about the level of over-sampling you need for\n",
        "your specific science case)."
      ]
    },
    {
      "cell_type": "code",
      "metadata": {},
      "source": [
        "grid_sub_16 = ag.Grid2D.uniform(\n",
        "    shape_native=(40, 40), pixel_scales=0.1, over_sample_size=16\n",
        ")\n",
        "grid_sub_32 = ag.Grid2D.uniform(\n",
        "    shape_native=(40, 40), pixel_scales=0.1, over_sample_size=32\n",
        ")\n",
        "\n",
        "image_sub_16 = light.image_2d_from(grid=grid_sub_16)\n",
        "image_sub_32 = light.image_2d_from(grid=grid_sub_32)\n",
        "\n",
        "residual_map = image_sub_32 - image_sub_16\n",
        "\n",
        "plotter = aplt.Array2DPlotter(\n",
        "    array=residual_map,\n",
        ")\n",
        "plotter.set_title(\"Over-Sampling Residuals (32 vs 16)\")\n",
        "plotter.figure_2d()\n",
        "\n",
        "fractional_residual_map = residual_map / image_sub_32\n",
        "\n",
        "plotter = aplt.Array2DPlotter(\n",
        "    array=fractional_residual_map,\n",
        ")\n",
        "plotter.set_title(\"Fractional Residuals (32 vs 16)\")\n",
        "plotter.figure_2d()"
      ],
      "outputs": [],
      "execution_count": null
    },
    {
      "cell_type": "markdown",
      "metadata": {},
      "source": [
        "__Adaptive Over Sampling__\n",
        "\n",
        "We have shown that over-sampling is important for accurate image evaluation. However, there is a major drawback to\n",
        "over-sampling, which is that it is computationally expensive. \n",
        "\n",
        "For example, for the 32x32 over-sampled grid above, 1024 sub-pixels are used in every pixel, which must all be \n",
        "evaluated using the Sersic light profile. The calculation of the image is therefore at least 1000 times slower than if\n",
        "we had not used over-sampling.\n",
        "\n",
        "Speeding up the calculation is crucial for model-fitting where the image is evaluated many times to fit the\n",
        "model to the data.\n",
        "\n",
        "Fortunately, there is a solution to this problem. We saw above that the residuals rapidly decrease away\n",
        "from the centre of the light profile. Therefore, we only need to over-sample the central regions of the image,\n",
        "where the intensity gradient is steep. We can use lower levels of over-sampling away from the centre, which\n",
        "will be fast to evaluate.\n",
        "\n",
        "Up to now, the `over_sample_size` input has been an integer, however it can also be an `ndarray` of values corresponding\n",
        "to each pixel. Below, we create an `ndarray` of values which are high in the centre, but reduce to 2 at the outskirts,\n",
        "therefore providing high levels of over sampling where we need it whilst using lower values which are computationally\n",
        "fast to evaluate at the outskirts.\n",
        "\n",
        "Specifically, we define a 24 x 24 sub-grid within the central 0.3\" of pixels, uses a 8 x 8 grid between\n",
        "0.3\" and 0.6\" and a 2 x 2 grid beyond that. "
      ]
    },
    {
      "cell_type": "code",
      "metadata": {},
      "source": [
        "over_sample_size = ag.util.over_sample.over_sample_size_via_radial_bins_from(\n",
        "    grid=grid_sub_1, sub_size_list=[24, 8, 2], radial_list=[0.3, 0.6]\n",
        ")\n",
        "\n",
        "grid_adaptive = ag.Grid2D.no_mask(\n",
        "    values=grid_sub_1.native,\n",
        "    pixel_scales=grid_sub_1.pixel_scales,\n",
        "    over_sample_size=over_sample_size,\n",
        ")\n",
        "\n",
        "mat_plot = aplt.MatPlot2D(title=aplt.Title(label=\"Adaptive Over-Sampling\"))\n",
        "\n",
        "grid_plotter = aplt.Grid2DPlotter(grid=grid_adaptive, mat_plot_2d=mat_plot)\n",
        "grid_plotter.figure_2d(plot_grid_lines=True, plot_over_sampled_grid=True)\n",
        "\n",
        "print(over_sample_size)\n"
      ],
      "outputs": [],
      "execution_count": null
    },
    {
      "cell_type": "markdown",
      "metadata": {},
      "source": [
        "Modeling uses masked grids, therefore the code below shows how we would create this adaptive over sample grid via \n",
        "a circular mask, which can be used for modeling.\n",
        "\n",
        "Throughout the modeling examples in the workspace, we use this adaptive grid to ensure that the image of the\n",
        "galaxy is evaluated accurately and efficiently."
      ]
    },
    {
      "cell_type": "code",
      "metadata": {},
      "source": [
        "mask = ag.Mask2D.circular(shape_native=(40, 40), pixel_scales=0.1, radius=5.0)\n",
        "\n",
        "grid = ag.Grid2D.from_mask(mask=mask)\n",
        "\n",
        "over_sample_size = ag.util.over_sample.over_sample_size_via_radial_bins_from(\n",
        "    grid=grid, sub_size_list=[24, 8, 2], radial_list=[0.3, 0.6]\n",
        ")\n",
        "\n",
        "grid_adaptive = ag.Grid2D(values=grid, mask=mask, over_sample_size=over_sample_size)\n",
        "\n",
        "mat_plot = aplt.MatPlot2D(title=aplt.Title(label=\"Adaptive Over-Sampling\"))\n",
        "\n",
        "grid_plotter = aplt.Grid2DPlotter(grid=grid_adaptive, mat_plot_2d=mat_plot)\n",
        "grid_plotter.figure_2d(plot_grid_lines=True, plot_over_sampled_grid=True)"
      ],
      "outputs": [],
      "execution_count": null
    },
    {
      "cell_type": "markdown",
      "metadata": {},
      "source": [
        "We can compare this adaptive grid to the grid with over sampling of 32 x 32 to confine it produces low amounts\n",
        "of residuals."
      ]
    },
    {
      "cell_type": "code",
      "metadata": {},
      "source": [
        "image_adaptive = light.image_2d_from(grid=grid_adaptive)\n",
        "image_sub_32 = light.image_2d_from(grid=grid_sub_32)\n",
        "\n",
        "residual_map = image_adaptive - image_sub_32\n",
        "\n",
        "fractional_residual_map = residual_map / image_sub_32\n",
        "\n",
        "plotter = aplt.Array2DPlotter(\n",
        "    array=fractional_residual_map,\n",
        ")\n",
        "\n",
        "plotter.set_title(\"Adaptive Fractional Residuals\")\n",
        "plotter.figure_2d()"
      ],
      "outputs": [],
      "execution_count": null
    },
    {
      "cell_type": "markdown",
      "metadata": {},
      "source": [
        "__Default Over-Sampling__\n",
        "\n",
        "The default over-sampling scheme used by the source code is 4 x 4 uniform over sampling over the whole image. \n",
        "\n",
        "A uniform scheme is used, instead of the adaptive scheme above, because the adaptive scheme requires input knowledge of \n",
        "where the centre of the galaxy is (e.g. above the centre is at (0.0\", 0.0\").\n",
        "\n",
        "Uniform over sampling is precise enough for many calculations, especially when you are simply performing quick \n",
        "calculations to investigate a problem. However, for detailed calculations you must ensure that high enough\n",
        "levels of over sampling are used.\n",
        "\n",
        "For modeling, all example scripts begin by switching to an adaptive over sampling scheme, as modeling assumes\n",
        "the centre of the galaxy is at (0.0\", 0.0\").\n",
        "\n",
        "__Multiple Galaxies__\n",
        "\n",
        "The analysis may contain multiple galaxies, each of which must be over-sampled accurately. \n",
        "\n",
        "There are two approaches you can take to over sampling multi-galaxy systems:\n",
        "\n",
        "1) Use a high level of uniform over sampling over the full image.\n",
        "\n",
        "2) Use an adaptive over sampling scheme with multiple centres of high over sampling levels, with the API shown below\n",
        "  for two galaxies with centres (1.0, 0.0) and (-1.0, 0.0)."
      ]
    },
    {
      "cell_type": "code",
      "metadata": {},
      "source": [
        "over_sample_size = ag.util.over_sample.over_sample_size_via_radial_bins_from(\n",
        "    grid=grid_sub_1,\n",
        "    sub_size_list=[24, 8, 2],\n",
        "    radial_list=[0.3, 0.6],\n",
        "    centre_list=[(1.0, 0.0), (-1.0, 0.0)],\n",
        ")"
      ],
      "outputs": [],
      "execution_count": null
    },
    {
      "cell_type": "markdown",
      "metadata": {},
      "source": [
        "__Dataset & Modeling__\n",
        "\n",
        "Throughout this guide, grid objects have been used to compute the image of light profiles and illustrate over sampling.\n",
        "\n",
        "If you are performing calculations with imaging data or want to fit a model to the data with a specific\n",
        "over-sampling level, the `apply_over_sampling` method is used to update the over sampling scheme of the dataset.\n",
        "\n",
        "The grid this is applied to is called `lp`, to indicate that it is the grid used to evaluate the emission of light\n",
        "profiles for which this over sampling scheme is applied."
      ]
    },
    {
      "cell_type": "code",
      "metadata": {},
      "source": [
        "dataset_name = \"simple__sersic\"\n",
        "dataset_path = path.join(\"dataset\", \"imaging\", dataset_name)\n",
        "\n",
        "dataset = ag.Imaging.from_fits(\n",
        "    data_path=path.join(dataset_path, \"data.fits\"),\n",
        "    psf_path=path.join(dataset_path, \"psf.fits\"),\n",
        "    noise_map_path=path.join(dataset_path, \"noise_map.fits\"),\n",
        "    pixel_scales=0.1,\n",
        ")\n",
        "\n",
        "over_sample_size = 4  # This could be an adaptive over sample grid.\n",
        "\n",
        "dataset = dataset.apply_over_sampling(\n",
        "    over_sample_size_lp=over_sample_size,\n",
        ")"
      ],
      "outputs": [],
      "execution_count": null
    },
    {
      "cell_type": "markdown",
      "metadata": {},
      "source": [
        "__Pixelization__\n",
        "\n",
        "Source galaxies can be reconstructed using pixelizations, which discretize the source's light onto a mesh,\n",
        "for example a Voronoi mesh.\n",
        "\n",
        "Over sampling is used by pixelizations in an analogous way to light profiles. By default, a 4 x 4 sub-grid is used,\n",
        "whereby every image pixel is ray-traced on its 4 x 4 sub grid to the source mesh and fractional mappings are computed.\n",
        "\n",
        "A different grid and over sampling scheme is applied to light profiles and pixelizations, which is why\n",
        "there are separate inputs called `lp` and `pix`.\n",
        "\n",
        "This is explained in more detail in the pixelization examples.\n",
        "\n",
        "Here is an example of how to change the over sampling applied to a pixelization for a lens model fit:"
      ]
    },
    {
      "cell_type": "code",
      "metadata": {},
      "source": [
        "dataset = dataset.apply_over_sampling(over_sample_size_pixelization=4)"
      ],
      "outputs": [],
      "execution_count": null
    },
    {
      "cell_type": "markdown",
      "metadata": {},
      "source": [
        "Finish."
      ]
    },
    {
      "cell_type": "code",
      "metadata": {},
      "source": [],
      "outputs": [],
      "execution_count": null
    }
  ],
  "metadata": {
    "anaconda-cloud": {},
    "kernelspec": {
      "display_name": "Python 3",
      "language": "python",
      "name": "python3"
    },
    "language_info": {
      "codemirror_mode": {
        "name": "ipython",
        "version": 3
      },
      "file_extension": ".py",
      "mimetype": "text/x-python",
      "name": "python",
      "nbconvert_exporter": "python",
      "pygments_lexer": "ipython3",
      "version": "3.6.1"
    }
  },
  "nbformat": 4,
  "nbformat_minor": 4
}