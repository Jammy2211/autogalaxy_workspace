{
  "cells": [
    {
      "cell_type": "markdown",
      "metadata": {},
      "source": [
        "Units and Cosmology\n",
        "===================\n",
        "\n",
        "This tutorial illustrates how to perform unit conversions from **PyAutoGalaxy**'s internal units (e.g. arc-seconds,\n",
        "electrons per second, dimensionless mass units) to physical units (e.g. kiloparsecs, magnitudes, solar masses).\n",
        "\n",
        "This is used on a variety of important cosmological quantities for example the effective radii of galaxies.\n",
        "\n",
        "__Errors__\n",
        "\n",
        "To produce errors on unit converted quantities, you`ll may need to perform marginalization over samples of these\n",
        "converted quantities (see `results/examples/samples.ipynb`)."
      ]
    },
    {
      "cell_type": "code",
      "metadata": {},
      "source": [
        "%matplotlib inline\n",
        "from pyprojroot import here\n",
        "workspace_path = str(here())\n",
        "%cd $workspace_path\n",
        "print(f\"Working Directory has been set to `{workspace_path}`\")\n",
        "\n",
        "import numpy as np\n",
        "\n",
        "import autogalaxy as ag\n",
        "import autogalaxy.plot as aplt\n"
      ],
      "outputs": [],
      "execution_count": null
    },
    {
      "cell_type": "markdown",
      "metadata": {},
      "source": [
        "__Galaxy__\n",
        "\n",
        "We set up a simple galaxy and grid which will illustrate the unit conversion functionality. "
      ]
    },
    {
      "cell_type": "code",
      "metadata": {},
      "source": [
        "grid = ag.Grid2D.uniform(shape_native=(100, 100), pixel_scales=0.05)\n",
        "\n",
        "galaxy = ag.Galaxy(\n",
        "    redshift=0.5,\n",
        "    bulge=ag.lp.Sersic(\n",
        "        centre=(0.0, 0.0),\n",
        "        intensity=1.0,\n",
        "        effective_radius=1.0,\n",
        "        sersic_index=4.0,\n",
        "    ),\n",
        ")"
      ],
      "outputs": [],
      "execution_count": null
    },
    {
      "cell_type": "markdown",
      "metadata": {},
      "source": [
        "__Arcsec to Kiloparsec__\n",
        "\n",
        "Distance quantities are in arcseconds natively, because this means that known redshifts are not required in order to \n",
        "perform certain calculations.\n",
        "\n",
        "By assuming redshifts for galaxies we can convert their quantities from arcseconds to kiloparsecs.\n",
        "\n",
        "Below, we compute the effective radii of the galaxy in kiloparsecs. To do this, we assume a cosmology (internally\n",
        "this uses the AstroPy Cosmology module) which allows us to compute the conversion factor `kpc_per_arcsec`."
      ]
    },
    {
      "cell_type": "code",
      "metadata": {},
      "source": [
        "cosmology = ag.cosmo.Planck15()\n",
        "\n",
        "kpc_per_arcsec = cosmology.kpc_per_arcsec_from(redshift=galaxy.redshift)\n",
        "effective_radius_kpc = galaxy.bulge.effective_radius * kpc_per_arcsec"
      ],
      "outputs": [],
      "execution_count": null
    },
    {
      "cell_type": "markdown",
      "metadata": {},
      "source": [
        "This `kpc_per_arcsec` can be used as a conversion factor between arcseconds and kiloparsecs when plotting images of\n",
        "galaxies.\n",
        "\n",
        "We compute this value and plot the image in converted units of kiloparsecs.\n",
        "\n",
        "This passes the plotting modules `Units` object a `ticks_convert_factor` and manually specified the new units of the\n",
        "plot ticks."
      ]
    },
    {
      "cell_type": "code",
      "metadata": {},
      "source": [
        "units = aplt.Units(ticks_convert_factor=kpc_per_arcsec, ticks_label=\" kpc\")\n",
        "\n",
        "mat_plot = aplt.MatPlot2D(units=units)\n",
        "\n",
        "galaxy_plotter = aplt.GalaxyPlotter(galaxy=galaxy, grid=grid, mat_plot_2d=mat_plot)\n",
        "galaxy_plotter.figures_2d(image=True)\n"
      ],
      "outputs": [],
      "execution_count": null
    },
    {
      "cell_type": "markdown",
      "metadata": {},
      "source": [
        "__Brightness Units / Luminosity__\n",
        "\n",
        "When plotting the image of a galaxy, each pixel value is plotted in electrons / second, which is the unit values\n",
        "displayed in the colorbar. \n",
        "\n",
        "A conversion factor between electrons per second and another unit can be input when plotting images of galaxies.\n",
        "\n",
        "Below, we pass the exposure time of the image, which converts the units of the image from `electrons / second` to\n",
        "electrons. "
      ]
    },
    {
      "cell_type": "code",
      "metadata": {},
      "source": [
        "exposure_time_seconds = 2000.0\n",
        "units = aplt.Units(\n",
        "    colorbar_convert_factor=exposure_time_seconds, colorbar_label=\" seconds\"\n",
        ")\n",
        "\n",
        "galaxy_plotter = aplt.GalaxyPlotter(galaxy=galaxy, grid=grid, mat_plot_2d=mat_plot)\n",
        "galaxy_plotter.figures_2d(image=True)"
      ],
      "outputs": [],
      "execution_count": null
    },
    {
      "cell_type": "markdown",
      "metadata": {},
      "source": [
        "The luminosity of a galaxy is the total amount of light it emits, which is computed by integrating the light profile.\n",
        "This integral is performed over the entire light profile, or within a specified radius.\n",
        "\n",
        "Lets compute the luminosity of the galaxy in the default internal **PyAutoGalaxy** units of `electrons / second`.\n",
        "Below, we compute the luminosity to infinite radius, which is the total luminosity of the galaxy, but one could\n",
        "easily compute the luminosity within a specified radius instead."
      ]
    },
    {
      "cell_type": "code",
      "metadata": {},
      "source": [
        "luminosity = galaxy.luminosity_within_circle_from(radius=np.inf)\n",
        "print(\"Luminosity (electrons / second) = \", luminosity)"
      ],
      "outputs": [],
      "execution_count": null
    },
    {
      "cell_type": "markdown",
      "metadata": {},
      "source": [
        "From a luminosity in `electrons / second`, we can convert it to other units, such as `Jansky` or `erg / second`. \n",
        "This can also be used to compute the magnitude of the galaxy, which is the apparent brightness of the galaxy in a\n",
        "given bandpass.\n",
        "\n",
        "This functionality is not currently implemented in **PyAutoGalaxy**, but would be fairly simple for you to do\n",
        "yourself (e.g. using the `astropy` package). If you want to contribute to **PyAutoGalaxy**, this would be a great\n",
        "first issue to tackle, so please get in touch on SLACK!"
      ]
    },
    {
      "cell_type": "code",
      "metadata": {},
      "source": [],
      "outputs": [],
      "execution_count": null
    }
  ],
  "metadata": {
    "anaconda-cloud": {},
    "kernelspec": {
      "display_name": "Python 3",
      "language": "python",
      "name": "python3"
    },
    "language_info": {
      "codemirror_mode": {
        "name": "ipython",
        "version": 3
      },
      "file_extension": ".py",
      "mimetype": "text/x-python",
      "name": "python",
      "nbconvert_exporter": "python",
      "pygments_lexer": "ipython3",
      "version": "3.6.1"
    }
  },
  "nbformat": 4,
  "nbformat_minor": 4
}