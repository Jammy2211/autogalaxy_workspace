{
  "cells": [
    {
      "cell_type": "markdown",
      "metadata": {},
      "source": [
        "Overview: Fit\n",
        "-------------\n",
        "\n",
        "**PyAutoGalaxy** uses `Plane` objects to represent multi-galaxy systems. \n",
        "\n",
        "We now use these objects to fit `Imaging` data of a galaxy.\n",
        "\n",
        "The `autogalaxy_workspace` comes distributed with simulated images of galaxies (an example of how these simulations\n",
        "are made can be found in the `simulate.py` example, with all simulator scripts located in `autogalaxy_workspac/simulators`."
      ]
    },
    {
      "cell_type": "code",
      "metadata": {},
      "source": [
        "%matplotlib inline\n",
        "from pyprojroot import here\n",
        "workspace_path = str(here())\n",
        "%cd $workspace_path\n",
        "print(f\"Working Directory has been set to `{workspace_path}`\")\n",
        "\n",
        "from os import path\n",
        "import autogalaxy as ag\n",
        "import autogalaxy.plot as aplt"
      ],
      "outputs": [],
      "execution_count": null
    },
    {
      "cell_type": "markdown",
      "metadata": {},
      "source": [
        "__Loading Data__\n",
        "\n",
        "We we begin by loading the galaxy dataset `simple__sersic` from .fits files, which is the dataset we will use to \n",
        "demonstrate fitting."
      ]
    },
    {
      "cell_type": "code",
      "metadata": {},
      "source": [
        "dataset_name = \"simple__sersic\"\n",
        "dataset_path = path.join(\"dataset\", \"imaging\", dataset_name)\n",
        "\n",
        "dataset = ag.Imaging.from_fits(\n",
        "    data_path=path.join(dataset_path, \"data.fits\"),\n",
        "    psf_path=path.join(dataset_path, \"psf.fits\"),\n",
        "    noise_map_path=path.join(dataset_path, \"noise_map.fits\"),\n",
        "    pixel_scales=0.1,\n",
        ")"
      ],
      "outputs": [],
      "execution_count": null
    },
    {
      "cell_type": "markdown",
      "metadata": {},
      "source": [
        "We can use the `ImagingPlotter` to plot the image, noise-map and psf of the dataset."
      ]
    },
    {
      "cell_type": "code",
      "metadata": {},
      "source": [
        "dataset_plotter = aplt.ImagingPlotter(dataset=dataset)\n",
        "dataset_plotter.figures_2d(data=True, noise_map=True, psf=True)"
      ],
      "outputs": [],
      "execution_count": null
    },
    {
      "cell_type": "markdown",
      "metadata": {},
      "source": [
        "The `ImagingPlotter` also contains a subplot which plots all these properties simultaneously."
      ]
    },
    {
      "cell_type": "code",
      "metadata": {},
      "source": [
        "dataset_plotter = aplt.ImagingPlotter(dataset=dataset)\n",
        "dataset_plotter.subplot_dataset()"
      ],
      "outputs": [],
      "execution_count": null
    },
    {
      "cell_type": "markdown",
      "metadata": {},
      "source": [
        "__Grid__\n",
        "\n",
        "The Grid2DIterate object. represents a grid of (y,x) coordinates like an ordinary Grid2D, but when the light-profile's \n",
        "image is evaluated for the fit the light profile intensity is oteratively increased (in steps of 2, 4, 8, 16, 24) \n",
        "until a fractional accuracy of 99.99% is met.\n",
        "\n",
        "This ensures that the divergent and bright central regions of the galaxy are fully resolved when determining the\n",
        "total flux emitted within a pixel."
      ]
    },
    {
      "cell_type": "code",
      "metadata": {},
      "source": [
        "dataset = dataset.apply_settings(\n",
        "    ag.SettingsImaging(\n",
        "        grid_class=ag.Grid2DIterate,\n",
        "        fractional_accuracy=0.9999,\n",
        "        sub_steps=[2, 4, 8, 16, 24],\n",
        "    )\n",
        ")"
      ],
      "outputs": [],
      "execution_count": null
    },
    {
      "cell_type": "markdown",
      "metadata": {},
      "source": [
        "__Mask__\n",
        "\n",
        "We next mask the data, so that regions where there is no signal (e.g. the edges) are omitted from the fit.\n",
        "\n",
        "To do this we can use a ``Mask2D`` object, which for this example we'll create as a 3.0\" circle."
      ]
    },
    {
      "cell_type": "code",
      "metadata": {},
      "source": [
        "mask = ag.Mask2D.circular(\n",
        "    shape_native=dataset.shape_native, pixel_scales=dataset.pixel_scales, radius=3.0\n",
        ")"
      ],
      "outputs": [],
      "execution_count": null
    },
    {
      "cell_type": "markdown",
      "metadata": {},
      "source": [
        "We now combine the imaging dataset with the mask.\n",
        " \n",
        "Here, the mask is also used to compute the `Grid2D` we used in the previous overview to compute the light profile \n",
        "emission, where this grid has the mask applied to it."
      ]
    },
    {
      "cell_type": "code",
      "metadata": {},
      "source": [
        "dataset = dataset.apply_mask(mask=mask)\n",
        "\n",
        "grid_plotter = aplt.Grid2DPlotter(grid=dataset.grid)\n",
        "grid_plotter.figure_2d()"
      ],
      "outputs": [],
      "execution_count": null
    },
    {
      "cell_type": "markdown",
      "metadata": {},
      "source": [
        "Here is what our image looks like with the mask applied, where PyAutoGalaxy has automatically zoomed around the mask\n",
        "to make the galaxyed source appear bigger."
      ]
    },
    {
      "cell_type": "code",
      "metadata": {},
      "source": [
        "dataset_plotter = aplt.ImagingPlotter(dataset=dataset)\n",
        "dataset_plotter.figures_2d(data=True)"
      ],
      "outputs": [],
      "execution_count": null
    },
    {
      "cell_type": "markdown",
      "metadata": {},
      "source": [
        "__Fitting__\n",
        "\n",
        "Following the previous overview, we can make a plane from a collection of `LightProfile` and `Galaxy`\n",
        "objects.\n",
        "\n",
        "The combination of `LightProfile`'s below is the same as those used to generate the simulated \n",
        "dataset we loaded above.\n",
        "\n",
        "It therefore produces a plane whose image looks exactly like the dataset. As discussed in the previous overview, this\n",
        "plane can be extended to include additional `LightProfile`'s`s and `Galaxy``s, for example if you wanted to fit data\n",
        "with multiple galaxies."
      ]
    },
    {
      "cell_type": "code",
      "metadata": {},
      "source": [
        "galaxy = ag.Galaxy(\n",
        "    redshift=0.5,\n",
        "    bulge=ag.lp.Sersic(\n",
        "        centre=(0.0, 0.0),\n",
        "        ell_comps=ag.convert.ell_comps_from(axis_ratio=0.9, angle=45.0),\n",
        "        intensity=1.0,\n",
        "        effective_radius=0.8,\n",
        "        sersic_index=4.0,\n",
        "    ),\n",
        ")\n",
        "\n",
        "plane = ag.Plane(galaxies=[galaxy])\n",
        "\n",
        "plane_plotter = aplt.PlanePlotter(plane=plane, grid=dataset.grid)\n",
        "plane_plotter.figures_2d(image=True)\n"
      ],
      "outputs": [],
      "execution_count": null
    },
    {
      "cell_type": "markdown",
      "metadata": {},
      "source": [
        "We now use the `FitImaging` object to fit this plane to the dataset. \n",
        "\n",
        "The fit performs the necessary tasks to create the `model_image` we fit the data with, such as blurring the plane`s \n",
        "image with the `Imaging` Point Spread Function (PSF). We can see this by comparing the plane`s image (which isn't PSF \n",
        "convolved) and the fit`s model image (which is).\n",
        "\n",
        "[For those not familiar with Astronomy data, the PSF describes how the observed emission of the galaxy is blurred by\n",
        "the telescope optics when it is observed. It mimicks this blurring effect via a 2D convolution operation]."
      ]
    },
    {
      "cell_type": "code",
      "metadata": {},
      "source": [
        "fit = ag.FitImaging(dataset=dataset, plane=plane)\n",
        "\n",
        "fit_plotter = aplt.FitImagingPlotter(fit=fit)\n",
        "fit_plotter.figures_2d(model_image=True)"
      ],
      "outputs": [],
      "execution_count": null
    },
    {
      "cell_type": "markdown",
      "metadata": {},
      "source": [
        "The fit creates the following:\n",
        "\n",
        " - The `residual_map`: The `model_image` subtracted from the observed dataset`s `image`.\n",
        " - The `normalized_residual_map`: The `residual_map `divided by the observed dataset's `noise_map`.\n",
        " - The `chi_squared_map`: The `normalized_residual_map` squared.\n",
        "\n",
        "we'll plot all 3 of these, alongside a subplot containing them all, which also shows the data,\n",
        "model image and individual galaxies in the fit.\n",
        "\n",
        "For a good model where the model image and plane are representative of the galaxy system the\n",
        "residuals, normalized residuals and chi-squared are minimized:"
      ]
    },
    {
      "cell_type": "code",
      "metadata": {},
      "source": [
        "fit_plotter.figures_2d(\n",
        "    residual_map=True, normalized_residual_map=True, chi_squared_map=True\n",
        ")\n",
        "fit_plotter.subplot_fit()"
      ],
      "outputs": [],
      "execution_count": null
    },
    {
      "cell_type": "markdown",
      "metadata": {},
      "source": [
        "The overall quality of the fit is quantified with the `log_likelihood` (the **HowToGalaxy** tutorials explains how\n",
        "this is computed)."
      ]
    },
    {
      "cell_type": "code",
      "metadata": {},
      "source": [
        "print(fit.log_likelihood)"
      ],
      "outputs": [],
      "execution_count": null
    },
    {
      "cell_type": "markdown",
      "metadata": {},
      "source": [
        "__Bad Fit__\n",
        "\n",
        "In contrast, a bad model will show features in the residual-map and chi-squared map.\n",
        "\n",
        "We can produce such an image by creating a plane with a different galaxy. In the example below, we \n",
        "change the centre of the galaxy from (0.0, 0.0) to (0.05, 0.05), which leads to residuals appearing\n",
        "in the centre of the fit."
      ]
    },
    {
      "cell_type": "code",
      "metadata": {},
      "source": [
        "galaxy = ag.Galaxy(\n",
        "    redshift=0.5,\n",
        "    bulge=ag.lp.Sersic(\n",
        "        centre=(0.05, 0.05),\n",
        "        ell_comps=ag.convert.ell_comps_from(axis_ratio=0.9, angle=45.0),\n",
        "        intensity=1.0,\n",
        "        effective_radius=0.8,\n",
        "        sersic_index=4.0,\n",
        "    ),\n",
        ")\n",
        "\n",
        "plane = ag.Plane(galaxies=[galaxy])\n",
        "\n",
        "fit_bad = ag.FitImaging(dataset=dataset, plane=plane)"
      ],
      "outputs": [],
      "execution_count": null
    },
    {
      "cell_type": "markdown",
      "metadata": {},
      "source": [
        "A new fit using this plane shows residuals, normalized residuals and chi-squared which are non-zero. "
      ]
    },
    {
      "cell_type": "code",
      "metadata": {},
      "source": [
        "fit_plotter = aplt.FitImagingPlotter(fit=fit_bad)\n",
        "\n",
        "fit_plotter.figures_2d(\n",
        "    residual_map=True, normalized_residual_map=True, chi_squared_map=True\n",
        ")\n",
        "fit_plotter.subplot_fit()"
      ],
      "outputs": [],
      "execution_count": null
    },
    {
      "cell_type": "markdown",
      "metadata": {},
      "source": [
        "We also note that its likelihood decreases."
      ]
    },
    {
      "cell_type": "code",
      "metadata": {},
      "source": [
        "print(fit.log_likelihood)"
      ],
      "outputs": [],
      "execution_count": null
    },
    {
      "cell_type": "markdown",
      "metadata": {},
      "source": [
        "__Wrap Up__\n",
        "\n",
        "A more detailed description of **PyAutoGalaxy**'s fitting methods are given in chapter 1 of the **HowToGalaxy** \n",
        "tutorials, which I strongly advise new users check out!"
      ]
    },
    {
      "cell_type": "code",
      "metadata": {},
      "source": [],
      "outputs": [],
      "execution_count": null
    }
  ],
  "metadata": {
    "anaconda-cloud": {},
    "kernelspec": {
      "display_name": "Python 3",
      "language": "python",
      "name": "python3"
    },
    "language_info": {
      "codemirror_mode": {
        "name": "ipython",
        "version": 3
      },
      "file_extension": ".py",
      "mimetype": "text/x-python",
      "name": "python",
      "nbconvert_exporter": "python",
      "pygments_lexer": "ipython3",
      "version": "3.6.1"
    }
  },
  "nbformat": 4,
  "nbformat_minor": 4
}