{
  "cells": [
    {
      "cell_type": "markdown",
      "metadata": {},
      "source": [
        "Overview: Multi-Wavelength\n",
        "--------------------------\n",
        "\n",
        "**PyAutoGalaxy** supports the analysis of multiple datasets simultaneously, including many CCD imaging datasets\n",
        "observed at different wavebands (e.g. red, blue, green) and combining imaging and interferometer datasets.\n",
        "\n",
        "This enables multi-wavelength galaxy modeling, where the color of the galaxies vary across the datasets.\n",
        "\n",
        "Multi-wavelength galaxy modeling offers a number of advantages:\n",
        "\n",
        "- It provides a wealth of additional information to fit the galaxy model, boosting the signal-to-noise of the\n",
        " observations.\n",
        "\n",
        "- Instrument systematic effects, for example an uncertain PSF, will impact the model less because they vary across\n",
        " each dataset.\n",
        "\n",
        "- It overcomes challenges associated with the deblending the emission of a galaxy with other galaxies in datasets where\n",
        " multiple galaxies near one another in the line-of-sight are observed."
      ]
    },
    {
      "cell_type": "code",
      "metadata": {},
      "source": [
        "%matplotlib inline\n",
        "from pyprojroot import here\n",
        "workspace_path = str(here())\n",
        "%cd $workspace_path\n",
        "print(f\"Working Directory has been set to `{workspace_path}`\")\n",
        "\n",
        "import autofit as af\n",
        "import autogalaxy as ag\n",
        "import autogalaxy.plot as aplt\n",
        "from os import path\n",
        "import numpy as np"
      ],
      "outputs": [],
      "execution_count": null
    },
    {
      "cell_type": "markdown",
      "metadata": {},
      "source": [
        "__Colors__\n",
        "\n",
        "For multi-wavelength imaging datasets, we begin by defining the colors of the multi-wavelength images. \n",
        "\n",
        "For this overview we use only two colors, green (g-band) and red (r-band), but extending this to more datasets\n",
        "is straight forward."
      ]
    },
    {
      "cell_type": "code",
      "metadata": {},
      "source": [
        "color_list = [\"g\", \"r\"]"
      ],
      "outputs": [],
      "execution_count": null
    },
    {
      "cell_type": "markdown",
      "metadata": {},
      "source": [
        "__Pixel Scales__\n",
        "\n",
        "Every dataset in our multi-wavelength observations can have its own unique pixel-scale."
      ]
    },
    {
      "cell_type": "code",
      "metadata": {},
      "source": [
        "pixel_scales_list = [0.08, 0.12]"
      ],
      "outputs": [],
      "execution_count": null
    },
    {
      "cell_type": "markdown",
      "metadata": {},
      "source": [
        "__Dataset__\n",
        "\n",
        "Multi-wavelength imaging datasets do not use any new objects or class in **PyAutoGalaxy**.\n",
        "\n",
        "We simply use lists of the classes we are now familiar with, for example the `Imaging` class."
      ]
    },
    {
      "cell_type": "code",
      "metadata": {},
      "source": [
        "dataset_type = \"multi\"\n",
        "dataset_label = \"imaging\"\n",
        "dataset_name = \"simple\"\n",
        "\n",
        "dataset_path = path.join(\"dataset\", dataset_type, dataset_label, dataset_name)\n",
        "\n",
        "dataset_list = [\n",
        "    ag.Imaging.from_fits(\n",
        "        data_path=path.join(dataset_path, f\"{color}_data.fits\"),\n",
        "        psf_path=path.join(dataset_path, f\"{color}_psf.fits\"),\n",
        "        noise_map_path=path.join(dataset_path, f\"{color}_noise_map.fits\"),\n",
        "        pixel_scales=pixel_scales,\n",
        "    )\n",
        "    for color, pixel_scales in zip(color_list, pixel_scales_list)\n",
        "]"
      ],
      "outputs": [],
      "execution_count": null
    },
    {
      "cell_type": "markdown",
      "metadata": {},
      "source": [
        "Here is what our r-band and g-band observations of this galaxy system looks like.\n",
        "\n",
        "Note how in the r-band the galaxy bulge is brighter than the disk, whereas in the g-band the disk is brighter. \n",
        "\n",
        "The different variation of the colors of the galaxy is a powerful tool for galaxy modeling as it provides a lot more\n",
        "information on the galaxy's morphology."
      ]
    },
    {
      "cell_type": "code",
      "metadata": {},
      "source": [
        "for dataset in dataset_list:\n",
        "    dataset_plotter = aplt.ImagingPlotter(dataset=dataset)\n",
        "    dataset_plotter.subplot_dataset()"
      ],
      "outputs": [],
      "execution_count": null
    },
    {
      "cell_type": "markdown",
      "metadata": {},
      "source": [
        "__Mask__\n",
        "\n",
        "The model-fit requires a `Mask2D` defining the regions of the image we fit the galaxy model to the data, which we \n",
        "define and use to set up the `Imaging` object that the galaxy model fits.\n",
        "\n",
        "For multi-wavelength galaxy modeling, we use the same mask for every dataset whenever possible. This is not absolutely \n",
        "necessary, but provides a more reliable analysis."
      ]
    },
    {
      "cell_type": "code",
      "metadata": {},
      "source": [
        "mask_list = [\n",
        "    ag.Mask2D.circular(\n",
        "        shape_native=dataset.shape_native, pixel_scales=dataset.pixel_scales, radius=3.0\n",
        "    )\n",
        "    for dataset in dataset_list\n",
        "]\n",
        "\n",
        "\n",
        "dataset_list = [\n",
        "    dataset.apply_mask(mask=mask) for imaging, mask in zip(dataset_list, mask_list)\n",
        "]\n",
        "\n",
        "for dataset in dataset_list:\n",
        "    dataset_plotter = aplt.ImagingPlotter(dataset=dataset)\n",
        "    dataset_plotter.subplot_dataset()"
      ],
      "outputs": [],
      "execution_count": null
    },
    {
      "cell_type": "markdown",
      "metadata": {},
      "source": [
        "__Analysis__\n",
        "\n",
        "We create a list of `AnalysisImaging` objects for every dataset."
      ]
    },
    {
      "cell_type": "code",
      "metadata": {},
      "source": [
        "analysis_list = [ag.AnalysisImaging(dataset=dataset) for dataset in dataset_list]"
      ],
      "outputs": [],
      "execution_count": null
    },
    {
      "cell_type": "markdown",
      "metadata": {},
      "source": [
        "We now introduce the key new aspect to the **PyAutoGalaxy** multi-dataset API, which is critical to fitting multiple \n",
        "datasets simultaneously.\n",
        "\n",
        "We sum the list of analysis objects to create an overall `CombinedAnalysis` object, which we can use to fit the \n",
        "multi-wavelength imaging data, where:\n",
        "\n",
        " - The log likelihood function of this summed analysis class is the sum of the log likelihood functions of each \n",
        " individual analysis objects (e.g. the fit to each separate waveband).\n",
        "\n",
        " - The summing process ensures that tasks such as outputting results to hard-disk, visualization, etc use a \n",
        " structure that separates each analysis and therefore each dataset."
      ]
    },
    {
      "cell_type": "code",
      "metadata": {},
      "source": [
        "analysis = sum(analysis_list)"
      ],
      "outputs": [],
      "execution_count": null
    },
    {
      "cell_type": "markdown",
      "metadata": {},
      "source": [
        "We can parallelize the likelihood function of these analysis classes, whereby each evaluation is performed on a \n",
        "different CPU."
      ]
    },
    {
      "cell_type": "code",
      "metadata": {},
      "source": [
        "analysis.n_cores = 1"
      ],
      "outputs": [],
      "execution_count": null
    },
    {
      "cell_type": "markdown",
      "metadata": {},
      "source": [
        "__Model__\n",
        "\n",
        "We compose an initial galaxy model as per usuag."
      ]
    },
    {
      "cell_type": "code",
      "metadata": {},
      "source": [
        "galaxy = af.Model(ag.Galaxy, redshift=0.5, bulge=ag.lp.Sersic, disk=ag.lp.Sersic)\n",
        "\n",
        "model = af.Collection(galaxies=af.Collection(galaxy=galaxy))"
      ],
      "outputs": [],
      "execution_count": null
    },
    {
      "cell_type": "markdown",
      "metadata": {},
      "source": [
        "However, there is a problem for multi-wavelength datasets. Should the light profiles of the galaxy's bulge and disk\n",
        "have the same parameters for each wavelength image?\n",
        "\n",
        "The answer is no. At different wavelengths, different stars appear brighter or fainter, meaning that the overall\n",
        "appearance of the bulge and disk will change. \n",
        "\n",
        "We therefore allow specific light profile parameters to vary across wavelength and act as additional free\n",
        "parameters in the fit to each image. \n",
        "\n",
        "We do this using the combined analysis object as follows:"
      ]
    },
    {
      "cell_type": "code",
      "metadata": {},
      "source": [
        "analysis = analysis.with_free_parameters(\n",
        "    model.galaxies.galaxy.bulge.intensity, model.galaxies.galaxy.disk.intensity\n",
        ")"
      ],
      "outputs": [],
      "execution_count": null
    },
    {
      "cell_type": "markdown",
      "metadata": {},
      "source": [
        "In this simple overview, this has added two additional free parameters to the model whereby:\n",
        "\n",
        " - The galaxy bulge's intensity is different in both multi-wavelength images.\n",
        " - The galaxy disk's intensity is different in both multi-wavelength images.\n",
        " \n",
        "It is entirely plausible that more parameters should be free to vary across wavelength (e.g. the bulge and disk \n",
        "`effective_radius` or `sersic_index` parameters). \n",
        "\n",
        "This choice ultimately depends on the quality of data being fitted and intended science goag. Regardless, it is clear\n",
        "how the above API can be extended to add any number of additional free parameters.\n",
        "\n",
        "__Search + Model Fit__\n",
        "\n",
        "Fitting the model uses the same API we introduced in previous overviews."
      ]
    },
    {
      "cell_type": "code",
      "metadata": {},
      "source": [
        "search = af.DynestyStatic(path_prefix=\"overview\", name=\"multiwavelength\")"
      ],
      "outputs": [],
      "execution_count": null
    },
    {
      "cell_type": "markdown",
      "metadata": {},
      "source": [
        "The result object returned by this model-fit is a list of `Result` objects, because we used a combined analysis.\n",
        "Each result corresponds to each analysis created above and is there the fit to each dataset at each wavelength."
      ]
    },
    {
      "cell_type": "code",
      "metadata": {},
      "source": [
        "result_list = search.fit(model=model, analysis=analysis)"
      ],
      "outputs": [],
      "execution_count": null
    },
    {
      "cell_type": "markdown",
      "metadata": {},
      "source": [
        "Plotting each result's galaxies shows that the bulge and disk appear different in each result, owning to their \n",
        "different intensities."
      ]
    },
    {
      "cell_type": "code",
      "metadata": {},
      "source": [
        "for result in result_list:\n",
        "    galaxy_plotter = aplt.GalaxyPlotter(\n",
        "        galaxy=result.max_log_likelihood_plane.galaxies[0], grid=result.grid\n",
        "    )\n",
        "    galaxy_plotter.subplot_of_light_profiles(image=True)\n"
      ],
      "outputs": [],
      "execution_count": null
    },
    {
      "cell_type": "markdown",
      "metadata": {},
      "source": [
        "__Wavelength Dependence__\n",
        "\n",
        "In the example above, a free `intensity` parameter is created for every multi-wavelength dataset. This would add 5+ \n",
        "free parameters to the model if we had 5+ datasets, quickly making a complex model parameterization.\n",
        "\n",
        "We can instead parameterize the intensity of the galaxy light profiles as a user defined function of \n",
        "wavelength, for example following a relation `y = (m * x) + c` -> `intensity = (m * wavelength) + c`.\n",
        "\n",
        "By using a linear relation `y = mx + c` the free parameters are `m` and `c`, which does not scale with the number\n",
        "of datasets. For datasets with multi-wavelength images (e.g. 5 or more) this allows us to parameterize the variation \n",
        "of parameters across the datasets in a way that does not lead to a very complex parameter space.\n",
        "\n",
        "Below, we show how one would do this for the `intensity` of a galaxy's bulge, give three wavelengths corresponding\n",
        "to a dataset observed in the g, r and I bands."
      ]
    },
    {
      "cell_type": "code",
      "metadata": {},
      "source": [
        "wavelength_list = [464, 658, 806]\n",
        "\n",
        "analysis_list = []\n",
        "\n",
        "bulge_m = af.UniformPrior(lower_limit=-0.1, upper_limit=0.1)\n",
        "bulge_c = af.UniformPrior(lower_limit=-10.0, upper_limit=10.0)\n",
        "\n",
        "for wavelength, imaging in zip(wavelength_list, dataset_list):\n",
        "    bulge_intensity = (wavelength * bulge_m) + bulge_c\n",
        "\n",
        "    analysis_list.append(\n",
        "        ag.AnalysisImaging(dataset=dataset).with_model(\n",
        "            model.replacing({model.galaxies.galaxy.bulge.intensity: bulge_intensity})\n",
        "        )\n",
        "    )"
      ],
      "outputs": [],
      "execution_count": null
    },
    {
      "cell_type": "markdown",
      "metadata": {},
      "source": [
        "__Same Wavelength Datasets__\n",
        "\n",
        "The above API can fit multiple datasets which are observed at the same wavelength.\n",
        "\n",
        "For example, this allows the analysis of images of a galaxy before they are combined to a single frame via the \n",
        "multidrizzling data reduction process to remove correlated noise in the data.\n",
        "\n",
        "The pointing of each observation, and therefore centering of each dataset, may vary in an unknown way. This\n",
        "can be folded into the model and fitted for as follows:\n",
        "\n",
        "TODO : ADD CODE EXAMPLE.\n",
        "\n",
        "__Interferometry and Imaging__\n",
        "\n",
        "The above API can combine modeling of imaging and interferometer datasets \n",
        "(see `autogalaxy_workspace/*/multi/modeling/imaging_and_interferometer.ipynb` for an example script showing \n",
        "this in full).\n",
        "\n",
        "Below are mock galaxy images of a system observed at a green wavelength (g-band) and with an interferometer at\n",
        "sub millimeter wavelengths. \n",
        "\n",
        "The galaxy appears completely different in the g-band and at sub-millimeter wavelengths, allowing us to contrast\n",
        "where a galaxy emits ultraviolet to where dust is heated."
      ]
    },
    {
      "cell_type": "code",
      "metadata": {},
      "source": [],
      "outputs": [],
      "execution_count": null
    }
  ],
  "metadata": {
    "anaconda-cloud": {},
    "kernelspec": {
      "display_name": "Python 3",
      "language": "python",
      "name": "python3"
    },
    "language_info": {
      "codemirror_mode": {
        "name": "ipython",
        "version": 3
      },
      "file_extension": ".py",
      "mimetype": "text/x-python",
      "name": "python",
      "nbconvert_exporter": "python",
      "pygments_lexer": "ipython3",
      "version": "3.6.1"
    }
  },
  "nbformat": 4,
  "nbformat_minor": 4
}