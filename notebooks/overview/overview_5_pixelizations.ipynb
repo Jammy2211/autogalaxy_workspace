{
  "cells": [
    {
      "cell_type": "markdown",
      "metadata": {},
      "source": [
        "Overview: Pixelizations\n",
        "-----------------------\n",
        "\n",
        "Pixelizations reconstruct a galaxy's light on a pixel-grid.\n",
        "\n",
        "Unlike `LightProfile`'s, they are able to reconstruct the light of non-symmetric and irregular galaxies.\n",
        "\n",
        "To reconstruct the galaxy using a `Pixelization`, we impose a prior on the smoothness of the reconstructed\n",
        "source, called the `Regularization`. The more we regularize the galaxy, the smoother the reconstruction.\n",
        "\n",
        "The process of reconstructing a `Galaxy`'s light using a `Pixelization`  is called an `Inversion`,\n",
        "and the term `inversion` is used throughout the **PyAutoGalaxy** example scripts to signify that their analysis\n",
        "reconstructs the galaxy's light on a pixel-grid."
      ]
    },
    {
      "cell_type": "code",
      "metadata": {},
      "source": [
        "%matplotlib inline\n",
        "from pyprojroot import here\n",
        "workspace_path = str(here())\n",
        "%cd $workspace_path\n",
        "print(f\"Working Directory has been set to `{workspace_path}`\")\n",
        "\n",
        "from os import path\n",
        "import autogalaxy as ag\n",
        "import autogalaxy.plot as aplt"
      ],
      "outputs": [],
      "execution_count": null
    },
    {
      "cell_type": "markdown",
      "metadata": {},
      "source": [
        "__Dataset__\n",
        "\n",
        "Load the `Imaging` data that we'll reconstruct the galaxy's light of using a pixelization.\n",
        "\n",
        "Note how complex the galaxyed source galaxy looks, with multiple clumps of light - this would be very difficult to \n",
        "represent using `LightProfile`'s!"
      ]
    },
    {
      "cell_type": "code",
      "metadata": {},
      "source": [
        "dataset_name = \"complex\"\n",
        "dataset_path = path.join(\"dataset\", \"imaging\", dataset_name)\n",
        "\n",
        "dataset = ag.Imaging.from_fits(\n",
        "    data_path=path.join(dataset_path, \"data.fits\"),\n",
        "    psf_path=path.join(dataset_path, \"psf.fits\"),\n",
        "    noise_map_path=path.join(dataset_path, \"noise_map.fits\"),\n",
        "    pixel_scales=0.1,\n",
        ")\n",
        "\n",
        "dataset_plotter = aplt.ImagingPlotter(dataset=dataset)\n",
        "dataset_plotter.subplot_dataset()"
      ],
      "outputs": [],
      "execution_count": null
    },
    {
      "cell_type": "markdown",
      "metadata": {},
      "source": [
        "__Mask__\n",
        "\n",
        "We are going to fit this data, so we must create `Mask2D` and `Imaging` objects."
      ]
    },
    {
      "cell_type": "code",
      "metadata": {},
      "source": [
        "mask = ag.Mask2D.circular(\n",
        "    shape_native=dataset.shape_native, pixel_scales=dataset.pixel_scales, radius=2.5\n",
        ")\n",
        "\n",
        "dataset = dataset.apply_mask(mask=mask)"
      ],
      "outputs": [],
      "execution_count": null
    },
    {
      "cell_type": "markdown",
      "metadata": {},
      "source": [
        "__Mesh + Regularization__\n",
        "\n",
        "To reconstruct the galaxy on a pixel-grid, called a mesh, we simply pass it the `Mesh` class we want to reconstruct its \n",
        "light on as well as the `Regularization` scheme describing how we smooth the source reconstruction. \n",
        "\n",
        "We use a `Rectangular` mesh with resolution 40 x 40 and a `Constant` regularizaton scheme with a regularization\n",
        "coefficient of 1.0. The higher this coefficient, the more our source reconstruction is smoothed."
      ]
    },
    {
      "cell_type": "code",
      "metadata": {},
      "source": [
        "pixelization = ag.Pixelization(\n",
        "    mesh=ag.mesh.Rectangular(shape=(50, 50)),\n",
        "    regularization=ag.reg.Constant(coefficient=1.0),\n",
        ")\n",
        "\n",
        "galaxy = ag.Galaxy(redshift=1.0, pixelization=pixelization)"
      ],
      "outputs": [],
      "execution_count": null
    },
    {
      "cell_type": "markdown",
      "metadata": {},
      "source": [
        "__Fit__\n",
        "\n",
        "Now that our galaxy has a `Pixelization`, we are able to fit the data using it in the same way as before, by simply \n",
        "passing the galaxy to a `Plane` and using this `Plane` to create a `FitImaging` object."
      ]
    },
    {
      "cell_type": "code",
      "metadata": {},
      "source": [
        "plane = ag.Plane(galaxies=[galaxy])\n",
        "\n",
        "fit = ag.FitImaging(dataset=dataset, plane=plane)"
      ],
      "outputs": [],
      "execution_count": null
    },
    {
      "cell_type": "markdown",
      "metadata": {},
      "source": [
        "__Pixelization__\n",
        "\n",
        "The fit has been performed using an `Inversion` for the galaxy.\n",
        "\n",
        "We can see that the `model_image` of the fit subplot shows a reconstruction of the observed galaxy that is close \n",
        "to the data."
      ]
    },
    {
      "cell_type": "code",
      "metadata": {},
      "source": [
        "fit_plotter = aplt.FitImagingPlotter(fit=fit)\n",
        "fit_plotter.figures_2d_of_galaxies(galaxy_index=0, model_image=True)"
      ],
      "outputs": [],
      "execution_count": null
    },
    {
      "cell_type": "markdown",
      "metadata": {},
      "source": [
        "__Positive Only Solver__\n",
        "\n",
        "All pixelized source reconstructions use a positive-only solver, meaning that every source-pixel is only allowed\n",
        "to reconstruct positive flux values. This ensures that the source reconstruction is physical and that we don't\n",
        "reconstruct negative flux values that don't exist in the real source galaxy (a common systematic solution in lens\n",
        "analysis).\n",
        "\n",
        "It may be surprising to hear that this is a feature worth pointing out, but it turns out setting up the linear algebra\n",
        "to enforce positive reconstructions is difficult to make efficient. A lot of development time went into making this\n",
        "possible, where a bespoke fast non-negative linear solver was developed to achieve this.\n",
        "\n",
        "Other methods in the literature often do not use a positive only solver, and therefore suffer from these \n",
        "unphysical solutions, which can degrade the results of lens model in general.\n",
        "\n",
        "__Why Use Pixelizations?__\n",
        "\n",
        "From the perspective of a scientific analysis, it may be unclear what the benefits of using an inversion to \n",
        "reconstruct a complex galaxy are.\n",
        "\n",
        "When I fit a galaxy with light profiles, I learn about its brightness (`intensity`), size (`effective_radius`), \n",
        "compactness (`sersic_index`), etc.\n",
        "\n",
        "What did I learn about the galaxy I reconstructed? Not a lot, perhaps.\n",
        "\n",
        "Inversions are most useful when combined with light profiles. For the complex galaxy above, we can fit it with light \n",
        "profiles to quantify the properties of its `bulge` and `disk` components, whilst simultaneously fitting the clumps \n",
        "with the inversion so as to ensure they do not impact the fit.\n",
        "\n",
        "The workspace contains examples of how to do this, as well as other uses for pixelizations.\n",
        "\n",
        "__Wrap Up__\n",
        "\n",
        "This script gives a brief overview of pixelizations. \n",
        "\n",
        "However, there is a lot more to using *Inversions* then presented here. \n",
        "\n",
        "In the `autogalaxy_workspace/*/modeling` folder you will find example scripts of how to fit a model to a \n",
        "galaxy using an `Inversion`. \n",
        "\n",
        "In chapter 4 of the **HowToGalaxy** lectures we fully cover all details of  *Inversions*, specifically:\n",
        "\n",
        " - How the inversion's reconstruction determines the flux-values of the galaxy it reconstructs.\n",
        " - The Bayesian framework employed to choose the appropriate level of `Regularization` and avoid overfitting noise.\n",
        " - Unphysical model solutions that often arise when using an `Inversion`."
      ]
    },
    {
      "cell_type": "code",
      "metadata": {},
      "source": [],
      "outputs": [],
      "execution_count": null
    }
  ],
  "metadata": {
    "anaconda-cloud": {},
    "kernelspec": {
      "display_name": "Python 3",
      "language": "python",
      "name": "python3"
    },
    "language_info": {
      "codemirror_mode": {
        "name": "ipython",
        "version": 3
      },
      "file_extension": ".py",
      "mimetype": "text/x-python",
      "name": "python",
      "nbconvert_exporter": "python",
      "pygments_lexer": "ipython3",
      "version": "3.6.1"
    }
  },
  "nbformat": 4,
  "nbformat_minor": 4
}