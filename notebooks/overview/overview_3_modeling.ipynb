{
  "cells": [
    {
      "cell_type": "markdown",
      "metadata": {},
      "source": [
        "Overview: Modeling\n",
        "------------------\n",
        "\n",
        "Modeling is the process of taking data of a galaxy (e.g. imaging data from the Hubble Space Telescope or interferometer\n",
        "data from ALMA) and fitting it with a model, to determine the `LightProfile`'s that best represent the observed galaxy.\n",
        "\n",
        "Modeling uses the probabilistic programming language\n",
        "`PyAutoFit <https://github.com/rhayes777/PyAutoFit>`_, an open-source Python framework that allows complex model\n",
        "fitting techniques to be straightforwardly integrated into scientific modeling software. Check it out if you\n",
        "are interested in developing your own software to perform advanced model-fitting!\n",
        "\n",
        "We import **PyAutoFit** separately to **PyAutoGalaxy**"
      ]
    },
    {
      "cell_type": "code",
      "metadata": {},
      "source": [
        "%matplotlib inline\n",
        "from pyprojroot import here\n",
        "workspace_path = str(here())\n",
        "%cd $workspace_path\n",
        "print(f\"Working Directory has been set to `{workspace_path}`\")\n",
        "\n",
        "import numpy as np\n",
        "from os import path\n",
        "\n",
        "import autogalaxy as ag\n",
        "import autogalaxy.plot as aplt\n",
        "\n",
        "import autofit as af"
      ],
      "outputs": [],
      "execution_count": null
    },
    {
      "cell_type": "markdown",
      "metadata": {},
      "source": [
        "__Dataset__\n",
        "\n",
        "In this example, we fit simulated imaging of a galaxy. \n",
        "\n",
        "First, lets load this imaging dataset and plot it."
      ]
    },
    {
      "cell_type": "code",
      "metadata": {},
      "source": [
        "dataset_name = \"simple\"\n",
        "dataset_path = path.join(\"dataset\", \"imaging\", dataset_name)\n",
        "\n",
        "dataset = ag.Imaging.from_fits(\n",
        "    data_path=path.join(dataset_path, \"data.fits\"),\n",
        "    psf_path=path.join(dataset_path, \"psf.fits\"),\n",
        "    noise_map_path=path.join(dataset_path, \"noise_map.fits\"),\n",
        "    pixel_scales=0.1,\n",
        ")"
      ],
      "outputs": [],
      "execution_count": null
    },
    {
      "cell_type": "markdown",
      "metadata": {},
      "source": [
        "__Mask__\n",
        "\n",
        "We next mask the dataset, to remove the exterior regions of the image that do not contain emission from the galaxy.\n",
        "\n",
        "Note how when we plot the `Imaging` below, the figure now zooms into the masked region."
      ]
    },
    {
      "cell_type": "code",
      "metadata": {},
      "source": [
        "mask = ag.Mask2D.circular(\n",
        "    shape_native=dataset.shape_native, pixel_scales=dataset.pixel_scales, radius=3.0\n",
        ")\n",
        "\n",
        "dataset = dataset.apply_mask(mask=mask)\n",
        "\n",
        "dataset_plotter = aplt.ImagingPlotter(dataset=dataset)\n",
        "dataset_plotter.subplot()"
      ],
      "outputs": [],
      "execution_count": null
    },
    {
      "cell_type": "markdown",
      "metadata": {},
      "source": [
        "__Model__\n",
        "\n",
        "We compose the model that we fit to the data using PyAutoFit `Model` objects. \n",
        "\n",
        "These behave analogously to `Galaxy` objects but their  `LightProfile` parameters are not specified and are instead \n",
        "determined by a fitting procedure.\n",
        "\n",
        "In this example we fit a model where:\n",
        "\n",
        " - The galaxy's bulge is a parametric `Sersic` bulge [7 parameters]. \n",
        " - The galaxy's disk is a parametric `Exponential` disk [6 parameters].\n",
        " \n",
        "Note how we can easily extend the model below to include extra light profiles in the galaxy."
      ]
    },
    {
      "cell_type": "code",
      "metadata": {},
      "source": [
        "galaxy = af.Model(ag.Galaxy, redshift=0.5, bulge=ag.lp.Sersic, disk=ag.lp.Exponential)"
      ],
      "outputs": [],
      "execution_count": null
    },
    {
      "cell_type": "markdown",
      "metadata": {},
      "source": [
        "The `info` attribute of the galaxy `Model` component shows the model in a readable format."
      ]
    },
    {
      "cell_type": "code",
      "metadata": {},
      "source": [
        "print(galaxy.info)"
      ],
      "outputs": [],
      "execution_count": null
    },
    {
      "cell_type": "markdown",
      "metadata": {},
      "source": [
        "We put the model galaxy above into a `Collection`, which is the model we will fit. Note how we could easily \n",
        "extend this object to compose complex models containing many galaxies.\n",
        "\n",
        "The reason we create separate `Collection`'s for the `galaxies` and `model` is so that the `model`\n",
        "can be extended to include other components than just galaxies."
      ]
    },
    {
      "cell_type": "code",
      "metadata": {},
      "source": [
        "galaxies = af.Collection(galaxy=galaxy)\n",
        "model = af.Collection(galaxies=galaxies)"
      ],
      "outputs": [],
      "execution_count": null
    },
    {
      "cell_type": "markdown",
      "metadata": {},
      "source": [
        "The `info` attribute shows the model in a readable format."
      ]
    },
    {
      "cell_type": "code",
      "metadata": {},
      "source": [
        "print(model.info)"
      ],
      "outputs": [],
      "execution_count": null
    },
    {
      "cell_type": "markdown",
      "metadata": {},
      "source": [
        "__Non-linear Search__\n",
        "\n",
        "We now choose the non-linear search, which is the fitting method used to determine the set of `LightProfile` (e.g.\n",
        "bulge and disk) parameters that best-fit our data.\n",
        "\n",
        "In this example we use `nautilus` (https://github.com/joshspeagle/nautilus), a nested sampling algorithm that is\n",
        "very effective at modeling.\n",
        "\n",
        "**PyAutoGalaxy** supports many model-fitting algorithms, including maximum likelihood estimators and MCMC, which are\n",
        "documented throughout the workspace.\n",
        "\n",
        "The `path_prefix` and `name` determine the output folders the results are written too on hard-disk."
      ]
    },
    {
      "cell_type": "code",
      "metadata": {},
      "source": [
        "search = af.Nautilus(path_prefix=\"overview\", name=\"modeling\")"
      ],
      "outputs": [],
      "execution_count": null
    },
    {
      "cell_type": "markdown",
      "metadata": {},
      "source": [
        "__Analysis__\n",
        "\n",
        "We next create an `AnalysisImaging` object, which contains the `log likelihood function` that the non-linear search \n",
        "calls to fit the model to the data."
      ]
    },
    {
      "cell_type": "code",
      "metadata": {},
      "source": [
        "analysis = ag.AnalysisImaging(dataset=dataset)"
      ],
      "outputs": [],
      "execution_count": null
    },
    {
      "cell_type": "markdown",
      "metadata": {},
      "source": [
        "__Run Times__\n",
        "\n",
        "modeling can be a computationally expensive process. When fitting complex models to high resolution datasets \n",
        "run times can be of order hours, days, weeks or even months.\n",
        "\n",
        "Run times are dictated by two factors:\n",
        "\n",
        " - The log likelihood evaluation time: the time it takes for a single `instance` of the model to be fitted to \n",
        "   the dataset such that a log likelihood is returned.\n",
        "\n",
        " - The number of iterations (e.g. log likelihood evaluations) performed by the non-linear search: more complex lens\n",
        "   models require more iterations to converge to a solution.\n",
        "\n",
        "The log likelihood evaluation time can be estimated before a fit using the `profile_log_likelihood_function` method,\n",
        "which returns two dictionaries containing the run-times and information about the fit."
      ]
    },
    {
      "cell_type": "code",
      "metadata": {},
      "source": [
        "run_time_dict, info_dict = analysis.profile_log_likelihood_function(\n",
        "    instance=model.random_instance()\n",
        ")"
      ],
      "outputs": [],
      "execution_count": null
    },
    {
      "cell_type": "markdown",
      "metadata": {},
      "source": [
        "The overall log likelihood evaluation time is given by the `fit_time` key.\n",
        "\n",
        "For this example, it is ~0.01 seconds, which is extremely fast for modeling. More advanced lens\n",
        "modeling features (e.g. shapelets, multi Gaussian expansions, pixelizations) have slower log likelihood evaluation\n",
        "times (1-3 seconds), and you should be wary of this when using these features.PointDataset"
      ]
    },
    {
      "cell_type": "code",
      "metadata": {},
      "source": [
        "print(f\"Log Likelihood Evaluation Time (second) = {run_time_dict['fit_time']}\")"
      ],
      "outputs": [],
      "execution_count": null
    },
    {
      "cell_type": "markdown",
      "metadata": {},
      "source": [
        "To estimate the expected overall run time of the model-fit we multiply the log likelihood evaluation time by an \n",
        "estimate of the number of iterations the non-linear search will perform. \n",
        "\n",
        "Estimating this quantity is more tricky, as it varies depending on the model complexity (e.g. number of parameters)\n",
        "and the properties of the dataset and model being fitted.\n",
        "\n",
        "For this example, we conservatively estimate that the non-linear search will perform ~10000 iterations per free \n",
        "parameter in the model. This is an upper limit, with models typically converging in far fewer iterations.\n",
        "\n",
        "If you perform the fit over multiple CPUs, you can divide the run time by the number of cores to get an estimate of\n",
        "the time it will take to fit the model. Parallelization with Nautilus scales well, it speeds up the model-fit by the \n",
        "`number_of_cores` for N < 8 CPUs and roughly `0.5*number_of_cores` for N > 8 CPUs. This scaling continues \n",
        "for N> 50 CPUs, meaning that with super computing facilities you can always achieve fast run times!"
      ]
    },
    {
      "cell_type": "code",
      "metadata": {},
      "source": [
        "print(\n",
        "    \"Estimated Run Time Upper Limit (seconds) = \",\n",
        "    (run_time_dict[\"fit_time\"] * model.total_free_parameters * 10000)\n",
        "    / search.number_of_cores,\n",
        ")\n"
      ],
      "outputs": [],
      "execution_count": null
    },
    {
      "cell_type": "markdown",
      "metadata": {},
      "source": [
        "__Model-Fit__\n",
        "\n",
        "To perform the model-fit we pass the model and analysis to the search's fit method. This will output results (e.g.,\n",
        "nautilus samples, model parameters, visualization) to hard-disk.\n",
        "\n",
        "Once running you should checkout the `autogalaxy_workspace/output` folder, which is where the results of the search are \n",
        "written to hard-disk (in the `overview_modeling` folder) on-the-fly. This includes model parameter estimates with \n",
        "errors non-linear samples and the visualization of the best-fit model inferred by the search so far. "
      ]
    },
    {
      "cell_type": "code",
      "metadata": {},
      "source": [
        "result = search.fit(model=model, analysis=analysis)"
      ],
      "outputs": [],
      "execution_count": null
    },
    {
      "cell_type": "markdown",
      "metadata": {},
      "source": [
        "__Results__\n",
        "\n",
        "Whilst navigating the output folder, you may of noted the results were contained in a folder that appears as a random\n",
        "collection of characters. \n",
        "\n",
        "This is the model-fit's unique identifier, which is generated based on the model, search and dataset used by the fit. \n",
        "Fitting an identical model, search and dataset will generate the same identifier, meaning that rerunning the script \n",
        "will use the existing results to resume the model-fit. In contrast, if you change the model, search or dataset, a new \n",
        "unique identifier will be generated, ensuring that the model-fit results are output into a separate folder.\n",
        "\n",
        "The fit above returns a `Result` object, which includes lots of information on the model. \n",
        "\n",
        "The `info` attribute shows the result in a readable format."
      ]
    },
    {
      "cell_type": "code",
      "metadata": {},
      "source": [
        "print(result.info)"
      ],
      "outputs": [],
      "execution_count": null
    },
    {
      "cell_type": "markdown",
      "metadata": {},
      "source": [
        "Below, \n",
        "we print the maximum log likelihood bulge and disk models inferred."
      ]
    },
    {
      "cell_type": "code",
      "metadata": {},
      "source": [
        "print(result.max_log_likelihood_instance.galaxies.galaxy.bulge)\n",
        "print(result.max_log_likelihood_instance.galaxies.galaxy.disk)"
      ],
      "outputs": [],
      "execution_count": null
    },
    {
      "cell_type": "markdown",
      "metadata": {},
      "source": [
        "In fact, the result contains the full posterior information of our non-linear search, including all\n",
        "parameter samples, log likelihood values and tools to compute the errors on the model. **PyAutoGalaxy** includes\n",
        "visualization tools for plotting this.\n",
        "\n",
        "The plot is labeled with short hand parameter names (e.g. `sersic_index` is mapped to the short hand \n",
        "parameter `n`). These mappings ate specified in the `config/notation.yaml` file and can be customized by users.\n",
        "\n",
        "The superscripts of labels correspond to the name each component was given in the model (e.g. for the `Isothermal`\n",
        "mass its name `mass` defined when making the `Model` above is used)."
      ]
    },
    {
      "cell_type": "code",
      "metadata": {},
      "source": [
        "plotter = aplt.NestPlotter(samples=result.samples)\n",
        "plotter.corner_cornerpy()"
      ],
      "outputs": [],
      "execution_count": null
    },
    {
      "cell_type": "markdown",
      "metadata": {},
      "source": [
        "The result also contains the maximum log likelihood `Galaxies` and `FitImaging` objects which can easily be plotted."
      ]
    },
    {
      "cell_type": "code",
      "metadata": {},
      "source": [
        "galaxies_plotter = aplt.GalaxiesPlotter(\n",
        "    galaxies=result.max_log_likelihood_galaxies, grid=dataset.grid\n",
        ")\n",
        "galaxies_plotter.subplot()\n",
        "\n",
        "fit_plotter = aplt.FitImagingPlotter(fit=result.max_log_likelihood_fit)\n",
        "fit_plotter.subplot_fit()"
      ],
      "outputs": [],
      "execution_count": null
    },
    {
      "cell_type": "markdown",
      "metadata": {},
      "source": [
        "A full guide of result objects is contained in the `autogalaxy_workspace/*/imaging/results` package.\n",
        "\n",
        "__Model Customization__\n",
        "\n",
        "The `Model` can be fully customized, making it simple to parameterize and fit many different models\n",
        "using any combination of light profiles and galaxies:"
      ]
    },
    {
      "cell_type": "code",
      "metadata": {},
      "source": [
        "galaxy_model = af.Model(\n",
        "    ag.Galaxy,\n",
        "    redshift=0.5,\n",
        "    bulge=ag.lp.DevVaucouleurs,\n",
        "    disk=ag.lp.Sersic,\n",
        "    bar=ag.lp.Gaussian,\n",
        "    clump_0=ag.lp.ElsonFreeFall,\n",
        "    clump_1=ag.lp.ElsonFreeFall,\n",
        ")"
      ],
      "outputs": [],
      "execution_count": null
    },
    {
      "cell_type": "markdown",
      "metadata": {},
      "source": [
        "This aligns the bulge and disk centres in the galaxy model, reducing the\n",
        "number of free parameter fitted for by Nautilus by 2."
      ]
    },
    {
      "cell_type": "code",
      "metadata": {},
      "source": [
        "galaxy_model.bulge.centre = galaxy_model.disk.centre"
      ],
      "outputs": [],
      "execution_count": null
    },
    {
      "cell_type": "markdown",
      "metadata": {},
      "source": [
        "This fixes the galaxy bulge light profile's effective radius to a value of\n",
        "0.8 arc-seconds, removing another free parameter."
      ]
    },
    {
      "cell_type": "code",
      "metadata": {},
      "source": [
        "galaxy_model.bulge.effective_radius = 0.8"
      ],
      "outputs": [],
      "execution_count": null
    },
    {
      "cell_type": "markdown",
      "metadata": {},
      "source": [
        "This forces the light profile disk's effective radius to be above 3.0."
      ]
    },
    {
      "cell_type": "code",
      "metadata": {},
      "source": [
        "galaxy_model.bulge.add_assertion(galaxy_model.disk.effective_radius > 3.0)"
      ],
      "outputs": [],
      "execution_count": null
    },
    {
      "cell_type": "markdown",
      "metadata": {},
      "source": [
        "The `info` attribute shows the customized model."
      ]
    },
    {
      "cell_type": "code",
      "metadata": {},
      "source": [
        "print(galaxy_model.info)"
      ],
      "outputs": [],
      "execution_count": null
    },
    {
      "cell_type": "markdown",
      "metadata": {},
      "source": [
        "__Linear Light Profiles__\n",
        "\n",
        "**PyAutoGalaxy** supports 'linear light profiles', where the `intensity` parameters of all parametric components are \n",
        "solved via linear algebra every time the model is fitted using a process called an inversion. This inversion always \n",
        "computes `intensity` values that give the best fit to the data (e.g. they maximize the likelihood) given the other \n",
        "parameter values of the light profile.\n",
        "\n",
        "The `intensity` parameter of each light profile is therefore not a free parameter in the model-fit, reducing the\n",
        "dimensionality of non-linear parameter space by the number of light profiles (in the example below by 3) and removing \n",
        "the degeneracies that occur between the `intnensity` and other light profile\n",
        "parameters (e.g. `effective_radius`, `sersic_index`).\n",
        "\n",
        "For complex models, linear light profiles are a powerful way to simplify the parameter space to ensure the best-fit\n",
        "model is inferred."
      ]
    },
    {
      "cell_type": "code",
      "metadata": {},
      "source": [
        "sersic_linear = ag.lp_linear.Sersic()\n",
        "\n",
        "galaxy_model_linear = af.Model(\n",
        "    ag.Galaxy,\n",
        "    redshift=0.5,\n",
        "    bulge=ag.lp_linear.DevVaucouleurs,\n",
        "    disk=ag.lp_linear.Sersic,\n",
        "    bar=ag.lp_linear.Gaussian,\n",
        ")\n",
        "\n",
        "print(galaxy_model_linear.info)"
      ],
      "outputs": [],
      "execution_count": null
    },
    {
      "cell_type": "markdown",
      "metadata": {},
      "source": [
        "__Basis Functions__\n",
        "\n",
        "A natural extension of linear light profiles are basis functions, which group many linear light profiles together in\n",
        "order to capture complex and irregular structures in a galaxy's emission. \n",
        "\n",
        "Using a clever model parameterization a basis can be composed which corresponds to just N = 5-10 parameters, making\n",
        "model-fitting efficient and robust.\n",
        "\n",
        "Below, we compose a basis of 10 Gaussians which all share the same `centre` and `ell_comps`. Their `sigma`\n",
        "values are set via the relation `y = a + (log10(i+1) + b)`, where `i` is the  Gaussian index and `a` and `b` are free \n",
        "parameters.\n",
        "\n",
        "Because `a` and `b` are free parameters (as opposed to `sigma` which can assume many values), we are able to \n",
        "compose and fit `Basis` objects which can capture very complex light distributions with just N = 5-10 non-linear \n",
        "parameters!"
      ]
    },
    {
      "cell_type": "code",
      "metadata": {},
      "source": [
        "bulge_a = af.UniformPrior(lower_limit=0.0, upper_limit=0.2)\n",
        "bulge_b = af.UniformPrior(lower_limit=0.0, upper_limit=10.0)\n",
        "\n",
        "gaussians_bulge = af.Collection(af.Model(ag.lp_linear.Gaussian) for _ in range(10))\n",
        "\n",
        "for i, gaussian in enumerate(gaussians_bulge):\n",
        "    gaussian.centre = gaussians_bulge[0].centre\n",
        "    gaussian.ell_comps = gaussians_bulge[0].ell_comps\n",
        "    gaussian.sigma = bulge_a + (bulge_b * np.log10(i + 1))\n",
        "\n",
        "bulge = af.Model(\n",
        "    ag.lp_basis.Basis,\n",
        "    light_profile_list=gaussians_bulge,\n",
        ")\n",
        "\n",
        "print(bulge.info)"
      ],
      "outputs": [],
      "execution_count": null
    },
    {
      "cell_type": "markdown",
      "metadata": {},
      "source": [
        "**PyAutoGalaxy** can also apply Bayesian regularization to Basis functions, which smooths the linear light profiles\n",
        "(e.g. the Gaussians) in order to prevent over-fitting noise."
      ]
    },
    {
      "cell_type": "code",
      "metadata": {},
      "source": [
        "bulge = af.Model(\n",
        "    ag.lp_basis.Basis,\n",
        "    light_profile_list=gaussians_bulge,\n",
        "    regularization=ag.reg.Constant,\n",
        ")"
      ],
      "outputs": [],
      "execution_count": null
    },
    {
      "cell_type": "markdown",
      "metadata": {},
      "source": [
        "__Wrap Up__\n",
        "\n",
        "A more detailed description of modeling's is given in chapter 2 of the **HowToGalaxy** \n",
        "tutorials, which I strongly advise new users check out!"
      ]
    },
    {
      "cell_type": "code",
      "metadata": {},
      "source": [],
      "outputs": [],
      "execution_count": null
    }
  ],
  "metadata": {
    "anaconda-cloud": {},
    "kernelspec": {
      "display_name": "Python 3",
      "language": "python",
      "name": "python3"
    },
    "language_info": {
      "codemirror_mode": {
        "name": "ipython",
        "version": 3
      },
      "file_extension": ".py",
      "mimetype": "text/x-python",
      "name": "python",
      "nbconvert_exporter": "python",
      "pygments_lexer": "ipython3",
      "version": "3.6.1"
    }
  },
  "nbformat": 4,
  "nbformat_minor": 4
}