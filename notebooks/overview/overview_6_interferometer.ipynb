{
  "cells": [
    {
      "cell_type": "markdown",
      "metadata": {},
      "source": [
        "Overview: Interferometer\n",
        "------------------------\n",
        "\n",
        "Alongside CCD `Imaging` data, **PyAutoGalaxy** supports the modeling of interferometer data from submillimeter and radio\n",
        "observatories.\n",
        "\n",
        "The dataset is fitted directly in the uv-plane, circumventing issues that arise when fitting a `dirty image` such as\n",
        "correlated noise."
      ]
    },
    {
      "cell_type": "code",
      "metadata": {},
      "source": [
        "%matplotlib inline\n",
        "from pyprojroot import here\n",
        "workspace_path = str(here())\n",
        "%cd $workspace_path\n",
        "print(f\"Working Directory has been set to `{workspace_path}`\")\n",
        "\n",
        "import autofit as af\n",
        "import autogalaxy as ag\n",
        "import autogalaxy.plot as aplt\n",
        "from os import path\n",
        "import numpy as np"
      ],
      "outputs": [],
      "execution_count": null
    },
    {
      "cell_type": "markdown",
      "metadata": {},
      "source": [
        "__Real Space Mask__\n",
        "\n",
        "To begin, we define a real-space mask. Although interferometer analysis is performed in the uv-plane and \n",
        "therefore Fourier space, we still need to define the grid of coordinates in real-space from which the galaxy's \n",
        "images are computed. It is this image that is mapped to Fourier space to compare to the uv-plane data."
      ]
    },
    {
      "cell_type": "code",
      "metadata": {},
      "source": [
        "real_space_mask = ag.Mask2D.circular(\n",
        "    shape_native=(400, 400), pixel_scales=0.025, radius=3.0\n",
        ")"
      ],
      "outputs": [],
      "execution_count": null
    },
    {
      "cell_type": "markdown",
      "metadata": {},
      "source": [
        "__Dataset__\n",
        "\n",
        "We next load an interferometer dataset from fits files, which follows the same API that we have seen for an `Imaging`\n",
        "object."
      ]
    },
    {
      "cell_type": "code",
      "metadata": {},
      "source": [
        "dataset_name = \"simple__sersic\"\n",
        "dataset_path = path.join(\"dataset\", \"interferometer\", dataset_name)\n",
        "\n",
        "dataset = ag.Interferometer.from_fits(\n",
        "    data_path=path.join(dataset_path, \"data.fits\"),\n",
        "    noise_map_path=path.join(dataset_path, \"noise_map.fits\"),\n",
        "    uv_wavelengths_path=path.join(dataset_path, \"uv_wavelengths.fits\"),\n",
        "    real_space_mask=real_space_mask,\n",
        ")"
      ],
      "outputs": [],
      "execution_count": null
    },
    {
      "cell_type": "markdown",
      "metadata": {},
      "source": [
        "The PyAutoGalaxy plot module has tools for plotting interferometer datasets, including the visibilities, noise-map\n",
        "and uv wavelength which represent the interferometer`s baselines. \n",
        "\n",
        "The data used in this tutorial contains only ~300 visibilities and is representative of a low resolution \n",
        "Square-Mile Array (SMA) dataset. \n",
        "\n",
        "We made this choice so the script runs fast, and we discuss below how PyAutoGalaxy can scale up to large visibilities\n",
        "datasets from an instrument like ALMA."
      ]
    },
    {
      "cell_type": "code",
      "metadata": {},
      "source": [
        "dataset_plotter = aplt.InterferometerPlotter(dataset=dataset)\n",
        "dataset_plotter.figures_2d(data=True, uv_wavelengths=True)"
      ],
      "outputs": [],
      "execution_count": null
    },
    {
      "cell_type": "markdown",
      "metadata": {},
      "source": [
        "This can also plot the dataset in real-space, using the fast Fourier transforms described below."
      ]
    },
    {
      "cell_type": "code",
      "metadata": {},
      "source": [
        "dataset_plotter = aplt.InterferometerPlotter(dataset=dataset)\n",
        "dataset_plotter.figures_2d(dirty_image=True, dirty_noise_map=True)\n"
      ],
      "outputs": [],
      "execution_count": null
    },
    {
      "cell_type": "markdown",
      "metadata": {},
      "source": [
        "__Galaxies__\n",
        "\n",
        "To perform uv-plane modeling, **PyAutoGalaxy** generates an image of the galaxy system in real-space. \n",
        "\n",
        "Lets quickly set up the galaxies  we'll use in this example."
      ]
    },
    {
      "cell_type": "code",
      "metadata": {},
      "source": [
        "galaxy = ag.Galaxy(\n",
        "    redshift=0.5,\n",
        "    bulge=ag.lp.Sersic(\n",
        "        centre=(0.0, 0.0),\n",
        "        ell_comps=ag.convert.ell_comps_from(axis_ratio=0.9, angle=45.0),\n",
        "        intensity=1.0,\n",
        "        effective_radius=0.8,\n",
        "        sersic_index=4.0,\n",
        "    ),\n",
        ")\n",
        "\n",
        "galaxies = ag.Galaxies(galaxies=[galaxy])\n",
        "\n",
        "galaxies_plotter = aplt.GalaxiesPlotter(\n",
        "    galaxies=galaxies, grid=real_space_mask.derive_grid.unmasked\n",
        ")\n",
        "galaxies_plotter.figures_2d(image=True)"
      ],
      "outputs": [],
      "execution_count": null
    },
    {
      "cell_type": "markdown",
      "metadata": {},
      "source": [
        "__UV-Plane__\n",
        "\n",
        "To perform uv-plane modeling, **PyAutoGalaxy** next Fourier transforms this image from real-space to the uv-plane.\n",
        "\n",
        "This operation uses a *Transformer* object, of which there are multiple available in **PyAutoGalaxy**. This includes\n",
        "a direct Fourier transform which performs the exact Fourier transformer without approximation."
      ]
    },
    {
      "cell_type": "code",
      "metadata": {},
      "source": [
        "transformer_class = ag.TransformerDFT"
      ],
      "outputs": [],
      "execution_count": null
    },
    {
      "cell_type": "markdown",
      "metadata": {},
      "source": [
        "However, the direct Fourier transform is inefficient. For ~10 million visibilities, it requires thousands of seconds\n",
        "to perform a single transform. This approach is therefore unfeasible for high quality ALMA and radio datasets.\n",
        "\n",
        "For this reason, **PyAutoGalaxy** supports the non-uniform fast fourier transform algorithm\n",
        "**PyNUFFT** (https://github.com/jyhmiinlin/pynufft), which is significantly faster, being able too perform a Fourier\n",
        "transform of ~10 million in less than a second!"
      ]
    },
    {
      "cell_type": "code",
      "metadata": {},
      "source": [
        "transformer_class = ag.TransformerNUFFT"
      ],
      "outputs": [],
      "execution_count": null
    },
    {
      "cell_type": "markdown",
      "metadata": {},
      "source": [
        "The use this transformer in a fit, we use the `apply_settings` method."
      ]
    },
    {
      "cell_type": "code",
      "metadata": {},
      "source": [
        "dataset = dataset.apply_settings(\n",
        "    settings=ag.SettingsInterferometer(transformer_class=transformer_class)\n",
        ")"
      ],
      "outputs": [],
      "execution_count": null
    },
    {
      "cell_type": "markdown",
      "metadata": {},
      "source": [
        "__Fitting__\n",
        "\n",
        "The interferometer can now be used with a `FitInterferometer` object to fit it to a dataset:"
      ]
    },
    {
      "cell_type": "code",
      "metadata": {},
      "source": [
        "fit = ag.FitInterferometer(dataset=dataset, galaxies=galaxies)\n",
        "\n",
        "fit_plotter = aplt.FitInterferometerPlotter(fit=fit)"
      ],
      "outputs": [],
      "execution_count": null
    },
    {
      "cell_type": "markdown",
      "metadata": {},
      "source": [
        "Visualization of the fit can be performed in the uv-plane or in real-space. \n",
        "\n",
        "Note that the fit is not performed in real-space, but plotting it in real-space is often more informative."
      ]
    },
    {
      "cell_type": "code",
      "metadata": {},
      "source": [
        "fit_plotter.subplot_fit()\n",
        "fit_plotter.subplot_fit_dirty_images()\n",
        "fit_plotter.subplot_fit_real_space()"
      ],
      "outputs": [],
      "execution_count": null
    },
    {
      "cell_type": "markdown",
      "metadata": {},
      "source": [
        "Interferometer data can also be modeled using pixelizations, which again perform the galaxy reconstruction by\n",
        "directly fitting the visibilities in the uv-plane. \n",
        "\n",
        "The galaxy reconstruction can be visualized in real space:"
      ]
    },
    {
      "cell_type": "code",
      "metadata": {},
      "source": [
        "pixelization = ag.Pixelization(\n",
        "    mesh=ag.mesh.Rectangular(shape=(30, 30)),\n",
        "    regularization=ag.reg.Constant(coefficient=1.0),\n",
        ")\n",
        "\n",
        "galaxy = ag.Galaxy(redshift=1.0, pixelization=pixelization)\n",
        "\n",
        "galaxies = ag.Galaxies(galaxies=[galaxy])\n",
        "\n",
        "\n",
        "fit = ag.FitInterferometer(\n",
        "    dataset=dataset,\n",
        "    galaxies=galaxies,\n",
        "    settings_inversion=ag.SettingsInversion(use_linear_operators=True),\n",
        ")\n",
        "\n",
        "fit_plotter = aplt.FitInterferometerPlotter(fit=fit)\n",
        "fit_plotter.subplot_fit()\n",
        "fit_plotter.subplot_fit_dirty_images()\n",
        "fit_plotter.subplot_fit_real_space()"
      ],
      "outputs": [],
      "execution_count": null
    },
    {
      "cell_type": "markdown",
      "metadata": {},
      "source": [
        "The combination of pixelizations with interferometer datasets therefore offers a compelling way to reconstruct\n",
        "their emission following a fully Bayesian framework. \n",
        "\n",
        "This can allow one to determine whether star forming clumps are resolved in the data, with the fitting in the uv-plane\n",
        "ensuring they are not spurious noise.\n",
        "\n",
        "__Efficiency__\n",
        "\n",
        "Computing this galaxy reconstruction would be extremely inefficient if **PyAutoGalaxy** used a traditional approach to\n",
        "linear algebra which explicitly stored in memory the values required to solve for the source fluxes. In fact, for an\n",
        "interferometer dataset of ~10 million visibilities this would require **hundreds of GB of memory**!\n",
        "\n",
        "**PyAutoGalaxy** uses the library **PyLops** (https://pylops.readthedocs.io/en/latest/) to represent this \n",
        "calculation as a sequence of memory-light linear operators."
      ]
    },
    {
      "cell_type": "code",
      "metadata": {},
      "source": [
        "inversion_plotter = aplt.InversionPlotter(inversion=fit.inversion)\n",
        "inversion_plotter.figures_2d_of_pixelization(pixelization_index=0, reconstruction=True)"
      ],
      "outputs": [],
      "execution_count": null
    },
    {
      "cell_type": "markdown",
      "metadata": {},
      "source": [
        "__Modeling__\n",
        "\n",
        "It is straight forward to fit a model to an interferometer dataset, using the same API that we saw for imaging\n",
        "data in the `overview/modeling.py` example.\n",
        "\n",
        "__Model__\n",
        "\n",
        "We first compose the model, in the same way described in the `modeling.py` overview script:"
      ]
    },
    {
      "cell_type": "code",
      "metadata": {},
      "source": [
        "galaxy = af.Model(ag.Galaxy, redshift=0.5, bulge=ag.lp.Sersic)\n",
        "\n",
        "model = af.Collection(galaxies=af.Collection(galaxy=galaxy))"
      ],
      "outputs": [],
      "execution_count": null
    },
    {
      "cell_type": "markdown",
      "metadata": {},
      "source": [
        "__Non-linear Search__\n",
        "\n",
        "We again choose the non-linear search `nautilus` (https://github.com/joshspeagle/nautilus)."
      ]
    },
    {
      "cell_type": "code",
      "metadata": {},
      "source": [
        "search = af.Nautilus(path_prefix=\"overview\", name=\"interferometer\")"
      ],
      "outputs": [],
      "execution_count": null
    },
    {
      "cell_type": "markdown",
      "metadata": {},
      "source": [
        "__Analysis__\n",
        "\n",
        "Whereas we previously used an `AnalysisImaging` object, we instead use an `AnalysisInterferometer` object which fits \n",
        "the model in the correct way for an interferometer dataset. \n",
        "\n",
        "This includes mapping the model from real-space to the uv-plane via the Fourier transform discussed above."
      ]
    },
    {
      "cell_type": "code",
      "metadata": {},
      "source": [
        "analysis = ag.AnalysisInterferometer(dataset=dataset)"
      ],
      "outputs": [],
      "execution_count": null
    },
    {
      "cell_type": "markdown",
      "metadata": {},
      "source": [
        "__Model-Fit__\n",
        "\n",
        "We can now begin the model-fit by passing the model and analysis object to the search, which performs a non-linear\n",
        "search to find which models fit the data with the highest likelihood.\n",
        "\n",
        "The results can be found in the `output/overview_interferometer` folder in the `autogalaxy_workspace`."
      ]
    },
    {
      "cell_type": "code",
      "metadata": {},
      "source": [
        "result = search.fit(model=model, analysis=analysis)"
      ],
      "outputs": [],
      "execution_count": null
    },
    {
      "cell_type": "markdown",
      "metadata": {},
      "source": [
        "__Result__\n",
        "\n",
        "The **PyAutoGalaxy** visualization library and `FitInterferometer` object includes specific methods for plotting the \n",
        "results."
      ]
    },
    {
      "cell_type": "code",
      "metadata": {},
      "source": [
        "fit_plotter = aplt.FitInterferometerPlotter(fit=result.max_log_likelihood_fit)\n",
        "fit_plotter.subplot_fit()\n",
        "fit_plotter.subplot_fit_dirty_images()"
      ],
      "outputs": [],
      "execution_count": null
    },
    {
      "cell_type": "markdown",
      "metadata": {},
      "source": [
        "__Simulation__\n",
        "\n",
        "Simulated interferometer datasets can be generated using the ``SimulatorInterferometer`` object, which includes adding\n",
        "Gaussian noise to the visibilities:"
      ]
    },
    {
      "cell_type": "code",
      "metadata": {},
      "source": [
        "simulator = ag.SimulatorInterferometer(\n",
        "    uv_wavelengths=dataset.uv_wavelengths, exposure_time=300.0, noise_sigma=0.01\n",
        ")\n",
        "\n",
        "real_space_grid = ag.Grid2D.uniform(\n",
        "    shape_native=real_space_mask.shape_native,\n",
        "    pixel_scales=real_space_mask.pixel_scales,\n",
        ")\n",
        "\n",
        "dataset = simulator.via_galaxies_from(galaxies=galaxies, grid=real_space_grid)"
      ],
      "outputs": [],
      "execution_count": null
    },
    {
      "cell_type": "markdown",
      "metadata": {},
      "source": [
        "__Wrap Up__\n",
        "\n",
        "The `interferometer` package of the `autogalaxy_workspace` contains numerous example scripts for performing \n",
        "interferometer modeling and simulating galaxy interferometer datasets."
      ]
    },
    {
      "cell_type": "code",
      "metadata": {},
      "source": [],
      "outputs": [],
      "execution_count": null
    }
  ],
  "metadata": {
    "anaconda-cloud": {},
    "kernelspec": {
      "display_name": "Python 3",
      "language": "python",
      "name": "python3"
    },
    "language_info": {
      "codemirror_mode": {
        "name": "ipython",
        "version": 3
      },
      "file_extension": ".py",
      "mimetype": "text/x-python",
      "name": "python",
      "nbconvert_exporter": "python",
      "pygments_lexer": "ipython3",
      "version": "3.6.1"
    }
  },
  "nbformat": 4,
  "nbformat_minor": 4
}