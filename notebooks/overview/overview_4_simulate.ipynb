{
  "cells": [
    {
      "cell_type": "markdown",
      "metadata": {},
      "source": [
        "Overview: Simulate\n",
        "------------------\n",
        "\n",
        "**PyAutoGalaxy** provides tool for simulating galaxy data-sets, which can be used to test modeling pipelines\n",
        "and train neural networks to recognise and analyse images of galaxies."
      ]
    },
    {
      "cell_type": "code",
      "metadata": {},
      "source": [
        "%matplotlib inline\n",
        "from pyprojroot import here\n",
        "workspace_path = str(here())\n",
        "%cd $workspace_path\n",
        "print(f\"Working Directory has been set to `{workspace_path}`\")\n",
        "\n",
        "import autogalaxy as ag\n",
        "import autogalaxy.plot as aplt"
      ],
      "outputs": [],
      "execution_count": null
    },
    {
      "cell_type": "markdown",
      "metadata": {},
      "source": [
        "__Grid + Lens__\n",
        "\n",
        "In this overview we used galaxies and grid to create an image of a galaxy."
      ]
    },
    {
      "cell_type": "code",
      "metadata": {},
      "source": [
        "grid = ag.Grid2D.uniform(\n",
        "    shape_native=(80, 80),\n",
        "    pixel_scales=0.1,  # <- The pixel-scale describes the conversion from pixel units to arc-seconds.\n",
        ")\n",
        "\n",
        "galaxy = ag.Galaxy(\n",
        "    redshift=0.5,\n",
        "    bulge=ag.lp.Sersic(\n",
        "        centre=(0.0, 0.0),\n",
        "        ell_comps=ag.convert.ell_comps_from(axis_ratio=0.9, angle=45.0),\n",
        "        intensity=1.0,\n",
        "        effective_radius=0.8,\n",
        "        sersic_index=4.0,\n",
        "    ),\n",
        ")\n",
        "\n",
        "\n",
        "galaxies = ag.Galaxies(galaxies=[galaxy])\n",
        "\n",
        "galaxies_plotter = aplt.GalaxiesPlotter(galaxies=galaxies, grid=grid)\n",
        "galaxies_plotter.figures_2d(image=True)"
      ],
      "outputs": [],
      "execution_count": null
    },
    {
      "cell_type": "markdown",
      "metadata": {},
      "source": [
        "__Simulator__\n",
        "\n",
        "Simulating galaxy images uses a `SimulatorImaging` object, which models the process that an instrument like the\n",
        "Hubble Space Telescope goes through to observe a galaxy. This includes accounting for the exposure time to \n",
        "determine the signal-to-noise of the data, blurring the observed light of the galaxy with the telescope optics \n",
        "and accounting for the background sky in the exposure which adds Poisson noise."
      ]
    },
    {
      "cell_type": "code",
      "metadata": {},
      "source": [
        "psf = ag.Kernel2D.from_gaussian(shape_native=(11, 11), sigma=0.1, pixel_scales=0.05)\n",
        "\n",
        "simulator = ag.SimulatorImaging(\n",
        "    exposure_time=300.0, background_sky_level=1.0, psf=psf, add_poisson_noise=True\n",
        ")"
      ],
      "outputs": [],
      "execution_count": null
    },
    {
      "cell_type": "markdown",
      "metadata": {},
      "source": [
        "Once we have a simulator, we can use it to create an imaging dataset which consists of an image, noise-map and \n",
        "Point Spread Function (PSF) by passing it a galaxies and grid.\n",
        "\n",
        "This uses the galaxies above to create the image of the galaxy and then add the effects that occur during data\n",
        "acquisition."
      ]
    },
    {
      "cell_type": "code",
      "metadata": {},
      "source": [
        "dataset = simulator.via_galaxies_from(galaxies=galaxies, grid=grid)"
      ],
      "outputs": [],
      "execution_count": null
    },
    {
      "cell_type": "markdown",
      "metadata": {},
      "source": [
        "By plotting a subplot of the `Imaging` dataset, we can see this object includes the observed image of the galaxy\n",
        "(which has had noise and other instrumental effects added to it) as well as a noise-map and PSF:"
      ]
    },
    {
      "cell_type": "code",
      "metadata": {},
      "source": [
        "dataset_plotter = aplt.ImagingPlotter(dataset=dataset)\n",
        "dataset_plotter.subplot_dataset()"
      ],
      "outputs": [],
      "execution_count": null
    },
    {
      "cell_type": "markdown",
      "metadata": {},
      "source": [
        "__Wrap Up__\n",
        "\n",
        "The `autogalaxy_workspace` includes many example simulators for simulating galaxies with a range of different \n",
        "physical properties, to make imaging datasets for a variety of telescopes (e.g. Hubble, Euclid) as well as \n",
        "interferometer datasets."
      ]
    },
    {
      "cell_type": "code",
      "metadata": {},
      "source": [],
      "outputs": [],
      "execution_count": null
    }
  ],
  "metadata": {
    "anaconda-cloud": {},
    "kernelspec": {
      "display_name": "Python 3",
      "language": "python",
      "name": "python3"
    },
    "language_info": {
      "codemirror_mode": {
        "name": "ipython",
        "version": 3
      },
      "file_extension": ".py",
      "mimetype": "text/x-python",
      "name": "python",
      "nbconvert_exporter": "python",
      "pygments_lexer": "ipython3",
      "version": "3.6.1"
    }
  },
  "nbformat": 4,
  "nbformat_minor": 4
}