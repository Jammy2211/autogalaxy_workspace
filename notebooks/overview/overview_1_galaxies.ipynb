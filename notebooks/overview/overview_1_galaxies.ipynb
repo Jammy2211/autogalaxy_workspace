{
  "cells": [
    {
      "cell_type": "markdown",
      "metadata": {},
      "source": [
        "Overview: Galaxies\n",
        "------------------\n",
        "\n",
        "Nearly a century ago, Edwin Hubble famously classified galaxies into three distinct groups: ellipticals, spirals and\n",
        "irregulars. Today, by analysing millions of galaxies with advanced image processing techniques Astronomers have\n",
        "expanded on this picture and revealed the rich diversity of galaxy morphology both in the nearby and distant\n",
        "Universe.\n",
        "\n",
        "`PyAutoGalaxy` is an open-source Python package for the multi-wavelength analysis of the morphologies of large\n",
        "galaxy samples.\n",
        "\n",
        "To begin, lets import autogalaxy and the plot module."
      ]
    },
    {
      "cell_type": "code",
      "metadata": {},
      "source": [
        "%matplotlib inline\n",
        "from pyprojroot import here\n",
        "workspace_path = str(here())\n",
        "%cd $workspace_path\n",
        "print(f\"Working Directory has been set to `{workspace_path}`\")\n",
        "\n",
        "import autogalaxy as ag\n",
        "import autogalaxy.plot as aplt"
      ],
      "outputs": [],
      "execution_count": null
    },
    {
      "cell_type": "markdown",
      "metadata": {},
      "source": [
        "__Grids__\n",
        "\n",
        "To describe the luminous emission of galaxies, **PyAutoGalaxy** uses `Grid2D` data structures, which are \n",
        "two-dimensional Cartesian grids of (y,x) coordinates. \n",
        "\n",
        "Below, we make and plot a uniform Cartesian grid:"
      ]
    },
    {
      "cell_type": "code",
      "metadata": {},
      "source": [
        "grid = ag.Grid2D.uniform(\n",
        "    shape_native=(100, 100),\n",
        "    pixel_scales=0.1,  # The pixel-scale describes the conversion from pixel units to arc-seconds.\n",
        ")\n",
        "\n",
        "grid_plotter = aplt.Grid2DPlotter(grid=grid)\n",
        "grid_plotter.figure_2d()"
      ],
      "outputs": [],
      "execution_count": null
    },
    {
      "cell_type": "markdown",
      "metadata": {},
      "source": [
        "__Light Profiles__\n",
        "\n",
        "We will use this `Grid2D`'s coordinates to evaluate the galaxy's morphology. We therefore need analytic \n",
        "functions representing a galaxy's light distribution(s). \n",
        "\n",
        "For this,  **PyAutoGalaxy** uses `LightProfile` objects, for example the `Sersic` `LightProfile` object which\n",
        "represents a light distribution:"
      ]
    },
    {
      "cell_type": "code",
      "metadata": {},
      "source": [
        "sersic_light_profile = ag.lp.Sersic(\n",
        "    centre=(0.0, 0.0),\n",
        "    ell_comps=(0.2, 0.1),\n",
        "    intensity=0.005,\n",
        "    effective_radius=2.0,\n",
        "    sersic_index=4.0,\n",
        ")"
      ],
      "outputs": [],
      "execution_count": null
    },
    {
      "cell_type": "markdown",
      "metadata": {},
      "source": [
        "By passing this profile a `Grid2D`, we evaluate the light at every (y,x) coordinate on the `Grid2D` and create an \n",
        "image of the `LightProfile`."
      ]
    },
    {
      "cell_type": "code",
      "metadata": {},
      "source": [
        "image = sersic_light_profile.image_2d_from(grid=grid)"
      ],
      "outputs": [],
      "execution_count": null
    },
    {
      "cell_type": "markdown",
      "metadata": {},
      "source": [
        "The PyAutoGalaxy plot module provides methods for plotting objects and their properties, like \n",
        "the `LightProfile`'s image."
      ]
    },
    {
      "cell_type": "code",
      "metadata": {},
      "source": [
        "light_profile_plotter = aplt.LightProfilePlotter(\n",
        "    light_profile=sersic_light_profile, grid=grid\n",
        ")\n",
        "light_profile_plotter.figures_2d(image=True)"
      ],
      "outputs": [],
      "execution_count": null
    },
    {
      "cell_type": "markdown",
      "metadata": {},
      "source": [
        "__Galaxies__\n",
        "\n",
        "A `Galaxy` object is a collection of `LightProfile` objects at a given redshift. \n",
        "\n",
        "The code below creates a galaxy which is made of two components, a bulge and disk."
      ]
    },
    {
      "cell_type": "code",
      "metadata": {},
      "source": [
        "bulge = ag.lp.Sersic(\n",
        "    centre=(0.0, 0.0),\n",
        "    ell_comps=ag.convert.ell_comps_from(axis_ratio=0.9, angle=45.0),\n",
        "    intensity=1.0,\n",
        "    effective_radius=0.6,\n",
        "    sersic_index=3.0,\n",
        ")\n",
        "\n",
        "disk = ag.lp.Exponential(\n",
        "    centre=(0.0, 0.0),\n",
        "    ell_comps=ag.convert.ell_comps_from(axis_ratio=0.7, angle=30.0),\n",
        "    intensity=0.5,\n",
        "    effective_radius=1.6,\n",
        ")\n",
        "\n",
        "galaxy = ag.Galaxy(redshift=0.5, bulge=bulge, disk=disk)"
      ],
      "outputs": [],
      "execution_count": null
    },
    {
      "cell_type": "markdown",
      "metadata": {},
      "source": [
        "We can create an image the galaxy by passing it the 2D grid above."
      ]
    },
    {
      "cell_type": "code",
      "metadata": {},
      "source": [
        "image = galaxy.image_2d_from(grid=grid)"
      ],
      "outputs": [],
      "execution_count": null
    },
    {
      "cell_type": "markdown",
      "metadata": {},
      "source": [
        "The **PyAutoGalaxy** plot module provides methods for plotting galaxies.\n",
        "\n",
        "Below, we plot its image, which is the sum of the bulge and disk components."
      ]
    },
    {
      "cell_type": "code",
      "metadata": {},
      "source": [
        "galaxy_plotter = aplt.GalaxyPlotter(galaxy=galaxy, grid=grid)\n",
        "galaxy_plotter.figures_2d(image=True)"
      ],
      "outputs": [],
      "execution_count": null
    },
    {
      "cell_type": "markdown",
      "metadata": {},
      "source": [
        "__Plane__\n",
        "\n",
        "If our observation contains multiple galaxies, we create a `Plane` object to represent all galaxies.\n",
        "\n",
        "By passing `Galaxy` objects to a `Plane`, **PyAutoGalaxy** groups them to indicate they are at the same redshift."
      ]
    },
    {
      "cell_type": "code",
      "metadata": {},
      "source": [
        "galaxy_0 = ag.Galaxy(\n",
        "    redshift=0.5,\n",
        "    bulge=ag.lp.Sersic(\n",
        "        centre=(0.0, -1.0),\n",
        "        ell_comps=(0.25, 0.1),\n",
        "        intensity=0.1,\n",
        "        effective_radius=0.8,\n",
        "        sersic_index=2.5,\n",
        "    ),\n",
        ")\n",
        "\n",
        "galaxy_1 = ag.Galaxy(\n",
        "    redshift=0.5,\n",
        "    bulge=ag.lp.Sersic(\n",
        "        centre=(0.0, 1.0),\n",
        "        ell_comps=(0.0, 0.1),\n",
        "        intensity=0.1,\n",
        "        effective_radius=0.6,\n",
        "        sersic_index=3.0,\n",
        "    ),\n",
        ")\n",
        "\n",
        "plane = ag.Plane(galaxies=[galaxy_0, galaxy_1])"
      ],
      "outputs": [],
      "execution_count": null
    },
    {
      "cell_type": "markdown",
      "metadata": {},
      "source": [
        "The image of the plane consists of all galaxies. \n",
        "\n",
        "**PyAutoGalaxy** plot tools allow us to plot this image or a subplot containing images of each individual galaxy."
      ]
    },
    {
      "cell_type": "code",
      "metadata": {},
      "source": [
        "image = plane.image_2d_from(grid=grid)\n",
        "\n",
        "plane_plotter = aplt.PlanePlotter(plane=plane, grid=grid)\n",
        "plane_plotter.figures_2d(image=True)\n",
        "plane_plotter.subplot_galaxy_images()"
      ],
      "outputs": [],
      "execution_count": null
    },
    {
      "cell_type": "markdown",
      "metadata": {},
      "source": [
        "__Extending Objects__\n",
        "\n",
        "The PyAutoGalaxy API isn designed such that all of the objects introduced above are extensible. `Galaxy` objects \n",
        "can take many `LightProfile`'s and `Plane`'s many `Galaxy`'s. \n",
        "\n",
        "To finish, lets create a `Plane` with 2 merging galaxies, where the second galaxy has multiple star forming clumps."
      ]
    },
    {
      "cell_type": "code",
      "metadata": {},
      "source": [
        "galaxy_0 = ag.Galaxy(\n",
        "    redshift=0.5,\n",
        "    bulge=ag.lmp.Sersic(\n",
        "        centre=(0.0, 0.0),\n",
        "        ell_comps=(0.0, 0.05),\n",
        "        intensity=0.5,\n",
        "        effective_radius=0.3,\n",
        "        sersic_index=3.5,\n",
        "        mass_to_light_ratio=0.6,\n",
        "    ),\n",
        "    disk=ag.lmp.Exponential(\n",
        "        centre=(0.0, 0.0),\n",
        "        ell_comps=(0.0, 0.1),\n",
        "        intensity=1.0,\n",
        "        effective_radius=2.0,\n",
        "        mass_to_light_ratio=0.2,\n",
        "    ),\n",
        ")\n",
        "\n",
        "galaxy_1 = ag.Galaxy(\n",
        "    redshift=1.0,\n",
        "    bulge=ag.lp.Exponential(\n",
        "        centre=(0.00, 0.00),\n",
        "        ell_comps=(0.05, 0.05),\n",
        "        intensity=1.2,\n",
        "        effective_radius=0.1,\n",
        "    ),\n",
        "    clump_0=ag.lp.Sersic(centre=(1.0, 1.0), intensity=0.5, effective_radius=0.2),\n",
        "    clump_1=ag.lp.Sersic(centre=(0.5, 0.8), intensity=0.5, effective_radius=0.2),\n",
        "    clump_2=ag.lp.Sersic(centre=(-1.0, -0.7), intensity=0.5, effective_radius=0.2),\n",
        ")\n",
        "\n",
        "plane = ag.Plane(galaxies=[galaxy_0, galaxy_1])"
      ],
      "outputs": [],
      "execution_count": null
    },
    {
      "cell_type": "markdown",
      "metadata": {},
      "source": [
        "This is what the merging galaxies look like:"
      ]
    },
    {
      "cell_type": "code",
      "metadata": {},
      "source": [
        "plane_plotter = aplt.PlanePlotter(plane=plane, grid=grid)\n",
        "plane_plotter.figures_2d(image=True)"
      ],
      "outputs": [],
      "execution_count": null
    },
    {
      "cell_type": "markdown",
      "metadata": {},
      "source": [
        "__Wrap Up__\n",
        "\n",
        "A more detailed description of these **PyAutoGalaxy** objects is given in chapter 1 of the **HowToGalaxy** \n",
        "tutorials, which I strongly advise new users check out!"
      ]
    },
    {
      "cell_type": "code",
      "metadata": {},
      "source": [],
      "outputs": [],
      "execution_count": null
    }
  ],
  "metadata": {
    "anaconda-cloud": {},
    "kernelspec": {
      "display_name": "Python 3",
      "language": "python",
      "name": "python3"
    },
    "language_info": {
      "codemirror_mode": {
        "name": "ipython",
        "version": 3
      },
      "file_extension": ".py",
      "mimetype": "text/x-python",
      "name": "python",
      "nbconvert_exporter": "python",
      "pygments_lexer": "ipython3",
      "version": "3.6.1"
    }
  },
  "nbformat": 4,
  "nbformat_minor": 4
}