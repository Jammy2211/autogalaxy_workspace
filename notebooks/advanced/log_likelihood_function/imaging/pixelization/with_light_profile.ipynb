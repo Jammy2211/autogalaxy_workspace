{
  "cells": [
    {
      "cell_type": "markdown",
      "metadata": {},
      "source": [
        "__Log Likelihood Function: Pixelization With Light Profile__\n",
        "\n",
        "This script describes how a pixelization, with light profiles or linear light profiles included, changes the likelihood\n",
        "calculation of a pixelization.\n",
        "\n",
        "It directly follows on from the `pixelization/log_likelihood_function.py` notebook and you should read through that\n",
        "script before reading this script.\n",
        "\n",
        "__Prerequisites__\n",
        "\n",
        "You must read through the following likelihood functions first:\n",
        "\n",
        " - `pixelization/log_likelihood_function.py` the likelihood function for a pixelization."
      ]
    },
    {
      "cell_type": "code",
      "metadata": {},
      "source": [
        "\n",
        "%matplotlib inline\n",
        "from pyprojroot import here\n",
        "workspace_path = str(here())\n",
        "%cd $workspace_path\n",
        "print(f\"Working Directory has been set to `{workspace_path}`\")\n",
        "\n",
        "import matplotlib.pyplot as plt\n",
        "import numpy as np\n",
        "from pathlib import Path\n",
        "\n",
        "import autogalaxy as ag\n",
        "import autogalaxy.plot as aplt"
      ],
      "outputs": [],
      "execution_count": null
    },
    {
      "cell_type": "markdown",
      "metadata": {},
      "source": [
        "__Dataset__\n",
        "\n",
        "Following the `pixelization/log_likelihood_function.py` script, we load and mask an `Imaging` dataset and\n",
        "set oversampling to 1."
      ]
    },
    {
      "cell_type": "code",
      "metadata": {},
      "source": [
        "dataset_path = Path(\"dataset\", \"imaging\", \"simple\")\n",
        "\n",
        "dataset = ag.Imaging.from_fits(\n",
        "    data_path=dataset_path / \"data.fits\",\n",
        "    psf_path=dataset_path / \"psf.fits\",\n",
        "    noise_map_path=dataset_path / \"noise_map.fits\",\n",
        "    pixel_scales=0.1,\n",
        ")\n",
        "\n",
        "mask = ag.Mask2D.circular(\n",
        "    shape_native=dataset.shape_native, pixel_scales=dataset.pixel_scales, radius=3.0\n",
        ")\n",
        "\n",
        "masked_dataset = dataset.apply_mask(mask=mask)\n",
        "\n",
        "masked_dataset = masked_dataset.apply_over_sampling(\n",
        "    over_sample_size_lp=1, over_sample_size_pixelization=1\n",
        ")"
      ],
      "outputs": [],
      "execution_count": null
    },
    {
      "cell_type": "markdown",
      "metadata": {},
      "source": [
        "__With Standard Light Profiles__\n",
        "\n",
        "Combining standard light profiles with a pixelization is simple, and basically changes the pixelization likelihood\n",
        "function as follows:\n",
        "\n",
        "1) The image of the light profiles are computed, summed and convolved with the PSF using the standard methods.\n",
        "\n",
        "2) This image is subtracted from the observed image to create a light subtracted image, which is the image that\n",
        "   enters the pixelization linear inversion calculation.\n",
        "\n",
        "3) The light profile images are addded back on to the pixelization's reconstructed image to create the model image\n",
        "   that is compared to the observed image.\n",
        "\n",
        "The code below repeats the `pixelization/log_likelihood_function.py` example, but with the addition of the light \n",
        "profiles.\n",
        "\n",
        "Text is only included for steps which differ from the example in `pixelization/log_likelihood_function.py`.\n",
        "\n",
        "__Galaxy__\n",
        "\n",
        "The light profiles are created and combined with the `Pixelization` to create a `Galaxy` object."
      ]
    },
    {
      "cell_type": "code",
      "metadata": {},
      "source": [
        "bulge = ag.lp.Sersic(\n",
        "    centre=(0.0, 0.0),\n",
        "    ell_comps=ag.convert.ell_comps_from(axis_ratio=0.9, angle=45.0),\n",
        "    intensity=0.2,\n",
        "    effective_radius=0.8,\n",
        "    sersic_index=4.0,\n",
        ")\n",
        "\n",
        "disk = ag.lp.Exponential(\n",
        "    centre=(0.0, 0.0),\n",
        "    ell_comps=ag.convert.ell_comps_from(axis_ratio=0.7, angle=30.0),\n",
        "    intensity=0.1,\n",
        "    effective_radius=1.6,\n",
        ")\n",
        "\n",
        "pixelization = ag.Pixelization(\n",
        "    mesh=ag.mesh.Rectangular(shape=(30, 30)),\n",
        "    regularization=ag.reg.Constant(coefficient=1.0),\n",
        ")\n"
      ],
      "outputs": [],
      "execution_count": null
    },
    {
      "cell_type": "markdown",
      "metadata": {},
      "source": [
        "__Light Subtracted Image__\n",
        "\n",
        "The image of the light profiles is computed, convolved with the PSF and subtracted from the observed image\n",
        "to create the light subtracted image which will be input to the pixelization linear inversion."
      ]
    },
    {
      "cell_type": "code",
      "metadata": {},
      "source": [
        "galaxy = ag.Galaxy(redshift=0.5, bulge=bulge, disk=disk, pixelization=pixelization)\n",
        "\n",
        "image = galaxy.image_2d_from(grid=masked_dataset.grid)\n",
        "blurring_image_2d = galaxy.image_2d_from(grid=masked_dataset.grids.blurring)\n",
        "\n",
        "convolved_image_2d = masked_dataset.convolver.convolve_image(\n",
        "    image=image, blurring_image=blurring_image_2d\n",
        ")\n",
        "\n",
        "light_subtracted_image_2d = masked_dataset.data - convolved_image_2d\n",
        "\n",
        "array_2d_plotter = aplt.Array2DPlotter(array=light_subtracted_image_2d)\n",
        "array_2d_plotter.figure_2d()"
      ],
      "outputs": [],
      "execution_count": null
    },
    {
      "cell_type": "markdown",
      "metadata": {},
      "source": [
        "__Mapping Matrix__\n",
        "\n",
        "Steps creating the `mapping_matrix` and blurred_mapping_matrix` are identical to the previous example."
      ]
    },
    {
      "cell_type": "code",
      "metadata": {},
      "source": [
        "grid_rectangular = ag.Mesh2DRectangular.overlay_grid(\n",
        "    shape_native=galaxy.pixelization.mesh.shape, grid=masked_dataset.grids.pixelization\n",
        ")\n",
        "\n",
        "mapper_grids = ag.MapperGrids(\n",
        "    mask=mask,\n",
        "    source_plane_data_grid=masked_dataset.grids.pixelization,\n",
        "    source_plane_mesh_grid=grid_rectangular,\n",
        ")\n",
        "\n",
        "mapper = ag.Mapper(\n",
        "    mapper_grids=mapper_grids,\n",
        "    regularization=None,\n",
        ")\n",
        "\n",
        "mapping_matrix = ag.util.mapper.mapping_matrix_from(\n",
        "    pix_indexes_for_sub_slim_index=mapper.pix_indexes_for_sub_slim_index,\n",
        "    pix_size_for_sub_slim_index=mapper.pix_sizes_for_sub_slim_index,  # unused for rectangular\n",
        "    pix_weights_for_sub_slim_index=mapper.pix_weights_for_sub_slim_index,  # unused for rectangular\n",
        "    pixels=mapper.pixels,\n",
        "    total_mask_pixels=mapper.source_plane_data_grid.mask.pixels_in_mask,\n",
        "    slim_index_for_sub_slim_index=mapper.slim_index_for_sub_slim_index,\n",
        "    sub_fraction=np.array(mapper.over_sampler.sub_fraction),\n",
        ")\n",
        "\n",
        "blurred_mapping_matrix = masked_dataset.convolver.convolve_mapping_matrix(\n",
        "    mapping_matrix=mapping_matrix\n",
        ")"
      ],
      "outputs": [],
      "execution_count": null
    },
    {
      "cell_type": "markdown",
      "metadata": {},
      "source": [
        "__Data Vector (D)__\n",
        "\n",
        "The step which creates the `data_vector` is updated, as it now receives the light subtracted image as input.\n",
        "\n",
        "The `data_vector`, $D$, is now defined algebraically as \n",
        "\n",
        " $\\vec{D}_{i} = \\sum_{\\rm  j=1}^{J}f_{ij}(d_{j} - b_{j})/\\sigma_{j}^2 \\, \\, .$\n",
        "\n",
        "Where:\n",
        "\n",
        " - $d_{\\rm j}$ are again the image-pixel data flux values and $\\sigma{\\rm _j}^2$ are the statistical uncertainties of each image-pixel value.\n",
        " - $b_{\\rm j}$ is a new quantity, they are the brightness values of the bulge and disk light model (therefore $d_{\\rm  j} - b_{\\rm j}$ is \n",
        " the bulge and disk light subtracted image).\n",
        "\n",
        "$i$ maps over all $I$ source pixels and $j$ maps over all $J$ image pixels. "
      ]
    },
    {
      "cell_type": "code",
      "metadata": {},
      "source": [
        "data_vector = ag.util.inversion_imaging.data_vector_via_blurred_mapping_matrix_from(\n",
        "    blurred_mapping_matrix=blurred_mapping_matrix,\n",
        "    image=np.array(light_subtracted_image_2d),\n",
        "    noise_map=np.array(masked_dataset.noise_map),\n",
        ")"
      ],
      "outputs": [],
      "execution_count": null
    },
    {
      "cell_type": "markdown",
      "metadata": {},
      "source": [
        "__Linear Alegbra__\n",
        "\n",
        "Steps creating the `curvature_matrix` and other quantities are identical."
      ]
    },
    {
      "cell_type": "code",
      "metadata": {},
      "source": [
        "curvature_matrix = ag.util.inversion.curvature_matrix_via_mapping_matrix_from(\n",
        "    mapping_matrix=blurred_mapping_matrix, noise_map=masked_dataset.noise_map\n",
        ")\n",
        "\n",
        "regularization_matrix = ag.util.regularization.constant_regularization_matrix_from(\n",
        "    coefficient=galaxy.pixelization.regularization.coefficient,\n",
        "    neighbors=mapper.source_plane_mesh_grid.neighbors,\n",
        "    neighbors_sizes=mapper.source_plane_mesh_grid.neighbors.sizes,\n",
        ")\n",
        "\n",
        "curvature_reg_matrix = np.add(curvature_matrix, regularization_matrix)\n",
        "\n",
        "reconstruction = np.linalg.solve(curvature_reg_matrix, data_vector)\n",
        "\n",
        "mapped_reconstructed_image_2d = (\n",
        "    ag.util.inversion.mapped_reconstructed_data_via_mapping_matrix_from(\n",
        "        mapping_matrix=blurred_mapping_matrix, reconstruction=reconstruction\n",
        "    )\n",
        ")\n",
        "\n",
        "mapped_reconstructed_image_2d = ag.Array2D(\n",
        "    values=mapped_reconstructed_image_2d, mask=mask\n",
        ")\n",
        "\n",
        "array_2d_plotter = aplt.Array2DPlotter(array=mapped_reconstructed_image_2d)\n",
        "array_2d_plotter.figure_2d()"
      ],
      "outputs": [],
      "execution_count": null
    },
    {
      "cell_type": "markdown",
      "metadata": {},
      "source": [
        "__Model Image__\n",
        "\n",
        "Whereas previously the model image was only the reconstructed image, it now includes the light profile image.\n",
        "\n",
        "The following chi-squared is therefore now minimized when we perform the inversion and reconstruct the galaxy:\n",
        "\n",
        "$\\chi^2 = \\sum_{\\rm  j=1}^{J} \\bigg[ \\frac{(\\sum_{\\rm  i=1}^{I} s_{i} f_{ij}) + b_{j} - d_{j}}{\\sigma_{j}} \\bigg]$"
      ]
    },
    {
      "cell_type": "code",
      "metadata": {},
      "source": [
        "\n",
        "model_image = convolved_image_2d + mapped_reconstructed_image_2d\n",
        "\n",
        "residual_map = masked_dataset.data - model_image\n",
        "normalized_residual_map = residual_map / masked_dataset.noise_map\n",
        "chi_squared_map = normalized_residual_map**2.0\n",
        "\n",
        "chi_squared = np.sum(chi_squared_map)\n",
        "\n",
        "print(chi_squared)"
      ],
      "outputs": [],
      "execution_count": null
    },
    {
      "cell_type": "markdown",
      "metadata": {},
      "source": [
        "__Likelihood Function__\n",
        "\n",
        "The overall likelihood function is the same as before, except the model image now includes the light profiles."
      ]
    },
    {
      "cell_type": "code",
      "metadata": {},
      "source": [
        "model_image = convolved_image_2d + mapped_reconstructed_image_2d\n",
        "\n",
        "residual_map = masked_dataset.data - model_image\n",
        "normalized_residual_map = residual_map / masked_dataset.noise_map\n",
        "chi_squared_map = normalized_residual_map**2.0\n",
        "\n",
        "chi_squared = np.sum(chi_squared_map)\n",
        "\n",
        "print(chi_squared)"
      ],
      "outputs": [],
      "execution_count": null
    },
    {
      "cell_type": "markdown",
      "metadata": {},
      "source": [
        "__With Linear Light Profiles__\n",
        "\n",
        "Code examples of how linear light profiles are combined with a pixelization are not provided in this script, as they\n",
        "are not yet written.\n",
        "\n",
        "Conceptually, the main difference between linear light profiles and standard light profiles is that the linear light\n",
        "profiles enter the linear algebra calculations and are solved for simultaneously with the pixelization. A summary of\n",
        "how this changes the calculation is provided below:\n",
        "\n",
        "- The data fitted is now the original data and does not have the light profiles subtracted from it, as the linear\n",
        "  algebra calculation now solves for the light profiles simultaneously with the pixelization.\n",
        "\n",
        "- The `mapping_matrix`, which for a pixelization has shape `(total_image_pixels, total_pixelization_pixels)`, has \n",
        "  rows added to it for every linear light profile, meaning its \n",
        "  shape is `(total_image_pixels, total_pixelization_pixels + total_linear_light_profiles)`.\n",
        " \n",
        "- Each light profile column of this `mapping_matrix` is the image of each linear light profile, meaning that their\n",
        " `intensity` values are solved for simultaneously with the pixelization's `flux` values.\n",
        "\n",
        "- The use of the positive only solver for the reconstruction is more important, because linear light profiles and\n",
        "  pixelizations can trade-off negative values between one another and produce unphysical solutions.\n",
        "\n",
        "Other than the above change, the calculation is performed in an identical manner to the pixelization example."
      ]
    },
    {
      "cell_type": "code",
      "metadata": {},
      "source": [],
      "outputs": [],
      "execution_count": null
    }
  ],
  "metadata": {
    "anaconda-cloud": {},
    "kernelspec": {
      "display_name": "Python 3",
      "language": "python",
      "name": "python3"
    },
    "language_info": {
      "codemirror_mode": {
        "name": "ipython",
        "version": 3
      },
      "file_extension": ".py",
      "mimetype": "text/x-python",
      "name": "python",
      "nbconvert_exporter": "python",
      "pygments_lexer": "ipython3",
      "version": "3.6.1"
    }
  },
  "nbformat": 4,
  "nbformat_minor": 4
}