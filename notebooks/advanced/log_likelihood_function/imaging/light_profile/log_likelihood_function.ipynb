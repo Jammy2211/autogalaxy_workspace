{
  "cells": [
    {
      "cell_type": "markdown",
      "metadata": {},
      "source": [
        "__Log Likelihood Function: Light Profile__\n",
        "\n",
        "This script provides a step-by-step guide of the `log_likelihood_function` which is used to fit `Imaging` data with\n",
        "parametric light profiles (e.g. a Sersic bulge and Exponential disk).\n",
        "\n",
        "This script has the following aims:\n",
        "\n",
        " - To provide a resource that authors can include in papers, so that readers can understand the likelihood\n",
        " function (including references to the previous literature from which it is defined) without having to\n",
        " write large quantities of text and equations.\n",
        "\n",
        "Accompanying this script is the `contributor_guide.py` which provides URL's to every part of the source-code that\n",
        "is illustrated in this guide. This gives contributors a sequential run through of what source-code functions, modules and\n",
        "packages are called when the likelihood is evaluated."
      ]
    },
    {
      "cell_type": "code",
      "metadata": {},
      "source": [
        "\n",
        "%matplotlib inline\n",
        "from pyprojroot import here\n",
        "workspace_path = str(here())\n",
        "%cd $workspace_path\n",
        "print(f\"Working Directory has been set to `{workspace_path}`\")\n",
        "\n",
        "import matplotlib.pyplot as plt\n",
        "import numpy as np\n",
        "from os import path\n",
        "\n",
        "import autogalaxy as ag\n",
        "import autogalaxy.plot as aplt"
      ],
      "outputs": [],
      "execution_count": null
    },
    {
      "cell_type": "markdown",
      "metadata": {},
      "source": [
        "__Dataset__\n",
        "\n",
        "In order to perform a likelihood evaluation, we first load a dataset.\n",
        "\n",
        "This example fits a simulated galaxy where the imaging resolution is 0.1 arcsecond-per-pixel resolution."
      ]
    },
    {
      "cell_type": "code",
      "metadata": {},
      "source": [
        "dataset_path = path.join(\"dataset\", \"imaging\", \"simple\")\n",
        "\n",
        "dataset = ag.Imaging.from_fits(\n",
        "    data_path=path.join(dataset_path, \"data.fits\"),\n",
        "    psf_path=path.join(dataset_path, \"psf.fits\"),\n",
        "    noise_map_path=path.join(dataset_path, \"noise_map.fits\"),\n",
        "    pixel_scales=0.1,\n",
        ")"
      ],
      "outputs": [],
      "execution_count": null
    },
    {
      "cell_type": "markdown",
      "metadata": {},
      "source": [
        "This guide uses in-built visualization tools for plotting. \n",
        "\n",
        "For example, using the `ImagingPlotter` the imaging dataset we perform a likelihood evaluation on is plotted."
      ]
    },
    {
      "cell_type": "code",
      "metadata": {},
      "source": [
        "dataset_plotter = aplt.ImagingPlotter(dataset=dataset)\n",
        "dataset_plotter.subplot_dataset()"
      ],
      "outputs": [],
      "execution_count": null
    },
    {
      "cell_type": "markdown",
      "metadata": {},
      "source": [
        "__Mask__\n",
        "\n",
        "The likelihood is only evaluated using image pixels contained within a 2D mask, which we choose before performing\n",
        "a likelihood evaluation.\n",
        "\n",
        "We define a 2D circular mask with a 3.0\" radius."
      ]
    },
    {
      "cell_type": "code",
      "metadata": {},
      "source": [
        "mask = ag.Mask2D.circular(\n",
        "    shape_native=dataset.shape_native, pixel_scales=dataset.pixel_scales, radius=3.0\n",
        ")\n",
        "\n",
        "masked_dataset = dataset.apply_mask(mask=mask)"
      ],
      "outputs": [],
      "execution_count": null
    },
    {
      "cell_type": "markdown",
      "metadata": {},
      "source": [
        "When we plot the masked imaging, only the circular masked region is shown."
      ]
    },
    {
      "cell_type": "code",
      "metadata": {},
      "source": [
        "dataset_plotter = aplt.ImagingPlotter(dataset=masked_dataset)\n",
        "dataset_plotter.subplot_dataset()"
      ],
      "outputs": [],
      "execution_count": null
    },
    {
      "cell_type": "markdown",
      "metadata": {},
      "source": [
        "__Over Sampling__\n",
        "\n",
        "Over sampling evaluates a light profile using multiple samples of its intensity per image-pixel.\n",
        "\n",
        "For simplicity, we disable over sampling in this guide by setting `sub_size=1`. \n",
        "\n",
        "A full description of over sampling and how to use it is given in `autogalaxy_workspace/*/guides/over_sampling.py`."
      ]
    },
    {
      "cell_type": "code",
      "metadata": {},
      "source": [
        "masked_dataset = masked_dataset.apply_over_sampling(over_sample_size_lp=1)"
      ],
      "outputs": [],
      "execution_count": null
    },
    {
      "cell_type": "markdown",
      "metadata": {},
      "source": [
        "__Masked Image Grid__\n",
        "\n",
        "To perform galaxy calculations we define a 2D image-plane grid of (y,x) coordinates.\n",
        "\n",
        "These are given by `masked_dataset.grids.lp`, which we can plot and see is a uniform grid of (y,x) Cartesian \n",
        "coordinates which have had the 3.0\" circular mask applied.\n",
        "\n",
        "Each (y,x) coordinate coordinates to the centre of each image-pixel in the dataset, meaning that when this grid is\n",
        "used to evaluate a light profile the intensity of the profile at the centre of each image-pixel is computed, making\n",
        "it straight forward to compute the light profile's image to the image data."
      ]
    },
    {
      "cell_type": "code",
      "metadata": {},
      "source": [
        "grid_plotter = aplt.Grid2DPlotter(grid=masked_dataset.grids.lp)\n",
        "grid_plotter.figure_2d()\n",
        "\n",
        "print(\n",
        "    f\"(y,x) coordinates of first ten unmasked image-pixels {masked_dataset.grid[0:9]}\"\n",
        ")"
      ],
      "outputs": [],
      "execution_count": null
    },
    {
      "cell_type": "markdown",
      "metadata": {},
      "source": [
        "To perform light profile calculations we convert this 2D (y,x) grid of coordinates to elliptical coordinates:\n",
        "\n",
        " $\\eta = \\sqrt{(x - x_c)^2 + (y - y_c)^2/q^2}$\n",
        "\n",
        "Where:\n",
        "\n",
        " - $y$ and $x$ are the (y,x) arc-second coordinates of each unmasked image-pixel, given by `masked_dataset.grids.lp`.\n",
        " - $y_c$ and $x_c$ are the (y,x) arc-second `centre` of the light or mass profile.\n",
        " - $q$ is the axis-ratio of the elliptical light or mass profile (`axis_ratio=1.0` for spherical profiles).\n",
        " - The elliptical coordinates are rotated by a position angle, defined counter-clockwise from the positive \n",
        " x-axis.\n",
        "\n",
        "$q$ and $\\phi$ are not used to parameterize a light profile but expresses these  as \"elliptical components\", \n",
        "or `ell_comps` for short:\n",
        "\n",
        "$\\epsilon_{1} =\\frac{1-q}{1+q} \\sin 2\\phi, \\,\\,$\n",
        "$\\epsilon_{2} =\\frac{1-q}{1+q} \\cos 2\\phi.$"
      ]
    },
    {
      "cell_type": "code",
      "metadata": {},
      "source": [
        "profile = ag.EllProfile(centre=(0.1, 0.2), ell_comps=(0.1, 0.2))"
      ],
      "outputs": [],
      "execution_count": null
    },
    {
      "cell_type": "markdown",
      "metadata": {},
      "source": [
        "Transform `masked_dataset.grids.lp` to the centre of profile and rotate it using its angle."
      ]
    },
    {
      "cell_type": "code",
      "metadata": {},
      "source": [
        "transformed_grid = profile.transformed_to_reference_frame_grid_from(\n",
        "    grid=masked_dataset.grids.lp\n",
        ")\n",
        "\n",
        "grid_plotter = aplt.Grid2DPlotter(grid=transformed_grid)\n",
        "grid_plotter.figure_2d()\n",
        "print(\n",
        "    f\"transformed coordinates of first ten unmasked image-pixels {transformed_grid[0:9]}\"\n",
        ")"
      ],
      "outputs": [],
      "execution_count": null
    },
    {
      "cell_type": "markdown",
      "metadata": {},
      "source": [
        "Using these transformed (y',x') values we compute the elliptical coordinates $\\eta = \\sqrt{(x')^2 + (y')^2/q^2}$"
      ]
    },
    {
      "cell_type": "code",
      "metadata": {},
      "source": [
        "elliptical_radii = profile.elliptical_radii_grid_from(grid=transformed_grid)\n",
        "\n",
        "print(\n",
        "    f\"elliptical coordinates of first ten unmasked image-pixels {elliptical_radii[0:9]}\"\n",
        ")"
      ],
      "outputs": [],
      "execution_count": null
    },
    {
      "cell_type": "markdown",
      "metadata": {},
      "source": [
        "__Light Profiles (Setup)__\n",
        "\n",
        "To perform a likelihood evaluation we now compose our galaxy model.\n",
        "\n",
        "We first define the light profiles which represents the galaxy's light, in this case its bulge and disk, which will be \n",
        "used to fit the galaxy light.\n",
        "\n",
        "A light profile is defined by its intensity $I (\\eta_{\\rm l}) $, for example the Sersic profile:\n",
        "\n",
        "$I_{\\rm  Ser} (\\eta_{\\rm l}) = I \\exp \\bigg\\{ -k \\bigg[ \\bigg( \\frac{\\eta}{R} \\bigg)^{\\frac{1}{n}} - 1 \\bigg] \\bigg\\}$\n",
        "\n",
        "Where:\n",
        "\n",
        " - $\\eta$ are the elliptical coordinates (see above).\n",
        " - $I$ is the `intensity`, which controls the overall brightness of the Sersic profile.\n",
        " - $n$ is the ``sersic_index``, which via $k$ controls the steepness of the inner profile.\n",
        " - $R$ is the `effective_radius`, which defines the arc-second radius of a circle containing half the light.\n",
        "\n",
        "In this example, we assume our galaxy is composed of two light profiles, an elliptical Sersic and Exponential (a Sersic\n",
        "where `sersic_index=4`) which represent the bulge and disk of the galaxy. "
      ]
    },
    {
      "cell_type": "code",
      "metadata": {},
      "source": [
        "bulge = ag.lp.Sersic(\n",
        "    centre=(0.0, 0.0),\n",
        "    ell_comps=ag.convert.ell_comps_from(axis_ratio=0.9, angle=45.0),\n",
        "    intensity=1.0,\n",
        "    effective_radius=0.6,\n",
        "    sersic_index=3.0,\n",
        ")\n",
        "\n",
        "disk = ag.lp.Exponential(\n",
        "    centre=(0.0, 0.0),\n",
        "    ell_comps=ag.convert.ell_comps_from(axis_ratio=0.7, angle=30.0),\n",
        "    intensity=0.5,\n",
        "    effective_radius=1.6,\n",
        ")"
      ],
      "outputs": [],
      "execution_count": null
    },
    {
      "cell_type": "markdown",
      "metadata": {},
      "source": [
        "Using the masked 2D grid defined above, we can calculate and plot images of each light profile component.\n",
        "\n",
        "(The transformation to elliptical coordinates above are built into the `image_2d_from` function and performed \n",
        "implicitly)."
      ]
    },
    {
      "cell_type": "code",
      "metadata": {},
      "source": [
        "image_2d_bulge = bulge.image_2d_from(grid=masked_dataset.grid)\n",
        "\n",
        "bulge_plotter = aplt.LightProfilePlotter(light_profile=bulge, grid=masked_dataset.grid)\n",
        "bulge_plotter.figures_2d(image=True)\n",
        "\n",
        "image_2d_disk = disk.image_2d_from(grid=masked_dataset.grid)\n",
        "\n",
        "disk_plotter = aplt.LightProfilePlotter(light_profile=disk, grid=masked_dataset.grid)\n",
        "disk_plotter.figures_2d(image=True)"
      ],
      "outputs": [],
      "execution_count": null
    },
    {
      "cell_type": "markdown",
      "metadata": {},
      "source": [
        "__Galaxy__\n",
        "\n",
        "We now combine the light profiles into a single `Galaxy` object.\n",
        "\n",
        "When computing quantities for the light profiles from this object, it computes each individual quantity and \n",
        "adds them together. \n",
        "\n",
        "For example, for the `bulge` and `disk`, when it computes their 2D images it computes each individually and then adds\n",
        "them together."
      ]
    },
    {
      "cell_type": "code",
      "metadata": {},
      "source": [
        "galaxy = ag.Galaxy(redshift=0.5, bulge=bulge, disk=disk)"
      ],
      "outputs": [],
      "execution_count": null
    },
    {
      "cell_type": "markdown",
      "metadata": {},
      "source": [
        "__Galaxy Image__\n",
        "\n",
        "Compute a 2D image of the galaxy's light as the sum of its individual light profiles (the `Sersic` \n",
        "bulge and `Exponential` disk). \n",
        "\n",
        "This computes the `image` of each light profile and adds them together. "
      ]
    },
    {
      "cell_type": "code",
      "metadata": {},
      "source": [
        "galaxy_image_2d = galaxy.image_2d_from(grid=masked_dataset.grid)\n",
        "\n",
        "galaxy_plotter = aplt.GalaxyPlotter(galaxy=galaxy, grid=masked_dataset.grid)\n",
        "galaxy_plotter.figures_2d(image=True)"
      ],
      "outputs": [],
      "execution_count": null
    },
    {
      "cell_type": "markdown",
      "metadata": {},
      "source": [
        "To convolve the galaxy's 2D image with the imaging data's PSF, we need its `blurring_image`. \n",
        "\n",
        "This represents all flux values not within the mask, which are close enough to it that their flux blurs into the mask \n",
        "after PSF convolution.\n",
        "\n",
        "To compute this, a `blurring_mask` and `blurring_grid` are used, corresponding to these pixels near the edge of the \n",
        "actual mask whose light blurs into the image:"
      ]
    },
    {
      "cell_type": "code",
      "metadata": {},
      "source": [
        "galaxy_blurring_image_2d = galaxy.image_2d_from(grid=masked_dataset.grids.blurring)\n",
        "\n",
        "galaxy_plotter = aplt.GalaxyPlotter(galaxy=galaxy, grid=masked_dataset.grids.blurring)\n",
        "galaxy_plotter.figures_2d(image=True)"
      ],
      "outputs": [],
      "execution_count": null
    },
    {
      "cell_type": "markdown",
      "metadata": {},
      "source": [
        "__Convolution__\n",
        "\n",
        "Convolve the 2D image of the galaxy above with the PSF in real-space (as opposed to via an FFT) using a `Convolver`."
      ]
    },
    {
      "cell_type": "code",
      "metadata": {},
      "source": [
        "convolved_image_2d = masked_dataset.convolver.convolve_image(\n",
        "    image=galaxy_image_2d, blurring_image=galaxy_blurring_image_2d\n",
        ")\n",
        "\n",
        "array_2d_plotter = aplt.Array2DPlotter(array=convolved_image_2d)\n",
        "array_2d_plotter.figure_2d()"
      ],
      "outputs": [],
      "execution_count": null
    },
    {
      "cell_type": "markdown",
      "metadata": {},
      "source": [
        "__Likelihood Function__\n",
        "\n",
        "We now quantify the goodness-of-fit of our galaxy model.\n",
        "\n",
        "We compute the `log_likelihood` of the fit, which is the value returned by the `log_likelihood_function`.\n",
        "\n",
        "The likelihood function for parametric galaxy modeling consists of two terms:\n",
        "\n",
        " $-2 \\mathrm{ln} \\, \\epsilon = \\chi^2 + \\sum_{\\rm  j=1}^{J} { \\mathrm{ln}} \\left [2 \\pi (\\sigma_j)^2 \\right]  \\, .$\n",
        "\n",
        "We now explain what each of these terms mean.\n",
        "\n",
        "__Chi Squared__\n",
        "\n",
        "The first term is a $\\chi^2$ statistic, which is defined above in our merit function as and is computed as follows:\n",
        "\n",
        " - `model_data` = `convolved_image_2d`\n",
        " - `residual_map` = (`data` - `model_data`)\n",
        " - `normalized_residual_map` = (`data` - `model_data`) / `noise_map`\n",
        " - `chi_squared_map` = (`normalized_residuals`) ** 2.0 = ((`data` - `model_data`)**2.0)/(`variances`)\n",
        " - `chi_squared` = sum(`chi_squared_map`)\n",
        "\n",
        "The chi-squared therefore quantifies if our fit to the data is accurate or not. \n",
        "\n",
        "High values of chi-squared indicate that there are many image pixels our model did not produce a good fit to the image \n",
        "for, corresponding to a fit with a lower likelihood."
      ]
    },
    {
      "cell_type": "code",
      "metadata": {},
      "source": [
        "model_image = convolved_image_2d\n",
        "\n",
        "residual_map = masked_dataset.data - model_image\n",
        "normalized_residual_map = residual_map / masked_dataset.noise_map\n",
        "chi_squared_map = normalized_residual_map**2.0\n",
        "\n",
        "chi_squared = np.sum(chi_squared_map)\n",
        "\n",
        "print(chi_squared)"
      ],
      "outputs": [],
      "execution_count": null
    },
    {
      "cell_type": "markdown",
      "metadata": {},
      "source": [
        "The `chi_squared_map` indicates which regions of the image we did and did not fit accurately."
      ]
    },
    {
      "cell_type": "code",
      "metadata": {},
      "source": [
        "chi_squared_map = ag.Array2D(values=chi_squared_map, mask=mask)\n",
        "\n",
        "array_2d_plotter = aplt.Array2DPlotter(array=chi_squared_map)\n",
        "array_2d_plotter.figure_2d()"
      ],
      "outputs": [],
      "execution_count": null
    },
    {
      "cell_type": "markdown",
      "metadata": {},
      "source": [
        "__Noise Normalization Term__\n",
        "\n",
        "Our likelihood function assumes the imaging data consists of independent Gaussian noise in every image pixel.\n",
        "\n",
        "The final term in the likelihood function is therefore a `noise_normalization` term, which consists of the sum\n",
        "of the log of every noise-map value squared. \n",
        "\n",
        "Given the `noise_map` is fixed, this term does not change during the galaxy modeling process and has no impact on the \n",
        "model we infer."
      ]
    },
    {
      "cell_type": "code",
      "metadata": {},
      "source": [
        "noise_normalization = float(np.sum(np.log(2 * np.pi * masked_dataset.noise_map**2.0)))"
      ],
      "outputs": [],
      "execution_count": null
    },
    {
      "cell_type": "markdown",
      "metadata": {},
      "source": [
        "__Calculate The Log Likelihood__\n",
        "\n",
        "We can now, finally, compute the `log_likelihood` of the galaxy model, by combining the two terms computed above using\n",
        "the likelihood function defined above."
      ]
    },
    {
      "cell_type": "code",
      "metadata": {},
      "source": [
        "figure_of_merit = float(-0.5 * (chi_squared + noise_normalization))\n",
        "\n",
        "print(figure_of_merit)"
      ],
      "outputs": [],
      "execution_count": null
    },
    {
      "cell_type": "markdown",
      "metadata": {},
      "source": [
        "__Fit__\n",
        "\n",
        "This 6 step process to perform a likelihood function evaluation is what is performed in the `FitImaging` object."
      ]
    },
    {
      "cell_type": "code",
      "metadata": {},
      "source": [
        "galaxies = ag.Galaxies(galaxies=[galaxy])\n",
        "\n",
        "fit = ag.FitImaging(dataset=masked_dataset, galaxies=galaxies)\n",
        "fit_figure_of_merit = fit.figure_of_merit\n",
        "print(fit_figure_of_merit)\n",
        "\n",
        "fit_plotter = aplt.FitInterferometerPlotter(fit=fit)\n",
        "fit_plotter.subplot_fit()\n"
      ],
      "outputs": [],
      "execution_count": null
    },
    {
      "cell_type": "markdown",
      "metadata": {},
      "source": [
        "__Galaxy Modeling__\n",
        "\n",
        "To fit a galaxy model to data, the likelihood function illustrated in this tutorial is sampled using a\n",
        "non-linear search algorithm.\n",
        "\n",
        "The default sampler is the nested sampling algorithm `nautilus` (https://github.com/joshspeagle/nautilus)\n",
        "but **PyAutoGalaxy** supports multiple MCMC and optimization algorithms. \n",
        "\n",
        "__Wrap Up__\n",
        "\n",
        "We have presented a visual step-by-step guide to the parametric likelihood function, which uses \n",
        "analytic light profiles to fit the galaxy light.\n",
        "\n",
        "There are a number of other inputs features which slightly change the behaviour of this likelihood function, which\n",
        "are described in additional notebooks found in the `guides` package:\n",
        "\n",
        " - `over_sampling`: Oversampling the image grid into a finer grid of sub-pixels, which are all individually \n",
        " ray-traced to the source-plane and used to evaluate the light profile more accurately."
      ]
    },
    {
      "cell_type": "code",
      "metadata": {},
      "source": [],
      "outputs": [],
      "execution_count": null
    }
  ],
  "metadata": {
    "anaconda-cloud": {},
    "kernelspec": {
      "display_name": "Python 3",
      "language": "python",
      "name": "python3"
    },
    "language_info": {
      "codemirror_mode": {
        "name": "ipython",
        "version": 3
      },
      "file_extension": ".py",
      "mimetype": "text/x-python",
      "name": "python",
      "nbconvert_exporter": "python",
      "pygments_lexer": "ipython3",
      "version": "3.6.1"
    }
  },
  "nbformat": 4,
  "nbformat_minor": 4
}