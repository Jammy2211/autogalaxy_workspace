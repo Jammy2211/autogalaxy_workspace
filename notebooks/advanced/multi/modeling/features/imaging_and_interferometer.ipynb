{
  "cells": [
    {
      "cell_type": "markdown",
      "metadata": {},
      "source": [
        "Modeling: Imaging & Interferometer\n",
        "==================================\n",
        "\n",
        "This script fits an `Imaging` dataset of a galaxy with a model where:\n",
        "\n",
        " - The galaxy's light is a linear parametric `Sersic` bulge and `Exponential` disk.\n",
        "\n",
        "__Benefits__\n",
        "\n",
        "A number of benefits are apparent if we combine the analysis of both datasets at both wavelengths:\n",
        "\n",
        " - The galaxy appears completely different in the g-band and at sub-millimeter wavelengths, providing a lot\n",
        " more information with which to constrain the galaxy structure."
      ]
    },
    {
      "cell_type": "code",
      "metadata": {},
      "source": [
        "\n",
        "%matplotlib inline\n",
        "from pyprojroot import here\n",
        "workspace_path = str(here())\n",
        "%cd $workspace_path\n",
        "print(f\"Working Directory has been set to `{workspace_path}`\")\n",
        "\n",
        "from pathlib import Path\n",
        "import autofit as af\n",
        "import autogalaxy as ag\n",
        "import autogalaxy.plot as aplt\n",
        "import numpy as np"
      ],
      "outputs": [],
      "execution_count": null
    },
    {
      "cell_type": "markdown",
      "metadata": {},
      "source": [
        "__Interferometer Masking__\n",
        "\n",
        "We define the \u2018real_space_mask\u2019 which defines the grid the image the galaxy is evaluated using."
      ]
    },
    {
      "cell_type": "code",
      "metadata": {},
      "source": [
        "real_space_mask = ag.Mask2D.circular(\n",
        "    shape_native=(800, 800), pixel_scales=0.05, radius=4.0\n",
        ")"
      ],
      "outputs": [],
      "execution_count": null
    },
    {
      "cell_type": "markdown",
      "metadata": {},
      "source": [
        "__Interferometer Dataset__\n",
        "\n",
        "Load and plot the galaxy `Interferometer` dataset `simple` from .fits files, which we will fit \n",
        "with the galaxy model."
      ]
    },
    {
      "cell_type": "code",
      "metadata": {},
      "source": [
        "dataset_type = \"multi\"\n",
        "dataset_label = \"interferometer\"\n",
        "dataset_name = \"simple\"\n",
        "dataset_path = Path(\"dataset\") / dataset_type / dataset_label / dataset_name\n",
        "\n",
        "interferometer = ag.Interferometer.from_fits(\n",
        "    data_path=dataset_path / \"data.fits\",\n",
        "    noise_map_path=dataset_path / \"noise_map.fits\",\n",
        "    uv_wavelengths_path=Path(dataset_path, \"uv_wavelengths.fits\"),\n",
        "    real_space_mask=real_space_mask,\n",
        "    transformer_class=ag.TransformerNUFFT,\n",
        ")\n",
        "\n",
        "interferometer_plotter = aplt.InterferometerPlotter(dataset=interferometer)\n",
        "interferometer_plotter.subplot_dataset()\n",
        "interferometer_plotter.subplot_dirty_images()\n"
      ],
      "outputs": [],
      "execution_count": null
    },
    {
      "cell_type": "markdown",
      "metadata": {},
      "source": [
        "__Imaging Dataset__\n",
        "\n",
        "Load and plot the galaxy dataset `simple` via .fits files, which we will fit with the galaxy model."
      ]
    },
    {
      "cell_type": "code",
      "metadata": {},
      "source": [
        "dataset_type = \"multi\"\n",
        "dataset_label = \"imaging\"\n",
        "dataset_name = \"simple\"\n",
        "dataset_path = Path(\"dataset\") / dataset_type / dataset_label / dataset_name\n",
        "\n",
        "imaging = ag.Imaging.from_fits(\n",
        "    data_path=Path(dataset_path, \"g_data.fits\"),\n",
        "    psf_path=Path(dataset_path, \"g_psf.fits\"),\n",
        "    noise_map_path=Path(dataset_path, \"g_noise_map.fits\"),\n",
        "    pixel_scales=0.08,\n",
        ")\n",
        "\n",
        "imaging_plotter = aplt.ImagingPlotter(dataset=imaging)\n",
        "imaging_plotter.subplot_dataset()"
      ],
      "outputs": [],
      "execution_count": null
    },
    {
      "cell_type": "markdown",
      "metadata": {},
      "source": [
        "__Imaging Masking__\n",
        "\n",
        "The model-fit requires a `Mask2D` defining the regions of the image we fit the galaxy model to the data, which we define\n",
        "and use to set up the `Imaging` object that the galaxy model fits."
      ]
    },
    {
      "cell_type": "code",
      "metadata": {},
      "source": [
        "mask = ag.Mask2D.circular(\n",
        "    shape_native=imaging.shape_native, pixel_scales=imaging.pixel_scales, radius=3.0\n",
        ")\n",
        "\n",
        "imaging = imaging.apply_mask(mask=mask)\n",
        "\n",
        "imaging_plotter = aplt.ImagingPlotter(dataset=imaging)\n",
        "imaging_plotter.subplot_dataset()\n"
      ],
      "outputs": [],
      "execution_count": null
    },
    {
      "cell_type": "markdown",
      "metadata": {},
      "source": [
        "__Analysis__\n",
        "\n",
        "We create analysis objects for both datasets."
      ]
    },
    {
      "cell_type": "code",
      "metadata": {},
      "source": [
        "analysis_imaging = ag.AnalysisImaging(dataset=imaging)\n",
        "analysis_interferometer = ag.AnalysisInterferometer(dataset=interferometer)"
      ],
      "outputs": [],
      "execution_count": null
    },
    {
      "cell_type": "markdown",
      "metadata": {},
      "source": [
        "We now combine them using the factor analysis class, which allows us to fit the two datasets simultaneously.\n",
        "\n",
        "Imaging and interferometer datasets observe completely different properties of the, such that the galaxy appears \n",
        "completely different in the imaging data (e.g. optical emission) and sub-millimeter wavelengths, meaning a completely \n",
        "different model should be used for each dataset.\n",
        "\n",
        "For this reason, we move all model composition to the `AnalysisFactor` class, which allows us to fit the two datasets\n",
        "simultaneously but with different models.\n",
        "\n",
        "There is actually no benefit to fitting both simultaneously when the model for each fit is completely different, \n",
        "so this is simply an illustration of how to combine two different datasets. However, if you do this combination\n",
        "of datasets you should not do them simultaneously unless you update the model to link them together."
      ]
    },
    {
      "cell_type": "code",
      "metadata": {},
      "source": [
        "analysis_factor_list = []\n",
        "\n",
        "for analysis in [analysis_imaging, analysis_interferometer]:\n",
        "\n",
        "    bulge = af.Model(ag.lp_linear.Sersic)\n",
        "    disk = af.Model(ag.lp_linear.Exponential)\n",
        "\n",
        "    galaxy = af.Model(ag.Galaxy, redshift=0.5, bulge=bulge, disk=disk)\n",
        "\n",
        "    model_analysis = af.Collection(galaxies=af.Collection(galaxy=galaxy))\n",
        "\n",
        "    analysis_factor = af.AnalysisFactor(prior_model=model_analysis, analysis=analysis)\n",
        "\n",
        "    analysis_factor_list.append(analysis_factor)\n",
        "\n",
        "factor_graph = af.FactorGraphModel(*analysis_factor_list)"
      ],
      "outputs": [],
      "execution_count": null
    },
    {
      "cell_type": "markdown",
      "metadata": {},
      "source": [
        "The `info` of the model shows us there are two models, one for the imaging dataset and one for the interferometer\n",
        "dataset. "
      ]
    },
    {
      "cell_type": "code",
      "metadata": {},
      "source": [
        "print(factor_graph.global_prior_model.info)"
      ],
      "outputs": [],
      "execution_count": null
    },
    {
      "cell_type": "markdown",
      "metadata": {},
      "source": [
        "__Search__"
      ]
    },
    {
      "cell_type": "code",
      "metadata": {},
      "source": [
        "search = af.Nautilus(\n",
        "    path_prefix=Path(\"multi\") / \"modeling\",\n",
        "    name=\"imaging_and_interferometer\",\n",
        "    unique_tag=dataset_name,\n",
        "    n_live=100,\n",
        ")"
      ],
      "outputs": [],
      "execution_count": null
    },
    {
      "cell_type": "markdown",
      "metadata": {},
      "source": [
        "__Model-Fit__"
      ]
    },
    {
      "cell_type": "code",
      "metadata": {},
      "source": [
        "result_list = search.fit(model=factor_graph.global_prior_model, analysis=factor_graph)"
      ],
      "outputs": [],
      "execution_count": null
    },
    {
      "cell_type": "markdown",
      "metadata": {},
      "source": [
        "__Result__\n",
        "\n",
        "The search returns a result object, which includes: \n",
        "\n",
        " - The galaxy model corresponding to the maximum log likelihood solution in parameter space.\n",
        " - The corresponding maximum log likelihood `Galaxies` and `FitInterferometer` objects.\n",
        " - Information on the posterior as estimated by the `Nautilus` non-linear search."
      ]
    },
    {
      "cell_type": "code",
      "metadata": {},
      "source": [
        "print(result_list[0].max_log_likelihood_instance)\n",
        "\n",
        "galaxies_plotter = aplt.GalaxiesPlotter(\n",
        "    galaxies=result_list[0].max_log_likelihood_galaxies,\n",
        "    grid=real_space_mask.derive_grid.unmasked,\n",
        ")\n",
        "galaxies_plotter.subplot_galaxies()\n",
        "\n",
        "fit_plotter = aplt.FitImagingPlotter(fit=result_list[0].max_log_likelihood_fit)\n",
        "fit_plotter.subplot_fit()\n",
        "\n",
        "fit_plotter = aplt.FitInterferometerPlotter(fit=result_list[1].max_log_likelihood_fit)\n",
        "fit_plotter.subplot_fit()\n",
        "fit_plotter.subplot_fit_dirty_images()\n",
        "\n",
        "plotter = aplt.NestPlotter(samples=result_list.samples)\n",
        "plotter.corner_cornerpy()"
      ],
      "outputs": [],
      "execution_count": null
    },
    {
      "cell_type": "markdown",
      "metadata": {},
      "source": [
        "Checkout `autogalaxy_workspace/*/results` for a full description of analysing results in **PyAutoGalaxy**."
      ]
    },
    {
      "cell_type": "code",
      "metadata": {},
      "source": [],
      "outputs": [],
      "execution_count": null
    }
  ],
  "metadata": {
    "anaconda-cloud": {},
    "kernelspec": {
      "display_name": "Python 3",
      "language": "python",
      "name": "python3"
    },
    "language_info": {
      "codemirror_mode": {
        "name": "ipython",
        "version": 3
      },
      "file_extension": ".py",
      "mimetype": "text/x-python",
      "name": "python",
      "nbconvert_exporter": "python",
      "pygments_lexer": "ipython3",
      "version": "3.6.1"
    }
  },
  "nbformat": 4,
  "nbformat_minor": 4
}