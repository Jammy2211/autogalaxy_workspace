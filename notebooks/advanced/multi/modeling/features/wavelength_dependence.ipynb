{
  "cells": [
    {
      "cell_type": "markdown",
      "metadata": {},
      "source": [
        "Modeling: Wavelength Dependence\n",
        "===============================\n",
        "\n",
        "This script fits a multi-wavelength `Imaging` dataset of a galaxy with a model where:\n",
        "\n",
        " - The galaxy's light is a linear parametric `Sersic` bulge and `Exponential` disk.\n",
        "\n",
        "Three images are fitted, corresponding to a green ('g' band), red (`r` band) and near infrared ('I' band) images.\n",
        "\n",
        "This script assumes previous knowledge of the `multi` modeling API found in other scripts in the `multi/modeling`\n",
        "package. If anything is unclear check those scripts out.\n",
        "\n",
        "__Effective Radius vs Wavelength__\n",
        "\n",
        "Unlike other `multi` modeling scripts, the effective radius of the galaxy's bulge and disk are modeled as a user defined\n",
        "function of wavelength, for example following a relation `y = (m * x) + c` -> `effective_radius = (m * wavelength) + c`.\n",
        "\n",
        "By using a linear relation `y = mx + c` the free parameters are `m` and `c`, which does not scale with the number\n",
        "of datasets. For datasets with multi-wavelength images (e.g. 5 or more) this allows us to parameterize the variation\n",
        "of parameters across the datasets in a way that does not lead to a very complex parameter space.\n",
        "\n",
        "If a free `effective radius` is created for every dataset, this would add 5+ free parameters to the model for 5+ datasets."
      ]
    },
    {
      "cell_type": "code",
      "metadata": {},
      "source": [
        "\n",
        "%matplotlib inline\n",
        "from pyprojroot import here\n",
        "workspace_path = str(here())\n",
        "%cd $workspace_path\n",
        "print(f\"Working Directory has been set to `{workspace_path}`\")\n",
        "\n",
        "from pathlib import Path\n",
        "\n",
        "import autofit as af\n",
        "import autogalaxy as ag\n",
        "import autogalaxy.plot as aplt"
      ],
      "outputs": [],
      "execution_count": null
    },
    {
      "cell_type": "markdown",
      "metadata": {},
      "source": [
        "__Colors__\n",
        "\n",
        "The colors of the multi-wavelength image, which in this case are green (g-band), red (r-band) and \n",
        "near infrared (I-band).\n",
        "\n",
        "The strings are used for load each dataset."
      ]
    },
    {
      "cell_type": "code",
      "metadata": {},
      "source": [
        "color_list = [\"g\", \"r\", \"I\"]"
      ],
      "outputs": [],
      "execution_count": null
    },
    {
      "cell_type": "markdown",
      "metadata": {},
      "source": [
        "__Wavelengths__\n",
        "\n",
        "The effective radius of each source galaxy is parameterized as a function of wavelength.\n",
        "\n",
        "Therefore we define a list of wavelengths of each color above."
      ]
    },
    {
      "cell_type": "code",
      "metadata": {},
      "source": [
        "wavelength_list = [464, 658, 806]"
      ],
      "outputs": [],
      "execution_count": null
    },
    {
      "cell_type": "markdown",
      "metadata": {},
      "source": [
        "__Pixel Scales__\n",
        "\n",
        "Every multi-wavelength dataset can have its own unique pixel-scale."
      ]
    },
    {
      "cell_type": "code",
      "metadata": {},
      "source": [
        "pixel_scales_list = [0.08, 0.12, 0.012]"
      ],
      "outputs": [],
      "execution_count": null
    },
    {
      "cell_type": "markdown",
      "metadata": {},
      "source": [
        "__Dataset__\n",
        "\n",
        "Load and plot each multi-wavelength galaxy dataset, using a list of their waveband colors."
      ]
    },
    {
      "cell_type": "code",
      "metadata": {},
      "source": [
        "dataset_type = \"multi\"\n",
        "dataset_label = \"imaging\"\n",
        "dataset_name = \"wavelength_dependence\"\n",
        "\n",
        "dataset_path = Path(\"dataset\") / dataset_type / dataset_label / dataset_name\n",
        "\n",
        "dataset_list = [\n",
        "    ag.Imaging.from_fits(\n",
        "        data_path=Path(dataset_path) / f\"{color}_data.fits\",\n",
        "        psf_path=Path(dataset_path) / f\"{color}_psf.fits\",\n",
        "        noise_map_path=Path(dataset_path) / f\"{color}_noise_map.fits\",\n",
        "        pixel_scales=pixel_scales,\n",
        "    )\n",
        "    for color, pixel_scales in zip(color_list, pixel_scales_list)\n",
        "]\n",
        "\n",
        "for dataset in dataset_list:\n",
        "    dataset_plotter = aplt.ImagingPlotter(dataset=dataset)\n",
        "    dataset_plotter.subplot_dataset()"
      ],
      "outputs": [],
      "execution_count": null
    },
    {
      "cell_type": "markdown",
      "metadata": {},
      "source": [
        "__Mask__\n",
        "\n",
        "The model-fit requires a `Mask2D` defining the regions of the image we fit the galaxy model to the data, which we define\n",
        "and use to set up the `Imaging` object that the galaxy model fits.\n",
        "\n",
        "For multi-wavelength galaxy modeling, we use the same mask for every dataset whenever possible. This is not\n",
        "absolutely necessary, but provides a more reliable analysis."
      ]
    },
    {
      "cell_type": "code",
      "metadata": {},
      "source": [
        "mask_list = [\n",
        "    ag.Mask2D.circular(\n",
        "        shape_native=dataset.shape_native, pixel_scales=dataset.pixel_scales, radius=3.0\n",
        "    )\n",
        "    for dataset in dataset_list\n",
        "]\n",
        "\n",
        "dataset_list = [\n",
        "    dataset.apply_mask(mask=mask) for imaging, mask in zip(dataset_list, mask_list)\n",
        "]\n",
        "\n",
        "for dataset in dataset_list:\n",
        "    dataset_plotter = aplt.ImagingPlotter(dataset=dataset)\n",
        "    dataset_plotter.subplot_dataset()"
      ],
      "outputs": [],
      "execution_count": null
    },
    {
      "cell_type": "markdown",
      "metadata": {},
      "source": [
        "__Analysis__\n",
        "\n",
        "We create an `Analysis` object for every dataset."
      ]
    },
    {
      "cell_type": "code",
      "metadata": {},
      "source": [
        "analysis_list = [ag.AnalysisImaging(dataset=dataset) for dataset in dataset_list]"
      ],
      "outputs": [],
      "execution_count": null
    },
    {
      "cell_type": "markdown",
      "metadata": {},
      "source": [
        "__Model__\n",
        "\n",
        "We compose our galaxy model using `Model` objects, which represent the galaxies we fit to our data. In this \n",
        "example we fit a galaxy model where:\n",
        "\n",
        " - The galaxy's bulge is a linear parametric `Sersic` bulge [6 parameters]. \n",
        " \n",
        " - The galaxy's disk is a linear parametric `Exponential` disk [6 parameters].\n",
        "\n",
        "The number of free parameters and therefore the dimensionality of non-linear parameter space is N=15."
      ]
    },
    {
      "cell_type": "code",
      "metadata": {},
      "source": [
        "bulge = af.Model(ag.lp_linear.Sersic)\n",
        "disk = af.Model(ag.lp_linear.Exponential)\n",
        "\n",
        "galaxy = af.Model(ag.Galaxy, redshift=0.5, bulge=bulge, disk=disk)\n",
        "\n",
        "model = af.Collection(galaxies=af.Collection(galaxy=galaxy))"
      ],
      "outputs": [],
      "execution_count": null
    },
    {
      "cell_type": "markdown",
      "metadata": {},
      "source": [
        "__Model + Analysis__\n",
        "\n",
        "We now make the galaxy bulge and disk `effective_radius` a free parameter across every analysis object.\n",
        "\n",
        "We will assume that the `effective_radius` of the galaxy linearly varies as a function of wavelength, and therefore \n",
        "compute the `effective_radius` value for each color image using a linear relation `y = mx + c`.\n",
        "\n",
        "The function below is not used to compose the model, but illustrates how the `effective_radius` values were computed\n",
        "in the corresponding `wavelength_dependence` simulator script."
      ]
    },
    {
      "cell_type": "code",
      "metadata": {},
      "source": [
        "\n",
        "\n",
        "def bulge_effective_radius_from(wavelength):\n",
        "    m = 1.0 / 100.0  # bulge appears brighter with increasing wavelength\n",
        "    c = 3\n",
        "\n",
        "    return m * wavelength + c\n",
        "\n",
        "\n",
        "def disk_effective_radius_from(wavelength):\n",
        "    m = -(1.2 / 100.0)  # disk appears fainter with increasing wavelength\n",
        "    c = 10\n",
        "\n",
        "    return m * wavelength + c\n"
      ],
      "outputs": [],
      "execution_count": null
    },
    {
      "cell_type": "markdown",
      "metadata": {},
      "source": [
        "To parameterize the above relation as a model, we compose `m` and `c` as priors and use PyAutoFit's prior arithmatic\n",
        "to compose a model as a linear relation."
      ]
    },
    {
      "cell_type": "code",
      "metadata": {},
      "source": [
        "bulge_m = af.UniformPrior(lower_limit=-0.1, upper_limit=0.1)\n",
        "bulge_c = af.UniformPrior(lower_limit=-10.0, upper_limit=10.0)\n",
        "\n",
        "disk_m = af.UniformPrior(lower_limit=-0.1, upper_limit=0.1)\n",
        "disk_c = af.UniformPrior(lower_limit=-10.0, upper_limit=10.0)"
      ],
      "outputs": [],
      "execution_count": null
    },
    {
      "cell_type": "markdown",
      "metadata": {},
      "source": [
        "The free parameters of our model there are no longer `effective_radius` values, but the parameters `m` and `c` in the relation\n",
        "above. \n",
        "\n",
        "The model complexity therefore does not increase as we add more parameters to the model."
      ]
    },
    {
      "cell_type": "code",
      "metadata": {},
      "source": [
        "\n",
        "analysis_factor_list = []\n",
        "\n",
        "for wavelength, analysis in zip(wavelength_list, analysis_list):\n",
        "    bulge_effective_radius = (wavelength * bulge_m) + bulge_c\n",
        "    disk_effective_radius = (wavelength * disk_m) + disk_c\n",
        "\n",
        "    model_analysis = model.copy()\n",
        "\n",
        "    model_analysis.galaxies.galaxy.bulge.effective_radius = bulge_effective_radius\n",
        "    model_analysis.galaxies.galaxy.disk.effective_radius = disk_effective_radius\n",
        "\n",
        "    analysis_factor = af.AnalysisFactor(prior_model=model_analysis, analysis=analysis)\n",
        "\n",
        "    analysis_factor_list.append(analysis_factor)"
      ],
      "outputs": [],
      "execution_count": null
    },
    {
      "cell_type": "markdown",
      "metadata": {},
      "source": [
        "The factor graph is created and its info can be printed after the relational model has been defined."
      ]
    },
    {
      "cell_type": "code",
      "metadata": {},
      "source": [
        "factor_graph = af.FactorGraphModel(*analysis_factor_list)\n",
        "\n",
        "print(factor_graph.global_prior_model.info)"
      ],
      "outputs": [],
      "execution_count": null
    },
    {
      "cell_type": "markdown",
      "metadata": {},
      "source": [
        "__Search__\n",
        "\n",
        "The model is fitted to the data using a non-linear search. In this example, we use the nested sampling algorithm \n",
        "Nautilus (https://nautilus.readthedocs.io/en/latest/).\n",
        "\n",
        "A full description of the settings below is given in the beginner modeling scripts, if anything is unclear."
      ]
    },
    {
      "cell_type": "code",
      "metadata": {},
      "source": [
        "search = af.Nautilus(\n",
        "    path_prefix=Path(\"multi\") / \"modeling\",\n",
        "    name=\"wavelength_dependence\",\n",
        "    unique_tag=dataset_name,\n",
        "    n_live=100,\n",
        "    number_of_cores=1,\n",
        ")"
      ],
      "outputs": [],
      "execution_count": null
    },
    {
      "cell_type": "markdown",
      "metadata": {},
      "source": [
        "__Model-Fit__"
      ]
    },
    {
      "cell_type": "code",
      "metadata": {},
      "source": [
        "result_list = search.fit(model=factor_graph.global_prior_model, analysis=factor_graph)"
      ],
      "outputs": [],
      "execution_count": null
    },
    {
      "cell_type": "markdown",
      "metadata": {},
      "source": [
        "__Result__\n",
        "\n",
        "The result object returned by this model-fit is a list of `Result` objects, because we used a combined analysis.\n",
        "Each result corresponds to each analysis, and therefore corresponds to the model-fit at that wavelength.\n",
        "\n",
        "For example, close inspection of the `max_log_likelihood_instance` of the two results shows that all parameters,\n",
        "except the `effective_radius` of the source galaxy's `bulge`, are identical."
      ]
    },
    {
      "cell_type": "code",
      "metadata": {},
      "source": [
        "print(result_list[0].max_log_likelihood_instance)\n",
        "print(result_list[1].max_log_likelihood_instance)"
      ],
      "outputs": [],
      "execution_count": null
    },
    {
      "cell_type": "markdown",
      "metadata": {},
      "source": [
        "Plotting each result's galaxies shows that the source appears different, owning to its different intensities."
      ]
    },
    {
      "cell_type": "code",
      "metadata": {},
      "source": [
        "for result in result_list:\n",
        "    galaxies_plotter = aplt.GalaxiesPlotter(\n",
        "        galaxies=result.max_log_likelihood_galaxies, grid=result.grids.lp\n",
        "    )\n",
        "    galaxies_plotter.subplot_galaxies()\n",
        "\n",
        "    fit_plotter = aplt.FitImagingPlotter(fit=result.max_log_likelihood_fit)\n",
        "    fit_plotter.subplot_fit()"
      ],
      "outputs": [],
      "execution_count": null
    },
    {
      "cell_type": "markdown",
      "metadata": {},
      "source": [
        "The `Samples` object still has the dimensions of the overall non-linear search (in this case N=15). \n",
        "\n",
        "Therefore, the samples is identical in every result object."
      ]
    },
    {
      "cell_type": "code",
      "metadata": {},
      "source": [
        "for result in result_list:\n",
        "    plotter = aplt.NestPlotter(samples=result.samples)\n",
        "    plotter.corner_cornerpy()"
      ],
      "outputs": [],
      "execution_count": null
    },
    {
      "cell_type": "markdown",
      "metadata": {},
      "source": [
        "Checkout `autogalaxy_workspace/*/results` for a full description of analysing results in **PyAutoGalaxy**."
      ]
    },
    {
      "cell_type": "code",
      "metadata": {},
      "source": [],
      "outputs": [],
      "execution_count": null
    }
  ],
  "metadata": {
    "anaconda-cloud": {},
    "kernelspec": {
      "display_name": "Python 3",
      "language": "python",
      "name": "python3"
    },
    "language_info": {
      "codemirror_mode": {
        "name": "ipython",
        "version": 3
      },
      "file_extension": ".py",
      "mimetype": "text/x-python",
      "name": "python",
      "nbconvert_exporter": "python",
      "pygments_lexer": "ipython3",
      "version": "3.6.1"
    }
  },
  "nbformat": 4,
  "nbformat_minor": 4
}