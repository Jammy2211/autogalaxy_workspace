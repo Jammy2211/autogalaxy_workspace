{
  "cells": [
    {
      "cell_type": "markdown",
      "metadata": {},
      "source": [
        "Fits\n",
        "====\n",
        "\n",
        "This guide shows how to fit data using ellipse fitting and the `FitEllipse` object, including visualizing and\n",
        "interpreting its results.\n",
        "\n",
        "__Plot Module__\n",
        "\n",
        "This example uses the plot module to plot the results, including `Plotter` objects that make\n",
        "the figures and `MatPlot` objects that wrap matplotlib to customize the figures.\n",
        "\n",
        "The visualization API is straightforward but is explained in the `autogalaxy_workspace/*/plot` package in full.\n",
        "This includes detailed guides on how to customize every aspect of the figures, which can easily be combined with the\n",
        "code outlined in this tutoriag.\n",
        "\n",
        "__Units__\n",
        "\n",
        "In this example, all quantities are **PyAutoGalaxy**'s internal unit coordinates, with spatial coordinates in\n",
        "arc seconds, luminosities in electrons per second and mass quantities (e.g. convergence) are dimensionless.\n",
        "\n",
        "The guide `guides/units_and_cosmology.ipynb` illustrates how to convert these quantities to physical units like\n",
        "kiloparsecs, magnitudes and solar masses.\n",
        "\n",
        "__Data Structures__\n",
        "\n",
        "Quantities inspected in this example script use **PyAutoGalaxy** bespoke data structures for storing arrays, grids,\n",
        "vectors and other 1D and 2D quantities. These use the `slim` and `native` API to toggle between representing the\n",
        "data in 1D numpy arrays or high dimension numpy arrays.\n",
        "\n",
        "This tutorial will only use the `slim` properties which show results in 1D numpy arrays of\n",
        "shape [total_unmasked_pixels]. This is a slimmed-down representation of the data in 1D that contains only the\n",
        "unmasked data points\n",
        "\n",
        "These are documented fully in the `autogalaxy_workspace/*/guides/data_structures.ipynb` guide."
      ]
    },
    {
      "cell_type": "code",
      "metadata": {},
      "source": [
        "\n",
        "%matplotlib inline\n",
        "from pyprojroot import here\n",
        "workspace_path = str(here())\n",
        "%cd $workspace_path\n",
        "print(f\"Working Directory has been set to `{workspace_path}`\")\n",
        "\n",
        "import numpy as np\n",
        "from os import path\n",
        "import autogalaxy as ag\n",
        "import autogalaxy.plot as aplt"
      ],
      "outputs": [],
      "execution_count": null
    },
    {
      "cell_type": "markdown",
      "metadata": {},
      "source": [
        "__Loading Data__\n",
        "\n",
        "We we begin by loading the galaxy dataset `simple` from .fits files, which is the dataset we will use to demonstrate \n",
        "ellipse fitting.\n",
        "\n",
        "This uses the `Imaging` object used in other examples.\n",
        "\n",
        "Ellipse fitting does not use the Point Spread Function (PSF) of the dataset, so we do not need to load it."
      ]
    },
    {
      "cell_type": "code",
      "metadata": {},
      "source": [
        "dataset_name = \"ellipse\"\n",
        "dataset_path = path.join(\"dataset\", \"imaging\", dataset_name)\n",
        "\n",
        "dataset = ag.Imaging.from_fits(\n",
        "    data_path=path.join(dataset_path, \"data.fits\"),\n",
        "    noise_map_path=path.join(dataset_path, \"noise_map.fits\"),\n",
        "    pixel_scales=0.1,\n",
        ")"
      ],
      "outputs": [],
      "execution_count": null
    },
    {
      "cell_type": "markdown",
      "metadata": {},
      "source": [
        "We can use the `ImagingPlotter` to plot the image and noise-map of the dataset."
      ]
    },
    {
      "cell_type": "code",
      "metadata": {},
      "source": [
        "dataset_plotter = aplt.ImagingPlotter(dataset=dataset)\n",
        "dataset_plotter.figures_2d(data=True, noise_map=True)"
      ],
      "outputs": [],
      "execution_count": null
    },
    {
      "cell_type": "markdown",
      "metadata": {},
      "source": [
        "The `ImagingPlotter` also contains a subplot which plots all these properties simultaneously."
      ]
    },
    {
      "cell_type": "code",
      "metadata": {},
      "source": [
        "dataset_plotter = aplt.ImagingPlotter(dataset=dataset)\n",
        "dataset_plotter.subplot_dataset()"
      ],
      "outputs": [],
      "execution_count": null
    },
    {
      "cell_type": "markdown",
      "metadata": {},
      "source": [
        "__Mask__\n",
        "\n",
        "We now mask the data, so that regions where there is no signal (e.g. the edges) are omitted from the fit.\n",
        "\n",
        "We use a `Mask2D` object, which for this example is a 3.0\" circular mask."
      ]
    },
    {
      "cell_type": "code",
      "metadata": {},
      "source": [
        "mask = ag.Mask2D.circular(\n",
        "    shape_native=dataset.shape_native, pixel_scales=dataset.pixel_scales, radius=3.0\n",
        ")"
      ],
      "outputs": [],
      "execution_count": null
    },
    {
      "cell_type": "markdown",
      "metadata": {},
      "source": [
        "We now combine the imaging dataset with the mask."
      ]
    },
    {
      "cell_type": "code",
      "metadata": {},
      "source": [
        "dataset = dataset.apply_mask(mask=mask)"
      ],
      "outputs": [],
      "execution_count": null
    },
    {
      "cell_type": "markdown",
      "metadata": {},
      "source": [
        "We now plot the image with the mask applied, where the image automatically zooms around the mask to make the galaxy\n",
        "appear bigger."
      ]
    },
    {
      "cell_type": "code",
      "metadata": {},
      "source": [
        "dataset_plotter = aplt.ImagingPlotter(dataset=dataset)\n",
        "dataset_plotter.set_title(\"Image Data With Mask Applied\")\n",
        "dataset_plotter.figures_2d(data=True)"
      ],
      "outputs": [],
      "execution_count": null
    },
    {
      "cell_type": "markdown",
      "metadata": {},
      "source": [
        "The mask is also used to compute a `Grid2D`, where the (y,x) arc-second coordinates are only computed in unmasked\n",
        "pixels within the masks' circle.\n",
        "\n",
        "As shown in the previous overview example, this grid will be used to perform galaxying calculations when fitting the\n",
        "data below."
      ]
    },
    {
      "cell_type": "code",
      "metadata": {},
      "source": [
        "grid_plotter = aplt.Grid2DPlotter(grid=dataset.grid)\n",
        "grid_plotter.set_title(\"Grid2D of Masked Dataset\")\n",
        "grid_plotter.figure_2d()"
      ],
      "outputs": [],
      "execution_count": null
    },
    {
      "cell_type": "markdown",
      "metadata": {},
      "source": [
        "__Ellipse Interpolation__\n",
        "\n",
        "Ellipse fitting performs interpolation calculations which map each data and noise-map value of the dataset\n",
        "to coordinates on each ellipse we fit to the data.\n",
        "\n",
        "Interpolation is performed using the `DatasetInterp` object, which is created by simply inputting the dataset.\n",
        "The object stores in memory the interpolation weights and mappings, ensuring they are performed efficiently.\n",
        "\n",
        "This object is not passed to the `FitEllipse` object below, but is instead created inside of it to perform the\n",
        "interpolation. It is included in this example simply so that you are aware that this interpolation is performed."
      ]
    },
    {
      "cell_type": "code",
      "metadata": {},
      "source": [
        "interp = ag.DatasetInterp(dataset=dataset)"
      ],
      "outputs": [],
      "execution_count": null
    },
    {
      "cell_type": "markdown",
      "metadata": {},
      "source": [
        "To perform the interpolation we create an `Ellipse` object. "
      ]
    },
    {
      "cell_type": "code",
      "metadata": {},
      "source": [
        "ellipse = ag.Ellipse(centre=(0.0, 0.0), ell_comps=(0.0, 0.0), major_axis=1.0)"
      ],
      "outputs": [],
      "execution_count": null
    },
    {
      "cell_type": "markdown",
      "metadata": {},
      "source": [
        "We can use the `DatasetEllipsePlotter` to plot the ellipse over the dataset."
      ]
    },
    {
      "cell_type": "code",
      "metadata": {},
      "source": [
        "# dataset_plotter = aplt.DatasetEllipsePlotter(dataset=dataset, ellipse=ellipse)"
      ],
      "outputs": [],
      "execution_count": null
    },
    {
      "cell_type": "markdown",
      "metadata": {},
      "source": [
        "The ellipse has an attribute `points_from_major_axis` which is a subset of (y,x) coordinates on the ellipse that are\n",
        "equally spaced along the major-axis. \n",
        "\n",
        "The number of points is automatically computed based on the resolution of the data and the size of the ellipse's \n",
        "major-axis. \n",
        "\n",
        "This value is chosen to ensure that the number of points computed matches the number of pixels in the data\n",
        "which the ellipse interpolates over. If the ellipse is bigger, the number of points increases in order to\n",
        "ensure that the ellipse uses more of the data's pixels.\n",
        "\n",
        "To determine the number of pixels the ellipse's circular radius in units of pixels is required. This is\n",
        "why `pixel_scale` is an input parameter of this function and other functions in this class."
      ]
    },
    {
      "cell_type": "code",
      "metadata": {},
      "source": [
        "points_from_major_axis = ellipse.points_from_major_axis_from(\n",
        "    pixel_scale=dataset.pixel_scales[0]\n",
        ")\n",
        "\n",
        "print(\"Points on Major Axis of Ellipse:\")\n",
        "print(points_from_major_axis)"
      ],
      "outputs": [],
      "execution_count": null
    },
    {
      "cell_type": "markdown",
      "metadata": {},
      "source": [
        "These are the points which are passed into the `DatasetInterp` object to perform the interpolation.\n",
        "\n",
        "The output of the code below is therefore the data values of the dataset interpolated to these (y,x) coordinates on\n",
        "the ellipse."
      ]
    },
    {
      "cell_type": "code",
      "metadata": {},
      "source": [
        "data_interp = interp.data_interp(points_from_major_axis)\n",
        "\n",
        "print(\"Data Values Interpolated to Ellipse:\")\n",
        "print(data_interp)"
      ],
      "outputs": [],
      "execution_count": null
    },
    {
      "cell_type": "markdown",
      "metadata": {},
      "source": [
        "The same interpolation is performed on the noise-map of the dataset, for example to compute the chi-squared map."
      ]
    },
    {
      "cell_type": "code",
      "metadata": {},
      "source": [
        "noise_map_interp = interp.noise_map_interp(points_from_major_axis)\n",
        "\n",
        "print(\"Noise Values Interpolated to Ellipse:\")\n",
        "print(noise_map_interp)"
      ],
      "outputs": [],
      "execution_count": null
    },
    {
      "cell_type": "markdown",
      "metadata": {},
      "source": [
        "__Ellipse Fitting__\n",
        "\n",
        "Ellipse fitting behaves differently to light-profile fitting. In light-profile fitting, a model-image of\n",
        "the data is created and subtracted from the data pixel-by-pixel to create a residual-map, which is plotted in 2D\n",
        "in order to show where the model fit the data poorly.\n",
        "\n",
        "For ellipse fitting, it may be unclear what the `model_data` is, as a model image of the data is not created. \n",
        "\n",
        "However, the `model_data` has actually been computed in the interpolation above. The `model_data` is simply the \n",
        "data values interpolated to the ellipse's coordinates."
      ]
    },
    {
      "cell_type": "code",
      "metadata": {},
      "source": [
        "model_data = data_interp\n",
        "\n",
        "print(\"Model Data Values:\")\n",
        "print(model_data)"
      ],
      "outputs": [],
      "execution_count": null
    },
    {
      "cell_type": "markdown",
      "metadata": {},
      "source": [
        "If this is the model data, what is the residual map?\n",
        "\n",
        "The residual map is each value in the model data minus the mean of the model data. This is because the goodness-of-fit\n",
        "of an ellipse is quantified by how well the data values trace round the ellipse. A good fit means that all values\n",
        "on the ellipse are close to the mean of the data and a bad fit means they are not.\n",
        "\n",
        "The goal of the ellipse fitting is therefore to find the ellipses that trace round the data with values that are\n",
        "as close to one another as possible."
      ]
    },
    {
      "cell_type": "code",
      "metadata": {},
      "source": [
        "residual_map = data_interp - np.mean(data_interp)\n",
        "\n",
        "print(\"Residuals:\")\n",
        "print(residual_map)"
      ],
      "outputs": [],
      "execution_count": null
    },
    {
      "cell_type": "markdown",
      "metadata": {},
      "source": [
        "The `normalized_residual_map` and `chi_squared_map` follow the same definition as in light-profile fitting, where:\n",
        "\n",
        "- Normalized Residuals = (Residual Map) / Noise Map\n",
        "- Chi-Squared = ((Residuals) / (Noise)) ** 2.0\n",
        "\n",
        "Where the noise-map is the noise values interpolated to the ellipse."
      ]
    },
    {
      "cell_type": "code",
      "metadata": {},
      "source": [
        "normalized_residual_map = residual_map / noise_map_interp\n",
        "\n",
        "print(\"Normalized Residuals:\")\n",
        "print(normalized_residual_map)\n",
        "\n",
        "chi_squared_map = (residual_map / noise_map_interp) ** 2.0\n",
        "\n",
        "print(\"Chi-Squareds:\")\n",
        "print(chi_squared_map)"
      ],
      "outputs": [],
      "execution_count": null
    },
    {
      "cell_type": "markdown",
      "metadata": {},
      "source": [
        "Finally, the log likelihood of the fit is computed as:\n",
        "\n",
        " - log likelihood = -2.0 * (chi-squared)\n",
        " \n",
        "Note that, unlike light profile fitting, the log likelihood does not include the noise normalization term. This is\n",
        "because the noise normalization term varies numerically when the data is interpolated to the ellipse, making it\n",
        "unstable to include in the log likelihood."
      ]
    },
    {
      "cell_type": "code",
      "metadata": {},
      "source": [
        "log_likelihood = -2.0 * np.sum(chi_squared_map)\n",
        "\n",
        "print(\"Log Likelihood:\")\n",
        "print(log_likelihood)"
      ],
      "outputs": [],
      "execution_count": null
    },
    {
      "cell_type": "markdown",
      "metadata": {},
      "source": [
        "__FitEllipse__\n",
        "\n",
        "We now use a `FitEllipse` object to fit the ellipse to the dataset, which performs all the calculations we have\n",
        "discussed above and contains all the quantities we have inspected as attributes."
      ]
    },
    {
      "cell_type": "code",
      "metadata": {},
      "source": [
        "fit = ag.FitEllipse(dataset=dataset, ellipse=ellipse)\n",
        "\n",
        "print(\"Data Values Interpolated to Ellipse:\")\n",
        "print(fit.data_interp)\n",
        "print(\"Noise Values Interpolated to Ellipse:\")\n",
        "print(fit.noise_map_interp)\n",
        "print(\"Model Data Values:\")\n",
        "print(fit.model_data)\n",
        "print(\"Residuals:\")\n",
        "print(fit.residual_map)\n",
        "print(\"Normalized Residuals:\")\n",
        "print(fit.normalized_residual_map)\n",
        "print(\"Chi-Squareds:\")\n",
        "print(fit.chi_squared_map)\n",
        "print(\"Log Likelihood:\")\n",
        "print(fit.log_likelihood)"
      ],
      "outputs": [],
      "execution_count": null
    },
    {
      "cell_type": "markdown",
      "metadata": {},
      "source": [
        "The `FitEllipse` object can be input into a `FitEllipsePlotter` to plot the results of the fit in 2D on the \n",
        "interpolated ellipse coordinates.\n",
        "\n",
        "The plot below shows in white the ellipse fitted to the data and in black the contour of values in the data that\n",
        "match the mean of the data over the ellipse. \n",
        "\n",
        "A good fit indicates that the white ellipse traces round the black contour well, which is close for the example\n",
        "below but not perfect."
      ]
    },
    {
      "cell_type": "code",
      "metadata": {},
      "source": [
        "fit_plotter = aplt.FitEllipsePlotter(\n",
        "    fit_list=[fit], mat_plot_2d=aplt.MatPlot2D(use_log10=True)\n",
        ")\n",
        "fit_plotter.figures_2d(data=True)"
      ],
      "outputs": [],
      "execution_count": null
    },
    {
      "cell_type": "markdown",
      "metadata": {},
      "source": [
        "__Multiple Ellipses__\n",
        "\n",
        "It is rare to use only one ellipse to fit a galaxy, as the goal of ellipse fitting is to find the collection\n",
        "of ellipses that best trace round the data.\n",
        "\n",
        "For example, one model might consist ellipses, which all have the same `centre` and `ell_comps` but have different\n",
        "`major_axis` values, meaning they grow in size.\n",
        "\n",
        "We can therefore create multiple ellipses and fit them to the data, for example by creating a list of `FitEllipse`\n",
        "objects."
      ]
    },
    {
      "cell_type": "code",
      "metadata": {},
      "source": [
        "major_axis_list = [0.2, 0.4, 0.6, 0.8, 1.0, 1.2, 1.4, 1.6, 1.8, 2.0]\n",
        "\n",
        "ellipse_list = [\n",
        "    ag.Ellipse(centre=(0.0, 0.0), ell_comps=(0.3, 0.5), major_axis=major_axis)\n",
        "    for major_axis in major_axis_list\n",
        "]\n",
        "\n",
        "fit_list = [ag.FitEllipse(dataset=dataset, ellipse=ellipse) for ellipse in ellipse_list]\n",
        "\n",
        "print(\"Log Likelihoods of Multiple Ellipses:\")\n",
        "print([fit.log_likelihood for fit in fit_list])\n",
        "\n",
        "print(\"Overall Log Likelihood:\")\n",
        "print(sum([fit.log_likelihood for fit in fit_list]))\n",
        "\n",
        "fit_plotter = aplt.FitEllipsePlotter(\n",
        "    fit_list=fit_list, mat_plot_2d=aplt.MatPlot2D(use_log10=True)\n",
        ")\n",
        "fit_plotter.figures_2d(data=True)"
      ],
      "outputs": [],
      "execution_count": null
    },
    {
      "cell_type": "markdown",
      "metadata": {},
      "source": [
        "A subplot can be plotted which contains all of the above quantities."
      ]
    },
    {
      "cell_type": "code",
      "metadata": {},
      "source": [
        "# fit_plotter.subplot_fit()\n",
        "#\n",
        "# \"\"\"\n",
        "# __Bad Fit__\n",
        "#\n",
        "# A bad ellipse fit will occur when the ellipse model does not trace the data well, for example because the input\n",
        "# angle does not align with the galaxy's elliptical shape.\n",
        "#\n",
        "# We can produce such a fit by inputting an ellipse with an angle that is not aligned with the galaxy's elliptical shape.\n",
        "# \"\"\"\n",
        "# ellipse = ag.Ellipse(centre=(0.0, 0.0), ell_comps=(0.0, 0.0), major_axis=1.0)\n",
        "#\n",
        "# \"\"\"\n",
        "# A new fit using this plane shows residuals, normalized residuals and chi-squared which are non-zero.\n",
        "# \"\"\"\n",
        "# fit = ag.FitEllipse(dataset=dataset, ellipse=ellipse)\n",
        "#\n",
        "# # fit_plotter = aplt.FitEllipsePlotter(fit=fit)\n",
        "# # fit_plotter.subplot_fit()\n",
        "#\n",
        "# \"\"\"\n",
        "# We also note that its likelihood decreases.\n",
        "# \"\"\"\n",
        "print(fit.log_likelihood)\n",
        "#\n",
        "# \"\"\"\n",
        "# __Fit Quantities__\n",
        "#\n",
        "# The maximum log likelihood fit contains many 1D and 2D arrays showing the fit.\n",
        "#\n",
        "# There is a `model_image`, which is the image-plane image of the tracer we inspected in the previous tutorial\n",
        "# blurred with the imaging data's PSF.\n",
        "#\n",
        "# This is the image that is fitted to the data in order to compute the log likelihood and therefore quantify the\n",
        "# goodness-of-fit.\n",
        "#\n",
        "# If you are unclear on what `slim` means, refer to the section `Data Structure` at the top of this example.\n",
        "# \"\"\"\n",
        "print(fit.model_data.slim)\n",
        "#\n",
        "# # The native property provides quantities in 2D NumPy Arrays.\n",
        "# print(fit.model_data.native)\n",
        "#\n",
        "# \"\"\"\n",
        "# There are numerous ndarrays showing the goodness of fit:\n",
        "#\n",
        "#  - `residual_map`: Residuals = (Data - Model_Data).\n",
        "#  - `normalized_residual_map`: Normalized_Residual = (Data - Model_Data) / Noise\n",
        "#  - `chi_squared_map`: Chi_Squared = ((Residuals) / (Noise)) ** 2.0 = ((Data - Model)**2.0)/(Variances)\n",
        "# \"\"\"\n",
        "print(fit.residual_map.slim)\n",
        "print(fit.normalized_residual_map.slim)\n",
        "print(fit.chi_squared_map.slim)\n",
        "#\n",
        "# \"\"\"\n",
        "# __Figures of Merit__\n",
        "#\n",
        "# There are single valued floats which quantify the goodness of fit:\n",
        "#\n",
        "#  - `chi_squared`: The sum of the `chi_squared_map`.\n",
        "#\n",
        "#  - `noise_normalization`: The normalizing noise term in the likelihood function\n",
        "#     where [Noise_Term] = sum(log(2*pi*[Noise]**2.0)).\n",
        "#\n",
        "#  - `log_likelihood`: The log likelihood value of the fit where [LogLikelihood] = -0.5*[Chi_Squared_Term + Noise_Term].\n",
        "# \"\"\"\n",
        "print(fit.chi_squared)\n",
        "print(fit.noise_normalization)\n",
        "print(fit.log_likelihood)"
      ],
      "outputs": [],
      "execution_count": null
    },
    {
      "cell_type": "markdown",
      "metadata": {},
      "source": [
        "Fin."
      ]
    },
    {
      "cell_type": "code",
      "metadata": {},
      "source": [],
      "outputs": [],
      "execution_count": null
    }
  ],
  "metadata": {
    "anaconda-cloud": {},
    "kernelspec": {
      "display_name": "Python 3",
      "language": "python",
      "name": "python3"
    },
    "language_info": {
      "codemirror_mode": {
        "name": "ipython",
        "version": 3
      },
      "file_extension": ".py",
      "mimetype": "text/x-python",
      "name": "python",
      "nbconvert_exporter": "python",
      "pygments_lexer": "ipython3",
      "version": "3.6.1"
    }
  },
  "nbformat": 4,
  "nbformat_minor": 4
}