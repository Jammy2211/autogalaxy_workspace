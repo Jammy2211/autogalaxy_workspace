{
  "cells": [
    {
      "cell_type": "markdown",
      "metadata": {},
      "source": [
        "Multipoles\n",
        "==========\n",
        "\n",
        "This guide shows how to perform ellipse fitting and modeling with multipoles modeling.\n",
        "\n",
        "__Previous Examples__\n",
        "\n",
        "Ellipse fitting with multipoles is the most advanced form of ellipse fitting, therefore it is recommended that you\n",
        "are familiar with regular ellipse fitting before reading this example.\n",
        "\n",
        "To ensure this is the case, make sure you've complted the examples `fit.py` and `modeling.py`.\n",
        "\n",
        "For brevity, this example does not repeat the description of the API used to perform the fit and how the model is\n",
        "composed. It only discusses new aspects of the API that are used to perform multipoles modeling."
      ]
    },
    {
      "cell_type": "code",
      "metadata": {},
      "source": [
        "%matplotlib inline\n",
        "from pyprojroot import here\n",
        "workspace_path = str(here())\n",
        "%cd $workspace_path\n",
        "print(f\"Working Directory has been set to `{workspace_path}`\")\n",
        "\n",
        "import numpy as np\n",
        "from os import path\n",
        "import autofit as af\n",
        "import autogalaxy as ag\n",
        "import autogalaxy.plot as aplt"
      ],
      "outputs": [],
      "execution_count": null
    },
    {
      "cell_type": "markdown",
      "metadata": {},
      "source": [
        "__Loading Data__\n",
        "\n",
        "We we begin by loading the galaxy dataset `simple` from .fits files, which is the same dataset we fitted in the\n",
        "previous examples."
      ]
    },
    {
      "cell_type": "code",
      "metadata": {},
      "source": [
        "dataset_name = \"ellipse\"\n",
        "dataset_path = path.join(\"dataset\", \"imaging\", dataset_name)\n",
        "\n",
        "dataset = ag.Imaging.from_fits(\n",
        "    data_path=path.join(dataset_path, \"data.fits\"),\n",
        "    noise_map_path=path.join(dataset_path, \"noise_map.fits\"),\n",
        "    pixel_scales=0.1,\n",
        ")\n",
        "\n",
        "dataset_plotter = aplt.ImagingPlotter(dataset=dataset)\n",
        "dataset_plotter.figures_2d(data=True, noise_map=True)\n",
        "\n",
        "dataset_plotter = aplt.ImagingPlotter(dataset=dataset)\n",
        "dataset_plotter.subplot_dataset()"
      ],
      "outputs": [],
      "execution_count": null
    },
    {
      "cell_type": "markdown",
      "metadata": {},
      "source": [
        "__Mask__\n",
        "\n",
        "Mask the data and retain its radius to set up the ellipses in the model fitting."
      ]
    },
    {
      "cell_type": "code",
      "metadata": {},
      "source": [
        "mask_radius = 5.0\n",
        "\n",
        "mask = ag.Mask2D.circular(\n",
        "    shape_native=dataset.shape_native,\n",
        "    pixel_scales=dataset.pixel_scales,\n",
        "    radius=mask_radius,\n",
        ")\n",
        "\n",
        "dataset = dataset.apply_mask(mask=mask)\n",
        "\n",
        "dataset_plotter = aplt.ImagingPlotter(dataset=dataset)\n",
        "dataset_plotter.set_title(\"Image Data With Mask Applied\")\n",
        "dataset_plotter.figures_2d(data=True)"
      ],
      "outputs": [],
      "execution_count": null
    },
    {
      "cell_type": "markdown",
      "metadata": {},
      "source": [
        "__Multipole Fit__\n",
        "\n",
        "We have seen that we can create and fit an ellipse to the data as follows:"
      ]
    },
    {
      "cell_type": "code",
      "metadata": {},
      "source": [
        "ellipse = ag.Ellipse(centre=(0.0, 0.0), ell_comps=(0.0, 0.0), major_axis=1.0)\n",
        "\n",
        "fit = ag.FitEllipse(dataset=dataset, ellipse=ellipse)\n",
        "\n",
        "fit_plotter = aplt.FitEllipsePlotter(\n",
        "    fit_list=[fit], mat_plot_2d=aplt.MatPlot2D(use_log10=True)\n",
        ")\n",
        "fit_plotter.figures_2d(data=True)"
      ],
      "outputs": [],
      "execution_count": null
    },
    {
      "cell_type": "markdown",
      "metadata": {},
      "source": [
        "To perform ellipse fitting with multipoles, we simply create an `EllipseMultipole` object and pass it to \n",
        "the `FitEllipse` object along with the dataset and ellipse.\n",
        "\n",
        "We create a fourth order multipole, which quadrupole perturbations to the ellipse. This makes the ellipse\n",
        "appear more boxy and is a common feature of real galaxies."
      ]
    },
    {
      "cell_type": "code",
      "metadata": {},
      "source": [
        "multipole_order_4 = ag.EllipseMultipole(m=4, multipole_comps=(0.05, 0.05))\n",
        "\n",
        "fit_multipole = ag.FitEllipse(\n",
        "    dataset=dataset, ellipse=ellipse, multipole_list=[multipole_order_4]\n",
        ")"
      ],
      "outputs": [],
      "execution_count": null
    },
    {
      "cell_type": "markdown",
      "metadata": {},
      "source": [
        "Up to now, the ellipses plotted over the data in white have always been ellipses.\n",
        "\n",
        "When a multipole is included in the fit, it perturbs the ellipse to create a more complex shape that departs\n",
        "from an ellipse. \n",
        "\n",
        "This is shown by the white lines in the figure below, which because the multipole is a quadrupole, show a\n",
        "boxy shape."
      ]
    },
    {
      "cell_type": "code",
      "metadata": {},
      "source": [
        "fit_plotter = aplt.FitEllipsePlotter(\n",
        "    fit_list=[fit_multipole], mat_plot_2d=aplt.MatPlot2D(use_log10=True)\n",
        ")\n",
        "fit_plotter.figures_2d(data=True)"
      ],
      "outputs": [],
      "execution_count": null
    },
    {
      "cell_type": "markdown",
      "metadata": {},
      "source": [
        "__Multipole Order__\n",
        "\n",
        "Multipoles of different order can be combined to create even more complex shapes, for example:\n",
        "\n",
        " - An `m=1` multipole creates a monopole which represents lopsidedness in the galaxy.\n",
        " - An `m=3` multipole creates a tripole which represents a galaxy with a 3 fold symmetry.\n",
        "\n",
        "We include both these multipoles below, in addition to the `m=4` quadrupole, create a complex perturbation to the\n",
        "ellipse."
      ]
    },
    {
      "cell_type": "code",
      "metadata": {},
      "source": [
        "multipole_order_1 = ag.EllipseMultipole(m=1, multipole_comps=(0.05, 0.05))\n",
        "multipole_order_3 = ag.EllipseMultipole(m=3, multipole_comps=(0.05, 0.05))\n",
        "\n",
        "fit_multipole = ag.FitEllipse(\n",
        "    dataset=dataset,\n",
        "    ellipse=ellipse,\n",
        "    multipole_list=[multipole_order_1, multipole_order_3, multipole_order_4],\n",
        ")\n",
        "\n",
        "fit_plotter = aplt.FitEllipsePlotter(\n",
        "    fit_list=[fit_multipole], mat_plot_2d=aplt.MatPlot2D(use_log10=True)\n",
        ")\n",
        "fit_plotter.figures_2d(data=True)"
      ],
      "outputs": [],
      "execution_count": null
    },
    {
      "cell_type": "markdown",
      "metadata": {},
      "source": [
        "__Multiple Perturbed Ellipses__\n",
        "\n",
        "The API above can be combined with lists to fit many ellipses with many multipoles, allowing for the most complex\n",
        "shapes to be fitted to the data."
      ]
    },
    {
      "cell_type": "code",
      "metadata": {},
      "source": [
        "number_of_ellipses = 10\n",
        "\n",
        "major_axis_list = np.linspace(0.3, mask_radius * 0.9, number_of_ellipses)\n",
        "\n",
        "fit_list = []\n",
        "\n",
        "for i in range(len(major_axis_list)):\n",
        "    ellipse = ag.Ellipse(\n",
        "        centre=(0.0, 0.0), ell_comps=(0.3, 0.5), major_axis=major_axis_list[i]\n",
        "    )\n",
        "\n",
        "    fit = ag.FitEllipse(\n",
        "        dataset=dataset,\n",
        "        ellipse=ellipse,\n",
        "        multipole_list=[multipole_order_1, multipole_order_3, multipole_order_4],\n",
        "    )\n",
        "\n",
        "    fit_list.append(fit)\n",
        "\n",
        "fit_plotter = aplt.FitEllipsePlotter(\n",
        "    fit_list=fit_list, mat_plot_2d=aplt.MatPlot2D(use_log10=True)\n",
        ")\n",
        "fit_plotter.figures_2d(data=True)"
      ],
      "outputs": [],
      "execution_count": null
    },
    {
      "cell_type": "markdown",
      "metadata": {},
      "source": [
        "__Modeling__\n",
        "\n",
        "We now perform model-fitting via a non-linear search to perform ellipse fitting with multipoles.\n",
        "\n",
        "First, we set up the `ellipses` using identical code to the `modeling.py` example.\n",
        "\n",
        "This begins by performing a model fit with one ellipse to the centrral regions of the data, in order to determine\n",
        "the centre of all ellipses."
      ]
    },
    {
      "cell_type": "code",
      "metadata": {},
      "source": [
        "ellipse = af.Model(ag.Ellipse)\n",
        "\n",
        "ellipse.centre.centre_0 = af.UniformPrior(lower_limit=-0.1, upper_limit=0.1)\n",
        "ellipse.centre.centre_1 = af.UniformPrior(lower_limit=-0.1, upper_limit=0.1)\n",
        "\n",
        "ellipse.ell_comps.ell_comps_0 = af.UniformPrior(lower_limit=-0.6, upper_limit=0.6)\n",
        "ellipse.ell_comps.ell_comps_1 = af.UniformPrior(lower_limit=-0.6, upper_limit=0.6)\n",
        "\n",
        "ellipse.major_axis = 0.3\n",
        "\n",
        "model = af.Collection(ellipses=[ellipse])"
      ],
      "outputs": [],
      "execution_count": null
    },
    {
      "cell_type": "markdown",
      "metadata": {},
      "source": [
        "We now set up a third and fourth order multipole component and add it as a model component to all 10 ellipses.\n",
        "\n",
        "The model is composed such that only N=2 free parameters are fitted for each multipole, as the same multipole amplitudes\n",
        "are used for every ellipse. \n",
        "\n",
        "This is a common assumption when fitting multipoles, although there are also studies showing that multipoles can\n",
        "vary radially over galaxies, which would require a more complex model."
      ]
    },
    {
      "cell_type": "code",
      "metadata": {},
      "source": [
        "multipole_list = []\n",
        "\n",
        "multipole_3_a = af.GaussianPrior(mean=0.0, sigma=0.1)\n",
        "multipole_3_b = af.GaussianPrior(mean=0.0, sigma=0.1)\n",
        "\n",
        "multipole_4_a = af.GaussianPrior(mean=0.0, sigma=0.1)\n",
        "multipole_4_b = af.GaussianPrior(mean=0.0, sigma=0.1)\n",
        "\n",
        "multipole_3 = af.Model(ag.EllipseMultipole)\n",
        "multipole_3.m = 3\n",
        "multipole_3.multipole_comps.multipole_comps_0 = multipole_3_a\n",
        "multipole_3.multipole_comps.multipole_comps_1 = multipole_3_b\n",
        "\n",
        "multipole_4 = af.Model(ag.EllipseMultipole)\n",
        "multipole_4.m = 4\n",
        "multipole_4.multipole_comps.multipole_comps_0 = multipole_4_a\n",
        "multipole_4.multipole_comps.multipole_comps_1 = multipole_4_b\n",
        "\n",
        "multipole_list.append([multipole_3, multipole_4])"
      ],
      "outputs": [],
      "execution_count": null
    },
    {
      "cell_type": "markdown",
      "metadata": {},
      "source": [
        "Create the model, which is a `Collection` of `Ellipses` and `Multipole` components."
      ]
    },
    {
      "cell_type": "code",
      "metadata": {},
      "source": [
        "model = af.Collection(ellipses=[ellipse], multipoles=multipole_list)"
      ],
      "outputs": [],
      "execution_count": null
    },
    {
      "cell_type": "markdown",
      "metadata": {},
      "source": [
        "The `info` attribute shows the model in a readable format."
      ]
    },
    {
      "cell_type": "code",
      "metadata": {},
      "source": [
        "print(model.info)"
      ],
      "outputs": [],
      "execution_count": null
    },
    {
      "cell_type": "markdown",
      "metadata": {},
      "source": [
        "__Search__\n",
        "\n",
        "The model is fitted to the data using a non-linear search. \n",
        "\n",
        "Everything below uses the same API introduced in the `modeling.py` example."
      ]
    },
    {
      "cell_type": "code",
      "metadata": {},
      "source": [
        "search = af.DynestyStatic(\n",
        "    path_prefix=path.join(\"ellipse_multipole\"),\n",
        "    name=f\"fit_start\",\n",
        "    unique_tag=dataset_name,\n",
        "    sample=\"rwalk\",\n",
        "    n_live=50,\n",
        "    number_of_cores=4,\n",
        "    iterations_per_update=10000,\n",
        ")"
      ],
      "outputs": [],
      "execution_count": null
    },
    {
      "cell_type": "markdown",
      "metadata": {},
      "source": [
        "__Analysis__\n",
        "\n",
        "Create the `AnalysisEllipse` object."
      ]
    },
    {
      "cell_type": "code",
      "metadata": {},
      "source": [
        "analysis = ag.AnalysisEllipse(dataset=dataset)"
      ],
      "outputs": [],
      "execution_count": null
    },
    {
      "cell_type": "markdown",
      "metadata": {},
      "source": [
        "__Run Times__\n",
        "\n",
        "When only ellipses are fitted, the run time of the likelihood function was ~ 0.04 seconds.\n",
        "\n",
        "The inclusion of a multipole component slightly increases the run time of the likelihood function, but it\n",
        "is almost negligible.\n",
        "\n",
        "This is because perturbing the ellipse with a multipole is a simple operation that does not require significant\n",
        "computation time."
      ]
    },
    {
      "cell_type": "code",
      "metadata": {},
      "source": [
        "run_time_dict, info_dict = analysis.profile_log_likelihood_function(\n",
        "    instance=model.random_instance()\n",
        ")\n",
        "\n",
        "print(f\"Log Likelihood Evaluation Time (second) = {run_time_dict['fit_time']}\")"
      ],
      "outputs": [],
      "execution_count": null
    },
    {
      "cell_type": "markdown",
      "metadata": {},
      "source": [
        "The biggest increase in run time when fitting multipoles is because the number of free parameters in the model\n",
        "increases, as well as the complexity of the model and parameter space.\n",
        "\n",
        "We estimate the overall run time of the model-fit below, noting that it generally still stays well below an hour\n",
        "and is therefore feasible to perform on a laptop."
      ]
    },
    {
      "cell_type": "code",
      "metadata": {},
      "source": [
        "print(\n",
        "    \"Estimated Run Time Upper Limit (seconds) = \",\n",
        "    (run_time_dict[\"fit_time\"] * model.total_free_parameters * 10000)\n",
        "    / search.number_of_cores,\n",
        ")"
      ],
      "outputs": [],
      "execution_count": null
    },
    {
      "cell_type": "markdown",
      "metadata": {},
      "source": [
        "__Model-Fit__\n",
        "\n",
        "We can now begin the model-fit by passing the model and analysis object to the search, which performs a non-linear\n",
        "search to find which models fit the data with the highest likelihood."
      ]
    },
    {
      "cell_type": "code",
      "metadata": {},
      "source": [
        "result = search.fit(model=model, analysis=analysis)"
      ],
      "outputs": [],
      "execution_count": null
    },
    {
      "cell_type": "markdown",
      "metadata": {},
      "source": [
        "__Result__\n",
        "\n",
        "The search returns a result object, which whose `info` attribute shows the result in a readable format.\n",
        "\n",
        "The simulated galaxy image contained in the data fitted in this example did not include multipoles, therefore\n",
        "the multipole components go to values close to zero."
      ]
    },
    {
      "cell_type": "code",
      "metadata": {},
      "source": [
        "print(result.info)"
      ],
      "outputs": [],
      "execution_count": null
    },
    {
      "cell_type": "markdown",
      "metadata": {},
      "source": [
        "The `Result` object also the maximum log likelihood instance which can be inspected to check the \n",
        "inferred multipole parameters."
      ]
    },
    {
      "cell_type": "code",
      "metadata": {},
      "source": [
        "instance = result.max_log_likelihood_instance\n",
        "\n",
        "print(\"Max Log Likelihood Model:\")\n",
        "print(instance)\n",
        "\n",
        "print(\n",
        "    f\"First Ellipse Multipole Components: {instance.multipoles[0][0].multipole_comps}\"\n",
        ")"
      ],
      "outputs": [],
      "execution_count": null
    },
    {
      "cell_type": "markdown",
      "metadata": {},
      "source": [
        "The maximum log likelihood fit is also available via the result, which can visualize the fit."
      ]
    },
    {
      "cell_type": "code",
      "metadata": {},
      "source": [
        "fit_plotter = aplt.FitEllipsePlotter(\n",
        "    fit_list=result.max_log_likelihood_fit_list,\n",
        "    mat_plot_2d=aplt.MatPlot2D(use_log10=True),\n",
        ")\n",
        "fit_plotter.figures_2d(data=True)"
      ],
      "outputs": [],
      "execution_count": null
    },
    {
      "cell_type": "markdown",
      "metadata": {},
      "source": [
        "The result contains the full posterior information of our non-linear search, including all parameter samples, \n",
        "log likelihood values and tools to compute the errors on the model. \n",
        "\n",
        "When multipoles are included in the model, the parameter space complexity increases, producing more\n",
        "significant degeneracies between the model parameters."
      ]
    },
    {
      "cell_type": "code",
      "metadata": {},
      "source": [
        "plotter = aplt.NestPlotter(samples=result.samples)\n",
        "plotter.corner_cornerpy()"
      ],
      "outputs": [],
      "execution_count": null
    },
    {
      "cell_type": "markdown",
      "metadata": {},
      "source": [
        "__Multiple Ellipses__"
      ]
    },
    {
      "cell_type": "code",
      "metadata": {},
      "source": [
        "number_of_ellipses = 10\n",
        "\n",
        "major_axis_list = np.linspace(0.3, mask_radius * 0.9, number_of_ellipses)\n",
        "\n",
        "total_ellipses = len(major_axis_list)\n",
        "\n",
        "result_list = []\n",
        "\n",
        "for i in range(len(major_axis_list)):\n",
        "    ellipse = af.Model(ag.Ellipse)\n",
        "\n",
        "    ellipse.centre.centre_0 = result.instance.ellipses[0].centre[0]\n",
        "    ellipse.centre.centre_1 = result.instance.ellipses[0].centre[1]\n",
        "\n",
        "    ellipse.ell_comps.ell_comps_0 = af.UniformPrior(lower_limit=-0.6, upper_limit=0.6)\n",
        "    ellipse.ell_comps.ell_comps_1 = af.UniformPrior(lower_limit=-0.6, upper_limit=0.6)\n",
        "\n",
        "    ellipse.major_axis = major_axis_list[i]\n",
        "\n",
        "    multipole_list = []\n",
        "\n",
        "    multipole_3_a = af.GaussianPrior(mean=0.0, sigma=0.1)\n",
        "    multipole_3_b = af.GaussianPrior(mean=0.0, sigma=0.1)\n",
        "\n",
        "    multipole_4_a = af.GaussianPrior(mean=0.0, sigma=0.1)\n",
        "    multipole_4_b = af.GaussianPrior(mean=0.0, sigma=0.1)\n",
        "\n",
        "    multipole_3 = af.Model(ag.EllipseMultipole)\n",
        "    multipole_3.m = 3\n",
        "    multipole_3.multipole_comps.multipole_comps_0 = multipole_3_a\n",
        "    multipole_3.multipole_comps.multipole_comps_1 = multipole_3_b\n",
        "\n",
        "    multipole_4 = af.Model(ag.EllipseMultipole)\n",
        "    multipole_4.m = 4\n",
        "    multipole_4.multipole_comps.multipole_comps_0 = multipole_4_a\n",
        "    multipole_4.multipole_comps.multipole_comps_1 = multipole_4_b\n",
        "\n",
        "    multipole_list.append([multipole_3, multipole_4])\n",
        "\n",
        "    model = af.Collection(ellipses=[ellipse], multipoles=multipole_list)\n",
        "\n",
        "    search = af.DynestyStatic(\n",
        "        path_prefix=path.join(\"ellipse_multipole\"),\n",
        "        name=f\"fit_{i}\",\n",
        "        unique_tag=dataset_name,\n",
        "        sample=\"rwalk\",\n",
        "        n_live=50,\n",
        "        number_of_cores=4,\n",
        "        iterations_per_update=10000,\n",
        "    )\n",
        "\n",
        "    analysis = ag.AnalysisEllipse(dataset=dataset)\n",
        "\n",
        "    result = search.fit(model=model, analysis=analysis)\n",
        "\n",
        "    result_list.append(result)"
      ],
      "outputs": [],
      "execution_count": null
    },
    {
      "cell_type": "markdown",
      "metadata": {},
      "source": [
        "__Final Fit__\n",
        "\n",
        "A final fit is performed combining all ellipses."
      ]
    },
    {
      "cell_type": "code",
      "metadata": {},
      "source": [
        "ellipses = [result.instance.ellipses[0] for result in result_list]\n",
        "multipole_list = [result.instance.multipoles[0] for result in result_list]\n",
        "\n",
        "model = af.Collection(ellipses=ellipses, multipoles=multipole_list)\n",
        "\n",
        "model.dummy_0 = af.UniformPrior(lower_limit=-0.1, upper_limit=0.1)\n",
        "\n",
        "search = af.Drawer(\n",
        "    path_prefix=path.join(\"ellipse_multipole\"),\n",
        "    name=f\"fit_all\",\n",
        "    unique_tag=dataset_name,\n",
        "    total_draws=1,\n",
        ")\n",
        "\n",
        "result = search.fit(model=model, analysis=analysis)\n"
      ],
      "outputs": [],
      "execution_count": null
    },
    {
      "cell_type": "markdown",
      "metadata": {},
      "source": [
        "__Masking__"
      ]
    },
    {
      "cell_type": "code",
      "metadata": {},
      "source": [
        "mask_extra_galaxies = ag.Mask2D.from_fits(\n",
        "    file_path=path.join(dataset_path, \"mask_extra_galaxies.fits\"),\n",
        "    pixel_scales=dataset.pixel_scales,\n",
        ")\n",
        "\n",
        "dataset = dataset.apply_mask(mask=mask + mask_extra_galaxies)\n",
        "\n",
        "\n",
        "number_of_ellipses = 10\n",
        "\n",
        "major_axis_list = np.linspace(0.3, mask_radius * 0.9, number_of_ellipses)\n",
        "\n",
        "total_ellipses = len(major_axis_list)\n",
        "\n",
        "result_list = []\n",
        "\n",
        "for i in range(len(major_axis_list)):\n",
        "    ellipse = af.Model(ag.Ellipse)\n",
        "\n",
        "    ellipse.centre.centre_0 = result.instance.ellipses[0].centre[0]\n",
        "    ellipse.centre.centre_1 = result.instance.ellipses[0].centre[1]\n",
        "\n",
        "    ellipse.ell_comps.ell_comps_0 = af.UniformPrior(lower_limit=-0.6, upper_limit=0.6)\n",
        "    ellipse.ell_comps.ell_comps_1 = af.UniformPrior(lower_limit=-0.6, upper_limit=0.6)\n",
        "\n",
        "    ellipse.major_axis = major_axis_list[i]\n",
        "\n",
        "    multipole_list = []\n",
        "\n",
        "    multipole_3_a = af.GaussianPrior(mean=0.0, sigma=0.1)\n",
        "    multipole_3_b = af.GaussianPrior(mean=0.0, sigma=0.1)\n",
        "\n",
        "    multipole_4_a = af.GaussianPrior(mean=0.0, sigma=0.1)\n",
        "    multipole_4_b = af.GaussianPrior(mean=0.0, sigma=0.1)\n",
        "\n",
        "    multipole_3 = af.Model(ag.EllipseMultipole)\n",
        "    multipole_3.m = 3\n",
        "    multipole_3.multipole_comps.multipole_comps_0 = multipole_3_a\n",
        "    multipole_3.multipole_comps.multipole_comps_1 = multipole_3_b\n",
        "\n",
        "    multipole_4 = af.Model(ag.EllipseMultipole)\n",
        "    multipole_4.m = 4\n",
        "    multipole_4.multipole_comps.multipole_comps_0 = multipole_4_a\n",
        "    multipole_4.multipole_comps.multipole_comps_1 = multipole_4_b\n",
        "\n",
        "    multipole_list.append([multipole_3, multipole_4])\n",
        "\n",
        "    model = af.Collection(ellipses=[ellipse], multipoles=multipole_list)\n",
        "\n",
        "    search = af.DynestyStatic(\n",
        "        path_prefix=path.join(\"ellipse_multipole_mask\"),\n",
        "        name=f\"fit_{i}\",\n",
        "        unique_tag=dataset_name,\n",
        "        sample=\"rwalk\",\n",
        "        n_live=50,\n",
        "        number_of_cores=4,\n",
        "        iterations_per_update=10000,\n",
        "    )\n",
        "\n",
        "    analysis = ag.AnalysisEllipse(dataset=dataset)\n",
        "\n",
        "    result = search.fit(model=model, analysis=analysis)\n",
        "\n",
        "    result_list.append(result)\n",
        "\n",
        "ellipses = [result.instance.ellipses[0] for result in result_list]\n",
        "multipole_list = [result.instance.multipoles[0] for result in result_list]\n",
        "\n",
        "model = af.Collection(ellipses=ellipses, multipoles=multipole_list)\n",
        "\n",
        "model.dummy_0 = af.UniformPrior(lower_limit=-0.1, upper_limit=0.1)\n",
        "\n",
        "search = af.Drawer(\n",
        "    path_prefix=path.join(\"ellipse_multipole_mask\"),\n",
        "    name=f\"fit_all\",\n",
        "    unique_tag=dataset_name,\n",
        "    total_draws=1,\n",
        ")\n",
        "\n",
        "result = search.fit(model=model, analysis=analysis)"
      ],
      "outputs": [],
      "execution_count": null
    },
    {
      "cell_type": "markdown",
      "metadata": {},
      "source": [
        "This script gives a concise overview of the ellipse fitting modeling API with multipole components.\n",
        "\n",
        "You should now be able to perform complex ellipse fitting with multipoles, which are a powerful tool to model\n",
        "the shapes of real galaxies."
      ]
    },
    {
      "cell_type": "code",
      "metadata": {},
      "source": [],
      "outputs": [],
      "execution_count": null
    }
  ],
  "metadata": {
    "anaconda-cloud": {},
    "kernelspec": {
      "display_name": "Python 3",
      "language": "python",
      "name": "python3"
    },
    "language_info": {
      "codemirror_mode": {
        "name": "ipython",
        "version": 3
      },
      "file_extension": ".py",
      "mimetype": "text/x-python",
      "name": "python",
      "nbconvert_exporter": "python",
      "pygments_lexer": "ipython3",
      "version": "3.6.1"
    }
  },
  "nbformat": 4,
  "nbformat_minor": 4
}