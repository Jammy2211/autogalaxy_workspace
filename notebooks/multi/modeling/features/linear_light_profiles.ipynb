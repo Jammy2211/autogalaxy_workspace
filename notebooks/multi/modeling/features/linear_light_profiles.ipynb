{
  "cells": [
    {
      "cell_type": "markdown",
      "metadata": {},
      "source": [
        "Modeling: Light Parametric\n",
        "==========================\n",
        "\n",
        "This script fits multiple multi-wavelength `Imaging` datasets of a galaxy with a model where:\n",
        "\n",
        " - The galaxy's light is a linear parametric `Sersic` bulge and `Exponential` disk.\n",
        "\n",
        "Two images are fitted, corresponding to a greener ('g' band) and redder image (`r` band).\n",
        "\n",
        "This is an advanced script and assumes previous knowledge of the core **PyAutoGalaxy** API for galaxy modeling. Thus,\n",
        "certain parts of code are not documented to ensure the script is concise.\n",
        "\n",
        "__Linear Light Profiles__\n",
        "\n",
        "This script uses a light profile variant called a 'linear light profile'. The `intensity` parameters of all parametric\n",
        "components are solved via linear algebra every time the model is fitted using a process called an inversion. This\n",
        "inversion always computes `intensity` values that give the best fit to the data (e.g. they maximize the likelihood)\n",
        "given the other parameter values of the light profile.\n",
        "\n",
        "The `intensity` parameter of each light profile is therefore not a free parameter in the model-fit, reducing the\n",
        "dimensionality of non-linear parameter space by the number of light profiles (in this example, 4) and removing the\n",
        "degeneracies that occur between the `intnensity` and other light profile\n",
        "parameters (e.g. `effective_radius`, `sersic_index`).\n",
        "\n",
        "For complex models, linear light profiles are a powerful way to simplify the parameter space to ensure the best-fit\n",
        "model is inferred.\n",
        "\n",
        "This is especially true for multi-wavelength datasets, where each waveband of imaging can often increasing the\n",
        "dimensionality of parameter space by adding an addition `intensity` parameter per image. For multi-wavelength lens\n",
        "modeling we therefore recommend you use linear light profiles for this reason.\n",
        "\n",
        "__Notes__\n",
        "\n",
        "This script is identical to `modeling/light_parametric.py` except that the light profiles are switched to linear\n",
        "light profiles."
      ]
    },
    {
      "cell_type": "code",
      "metadata": {},
      "source": [
        "%matplotlib inline\n",
        "from pyprojroot import here\n",
        "workspace_path = str(here())\n",
        "%cd $workspace_path\n",
        "print(f\"Working Directory has been set to `{workspace_path}`\")\n",
        "\n",
        "from os import path\n",
        "import autofit as af\n",
        "import autogalaxy as ag\n",
        "import autogalaxy.plot as aplt"
      ],
      "outputs": [],
      "execution_count": null
    },
    {
      "cell_type": "markdown",
      "metadata": {},
      "source": [
        "__Colors__\n",
        "\n",
        "The colors of the multi-wavelength image, which in this case are green (g-band) and red (r-band).\n",
        "\n",
        "The strings are used for load each dataset."
      ]
    },
    {
      "cell_type": "code",
      "metadata": {},
      "source": [
        "color_list = [\"g\", \"r\"]"
      ],
      "outputs": [],
      "execution_count": null
    },
    {
      "cell_type": "markdown",
      "metadata": {},
      "source": [
        "__Pixel Scales__\n",
        "\n",
        "Every multi-wavelength dataset can have its own unique pixel-scale."
      ]
    },
    {
      "cell_type": "code",
      "metadata": {},
      "source": [
        "pixel_scales_list = [0.08, 0.12]"
      ],
      "outputs": [],
      "execution_count": null
    },
    {
      "cell_type": "markdown",
      "metadata": {},
      "source": [
        "__Dataset__\n",
        "\n",
        "Load and plot each multi-wavelength galaxy dataset, using a list of their waveband colors.\n",
        "\n",
        "Note how the disk appears brighter in the g-band image, whereas the bulge is clearer in the r-band image.\n",
        "Multi-wavelength image can therefore better decompose the structure of galaxies."
      ]
    },
    {
      "cell_type": "code",
      "metadata": {},
      "source": [
        "dataset_type = \"multi\"\n",
        "dataset_label = \"imaging\"\n",
        "dataset_name = \"simple\"\n",
        "\n",
        "dataset_path = path.join(\"dataset\", dataset_type, dataset_label, dataset_name)\n",
        "\n",
        "dataset_list = [\n",
        "    ag.Imaging.from_fits(\n",
        "        data_path=path.join(dataset_path, f\"{color}_data.fits\"),\n",
        "        psf_path=path.join(dataset_path, f\"{color}_psf.fits\"),\n",
        "        noise_map_path=path.join(dataset_path, f\"{color}_noise_map.fits\"),\n",
        "        pixel_scales=pixel_scales,\n",
        "    )\n",
        "    for color, pixel_scales in zip(color_list, pixel_scales_list)\n",
        "]\n",
        "\n",
        "for dataset in dataset_list:\n",
        "    dataset_plotter = aplt.ImagingPlotter(dataset=dataset)\n",
        "    dataset_plotter.subplot_dataset()"
      ],
      "outputs": [],
      "execution_count": null
    },
    {
      "cell_type": "markdown",
      "metadata": {},
      "source": [
        "__Mask__\n",
        "\n",
        "The model-fit requires a `Mask2D` defining the regions of the image we fit the galaxy model to the data, which we define\n",
        "and use to set up the `Imaging` object that the galaxy model fits.\n",
        "\n",
        "For multi-wavelength galaxy modeling, we use the same mask for every dataset whenever possible. This is not\n",
        "absolutely necessary, but provides a more reliable analysis."
      ]
    },
    {
      "cell_type": "code",
      "metadata": {},
      "source": [
        "mask_list = [\n",
        "    ag.Mask2D.circular(\n",
        "        shape_native=dataset.shape_native, pixel_scales=dataset.pixel_scales, radius=3.0\n",
        "    )\n",
        "    for dataset in dataset_list\n",
        "]\n",
        "\n",
        "\n",
        "dataset_list = [\n",
        "    dataset.apply_mask(mask=mask) for imaging, mask in zip(dataset_list, mask_list)\n",
        "]\n",
        "\n",
        "for dataset in dataset_list:\n",
        "    dataset_plotter = aplt.ImagingPlotter(dataset=dataset)\n",
        "    dataset_plotter.subplot_dataset()"
      ],
      "outputs": [],
      "execution_count": null
    },
    {
      "cell_type": "markdown",
      "metadata": {},
      "source": [
        "__Analysis__\n",
        "\n",
        "We create an `Analysis` object for every dataset."
      ]
    },
    {
      "cell_type": "code",
      "metadata": {},
      "source": [
        "analysis_list = [ag.AnalysisImaging(dataset=dataset) for dataset in dataset_list]"
      ],
      "outputs": [],
      "execution_count": null
    },
    {
      "cell_type": "markdown",
      "metadata": {},
      "source": [
        "By summing this list of analysis objects, we create an overall `CombinedAnalysis` which we can use to fit the \n",
        "multi-wavelength imaging data, where:\n",
        "\n",
        " - The log likelihood function of this summed analysis class is the sum of the log likelihood functions of each \n",
        " individual analysis objects (e.g. the fit to each separate waveband).\n",
        "\n",
        " - The summing process ensures that tasks such as outputting results to hard-disk, visualization, etc use a \n",
        " structure that separates each analysis and therefore each dataset.\n",
        " \n",
        " - Next, we will use this combined analysis to parameterize a model where certain galaxy parameters vary across\n",
        " the dataset."
      ]
    },
    {
      "cell_type": "code",
      "metadata": {},
      "source": [
        "analysis = sum(analysis_list)"
      ],
      "outputs": [],
      "execution_count": null
    },
    {
      "cell_type": "markdown",
      "metadata": {},
      "source": [
        "We can parallelize the likelihood function of these analysis classes, whereby each evaluation is performed on a \n",
        "different CPU."
      ]
    },
    {
      "cell_type": "code",
      "metadata": {},
      "source": [
        "analysis.n_cores = 1"
      ],
      "outputs": [],
      "execution_count": null
    },
    {
      "cell_type": "markdown",
      "metadata": {},
      "source": [
        "__Model__\n",
        "\n",
        "We compose our galaxy model using `Model` objects, which represent the galaxies we fit to our data. In this \n",
        "example we fit a galaxy model where:\n",
        "\n",
        " - The galaxy's bulge is a linear parametric `Sersic` bulge, where the `intensity` parameter for each individual \n",
        " waveband of imaging is solved for indepedently via linear algebra [6 parameters]. \n",
        " \n",
        " - The galaxy's disk is a parametric `Exponential` disk, where the `intensity` parameter for each individual \n",
        " waveband of imaging is solved for indepedently via linear algebra [5 parameters].\n",
        " \n",
        "The number of free parameters and therefore the dimensionality of non-linear parameter space is N=11."
      ]
    },
    {
      "cell_type": "code",
      "metadata": {},
      "source": [
        "bulge = af.Model(ag.lp_linear.Sersic)\n",
        "disk = af.Model(ag.lp_linear.Exponential)\n",
        "\n",
        "galaxy = af.Model(ag.Galaxy, redshift=0.5, bulge=bulge, disk=disk)\n",
        "\n",
        "model = af.Collection(galaxies=af.Collection(galaxy=galaxy))"
      ],
      "outputs": [],
      "execution_count": null
    },
    {
      "cell_type": "markdown",
      "metadata": {},
      "source": [
        "In the example `light_parametric.py` we made every `intensity` parameter free via the code commented out below.\n",
        "\n",
        "Note how we don't have to do that in this script, owing to our use of linear light profiles. "
      ]
    },
    {
      "cell_type": "code",
      "metadata": {},
      "source": [
        "# analysis = analysis.with_free_parameters(\n",
        "#     model.galaxies.galaxy.bulge.intensity, model.galaxies.galaxy.disk.intensity\n",
        "# )"
      ],
      "outputs": [],
      "execution_count": null
    },
    {
      "cell_type": "markdown",
      "metadata": {},
      "source": [
        "__Search__"
      ]
    },
    {
      "cell_type": "code",
      "metadata": {},
      "source": [
        "search = af.Nautilus(\n",
        "    path_prefix=path.join(\"multi\", \"modeling\"),\n",
        "    name=\"light[bulge_disk_linear]\",\n",
        "    unique_tag=dataset_name,\n",
        "    n_live=100,\n",
        "    number_of_cores=2,\n",
        ")"
      ],
      "outputs": [],
      "execution_count": null
    },
    {
      "cell_type": "markdown",
      "metadata": {},
      "source": [
        "__Model-Fit__"
      ]
    },
    {
      "cell_type": "code",
      "metadata": {},
      "source": [
        "result_list = search.fit(model=model, analysis=analysis)"
      ],
      "outputs": [],
      "execution_count": null
    },
    {
      "cell_type": "markdown",
      "metadata": {},
      "source": [
        "__Result__\n",
        "\n",
        "The result object returned by this model-fit is a list of `Result` objects, because we used a combined analysis.\n",
        "Each result corresponds to each analysis, and therefore corresponds to the model-fit at that wavelength.\n",
        "\n",
        "For example, close inspection of the `max_log_likelihood_instance` of the two results shows that all parameters,\n",
        "except the `intensity` of the source galaxy's `bulge`, are identicag."
      ]
    },
    {
      "cell_type": "code",
      "metadata": {},
      "source": [
        "print(result_list[0].max_log_likelihood_instance)\n",
        "print(result_list[1].max_log_likelihood_instance)"
      ],
      "outputs": [],
      "execution_count": null
    },
    {
      "cell_type": "markdown",
      "metadata": {},
      "source": [
        "Plotting each result's galaxies shows that the source appears different, owning to its different intensities."
      ]
    },
    {
      "cell_type": "code",
      "metadata": {},
      "source": [
        "for result in result_list:\n",
        "    galaxies_plotter = aplt.GalaxiesPlotter(\n",
        "        galaxies=result.max_log_likelihood_galaxies, grid=result.grid\n",
        "    )\n",
        "    galaxies_plotter.subplot_galaxies()\n",
        "\n",
        "    fit_plotter = aplt.FitImagingPlotter(fit=result.max_log_likelihood_fit)\n",
        "    fit_plotter.subplot_fit()"
      ],
      "outputs": [],
      "execution_count": null
    },
    {
      "cell_type": "markdown",
      "metadata": {},
      "source": [
        "The `Samples` object still has the dimensions of the overall non-linear search (in this case N=16). \n",
        "\n",
        "Therefore, the samples is identical in every result object."
      ]
    },
    {
      "cell_type": "code",
      "metadata": {},
      "source": [
        "search_plotter = aplt.NautilusPlotter(samples=result_list.samples)\n",
        "search_plotter.cornerplot()"
      ],
      "outputs": [],
      "execution_count": null
    },
    {
      "cell_type": "markdown",
      "metadata": {},
      "source": [
        "Checkout `autogalaxy_workspace/*/imaging/results` for a full description of analysing results in **PyAutoGalaxy**."
      ]
    },
    {
      "cell_type": "code",
      "metadata": {},
      "source": [],
      "outputs": [],
      "execution_count": null
    }
  ],
  "metadata": {
    "anaconda-cloud": {},
    "kernelspec": {
      "display_name": "Python 3",
      "language": "python",
      "name": "python3"
    },
    "language_info": {
      "codemirror_mode": {
        "name": "ipython",
        "version": 3
      },
      "file_extension": ".py",
      "mimetype": "text/x-python",
      "name": "python",
      "nbconvert_exporter": "python",
      "pygments_lexer": "ipython3",
      "version": "3.6.1"
    }
  },
  "nbformat": 4,
  "nbformat_minor": 4
}