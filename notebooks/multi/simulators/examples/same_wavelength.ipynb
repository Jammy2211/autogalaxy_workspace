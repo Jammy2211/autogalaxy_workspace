{
  "cells": [
    {
      "cell_type": "markdown",
      "metadata": {},
      "source": [
        "Simulator: Same Wavelength\n",
        "==========================\n",
        "\n",
        "This script simulates multiple `Imaging` datasets of a galaxy where:\n",
        "\n",
        " - The galaxy's light is a parametric `Sersic` bulge and `Exponential` disk.\n",
        "\n",
        "Unlike other `multi` simulators, all datasets are at the same wavelength and therefore the source does not change\n",
        "its appearance in each dataset.\n",
        "\n",
        "This dataset demonstrates how PyAutoGalaxy's multi-dataset modeling tools can also simultaneously analyse datasets\n",
        "observed at the same wavelength.\n",
        "\n",
        "An example use case might be analysing undithered HST images before they are combined via the multidrizzing process,\n",
        "to remove correlated noise in the data.\n",
        "\n",
        "TODO: NEED TO INCLUDE DIFFERENT POINTING / CENTERINGS."
      ]
    },
    {
      "cell_type": "code",
      "metadata": {},
      "source": [
        "%matplotlib inline\n",
        "from pyprojroot import here\n",
        "workspace_path = str(here())\n",
        "%cd $workspace_path\n",
        "print(f\"Working Directory has been set to `{workspace_path}`\")\n",
        "\n",
        "from os import path\n",
        "import autogalaxy as ag\n",
        "import autogalaxy.plot as aplt\n"
      ],
      "outputs": [],
      "execution_count": null
    },
    {
      "cell_type": "markdown",
      "metadata": {},
      "source": [
        "__Dataset Paths__"
      ]
    },
    {
      "cell_type": "code",
      "metadata": {},
      "source": [
        "dataset_type = \"multi\"\n",
        "dataset_label = \"imaging\"\n",
        "dataset_name = \"same_wavelength\"\n",
        "\n",
        "dataset_path = path.join(\"dataset\", dataset_type, dataset_label, dataset_name)"
      ],
      "outputs": [],
      "execution_count": null
    },
    {
      "cell_type": "markdown",
      "metadata": {},
      "source": [
        "__Simulate__\n",
        "\n",
        "If observed at the same wavelength, it is likely the datasets have the same pixel-scale.\n",
        "\n",
        "Nevertheless, we specify this as a list as there could be an exception."
      ]
    },
    {
      "cell_type": "code",
      "metadata": {},
      "source": [
        "pixel_scales_list = [0.1, 0.1]\n",
        "\n",
        "grid_list = [\n",
        "    ag.Grid2DIterate.uniform(\n",
        "        shape_native=(150, 150),\n",
        "        pixel_scales=pixel_scales,\n",
        "        fractional_accuracy=0.9999,\n",
        "        sub_steps=[2, 4, 8, 16, 24],\n",
        "    )\n",
        "    for pixel_scales in pixel_scales_list\n",
        "]"
      ],
      "outputs": [],
      "execution_count": null
    },
    {
      "cell_type": "markdown",
      "metadata": {},
      "source": [
        "Simulate simple Gaussian PSFs for the images, which we assume slightly vary (e.g. due to different observing conditions\n",
        "for each image)"
      ]
    },
    {
      "cell_type": "code",
      "metadata": {},
      "source": [
        "sigma_list = [0.09, 0.11]\n",
        "\n",
        "psf_list = [\n",
        "    ag.Kernel2D.from_gaussian(\n",
        "        shape_native=(11, 11), sigma=sigma, pixel_scales=grid.pixel_scales\n",
        "    )\n",
        "    for grid, sigma in zip(grid_list, sigma_list)\n",
        "]"
      ],
      "outputs": [],
      "execution_count": null
    },
    {
      "cell_type": "markdown",
      "metadata": {},
      "source": [
        "Create separate simulators for the images, which we will assume have slightly different exposure times and background\n",
        "sky levels."
      ]
    },
    {
      "cell_type": "code",
      "metadata": {},
      "source": [
        "exposure_time_list = [300.0, 350.0]\n",
        "background_sky_level_list = [0.1, 0.12]\n",
        "\n",
        "simulator_list = [\n",
        "    ag.SimulatorImaging(\n",
        "        exposure_time=exposure_time,\n",
        "        psf=psf,\n",
        "        background_sky_level=background_sky_level,\n",
        "        add_poisson_noise=True,\n",
        "    )\n",
        "    for psf, exposure_time, background_sky_level in zip(\n",
        "        psf_list, exposure_time_list, background_sky_level_list\n",
        "    )\n",
        "]\n"
      ],
      "outputs": [],
      "execution_count": null
    },
    {
      "cell_type": "markdown",
      "metadata": {},
      "source": [
        "__Plane__\n",
        "\n",
        "Setup the galaxy with a bulge (elliptical Sersic) and disk (elliptical exponential) for this simulation.\n",
        "\n",
        "The galaxy is observed at the same wavelength in each image thus its intensity does not vary across the datasets."
      ]
    },
    {
      "cell_type": "code",
      "metadata": {},
      "source": [
        "galaxy = ag.Galaxy(\n",
        "    redshift=0.5,\n",
        "    bulge=ag.lp.Sersic(\n",
        "        centre=(0.0, 0.0),\n",
        "        ell_comps=ag.convert.ell_comps_from(axis_ratio=0.9, angle=45.0),\n",
        "        intensity=1.0,\n",
        "        effective_radius=0.6,\n",
        "        sersic_index=3.0,\n",
        "    ),\n",
        "    disk=ag.lp.Exponential(\n",
        "        centre=(0.0, 0.0),\n",
        "        ell_comps=ag.convert.ell_comps_from(axis_ratio=0.7, angle=30.0),\n",
        "        intensity=0.5,\n",
        "        effective_radius=1.6,\n",
        "    ),\n",
        ")"
      ],
      "outputs": [],
      "execution_count": null
    },
    {
      "cell_type": "markdown",
      "metadata": {},
      "source": [
        "Use these galaxies to setup planes at each waveband, which will generate each image for the simulated `Imaging` \n",
        "dataset."
      ]
    },
    {
      "cell_type": "code",
      "metadata": {},
      "source": [
        "plane = ag.Plane(galaxies=[galaxy])"
      ],
      "outputs": [],
      "execution_count": null
    },
    {
      "cell_type": "markdown",
      "metadata": {},
      "source": [
        "Lets look at the plane`s images, which are the images we'll be simulating."
      ]
    },
    {
      "cell_type": "code",
      "metadata": {},
      "source": [
        "for grid in grid_list:\n",
        "    plane_plotter = aplt.PlanePlotter(plane=plane, grid=grid)\n",
        "    plane_plotter.figures_2d(image=True)"
      ],
      "outputs": [],
      "execution_count": null
    },
    {
      "cell_type": "markdown",
      "metadata": {},
      "source": [
        "We can now pass this simulator a plane, which creates the image plotted above and simulates it as an\n",
        "imaging dataset."
      ]
    },
    {
      "cell_type": "code",
      "metadata": {},
      "source": [
        "dataset_list = [\n",
        "    simulator.via_plane_from(plane=plane, grid=grid)\n",
        "    for grid, simulator in zip(grid_list, simulator_list)\n",
        "]"
      ],
      "outputs": [],
      "execution_count": null
    },
    {
      "cell_type": "markdown",
      "metadata": {},
      "source": [
        "Plot the simulated `Imaging` dataset before outputting it to fits."
      ]
    },
    {
      "cell_type": "code",
      "metadata": {},
      "source": [
        "for dataset in dataset_list:\n",
        "    dataset_plotter = aplt.ImagingPlotter(dataset=dataset)\n",
        "    dataset_plotter.subplot_dataset()"
      ],
      "outputs": [],
      "execution_count": null
    },
    {
      "cell_type": "markdown",
      "metadata": {},
      "source": [
        "__Output__\n",
        "\n",
        "Output each simulated dataset to the dataset path as .fits files, with a tag describing its color."
      ]
    },
    {
      "cell_type": "code",
      "metadata": {},
      "source": [
        "for i, dataset in enumerate(dataset_list):\n",
        "    dataset.output_to_fits(\n",
        "        data_path=path.join(dataset_path, f\"image_{i}.fits\"),\n",
        "        psf_path=path.join(dataset_path, f\"psf_{i}.fits\"),\n",
        "        noise_map_path=path.join(dataset_path, f\"noise_map_{i}.fits\"),\n",
        "        overwrite=True,\n",
        "    )"
      ],
      "outputs": [],
      "execution_count": null
    },
    {
      "cell_type": "markdown",
      "metadata": {},
      "source": [
        "__Visualize__\n",
        "\n",
        "Output a subplot of the simulated dataset, the image and the plane's quantities to the dataset path as .png files.\n",
        "\n",
        "For a faster run time, the plane visualization uses the binned grid instead of the iterative grid."
      ]
    },
    {
      "cell_type": "code",
      "metadata": {},
      "source": [
        "for i, dataset in enumerate(dataset_list):\n",
        "    mat_plot = aplt.MatPlot2D(\n",
        "        output=aplt.Output(path=dataset_path, suffix=f\"_{i}\", format=\"png\")\n",
        "    )\n",
        "\n",
        "    dataset_plotter = aplt.ImagingPlotter(dataset=dataset, mat_plot_2d=mat_plot)\n",
        "    dataset_plotter.subplot_dataset()\n",
        "    dataset_plotter.figures_2d(data=True)\n",
        "\n",
        "for i, grid in enumerate(grid_list):\n",
        "    mat_plot = aplt.MatPlot2D(\n",
        "        output=aplt.Output(path=dataset_path, suffix=f\"_{i}\", format=\"png\")\n",
        "    )\n",
        "\n",
        "    plane_plotter = aplt.PlanePlotter(\n",
        "        plane=plane, grid=grid.binned, mat_plot_2d=mat_plot\n",
        "    )\n",
        "    plane_plotter.subplot_plane()\n",
        "    plane_plotter.subplot_galaxy_images()"
      ],
      "outputs": [],
      "execution_count": null
    },
    {
      "cell_type": "markdown",
      "metadata": {},
      "source": [
        "__Plane json__\n",
        "\n",
        "Save the `Plane` in the dataset folder as a .json file, ensuring the true light profiles, mass profiles and galaxies\n",
        "are safely stored and available to check how the dataset was simulated in the future. \n",
        "\n",
        "This can be loaded via the method `Plane.from_json`."
      ]
    },
    {
      "cell_type": "code",
      "metadata": {},
      "source": [
        "plane.output_to_json(file_path=path.join(dataset_path, f\"plane.json\"))"
      ],
      "outputs": [],
      "execution_count": null
    },
    {
      "cell_type": "markdown",
      "metadata": {},
      "source": [
        "The dataset can be viewed in the folder `autogalaxy_workspace/imaging/multi/same_wavelength/simple`."
      ]
    },
    {
      "cell_type": "code",
      "metadata": {},
      "source": [],
      "outputs": [],
      "execution_count": null
    }
  ],
  "metadata": {
    "anaconda-cloud": {},
    "kernelspec": {
      "display_name": "Python 3",
      "language": "python",
      "name": "python3"
    },
    "language_info": {
      "codemirror_mode": {
        "name": "ipython",
        "version": 3
      },
      "file_extension": ".py",
      "mimetype": "text/x-python",
      "name": "python",
      "nbconvert_exporter": "python",
      "pygments_lexer": "ipython3",
      "version": "3.6.1"
    }
  },
  "nbformat": 4,
  "nbformat_minor": 4
}