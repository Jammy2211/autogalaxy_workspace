{
  "cells": [
    {
      "cell_type": "markdown",
      "metadata": {},
      "source": [
        "Simulator: Wavelength Dependent\n",
        "===============================\n",
        "\n",
        "This script simulates multi-wavelength `Imaging` of a galaxy where:\n",
        "\n",
        " - The galaxy's light is a parametric `Sersic` bulge and `Exponential` disk.\n",
        "\n",
        "Unlike other `multi` simulators, the intensity of the source galaxy is a linear function of wavelength following\n",
        "a relation `y = mx + c`.\n",
        "\n",
        "This image is used to demonstrate multi-wavelength fitting where a user specified function (e.g. `y = mx+c`) can be\n",
        "used to parameterize the wavelength variation, as opposed to simply making every `intensity` a free parameter.\n",
        "\n",
        "Three images are simulated, corresponding green g band (wavelength=464nm), red r-band (wavelength=658nm) and\n",
        "infrared I-band (wavelength=806nm) observations.\n",
        "\n",
        "This is an advanced script and assumes previous knowledge of the core **PyAutoGalaxy** API for simulating images. Thus,\n",
        "certain parts of code are not documented to ensure the script is concise."
      ]
    },
    {
      "cell_type": "code",
      "metadata": {},
      "source": [
        "%matplotlib inline\n",
        "from pyprojroot import here\n",
        "workspace_path = str(here())\n",
        "%cd $workspace_path\n",
        "print(f\"Working Directory has been set to `{workspace_path}`\")\n",
        "\n",
        "from os import path\n",
        "import autogalaxy as ag\n",
        "import autogalaxy.plot as aplt"
      ],
      "outputs": [],
      "execution_count": null
    },
    {
      "cell_type": "markdown",
      "metadata": {},
      "source": [
        "__Colors__\n",
        "\n",
        "The colors of the multi-wavelength image, which in this case are green (g-band), red (r-band) and infrared (I-band).\n",
        "\n",
        "The strings are used for naming the datasets on output."
      ]
    },
    {
      "cell_type": "code",
      "metadata": {},
      "source": [
        "color_list = [\"g\", \"r\", \"I\"]"
      ],
      "outputs": [],
      "execution_count": null
    },
    {
      "cell_type": "markdown",
      "metadata": {},
      "source": [
        "__Wavelengths__\n",
        "\n",
        "The intensity of each source galaxy is parameterized as a function of wavelength.\n",
        "\n",
        "Therefore we define a list of wavelengths of each color above."
      ]
    },
    {
      "cell_type": "code",
      "metadata": {},
      "source": [
        "wavelength_list = [464, 658, 806]"
      ],
      "outputs": [],
      "execution_count": null
    },
    {
      "cell_type": "markdown",
      "metadata": {},
      "source": [
        "__Dataset Paths__"
      ]
    },
    {
      "cell_type": "code",
      "metadata": {},
      "source": [
        "dataset_type = \"multi\"\n",
        "dataset_label = \"imaging\"\n",
        "dataset_name = \"wavelength_dependence\"\n",
        "\n",
        "dataset_path = path.join(\"dataset\", dataset_type, dataset_label, dataset_name)"
      ],
      "outputs": [],
      "execution_count": null
    },
    {
      "cell_type": "markdown",
      "metadata": {},
      "source": [
        "__Simulate__\n",
        "\n",
        "The pixel-scale of each color image is different meaning we make a list of grids for the simulation."
      ]
    },
    {
      "cell_type": "code",
      "metadata": {},
      "source": [
        "pixel_scales_list = [0.08, 0.12, 0.012]\n",
        "\n",
        "grid_list = [\n",
        "    ag.Grid2D.uniform(\n",
        "        shape_native=(150, 150),\n",
        "        pixel_scales=pixel_scales,\n",
        "        over_sampling=ag.OverSamplingIterate(\n",
        "            fractional_accuracy=0.9999, sub_steps=[2, 4, 8, 16]\n",
        "        ),\n",
        "    )\n",
        "    for pixel_scales in pixel_scales_list\n",
        "]"
      ],
      "outputs": [],
      "execution_count": null
    },
    {
      "cell_type": "markdown",
      "metadata": {},
      "source": [
        "Simulate simple Gaussian PSFs for the images in the r and g bands."
      ]
    },
    {
      "cell_type": "code",
      "metadata": {},
      "source": [
        "sigma_list = [0.1, 0.2, 0.25]\n",
        "\n",
        "psf_list = [\n",
        "    ag.Kernel2D.from_gaussian(\n",
        "        shape_native=(11, 11), sigma=sigma, pixel_scales=grid.pixel_scales\n",
        "    )\n",
        "    for grid, sigma in zip(grid_list, sigma_list)\n",
        "]"
      ],
      "outputs": [],
      "execution_count": null
    },
    {
      "cell_type": "markdown",
      "metadata": {},
      "source": [
        "Create separate simulators for the g and r bands."
      ]
    },
    {
      "cell_type": "code",
      "metadata": {},
      "source": [
        "background_sky_level_list = [0.1, 0.15, 0.1]\n",
        "\n",
        "simulator_list = [\n",
        "    ag.SimulatorImaging(\n",
        "        exposure_time=300.0,\n",
        "        psf=psf,\n",
        "        background_sky_level=background_sky_level,\n",
        "        add_poisson_noise=True,\n",
        "    )\n",
        "    for psf, background_sky_level in zip(psf_list, background_sky_level_list)\n",
        "]"
      ],
      "outputs": [],
      "execution_count": null
    },
    {
      "cell_type": "markdown",
      "metadata": {},
      "source": [
        "__Intensity vs Wavelength__\n",
        "\n",
        "We will assume that the `intensity` of the galaxy bulge and disk linearly varies as a function of wavelength, and \n",
        "therefore compute the `intensity` value for each color image using a linear relation.\n",
        "\n",
        "The relation below is not realistic and has been chosen to make it straight forward to illustrate this functionality."
      ]
    },
    {
      "cell_type": "code",
      "metadata": {},
      "source": [
        "\n",
        "\n",
        "def bulge_intensity_from(wavelength):\n",
        "    m = 1.0 / 100.0\n",
        "    c = 3\n",
        "\n",
        "    return m * wavelength + c\n",
        "\n",
        "\n",
        "def disk_intensity_from(wavelength):\n",
        "    m = -(1.2 / 100.0)\n",
        "    c = 10\n",
        "\n",
        "    return m * wavelength + c\n"
      ],
      "outputs": [],
      "execution_count": null
    },
    {
      "cell_type": "markdown",
      "metadata": {},
      "source": [
        "__Galaxies__\n",
        "\n",
        "Setup the galaxy with a bulge (elliptical Sersic) and disk (elliptical exponential) for this simulation.\n",
        "\n",
        "We will assume that the `intensity` of the bulge and disk varies as a function of wavelength, and therefore\n",
        "compute the `intensity` value for each color image using a linear relation.\n",
        "\n",
        "The relation below is not realistic and has been chosen to make it straight forward to illustrate this functionality."
      ]
    },
    {
      "cell_type": "code",
      "metadata": {},
      "source": [
        "bulge_intensity_list = [\n",
        "    bulge_intensity_from(wavelength=wavelength) for wavelength in wavelength_list\n",
        "]\n",
        "\n",
        "disk_intensity_list = [\n",
        "    disk_intensity_from(wavelength=wavelength) for wavelength in wavelength_list\n",
        "]\n",
        "\n",
        "galaxy_list = [\n",
        "    ag.Galaxy(\n",
        "        redshift=0.5,\n",
        "        bulge=ag.lp.Sersic(\n",
        "            centre=(0.0, 0.0),\n",
        "            ell_comps=ag.convert.ell_comps_from(axis_ratio=0.9, angle=45.0),\n",
        "            intensity=bulge_intensity,\n",
        "            effective_radius=0.6,\n",
        "            sersic_index=3.0,\n",
        "        ),\n",
        "        disk=ag.lp.Exponential(\n",
        "            centre=(0.0, 0.0),\n",
        "            ell_comps=ag.convert.ell_comps_from(axis_ratio=0.7, angle=30.0),\n",
        "            intensity=disk_intensity,\n",
        "            effective_radius=1.6,\n",
        "        ),\n",
        "    )\n",
        "    for bulge_intensity, disk_intensity in zip(\n",
        "        bulge_intensity_list, disk_intensity_list\n",
        "    )\n",
        "]"
      ],
      "outputs": [],
      "execution_count": null
    },
    {
      "cell_type": "markdown",
      "metadata": {},
      "source": [
        "Use these to setup galaxies at each waveband, which will generate each image for the simulated `Imaging` \n",
        "dataset."
      ]
    },
    {
      "cell_type": "code",
      "metadata": {},
      "source": [
        "galaxies_list = [ag.Galaxies(galaxies=[galaxy]) for galaxy in galaxy_list]"
      ],
      "outputs": [],
      "execution_count": null
    },
    {
      "cell_type": "markdown",
      "metadata": {},
      "source": [
        "Lets look at the images, which are the images we'll be simulating."
      ]
    },
    {
      "cell_type": "code",
      "metadata": {},
      "source": [
        "for galaxies, grid in zip(galaxies_list, grid_list):\n",
        "    galaxies_plotter = aplt.GalaxiesPlotter(galaxies=galaxies, grid=grid)\n",
        "    galaxies_plotter.figures_2d(image=True)"
      ],
      "outputs": [],
      "execution_count": null
    },
    {
      "cell_type": "markdown",
      "metadata": {},
      "source": [
        "We can now pass this simulator galaxies, which creates the image plotted above and simulates it as an\n",
        "imaging dataset."
      ]
    },
    {
      "cell_type": "code",
      "metadata": {},
      "source": [
        "dataset_list = [\n",
        "    simulator.via_galaxies_from(galaxies=galaxies, grid=grid)\n",
        "    for grid, simulator, galaxies in zip(grid_list, simulator_list, galaxies_list)\n",
        "]"
      ],
      "outputs": [],
      "execution_count": null
    },
    {
      "cell_type": "markdown",
      "metadata": {},
      "source": [
        "Plot the simulated `Imaging` dataset before outputting it to fits."
      ]
    },
    {
      "cell_type": "code",
      "metadata": {},
      "source": [
        "for dataset in dataset_list:\n",
        "    dataset_plotter = aplt.ImagingPlotter(dataset=dataset)\n",
        "    dataset_plotter.subplot_dataset()"
      ],
      "outputs": [],
      "execution_count": null
    },
    {
      "cell_type": "markdown",
      "metadata": {},
      "source": [
        "__Output__\n",
        "\n",
        "Output each simulated dataset to the dataset path as .fits files, with a tag describing its color."
      ]
    },
    {
      "cell_type": "code",
      "metadata": {},
      "source": [
        "for color, dataset in zip(color_list, dataset_list):\n",
        "    dataset.output_to_fits(\n",
        "        data_path=path.join(dataset_path, f\"{color}_data.fits\"),\n",
        "        psf_path=path.join(dataset_path, f\"{color}_psf.fits\"),\n",
        "        noise_map_path=path.join(dataset_path, f\"{color}_noise_map.fits\"),\n",
        "        overwrite=True,\n",
        "    )"
      ],
      "outputs": [],
      "execution_count": null
    },
    {
      "cell_type": "markdown",
      "metadata": {},
      "source": [
        "__Visualize__\n",
        "\n",
        "Output a subplot of the simulated dataset, the image and the galaxies quantities to the dataset path as .png files.\n",
        "\n",
        "For a faster run time, the galaxies visualization uses the binned grid instead of the iterative grid."
      ]
    },
    {
      "cell_type": "code",
      "metadata": {},
      "source": [
        "for color, dataset in zip(color_list, dataset_list):\n",
        "    mat_plot = aplt.MatPlot2D(\n",
        "        output=aplt.Output(path=dataset_path, prefix=f\"{color}_\", format=\"png\")\n",
        "    )\n",
        "\n",
        "    dataset_plotter = aplt.ImagingPlotter(dataset=dataset, mat_plot_2d=mat_plot)\n",
        "    dataset_plotter.subplot_dataset()\n",
        "    dataset_plotter.figures_2d(data=True)\n",
        "\n",
        "for color, grid, galaxies in zip(color_list, grid_list, galaxies_list):\n",
        "    mat_plot = aplt.MatPlot2D(\n",
        "        output=aplt.Output(path=dataset_path, prefix=f\"{color}_\", format=\"png\")\n",
        "    )\n",
        "\n",
        "    galaxies_plotter = aplt.GalaxiesPlotter(\n",
        "        galaxies=galaxies, grid=grid.binned, mat_plot_2d=mat_plot\n",
        "    )\n",
        "    galaxies_plotter.subplot_galaxies()\n",
        "    galaxies_plotter.subplot_galaxy_images()"
      ],
      "outputs": [],
      "execution_count": null
    },
    {
      "cell_type": "markdown",
      "metadata": {},
      "source": [
        "__Plane json__\n",
        "\n",
        "Save the `Plane` in the dataset folder as a .json file, ensuring the true light profiles, mass profiles and galaxies\n",
        "are safely stored and available to check how the dataset was simulated in the future. \n",
        "\n",
        "This can be loaded via the method `galaxies = ag.from_json()`."
      ]
    },
    {
      "cell_type": "code",
      "metadata": {},
      "source": [
        "[\n",
        "    ag.output_to_json(\n",
        "        obj=galaxies, file_path=path.join(dataset_path, f\"{color}_galaxies.json\")\n",
        "    )\n",
        "    for color, galaxies in zip(color_list, galaxies_list)\n",
        "]"
      ],
      "outputs": [],
      "execution_count": null
    },
    {
      "cell_type": "markdown",
      "metadata": {},
      "source": [
        "The dataset can be viewed in the folder `autogalaxy_workspace/imaging/multi/simple`."
      ]
    },
    {
      "cell_type": "code",
      "metadata": {},
      "source": [],
      "outputs": [],
      "execution_count": null
    }
  ],
  "metadata": {
    "anaconda-cloud": {},
    "kernelspec": {
      "display_name": "Python 3",
      "language": "python",
      "name": "python3"
    },
    "language_info": {
      "codemirror_mode": {
        "name": "ipython",
        "version": 3
      },
      "file_extension": ".py",
      "mimetype": "text/x-python",
      "name": "python",
      "nbconvert_exporter": "python",
      "pygments_lexer": "ipython3",
      "version": "3.6.1"
    }
  },
  "nbformat": 4,
  "nbformat_minor": 4
}