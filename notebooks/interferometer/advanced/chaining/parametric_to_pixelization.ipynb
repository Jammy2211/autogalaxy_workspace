{
  "cells": [
    {
      "cell_type": "markdown",
      "metadata": {},
      "source": [
        "Chaining: Parametric To Pixelization\n",
        "====================================\n",
        "\n",
        "This script chains two searches to fit `Interferometer` data of a galaxy with a model where:\n",
        "\n",
        " - The galaxy's bulge is an `Sersic`.\n",
        " - The galaxy's disk is an `Exponential`.\n",
        " - The galaxy's has four star forming clumps which are `Sersic` profiles.\n",
        "\n",
        "The three searches break down as follows:\n",
        "\n",
        " 1) Model the galaxy's bulge and disk components using a linear parametric `Sersic` and `Exponential` profiles that\n",
        " are fixed to the centre of the image.\n",
        " 2) Fix these components to the maximum likelihood solution and add an `Inversion` which fits the clumps.\n",
        " 3) Fit the bulge and disk light profiles simultaneously with the inversion that fits the clumps.\n",
        "\n",
        "__Why Chain?__\n",
        "\n",
        "There are a number of benefits of chaining a linear parametric galaxy model and `Inversion`, as opposed to fitting the\n",
        "`Inversion` in one search:\n",
        "\n",
        " - The bulge and disk can be estimate somewhat accurately before we attempt to model the clumps. Thus, we can get\n",
        " a quick estimate of their parameters.\n",
        "\n",
        " - Parametric sources are computationally faster to fit. Therefore, even though the `Sersic` has more\n",
        " parameters for the search to fit than an `Inversion`, the model-fit is faster overall.\n",
        "\n",
        "__Preloading__\n",
        "\n",
        "When certain components of a model are fixed its associated quantities do not change during a model-fit. For\n",
        "example, for a model where all light profiles are fixed, the PSF blurred model-image of those light profiles\n",
        "is also fixed.\n",
        "\n",
        "**PyAutoGalaxy** uses _implicit preloading_ to inspect the model and determine what quantities are fixed. It then stores\n",
        "these in memory before the non-linear search begins such that they are not recomputed for every likelihood evaluation.\n",
        "\n",
        "In this example no preloading occurs."
      ]
    },
    {
      "cell_type": "code",
      "metadata": {},
      "source": [
        "%matplotlib inline\n",
        "from pyprojroot import here\n",
        "workspace_path = str(here())\n",
        "%cd $workspace_path\n",
        "print(f\"Working Directory has been set to `{workspace_path}`\")\n",
        "\n",
        "from os import path\n",
        "import autofit as af\n",
        "import autogalaxy as ag\n",
        "import autogalaxy.plot as aplt"
      ],
      "outputs": [],
      "execution_count": null
    },
    {
      "cell_type": "markdown",
      "metadata": {},
      "source": [
        "__Dataset + Masking__ \n",
        "\n",
        "Load, plot and mask the `Interferometer` data."
      ]
    },
    {
      "cell_type": "code",
      "metadata": {},
      "source": [
        "real_space_mask = ag.Mask2D.circular(\n",
        "    shape_native=(151, 151), pixel_scales=0.05, radius=3.0\n",
        ")\n",
        "\n",
        "dataset_name = \"simple\"\n",
        "dataset_path = path.join(\"dataset\", \"interferometer\", dataset_name)\n",
        "\n",
        "dataset = ag.Interferometer.from_fits(\n",
        "    data_path=path.join(dataset_path, \"data.fits\"),\n",
        "    noise_map_path=path.join(dataset_path, \"noise_map.fits\"),\n",
        "    uv_wavelengths_path=path.join(dataset_path, \"uv_wavelengths.fits\"),\n",
        "    real_space_mask=real_space_mask,\n",
        "    transformer_class=ag.TransformerDFT,\n",
        ")"
      ],
      "outputs": [],
      "execution_count": null
    },
    {
      "cell_type": "markdown",
      "metadata": {},
      "source": [
        "__Paths__\n",
        "\n",
        "The path the results of all chained searches are output:"
      ]
    },
    {
      "cell_type": "code",
      "metadata": {},
      "source": [
        "path_prefix = path.join(\"imaging\", \"chaining\", \"parametric_to_pixelization\")"
      ],
      "outputs": [],
      "execution_count": null
    },
    {
      "cell_type": "markdown",
      "metadata": {},
      "source": [
        "__Inversion Settings (Run Times)__\n",
        "\n",
        "The run times of an interferometer `Inversion` depend significantly on the following settings:\n",
        "\n",
        " - `transformer_class`: whether a discrete Fourier transform (`TransformerDFT`) or non-uniform fast Fourier Transform\n",
        " (`TransformerNUFFT) is used to map the inversion's image from real-space to Fourier space.\n",
        "\n",
        " - `use_linear_operators`: whether the linear operator formalism or matrix formalism is used for the linear algebra.\n",
        "\n",
        "The optimal settings depend on the number of visibilities in the dataset:\n",
        "\n",
        " - For N_visibilities < 1000: `transformer_class=TransformerDFT` and `use_linear_operators=False` gives the fastest\n",
        " run-times.\n",
        " - For  N_visibilities > ~10000: use `transformer_class=TransformerNUFFT`  and `use_linear_operators=True`.\n",
        "\n",
        "The dataset modeled by default in this script has just 200 visibilties, therefore `transformer_class=TransformerDFT`\n",
        "and `use_linear_operators=False`. If you are using this script to model your own dataset with a different number of\n",
        "visibilities, you should update the options below accordingly.\n",
        "\n",
        "The script `autogalaxy_workspace/*/interferometer/profiling.py` allows you to compute the run-time of an inversion\n",
        "for your interferometer dataset. It does this for all possible combinations of settings and therefore can tell you\n",
        "which settings give the fastest run times for your dataset."
      ]
    },
    {
      "cell_type": "code",
      "metadata": {},
      "source": [
        "settings_inversion = ag.SettingsInversion(use_linear_operators=False)"
      ],
      "outputs": [],
      "execution_count": null
    },
    {
      "cell_type": "markdown",
      "metadata": {},
      "source": [
        "We now create the `Interferometer` object which is used to fit the galaxy model.\n",
        "\n",
        "This includes the method used to Fourier transform the real-space image of the galaxy to the uv-plane and compare \n",
        "directly to the visiblities. We use a non-uniform fast Fourier transform, which is the most efficient method for \n",
        "interferometer datasets containing ~1-10 million visibilities."
      ]
    },
    {
      "cell_type": "code",
      "metadata": {},
      "source": [
        "dataset_plotter = aplt.InterferometerPlotter(dataset=dataset)\n",
        "dataset_plotter.subplot_dataset()\n",
        "dataset_plotter.subplot_dirty_images()"
      ],
      "outputs": [],
      "execution_count": null
    },
    {
      "cell_type": "markdown",
      "metadata": {},
      "source": [
        "__Model__\n",
        "\n",
        "Search 1 we fit a model where:\n",
        "\n",
        " - The galaxy's bulge is an `Sersic` with fixed centre [5 parameters].\n",
        " \n",
        " - The galaxy's disk is an `Exponential` with fixed centre [4 parameters].\n",
        " \n",
        "The number of free parameters and therefore the dimensionality of non-linear parameter space is N=9."
      ]
    },
    {
      "cell_type": "code",
      "metadata": {},
      "source": [
        "bulge = af.Model(ag.lp_linear.Sersic)\n",
        "disk = af.Model(ag.lp_linear.Exponential)\n",
        "\n",
        "bulge.centre_0 = 0.0\n",
        "bulge.centre_1 = 0.0\n",
        "disk.centre_0 = 0.0\n",
        "disk.centre_1 = 0.0\n",
        "\n",
        "galaxy = af.Model(ag.Galaxy, redshift=0.5, bulge=bulge, disk=disk)\n",
        "\n",
        "model_1 = af.Collection(galaxies=af.Collection(galaxy=galaxy))\n",
        "# %%\n",
        "'''\n",
        "__Search + Analysis + Model-Fit (Search 1)__\n",
        "\n",
        "We now create the non-linear search, analysis and perform the model-fit using this model.\n",
        "\n",
        "You may wish to inspect the results of the search 1 model-fit to ensure a fast non-linear search has been provided that \n",
        "provides a reasonably accurate model.\n",
        "'''"
      ],
      "outputs": [],
      "execution_count": null
    },
    {
      "cell_type": "code",
      "metadata": {},
      "source": [
        "search_1 = af.Nautilus(\n",
        "    path_prefix=path_prefix,\n",
        "    name=\"search[1]__parametric\",\n",
        "    unique_tag=dataset_name,\n",
        "    n_live=100,\n",
        ")\n",
        "\n",
        "analysis_1 = ag.AnalysisInterferometer(dataset=dataset)\n",
        "\n",
        "result_1 = search_1.fit(model=model_1, analysis=analysis_1)"
      ],
      "outputs": [],
      "execution_count": null
    },
    {
      "cell_type": "markdown",
      "metadata": {},
      "source": [
        "__Result (Search 1)__\n",
        "\n",
        "The results which are used for prior passing are summarized in the `info` attribute."
      ]
    },
    {
      "cell_type": "code",
      "metadata": {},
      "source": [
        "print(result_1.info)\n"
      ],
      "outputs": [],
      "execution_count": null
    },
    {
      "cell_type": "markdown",
      "metadata": {},
      "source": [
        "__Model (Search 2)__\n",
        "\n",
        "We use the results of search 1 to create the model fitted in search 2, where:\n",
        "\n",
        " - The galaxy's bulge is an `Sersic` [0 parameters: parameters fixed from search 1].\n",
        " \n",
        " - The galaxy's disk is an `Exponential` [0 parameters: parameters fixed from search 1].\n",
        "\n",
        " - The galaxy's clumps are reconstructed `Rectangular` mesh with resolution 50 x 50 [0 parameters].\n",
        "\n",
        " - This pixelization is regularized using a `Constant` scheme [1 parameter]. \n",
        "\n",
        "The number of free parameters and therefore the dimensionality of non-linear parameter space is N=1.\n",
        "\n",
        "This search allows us to very efficiently set up the resolution of the mesh and regularization coefficient \n",
        "of the regularization scheme, before using these models to refit the galaxy mass model.\n",
        "\n",
        "The term `model` below passes the source model as model-components that are to be fitted for by the \n",
        "non-linear search. We pass the `lens` as a `model`, so that we can use the mass model inferred by search 1. The source\n",
        "does not use any priors from the result of search 1."
      ]
    },
    {
      "cell_type": "code",
      "metadata": {},
      "source": [
        "pixelization = af.Model(\n",
        "    ag.Pixelization, mesh=ag.mesh.Rectangular, regularization=ag.reg.Constant\n",
        ")\n",
        "\n",
        "galaxy = af.Model(\n",
        "    ag.Galaxy,\n",
        "    redshift=0.5,\n",
        "    bulge=result_1.instance.galaxies.galaxy.bulge,\n",
        "    disk=result_1.instance.galaxies.galaxy.disk,\n",
        "    pixelization=pixelization,\n",
        ")\n",
        "\n",
        "model_2 = af.Collection(galaxies=af.Collection(galaxy=galaxy))"
      ],
      "outputs": [],
      "execution_count": null
    },
    {
      "cell_type": "markdown",
      "metadata": {},
      "source": [
        "__Analysis + Search + Model-Fit (Search 2)__\n",
        "\n",
        "We now create the non-linear search and perform the model-fit using this model."
      ]
    },
    {
      "cell_type": "code",
      "metadata": {},
      "source": [
        "analysis_2 = ag.AnalysisInterferometer(\n",
        "    dataset=dataset, settings_inversion=settings_inversion\n",
        ")\n",
        "\n",
        "search_2 = af.Nautilus(\n",
        "    path_prefix=path_prefix,\n",
        "    name=\"search[3]__pixelization_fixed_parametric\",\n",
        "    unique_tag=dataset_name,\n",
        "    n_live=80,\n",
        ")\n",
        "\n",
        "result_2 = search_2.fit(model=model_2, analysis=analysis_2)"
      ],
      "outputs": [],
      "execution_count": null
    },
    {
      "cell_type": "markdown",
      "metadata": {},
      "source": [
        "The results which are again used for prior passing can be summarized via printing `info`."
      ]
    },
    {
      "cell_type": "code",
      "metadata": {},
      "source": [
        "print(result_2.info)"
      ],
      "outputs": [],
      "execution_count": null
    },
    {
      "cell_type": "markdown",
      "metadata": {},
      "source": [
        "__Model + Search (Search 3)__\n",
        "\n",
        "We use the results of searches 1 and 2 to create the model fitted in search 3, where:\n",
        "\n",
        " - The galaxy's bulge is an `Sersic` [7 parameters: priors initialized from search 1].\n",
        "\n",
        " - The galaxy's disk is an `Exponential` [6 parameters: priors initialized from search 1].\n",
        "\n",
        " - The galaxy's light uses a `Rectangular` mesh[parameters fixed to results of search 2].\n",
        "\n",
        " - This pixelization is regularized using a `Constant` scheme [parameters fixed to results of search 2]. \n",
        "\n",
        "The number of free parameters and therefore the dimensionality of non-linear parameter space is N=13.\n",
        "\n",
        "This search allows us to refit the bulge and disk components with an inversion that takes care of the clumps."
      ]
    },
    {
      "cell_type": "code",
      "metadata": {},
      "source": [
        "bulge = af.Model(ag.lp_linear.Sersic)\n",
        "bulge.ell_comps = result_1.model.galaxies.galaxy.bulge.ell_comps\n",
        "bulge.effective_radius = result_1.model.galaxies.galaxy.bulge.effective_radius\n",
        "bulge.sersic_index = result_1.model.galaxies.galaxy.bulge.sersic_index\n",
        "\n",
        "disk = af.Model(ag.lp_linear.Sersic)\n",
        "disk.ell_comps = result_1.model.galaxies.galaxy.disk.ell_comps\n",
        "disk.effective_radius = result_1.model.galaxies.galaxy.disk.effective_radius\n",
        "\n",
        "galaxy = af.Model(\n",
        "    ag.Galaxy,\n",
        "    redshift=0.5,\n",
        "    bulge=bulge,\n",
        "    disk=disk,\n",
        "    pixelization=ag.mesh.Rectangular,\n",
        "    regularization=ag.reg.Constant,\n",
        ")\n",
        "\n",
        "model_3 = af.Collection(galaxies=af.Collection(galaxy=galaxy))"
      ],
      "outputs": [],
      "execution_count": null
    },
    {
      "cell_type": "markdown",
      "metadata": {},
      "source": [
        "__Analysis + Search + Model-Fit (Search 3)__\n",
        "\n",
        "We now create the non-linear search and perform the model-fit using this model."
      ]
    },
    {
      "cell_type": "code",
      "metadata": {},
      "source": [
        "search_3 = af.Nautilus(\n",
        "    path_prefix=path_prefix,\n",
        "    name=\"search[3]__parametric_and_pixelization\",\n",
        "    unique_tag=dataset_name,\n",
        "    n_live=100,\n",
        ")\n",
        "\n",
        "analysis_3 = ag.AnalysisInterferometer(dataset=dataset)\n",
        "\n",
        "result_3 = search_3.fit(model=model_3, analysis=analysis_3)"
      ],
      "outputs": [],
      "execution_count": null
    },
    {
      "cell_type": "markdown",
      "metadata": {},
      "source": [
        "The results can be summarized via printing `info`."
      ]
    },
    {
      "cell_type": "code",
      "metadata": {},
      "source": [
        "print(result_3.info)"
      ],
      "outputs": [],
      "execution_count": null
    },
    {
      "cell_type": "markdown",
      "metadata": {},
      "source": [
        "__Wrap Up__\n",
        "\n",
        "In this example, we passed used prior passing to initialize a linear parametric light profile fit passed this model to a \n",
        "second search which modeled the galaxy's star forming clumps using an `Inversion`. We finished with a third \n",
        "search which fitted everything simultaneously, ensuring an accurate estimate of the galaxy's bulge and disk.\n",
        "\n",
        "This was more computationally efficient than just fitting the light profiles and inversion from the offset."
      ]
    },
    {
      "cell_type": "code",
      "metadata": {},
      "source": [],
      "outputs": [],
      "execution_count": null
    }
  ],
  "metadata": {
    "anaconda-cloud": {},
    "kernelspec": {
      "display_name": "Python 3",
      "language": "python",
      "name": "python3"
    },
    "language_info": {
      "codemirror_mode": {
        "name": "ipython",
        "version": 3
      },
      "file_extension": ".py",
      "mimetype": "text/x-python",
      "name": "python",
      "nbconvert_exporter": "python",
      "pygments_lexer": "ipython3",
      "version": "3.6.1"
    }
  },
  "nbformat": 4,
  "nbformat_minor": 4
}