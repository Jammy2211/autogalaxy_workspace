{
  "cells": [
    {
      "cell_type": "markdown",
      "metadata": {},
      "source": [
        "Modeling: Light Basis\n",
        "=====================\n",
        "\n",
        "This script fits `Interferometer` dataset of a galaxy with a model where:\n",
        "\n",
        " - The galaxy's bulge is a super position of `Gaussian`` profiles.\n",
        " - The galaxy's disk is a super position of `Gaussian`` profiles.\n",
        "\n",
        "__Basis Fitting__\n",
        "\n",
        "Fits using symmetric light profiles such as elliptical Sersics often leave significant residuals, because they do not\n",
        "capture irregular and asymmetric features within a galaxy, for example isophotal twists, varying radial ellipticity or\n",
        "disruption due to mergers.\n",
        "\n",
        "Basis fitting uses a super position of light profiles to represent the different structural components within a\n",
        "galaxy. The `intensity` value of every basis function is solved for via linear\n",
        "algebra (see `light_parametric_linear.py`), meaning that the super position can adapt so as to capture these\n",
        "irregular and asymmetric features.\n",
        "\n",
        "This example fits a galaxy with asymmetric features using two sets of bases, where each basis set represents the\n",
        "galaxy's `bulge` or` disk`. For each component, a basis of 10 elliptical Gaussians is used, where the centres,\n",
        "axis-ratio and position angles of all 10 Gausssian's are the same but their sizes `sigma` gradually increase. This\n",
        "offers the model flexibility necessary to capture asymmetric features in the galaxy.\n",
        "\n",
        "__Start Here Notebook__\n",
        "\n",
        "If any code in this script is unclear, refer to the `modeling/start_here.ipynb` notebook."
      ]
    },
    {
      "cell_type": "code",
      "metadata": {},
      "source": [
        "%matplotlib inline\n",
        "from pyprojroot import here\n",
        "workspace_path = str(here())\n",
        "%cd $workspace_path\n",
        "print(f\"Working Directory has been set to `{workspace_path}`\")\n",
        "\n",
        "from os import path\n",
        "import autofit as af\n",
        "import autogalaxy as ag\n",
        "import autogalaxy.plot as aplt\n",
        "import numpy as np"
      ],
      "outputs": [],
      "execution_count": null
    },
    {
      "cell_type": "markdown",
      "metadata": {},
      "source": [
        "__Mask__\n",
        "\n",
        "We define the \u2018real_space_mask\u2019 which defines the grid the image the galaxy is evaluated using."
      ]
    },
    {
      "cell_type": "code",
      "metadata": {},
      "source": [
        "real_space_mask = ag.Mask2D.circular(\n",
        "    shape_native=(800, 800), pixel_scales=0.05, radius=4.0, sub_size=1\n",
        ")"
      ],
      "outputs": [],
      "execution_count": null
    },
    {
      "cell_type": "markdown",
      "metadata": {},
      "source": [
        "__Dataset__\n",
        "\n",
        "Load and plot the galaxy `Interferometer` dataset `simple__sersic` from .fits files, which we will fit \n",
        "with the model."
      ]
    },
    {
      "cell_type": "code",
      "metadata": {},
      "source": [
        "dataset_name = \"simple\"\n",
        "dataset_path = path.join(\"dataset\", \"interferometer\", dataset_name)\n",
        "\n",
        "dataset = ag.Interferometer.from_fits(\n",
        "    data_path=path.join(dataset_path, \"data.fits\"),\n",
        "    noise_map_path=path.join(dataset_path, \"noise_map.fits\"),\n",
        "    uv_wavelengths_path=path.join(dataset_path, \"uv_wavelengths.fits\"),\n",
        "    real_space_mask=real_space_mask,\n",
        ")\n",
        "\n",
        "dataset_plotter = aplt.InterferometerPlotter(dataset=dataset)\n",
        "dataset_plotter.subplot_dataset()\n",
        "dataset_plotter.subplot_dirty_images()"
      ],
      "outputs": [],
      "execution_count": null
    },
    {
      "cell_type": "markdown",
      "metadata": {},
      "source": [
        "We now create the `Interferometer` object which is used to fit the model.\n",
        "\n",
        "This includes a `SettingsInterferometer`, which includes the method used to Fourier transform the real-space \n",
        "image of the galaxy to the uv-plane and compare directly to the visiblities. We use a non-uniform fast Fourier \n",
        "transform, which is the most efficient method for interferometer datasets containing ~1-10 million visibilities."
      ]
    },
    {
      "cell_type": "code",
      "metadata": {},
      "source": [
        "settings_dataset = ag.SettingsInterferometer(transformer_class=ag.TransformerNUFFT)\n"
      ],
      "outputs": [],
      "execution_count": null
    },
    {
      "cell_type": "markdown",
      "metadata": {},
      "source": [
        "__Model__\n",
        "\n",
        "We compose our model where in this example:\n",
        "\n",
        " - The galaxy's bulge is a superposition of 10 parametric linear `Gaussian` profiles [6 parameters]. \n",
        " - The centres and elliptical components of the Gaussians are all linked together.\n",
        " - The `sigma` size of the Gaussians increases following a relation `y = a + (log10(i+1) + b)`, where `i` is the \n",
        " Gaussian index and `a` and `b` are free parameters.\n",
        "\n",
        "The number of free parameters and therefore the dimensionality of non-linear parameter space is N=6.\n",
        "\n",
        "__Relations__\n",
        "\n",
        "The model below is composed using relations of the form `y = a + (log10(i+1) + b)`, where the values  of `a` \n",
        "and `b` are the non-linear free parameters fitted for by `nautilus`.\n",
        "\n",
        "Because `a` and `b` are free parameters (as opposed to `sigma` which can assume many values), we are able to \n",
        "compose and fit `Basis` objects which can capture very complex light distributions with just N = 5-10 non-linear \n",
        "parameters!\n",
        "\n",
        "__Coordinates__\n",
        "\n",
        "**PyAutoGalaxy** assumes that the galaxy centre is near the coordinates (0.0\", 0.0\"). \n",
        "\n",
        "If for your dataset the galaxy is not centred at (0.0\", 0.0\"), we recommend that you either: \n",
        "\n",
        " - Reduce your data so that the centre is (`autogalaxy_workspace/*/preprocess`). \n",
        " - Manually override the model priors (`autogalaxy_workspace/*/imaging/modeling/customize/priors.py`)."
      ]
    },
    {
      "cell_type": "code",
      "metadata": {},
      "source": [
        "bulge_a = af.UniformPrior(lower_limit=0.0, upper_limit=0.2)\n",
        "bulge_b = af.UniformPrior(lower_limit=0.0, upper_limit=10.0)\n",
        "\n",
        "gaussians_bulge = af.Collection(af.Model(ag.lp_linear.Gaussian) for _ in range(10))\n",
        "\n",
        "for i, gaussian in enumerate(gaussians_bulge):\n",
        "    gaussian.centre = gaussians_bulge[0].centre\n",
        "    gaussian.ell_comps = gaussians_bulge[0].ell_comps\n",
        "    gaussian.sigma = bulge_a + (bulge_b * np.log10(i + 1))\n",
        "\n",
        "bulge = af.Model(\n",
        "    ag.lp_basis.Basis,\n",
        "    light_profile_list=gaussians_bulge,\n",
        "    regularization=ag.reg.Constant,\n",
        ")\n",
        "galaxy = af.Model(ag.Galaxy, redshift=0.5, bulge=bulge)\n",
        "\n",
        "model = af.Collection(galaxies=af.Collection(galaxy=galaxy))"
      ],
      "outputs": [],
      "execution_count": null
    },
    {
      "cell_type": "markdown",
      "metadata": {},
      "source": [
        "The `info` attribute shows the model in a readable format, which has a lot more parameters than other examples\n",
        "as it shows the parameters of every individual Gaussian.\n",
        "\n",
        "[The `info` below may not display optimally on your computer screen, for example the whitespace between parameter\n",
        "names on the left and parameter priors on the right may lead them to appear across multiple lines. This is a\n",
        "common issue in Jupyter notebooks.\n",
        "\n",
        "The`info_whitespace_length` parameter in the file `config/generag.yaml` in the [output] section can be changed to \n",
        "increase or decrease the amount of whitespace (The Jupyter notebook kernel will need to be reset for this change to \n",
        "appear in a notebook).]"
      ]
    },
    {
      "cell_type": "code",
      "metadata": {},
      "source": [
        "print(model.info)"
      ],
      "outputs": [],
      "execution_count": null
    },
    {
      "cell_type": "markdown",
      "metadata": {},
      "source": [
        "__Search__\n",
        "\n",
        "The model is fitted to the data using a non-linear search. In this example, we use the nested sampling algorithm \n",
        "Nautilus (https://nautilus.readthedocs.io/en/latest/).\n",
        "\n",
        "The folders: \n",
        "\n",
        " - `autogalaxy_workspace/*/imaging/modeling/searches`.\n",
        " - `autogalaxy_workspace/*/imaging/modeling/customize`\n",
        "  \n",
        "Give overviews of the  non-linear searches **PyAutoGalaxy** supports and more details on how to customize the\n",
        "model-fit, including the priors on the model. \n",
        "\n",
        "The `name` and `path_prefix` below specify the path where results are stored in the output folder:  \n",
        "\n",
        " `/autogalaxy_workspace/output/imaging/simple__sersic/mass[sie]/unique_identifier`.\n",
        "\n",
        "__Unique Identifier__\n",
        "\n",
        "In the path above, the `unique_identifier` appears as a collection of characters, where this identifier is generated \n",
        "based on the model, search and dataset that are used in the fit.\n",
        " \n",
        "An identical combination of model, search and dataset generates the same identifier, meaning that rerunning the\n",
        "script will use the existing results to resume the model-fit. In contrast, if you change the model, search or dataset,\n",
        "a new unique identifier will be generated, ensuring that the model-fit results are output into a separate folder.\n",
        "\n",
        "__Number Of Cores__\n",
        "\n",
        "We include an input `number_of_cores`, which when above 1 means that Nautilus uses parallel processing to sample multiple \n",
        "models at once on your CPU. When `number_of_cores=2` the search will run roughly two times as\n",
        "fast, for `number_of_cores=3` three times as fast, and so on. The downside is more cores on your CPU will be in-use\n",
        "which may hurt the general performance of your computer.\n",
        "\n",
        "You should experiment to figure out the highest value which does not give a noticeable loss in performance of your \n",
        "computer. If you know that your processor is a quad-core processor you should be able to use `number_of_cores=4`. \n",
        "\n",
        "Above `number_of_cores=4` the speed-up from parallelization diminishes greatly. We therefore recommend you do not\n",
        "use a value above this.\n",
        "\n",
        "For users on a Windows Operating system, using `number_of_cores>1` may lead to an error, in which case it should be \n",
        "reduced back to 1 to fix it."
      ]
    },
    {
      "cell_type": "code",
      "metadata": {},
      "source": [
        "search = af.Nautilus(\n",
        "    path_prefix=path.join(\"interferometer\", \"modeling\"),\n",
        "    name=\"light[basis]\",\n",
        "    unique_tag=dataset_name,\n",
        "    n_live=100,\n",
        "    number_of_cores=1,\n",
        ")"
      ],
      "outputs": [],
      "execution_count": null
    },
    {
      "cell_type": "markdown",
      "metadata": {},
      "source": [
        "__Analysis__\n",
        "\n",
        "The `AnalysisInterferometer` object defines the `log_likelihood_function` used by the non-linear search to fit the \n",
        "model to the `Interferometer`dataset."
      ]
    },
    {
      "cell_type": "code",
      "metadata": {},
      "source": [
        "analysis = ag.AnalysisInterferometer(\n",
        "    dataset=dataset, settings_inversion=ag.SettingsInversion(use_w_tilde=False)\n",
        ")"
      ],
      "outputs": [],
      "execution_count": null
    },
    {
      "cell_type": "markdown",
      "metadata": {},
      "source": [
        "__Model-Fit__\n",
        "\n",
        "We can now begin the model-fit by passing the model and analysis object to the search, which performs a non-linear\n",
        "search to find which models fit the data with the highest likelihood.\n",
        "\n",
        "Checkout the output folder for live outputs of the results of the fit, including on-the-fly visualization of the best \n",
        "fit model!"
      ]
    },
    {
      "cell_type": "code",
      "metadata": {},
      "source": [
        "result = search.fit(model=model, analysis=analysis)"
      ],
      "outputs": [],
      "execution_count": null
    },
    {
      "cell_type": "markdown",
      "metadata": {},
      "source": [
        "__Result__\n",
        "\n",
        "The search returns a result object, which whose `info` attribute shows the result in a readable format.\n",
        "\n",
        "[Above, we discussed that the `info_whitespace_length` parameter in the config files could b changed to make \n",
        "the `model.info` attribute display optimally on your computer. This attribute also controls the whitespace of the\n",
        "`result.info` attribute.]"
      ]
    },
    {
      "cell_type": "code",
      "metadata": {},
      "source": [
        "print(result.info)"
      ],
      "outputs": [],
      "execution_count": null
    },
    {
      "cell_type": "markdown",
      "metadata": {},
      "source": [
        "The `Result` object also contains:\n",
        "\n",
        " - The model corresponding to the maximum log likelihood solution in parameter space.\n",
        " - The corresponding maximum log likelihood `Plane` and `FitImaging` objects.Information on the posterior as estimated by the `Nautilus` non-linear search. "
      ]
    },
    {
      "cell_type": "code",
      "metadata": {},
      "source": [
        "print(result.max_log_likelihood_instance)\n",
        "\n",
        "galaxies_plotter = aplt.GalaxiesPlotter(\n",
        "    galaxies=result.max_log_likelihood_galaxies,\n",
        "    grid=real_space_mask.derive_grid.unmasked_sub_1,\n",
        ")\n",
        "galaxies_plotter.subplot()\n",
        "fit_plotter = aplt.FitInterferometerPlotter(fit=result.max_log_likelihood_fit)\n",
        "fit_plotter.subplot_fit()\n",
        "fit_plotter.subplot_fit_dirty_images()\n",
        "\n",
        "plotter = aplt.NestPlotter(samples=result.samples)\n",
        "plotter.corner_cornerpy()"
      ],
      "outputs": [],
      "execution_count": null
    },
    {
      "cell_type": "markdown",
      "metadata": {},
      "source": [
        "Checkout `autogalaxy_workspace/*/imaging/results` for a full description of analysing results in **PyAutoGalaxy**, which \n",
        "includes a dedicated tutorial for linear objects like basis functions.\n",
        "\n",
        "__Regularization__\n",
        "\n",
        "There is one downside to `Basis` functions, we may compose a model with too much freedom. The `Basis` (e.g. our 20\n",
        "Gaussians) may overfit noise in the data, or possible the galaxyed source galaxy emission -- neither of which we \n",
        "want to happen! \n",
        "\n",
        "To circumvent this issue, we have the option of adding regularization to a `Basis`. Regularization penalizes\n",
        "solutions which are not smooth -- it is essentially a prior that says we expect the component the `Basis` represents\n",
        "(e.g. a bulge or disk) to be smooth, in that its light changes smoothly as a function of radius.\n",
        "\n",
        "Below, we compose and fit a model using Basis functions which includes regularization, which adds one addition \n",
        "parameter to the fit, the `coefficient`, which controls the degree of smoothing applied."
      ]
    },
    {
      "cell_type": "code",
      "metadata": {},
      "source": [
        "bulge = af.Model(\n",
        "    ag.lp_basis.Basis,\n",
        "    light_profile_list=gaussians_bulge,\n",
        "    regularization=ag.reg.Constant,\n",
        ")\n",
        "galaxy = af.Model(ag.Galaxy, redshift=0.5, bulge=bulge)\n",
        "\n",
        "model = af.Collection(galaxies=af.Collection(galaxy=galaxy))"
      ],
      "outputs": [],
      "execution_count": null
    },
    {
      "cell_type": "markdown",
      "metadata": {},
      "source": [
        "The `info` attribute shows the model, which has addition priors now associated with regularization."
      ]
    },
    {
      "cell_type": "code",
      "metadata": {},
      "source": [
        "print(model.info)\n",
        "\n",
        "search = af.Nautilus(\n",
        "    path_prefix=path.join(\"imaging\", \"modeling\"),\n",
        "    name=\"light[basis_regularized]\",\n",
        "    unique_tag=dataset_name,\n",
        "    n_live=150,\n",
        "    number_of_cores=1,\n",
        ")\n",
        "\n",
        "result = search.fit(model=model, analysis=analysis)"
      ],
      "outputs": [],
      "execution_count": null
    },
    {
      "cell_type": "markdown",
      "metadata": {},
      "source": [
        "To learn more about Basis functions, regularization and when you should use them, checkout the \n",
        "following **HowToGalaxy** tutorials:\n",
        "\n",
        " - `howtogalaxy/chapter_2_lens_modeling/tutorial_5_linear_profiles.ipynb`.\n",
        " - `howtogalaxy/chapter_4_pixelizations/tutorial_4_bayesian_regularization.ipynb."
      ]
    },
    {
      "cell_type": "code",
      "metadata": {},
      "source": [],
      "outputs": [],
      "execution_count": null
    }
  ],
  "metadata": {
    "anaconda-cloud": {},
    "kernelspec": {
      "display_name": "Python 3",
      "language": "python",
      "name": "python3"
    },
    "language_info": {
      "codemirror_mode": {
        "name": "ipython",
        "version": 3
      },
      "file_extension": ".py",
      "mimetype": "text/x-python",
      "name": "python",
      "nbconvert_exporter": "python",
      "pygments_lexer": "ipython3",
      "version": "3.6.1"
    }
  },
  "nbformat": 4,
  "nbformat_minor": 4
}