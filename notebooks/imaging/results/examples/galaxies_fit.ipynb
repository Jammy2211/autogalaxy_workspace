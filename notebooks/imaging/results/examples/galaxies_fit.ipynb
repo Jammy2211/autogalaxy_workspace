{
  "cells": [
    {
      "cell_type": "markdown",
      "metadata": {},
      "source": [
        "Results: Galaxies and Fits\n",
        "===========================\n",
        "\n",
        "This tutorial inspects an inferred model using galaxies inferred by the non-linear search.\n",
        "This allows us to visualize and interpret its results.\n",
        "\n",
        "The galaxies and fit API is described fully in the guides:\n",
        "\n",
        " - `autogalaxy_workspace/*/guides/galaxies.ipynb`\n",
        " - `autogalaxy_workspace/*/guides/fit.ipynb`\n",
        "\n",
        "This result example only explains specific functionality for using a `Result` object to inspect galaxies or a fit\n",
        "and therefore you should read these guides in detail first.\n",
        "\n",
        "__Plot Module__\n",
        "\n",
        "This example uses the plot module to plot the results, including `Plotter` objects that make\n",
        "the figures and `MatPlot` objects that wrap matplotlib to customize the figures.\n",
        "\n",
        "The visualization API is straightforward but is explained in the `autogalaxy_workspace/*/plot` package in full.\n",
        "This includes detailed guides on how to customize every aspect of the figures, which can easily be combined with the\n",
        "code outlined in this tutorial.\n",
        "\n",
        "__Units__\n",
        "\n",
        "In this example, all quantities are **PyAutoGalaxy**'s internal unit coordinates, with spatial coordinates in\n",
        "arc seconds, luminosities in electrons per second and mass quantities (e.g. convergence) are dimensionless.\n",
        "\n",
        "The results example `units_and_cosmology.ipynb` illustrates how to convert these quantities to physical units like\n",
        "kiloparsecs, magnitudes and solar masses.\n",
        "\n",
        "__Data Structures__\n",
        "\n",
        "Quantities inspected in this example script use **PyAutoGalaxy** bespoke data structures for storing arrays, grids,\n",
        "vectors and other 1D and 2D quantities. These use the `slim` and `native` API to toggle between representing the\n",
        "data in 1D numpy arrays or high dimension numpy arrays.\n",
        "\n",
        "This tutorial will only use the `slim` properties which show results in 1D numpy arrays of\n",
        "shape [total_unmasked_pixels]. This is a slimmed-down representation of the data in 1D that contains only the\n",
        "unmasked data points\n",
        "\n",
        "These are documented fully in the `autogalaxy_workspace/*/guides/data_structure.ipynb` guide.\n",
        "\n",
        "__Start Here Notebook__\n",
        "\n",
        "If any code in this script is unclear, refer to the `results/start_here.ipynb` notebook."
      ]
    },
    {
      "cell_type": "code",
      "metadata": {},
      "source": [
        "%matplotlib inline\n",
        "from pyprojroot import here\n",
        "workspace_path = str(here())\n",
        "%cd $workspace_path\n",
        "print(f\"Working Directory has been set to `{workspace_path}`\")\n",
        "\n",
        "from os import path\n",
        "import autofit as af\n",
        "import autogalaxy as ag\n",
        "import autogalaxy.plot as aplt"
      ],
      "outputs": [],
      "execution_count": null
    },
    {
      "cell_type": "markdown",
      "metadata": {},
      "source": [
        "__Model Fit__\n",
        "\n",
        "The code below performs a model-fit using nautilus. \n",
        "\n",
        "You should be familiar with modeling already, if not read the `modeling/start_here.py` script before reading this one!\n",
        "\n",
        "Note that the model that is fitted has two galaxies, as opposed to just one like usual!"
      ]
    },
    {
      "cell_type": "code",
      "metadata": {},
      "source": [
        "dataset_name = \"sersic_x2\"\n",
        "dataset_path = path.join(\"dataset\", \"imaging\", dataset_name)\n",
        "\n",
        "dataset = ag.Imaging.from_fits(\n",
        "    data_path=path.join(dataset_path, \"data.fits\"),\n",
        "    psf_path=path.join(dataset_path, \"psf.fits\"),\n",
        "    noise_map_path=path.join(dataset_path, \"noise_map.fits\"),\n",
        "    pixel_scales=0.1,\n",
        ")\n",
        "\n",
        "mask = ag.Mask2D.circular(\n",
        "    shape_native=dataset.shape_native, pixel_scales=dataset.pixel_scales, radius=6.0\n",
        ")\n",
        "\n",
        "dataset = dataset.apply_mask(mask=mask)\n",
        "\n",
        "bulge_0 = af.Model(ag.lp.Sersic)\n",
        "bulge_0.centre = (0.0, -1.0)\n",
        "\n",
        "galaxy_0 = af.Model(ag.Galaxy, redshift=0.5, bulge=bulge_0)\n",
        "\n",
        "bulge_1 = af.Model(ag.lp.Sersic)\n",
        "bulge_1.centre = (0.0, 1.0)\n",
        "\n",
        "galaxy_1 = af.Model(ag.Galaxy, redshift=0.5, bulge=bulge_1)\n",
        "\n",
        "model = af.Collection(galaxies=af.Collection(galaxy_0=galaxy_0, galaxy_1=galaxy_1))\n",
        "search = af.Nautilus(\n",
        "    path_prefix=path.join(\"imaging\", \"modeling\"),\n",
        "    name=\"light[bulge]__x2\",\n",
        "    unique_tag=dataset_name,\n",
        "    n_live=100,\n",
        ")\n",
        "\n",
        "analysis = ag.AnalysisImaging(dataset=dataset)\n",
        "\n",
        "result = search.fit(model=model, analysis=analysis)"
      ],
      "outputs": [],
      "execution_count": null
    },
    {
      "cell_type": "markdown",
      "metadata": {},
      "source": [
        "__Max Likelihood Galaxies__\n",
        "\n",
        "As seen elsewhere in the workspace, the result contains a `max_log_likelihood_galaxies` which we can visualize."
      ]
    },
    {
      "cell_type": "code",
      "metadata": {},
      "source": [
        "galaxies = result.max_log_likelihood_galaxies\n",
        "\n",
        "galaxies_plotter = aplt.GalaxiesPlotter(\n",
        "    galaxies=galaxies, grid=mask.derive_grid.all_false\n",
        ")\n",
        "galaxies_plotter.subplot_galaxies()"
      ],
      "outputs": [],
      "execution_count": null
    },
    {
      "cell_type": "markdown",
      "metadata": {},
      "source": [
        "__Samples__\n",
        "\n",
        "In the first results tutorial, we used `Samples` objects to inspect the results of a model.\n",
        "\n",
        "We saw how these samples created instances, which include a `galaxies` property that mains the API of the `Model`\n",
        "creates above (e.g. `galaxies.galaxy.bulge`). \n",
        "\n",
        "We can also use this instance to extract individual components of the model."
      ]
    },
    {
      "cell_type": "code",
      "metadata": {},
      "source": [
        "samples = result.samples\n",
        "\n",
        "ml_instance = samples.max_log_likelihood()\n",
        "\n",
        "bulge = ml_instance.galaxies.galaxy_0.bulge\n",
        "\n",
        "bulge_image_2d = bulge.image_2d_from(grid=dataset.grid)\n",
        "print(bulge_image_2d.slim[0])\n",
        "\n",
        "bulge_plotter = aplt.LightProfilePlotter(light_profile=bulge, grid=grid)\n",
        "bulge_plotter.figures_2d(image=True)"
      ],
      "outputs": [],
      "execution_count": null
    },
    {
      "cell_type": "markdown",
      "metadata": {},
      "source": [
        "__Errors__\n",
        "\n",
        "Using a `GalaxyPDFPlotter`, we can make 1D plots that show the errors of the light models estimated via a model-fit. \n",
        "\n",
        "Here, the `galaxy_pdf_list` is a list of `Galaxy` objects that are drawn randomly from the PDF of the model-fit. \n",
        "\n",
        "These are used to estimate the errors at an input `sigma` value of: \n",
        "\n",
        " - The 1D light profile, which is plotted as a shaded region on the figure. \n",
        " - The median `half_light_radius` and `effective_radius` with errors, which are plotted as vertical lines.\n",
        "\n",
        "Below, we manually input one hundred realisations of the galaxy with light profiles that clearly show \n",
        "these errors on the figure."
      ]
    },
    {
      "cell_type": "code",
      "metadata": {},
      "source": [
        "galaxy_pdf_list = [samples.draw_randomly_via_pdf().galaxies.galaxy_0 for i in range(10)]\n",
        "\n",
        "galaxy_pdf_plotter = aplt.GalaxyPDFPlotter(\n",
        "    galaxy_pdf_list=galaxy_pdf_list, grid=dataset.grid, sigma=3.0\n",
        ")\n",
        "galaxy_pdf_plotter.figures_1d(image=True)"
      ],
      "outputs": [],
      "execution_count": null
    },
    {
      "cell_type": "markdown",
      "metadata": {},
      "source": [
        "A decomposed plot of the individual light profiles of the galaxy, with errors, can also be created."
      ]
    },
    {
      "cell_type": "code",
      "metadata": {},
      "source": [
        "galaxy_pdf_plotter.figures_1d_decomposed(image=True)"
      ],
      "outputs": [],
      "execution_count": null
    },
    {
      "cell_type": "markdown",
      "metadata": {},
      "source": [
        "__Refitting__\n",
        "\n",
        "Using the API introduced in the `samples.py` tutorial, we can also refit the data locally. \n",
        "\n",
        "This allows us to inspect how the galaxies changes for models with similar log likelihoods. Below, we create and plot\n",
        "the galaxies of the 100th last accepted model by nautilus."
      ]
    },
    {
      "cell_type": "code",
      "metadata": {},
      "source": [
        "samples = result.samples\n",
        "\n",
        "instance = samples.from_sample_index(sample_index=-10)\n",
        "\n",
        "galaxies = ag.Galaxies(galaxies=instance.galaxies)\n",
        "\n",
        "galaxies_plotter = aplt.GalaxiesPlotter(galaxies=galaxies, grid=dataset.grid)\n",
        "galaxies_plotter.subplot_galaxies()"
      ],
      "outputs": [],
      "execution_count": null
    },
    {
      "cell_type": "markdown",
      "metadata": {},
      "source": [
        "__Refitting__\n",
        "\n",
        "Using the API introduced in the first tutorial, we can also refit the data locally. \n",
        "\n",
        "This allows us to inspect how the fit changes for models with similar log likelihoods. Below, we refit and plot\n",
        "the fit of the 100th last accepted model by nautilus."
      ]
    },
    {
      "cell_type": "code",
      "metadata": {},
      "source": [
        "samples = result.samples\n",
        "\n",
        "instance = samples.from_sample_index(sample_index=-10)\n",
        "\n",
        "galaxies = ag.Galaxies(galaxies=instance.galaxies)\n",
        "\n",
        "fit = ag.FitImaging(dataset=dataset, galaxies=galaxies)\n",
        "\n",
        "fit_plotter = aplt.FitImagingPlotter(fit=fit)\n",
        "fit_plotter.subplot_fit()"
      ],
      "outputs": [],
      "execution_count": null
    },
    {
      "cell_type": "markdown",
      "metadata": {},
      "source": [
        "Fin."
      ]
    },
    {
      "cell_type": "code",
      "metadata": {},
      "source": [],
      "outputs": [],
      "execution_count": null
    }
  ],
  "metadata": {
    "anaconda-cloud": {},
    "kernelspec": {
      "display_name": "Python 3",
      "language": "python",
      "name": "python3"
    },
    "language_info": {
      "codemirror_mode": {
        "name": "ipython",
        "version": 3
      },
      "file_extension": ".py",
      "mimetype": "text/x-python",
      "name": "python",
      "nbconvert_exporter": "python",
      "pygments_lexer": "ipython3",
      "version": "3.6.1"
    }
  },
  "nbformat": 4,
  "nbformat_minor": 4
}