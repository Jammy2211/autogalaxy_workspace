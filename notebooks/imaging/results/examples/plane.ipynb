{
  "cells": [
    {
      "cell_type": "markdown",
      "metadata": {},
      "source": [
        "Results: Plane\n",
        "==============\n",
        "\n",
        "This tutorial inspects an inferred model using the `Plane` object inferred by the non-linear search.\n",
        "This allows us to visualize and interpret its results.\n",
        "\n",
        "This tutorial focuses on explaining how to use the inferred plane to compute results as numpy arrays and only\n",
        "briefly discusses visualization.\n",
        "\n",
        "Unlike many tutorials, we will fit a dataset and model where there are two galaxies in the dataset. This will\n",
        "help us illustrate how the analyse results for most complex models, however the API can be easily\n",
        "generalized for more simple fits.\n",
        "\n",
        "__Plot Module__\n",
        "\n",
        "This example uses the **PyAutoGalaxy** plot module to plot the results, including `Plotter` objects that make\n",
        "the figures and `MatPlot` objects that wrap matplotlib to customize the figures.\n",
        "\n",
        "The visualization API is straightforward but is explained in the `autogalaxy_workspace/*/plot` package in full.\n",
        "This includes detailed guides on how to customize every aspect of the figures, which can easily be combined with the\n",
        "code outlined in this tutorial.\n",
        "\n",
        "__Units__\n",
        "\n",
        "In this example, all quantities are **PyAutoGalaxy**'s internal unit coordinates, with spatial coordinates in\n",
        "arc seconds, luminosities in electrons per second and mass quantities (e.g. convergence) are dimensionless.\n",
        "\n",
        "The results example `units_and_cosmology.ipynb` illustrates how to convert these quantities to physical units like\n",
        "kiloparsecs, magnitudes and solar masses.\n",
        "\n",
        "__Data Structures__\n",
        "\n",
        "Quantities inspected in this example script use **PyAutoGalaxy** bespoke data structures for storing arrays, grids,\n",
        "vectors and other 1D and 2D quantities. These use the `slim` and `native` API to toggle between representing the\n",
        "data in 1D numpy arrays or high dimension numpy arrays.\n",
        "\n",
        "This tutorial will only use the `slim` properties which show results in 1D numpy arrays of\n",
        "shape [total_unmasked_pixels]. This is a slimmed-down representation of the data in 1D that contains only the\n",
        "unmasked data points\n",
        "\n",
        "These are documented fully in the `autogalaxy_workspace/*/imaging/results/examples/data_structure.ipynb` example."
      ]
    },
    {
      "cell_type": "code",
      "metadata": {},
      "source": [
        "%matplotlib inline\n",
        "from pyprojroot import here\n",
        "workspace_path = str(here())\n",
        "%cd $workspace_path\n",
        "print(f\"Working Directory has been set to `{workspace_path}`\")\n",
        "\n",
        "from os import path\n",
        "import autofit as af\n",
        "import autogalaxy as ag\n",
        "import autogalaxy.plot as aplt"
      ],
      "outputs": [],
      "execution_count": null
    },
    {
      "cell_type": "markdown",
      "metadata": {},
      "source": [
        "__Model Fit__\n",
        "\n",
        "The code below performs a model-fit using nautilus. \n",
        "\n",
        "You should be familiar with modeling already, if not read the `modeling/start_here.py` script before reading this one!\n",
        "\n",
        "Note that the model that is fitted has two galaxies, as opposed to just one like usual!"
      ]
    },
    {
      "cell_type": "code",
      "metadata": {},
      "source": [
        "dataset_name = \"sersic_x2\"\n",
        "dataset_path = path.join(\"dataset\", \"imaging\", dataset_name)\n",
        "\n",
        "dataset = ag.Imaging.from_fits(\n",
        "    data_path=path.join(dataset_path, \"data.fits\"),\n",
        "    psf_path=path.join(dataset_path, \"psf.fits\"),\n",
        "    noise_map_path=path.join(dataset_path, \"noise_map.fits\"),\n",
        "    pixel_scales=0.1,\n",
        ")\n",
        "\n",
        "mask = ag.Mask2D.circular(\n",
        "    shape_native=dataset.shape_native, pixel_scales=dataset.pixel_scales, radius=6.0\n",
        ")\n",
        "\n",
        "dataset = dataset.apply_mask(mask=mask)\n",
        "\n",
        "bulge_0 = af.Model(ag.lp.Sersic)\n",
        "bulge_0.centre = (0.0, -1.0)\n",
        "\n",
        "galaxy_0 = af.Model(ag.Galaxy, redshift=0.5, bulge=bulge_0)\n",
        "\n",
        "bulge_1 = af.Model(ag.lp.Sersic)\n",
        "bulge_1.centre = (0.0, 1.0)\n",
        "\n",
        "galaxy_1 = af.Model(ag.Galaxy, redshift=0.5, bulge=bulge_1)\n",
        "\n",
        "model = af.Collection(galaxies=af.Collection(galaxy_0=galaxy_0, galaxy_1=galaxy_1))\n",
        "search = af.Nautilus(\n",
        "    path_prefix=path.join(\"imaging\", \"modeling\"),\n",
        "    name=\"light[bulge]__x2\",\n",
        "    unique_tag=dataset_name,\n",
        "    n_live=100,\n",
        ")\n",
        "\n",
        "analysis = ag.AnalysisImaging(dataset=dataset)\n",
        "\n",
        "result = search.fit(model=model, analysis=analysis)"
      ],
      "outputs": [],
      "execution_count": null
    },
    {
      "cell_type": "markdown",
      "metadata": {},
      "source": [
        "__Max Likelihood Plane__\n",
        "\n",
        "As seen elsewhere in the workspace, the result contains a `max_log_likelihood_plane` which we can visualize."
      ]
    },
    {
      "cell_type": "code",
      "metadata": {},
      "source": [
        "plane = result.max_log_likelihood_plane\n",
        "\n",
        "plane_plotter = aplt.PlanePlotter(plane=plane, grid=mask.derive_grid.all_false_sub_1)\n",
        "plane_plotter.subplot_plane()"
      ],
      "outputs": [],
      "execution_count": null
    },
    {
      "cell_type": "markdown",
      "metadata": {},
      "source": [
        "This tutorial now focuses on explaining the numerical results contained in the plane.\n",
        "\n",
        "Visualization is explained separately in the `autogalaxy_workspace/*/plot/` package, in particular the \n",
        "`plotters/PlanePlotter.py` script.\n",
        "\n",
        "__Inferred 2D Images__\n",
        "\n",
        "The maximum log likelihood plane contains a lot of information about the inferred model.\n",
        "\n",
        "For example, by passing it a 2D grid of (y,x) coordinates we can return a numpy array containing its 2D image. This\n",
        "includes the bulge and disk images.\n",
        "\n",
        "Below, we use the grid of the `imaging` to computed the image on, which is the grid used to fit to the data."
      ]
    },
    {
      "cell_type": "code",
      "metadata": {},
      "source": [
        "image = plane.image_2d_from(grid=dataset.grid)"
      ],
      "outputs": [],
      "execution_count": null
    },
    {
      "cell_type": "markdown",
      "metadata": {},
      "source": [
        "__Data Structures Slim / Native__\n",
        "\n",
        "The image above is returned as a 1D numpy array. \n",
        "\n",
        "**PyAutoLens** includes dedicated functionality for manipulating this array, for example mapping it to 2D or\n",
        "performing the calculation on a high resolution sub-grid which is then binned up. \n",
        "\n",
        "This uses the data structure API, which is described in the `results/examples/data_structures.py` example. This \n",
        "tutorial will avoid using this API, but if you need to manipulate results in more detail you should check it out."
      ]
    },
    {
      "cell_type": "code",
      "metadata": {},
      "source": [
        "print(image.slim)"
      ],
      "outputs": [],
      "execution_count": null
    },
    {
      "cell_type": "markdown",
      "metadata": {},
      "source": [
        "__Grid Choices__\n",
        "\n",
        "We can input a different grid, which is not masked, to evaluate the image everywhere of interest. We can also change\n",
        "the grid's resolution from that used in the model-fit.\n",
        "\n",
        "The examples uses a grid with `shape_native=(3,3)`. This is much lower resolution than one would typically use to \n",
        "inspect galaxy properties, but is chosen here so that the `print()` statements display in a concise and readable format."
      ]
    },
    {
      "cell_type": "code",
      "metadata": {},
      "source": [
        "grid = ag.Grid2D.uniform(shape_native=(3, 3), pixel_scales=0.1)\n",
        "\n",
        "image = plane.image_2d_from(grid=grid)\n",
        "\n",
        "print(image.slim)"
      ],
      "outputs": [],
      "execution_count": null
    },
    {
      "cell_type": "markdown",
      "metadata": {},
      "source": [
        "__Sub Gridding__\n",
        "\n",
        "A grid can also have a sub-grid, defined via its `sub_size`, which defines how each pixel on the 2D grid is split \n",
        "into sub-pixels of size (`sub_size` x `sub_size`). \n",
        "\n",
        "The calculation below shows how to use a sub-grid and bin it up, full details of the API for this calculation\n",
        "are given in the `results/examples/data_structure.py` example."
      ]
    },
    {
      "cell_type": "code",
      "metadata": {},
      "source": [
        "grid_sub = ag.Grid2D.uniform(shape_native=(3, 3), pixel_scales=0.1, sub_size=2)\n",
        "\n",
        "image = plane.image_2d_from(grid=grid_sub)\n",
        "\n",
        "print(image.binned)"
      ],
      "outputs": [],
      "execution_count": null
    },
    {
      "cell_type": "markdown",
      "metadata": {},
      "source": [
        "__Positions Grid__\n",
        "\n",
        "We may want the image at specific (y,x) coordinates.\n",
        "\n",
        "We can use an irregular 2D (y,x) grid of coordinates for this. The grid below evaluates the image at:\n",
        "\n",
        "- y = 1.0, x = 1.0.\n",
        "- y = 1.0, x = 2.0.\n",
        "- y = 2.0, x = 2.0."
      ]
    },
    {
      "cell_type": "code",
      "metadata": {},
      "source": [
        "grid_irregular = ag.Grid2DIrregular(values=[[1.0, 1.0], [1.0, 2.0], [2.0, 2.0]])\n",
        "\n",
        "image = plane.image_2d_from(grid=grid_irregular)\n",
        "\n",
        "print(image)"
      ],
      "outputs": [],
      "execution_count": null
    },
    {
      "cell_type": "markdown",
      "metadata": {},
      "source": [
        "__Refitting__\n",
        "\n",
        "Using the API introduced in the first tutorial, we can also refit the data locally. \n",
        "\n",
        "This allows us to inspect how the plane changes for models with similar log likelihoods. Below, we create and plot\n",
        "the plane of the 100th last accepted model by nautilus."
      ]
    },
    {
      "cell_type": "code",
      "metadata": {},
      "source": [
        "samples = result.samples\n",
        "\n",
        "instance = samples.from_sample_index(sample_index=-10)\n",
        "\n",
        "plane = ag.Plane(galaxies=instance.galaxies)\n",
        "\n",
        "plane_plotter = aplt.PlanePlotter(plane=plane, grid=mask.derive_grid.all_false_sub_1)\n",
        "plane_plotter.subplot_plane()"
      ],
      "outputs": [],
      "execution_count": null
    },
    {
      "cell_type": "markdown",
      "metadata": {},
      "source": [
        "__Wrap Up__\n",
        "\n",
        "This tutorial explained how to compute the results of an inferred model from a plane. \n",
        "\n",
        "We covered a lot, but also omitted a lot of details, for example:\n",
        "\n",
        " - We could only compute the image of the entire `Plane` object. What if I want these quantities for specific \n",
        " galaxies in the plane?\n",
        "\n",
        " - How do I estimate errors on these quantities?\n",
        " \n",
        "We will answer all these questions in tutorial 4 of the `results`, after we've covered how to go about inspecting the\n",
        "results of a fit in more detail."
      ]
    },
    {
      "cell_type": "code",
      "metadata": {},
      "source": [],
      "outputs": [],
      "execution_count": null
    }
  ],
  "metadata": {
    "anaconda-cloud": {},
    "kernelspec": {
      "display_name": "Python 3",
      "language": "python",
      "name": "python3"
    },
    "language_info": {
      "codemirror_mode": {
        "name": "ipython",
        "version": 3
      },
      "file_extension": ".py",
      "mimetype": "text/x-python",
      "name": "python",
      "nbconvert_exporter": "python",
      "pygments_lexer": "ipython3",
      "version": "3.6.1"
    }
  },
  "nbformat": 4,
  "nbformat_minor": 4
}