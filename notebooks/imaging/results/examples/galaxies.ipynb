{
  "cells": [
    {
      "cell_type": "markdown",
      "metadata": {},
      "source": [
        "Results: Galaxies\n",
        "=================\n",
        "\n",
        "In results tutorial 2, we inspected the results of a `Plane` and computed the overall properties of the model's\n",
        "image and other quantities.\n",
        "\n",
        "However, we did not compute the individual properties of each galaxy. For example, we did not compute an image of the\n",
        "left galaxy or compute individual quantities for each light profile.\n",
        "\n",
        "This tutorial illustrates how to compute these more complicated results. This is a key reason why we have opted\n",
        "to include two galaxies in the overall model in these tutorials.\n",
        "\n",
        "__Plot Module__\n",
        "\n",
        "This example uses the **PyAutoGalaxy** plot module to plot the results, including `Plotter` objects that make\n",
        "the figures and `MatPlot` objects that wrap matplotlib to customize the figures.\n",
        "\n",
        "The visualization API is straightforward but is explained in the `autogalaxy_workspace/*/plot` package in full.\n",
        "This includes detailed guides on how to customize every aspect of the figures, which can easily be combined with the\n",
        "code outlined in this tutorial.\n",
        "\n",
        "__Units__\n",
        "\n",
        "In this example, all quantities are **PyAutoGalaxy**'s internal unit coordinates, with spatial coordinates in\n",
        "arc seconds, luminosities in electrons per second and mass quantities (e.g. convergence) are dimensionless.\n",
        "\n",
        "The results example `units_and_cosmology.ipynb` illustrates how to convert these quantities to physical units like\n",
        "kiloparsecs, magnitudes and solar masses.\n",
        "\n",
        "__Data Structures__\n",
        "\n",
        "Quantities inspected in this example script use **PyAutoGalaxy** bespoke data structures for storing arrays, grids,\n",
        "vectors and other 1D and 2D quantities. These use the `slim` and `native` API to toggle between representing the\n",
        "data in 1D numpy arrays or high dimension numpy arrays.\n",
        "\n",
        "This tutorial will only use the `slim` properties which show results in 1D numpy arrays of\n",
        "shape [total_unmasked_pixels]. This is a slimmed-down representation of the data in 1D that contains only the\n",
        "unmasked data points\n",
        "\n",
        "These are documented fully in the `autogalaxy_workspace/*/imaging/results/examples/data_structure.ipynb` example."
      ]
    },
    {
      "cell_type": "code",
      "metadata": {},
      "source": [
        "%matplotlib inline\n",
        "from pyprojroot import here\n",
        "workspace_path = str(here())\n",
        "%cd $workspace_path\n",
        "print(f\"Working Directory has been set to `{workspace_path}`\")\n",
        "\n",
        "from os import path\n",
        "import autofit as af\n",
        "import autogalaxy as ag\n",
        "import autogalaxy.plot as aplt"
      ],
      "outputs": [],
      "execution_count": null
    },
    {
      "cell_type": "markdown",
      "metadata": {},
      "source": [
        "__Model Fit__\n",
        "\n",
        "The code below performs a model-fit using nautilus. \n",
        "\n",
        "You should be familiar with modeling already, if not read the `modeling/start_here.py` script before reading this one!\n",
        "\n",
        "Note that the model that is fitted has two galaxies, as opposed to just one like usual!"
      ]
    },
    {
      "cell_type": "code",
      "metadata": {},
      "source": [
        "dataset_name = \"sersic_x2\"\n",
        "dataset_path = path.join(\"dataset\", \"imaging\", dataset_name)\n",
        "\n",
        "dataset = ag.Imaging.from_fits(\n",
        "    data_path=path.join(dataset_path, \"data.fits\"),\n",
        "    psf_path=path.join(dataset_path, \"psf.fits\"),\n",
        "    noise_map_path=path.join(dataset_path, \"noise_map.fits\"),\n",
        "    pixel_scales=0.1,\n",
        ")\n",
        "\n",
        "mask = ag.Mask2D.circular(\n",
        "    shape_native=dataset.shape_native, pixel_scales=dataset.pixel_scales, radius=6.0\n",
        ")\n",
        "\n",
        "dataset = dataset.apply_mask(mask=mask)\n",
        "\n",
        "bulge_0 = af.Model(ag.lp.Sersic)\n",
        "bulge_0.centre = (0.0, -1.0)\n",
        "\n",
        "galaxy_0 = af.Model(ag.Galaxy, redshift=0.5, bulge=bulge_0)\n",
        "\n",
        "bulge_1 = af.Model(ag.lp.Sersic)\n",
        "bulge_1.centre = (0.0, 1.0)\n",
        "\n",
        "galaxy_1 = af.Model(ag.Galaxy, redshift=0.5, bulge=bulge_1)\n",
        "\n",
        "model = af.Collection(galaxies=af.Collection(galaxy_0=galaxy_0, galaxy_1=galaxy_1))\n",
        "search = af.Nautilus(\n",
        "    path_prefix=path.join(\"imaging\", \"modeling\"),\n",
        "    name=\"light[bulge]__x2\",\n",
        "    unique_tag=dataset_name,\n",
        "    n_live=100,\n",
        ")\n",
        "\n",
        "analysis = ag.AnalysisImaging(dataset=dataset)\n",
        "\n",
        "result = search.fit(model=model, analysis=analysis)"
      ],
      "outputs": [],
      "execution_count": null
    },
    {
      "cell_type": "markdown",
      "metadata": {},
      "source": [
        "__Max Likelihood Plane__\n",
        "\n",
        "As seen elsewhere in the workspace, the result contains a `max_log_likelihood_plane` which we can visualize."
      ]
    },
    {
      "cell_type": "code",
      "metadata": {},
      "source": [
        "plane = result.max_log_likelihood_plane\n",
        "\n",
        "plane_plotter = aplt.PlanePlotter(plane=plane, grid=mask.derive_grid.all_false_sub_1)\n",
        "plane_plotter.subplot_plane()"
      ],
      "outputs": [],
      "execution_count": null
    },
    {
      "cell_type": "markdown",
      "metadata": {},
      "source": [
        "__Individual galaxy Components__\n",
        "\n",
        "We are able to create an image of each galaxy as follows, which includes the emission of only one galaxy at a\n",
        "time."
      ]
    },
    {
      "cell_type": "code",
      "metadata": {},
      "source": [
        "image = plane.galaxies[0].image_2d_from(grid=dataset.grid)\n",
        "image = plane.galaxies[1].image_2d_from(grid=dataset.grid)"
      ],
      "outputs": [],
      "execution_count": null
    },
    {
      "cell_type": "markdown",
      "metadata": {},
      "source": [
        "In order to create images of each light profile (e.g. the `bulge`), we can extract each individual component from \n",
        "each galaxy.\n",
        "\n",
        "The plane's list of galaxies is in order of how we specify them in the `collection` above."
      ]
    },
    {
      "cell_type": "code",
      "metadata": {},
      "source": [
        "bulge_0 = plane.galaxies[0].bulge\n",
        "bulge_1 = plane.galaxies[1].bulge"
      ],
      "outputs": [],
      "execution_count": null
    },
    {
      "cell_type": "markdown",
      "metadata": {},
      "source": [
        "For simplicity, each galaxy did not contain more light profiles than a bulge. But you could easily\n",
        "extract a `disk` if it were present:\n",
        "\n",
        " disk_0 = plane.galaxies[0].disk\n",
        " disk_1 = plane.galaxies[1].disk\n",
        "\n",
        "Finally, we can use the extracted bulge components to make images of the bulge."
      ]
    },
    {
      "cell_type": "code",
      "metadata": {},
      "source": [
        "bulge_0_image_2d = bulge_0.image_2d_from(grid=dataset.grid)\n",
        "bulge_1_image_2d = bulge_1.image_2d_from(grid=dataset.grid)"
      ],
      "outputs": [],
      "execution_count": null
    },
    {
      "cell_type": "markdown",
      "metadata": {},
      "source": [
        "If you are unclear on what `slim` means, refer to the section `Data Structure` at the top of this example."
      ]
    },
    {
      "cell_type": "code",
      "metadata": {},
      "source": [
        "print(bulge_0_image_2d.slim[0])\n",
        "print(bulge_1_image_2d.slim[0])"
      ],
      "outputs": [],
      "execution_count": null
    },
    {
      "cell_type": "markdown",
      "metadata": {},
      "source": [
        "It is more concise to extract these quantities in one line of Python:"
      ]
    },
    {
      "cell_type": "code",
      "metadata": {},
      "source": [
        "bulge_0_image_2d = plane.galaxies[0].bulge.image_2d_from(grid=dataset.grid)"
      ],
      "outputs": [],
      "execution_count": null
    },
    {
      "cell_type": "markdown",
      "metadata": {},
      "source": [
        "The `LightProfilePlotter` makes it straight forward to extract and plot an individual light profile component."
      ]
    },
    {
      "cell_type": "code",
      "metadata": {},
      "source": [
        "bulge_plotter = aplt.LightProfilePlotter(\n",
        "    light_profile=plane.galaxies[0].bulge, grid=dataset.grid\n",
        ")\n",
        "bulge_plotter.figures_2d(image=True)"
      ],
      "outputs": [],
      "execution_count": null
    },
    {
      "cell_type": "markdown",
      "metadata": {},
      "source": [
        "__Alternative API__\n",
        "\n",
        "In the first results tutorial, we used `Samples` objects to inspect the results of a model.\n",
        "\n",
        "We saw how these samples created instances, which include a `galaxies` property that mains the API of the `Model`\n",
        "creates above (e.g. `galaxies.galaxy.bulge`). \n",
        "\n",
        "We can also use this instance to extract individual components of the model."
      ]
    },
    {
      "cell_type": "code",
      "metadata": {},
      "source": [
        "samples = result.samples\n",
        "\n",
        "ml_instance = samples.max_log_likelihood()\n",
        "\n",
        "bulge = ml_instance.galaxies.galaxy_0.bulge\n",
        "\n",
        "bulge_image_2d = bulge.image_2d_from(grid=dataset.grid)\n",
        "print(bulge_image_2d.slim[0])\n",
        "\n",
        "bulge_plotter = aplt.LightProfilePlotter(light_profile=bulge, grid=dataset.grid)\n",
        "bulge_plotter.figures_2d(image=True)"
      ],
      "outputs": [],
      "execution_count": null
    },
    {
      "cell_type": "markdown",
      "metadata": {},
      "source": [
        "In fact, if we create a `Plane` from an instance (which is how `result.max_log_likelihood_plane` is created) we\n",
        "can choose whether to access its attributes using each API: "
      ]
    },
    {
      "cell_type": "code",
      "metadata": {},
      "source": [
        "plane = result.max_log_likelihood_plane\n",
        "print(plane.galaxies[0].bulge)\n",
        "# print(plane.galaxies.galaxy.bulge)"
      ],
      "outputs": [],
      "execution_count": null
    },
    {
      "cell_type": "markdown",
      "metadata": {},
      "source": [
        "We'll use the former API from here on. \n",
        "\n",
        "Whilst its a bit less clear and concise, it is more representative of the internal **PyAutoGalaxy** source code and\n",
        "therefore gives a clearer sense of how the internals work.\n",
        "\n",
        "__Galaxies__\n",
        "\n",
        "Above, we extract the `bulge` light profiles of each galaxy. \n",
        "\n",
        "We can just as easily extract each `Galaxy` and use it to perform the calculations above. Note that because the \n",
        "galaxy`:"
      ]
    },
    {
      "cell_type": "code",
      "metadata": {},
      "source": [
        "galaxy_0 = plane.galaxies[0]\n",
        "\n",
        "galaxy_0_image_2d = galaxy_0.image_2d_from(grid=dataset.grid)"
      ],
      "outputs": [],
      "execution_count": null
    },
    {
      "cell_type": "markdown",
      "metadata": {},
      "source": [
        "We can also use the `GalaxyPlotter` to plot the galaxy, for example a subplot of each individual light profile \n",
        "image (which because this galxy is only a single bulge, is a single image)."
      ]
    },
    {
      "cell_type": "code",
      "metadata": {},
      "source": [
        "galaxy_plotter = aplt.GalaxyPlotter(galaxy=galaxy_0, grid=dataset.grid)\n",
        "galaxy_plotter.subplot_of_light_profiles(image=True)"
      ],
      "outputs": [],
      "execution_count": null
    },
    {
      "cell_type": "markdown",
      "metadata": {},
      "source": [
        "__Plane Composition__\n",
        "\n",
        "Lets quickly summarize what we've learnt by printing every object in the plane:"
      ]
    },
    {
      "cell_type": "code",
      "metadata": {},
      "source": [
        "print(plane)\n",
        "print(plane)\n",
        "print(plane)\n",
        "print(plane.galaxies[0])\n",
        "print(plane.galaxies[0])\n",
        "print(plane.galaxies[0].bulge)\n",
        "print(plane.galaxies[1].bulge)\n",
        "print()"
      ],
      "outputs": [],
      "execution_count": null
    },
    {
      "cell_type": "markdown",
      "metadata": {},
      "source": [
        "__One Dimensional Quantities__\n",
        "\n",
        "We have made two dimensional plots of galaxy images.\n",
        "\n",
        "We can also compute all these quantities in 1D, for inspection and visualization.\n",
        " \n",
        "For example, from a light profile or galaxy we can compute its `image_1d`, which provides us with its image values\n",
        "(e.g. luminosity) as a function of radius."
      ]
    },
    {
      "cell_type": "code",
      "metadata": {},
      "source": [
        "galaxy_0 = plane.galaxies[0]\n",
        "image_1d = galaxy_0.image_1d_from(grid=dataset.grid)\n",
        "print(image_1d)\n",
        "\n",
        "galaxy_1 = plane.galaxies[1]\n",
        "image_1d = galaxy_1.image_1d_from(grid=dataset.grid)\n",
        "print(image_1d)"
      ],
      "outputs": [],
      "execution_count": null
    },
    {
      "cell_type": "markdown",
      "metadata": {},
      "source": [
        "How are these 1D quantities from an input 2D grid? \n",
        "\n",
        "From the 2D grid a 1D grid is compute where:\n",
        " \n",
        " - The 1D grid of (x,) coordinates are centred on the galaxy or light profile and aligned with the major-axis. \n",
        " - The 1D grid extends from this centre to the edge of the 2D grid.\n",
        " - The pixel-scale of the 2D grid defines the radial steps between each coordinate.\n",
        " \n",
        "If we input a larger 2D grid, with a smaller pixel scale, the 1D plot adjusts accordingly."
      ]
    },
    {
      "cell_type": "code",
      "metadata": {},
      "source": [
        "grid = ag.Grid2D.uniform(shape_native=(100, 100), pixel_scales=0.04)\n",
        "image_1d = galaxy_0.image_1d_from(grid=grid)\n",
        "print(image_1d.shape)\n",
        "print(image_1d)\n",
        "\n",
        "grid = ag.Grid2D.uniform(shape_native=(200, 200), pixel_scales=0.02)\n",
        "image_1d = galaxy_0.image_1d_from(grid=grid)\n",
        "print(image_1d.shape)\n",
        "print(image_1d)"
      ],
      "outputs": [],
      "execution_count": null
    },
    {
      "cell_type": "markdown",
      "metadata": {},
      "source": [
        "We can alternatively input a `Grid1D` where we define the (x,) coordinates we wish to evaluate the function on."
      ]
    },
    {
      "cell_type": "code",
      "metadata": {},
      "source": [
        "grid_1d = ag.Grid1D.uniform_from_zero(shape_native=(10000,), pixel_scales=0.01)\n",
        "\n",
        "galaxy_plotter = aplt.GalaxyPlotter(galaxy=galaxy_0, grid=grid)\n",
        "\n",
        "galaxy_plotter.figures_1d(image=True)"
      ],
      "outputs": [],
      "execution_count": null
    },
    {
      "cell_type": "markdown",
      "metadata": {},
      "source": [
        "__Decomposed 1D Plot__\n",
        "\n",
        "We can make a plot containing every individual light profile of a galaxy in 1D, for example showing a  \n",
        "decomposition of its `bulge` and `disk`.\n",
        "\n",
        "Every profile on a decomposed plot is computed using a radial grid centred on its profile centre and aligned with\n",
        "its major-axis. Therefore 2D offsets between the components are not portray in such a figure."
      ]
    },
    {
      "cell_type": "code",
      "metadata": {},
      "source": [
        "galaxy_plotter = aplt.GalaxyPlotter(galaxy=galaxy_0, grid=grid)\n",
        "galaxy_plotter.figures_1d_decomposed(image=True)"
      ],
      "outputs": [],
      "execution_count": null
    },
    {
      "cell_type": "markdown",
      "metadata": {},
      "source": [
        "__Errors__\n",
        "\n",
        "Using a `GalaxyPDFPlotter`, we can make 1D plots that show the errors of the light models estimated via a model-fit. \n",
        "\n",
        "Here, the `galaxy_pdf_list` is a list of `Galaxy` objects that are drawn randomly from the PDF of the model-fit. \n",
        "\n",
        "These are used to estimate the errors at an input `sigma` value of: \n",
        "\n",
        " - The 1D light profile, which is plotted as a shaded region on the figure. \n",
        " - The median `half_light_radius` and `effective_radius` with errors, which are plotted as vertical lines.\n",
        "\n",
        "Below, we manually input one hundred realisations of the galaxy with light profiles that clearly show \n",
        "these errors on the figure."
      ]
    },
    {
      "cell_type": "code",
      "metadata": {},
      "source": [
        "galaxy_pdf_list = [samples.draw_randomly_via_pdf().galaxies.galaxy_0 for i in range(10)]\n",
        "\n",
        "galaxy_pdf_plotter = aplt.GalaxyPDFPlotter(\n",
        "    galaxy_pdf_list=galaxy_pdf_list, grid=grid, sigma=3.0\n",
        ")\n",
        "galaxy_pdf_plotter.figures_1d(image=True)"
      ],
      "outputs": [],
      "execution_count": null
    },
    {
      "cell_type": "markdown",
      "metadata": {},
      "source": [
        "A decomposed plot of the individual light profiles of the galaxy, with errors, can also be created."
      ]
    },
    {
      "cell_type": "code",
      "metadata": {},
      "source": [
        "galaxy_pdf_plotter.figures_1d_decomposed(image=True)"
      ],
      "outputs": [],
      "execution_count": null
    },
    {
      "cell_type": "markdown",
      "metadata": {},
      "source": [
        "__Wrap Up__\n",
        "\n",
        "We have learnt how to extract individual planes, galaxies and light rofiles from the plane that results from\n",
        "a model-fit and use these objects to compute specific quantities of each component."
      ]
    },
    {
      "cell_type": "code",
      "metadata": {},
      "source": [],
      "outputs": [],
      "execution_count": null
    }
  ],
  "metadata": {
    "anaconda-cloud": {},
    "kernelspec": {
      "display_name": "Python 3",
      "language": "python",
      "name": "python3"
    },
    "language_info": {
      "codemirror_mode": {
        "name": "ipython",
        "version": 3
      },
      "file_extension": ".py",
      "mimetype": "text/x-python",
      "name": "python",
      "nbconvert_exporter": "python",
      "pygments_lexer": "ipython3",
      "version": "3.6.1"
    }
  },
  "nbformat": 4,
  "nbformat_minor": 4
}