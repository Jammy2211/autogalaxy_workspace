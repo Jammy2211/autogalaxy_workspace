{
  "cells": [
    {
      "cell_type": "markdown",
      "metadata": {},
      "source": [
        "Simulator: Sample Power-Law\n",
        "===========================\n",
        "\n",
        "This script simulates a sample of `Imaging` datasets of galaxies where:\n",
        "\n",
        " - The galaxy's bulge is an `Sersic`.\n",
        "\n",
        "To simulate the sample of galaxies, each galaxy is set up as a `Model` such that its parameters are drawn from\n",
        "distributions defined via priors.\n",
        "\n",
        "This script uses the signal-to-noise based light profiles described in the\n",
        "script `imaging/simulators/misc/manual_signal_to_noise_ratio.ipynb`, to make it straight forward to ensure every galaxy\n",
        "is visible in each image.\n",
        "\n",
        "__Start Here Notebook__\n",
        "\n",
        "If any code in this script is unclear, refer to the `simulators/start_here.ipynb` notebook."
      ]
    },
    {
      "cell_type": "code",
      "metadata": {},
      "source": [
        "%matplotlib inline\n",
        "from pyprojroot import here\n",
        "workspace_path = str(here())\n",
        "%cd $workspace_path\n",
        "print(f\"Working Directory has been set to `{workspace_path}`\")\n",
        "\n",
        "from os import path\n",
        "import autofit as af\n",
        "import autogalaxy as ag\n",
        "import autogalaxy.plot as aplt"
      ],
      "outputs": [],
      "execution_count": null
    },
    {
      "cell_type": "markdown",
      "metadata": {},
      "source": [
        "__Dataset Paths__\n",
        "\n",
        "The `dataset_type` describes the type of data being simulated (in this case, `Imaging` data) and `dataset_sample_name`\n",
        "gives a descriptive name to the sample. "
      ]
    },
    {
      "cell_type": "code",
      "metadata": {},
      "source": [
        "dataset_label = \"samples\"\n",
        "dataset_type = \"imaging\"\n",
        "dataset_sample_name = \"simple__sersic\""
      ],
      "outputs": [],
      "execution_count": null
    },
    {
      "cell_type": "markdown",
      "metadata": {},
      "source": [
        "The path where the dataset will be output, which in this case is:\n",
        "`/autogalaxy_workspace/dataset/imaging/sample/light_sersic_0`"
      ]
    },
    {
      "cell_type": "code",
      "metadata": {},
      "source": [
        "dataset_path = path.join(\"dataset\", dataset_type, dataset_label, dataset_sample_name)"
      ],
      "outputs": [],
      "execution_count": null
    },
    {
      "cell_type": "markdown",
      "metadata": {},
      "source": [
        "__Simulate__\n",
        "\n",
        "For simulating an image of a galaxy, we use the Grid2DIterate object."
      ]
    },
    {
      "cell_type": "code",
      "metadata": {},
      "source": [
        "grid = ag.Grid2DIterate.uniform(\n",
        "    shape_native=(150, 150),\n",
        "    pixel_scales=0.1,\n",
        "    fractional_accuracy=0.9999,\n",
        "    sub_steps=[2, 4, 8, 16, 24],\n",
        ")\n",
        "\n",
        "grid = ag.Grid2D.uniform(shape_native=(150, 150), pixel_scales=0.1)\n"
      ],
      "outputs": [],
      "execution_count": null
    },
    {
      "cell_type": "markdown",
      "metadata": {},
      "source": [
        "Simulate a simple Gaussian PSF for the image."
      ]
    },
    {
      "cell_type": "code",
      "metadata": {},
      "source": [
        "psf = ag.Kernel2D.from_gaussian(\n",
        "    shape_native=(11, 11), sigma=0.1, pixel_scales=grid.pixel_scales\n",
        ")"
      ],
      "outputs": [],
      "execution_count": null
    },
    {
      "cell_type": "markdown",
      "metadata": {},
      "source": [
        "To simulate the `Imaging` dataset we first create a simulator, which defines the exposure time, background sky,\n",
        "noise levels and psf of the dataset that is simulated."
      ]
    },
    {
      "cell_type": "code",
      "metadata": {},
      "source": [
        "simulator = ag.SimulatorImaging(\n",
        "    exposure_time=300.0, psf=psf, background_sky_level=0.1, add_poisson_noise=True\n",
        ")"
      ],
      "outputs": [],
      "execution_count": null
    },
    {
      "cell_type": "markdown",
      "metadata": {},
      "source": [
        "__Sample Model Distributions__\n",
        "\n",
        "To simulate a sample, we draw random instances of galaxies where the parameters of their light profiles are drawn from \n",
        "distributions. These distributions are defined via priors -- the same objects that are used \n",
        "when defining the priors of each parameter for a non-linear search.\n",
        "\n",
        "Below, we define the distributions the galaxy's bulge light is drawn from."
      ]
    },
    {
      "cell_type": "code",
      "metadata": {},
      "source": [
        "bulge = af.Model(ag.lp_snr.Sersic)\n",
        "\n",
        "bulge.centre = (0.0, 0.0)\n",
        "bulge.ell_comps.ell_comps_0 = af.GaussianPrior(\n",
        "    mean=0.0, sigma=0.2, lower_limit=-1.0, upper_limit=1.0\n",
        ")\n",
        "bulge.ell_comps.ell_comps_1 = af.GaussianPrior(\n",
        "    mean=0.0, sigma=0.2, lower_limit=-1.0, upper_limit=1.0\n",
        ")\n",
        "bulge.signal_to_noise_ratio = af.UniformPrior(lower_limit=20.0, upper_limit=60.0)\n",
        "bulge.effective_radius = af.UniformPrior(lower_limit=1.0, upper_limit=5.0)\n",
        "bulge.sersic_index = af.GaussianPrior(\n",
        "    mean=4.0, sigma=1.0, lower_limit=0.8, upper_limit=5.0\n",
        ")\n",
        "\n",
        "galaxy_model = af.Model(ag.Galaxy, redshift=0.5, bulge=bulge)"
      ],
      "outputs": [],
      "execution_count": null
    },
    {
      "cell_type": "markdown",
      "metadata": {},
      "source": [
        "__Sample Instances__\n",
        "\n",
        "Within a for loop, we will now generate instances of each simulated galaxy using the `Model`'s defined above.\n",
        "This loop will run for `total_datasets` iterations, which sets the number of galaxies that are simulated.\n",
        "\n",
        "Each iteration of the for loop creates a plane and use this to simulate the imaging dataset."
      ]
    },
    {
      "cell_type": "code",
      "metadata": {},
      "source": [
        "total_datasets = 3\n",
        "\n",
        "for sample_index in range(total_datasets):\n",
        "    dataset_sample_path = path.join(dataset_path, f\"dataset_{sample_index}\")\n",
        "\n",
        "    galaxy = galaxy_model.random_instance()\n",
        "\n",
        "    \"\"\"\n",
        "    __Plane__\n",
        "    \n",
        "    Use the sample's lens  galaxies to setup a plane, which will generate the image for the \n",
        "    simulated `Imaging` dataset.\n",
        "    \n",
        "    The steps below are expanded on in other `imaging/simulator` scripts, so check them out if anything below is unclear.\n",
        "    \"\"\"\n",
        "    plane = ag.Plane(galaxies=[galaxy])\n",
        "\n",
        "    plane_plotter = aplt.PlanePlotter(plane=plane, grid=grid)\n",
        "    plane_plotter.figures_2d(image=True)\n",
        "\n",
        "    dataset = simulator.via_plane_from(plane=plane, grid=grid)\n",
        "\n",
        "    dataset_plotter = aplt.ImagingPlotter(dataset=dataset)\n",
        "    dataset_plotter.subplot_dataset()\n",
        "\n",
        "    \"\"\"\n",
        "    __Output__\n",
        "    \n",
        "    Output the simulated dataset to the dataset path as .fits files.\n",
        "    \n",
        "    This uses the updated `dataset_path_sample` which outputs this sample lens to a unique folder.\n",
        "    \"\"\"\n",
        "    dataset.output_to_fits(\n",
        "        data_path=path.join(dataset_sample_path, \"data.fits\"),\n",
        "        psf_path=path.join(dataset_sample_path, \"psf.fits\"),\n",
        "        noise_map_path=path.join(dataset_sample_path, \"noise_map.fits\"),\n",
        "        overwrite=True,\n",
        "    )\n",
        "\n",
        "    \"\"\"\n",
        "    __Visualize__\n",
        "    \n",
        "    Output a subplot of the simulated dataset, the image and the plane's quantities to the dataset path as .png files.\n",
        "    \"\"\"\n",
        "    mat_plot = aplt.MatPlot2D(\n",
        "        output=aplt.Output(path=dataset_sample_path, format=\"png\")\n",
        "    )\n",
        "\n",
        "    dataset_plotter = aplt.ImagingPlotter(dataset=dataset, mat_plot_2d=mat_plot)\n",
        "    dataset_plotter.subplot_dataset()\n",
        "    dataset_plotter.figures_2d(data=True)\n",
        "\n",
        "    plane_plotter = aplt.PlanePlotter(plane=plane, grid=grid, mat_plot_2d=mat_plot)\n",
        "    plane_plotter.subplot()\n",
        "\n",
        "    \"\"\"\n",
        "    __Plane Output__\n",
        "\n",
        "    Save the `Plane` in the dataset folder as a .json file, ensuring the true light profiles and galaxies\n",
        "    are safely stored and available to check how the dataset was simulated in the future. \n",
        "\n",
        "    This can be loaded via the method `plane = ag.from_json()`.\n",
        "    \"\"\"\n",
        "    ag.output_to_json(\n",
        "        obj=plane,\n",
        "        file_path=path.join(dataset_sample_path, \"plane.json\"),\n",
        "    )\n",
        "\n",
        "    \"\"\"\n",
        "    The dataset can be viewed in the \n",
        "    folder `autogalaxy_workspace/imaging/sample/light_sersic_{sample_index]`.\n",
        "    \"\"\"\n"
      ],
      "outputs": [],
      "execution_count": null
    }
  ],
  "metadata": {
    "anaconda-cloud": {},
    "kernelspec": {
      "display_name": "Python 3",
      "language": "python",
      "name": "python3"
    },
    "language_info": {
      "codemirror_mode": {
        "name": "ipython",
        "version": 3
      },
      "file_extension": ".py",
      "mimetype": "text/x-python",
      "name": "python",
      "nbconvert_exporter": "python",
      "pygments_lexer": "ipython3",
      "version": "3.6.1"
    }
  },
  "nbformat": 4,
  "nbformat_minor": 4
}