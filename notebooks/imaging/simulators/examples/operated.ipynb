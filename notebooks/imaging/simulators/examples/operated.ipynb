{
  "cells": [
    {
      "cell_type": "markdown",
      "metadata": {},
      "source": [
        "Simulator: Sersic + Exp\n",
        "=======================\n",
        "\n",
        "This script simulates `Imaging` of a galaxy using light profiles where:\n",
        "\n",
        " - The galaxy's bulge is an `Sersic`.\n",
        " - The galaxy has a point source of emission at its centre which is modeled as a operated `Gaussian`.\n",
        " \n",
        "__Advanced__\n",
        "\n",
        "This is an advanced simulator script, meaning that detailed explanations of certain code are omitted. Refer to\n",
        "simulators not in the `advanced` folder for more detailed comments.\n",
        "\n",
        "__Start Here Notebook__\n",
        "\n",
        "If any code in this script is unclear, refer to the `simulators/start_here.ipynb` notebook."
      ]
    },
    {
      "cell_type": "code",
      "metadata": {},
      "source": [
        "%matplotlib inline\n",
        "from pyprojroot import here\n",
        "workspace_path = str(here())\n",
        "%cd $workspace_path\n",
        "print(f\"Working Directory has been set to `{workspace_path}`\")\n",
        "\n",
        "from os import path\n",
        "import autogalaxy as ag\n",
        "import autogalaxy.plot as aplt"
      ],
      "outputs": [],
      "execution_count": null
    },
    {
      "cell_type": "markdown",
      "metadata": {},
      "source": [
        "__Dataset Paths__\n",
        "\n",
        "The `dataset_type` describes the type of data being simulated (in this case, `Imaging` data) and `dataset_name`\n",
        "gives it a descriptive name. "
      ]
    },
    {
      "cell_type": "code",
      "metadata": {},
      "source": [
        "dataset_type = \"imaging\"\n",
        "dataset_name = \"operated\""
      ],
      "outputs": [],
      "execution_count": null
    },
    {
      "cell_type": "markdown",
      "metadata": {},
      "source": [
        "The path where the dataset will be output, which in this case is:\n",
        "`/autogalaxy_workspace/dataset/imaging/operated`"
      ]
    },
    {
      "cell_type": "code",
      "metadata": {},
      "source": [
        "dataset_path = path.join(\"dataset\", dataset_type, dataset_name)"
      ],
      "outputs": [],
      "execution_count": null
    },
    {
      "cell_type": "markdown",
      "metadata": {},
      "source": [
        "__Simulate__\n",
        "\n",
        "For simulating an image of a galaxy, we use a Grid2DIterate object."
      ]
    },
    {
      "cell_type": "code",
      "metadata": {},
      "source": [
        "grid = ag.Grid2DIterate.uniform(\n",
        "    shape_native=(100, 100),\n",
        "    pixel_scales=0.1,\n",
        "    fractional_accuracy=0.9999,\n",
        "    sub_steps=[2, 4, 8, 16, 24],\n",
        ")"
      ],
      "outputs": [],
      "execution_count": null
    },
    {
      "cell_type": "markdown",
      "metadata": {},
      "source": [
        "Simulate a simple Gaussian PSF for the image."
      ]
    },
    {
      "cell_type": "code",
      "metadata": {},
      "source": [
        "psf = ag.Kernel2D.from_gaussian(\n",
        "    shape_native=(11, 11), sigma=0.1, pixel_scales=grid.pixel_scales\n",
        ")"
      ],
      "outputs": [],
      "execution_count": null
    },
    {
      "cell_type": "markdown",
      "metadata": {},
      "source": [
        "To simulate the `Imaging` dataset we first create a simulator, which defines the exposure time, background sky,\n",
        "noise levels and psf of the dataset that is simulated."
      ]
    },
    {
      "cell_type": "code",
      "metadata": {},
      "source": [
        "simulator = ag.SimulatorImaging(\n",
        "    exposure_time=300.0, psf=psf, background_sky_level=0.1, add_poisson_noise=True\n",
        ")"
      ],
      "outputs": [],
      "execution_count": null
    },
    {
      "cell_type": "markdown",
      "metadata": {},
      "source": [
        "__Plane__\n",
        "\n",
        "Setup the galaxy with a bulge (elliptical Sersic) for this simulation.\n",
        "\n",
        "This includes an operated `Gaussian` component which represents the PSF convolved emission of a point-source \n",
        "emission at the galaxy's centre. \n",
        "\n",
        "It uses the same parameters as the `psf` defined above."
      ]
    },
    {
      "cell_type": "code",
      "metadata": {},
      "source": [
        "galaxy = ag.Galaxy(\n",
        "    redshift=0.5,\n",
        "    bulge=ag.lp.Sersic(\n",
        "        centre=(0.0, 0.0),\n",
        "        ell_comps=ag.convert.ell_comps_from(axis_ratio=0.9, angle=45.0),\n",
        "        intensity=1.0,\n",
        "        effective_radius=0.6,\n",
        "        sersic_index=3.0,\n",
        "    ),\n",
        "    psf=ag.lp_operated.Gaussian(\n",
        "        centre=(0.0, 0.0), ell_comps=(0.0, 0.0), intensity=100.0, sigma=0.1\n",
        "    ),\n",
        ")"
      ],
      "outputs": [],
      "execution_count": null
    },
    {
      "cell_type": "markdown",
      "metadata": {},
      "source": [
        "Use these galaxies to setup a plane, which generates the image for the simulated `Imaging` dataset."
      ]
    },
    {
      "cell_type": "code",
      "metadata": {},
      "source": [
        "plane = ag.Plane(galaxies=[galaxy])\n",
        "plane_plotter = aplt.PlanePlotter(plane=plane, grid=grid)\n",
        "plane_plotter.figures_2d(image=True)"
      ],
      "outputs": [],
      "execution_count": null
    },
    {
      "cell_type": "markdown",
      "metadata": {},
      "source": [
        "Pass the simulator a plane, which creates the image which is simulated as an imaging dataset."
      ]
    },
    {
      "cell_type": "code",
      "metadata": {},
      "source": [
        "dataset = simulator.via_plane_from(plane=plane, grid=grid)"
      ],
      "outputs": [],
      "execution_count": null
    },
    {
      "cell_type": "markdown",
      "metadata": {},
      "source": [
        "Plot the simulated `Imaging` dataset before outputting it to fits."
      ]
    },
    {
      "cell_type": "code",
      "metadata": {},
      "source": [
        "dataset_plotter = aplt.ImagingPlotter(dataset=dataset)\n",
        "dataset_plotter.subplot_dataset()"
      ],
      "outputs": [],
      "execution_count": null
    },
    {
      "cell_type": "markdown",
      "metadata": {},
      "source": [
        "__Output__\n",
        "\n",
        "Output the simulated dataset to the dataset path as .fits files."
      ]
    },
    {
      "cell_type": "code",
      "metadata": {},
      "source": [
        "dataset.output_to_fits(\n",
        "    data_path=path.join(dataset_path, \"data.fits\"),\n",
        "    psf_path=path.join(dataset_path, \"psf.fits\"),\n",
        "    noise_map_path=path.join(dataset_path, \"noise_map.fits\"),\n",
        "    overwrite=True,\n",
        ")"
      ],
      "outputs": [],
      "execution_count": null
    },
    {
      "cell_type": "markdown",
      "metadata": {},
      "source": [
        "__Visualize__\n",
        "\n",
        "Output a subplot of the simulated dataset, the image and the plane's quantities to the dataset path as .png files."
      ]
    },
    {
      "cell_type": "code",
      "metadata": {},
      "source": [
        "mat_plot = aplt.MatPlot2D(output=aplt.Output(path=dataset_path, format=\"png\"))\n",
        "\n",
        "dataset_plotter = aplt.ImagingPlotter(dataset=dataset, mat_plot_2d=mat_plot)\n",
        "dataset_plotter.subplot_dataset()\n",
        "dataset_plotter.figures_2d(data=True)\n",
        "\n",
        "plane_plotter = aplt.PlanePlotter(plane=plane, grid=grid, mat_plot_2d=mat_plot)\n",
        "plane_plotter.subplot()"
      ],
      "outputs": [],
      "execution_count": null
    },
    {
      "cell_type": "markdown",
      "metadata": {},
      "source": [
        "__Plane Output__\n",
        "\n",
        "Save the `Plane` in the dataset folder as a .json file, ensuring the true light profiles and galaxies\n",
        "are safely stored and available to check how the dataset was simulated in the future. \n",
        "\n",
        "This can be loaded via the method `plane = ag.from_json()`."
      ]
    },
    {
      "cell_type": "code",
      "metadata": {},
      "source": [
        "ag.output_to_json(\n",
        "    obj=plane,\n",
        "    file_path=path.join(dataset_path, \"plane.json\"),\n",
        ")"
      ],
      "outputs": [],
      "execution_count": null
    },
    {
      "cell_type": "markdown",
      "metadata": {},
      "source": [
        "The dataset can be viewed in the folder `autogalaxy_workspace/imaging/simple__sersic`."
      ]
    },
    {
      "cell_type": "code",
      "metadata": {},
      "source": [],
      "outputs": [],
      "execution_count": null
    }
  ],
  "metadata": {
    "anaconda-cloud": {},
    "kernelspec": {
      "display_name": "Python 3",
      "language": "python",
      "name": "python3"
    },
    "language_info": {
      "codemirror_mode": {
        "name": "ipython",
        "version": 3
      },
      "file_extension": ".py",
      "mimetype": "text/x-python",
      "name": "python",
      "nbconvert_exporter": "python",
      "pygments_lexer": "ipython3",
      "version": "3.6.1"
    }
  },
  "nbformat": 4,
  "nbformat_minor": 4
}