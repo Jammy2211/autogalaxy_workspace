{
  "cells": [
    {
      "cell_type": "markdown",
      "metadata": {},
      "source": [
        "Simulator: Light MGE\n",
        "====================\n",
        "\n",
        "This script simulates `Imaging` of a galaxy using light profiles where:\n",
        "\n",
        " - The galaxy's light is a superposition of 14 `Gaussian` profiles.\n",
        "\n",
        "The galaxy's light is derived from a Multi-Gaussian Expansion (MGE) fit to a massive elliptical galaxy.\n",
        "\n",
        "The simulated galaxy has irregular and asymmetric features in the galaxy, including a twist in the isophotes of its\n",
        "emission."
      ]
    },
    {
      "cell_type": "code",
      "metadata": {},
      "source": [
        "%matplotlib inline\n",
        "from pyprojroot import here\n",
        "workspace_path = str(here())\n",
        "%cd $workspace_path\n",
        "print(f\"Working Directory has been set to `{workspace_path}`\")\n",
        "\n",
        "from os import path\n",
        "import autogalaxy as ag\n",
        "import autogalaxy.plot as aplt"
      ],
      "outputs": [],
      "execution_count": null
    },
    {
      "cell_type": "markdown",
      "metadata": {},
      "source": [
        "__Dataset Paths__\n",
        "\n",
        "The `dataset_type` describes the type of data being simulated (in this case, `Imaging` data) and `dataset_name`\n",
        "gives it a descriptive name. They define the folder the dataset is output to on your hard-disk.\n",
        "\n",
        " - The image will be output to `/autogalaxy_workspace/dataset/dataset_type/dataset_name/image.fits`.\n",
        " - The noise-map will be output to `/autogalaxy_workspace/dataset/dataset_type/dataset_name/noise_map.fits`.\n",
        " - The psf will be output to `/autogalaxy_workspace/dataset/dataset_type/dataset_name/psf.fits`."
      ]
    },
    {
      "cell_type": "code",
      "metadata": {},
      "source": [
        "dataset_type = \"imaging\"\n",
        "dataset_name = \"asymmetric\""
      ],
      "outputs": [],
      "execution_count": null
    },
    {
      "cell_type": "markdown",
      "metadata": {},
      "source": [
        "The path where the dataset will be output, which in this case is:\n",
        "`/autogalaxy_workspace/dataset/imaging/asymmetric`"
      ]
    },
    {
      "cell_type": "code",
      "metadata": {},
      "source": [
        "dataset_path = path.join(\"dataset\", dataset_type, dataset_name)"
      ],
      "outputs": [],
      "execution_count": null
    },
    {
      "cell_type": "markdown",
      "metadata": {},
      "source": [
        "__Simulate__\n",
        "\n",
        "For simulating an image of a galaxy, we recommend using a Grid2DIterate object. This represents a grid of (y,x) \n",
        "coordinates like an ordinary Grid2D, but when the light-profile`s image is evaluated below (using the Plane) the \n",
        "sub-size of the grid is iteratively increased (in steps of 2, 4, 8, 16, 24) until the input fractional accuracy of \n",
        "99.99% is met.\n",
        "\n",
        "This ensures that the divergent and bright central regions of the galaxy are fully resolved when determining the\n",
        "total flux emitted within a pixel."
      ]
    },
    {
      "cell_type": "code",
      "metadata": {},
      "source": [
        "grid = ag.Grid2DIterate.uniform(\n",
        "    shape_native=(150, 150),\n",
        "    pixel_scales=0.05,\n",
        "    fractional_accuracy=0.9999,\n",
        "    sub_steps=[2, 4, 8, 16, 24],\n",
        ")"
      ],
      "outputs": [],
      "execution_count": null
    },
    {
      "cell_type": "markdown",
      "metadata": {},
      "source": [
        "Simulate a simple Gaussian PSF for the image."
      ]
    },
    {
      "cell_type": "code",
      "metadata": {},
      "source": [
        "psf = ag.Kernel2D.from_gaussian(\n",
        "    shape_native=(11, 11), sigma=0.1, pixel_scales=grid.pixel_scales\n",
        ")"
      ],
      "outputs": [],
      "execution_count": null
    },
    {
      "cell_type": "markdown",
      "metadata": {},
      "source": [
        "To simulate the `Imaging` dataset we first create a simulator, which defines the exposure time, background sky,\n",
        "noise levels and psf of the dataset that is simulated."
      ]
    },
    {
      "cell_type": "code",
      "metadata": {},
      "source": [
        "simulator = ag.SimulatorImaging(\n",
        "    exposure_time=300.0, psf=psf, background_sky_level=0.1, add_poisson_noise=True\n",
        ")"
      ],
      "outputs": [],
      "execution_count": null
    },
    {
      "cell_type": "markdown",
      "metadata": {},
      "source": [
        "__Plane__\n",
        "\n",
        "Setup the galaxy with a bulge (elliptical Sersic) for this simulation.\n",
        "\n",
        "For modeling, defining ellipticity in terms of the `ell_comps` improves the model-fitting procedure.\n",
        "\n",
        "However, for simulating a galaxy you may find it more intuitive to define the elliptical geometry using the \n",
        "axis-ratio of the profile (axis_ratio = semi-major axis / semi-minor axis = b/a) and position angle, where angle is\n",
        "in degrees and defined counter clockwise from the positive x-axis.\n",
        "\n",
        "We can use the **PyAutoGalaxy** `convert` module to determine the elliptical components from the axis-ratio and angle.\n",
        "\n",
        "__Basis of Gaussians__\n",
        "\n",
        "We use a basis of 14 elliptical Gaussians, which represent a complex galaxy morphology with irregular and\n",
        "asymmetric features such as an isophotal twist which symmetric profiles like a Sersic cannot capture.\n",
        "\n",
        "The parameters of these Gaussians are loaded from the file `galaxy_mge.json` and their parameters were inferred by\n",
        "fitting Hubble Space Telescope imaging of a real galaxy with many Gaussian profiles."
      ]
    },
    {
      "cell_type": "code",
      "metadata": {},
      "source": [
        "# galaxy = ag.Galaxy.from_json(file_path=path.join(dataset_path, \"galaxy_mge.json\"))\n",
        "\n",
        "centre_y_list = [\n",
        "    -0.00361289,\n",
        "    -0.00361289,\n",
        "    -0.00361289,\n",
        "    -0.00361289,\n",
        "    -0.00361289,\n",
        "    -0.00361289,\n",
        "    -0.00361289,\n",
        "    -0.00361289,\n",
        "    -0.00361289,\n",
        "    -0.00361289,\n",
        "    -0.00361289,\n",
        "    -0.00361289,\n",
        "    -0.00361289,\n",
        "    -0.00361289,\n",
        "]\n",
        "\n",
        "centre_x_list = [\n",
        "    -0.00636064,\n",
        "    -0.00636064,\n",
        "    -0.00636064,\n",
        "    -0.00636064,\n",
        "    -0.00636064,\n",
        "    -0.00636064,\n",
        "    -0.00636064,\n",
        "    -0.00636064,\n",
        "    -0.00636064,\n",
        "    -0.00636064,\n",
        "    -0.00636064,\n",
        "    -0.00636064,\n",
        "    -0.00636064,\n",
        "    -0.00636064,\n",
        "]\n",
        "\n",
        "ell_comps_0_list = [\n",
        "    0.05843285,\n",
        "    0.0,\n",
        "    0.05368621,\n",
        "    0.05090395,\n",
        "    0.0,\n",
        "    0.25367341,\n",
        "    0.01677313,\n",
        "    0.03626733,\n",
        "    0.15887384,\n",
        "    0.02790297,\n",
        "    0.12368768,\n",
        "    0.38624915,\n",
        "    -0.10490247,\n",
        "    0.0385585,\n",
        "]\n",
        "\n",
        "ell_comps_1_list = [\n",
        "    0.05932136,\n",
        "    0.0,\n",
        "    0.04267542,\n",
        "    -0.06920487,\n",
        "    -0.0,\n",
        "    -0.15141799,\n",
        "    0.01464508,\n",
        "    0.03084128,\n",
        "    -0.17983965,\n",
        "    0.02215257,\n",
        "    -0.16271084,\n",
        "    -0.15945967,\n",
        "    -0.3969543,\n",
        "    -0.03808391,\n",
        "]\n",
        "\n",
        "intensity_list = [\n",
        "    0.52107394,\n",
        "    4.2933716,\n",
        "    2.40608609,\n",
        "    4.98902608,\n",
        "    2.72773562,\n",
        "    1.10429021,\n",
        "    1.08190372,\n",
        "    0.30007753,\n",
        "    0.6462658,\n",
        "    0.15766566,\n",
        "    0.24687923,\n",
        "    0.04815128,\n",
        "    0.02559108,\n",
        "    0.06763223,\n",
        "]\n",
        "\n",
        "sigma_list = [\n",
        "    0.01607907,\n",
        "    0.04039063,\n",
        "    0.06734373,\n",
        "    0.08471335,\n",
        "    0.16048498,\n",
        "    0.13531624,\n",
        "    0.25649938,\n",
        "    0.46096968,\n",
        "    0.34492195,\n",
        "    0.92418119,\n",
        "    0.71803244,\n",
        "    1.23547346,\n",
        "    1.2574071,\n",
        "    2.69979461,\n",
        "]\n",
        "\n",
        "gaussian_dict = {}\n",
        "\n",
        "for gaussian_index in range(len(centre_x_list)):\n",
        "    gaussian = ag.lp.Gaussian(\n",
        "        centre=(centre_y_list[gaussian_index], centre_x_list[gaussian_index]),\n",
        "        ell_comps=(\n",
        "            ell_comps_0_list[gaussian_index],\n",
        "            ell_comps_1_list[gaussian_index],\n",
        "        ),\n",
        "        intensity=intensity_list[gaussian_index],\n",
        "        sigma=sigma_list[gaussian_index],\n",
        "    )\n",
        "\n",
        "    gaussian_dict[f\"gaussian_{gaussian_index}\"] = gaussian\n",
        "\n",
        "galaxy = ag.Galaxy(redshift=0.5, **gaussian_dict)"
      ],
      "outputs": [],
      "execution_count": null
    },
    {
      "cell_type": "markdown",
      "metadata": {},
      "source": [
        "Use these galaxies to setup a plane, which generates the image for the simulated `Imaging` dataset."
      ]
    },
    {
      "cell_type": "code",
      "metadata": {},
      "source": [
        "plane = ag.Plane(galaxies=[galaxy])\n",
        "plane_plotter = aplt.PlanePlotter(plane=plane, grid=grid)\n",
        "plane_plotter.figures_2d(image=True)"
      ],
      "outputs": [],
      "execution_count": null
    },
    {
      "cell_type": "markdown",
      "metadata": {},
      "source": [
        "Pass the simulator a plane, which creates the image which is simulated as an imaging dataset."
      ]
    },
    {
      "cell_type": "code",
      "metadata": {},
      "source": [
        "dataset = simulator.via_plane_from(plane=plane, grid=grid)"
      ],
      "outputs": [],
      "execution_count": null
    },
    {
      "cell_type": "markdown",
      "metadata": {},
      "source": [
        "Plot the simulated `Imaging` dataset before outputting it to fits."
      ]
    },
    {
      "cell_type": "code",
      "metadata": {},
      "source": [
        "dataset_plotter = aplt.ImagingPlotter(dataset=dataset)\n",
        "dataset_plotter.subplot_dataset()"
      ],
      "outputs": [],
      "execution_count": null
    },
    {
      "cell_type": "markdown",
      "metadata": {},
      "source": [
        "__Output__\n",
        "\n",
        "Output the simulated dataset to the dataset path as .fits files."
      ]
    },
    {
      "cell_type": "code",
      "metadata": {},
      "source": [
        "dataset.output_to_fits(\n",
        "    data_path=path.join(dataset_path, \"data.fits\"),\n",
        "    psf_path=path.join(dataset_path, \"psf.fits\"),\n",
        "    noise_map_path=path.join(dataset_path, \"noise_map.fits\"),\n",
        "    overwrite=True,\n",
        ")"
      ],
      "outputs": [],
      "execution_count": null
    },
    {
      "cell_type": "markdown",
      "metadata": {},
      "source": [
        "__Visualize__\n",
        "\n",
        "Output a subplot of the simulated dataset, the image and the plane's quantities to the dataset path as .png files."
      ]
    },
    {
      "cell_type": "code",
      "metadata": {},
      "source": [
        "mat_plot = aplt.MatPlot2D(output=aplt.Output(path=dataset_path, format=\"png\"))\n",
        "\n",
        "dataset_plotter = aplt.ImagingPlotter(dataset=dataset, mat_plot_2d=mat_plot)\n",
        "dataset_plotter.subplot_dataset()\n",
        "dataset_plotter.figures_2d(data=True)\n",
        "\n",
        "plane_plotter = aplt.PlanePlotter(plane=plane, grid=grid, mat_plot_2d=mat_plot)\n",
        "plane_plotter.subplot()"
      ],
      "outputs": [],
      "execution_count": null
    },
    {
      "cell_type": "markdown",
      "metadata": {},
      "source": [
        "__Plane Output__\n",
        "\n",
        "Save the `Plane` in the dataset folder as a .json file, ensuring the true light profiles and galaxies\n",
        "are safely stored and available to check how the dataset was simulated in the future. \n",
        "\n",
        "This can be loaded via the method `plane = ag.from_json()`."
      ]
    },
    {
      "cell_type": "code",
      "metadata": {},
      "source": [
        "ag.output_to_json(\n",
        "    obj=plane,\n",
        "    file_path=path.join(dataset_path, \"plane.json\"),\n",
        ")"
      ],
      "outputs": [],
      "execution_count": null
    },
    {
      "cell_type": "markdown",
      "metadata": {},
      "source": [
        "The dataset can be viewed in the folder `autogalaxy_workspace/imaging/asymmetric`."
      ]
    },
    {
      "cell_type": "code",
      "metadata": {},
      "source": [],
      "outputs": [],
      "execution_count": null
    }
  ],
  "metadata": {
    "anaconda-cloud": {},
    "kernelspec": {
      "display_name": "Python 3",
      "language": "python",
      "name": "python3"
    },
    "language_info": {
      "codemirror_mode": {
        "name": "ipython",
        "version": 3
      },
      "file_extension": ".py",
      "mimetype": "text/x-python",
      "name": "python",
      "nbconvert_exporter": "python",
      "pygments_lexer": "ipython3",
      "version": "3.6.1"
    }
  },
  "nbformat": 4,
  "nbformat_minor": 4
}