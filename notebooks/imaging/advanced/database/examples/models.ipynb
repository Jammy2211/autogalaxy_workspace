{
  "cells": [
    {
      "cell_type": "markdown",
      "metadata": {},
      "source": [
        "Database: Models\n",
        "================\n",
        "\n",
        "In this tutorial, we use the database to load models and `Plane`'s from a non-linear search. This allows us to\n",
        "visualize and interpret its results.\n",
        "\n",
        "We then show how the database also allows us to load many `Plane`'s correspond to many samples of the non-linear\n",
        "search. This allows us to compute the errors on quantities that the `Plane` contains, but were not sampled directly\n",
        "by the non-linear search."
      ]
    },
    {
      "cell_type": "code",
      "metadata": {},
      "source": [
        "%matplotlib inline\n",
        "from pyprojroot import here\n",
        "workspace_path = str(here())\n",
        "%cd $workspace_path\n",
        "print(f\"Working Directory has been set to `{workspace_path}`\")\n",
        "\n",
        "import autofit as af\n",
        "import autogalaxy as ag\n",
        "import autogalaxy.plot as aplt"
      ],
      "outputs": [],
      "execution_count": null
    },
    {
      "cell_type": "markdown",
      "metadata": {},
      "source": [
        "__Database File__\n",
        "\n",
        "First, set up the aggregator as we did in the previous tutorial."
      ]
    },
    {
      "cell_type": "code",
      "metadata": {},
      "source": [
        "agg = af.Aggregator.from_database(\"database.sqlite\")"
      ],
      "outputs": [],
      "execution_count": null
    },
    {
      "cell_type": "markdown",
      "metadata": {},
      "source": [
        "__Plane via Database__\n",
        "\n",
        "Having performed a model-fit, we now want to interpret and visualize the results. In this example, we want to inspect\n",
        "the `Plane` object objects that gave good fits to the data. \n",
        "\n",
        "Using the API shown in the `start_here.py` example this would require us to create a `Samples` object and manually \n",
        "compose our own `Plane` object. For large datasets, this would require us to use generators to ensure it is memory-light,\n",
        "which are cumbersome to write.\n",
        "\n",
        "This example therefore uses the `PlaneAgg` object, which conveniently loads the `Plane` objects of every fit via \n",
        "generators for us. Explicit examples of how to do this via generators is given in the `advanced/manual_generator.py` \n",
        "tutorial.\n",
        "\n",
        "We get a plane generator via the `ac.agg.PlaneAgg` object, where this `plane_gen` contains the maximum log\n",
        "likelihood `Plane `object of every model-fit."
      ]
    },
    {
      "cell_type": "code",
      "metadata": {},
      "source": [
        "plane_agg = ag.agg.PlaneAgg(aggregator=agg)\n",
        "plane_gen = plane_agg.max_log_likelihood_gen_from()"
      ],
      "outputs": [],
      "execution_count": null
    },
    {
      "cell_type": "markdown",
      "metadata": {},
      "source": [
        "We can now iterate over our plane generator to make the plots we desire.\n",
        "\n",
        "The `plane_gen` returns a list of `Plane` objects, as opposed to just a single `Plane`object. This is because\n",
        "only a single `Analysis` class was used in the model-fit, meaning there was only one `Plane` dataset that was\n",
        "fit. \n",
        "\n",
        "The `multi` package of the workspace illustrates model-fits which fit multiple datasets \n",
        "simultaneously, (e.g. multi-wavelength imaging)  by summing `Analysis` objects together, where the `plane_list` \n",
        "would contain multiple `Plane` objects.\n",
        "\n",
        "The parameters of galaxies in the `Plane` may vary across the datasets (e.g. different light profile intensities \n",
        "for different wavelengths), which would be reflected in the plane list."
      ]
    },
    {
      "cell_type": "code",
      "metadata": {},
      "source": [
        "grid = ag.Grid2D.uniform(shape_native=(100, 100), pixel_scales=0.1)\n",
        "\n",
        "for plane in plane_gen:\n",
        "    plane_plotter = aplt.PlanePlotter(plane=plane, grid=grid)\n",
        "    plane_plotter.figures_2d(convergence=True, potential=True)"
      ],
      "outputs": [],
      "execution_count": null
    },
    {
      "cell_type": "markdown",
      "metadata": {},
      "source": [
        "__Luminosity Example__\n",
        "\n",
        "Each plane has the information we need to compute the luminosity of that model. Therefore, lets print \n",
        "the luminosity of each of our most-likely galaxies.\n",
        "\n",
        "The model instance uses the model defined by a pipeline. In this pipeline, we called the galaxy `galaxy`."
      ]
    },
    {
      "cell_type": "code",
      "metadata": {},
      "source": [
        "plane_agg = ag.agg.PlaneAgg(aggregator=agg)\n",
        "plane_gen = plane_agg.max_log_likelihood_gen_from()\n",
        "\n",
        "print(\"Maximum Log Likelihood Luminosities:\")\n",
        "\n",
        "for plane_list in plane_gen:\n",
        "    # Only one `Analysis` so take first and only tracer.\n",
        "    plane = plane_list[0]\n",
        "\n",
        "    luminosity = plane.galaxies[0].luminosity_within_circle_from(radius=10.0)\n",
        "\n",
        "    print(\"Luminosity (electrons per second) = \", luminosity)\n"
      ],
      "outputs": [],
      "execution_count": null
    },
    {
      "cell_type": "markdown",
      "metadata": {},
      "source": [
        "__Errors (PDF from samples)__\n",
        "\n",
        "In this example, we will compute the errors on the axis ratio of a model. Computing the errors on a quantity \n",
        "like the trap `density` is simple, because it is sampled by the non-linear search. The errors are therefore accessible\n",
        "via the `Samples`, by marginalizing over all over parameters via the 1D Probability Density Function (PDF).\n",
        "\n",
        "Computing the errors on the axis ratio is more tricky, because it is a derived quantity. It is a parameter or \n",
        "measurement that we want to calculate but was not sampled directly by the non-linear search. The `PlaneAgg` object \n",
        "object has everything we need to compute the errors of derived quantities.\n",
        "\n",
        "Below, we compute the axis ratio of every model sampled by the non-linear search and use this determine the PDF \n",
        "of the axis ratio. When combining each axis ratio we weight each value by its `weight`. For Nautilus, \n",
        "the nested sampler used by the fit, this ensures models which gave a bad fit (and thus have a low weight) do not \n",
        "contribute significantly to the axis ratio error estimate.\n",
        "\n",
        "We set `minimum_weight=`1e-4`, such that any sample with a weight below this value is discarded when computing the \n",
        "error. This speeds up the error computation by only using a small fraction of the total number of samples. Computing\n",
        "a axis ratio is cheap, and this is probably not necessary. However, certain quantities have a non-negligible\n",
        "computational overhead is being calculated and setting a minimum weight can speed up the calculation without \n",
        "significantly changing the inferred errors.\n",
        "\n",
        "Below, we use the `PlaneAgg` to get the `Plane` of every Nautilus sample in each model-fit. We extract from each \n",
        "plane the model's axis-ratio, store them in a list and find the value via the PDF and quantile method. This again\n",
        "uses generators, ensuring minimal memory use. \n",
        "\n",
        "In order to use these samples in the function `quantile`, we also need the weight list of the sample weights. We \n",
        "compute this using the `PlaneAgg`'s function `weights_above_gen_from`, which computes generators of the weights of all \n",
        "points above this minimum value. This again ensures memory use in minimag."
      ]
    },
    {
      "cell_type": "code",
      "metadata": {},
      "source": [
        "plane_agg = ag.agg.PlaneAgg(aggregator=agg)\n",
        "plane_list_gen = plane_agg.all_above_weight_gen_from(minimum_weight=1e-4)\n",
        "weight_list_gen = plane_agg.weights_above_gen_from(minimum_weight=1e-4)\n",
        "\n",
        "for plane_gen, weight_gen in zip(plane_list_gen, weight_list_gen):\n",
        "    axis_ratio_list = []\n",
        "\n",
        "    for plane_list in plane_gen:\n",
        "        # Only one `Analysis` so take first and only tracer.\n",
        "        plane = plane_list[0]\n",
        "\n",
        "        axis_ratio = ag.convert.axis_ratio_from(\n",
        "            ell_comps=plane.galaxies[0].bulge.ell_comps\n",
        "        )\n",
        "\n",
        "        axis_ratio_list.append(axis_ratio)\n",
        "\n",
        "    weight_list = [weight for weight in weight_gen]\n",
        "\n",
        "    median_axis_ratio, upper_axis_ratio, lower_axis_ratio = af.marginalize(\n",
        "        parameter_list=axis_ratio_list, sigma=3.0, weight_list=weight_list\n",
        "    )\n",
        "\n",
        "    print(f\"Axis-Ratio = {median_axis_ratio} ({upper_axis_ratio} {lower_axis_ratio}\")"
      ],
      "outputs": [],
      "execution_count": null
    },
    {
      "cell_type": "markdown",
      "metadata": {},
      "source": [
        "__Errors (Random draws from PDF)__\n",
        "\n",
        "An alternative approach to estimating the errors on a derived quantity is to randomly draw samples from the PDF \n",
        "of the non-linear search. For a sufficiently high number of random draws, this should be as accurate and precise\n",
        "as the method above. However, it can be difficult to be certain how many random draws are necessary.\n",
        "\n",
        "The weights of each sample are used to make every random draw. Therefore, when we compute the axis-ratio and its errors\n",
        "we no longer need to pass the `weight_list` to the `quantile` function."
      ]
    },
    {
      "cell_type": "code",
      "metadata": {},
      "source": [
        "plane_agg = ag.agg.PlaneAgg(aggregator=agg)\n",
        "plane_list_gen = plane_agg.randomly_drawn_via_pdf_gen_from(total_samples=2)\n",
        "\n",
        "for plane_gen in plane_list_gen:\n",
        "    axis_ratio_list = []\n",
        "\n",
        "    for plane_list in plane_gen:\n",
        "        # Only one `Analysis` so take first and only tracer.\n",
        "        plane = plane_list[0]\n",
        "\n",
        "        axis_ratio = ag.convert.axis_ratio_from(\n",
        "            ell_comps=plane.galaxies[0].bulge.ell_comps\n",
        "        )\n",
        "\n",
        "        axis_ratio_list.append(axis_ratio)\n",
        "\n",
        "    median_axis_ratio, upper_axis_ratio, lower_axis_ratio = af.marginalize(\n",
        "        parameter_list=axis_ratio_list, sigma=3.0\n",
        "    )\n",
        "\n",
        "    print(f\"Axis-Ratio = {median_axis_ratio} ({upper_axis_ratio} {lower_axis_ratio}\")\n"
      ],
      "outputs": [],
      "execution_count": null
    },
    {
      "cell_type": "markdown",
      "metadata": {},
      "source": [
        "Finish."
      ]
    },
    {
      "cell_type": "code",
      "metadata": {},
      "source": [],
      "outputs": [],
      "execution_count": null
    }
  ],
  "metadata": {
    "anaconda-cloud": {},
    "kernelspec": {
      "display_name": "Python 3",
      "language": "python",
      "name": "python3"
    },
    "language_info": {
      "codemirror_mode": {
        "name": "ipython",
        "version": 3
      },
      "file_extension": ".py",
      "mimetype": "text/x-python",
      "name": "python",
      "nbconvert_exporter": "python",
      "pygments_lexer": "ipython3",
      "version": "3.6.1"
    }
  },
  "nbformat": 4,
  "nbformat_minor": 4
}