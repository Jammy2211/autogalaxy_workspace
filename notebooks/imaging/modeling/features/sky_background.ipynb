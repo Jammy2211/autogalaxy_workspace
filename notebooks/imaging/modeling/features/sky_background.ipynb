{
  "cells": [
    {
      "cell_type": "markdown",
      "metadata": {},
      "source": [
        "Modeling Features: Sky Background\n",
        "=================================\n",
        "\n",
        "The background of an image is the light that is not associated with the galaxy we are interested in. This is due to\n",
        "light from the sky, zodiacal light, and light from other galaxies in the field of view.\n",
        "\n",
        "The background sky is often subtracted from image data during the data reduction procedure. If this subtraction is\n",
        "perfect, there is then no need to include the sky in the model-fitting. However, it is difficult to achieve a perfect\n",
        "subtraction.\n",
        "\n",
        "The residuals of an imperfect back sky subtraction can leave a signal in the image which is degenerate with the\n",
        "light profile of the lens galaxy. This is especially true for low surface brightness features, such as the faint\n",
        "outskirts of the galaxy.\n",
        "\n",
        "Fitting the sky can therefore ensure errors on light profile parameters which fit the low surface brightness features\n",
        "further out, like the effective radius and Sersic index, fully account for the uncertainties in the sky background.\n",
        "\n",
        "This example script illustrate how to include the sky background in the model-fitting of an `Imaging` dataset.\n",
        "\n",
        "The code shows how to fit the sky background as a non-linear free parameter (e.g. an extra dimension in the non-linear\n",
        "parameter space),\n",
        "\n",
        "__Model__\n",
        "\n",
        "This script fits an `Imaging` dataset of a galaxy with a model where:\n",
        "\n",
        " - The galaxy's light is a parametric `Sersic` bulge and `Exponential` disk.\n",
        " - The sky background is included as a `Sky` light profile.\n",
        "\n",
        "__Start Here Notebook__\n",
        "\n",
        "If any code in this script is unclear, refer to the `modeling/start_here.ipynb` notebook."
      ]
    },
    {
      "cell_type": "code",
      "metadata": {},
      "source": [
        "%matplotlib inline\n",
        "from pyprojroot import here\n",
        "workspace_path = str(here())\n",
        "%cd $workspace_path\n",
        "print(f\"Working Directory has been set to `{workspace_path}`\")\n",
        "\n",
        "from os import path\n",
        "import autofit as af\n",
        "import autogalaxy as ag\n",
        "import autogalaxy.plot as aplt"
      ],
      "outputs": [],
      "execution_count": null
    },
    {
      "cell_type": "markdown",
      "metadata": {},
      "source": [
        "__Dataset__\n",
        "\n",
        "Load and plot the galaxy dataset `sky_background` via .fits files, which we will fit with the model.\n",
        "\n",
        "This dataset has not had the sky background subtracted from it, therefore the sky background is included in the\n",
        "image data when we fit it. \n",
        "\n",
        "This is seen clearly in the plot, where the outskirts of the image do not go to values near 0.0 electrons per second\n",
        "like other datasets but instead have values of 5.0 electrons per second, the sky background level used to simulate\n",
        "the image."
      ]
    },
    {
      "cell_type": "code",
      "metadata": {},
      "source": [
        "dataset_name = \"sky_background\"\n",
        "dataset_path = path.join(\"dataset\", \"imaging\", dataset_name)\n",
        "\n",
        "dataset = ag.Imaging.from_fits(\n",
        "    data_path=path.join(dataset_path, \"data.fits\"),\n",
        "    psf_path=path.join(dataset_path, \"psf.fits\"),\n",
        "    noise_map_path=path.join(dataset_path, \"noise_map.fits\"),\n",
        "    pixel_scales=0.1,\n",
        ")\n",
        "\n",
        "dataset_plotter = aplt.ImagingPlotter(dataset=dataset)\n",
        "dataset_plotter.subplot_dataset()"
      ],
      "outputs": [],
      "execution_count": null
    },
    {
      "cell_type": "markdown",
      "metadata": {},
      "source": [
        "__Mask__\n",
        "\n",
        "Define a 3.0\" circular mask, which includes the emission of the galaxy."
      ]
    },
    {
      "cell_type": "code",
      "metadata": {},
      "source": [
        "mask = ag.Mask2D.circular(\n",
        "    shape_native=dataset.shape_native, pixel_scales=dataset.pixel_scales, radius=3.0\n",
        ")\n",
        "\n",
        "dataset = dataset.apply_mask(mask=mask)\n",
        "\n",
        "dataset_plotter = aplt.ImagingPlotter(dataset=dataset)\n",
        "dataset_plotter.subplot_dataset()"
      ],
      "outputs": [],
      "execution_count": null
    },
    {
      "cell_type": "markdown",
      "metadata": {},
      "source": [
        "__Fit__\n",
        "\n",
        "We first show how to use a `Sky` object to fit the sky background in the data.\n",
        "\n",
        "This illustrates the API for performing a sky background fit using standard objects like a `Galaxy` and `FitImaging` .\n",
        "\n",
        "This does not perform a model-fit via a non-linear search, and therefore requires us to manually specify and guess\n",
        "suitable parameter values for the sky. We will use the true value of 5.0 electrons per second.\n",
        "\n",
        "For the galaxy, we will use the true parameters used to simulate the data, for illustrative purposes."
      ]
    },
    {
      "cell_type": "code",
      "metadata": {},
      "source": [
        "galaxy = ag.Galaxy(\n",
        "    redshift=0.5,\n",
        "    bulge=ag.lp.Sersic(\n",
        "        centre=(0.0, 0.0),\n",
        "        ell_comps=ag.convert.ell_comps_from(axis_ratio=0.9, angle=45.0),\n",
        "        intensity=1.0,\n",
        "        effective_radius=0.6,\n",
        "        sersic_index=3.0,\n",
        "    ),\n",
        "    disk=ag.lp.Exponential(\n",
        "        centre=(0.0, 0.0),\n",
        "        ell_comps=ag.convert.ell_comps_from(axis_ratio=0.7, angle=30.0),\n",
        "        intensity=0.5,\n",
        "        effective_radius=1.6,\n",
        "    ),\n",
        ")\n",
        "\n",
        "galaxies = ag.Galaxies(galaxies=[galaxy])\n",
        "\n",
        "sky = ag.lp.Sky(intensity=5.0)\n",
        "\n",
        "fit = ag.FitImaging(dataset=dataset, galaxies=galaxies, sky=sky)"
      ],
      "outputs": [],
      "execution_count": null
    },
    {
      "cell_type": "markdown",
      "metadata": {},
      "source": [
        "By plotting the fit, we see that the sky is included in the model-data and makes the outskirts of the image\n",
        "have values of 5.0 electrons per second.\n",
        "\n",
        "There are few residuals, except for perhaps some central regions where the light profile is not perfectly fitted."
      ]
    },
    {
      "cell_type": "code",
      "metadata": {},
      "source": [
        "fit_plotter = aplt.FitImagingPlotter(fit=fit)\n",
        "fit_plotter.subplot_fit()"
      ],
      "outputs": [],
      "execution_count": null
    },
    {
      "cell_type": "markdown",
      "metadata": {},
      "source": [
        "__Model__\n",
        "\n",
        "We compose our model where in this example:\n",
        "\n",
        " - The galaxy's bulge is a parametric `Sersic` bulge [7 parameters]. \n",
        " - The galaxy's disk is a parametric `Exponential` disk, whose centre is aligned with the bulge [4 parameters].\n",
        " - The sky background is included as a `Sky` light profile [1 parameter].\n",
        "\n",
        "The number of free parameters and therefore the dimensionality of non-linear parameter space is N=12.\n",
        "\n",
        "The sky is not included in the `galaxies` collection, but is its own separate component in the overall model.\n",
        "\n",
        "We update the prior on the `intensity` of the sky manually, such that it surrounds the true value of 5.0 electrons\n",
        "per second. It is recommend you always update the prior on the sky's intensity manually, because the appropriate\n",
        "prior depends on the dataset being fitted. However, when we use linear light profiles below, this is not necessary."
      ]
    },
    {
      "cell_type": "code",
      "metadata": {},
      "source": [
        "bulge = af.Model(ag.lp_linear.Sersic)\n",
        "disk = af.Model(ag.lp_linear.Exponential)\n",
        "bulge.centre = disk.centre\n",
        "\n",
        "galaxy = af.Model(ag.Galaxy, redshift=0.5, bulge=bulge, disk=disk)\n",
        "\n",
        "sky = af.Model(ag.lp.Sky)\n",
        "sky.intensity = af.UniformPrior(lower_limit=0.0, upper_limit=5.0)\n",
        "\n",
        "model = af.Collection(galaxies=af.Collection(galaxy=galaxy), sky=sky)"
      ],
      "outputs": [],
      "execution_count": null
    },
    {
      "cell_type": "markdown",
      "metadata": {},
      "source": [
        "The `info` attribute shows the model in a readable format (if this does not display clearly on your screen refer to\n",
        "`start_here.ipynb` for a description of how to fix this).\n",
        "\n",
        "This confirms that the sky is a model component that is not part of the `galaxies` collection."
      ]
    },
    {
      "cell_type": "code",
      "metadata": {},
      "source": [
        "print(model.info)"
      ],
      "outputs": [],
      "execution_count": null
    },
    {
      "cell_type": "markdown",
      "metadata": {},
      "source": [
        "__Search__\n",
        "\n",
        "The model is fitted to the data using the nested sampling algorithm Nautilus (see `start.here.py` for a \n",
        "full description)."
      ]
    },
    {
      "cell_type": "code",
      "metadata": {},
      "source": [
        "search = af.Nautilus(\n",
        "    path_prefix=path.join(\"imaging\", \"modeling\"),\n",
        "    name=\"sky_background\",\n",
        "    unique_tag=dataset_name,\n",
        "    n_live=75,\n",
        "    number_of_cores=4,\n",
        ")"
      ],
      "outputs": [],
      "execution_count": null
    },
    {
      "cell_type": "markdown",
      "metadata": {},
      "source": [
        "__Analysis__\n",
        "\n",
        "Create the `AnalysisImaging` object defining how the model is fitted to the data."
      ]
    },
    {
      "cell_type": "code",
      "metadata": {},
      "source": [
        "analysis = ag.AnalysisImaging(\n",
        "    dataset=dataset, settings_inversion=ag.SettingsInversion(use_w_tilde=False)\n",
        ")"
      ],
      "outputs": [],
      "execution_count": null
    },
    {
      "cell_type": "markdown",
      "metadata": {},
      "source": [
        "__Run Time__\n",
        "\n",
        "For standard light profiles, the log likelihood evaluation time is of order ~0.01 seconds for this dataset.\n",
        "\n",
        "Adding the background sky model to the analysis has a negligible impact on the run time, as it requires simply adding\n",
        "a constant value to the data. The run time is therefore still of order ~0.01 seconds."
      ]
    },
    {
      "cell_type": "code",
      "metadata": {},
      "source": [
        "run_time_dict, info_dict = analysis.profile_log_likelihood_function(\n",
        "    instance=model.random_instance()\n",
        ")\n",
        "\n",
        "print(f\"Log Likelihood Evaluation Time (second) = {run_time_dict['fit_time']}\")\n",
        "print(\n",
        "    \"Estimated Run Time Upper Limit (seconds) = \",\n",
        "    (run_time_dict[\"fit_time\"] * model.total_free_parameters * 10000)\n",
        "    / search.number_of_cores,\n",
        ")"
      ],
      "outputs": [],
      "execution_count": null
    },
    {
      "cell_type": "markdown",
      "metadata": {},
      "source": [
        "__Model-Fit__\n",
        "\n",
        "We begin the model-fit by passing the model and analysis object to the non-linear search (checkout the output folder\n",
        "for on-the-fly visualization and results)."
      ]
    },
    {
      "cell_type": "code",
      "metadata": {},
      "source": [
        "result = search.fit(model=model, analysis=analysis)"
      ],
      "outputs": [],
      "execution_count": null
    },
    {
      "cell_type": "markdown",
      "metadata": {},
      "source": [
        "__Result__\n",
        "\n",
        "The `info` attribute shows the model in a readable format (if this does not display clearly on your screen refer to\n",
        "`start_here.ipynb` for a description of how to fix this).\n",
        "\n",
        "This confirms that a sky `intensity` value of approximately 5.0 electrons per second was inferred, as expected."
      ]
    },
    {
      "cell_type": "code",
      "metadata": {},
      "source": [
        "print(result.info)"
      ],
      "outputs": [],
      "execution_count": null
    },
    {
      "cell_type": "markdown",
      "metadata": {},
      "source": [
        "To print the exact value, the `sky` attribute of the result contains the `intensity` of the sky."
      ]
    },
    {
      "cell_type": "code",
      "metadata": {},
      "source": [
        "print(result.instance.sky.intensity)"
      ],
      "outputs": [],
      "execution_count": null
    },
    {
      "cell_type": "markdown",
      "metadata": {},
      "source": [
        "__Linear (DO NOT USE!)__\n",
        "\n",
        "The code below tries to use a `Sky` object as a linear light profile, which would mean the `intensity` of the sky\n",
        "is not a free parameter in the model-fit. but instead solved for via linear algebra.\n",
        "\n",
        "However, after implementing this feature, it does not produce satisfactory results. Whilst the linear algebra works\n",
        "correctly, the implementation leads to an unstable likelihood funciton which means the non-linear search cannot\n",
        "find the global maximum likelihood solution. \n",
        "\n",
        "Further testing is required to determine if this feature can be made to work correctly, and for now it is not recommended\n",
        "you only ever use the `Sky` object as a normal light profile, as shown above. However, the code below is left here for\n",
        "future reference.\n",
        "\n",
        "__Fit__\n",
        "\n",
        "The sky can be fitted using a linear light profile. \n",
        "\n",
        "This does not require an input `intensity` value, as it is solved for internally in the fit via linear algebra,\n",
        "whereby it always find the value that best fits the data.\n",
        "\n",
        "When we fit this model using a non-linear search, this means the sky is not a free parameter in the model-fit, \n",
        "simpefying the parameter space and making the model-fit faster and more reliable."
      ]
    },
    {
      "cell_type": "code",
      "metadata": {},
      "source": [
        "galaxy = ag.Galaxy(\n",
        "    redshift=0.5,\n",
        "    bulge=ag.lp.Sersic(\n",
        "        centre=(0.0, 0.0),\n",
        "        ell_comps=ag.convert.ell_comps_from(axis_ratio=0.9, angle=45.0),\n",
        "        intensity=1.0,\n",
        "        effective_radius=0.6,\n",
        "        sersic_index=3.0,\n",
        "    ),\n",
        "    disk=ag.lp.Exponential(\n",
        "        centre=(0.0, 0.0),\n",
        "        ell_comps=ag.convert.ell_comps_from(axis_ratio=0.7, angle=30.0),\n",
        "        intensity=0.5,\n",
        "        effective_radius=1.6,\n",
        "    ),\n",
        ")\n",
        "\n",
        "galaxies = ag.Galaxies(galaxies=[galaxy])\n",
        "\n",
        "sky = ag.lp_linear.Sky()\n",
        "\n",
        "fit = ag.FitImaging(dataset=dataset, galaxies=galaxies, sky=sky)\n",
        "\n",
        "fit_plotter = aplt.FitImagingPlotter(fit=fit)\n",
        "fit_plotter.subplot_fit()"
      ],
      "outputs": [],
      "execution_count": null
    },
    {
      "cell_type": "markdown",
      "metadata": {},
      "source": [
        "__Model__\n",
        "\n",
        "We now repeat the model-fit using a `Sky` as a linear light profile, which is recommended for all model-fits. \n",
        "Linear light profiles are described in more detail in the `linear_light_profiles.py` example feature script.\n",
        "\n",
        "In short, they use linear algebra to solve for the `intensity` of a light profile, meaning that it is not a free\n",
        "parameter fitted for by the non-linear search. This makes the model-fit faster and more reliable, and for a background\n",
        "sky means we do not need to manually update the prior on the sky's intensity.\n",
        "\n",
        "We compose our model where in this example:\n",
        "\n",
        " - The galaxy's bulge is a linear parametric `Sersic` bulge [6 parameters]. \n",
        " - The galaxy's disk is a linear parametric `Exponential` disk, whose centre is aligned with the bulge [3 parameters].\n",
        " - The sky background is included as a linear light profile [0 parameter].\n",
        " \n",
        "The number of free parameters and therefore the dimensionality of non-linear parameter space is N=9.\n",
        "\n",
        "Note how both light profiles use linear light profiles, meaning that the `intensity` parameter of both is also no \n",
        "longer a free parameter in the fit, like the sky."
      ]
    },
    {
      "cell_type": "code",
      "metadata": {},
      "source": [
        "bulge = af.Model(ag.lp_linear.Sersic)\n",
        "disk = af.Model(ag.lp_linear.Exponential)\n",
        "bulge.centre = disk.centre\n",
        "\n",
        "galaxy = af.Model(ag.Galaxy, redshift=0.5, bulge=bulge, disk=disk)\n",
        "\n",
        "model = af.Collection(\n",
        "    galaxies=af.Collection(galaxy=galaxy), sky=af.Model(ag.lp_linear.Sky)\n",
        ")"
      ],
      "outputs": [],
      "execution_count": null
    },
    {
      "cell_type": "markdown",
      "metadata": {},
      "source": [
        "The `info` attribute shows the model in a readable format (if this does not display clearly on your screen refer to\n",
        "`start_here.ipynb` for a description of how to fix this).\n",
        "\n",
        "This confirms that the sky does not include an `intensity` parameter."
      ]
    },
    {
      "cell_type": "code",
      "metadata": {},
      "source": [
        "print(model.info)"
      ],
      "outputs": [],
      "execution_count": null
    },
    {
      "cell_type": "markdown",
      "metadata": {},
      "source": [
        "__Search__\n",
        "\n",
        "The model is fitted to the data using the nested sampling algorithm Nautilus (see `start.here.py` for a \n",
        "full description)."
      ]
    },
    {
      "cell_type": "code",
      "metadata": {},
      "source": [
        "search = af.Nautilus(\n",
        "    path_prefix=path.join(\"imaging\", \"modeling\"),\n",
        "    name=\"sky_background_linear\",\n",
        "    unique_tag=dataset_name,\n",
        "    n_live=75,\n",
        "    number_of_cores=4,\n",
        ")"
      ],
      "outputs": [],
      "execution_count": null
    },
    {
      "cell_type": "markdown",
      "metadata": {},
      "source": [
        "__Analysis__\n",
        "\n",
        "Create the `AnalysisImaging` object defining how the model is fitted to the data."
      ]
    },
    {
      "cell_type": "code",
      "metadata": {},
      "source": [
        "analysis = ag.AnalysisImaging(\n",
        "    dataset=dataset, settings_inversion=ag.SettingsInversion(use_w_tilde=False)\n",
        ")"
      ],
      "outputs": [],
      "execution_count": null
    },
    {
      "cell_type": "markdown",
      "metadata": {},
      "source": [
        "__Run Time__\n",
        "\n",
        "For standard light profiles, the log likelihood evaluation time is of order ~0.01 seconds for this dataset.\n",
        "\n",
        "For linear light profiles, the log likelihood evaluation increases to around ~0.05 seconds per likelihood evaluation.\n",
        "This is still fast, but it does mean that the fit may take around five times longer to run. The run time is\n",
        "~0.05 seconds when any linear light profiles are used, irrespective of whether its just the sky or also the\n",
        "other light profiles.\n",
        "\n",
        "Because three free parameters have been removed from the model (the `intensity` of the bulge, disk and sky), the \n",
        "total number of likelihood evaluations will reduce. Furthermore, the simpler parameter space likely means that the \n",
        "fit will take less than 10000 per free parameter to converge. \n",
        "\n",
        "Fits using standard light profiles and linear light profiles therefore take roughly the same time to run. However,\n",
        "the simpler parameter space of linear light profiles means that the model-fit is more reliable, less susceptible to\n",
        "converging to an incorrect solution and scales better if even more light profiles are included in the model."
      ]
    },
    {
      "cell_type": "code",
      "metadata": {},
      "source": [
        "run_time_dict, info_dict = analysis.profile_log_likelihood_function(\n",
        "    instance=model.random_instance()\n",
        ")\n",
        "\n",
        "print(f\"Log Likelihood Evaluation Time (second) = {run_time_dict['fit_time']}\")\n",
        "print(\n",
        "    \"Estimated Run Time Upper Limit (seconds) = \",\n",
        "    (run_time_dict[\"fit_time\"] * model.total_free_parameters * 10000)\n",
        "    / search.number_of_cores,\n",
        ")\n"
      ],
      "outputs": [],
      "execution_count": null
    },
    {
      "cell_type": "markdown",
      "metadata": {},
      "source": [
        "__Model-Fit__\n",
        "\n",
        "We begin the model-fit by passing the model and analysis object to the non-linear search (checkout the output folder\n",
        "for on-the-fly visualization and results)."
      ]
    },
    {
      "cell_type": "code",
      "metadata": {},
      "source": [
        "result = search.fit(model=model, analysis=analysis)"
      ],
      "outputs": [],
      "execution_count": null
    },
    {
      "cell_type": "markdown",
      "metadata": {},
      "source": [
        "__Result__\n",
        "\n",
        "The `info` attribute shows the model in a readable format (if this does not display clearly on your screen refer to\n",
        "`start_here.ipynb` for a description of how to fix this).\n",
        "\n",
        "This confirms that `intensity` parameters are not inferred by the model-fit."
      ]
    },
    {
      "cell_type": "code",
      "metadata": {},
      "source": [
        "print(result.info)"
      ],
      "outputs": [],
      "execution_count": null
    },
    {
      "cell_type": "markdown",
      "metadata": {},
      "source": [
        "We plot the maximum likelihood fit, galaxy images and posteriors inferred via Nautilus.\n",
        "\n",
        "The galaxy bulge and disk appear similar to those in the data, confirming that the `intensity` values inferred by\n",
        "the inversion process are accurate."
      ]
    },
    {
      "cell_type": "code",
      "metadata": {},
      "source": [
        "print(result.max_log_likelihood_instance)\n",
        "\n",
        "galaxies_plotter = aplt.GalaxiesPlotter(\n",
        "    galaxies=result.max_log_likelihood_galaxies, grid=result.grid\n",
        ")\n",
        "galaxies_plotter.subplot()\n",
        "\n",
        "fit_plotter = aplt.FitImagingPlotter(fit=result.max_log_likelihood_fit)\n",
        "fit_plotter.subplot_fit()\n",
        "\n",
        "plotter = aplt.NestPlotter(samples=result.samples)\n",
        "plotter.corner_cornerpy()\n"
      ],
      "outputs": [],
      "execution_count": null
    },
    {
      "cell_type": "markdown",
      "metadata": {},
      "source": [
        "__Intensities__\n",
        "\n",
        "The intensities of linear light profiles are not a part of the model parameterization and therefore are not displayed\n",
        "in the `model.results` file.\n",
        "\n",
        "To extract the `intensity` values of the sky, we use the `max_log_likelihood_fit`, which has already performed the \n",
        "inversion and therefore the sky has the solved for `intensity`'s associated with it.\n",
        "\n",
        "The implementation of a linear light profile sky is a bit strange, it actually has two `intensity`'s, one for the\n",
        "positive component and one for the negative component. This is because the linear solver has a positivity constraint,\n",
        "meaning that two separate sky's, positive and negative, are used to represent the sky background. One of these\n",
        "values will be zero, the other the true sky background intensity."
      ]
    },
    {
      "cell_type": "code",
      "metadata": {},
      "source": [
        "fit = result.max_log_likelihood_fit\n",
        "\n",
        "sky = fit.sky_linear_light_profiles_to_light_profiles\n",
        "\n",
        "print(sky.light_profile_list[0].intensity)\n",
        "print(sky.light_profile_list[1].intensity)\n"
      ],
      "outputs": [],
      "execution_count": null
    },
    {
      "cell_type": "markdown",
      "metadata": {},
      "source": [
        "Checkout `autogalaxy_workspace/*/imaging/modeling/results.py` for a full description of the result object.\n",
        "\n",
        "In particular, checkout the results example `linear.py` which details how to extract all information about linear\n",
        "light profiles from a fit."
      ]
    },
    {
      "cell_type": "code",
      "metadata": {},
      "source": [],
      "outputs": [],
      "execution_count": null
    }
  ],
  "metadata": {
    "anaconda-cloud": {},
    "kernelspec": {
      "display_name": "Python 3",
      "language": "python",
      "name": "python3"
    },
    "language_info": {
      "codemirror_mode": {
        "name": "ipython",
        "version": 3
      },
      "file_extension": ".py",
      "mimetype": "text/x-python",
      "name": "python",
      "nbconvert_exporter": "python",
      "pygments_lexer": "ipython3",
      "version": "3.6.1"
    }
  },
  "nbformat": 4,
  "nbformat_minor": 4
}