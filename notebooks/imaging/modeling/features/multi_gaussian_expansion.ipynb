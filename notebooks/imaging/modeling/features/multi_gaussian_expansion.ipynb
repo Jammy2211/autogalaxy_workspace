{
  "cells": [
    {
      "cell_type": "markdown",
      "metadata": {},
      "source": [
        "Modeling Features: Multi Gaussian Expansion\n",
        "===========================================\n",
        "\n",
        "A multi Gaussian expansion (MGE) decomposes the galaxy light into ~15-100 Gaussians, where\n",
        "the `intensity` of every Gaussian is solved for via a linear algebra using a process called an \"inversion\"\n",
        "(see the `light_parametric_linear.py` feature for a full description of this).\n",
        "\n",
        "This script fits a light model which uses an MGE consisting of 60 Gaussians. It is fitted to simulated data\n",
        "where the galaxy's light has asymmetric and irregular features, which fitted poorly by symmetric light\n",
        "profiles like the `Sersic`.\n",
        "\n",
        "__Advantages__\n",
        "\n",
        "Symmetric light profiles (e.g. elliptical Sersics) may leave significant residuals, because they fail to capture\n",
        "irregular and asymmetric morphological of galaxies (e.g. isophotal twists, an ellipticity which varies radially).\n",
        "An MGE fully captures these features and can therefore much better represent the emission of complex galaxies.\n",
        "\n",
        "The MGE model can be composed in a way that has fewer non-linear parameters than an elliptical Sersic. In this example,\n",
        "two separate groups of Gaussians are used to represent the `bulge` and `disk` of the lens, which in total correspond\n",
        "to just N=6 non-linear parameters (a `bulge` and `disk` comprising two linear Sersics has N=10 parameters).\n",
        "\n",
        "The MGE model parameterization is also composed such that neither the `intensity` parameters or any of the\n",
        "parameters controlling the size of the Gaussians (their `sigma` values) are non-linear parameters sampled by Nautilus.\n",
        "This removes the most significant degeneracies in parameter space, making the model much more reliable and efficient\n",
        "to fit.\n",
        "\n",
        "Therefore, not only does an MGE fit more complex galaxy morphologies, it does so using fewer non-linear parameters\n",
        "in a much simpler non-linear parameter space which has far less significant parameter degeneracies!\n",
        "\n",
        "__Disadvantages__\n",
        "\n",
        "To fit an MGE model to the data, the light of the ~15-75 or more Gaussian in the MGE must be evaluated and compared\n",
        "to the data. This is slower than evaluating the light of ~2-3 Sersic profiles, producing slower computational run\n",
        "times (although the simpler non-linear parameter space will speed up the fit overall).\n",
        "\n",
        "For many science cases, the MGE can also be a less intuitive model to interpret than a Sersic profile. For example,\n",
        "it is straight forward to understand how the effective radius of a Sersic profile relates to a galaxy's size,\n",
        "or the serisc index relates to its concentration. The results of an MGE are less intuitive, and require more\n",
        "thought to interpret physically.\n",
        "\n",
        "__Positive Only Solver__\n",
        "\n",
        "Many codes which use linear algebra typically rely on a linear algabra solver which allows for positive and negative\n",
        "values of the solution (e.g. `np.linalg.solve`), because they are computationally fast.\n",
        "\n",
        "This is problematic, as it means that negative surface brightnesses values can be computed to represent a galaxy's\n",
        "light, which is clearly unphysicag. For an MGE, this produces a positive-negative \"ringing\", where the\n",
        "Gaussians alternate between large positive and negative values. This is clearly undesirable and unphysicag.\n",
        "\n",
        "**PyAutoGalaxys** uses a positive only linear algebra solver which has been extensively optimized to ensure it is as fast\n",
        "as positive-negative solvers. This ensures that all light profile intensities are positive and therefore physicag.\n",
        "\n",
        "__Model__\n",
        "\n",
        "This script fits an `Imaging` dataset of a galaxy with a model where:\n",
        "\n",
        " - The galaxy's bulge is a super position of `Gaussian`` profiles.\n",
        "\n",
        "__Start Here Notebook__\n",
        "\n",
        "If any code in this script is unclear, refer to the `modeling/start_here.ipynb` notebook."
      ]
    },
    {
      "cell_type": "code",
      "metadata": {},
      "source": [
        "%matplotlib inline\n",
        "from pyprojroot import here\n",
        "workspace_path = str(here())\n",
        "%cd $workspace_path\n",
        "print(f\"Working Directory has been set to `{workspace_path}`\")\n",
        "\n",
        "import numpy as np\n",
        "from os import path\n",
        "import autofit as af\n",
        "import autogalaxy as ag\n",
        "import autogalaxy.plot as aplt"
      ],
      "outputs": [],
      "execution_count": null
    },
    {
      "cell_type": "markdown",
      "metadata": {},
      "source": [
        "__Dataset__\n",
        "\n",
        "Load and plot the galaxy dataset `light_basis` via .fits files, which we will fit with \n",
        "the model."
      ]
    },
    {
      "cell_type": "code",
      "metadata": {},
      "source": [
        "dataset_name = \"asymmetric\"\n",
        "dataset_path = path.join(\"dataset\", \"imaging\", dataset_name)\n",
        "\n",
        "dataset = ag.Imaging.from_fits(\n",
        "    data_path=path.join(dataset_path, \"data.fits\"),\n",
        "    psf_path=path.join(dataset_path, \"psf.fits\"),\n",
        "    noise_map_path=path.join(dataset_path, \"noise_map.fits\"),\n",
        "    pixel_scales=0.1,\n",
        ")\n",
        "\n",
        "dataset_plotter = aplt.ImagingPlotter(dataset=dataset)\n",
        "dataset_plotter.subplot_dataset()"
      ],
      "outputs": [],
      "execution_count": null
    },
    {
      "cell_type": "markdown",
      "metadata": {},
      "source": [
        "__Mask__\n",
        "\n",
        "Define a 3.0\" circular mask, which includes the emission of the galaxy."
      ]
    },
    {
      "cell_type": "code",
      "metadata": {},
      "source": [
        "mask = ag.Mask2D.circular(\n",
        "    shape_native=dataset.shape_native, pixel_scales=dataset.pixel_scales, radius=3.0\n",
        ")\n",
        "\n",
        "dataset = dataset.apply_mask(mask=mask)\n",
        "\n",
        "dataset_plotter = aplt.ImagingPlotter(dataset=dataset)\n",
        "dataset_plotter.subplot_dataset()"
      ],
      "outputs": [],
      "execution_count": null
    },
    {
      "cell_type": "markdown",
      "metadata": {},
      "source": [
        "__Fit__\n",
        "\n",
        "We first show how to compose a basis of multiple Gaussians and use them to fit a galaxy's light in data.\n",
        "\n",
        "This is to illustrate the API for performing an MGE using standard autogalaxy objects like the `Galaxy` \n",
        "and `FitImaging` \n",
        "\n",
        "This does not perform a model-fit via a non-linear search, and therefore requires us to manually specify and guess\n",
        "suitable parameter values for the Gaussians. However, an MGE can do a reasonable job even before we just guess sensible \n",
        "parameter values.\n",
        "\n",
        "__Basis__\n",
        "\n",
        "We first build a `Basis`, which is built from multiple linear light profiles (in this case, Gaussians). \n",
        "\n",
        "Below, we make a `Basis` out of 30 elliptical Gaussian linear light profiles which: \n",
        "\n",
        " - All share the same centre and elliptical components.\n",
        " - The `sigma` size of the Gaussians increases in log10 increments.\n",
        " \n",
        "Note that any linear light profile can be used to compose a Basis. This includes shapelets, which are a set of functions\n",
        "closely related to the Exponential function and are often used to represent the light of disk \n",
        "galaxies (see `modeling/features/advanced/shapelets.py`)."
      ]
    },
    {
      "cell_type": "code",
      "metadata": {},
      "source": [
        "total_gaussians = 30\n",
        "\n",
        "# The sigma values of the Gaussians will be fixed to values spanning 0.01 to the mask radius, 3.0\".\n",
        "\n",
        "mask_radius = 3.0\n",
        "log10_sigma_list = np.linspace(-2, np.log10(mask_radius), total_gaussians)\n",
        "\n",
        "# A list of linear light profile Gaussians will be input here, which will then be used to fit the data.\n",
        "\n",
        "bulge_gaussian_list = []\n",
        "\n",
        "# Iterate over every Gaussian and create it, with it centered at (0.0\", 0.0\") and assuming spherical symmetry.\n",
        "\n",
        "for i in range(total_gaussians):\n",
        "    gaussian = ag.lp_linear.Gaussian(\n",
        "        centre=(0.0, 0.0),\n",
        "        ell_comps=(0.0, 0.0),\n",
        "        sigma=10 ** log10_sigma_list[i],\n",
        "    )\n",
        "\n",
        "    bulge_gaussian_list.append(gaussian)\n",
        "\n",
        "# The Basis object groups many light profiles together into a single model component and is used to fit the data.\n",
        "\n",
        "bulge = ag.lp_basis.Basis(profile_list=bulge_gaussian_list)"
      ],
      "outputs": [],
      "execution_count": null
    },
    {
      "cell_type": "markdown",
      "metadata": {},
      "source": [
        "Once we have a `Basis`, we can treat it like any other light profile in order to create a `Galaxy` and use it to fit \n",
        "data."
      ]
    },
    {
      "cell_type": "code",
      "metadata": {},
      "source": [
        "galaxy = ag.Galaxy(redshift=0.5, bulge=bulge)\n",
        "\n",
        "galaxies = ag.Galaxies(galaxies=[galaxy])\n",
        "\n",
        "fit = ag.FitImaging(dataset=dataset, galaxies=galaxies)"
      ],
      "outputs": [],
      "execution_count": null
    },
    {
      "cell_type": "markdown",
      "metadata": {},
      "source": [
        "By plotting the fit, we see that the `Basis` does a reasonable job at capturing the appearance of the galaxy.\n",
        "\n",
        "There are few residuals, except for perhaps some central regions where the light profile is not perfectly fitted.\n",
        "\n",
        "Given that there was no non-linear search to determine the optimal values of the Gaussians, this is a pretty good fit!"
      ]
    },
    {
      "cell_type": "code",
      "metadata": {},
      "source": [
        "fit_plotter = aplt.FitImagingPlotter(fit=fit)\n",
        "fit_plotter.subplot_fit()"
      ],
      "outputs": [],
      "execution_count": null
    },
    {
      "cell_type": "markdown",
      "metadata": {},
      "source": [
        "Nevertheless, there are still residuals, which we now rectify by fitting the MGE in a non-linear search.\n",
        "\n",
        "__Model__\n",
        "\n",
        "We compose our model where in this example:\n",
        "\n",
        " - The galaxy's bulge is 60 parametric linear `Gaussian` profiles [6 parameters]. \n",
        " - The centres and elliptical components of the Gaussians are all linked together.\n",
        " - The `sigma` size of the Gaussians increases in log10 increments.\n",
        "\n",
        "The number of free parameters and therefore the dimensionality of non-linear parameter space is N=6.\n",
        "\n",
        "__Model Cookbook__\n",
        "\n",
        "A full description of model composition, including lens model customization, is provided by the model cookbook: \n",
        "\n",
        "https://pyautolens.readthedocs.io/en/latest/general/model_cookbook.html"
      ]
    },
    {
      "cell_type": "code",
      "metadata": {},
      "source": [
        "total_gaussians = 30\n",
        "gaussian_per_basis = 2\n",
        "\n",
        "# The sigma values of the Gaussians will be fixed to values spanning 0.01 to the mask radius, 3.0\".\n",
        "mask_radius = 3.0\n",
        "log10_sigma_list = np.linspace(-2, np.log10(mask_radius), total_gaussians)\n",
        "\n",
        "# By defining the centre here, it creates two free parameters that are assigned below to all Gaussians.\n",
        "\n",
        "centre_0 = af.UniformPrior(lower_limit=-0.1, upper_limit=0.1)\n",
        "centre_1 = af.UniformPrior(lower_limit=-0.1, upper_limit=0.1)\n",
        "\n",
        "bulge_gaussian_list = []\n",
        "\n",
        "for j in range(gaussian_per_basis):\n",
        "    # A list of Gaussian model components whose parameters are customized belows.\n",
        "\n",
        "    gaussian_list = af.Collection(\n",
        "        af.Model(ag.lp_linear.Gaussian) for _ in range(total_gaussians)\n",
        "    )\n",
        "\n",
        "    # Iterate over every Gaussian and customize its parameters.\n",
        "\n",
        "    for i, gaussian in enumerate(gaussian_list):\n",
        "        gaussian.centre.centre_0 = centre_0  # All Gaussians have same y centre.\n",
        "        gaussian.centre.centre_1 = centre_1  # All Gaussians have same x centre.\n",
        "        gaussian.ell_comps = gaussian_list[\n",
        "            0\n",
        "        ].ell_comps  # All Gaussians have same elliptical components.\n",
        "        gaussian.sigma = (\n",
        "            10 ** log10_sigma_list[i]\n",
        "        )  # All Gaussian sigmas are fixed to values above.\n",
        "\n",
        "    bulge_gaussian_list += gaussian_list\n",
        "\n",
        "# The Basis object groups many light profiles together into a single model component.\n",
        "\n",
        "bulge = af.Model(\n",
        "    ag.lp_basis.Basis,\n",
        "    light_profile_list=bulge_gaussian_list,\n",
        ")\n",
        "\n",
        "galaxy = af.Model(ag.Galaxy, redshift=0.5, bulge=bulge)\n",
        "\n",
        "model = af.Collection(galaxies=af.Collection(galaxy=galaxy))"
      ],
      "outputs": [],
      "execution_count": null
    },
    {
      "cell_type": "markdown",
      "metadata": {},
      "source": [
        "The `info` attribute shows the model in a readable format, which has a lot more parameters than other examples\n",
        "as it shows the parameters of every individual Gaussian.\n",
        "\n",
        "This shows every single Gaussian light profile in the model, which is a lot of parameters! However, the vast\n",
        "majority of these parameters are fixed to the values we set above, so the model actually has far fewer free\n",
        "parameters than it looks!"
      ]
    },
    {
      "cell_type": "code",
      "metadata": {},
      "source": [
        "print(model.info)"
      ],
      "outputs": [],
      "execution_count": null
    },
    {
      "cell_type": "markdown",
      "metadata": {},
      "source": [
        "__Search__\n",
        "\n",
        "The model is fitted to the data using the nested sampling algorithm Nautilus (see `start.here.py` for a \n",
        "full description).\n",
        "\n",
        "Owing to the simplicity of fitting an MGE we an use even fewer live points than other examples, reducing it to\n",
        "75 live points, speeding up convergence of the non-linear search."
      ]
    },
    {
      "cell_type": "code",
      "metadata": {},
      "source": [
        "search = af.Nautilus(\n",
        "    path_prefix=path.join(\"imaging\", \"modeling\"),\n",
        "    name=\"light[basis]\",\n",
        "    unique_tag=dataset_name,\n",
        "    n_live=75,\n",
        "    number_of_cores=1,\n",
        ")"
      ],
      "outputs": [],
      "execution_count": null
    },
    {
      "cell_type": "markdown",
      "metadata": {},
      "source": [
        "__Analysis__\n",
        "\n",
        "Create the `AnalysisImaging` object defining how the model is fitted to the data."
      ]
    },
    {
      "cell_type": "code",
      "metadata": {},
      "source": [
        "analysis = ag.AnalysisImaging(\n",
        "    dataset=dataset, settings_inversion=ag.SettingsInversion(use_w_tilde=False)\n",
        ")"
      ],
      "outputs": [],
      "execution_count": null
    },
    {
      "cell_type": "markdown",
      "metadata": {},
      "source": [
        "__Run Time__\n",
        "\n",
        "The likelihood evaluation time for a multi-Gaussian expansion is significantly slower than standard / linear \n",
        "light profiles. This is because the image of every Gaussian must be computed and evaluated, and each must be blurred \n",
        "with the PSF. In this example, the evaluation time is ~0.5s, compared to ~0.01 seconds for standard light profiles.\n",
        "\n",
        "Huge gains in the overall run-time however are made thanks to the models significantly reduced complexity and lower\n",
        "number of free parameters. Furthermore, because there are not free parameters which scale the size of lens galaxy,\n",
        "this produces significantly faster convergence by Nautilus that any other lens light model. We also use fewer live\n",
        "points, further speeding up the model-fit.\n",
        "\n",
        "Overall, it is difficult to state which approach will be faster overall. However, the MGE's ability to fit the data\n",
        "more accurately and the less complex parameter due to removing parameters that scale the lens galaxy make it the \n",
        "superior approach."
      ]
    },
    {
      "cell_type": "code",
      "metadata": {},
      "source": [
        "run_time_dict, info_dict = analysis.profile_log_likelihood_function(\n",
        "    instance=model.random_instance()\n",
        ")\n",
        "\n",
        "print(f\"Log Likelihood Evaluation Time (second) = {run_time_dict['fit_time']}\")\n",
        "print(\n",
        "    \"Estimated Run Time Upper Limit (seconds) = \",\n",
        "    (run_time_dict[\"fit_time\"] * model.total_free_parameters * 10000)\n",
        "    / search.number_of_cores,\n",
        ")"
      ],
      "outputs": [],
      "execution_count": null
    },
    {
      "cell_type": "markdown",
      "metadata": {},
      "source": [
        "__Model-Fit__\n",
        "\n",
        "We begin the model-fit by passing the model and analysis object to the non-linear search (checkout the output folder\n",
        "for on-the-fly visualization and results)."
      ]
    },
    {
      "cell_type": "code",
      "metadata": {},
      "source": [
        "result = search.fit(model=model, analysis=analysis)"
      ],
      "outputs": [],
      "execution_count": null
    },
    {
      "cell_type": "markdown",
      "metadata": {},
      "source": [
        "__Result__\n",
        "\n",
        "The search returns a result object, which whose `info` attribute shows the result in a readable format (if this does \n",
        "not display clearly on your screen refer to `start_here.ipynb` for a description of how to fix this):\n",
        "\n",
        "This confirms there are many `Gaussian`' in the lens light model and it lists their inferred parameters."
      ]
    },
    {
      "cell_type": "code",
      "metadata": {},
      "source": [
        "print(result.info)"
      ],
      "outputs": [],
      "execution_count": null
    },
    {
      "cell_type": "markdown",
      "metadata": {},
      "source": [
        "We plot the maximum likelihood fit, tracer images and posteriors inferred via Nautilus.\n",
        "\n",
        "Checkout `autolens_workspace/*/imaging/results` for a full description of analysing results in **PyAutoGalaxy**.\n",
        "\n",
        "In particular, checkout the results example `linear.py` which details how to extract all information about linear\n",
        "light profiles from a fit."
      ]
    },
    {
      "cell_type": "code",
      "metadata": {},
      "source": [
        "print(result.max_log_likelihood_instance)\n",
        "\n",
        "galaxies_plotter = aplt.GalaxiesPlotter(\n",
        "    galaxies=result.max_log_likelihood_galaxies, grid=result.grids.uniform\n",
        ")\n",
        "galaxies_plotter.subplot()\n",
        "\n",
        "fit_plotter = aplt.FitImagingPlotter(fit=result.max_log_likelihood_fit)\n",
        "fit_plotter.subplot_fit()\n",
        "\n",
        "plotter = aplt.NestPlotter(samples=result.samples)\n",
        "plotter.corner_cornerpy()"
      ],
      "outputs": [],
      "execution_count": null
    },
    {
      "cell_type": "markdown",
      "metadata": {},
      "source": [
        "__Wrap Up__\n",
        "\n",
        "A Multi Gaussian Expansion is a powerful tool for modeling the light of galaxies, and offers a compelling method to\n",
        "fit complex light profiles with a small number of parameters\n",
        "\n",
        "__Regularization (Advanced / Unused)__\n",
        "\n",
        "An MGE can be regularized, whereby smoothness is enforced on the `intensity` values of the Gaussians. This was \n",
        "implemented to avoid a \"positive / negative\" ringing effect in the lens light model reconstruction, whereby the \n",
        "Gaussians went to a systematic solution which alternated between positive and negative values. \n",
        "\n",
        "Regularization was intended to smooth over the `intensity` values of the Gaussians, such that the solution would prefer\n",
        "a positive-only solution. However, this did not work -- even with high levels of regularization, the Gaussians still\n",
        "went to negative values. The solution also became far from optimal, often leaving significant residuals in the lens\n",
        "light model reconstruction.\n",
        "\n",
        "This problem was solved by switching to a positive-only linear algebra solver, which is the default used \n",
        "in **PyAutoLens** and was used for all fits performed above. The regularization feature is currently not used by\n",
        "any scientific analysis and it is recommended you skip over the example below and do not use it in your own modeling.\n",
        "\n",
        "However, its implementation is detailed below for completeness, and if you think you have a use for it in your own\n",
        "modeling then go ahead! Indeed, even with a positive-only solver, it may be that regularization helps prevent overfitting\n",
        "in certain situations.\n",
        "\n",
        "__Description__\n",
        "\n",
        "There is one downside to `Basis` functions, we may compose a model with too much freedom. The `Basis` (e.g. our 20\n",
        "Gaussians) may overfit noise in the data, or possible the galaxyed source galaxy emission -- neither of which we \n",
        "want to happen! \n",
        "\n",
        "To circumvent this issue, we have the option of adding regularization to a `Basis`. Regularization penalizes\n",
        "solutions which are not smooth -- it is essentially a prior that says we expect the component the `Basis` represents\n",
        "(e.g. a bulge or disk) to be smooth, in that its light changes smoothly as a function of radius.\n",
        "\n",
        "Below, we compose and fit a model using Basis functions which includes regularization, which adds one addition \n",
        "parameter to the fit, the `coefficient`, which controls the degree of smoothing applied."
      ]
    },
    {
      "cell_type": "code",
      "metadata": {},
      "source": [
        "bulge = af.Model(\n",
        "    ag.lp_basis.Basis,\n",
        "    light_profile_list=bulge_gaussian_list,\n",
        "    regularization=ag.reg.Constant,\n",
        ")\n",
        "galaxy = af.Model(ag.Galaxy, redshift=0.5, bulge=bulge)\n",
        "\n",
        "model = af.Collection(galaxies=af.Collection(galaxy=galaxy))"
      ],
      "outputs": [],
      "execution_count": null
    },
    {
      "cell_type": "markdown",
      "metadata": {},
      "source": [
        "The `info` attribute shows the model, which has addition priors now associated with regularization."
      ]
    },
    {
      "cell_type": "code",
      "metadata": {},
      "source": [
        "print(model.info)\n",
        "\n",
        "search = af.Nautilus(\n",
        "    path_prefix=path.join(\"imaging\", \"modeling\"),\n",
        "    name=\"light[basis_regularized]\",\n",
        "    unique_tag=dataset_name,\n",
        "    n_live=150,\n",
        "    number_of_cores=1,\n",
        ")\n",
        "\n",
        "result = search.fit(model=model, analysis=analysis)"
      ],
      "outputs": [],
      "execution_count": null
    },
    {
      "cell_type": "markdown",
      "metadata": {},
      "source": [
        "Finish."
      ]
    },
    {
      "cell_type": "code",
      "metadata": {},
      "source": [],
      "outputs": [],
      "execution_count": null
    }
  ],
  "metadata": {
    "anaconda-cloud": {},
    "kernelspec": {
      "display_name": "Python 3",
      "language": "python",
      "name": "python3"
    },
    "language_info": {
      "codemirror_mode": {
        "name": "ipython",
        "version": 3
      },
      "file_extension": ".py",
      "mimetype": "text/x-python",
      "name": "python",
      "nbconvert_exporter": "python",
      "pygments_lexer": "ipython3",
      "version": "3.6.1"
    }
  },
  "nbformat": 4,
  "nbformat_minor": 4
}