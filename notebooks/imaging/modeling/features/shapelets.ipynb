{
  "cells": [
    {
      "cell_type": "markdown",
      "metadata": {},
      "source": [
        "Modeling: Light Shapelets\n",
        "=========================\n",
        "\n",
        "This script fits an `Imaging` dataset of a galaxy with a model where:\n",
        "\n",
        " - The galaxy's bulge is a super position of `ShapeletCartesianSph`` profiles.\n",
        "\n",
        "__Basis / Shapelet Fitting__\n",
        "\n",
        "Fits using symmetric light profiles such as elliptical Sersics often leave significant residuals, because they do not\n",
        "capture irregular and asymmetric features within a galaxy, for example isophotal twists, varying radial ellipticity or\n",
        "disruption due to mergers.\n",
        "\n",
        "Basis fitting uses a super position of light profiles to represent the different structural components within a\n",
        "galaxy. The `intensity` value of every basis function is solved for via linear\n",
        "algebra (see `light_parametric_linear.py`), meaning that the super position can adapt so as to capture these\n",
        "irregular and asymmetric features.\n",
        "\n",
        "This example fits a galaxy with asymmetric features using shapelet basis functions. Shapelets are basis functions\n",
        "with analytic properties that are appropriate for capturing exponential / disk-like features in a galaxy. They\n",
        "do so over a wide range of scales, and can often represent features in these galaxies that a single Sersic function\n",
        "cannot.\n",
        "\n",
        "Shapelets are described in full in the following papers:\n",
        "\n",
        " https://arxiv.org/abs/astro-ph/0105178\n",
        "\n",
        "__Positive Only Solver__\n",
        "\n",
        "Many codes which use linear algebra typically rely on a linear algabra solver which allows for positive and negative\n",
        "values of the solution (e.g. `np.linalg.solve`), because they are computationally fast.\n",
        "\n",
        "This is problematic, as it means that negative surface brightnesses values can be computed to represent a galaxy's\n",
        "light, which is clearly unphysical. For shapelets, this produces a positive-negative \"ringing\", where the\n",
        "Gaussians alternate between large positive and negative values. This is clearly undesirable and unphysical.\n",
        "\n",
        "**PyAutoLens** uses a positive only linear algebra solver which has been extensively optimized to ensure it is as fast\n",
        "as positive-negative solvers. This ensures that all light profile intensities are positive and therefore physical.\n",
        "\n",
        "__Start Here Notebook__\n",
        "\n",
        "If any code in this script is unclear, refer to the `modeling/start_here.ipynb` notebook."
      ]
    },
    {
      "cell_type": "code",
      "metadata": {},
      "source": [
        "%matplotlib inline\n",
        "from pyprojroot import here\n",
        "workspace_path = str(here())\n",
        "%cd $workspace_path\n",
        "print(f\"Working Directory has been set to `{workspace_path}`\")\n",
        "\n",
        "import numpy as np\n",
        "from os import path\n",
        "import autofit as af\n",
        "import autogalaxy as ag\n",
        "import autogalaxy.plot as aplt"
      ],
      "outputs": [],
      "execution_count": null
    },
    {
      "cell_type": "markdown",
      "metadata": {},
      "source": [
        "__Dataset__\n",
        "\n",
        "Load and plot the galaxy dataset `light_basis` via .fits files, which we will fit with \n",
        "the model."
      ]
    },
    {
      "cell_type": "code",
      "metadata": {},
      "source": [
        "dataset_name = \"simple__sersic\"\n",
        "dataset_path = path.join(\"dataset\", \"imaging\", dataset_name)\n",
        "\n",
        "dataset = ag.Imaging.from_fits(\n",
        "    data_path=path.join(dataset_path, \"data.fits\"),\n",
        "    psf_path=path.join(dataset_path, \"psf.fits\"),\n",
        "    noise_map_path=path.join(dataset_path, \"noise_map.fits\"),\n",
        "    pixel_scales=0.1,\n",
        ")\n",
        "\n",
        "dataset_plotter = aplt.ImagingPlotter(dataset=dataset)\n",
        "dataset_plotter.subplot_dataset()"
      ],
      "outputs": [],
      "execution_count": null
    },
    {
      "cell_type": "markdown",
      "metadata": {},
      "source": [
        "__Mask__\n",
        "\n",
        "Define a 3.0\" circular mask, which includes the emission of the galaxy."
      ]
    },
    {
      "cell_type": "code",
      "metadata": {},
      "source": [
        "mask = ag.Mask2D.circular(\n",
        "    shape_native=dataset.shape_native, pixel_scales=dataset.pixel_scales, radius=3.0\n",
        ")\n",
        "\n",
        "dataset = dataset.apply_mask(mask=mask)\n",
        "\n",
        "dataset_plotter = aplt.ImagingPlotter(dataset=dataset)\n",
        "dataset_plotter.subplot_dataset()"
      ],
      "outputs": [],
      "execution_count": null
    },
    {
      "cell_type": "markdown",
      "metadata": {},
      "source": [
        "__Fit__\n",
        "\n",
        "We first show how to compose a basis of multiple shapelets and use them to fit the galaxy's light in data.\n",
        "\n",
        "This is to illustrate the API for fitting shapelets using standard autogalaxy objects like the `Galaxy`\n",
        "and `FitImaging`.\n",
        "\n",
        "This does not perform a model-fit via a non-linear search, and therefore requires us to manually specify and guess\n",
        "suitable parameter values for the shapelets. However, shapelets can do a reasonable even if we just guess sensible \n",
        "parameter values.\n",
        "\n",
        "__Basis__\n",
        "\n",
        "We first build a `Basis`, which is built from multiple linear light profiles (in this case, shapelets). \n",
        "\n",
        "Below, we make a `Basis` out of 10 elliptical shapelet linear light profiles which: \n",
        "\n",
        " - All share the same centre and elliptical components.\n",
        " - The size of the Shapelet basis is controlled by a `beta` parameter, which is the same for all shapelet basis \n",
        "   functions.\n",
        " \n",
        "Note that any linear light profile can be used to compose a Basis. This includes Gaussians, which are often used to \n",
        "represent the light of elliptical galaxies (see `modeling/features/multi_gaussian_expansion.py`)."
      ]
    },
    {
      "cell_type": "code",
      "metadata": {},
      "source": [
        "total_n = 10\n",
        "total_m = sum(range(2, total_n + 1)) + 1\n",
        "\n",
        "shapelets_bulge_list = []\n",
        "\n",
        "n_count = 1\n",
        "m_count = -1\n",
        "\n",
        "for i in range(total_n + total_m):\n",
        "    shapelet = ag.lp_linear.ShapeletPolarSph(\n",
        "        n=n_count, m=m_count, centre=(0.01, 0.01), beta=0.1\n",
        "    )\n",
        "\n",
        "    shapelets_bulge_list.append(shapelet)\n",
        "\n",
        "    m_count += 2\n",
        "\n",
        "    if m_count > n_count:\n",
        "        n_count += 1\n",
        "        m_count = -n_count\n",
        "\n",
        "bulge = af.Model(\n",
        "    ag.lp_basis.Basis,\n",
        "    light_profile_list=shapelets_bulge_list,\n",
        ")"
      ],
      "outputs": [],
      "execution_count": null
    },
    {
      "cell_type": "markdown",
      "metadata": {},
      "source": [
        "Once we have a `Basis`, we can treat it like any other light profile in order to create a `Galaxy` and `Tracer` and \n",
        "use it to fit data."
      ]
    },
    {
      "cell_type": "code",
      "metadata": {},
      "source": [
        "galaxy = ag.Galaxy(redshift=0.5, bulge=bulge)\n",
        "\n",
        "galaxies = ag.Galaxies(galaxies=[galaxy])\n",
        "\n",
        "fit = ag.FitImaging(dataset=dataset, galaxies=galaxies)"
      ],
      "outputs": [],
      "execution_count": null
    },
    {
      "cell_type": "markdown",
      "metadata": {},
      "source": [
        "By plotting the fit, we see that the `Basis` does a reasonable job at capturing the appearance of the galaxy.\n",
        "\n",
        "There are few residuals, except for perhaps some central regions where the light profile is not perfectly fitted.\n",
        "\n",
        "Given that there was no non-linear search to determine the optimal values of the Gaussians, this is a pretty good fit!"
      ]
    },
    {
      "cell_type": "code",
      "metadata": {},
      "source": [
        "fit_plotter = aplt.FitImagingPlotter(fit=fit)\n",
        "fit_plotter.subplot_fit()"
      ],
      "outputs": [],
      "execution_count": null
    },
    {
      "cell_type": "markdown",
      "metadata": {},
      "source": [
        "Nevertheless, there are still residuals, which we now rectify by fitting the shapelets in a non-linear search.\n",
        "\n",
        "__Model__\n",
        "\n",
        "We compose our model where in this example:\n",
        "\n",
        " - The galaxy's bulge is a superposition of 10 parametric linear `ShapeletCartesianSph` profiles [3 parameters]. \n",
        " - The centres of the Shapelets are all linked together.\n",
        " - The size of the Shapelet basis is controlled by a `beta` parameter, which is the same for all Shapelet basis \n",
        "   functions.\n",
        "\n",
        "The number of free parameters and therefore the dimensionality of non-linear parameter space is N=3. \n",
        "\n",
        "Note how this Shapelet model can capture features more complex than a Sersic, but has fewer non-linear parameters\n",
        "(N=3 compared to N=7 for a `Sersic`)."
      ]
    },
    {
      "cell_type": "code",
      "metadata": {},
      "source": [
        "total_n = 5\n",
        "total_m = sum(range(2, total_n + 1)) + 1\n",
        "\n",
        "shapelets_bulge_list = af.Collection(\n",
        "    af.Model(ag.lp_linear.ShapeletPolar) for _ in range(total_n + total_m)\n",
        ")\n",
        "\n",
        "n_count = 1\n",
        "m_count = -1\n",
        "\n",
        "for i, shapelet in enumerate(shapelets_bulge_list):\n",
        "    shapelet.n = n_count\n",
        "    shapelet.m = m_count\n",
        "\n",
        "    m_count += 2\n",
        "\n",
        "    if m_count > n_count:\n",
        "        n_count += 1\n",
        "        m_count = -n_count\n",
        "\n",
        "    shapelet.centre = shapelets_bulge_list[0].centre\n",
        "    shapelet.beta = shapelets_bulge_list[0].beta\n",
        "\n",
        "bulge = af.Model(\n",
        "    ag.lp_basis.Basis,\n",
        "    light_profile_list=shapelets_bulge_list,\n",
        ")\n",
        "galaxy = af.Model(ag.Galaxy, redshift=0.5, bulge=bulge)\n",
        "\n",
        "model = af.Collection(galaxies=af.Collection(galaxy=galaxy))"
      ],
      "outputs": [],
      "execution_count": null
    },
    {
      "cell_type": "markdown",
      "metadata": {},
      "source": [
        "The `info` attribute shows the model in a readable format, which has a lot more parameters than other examples\n",
        "as it shows the parameters of every individual Shapelet.\n",
        "\n",
        "[The `info` below may not display optimally on your computer screen, for example the whitespace between parameter\n",
        "names on the left and parameter priors on the right may lead them to appear across multiple lines. This is a\n",
        "common issue in Jupyter notebooks.\n",
        "\n",
        "The`info_whitespace_length` parameter in the file `config/generag.yaml` in the [output] section can be changed to \n",
        "increase or decrease the amount of whitespace (The Jupyter notebook kernel will need to be reset for this change to \n",
        "appear in a notebook).]"
      ]
    },
    {
      "cell_type": "code",
      "metadata": {},
      "source": [
        "print(model.info)"
      ],
      "outputs": [],
      "execution_count": null
    },
    {
      "cell_type": "markdown",
      "metadata": {},
      "source": [
        "__Search__\n",
        "\n",
        "The model is fitted to the data using a non-linear search. In this example, we use the nested sampling algorithm \n",
        "Nautilus (https://nautilus.readthedocs.io/en/latest/). We make the following changes to the Nautilus settings:\n",
        "\n",
        " - Increase the number of live points, `n_live`, from the default value of 50 to 100. `n_live`\n",
        " \n",
        "These changes are motivated by the higher dimensionality non-linear parameter space that including the galaxy light \n",
        "creates, which requires more thorough sampling by the non-linear search.\n",
        "\n",
        "The folders: \n",
        "\n",
        " - `autogalaxy_workspace/*/imaging/modeling/searches`.\n",
        " - `autogalaxy_workspace/*/imaging/modeling/customize`\n",
        "  \n",
        "Give overviews of the non-linear searches **PyAutoGalaxy** supports and more details on how to customize the\n",
        "model-fit, including the priors on the model. \n",
        "\n",
        "If you are unclear of what a non-linear search is, checkout chapter 2 of the **HowToGalaxy** lectures.\n",
        "\n",
        "The `name` and `path_prefix` below specify the path where results ae stored in the output folder:  \n",
        "\n",
        " `/autogalaxy_workspace/output/imaging/simple__sersic/mass[sie]/unique_identifier`.\n",
        "\n",
        "__Unique Identifier__\n",
        "\n",
        "In the path above, the `unique_identifier` appears as a collection of characters, where this identifier is generated \n",
        "based on the model, search and dataset that are used in the fit.\n",
        " \n",
        "An identical combination of model and search generates the same identifier, meaning that rerunning the script will use \n",
        "the existing results to resume the model-fit. In contrast, if you change the model or search, a new unique identifier \n",
        "will be generated, ensuring that the model-fit results are output into a separate folder.\n",
        "\n",
        "We additionally want the unique identifier to be specific to the dataset fitted, so that if we fit different datasets\n",
        "with the same model and search results are output to a different folder. We achieve this below by passing \n",
        "the `dataset_name` to the search's `unique_tag`.\n",
        "\n",
        "__Number Of Cores__\n",
        "\n",
        "We include an input `number_of_cores`, which when above 1 means that Nautilus uses parallel processing to sample multiple \n",
        "models at once on your CPU. When `number_of_cores=2` the search will run roughly two times as\n",
        "fast, for `number_of_cores=3` three times as fast, and so on. The downside is more cores on your CPU will be in-use\n",
        "which may hurt the general performance of your computer.\n",
        "\n",
        "You should experiment to figure out the highest value which does not give a noticeable loss in performance of your \n",
        "computer. If you know that your processor is a quad-core processor you should be able to use `number_of_cores=4`. \n",
        "\n",
        "Above `number_of_cores=4` the speed-up from parallelization diminishes greatly. We therefore recommend you do not\n",
        "use a value above this.\n",
        "\n",
        "For users on a Windows Operating system, using `number_of_cores>1` may lead to an error, in which case it should be \n",
        "reduced back to 1 to fix it."
      ]
    },
    {
      "cell_type": "code",
      "metadata": {},
      "source": [
        "search = af.Nautilus(\n",
        "    path_prefix=path.join(\"imaging\", \"modeling\"),\n",
        "    name=\"light[shapelets]_polar_5_ell\",\n",
        "    unique_tag=dataset_name,\n",
        "    n_live=150,\n",
        "    number_of_cores=4,\n",
        ")"
      ],
      "outputs": [],
      "execution_count": null
    },
    {
      "cell_type": "markdown",
      "metadata": {},
      "source": [
        "__Analysis__\n",
        "\n",
        "Create the `AnalysisImaging` object defining how the model is fitted to the data."
      ]
    },
    {
      "cell_type": "code",
      "metadata": {},
      "source": [
        "analysis = ag.AnalysisImaging(\n",
        "    dataset=dataset, settings_inversion=ag.SettingsInversion(use_w_tilde=False)\n",
        ")"
      ],
      "outputs": [],
      "execution_count": null
    },
    {
      "cell_type": "markdown",
      "metadata": {},
      "source": [
        "__Model-Fit__\n",
        "\n",
        "We begin the model-fit by passing the model and analysis object to the non-linear search (checkout the output folder\n",
        "for on-the-fly visualization and results)."
      ]
    },
    {
      "cell_type": "code",
      "metadata": {},
      "source": [
        "result = search.fit(model=model, analysis=analysis)"
      ],
      "outputs": [],
      "execution_count": null
    },
    {
      "cell_type": "markdown",
      "metadata": {},
      "source": [
        "__Result__\n",
        "\n",
        "The `info` attribute shows the model in a readable format (if this does not display clearly on your screen refer to\n",
        "`start_here.ipynb` for a description of how to fix this).\n",
        "\n",
        "This confirms that `intensity` parameters are not inferred by the model-fit."
      ]
    },
    {
      "cell_type": "code",
      "metadata": {},
      "source": [
        "print(result.info)"
      ],
      "outputs": [],
      "execution_count": null
    },
    {
      "cell_type": "markdown",
      "metadata": {},
      "source": [
        "We plot the maximum likelihood fit, galaxy images and posteriors inferred via Nautilus.\n",
        "\n",
        "The galaxy bulge and disk appear similar to those in the data, confirming that the `intensity` values inferred by\n",
        "the inversion process are accurate."
      ]
    },
    {
      "cell_type": "code",
      "metadata": {},
      "source": [
        "print(result.max_log_likelihood_instance)\n",
        "\n",
        "galaxies_plotter = aplt.GalaxiesPlotter(\n",
        "    galaxies=result.max_log_likelihood_galaxies, grid=result.grid\n",
        ")\n",
        "galaxies_plotter.subplot()\n",
        "\n",
        "fit_plotter = aplt.FitImagingPlotter(fit=result.max_log_likelihood_fit)\n",
        "fit_plotter.subplot_fit()\n",
        "\n",
        "plotter = aplt.NestPlotter(samples=result.samples)\n",
        "plotter.corner_cornerpy()"
      ],
      "outputs": [],
      "execution_count": null
    },
    {
      "cell_type": "markdown",
      "metadata": {},
      "source": [
        "Checkout `autogalaxy_workspace/*/imaging/results` for a full description of analysing results in **PyAutoGalaxy**, which \n",
        "includes a dedicated tutorial for linear objects like basis functions.\n",
        "\n",
        "__Regularization__\n",
        "\n",
        "There is one downside to `Basis` functions, we may compose a model with too much freedom. The `Basis` (e.g. our 20\n",
        "Shapelets) may overfit noise in the data, or possible the galaxyed source galaxy emission -- neither of which we \n",
        "want to happen! \n",
        "\n",
        "To circumvent this issue, we have the option of adding regularization to a `Basis`. Regularization penalizes\n",
        "solutions which are not smooth -- it is essentially a prior that says we expect the component the `Basis` represents\n",
        "(e.g. a bulge or disk) to be smooth, in that its light changes smoothly as a function of radius.\n",
        "\n",
        "Below, we compose and fit a model using Basis functions which includes regularization, which adds one addition \n",
        "parameter to the fit, the `coefficient`, which controls the degree of smoothing applied."
      ]
    },
    {
      "cell_type": "code",
      "metadata": {},
      "source": [
        "bulge = af.Model(\n",
        "    ag.lp_basis.Basis,\n",
        "    light_profile_list=shapelets_bulge_list,\n",
        "    regularization=ag.reg.Constant,\n",
        ")\n",
        "galaxy = af.Model(ag.Galaxy, redshift=0.5, bulge=bulge)\n",
        "\n",
        "model = af.Collection(galaxies=af.Collection(galaxy=galaxy))"
      ],
      "outputs": [],
      "execution_count": null
    },
    {
      "cell_type": "markdown",
      "metadata": {},
      "source": [
        "The `info` attribute shows the model, which has addition priors now associated with regularization."
      ]
    },
    {
      "cell_type": "code",
      "metadata": {},
      "source": [
        "print(model.info)\n",
        "\n",
        "search = af.Nautilus(\n",
        "    path_prefix=path.join(\"imaging\", \"modeling\"),\n",
        "    name=\"light[basis_regularized]\",\n",
        "    unique_tag=dataset_name,\n",
        "    n_live=150,\n",
        "    number_of_cores=1,\n",
        ")\n",
        "\n",
        "result = search.fit(model=model, analysis=analysis)"
      ],
      "outputs": [],
      "execution_count": null
    },
    {
      "cell_type": "markdown",
      "metadata": {},
      "source": [
        "To learn more about Basis functions, regularization and when you should use them, checkout the \n",
        "following **HowToGalaxy** tutorials:\n",
        "\n",
        " - `howtogalaxy/chapter_2_lens_modeling/tutorial_5_linear_profiles.ipynb`.\n",
        " - `howtogalaxy/chapter_4_pixelizations/tutorial_4_bayesian_regularization.ipynb."
      ]
    },
    {
      "cell_type": "code",
      "metadata": {},
      "source": [],
      "outputs": [],
      "execution_count": null
    }
  ],
  "metadata": {
    "anaconda-cloud": {},
    "kernelspec": {
      "display_name": "Python 3",
      "language": "python",
      "name": "python3"
    },
    "language_info": {
      "codemirror_mode": {
        "name": "ipython",
        "version": 3
      },
      "file_extension": ".py",
      "mimetype": "text/x-python",
      "name": "python",
      "nbconvert_exporter": "python",
      "pygments_lexer": "ipython3",
      "version": "3.6.1"
    }
  },
  "nbformat": 4,
  "nbformat_minor": 4
}