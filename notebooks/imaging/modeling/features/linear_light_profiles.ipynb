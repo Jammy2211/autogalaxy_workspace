{
  "cells": [
    {
      "cell_type": "markdown",
      "metadata": {},
      "source": [
        "Modeling Features: Linear Light Profiles\n",
        "========================================\n",
        "\n",
        "A \"linear light profile\" is a variant of a standard light profile where the `intensity` parameter is solved for\n",
        "via linear algebra every time the model is fitted to the data. This uses a process called an \"inversion\" and it\n",
        "always computes the `intensity` values that give the best fit to the data (e.g. maximize the likelihood)\n",
        "given the light profile's other parameters.\n",
        "\n",
        "Each light profile's `intensity` parameter is therefore not a free parameter in the model-fit, reducing the\n",
        "dimensionality of non-linear parameter space by the number of light profiles (in this example by 2 dimensions).\n",
        "\n",
        "This also removes the degeneracies that occur between the `intensity` and other light profile parameters\n",
        "(e.g. `effective_radius`, `sersic_index`), which are difficult degeneracies for the non-linear search to map out\n",
        "accurately. This produces more reliable lens model results and converge in fewer iterations, speeding up the overall\n",
        "analysis.\n",
        "\n",
        "The inversion has a relatively small computational cost, thus we reduce the model complexity with much expensive and\n",
        "can therefore fit models more reliably and faster!\n",
        "\n",
        "It is therefore recommended you always use linear light profiles to fit models over standard light profiles!\n",
        "\n",
        "__Model__\n",
        "\n",
        "This script fits an `Imaging` dataset of a galaxy with a model where:\n",
        "\n",
        " - The galaxy's light is a parametric `Sersic` bulge and `Exponential` disk."
      ]
    },
    {
      "cell_type": "code",
      "metadata": {},
      "source": [
        "%matplotlib inline\n",
        "from pyprojroot import here\n",
        "workspace_path = str(here())\n",
        "%cd $workspace_path\n",
        "print(f\"Working Directory has been set to `{workspace_path}`\")\n",
        "\n",
        "from os import path\n",
        "import autofit as af\n",
        "import autogalaxy as ag\n",
        "import autogalaxy.plot as aplt"
      ],
      "outputs": [],
      "execution_count": null
    },
    {
      "cell_type": "markdown",
      "metadata": {},
      "source": [
        "__Dataset__\n",
        "\n",
        "Load and plot the galaxy dataset `simple` via .fits files, which we will fit with the model."
      ]
    },
    {
      "cell_type": "code",
      "metadata": {},
      "source": [
        "dataset_name = \"simple\"\n",
        "dataset_path = path.join(\"dataset\", \"imaging\", dataset_name)\n",
        "\n",
        "dataset = ag.Imaging.from_fits(\n",
        "    data_path=path.join(dataset_path, \"data.fits\"),\n",
        "    psf_path=path.join(dataset_path, \"psf.fits\"),\n",
        "    noise_map_path=path.join(dataset_path, \"noise_map.fits\"),\n",
        "    pixel_scales=0.1,\n",
        ")\n",
        "\n",
        "dataset_plotter = aplt.ImagingPlotter(dataset=dataset)\n",
        "dataset_plotter.subplot_dataset()"
      ],
      "outputs": [],
      "execution_count": null
    },
    {
      "cell_type": "markdown",
      "metadata": {},
      "source": [
        "__Mask__\n",
        "\n",
        "The model-fit requires a `Mask2D` defining the regions of the image we fit the model to the data, which we define\n",
        "and use to set up the `Imaging` object that the model fits."
      ]
    },
    {
      "cell_type": "code",
      "metadata": {},
      "source": [
        "mask = ag.Mask2D.circular(\n",
        "    shape_native=dataset.shape_native, pixel_scales=dataset.pixel_scales, radius=3.0\n",
        ")\n",
        "\n",
        "dataset = dataset.apply_mask(mask=mask)\n",
        "\n",
        "dataset_plotter = aplt.ImagingPlotter(dataset=dataset)\n",
        "dataset_plotter.subplot_dataset()"
      ],
      "outputs": [],
      "execution_count": null
    },
    {
      "cell_type": "markdown",
      "metadata": {},
      "source": [
        "__Model__\n",
        "\n",
        "We compose our model using `Model` objects, which represent the galaxies we fit to our data. In this \n",
        "example we fit a model where:\n",
        "\n",
        " - The galaxy's bulge is a linear parametric `Sersic` bulge [6 parameters]. \n",
        " - The galaxy's disk is a linear parametric `Exponential` disk, whose centre is aligned with the bulge [3 parameters].\n",
        " \n",
        "The number of free parameters and therefore the dimensionality of non-linear parameter space is N=9.\n",
        "\n",
        "Note how both the lens and source galaxies use linear light profiles, meaning that the `intensity` parameter of both\n",
        "is not longer a free parameter in the fit.\n",
        "\n",
        "__Coordinates__\n",
        "\n",
        "**PyAutoGalaxy** assumes that the galaxy centre is near the coordinates (0.0\", 0.0\"). \n",
        "\n",
        "If for your dataset the galaxy is not centred at (0.0\", 0.0\"), we recommend that you either: \n",
        "\n",
        " - Reduce your data so that the centre is (`autogalaxy_workspace/*/preprocess`). \n",
        " - Manually override the model priors (`autogalaxy_workspace/*/imaging/modeling/customize/priors.py`)."
      ]
    },
    {
      "cell_type": "code",
      "metadata": {},
      "source": [
        "bulge = af.Model(ag.lp_linear.Sersic)\n",
        "disk = af.Model(ag.lp_linear.Exponential)\n",
        "bulge.centre = disk.centre\n",
        "\n",
        "galaxy = af.Model(ag.Galaxy, redshift=0.5, bulge=bulge, disk=disk)\n",
        "\n",
        "model = af.Collection(galaxies=af.Collection(galaxy=galaxy))"
      ],
      "outputs": [],
      "execution_count": null
    },
    {
      "cell_type": "markdown",
      "metadata": {},
      "source": [
        "The `info` attribute shows the model in a readable format.\n",
        "\n",
        "[The `info` below may not display optimally on your computer screen, for example the whitespace between parameter\n",
        "names on the left and parameter priors on the right may lead them to appear across multiple lines. This is a\n",
        "common issue in Jupyter notebooks.\n",
        "\n",
        "The`info_whitespace_length` parameter in the file `config/generag.yaml` in the [output] section can be changed to \n",
        "increase or decrease the amount of whitespace (The Jupyter notebook kernel will need to be reset for this change to \n",
        "appear in a notebook).]"
      ]
    },
    {
      "cell_type": "code",
      "metadata": {},
      "source": [
        "print(model.info)"
      ],
      "outputs": [],
      "execution_count": null
    },
    {
      "cell_type": "markdown",
      "metadata": {},
      "source": [
        "__Search__\n",
        "\n",
        "The model is fitted to the data using a non-linear search. In this example, we use the nested sampling algorithm \n",
        "Nautilus (https://nautilus.readthedocs.io/en/latest/). We make the following changes to the Nautilus settings:\n",
        "\n",
        " - Increase the number of live points, `n_live`, from the default value of 50 to 100. `n_live`\n",
        " \n",
        "These changes are motivated by the higher dimensionality non-linear parameter space that including the galaxy light \n",
        "creates, which requires more thorough sampling by the non-linear search.\n",
        "\n",
        "The folders: \n",
        "\n",
        " - `autogalaxy_workspace/*/imaging/modeling/searches`.\n",
        " - `autogalaxy_workspace/*/imaging/modeling/customize`\n",
        "  \n",
        "Give overviews of the non-linear searches **PyAutoGalaxy** supports and more details on how to customize the\n",
        "model-fit, including the priors on the model. \n",
        "\n",
        "If you are unclear of what a non-linear search is, checkout chapter 2 of the **HowToGalaxy** lectures.\n",
        "\n",
        "The `name` and `path_prefix` below specify the path where results ae stored in the output folder:  \n",
        "\n",
        " `/autogalaxy_workspace/output/imaging/simple__sersic/mass[sie]/unique_identifier`.\n",
        "\n",
        "__Unique Identifier__\n",
        "\n",
        "In the path above, the `unique_identifier` appears as a collection of characters, where this identifier is generated \n",
        "based on the model, search and dataset that are used in the fit.\n",
        " \n",
        "An identical combination of model and search generates the same identifier, meaning that rerunning the script will use \n",
        "the existing results to resume the model-fit. In contrast, if you change the model or search, a new unique identifier \n",
        "will be generated, ensuring that the model-fit results are output into a separate folder.\n",
        "\n",
        "We additionally want the unique identifier to be specific to the dataset fitted, so that if we fit different datasets\n",
        "with the same model and search results are output to a different folder. We achieve this below by passing \n",
        "the `dataset_name` to the search's `unique_tag`.\n",
        "\n",
        "__Number Of Cores__\n",
        "\n",
        "We include an input `number_of_cores`, which when above 1 means that Nautilus uses parallel processing to sample multiple \n",
        "models at once on your CPU. When `number_of_cores=2` the search will run roughly two times as\n",
        "fast, for `number_of_cores=3` three times as fast, and so on. The downside is more cores on your CPU will be in-use\n",
        "which may hurt the general performance of your computer.\n",
        "\n",
        "You should experiment to figure out the highest value which does not give a noticeable loss in performance of your \n",
        "computer. If you know that your processor is a quad-core processor you should be able to use `number_of_cores=4`. \n",
        "\n",
        "Above `number_of_cores=4` the speed-up from parallelization diminishes greatly. We therefore recommend you do not\n",
        "use a value above this.\n",
        "\n",
        "For users on a Windows Operating system, using `number_of_cores>1` may lead to an error, in which case it should be \n",
        "reduced back to 1 to fix it."
      ]
    },
    {
      "cell_type": "code",
      "metadata": {},
      "source": [
        "search = af.Nautilus(\n",
        "    path_prefix=path.join(\"imaging\", \"modeling\"),\n",
        "    name=\"light[bulge_disk_linear]\",\n",
        "    unique_tag=dataset_name,\n",
        "    n_live=150,\n",
        "    number_of_cores=1,\n",
        ")"
      ],
      "outputs": [],
      "execution_count": null
    },
    {
      "cell_type": "markdown",
      "metadata": {},
      "source": [
        "__Analysis__\n",
        "\n",
        "The `AnalysisImaging` object defines the `log_likelihood_function` used by the non-linear search to fit the model to \n",
        "the `Imaging` dataset."
      ]
    },
    {
      "cell_type": "code",
      "metadata": {},
      "source": [
        "analysis = ag.AnalysisImaging(\n",
        "    dataset=dataset, settings_inversion=ag.SettingsInversion(use_w_tilde=False)\n",
        ")"
      ],
      "outputs": [],
      "execution_count": null
    },
    {
      "cell_type": "markdown",
      "metadata": {},
      "source": [
        "__Model-Fit__\n",
        "\n",
        "We can now begin the model-fit by passing the model and analysis object to the search, which performs a non-linear\n",
        "search to find which models fit the data with the highest likelihood.\n",
        "\n",
        "Checkout the output folder for live outputs of the results of the fit, including on-the-fly visualization of the best \n",
        "fit model!"
      ]
    },
    {
      "cell_type": "code",
      "metadata": {},
      "source": [
        "result = search.fit(model=model, analysis=analysis)"
      ],
      "outputs": [],
      "execution_count": null
    },
    {
      "cell_type": "markdown",
      "metadata": {},
      "source": [
        "__Result__\n",
        "\n",
        "The search returns a result object, which whose `info` attribute shows the result in a readable format.\n",
        "\n",
        "[Above, we discussed that the `info_whitespace_length` parameter in the config files could b changed to make \n",
        "the `model.info` attribute display optimally on your computer. This attribute also controls the whitespace of the\n",
        "`result.info` attribute.]"
      ]
    },
    {
      "cell_type": "code",
      "metadata": {},
      "source": [
        "print(result.info)"
      ],
      "outputs": [],
      "execution_count": null
    },
    {
      "cell_type": "markdown",
      "metadata": {},
      "source": [
        "The `Result` object also contains:\n",
        "\n",
        " - The model corresponding to the maximum log likelihood solution in parameter space.\n",
        " - The corresponding maximum log likelihood `Plane` and `FitImaging` objects.\n",
        " - Information on the posterior as estimated by the `Nautilus` non-linear search. "
      ]
    },
    {
      "cell_type": "code",
      "metadata": {},
      "source": [
        "print(result.max_log_likelihood_instance)\n",
        "\n",
        "plane_plotter = aplt.PlanePlotter(\n",
        "    plane=result.max_log_likelihood_plane, grid=result.grid\n",
        ")\n",
        "plane_plotter.subplot()\n",
        "\n",
        "fit_plotter = aplt.FitImagingPlotter(fit=result.max_log_likelihood_fit)\n",
        "fit_plotter.subplot_fit()\n",
        "\n",
        "search_plotter = aplt.NautilusPlotter(samples=result.samples)\n",
        "search_plotter.cornerplot()"
      ],
      "outputs": [],
      "execution_count": null
    },
    {
      "cell_type": "markdown",
      "metadata": {},
      "source": [
        "The intensities of linear light profiles are not a part of the model parameterization. They therefore cannot be\n",
        "accessed in the resulting galaxies, as seen in previous tutorials, for example:\n",
        "\n",
        "`plane = result.max_log_likelihood_plane`\n",
        "`intensity = plane.galaxies[0].bulge.intensity`\n",
        "\n",
        "The intensities are also only computed once a fit is performed, as they must first be solved for via linear algebra. \n",
        "They are therefore accessible via the `Fit` and `Inversion` objects, for example as a dictionary mapping every\n",
        "linear light profile (defined above) to the intensity values:"
      ]
    },
    {
      "cell_type": "code",
      "metadata": {},
      "source": [
        "fit = result_linear_light_profile.max_log_likelihood_fit\n",
        "\n",
        "print(fit.linear_light_profile_intensity_dict)"
      ],
      "outputs": [],
      "execution_count": null
    },
    {
      "cell_type": "markdown",
      "metadata": {},
      "source": [
        "To extract the `intensity` values of a specific component in the model, we use that component as defined in the\n",
        "`max_log_likelihood_plane`."
      ]
    },
    {
      "cell_type": "code",
      "metadata": {},
      "source": [
        "plane = fit.plane\n",
        "\n",
        "bulge = plane.galaxies[0].bulge\n",
        "disk = plane.galaxies[0].disk\n",
        "\n",
        "print(\n",
        "    f\"\\n Intensity of bulge (lp_linear.Sersic) = {fit.linear_light_profile_intensity_dict[bulge]}\"\n",
        ")\n",
        "print(\n",
        "    f\"\\n Intensity of disk (lp_linear.Exponential) = {fit.linear_light_profile_intensity_dict[disk]}\"\n",
        ")"
      ],
      "outputs": [],
      "execution_count": null
    },
    {
      "cell_type": "markdown",
      "metadata": {},
      "source": [
        "A `Plane` where all linear light profile objects are replaced with ordinary light profiles using the solved \n",
        "for `intensity` values is also accessible.\n",
        "\n",
        "For example, the linear light profile `Sersic` of the `bulge` component above has a solved for `intensity` of ~0.75. \n",
        "\n",
        "The `Plane` created below instead has an ordinary light profile with an `intensity` of ~0.75."
      ]
    },
    {
      "cell_type": "code",
      "metadata": {},
      "source": [
        "plane = fit.model_obj_linear_light_profiles_to_light_profiles\n",
        "\n",
        "print(\n",
        "    f\"Intensity via Plane With Ordinary Light Profiles = {plane.galaxies[0].bulge.intensity}\"\n",
        ")"
      ],
      "outputs": [],
      "execution_count": null
    },
    {
      "cell_type": "markdown",
      "metadata": {},
      "source": [
        "__Visualization__\n",
        "\n",
        "Linear light profiles and objects containing them (e.g. galaxies, a plane) cannot be plotted because they do not \n",
        "have an `intensity` value.\n",
        "\n",
        "Therefore, the object created above which replaces all linear light profiles with ordinary light profiles must be\n",
        "used for visualization:"
      ]
    },
    {
      "cell_type": "code",
      "metadata": {},
      "source": [
        "plane = fit.model_obj_linear_light_profiles_to_light_profiles\n",
        "plane_plotter = aplt.PlanePlotter(plane=plane, grid=dataset.grid)\n",
        "plane_plotter.figures_2d(image=True)\n",
        "\n",
        "galaxy_plotter = aplt.GalaxyPlotter(galaxy=plane.galaxies[0], grid=dataset.grid)\n",
        "galaxy_plotter.figures_2d(image=True)"
      ],
      "outputs": [],
      "execution_count": null
    },
    {
      "cell_type": "markdown",
      "metadata": {},
      "source": [
        "Checkout `autogalaxy_workspace/*/imaging/modeling/results.py` for a full description of the result object."
      ]
    },
    {
      "cell_type": "code",
      "metadata": {},
      "source": [],
      "outputs": [],
      "execution_count": null
    }
  ],
  "metadata": {
    "anaconda-cloud": {},
    "kernelspec": {
      "display_name": "Python 3",
      "language": "python",
      "name": "python3"
    },
    "language_info": {
      "codemirror_mode": {
        "name": "ipython",
        "version": 3
      },
      "file_extension": ".py",
      "mimetype": "text/x-python",
      "name": "python",
      "nbconvert_exporter": "python",
      "pygments_lexer": "ipython3",
      "version": "3.6.1"
    }
  },
  "nbformat": 4,
  "nbformat_minor": 4
}